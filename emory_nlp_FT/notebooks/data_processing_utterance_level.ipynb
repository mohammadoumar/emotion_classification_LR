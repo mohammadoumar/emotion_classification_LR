{
 "cells": [
  {
   "cell_type": "markdown",
   "id": "b20aa00d-c84a-4970-bc99-ffd9f8ed9776",
   "metadata": {},
   "source": [
    "# Dataset prepration for Emory NLP Fine-tune"
   ]
  },
  {
   "cell_type": "code",
   "execution_count": 1,
   "id": "640868d0-4cf7-4fb0-bfb3-3ed663372d48",
   "metadata": {},
   "outputs": [],
   "source": [
    "import os\n",
    "import glob\n",
    "import json\n",
    "import random\n",
    "from pathlib import Path\n",
    "import pandas as pd # type: ignore"
   ]
  },
  {
   "cell_type": "markdown",
   "id": "24a0bc00",
   "metadata": {},
   "source": [
    "### Read data files"
   ]
  },
  {
   "cell_type": "code",
   "execution_count": 2,
   "id": "7f0c44be-8571-45e5-a85e-808d4990a707",
   "metadata": {},
   "outputs": [],
   "source": [
    "df_train = pd.read_csv(\"/Utilisateurs/umushtaq/emotion_analysis_comics/emory_nlp_FT/data_files/emorynlp_train_final.csv\")\n",
    "df_test = pd.read_csv(\"/Utilisateurs/umushtaq/emotion_analysis_comics/emory_nlp_FT/data_files/emorynlp_test_final.csv\")\n",
    "df_dev = pd.read_csv(\"/Utilisateurs/umushtaq/emotion_analysis_comics/emory_nlp_FT/data_files/emorynlp_dev_final.csv\")"
   ]
  },
  {
   "cell_type": "code",
   "execution_count": 5,
   "id": "dcf9f155-8e66-4a51-ae38-d0dd5f58006b",
   "metadata": {},
   "outputs": [
    {
     "data": {
      "text/html": [
       "<div>\n",
       "<style scoped>\n",
       "    .dataframe tbody tr th:only-of-type {\n",
       "        vertical-align: middle;\n",
       "    }\n",
       "\n",
       "    .dataframe tbody tr th {\n",
       "        vertical-align: top;\n",
       "    }\n",
       "\n",
       "    .dataframe thead th {\n",
       "        text-align: right;\n",
       "    }\n",
       "</style>\n",
       "<table border=\"1\" class=\"dataframe\">\n",
       "  <thead>\n",
       "    <tr style=\"text-align: right;\">\n",
       "      <th></th>\n",
       "      <th>Utterance</th>\n",
       "      <th>Speaker</th>\n",
       "      <th>Emotion</th>\n",
       "      <th>Scene_ID</th>\n",
       "      <th>Utterance_ID</th>\n",
       "      <th>Season</th>\n",
       "      <th>Episode</th>\n",
       "      <th>Start_Time</th>\n",
       "      <th>End_Time</th>\n",
       "    </tr>\n",
       "  </thead>\n",
       "  <tbody>\n",
       "    <tr>\n",
       "      <th>0</th>\n",
       "      <td>What you guys don't understand is, for us, kis...</td>\n",
       "      <td>['Monica Geller']</td>\n",
       "      <td>Joyful</td>\n",
       "      <td>1</td>\n",
       "      <td>1</td>\n",
       "      <td>1</td>\n",
       "      <td>2</td>\n",
       "      <td>00:00:02.877</td>\n",
       "      <td>00:00:07.548</td>\n",
       "    </tr>\n",
       "    <tr>\n",
       "      <th>1</th>\n",
       "      <td>Yeah, right!.......Y'serious?</td>\n",
       "      <td>['Joey Tribbiani']</td>\n",
       "      <td>Neutral</td>\n",
       "      <td>1</td>\n",
       "      <td>2</td>\n",
       "      <td>1</td>\n",
       "      <td>2</td>\n",
       "      <td>00:00:04.504</td>\n",
       "      <td>00:00:07.548</td>\n",
       "    </tr>\n",
       "    <tr>\n",
       "      <th>2</th>\n",
       "      <td>Oh, yeah!</td>\n",
       "      <td>['Phoebe Buffay']</td>\n",
       "      <td>Joyful</td>\n",
       "      <td>1</td>\n",
       "      <td>3</td>\n",
       "      <td>1</td>\n",
       "      <td>2</td>\n",
       "      <td>00:00:07.924</td>\n",
       "      <td>00:00:09.508</td>\n",
       "    </tr>\n",
       "    <tr>\n",
       "      <th>3</th>\n",
       "      <td>Everything you need to know is in that first k...</td>\n",
       "      <td>['Rachel Green']</td>\n",
       "      <td>Powerful</td>\n",
       "      <td>1</td>\n",
       "      <td>4</td>\n",
       "      <td>1</td>\n",
       "      <td>2</td>\n",
       "      <td>00:00:11.970</td>\n",
       "      <td>00:00:17.683</td>\n",
       "    </tr>\n",
       "    <tr>\n",
       "      <th>4</th>\n",
       "      <td>Absolutely.</td>\n",
       "      <td>['Monica Geller']</td>\n",
       "      <td>Powerful</td>\n",
       "      <td>1</td>\n",
       "      <td>5</td>\n",
       "      <td>1</td>\n",
       "      <td>2</td>\n",
       "      <td>00:00:14.139</td>\n",
       "      <td>00:00:15.097</td>\n",
       "    </tr>\n",
       "    <tr>\n",
       "      <th>...</th>\n",
       "      <td>...</td>\n",
       "      <td>...</td>\n",
       "      <td>...</td>\n",
       "      <td>...</td>\n",
       "      <td>...</td>\n",
       "      <td>...</td>\n",
       "      <td>...</td>\n",
       "      <td>...</td>\n",
       "      <td>...</td>\n",
       "    </tr>\n",
       "    <tr>\n",
       "      <th>7546</th>\n",
       "      <td>Fuggetaboutit. How you doin?</td>\n",
       "      <td>['Joey Tribbiani']</td>\n",
       "      <td>Peaceful</td>\n",
       "      <td>17</td>\n",
       "      <td>7</td>\n",
       "      <td>4</td>\n",
       "      <td>24</td>\n",
       "      <td>00:21:13.313</td>\n",
       "      <td>00:21:17.650</td>\n",
       "    </tr>\n",
       "    <tr>\n",
       "      <th>7547</th>\n",
       "      <td>Mmm.</td>\n",
       "      <td>['Felicity']</td>\n",
       "      <td>Peaceful</td>\n",
       "      <td>17</td>\n",
       "      <td>8</td>\n",
       "      <td>4</td>\n",
       "      <td>24</td>\n",
       "      <td>00:21:16.108</td>\n",
       "      <td>00:21:17.650</td>\n",
       "    </tr>\n",
       "    <tr>\n",
       "      <th>7548</th>\n",
       "      <td>Oh, yeah.</td>\n",
       "      <td>['Joey Tribbiani']</td>\n",
       "      <td>Peaceful</td>\n",
       "      <td>17</td>\n",
       "      <td>9</td>\n",
       "      <td>4</td>\n",
       "      <td>24</td>\n",
       "      <td>00:21:20.404</td>\n",
       "      <td>00:21:24.573</td>\n",
       "    </tr>\n",
       "    <tr>\n",
       "      <th>7549</th>\n",
       "      <td>Dad!!</td>\n",
       "      <td>['Ross Geller']</td>\n",
       "      <td>Scared</td>\n",
       "      <td>17</td>\n",
       "      <td>14</td>\n",
       "      <td>4</td>\n",
       "      <td>24</td>\n",
       "      <td>00:21:22.614</td>\n",
       "      <td>00:21:24.573</td>\n",
       "    </tr>\n",
       "    <tr>\n",
       "      <th>7550</th>\n",
       "      <td>What-what's going on?!</td>\n",
       "      <td>['Emily Waltham']</td>\n",
       "      <td>Scared</td>\n",
       "      <td>17</td>\n",
       "      <td>15</td>\n",
       "      <td>4</td>\n",
       "      <td>24</td>\n",
       "      <td>00:22:08.535</td>\n",
       "      <td>00:22:10.536</td>\n",
       "    </tr>\n",
       "  </tbody>\n",
       "</table>\n",
       "<p>7551 rows × 9 columns</p>\n",
       "</div>"
      ],
      "text/plain": [
       "                                              Utterance             Speaker  \\\n",
       "0     What you guys don't understand is, for us, kis...   ['Monica Geller']   \n",
       "1                         Yeah, right!.......Y'serious?  ['Joey Tribbiani']   \n",
       "2                                             Oh, yeah!   ['Phoebe Buffay']   \n",
       "3     Everything you need to know is in that first k...    ['Rachel Green']   \n",
       "4                                           Absolutely.   ['Monica Geller']   \n",
       "...                                                 ...                 ...   \n",
       "7546                       Fuggetaboutit. How you doin?  ['Joey Tribbiani']   \n",
       "7547                                               Mmm.        ['Felicity']   \n",
       "7548                                          Oh, yeah.  ['Joey Tribbiani']   \n",
       "7549                                              Dad!!     ['Ross Geller']   \n",
       "7550                             What-what's going on?!   ['Emily Waltham']   \n",
       "\n",
       "       Emotion  Scene_ID  Utterance_ID  Season  Episode    Start_Time  \\\n",
       "0       Joyful         1             1       1        2  00:00:02.877   \n",
       "1      Neutral         1             2       1        2  00:00:04.504   \n",
       "2       Joyful         1             3       1        2  00:00:07.924   \n",
       "3     Powerful         1             4       1        2  00:00:11.970   \n",
       "4     Powerful         1             5       1        2  00:00:14.139   \n",
       "...        ...       ...           ...     ...      ...           ...   \n",
       "7546  Peaceful        17             7       4       24  00:21:13.313   \n",
       "7547  Peaceful        17             8       4       24  00:21:16.108   \n",
       "7548  Peaceful        17             9       4       24  00:21:20.404   \n",
       "7549    Scared        17            14       4       24  00:21:22.614   \n",
       "7550    Scared        17            15       4       24  00:22:08.535   \n",
       "\n",
       "          End_Time  \n",
       "0     00:00:07.548  \n",
       "1     00:00:07.548  \n",
       "2     00:00:09.508  \n",
       "3     00:00:17.683  \n",
       "4     00:00:15.097  \n",
       "...            ...  \n",
       "7546  00:21:17.650  \n",
       "7547  00:21:17.650  \n",
       "7548  00:21:24.573  \n",
       "7549  00:21:24.573  \n",
       "7550  00:22:10.536  \n",
       "\n",
       "[7551 rows x 9 columns]"
      ]
     },
     "execution_count": 5,
     "metadata": {},
     "output_type": "execute_result"
    }
   ],
   "source": [
    "df_train"
   ]
  },
  {
   "cell_type": "code",
   "execution_count": 6,
   "id": "e3d0ad38-7fc1-494b-b194-26dda0dfc415",
   "metadata": {},
   "outputs": [
    {
     "data": {
      "text/plain": [
       "Emotion\n",
       "Neutral     2485\n",
       "Joyful      1677\n",
       "Scared       941\n",
       "Mad          785\n",
       "Peaceful     638\n",
       "Powerful     551\n",
       "Sad          474\n",
       "Name: count, dtype: int64"
      ]
     },
     "execution_count": 6,
     "metadata": {},
     "output_type": "execute_result"
    }
   ],
   "source": [
    "df_train.Emotion.value_counts()"
   ]
  },
  {
   "cell_type": "code",
   "execution_count": 7,
   "id": "a3ed76e1",
   "metadata": {},
   "outputs": [
    {
     "data": {
      "text/plain": [
       "Index(['Utterance', 'Speaker', 'Emotion', 'Scene_ID', 'Utterance_ID', 'Season',\n",
       "       'Episode', 'Start_Time', 'End_Time'],\n",
       "      dtype='object')"
      ]
     },
     "execution_count": 7,
     "metadata": {},
     "output_type": "execute_result"
    }
   ],
   "source": [
    "df_train.columns"
   ]
  },
  {
   "cell_type": "code",
   "execution_count": 9,
   "id": "8a86f4a8",
   "metadata": {},
   "outputs": [
    {
     "data": {
      "text/html": [
       "<div>\n",
       "<style scoped>\n",
       "    .dataframe tbody tr th:only-of-type {\n",
       "        vertical-align: middle;\n",
       "    }\n",
       "\n",
       "    .dataframe tbody tr th {\n",
       "        vertical-align: top;\n",
       "    }\n",
       "\n",
       "    .dataframe thead th {\n",
       "        text-align: right;\n",
       "    }\n",
       "</style>\n",
       "<table border=\"1\" class=\"dataframe\">\n",
       "  <thead>\n",
       "    <tr style=\"text-align: right;\">\n",
       "      <th></th>\n",
       "      <th>Utterance</th>\n",
       "      <th>Speaker</th>\n",
       "      <th>Emotion</th>\n",
       "      <th>Scene_ID</th>\n",
       "      <th>Utterance_ID</th>\n",
       "      <th>Season</th>\n",
       "      <th>Episode</th>\n",
       "      <th>Start_Time</th>\n",
       "      <th>End_Time</th>\n",
       "    </tr>\n",
       "  </thead>\n",
       "  <tbody>\n",
       "    <tr>\n",
       "      <th>0</th>\n",
       "      <td>What you guys don't understand is, for us, kis...</td>\n",
       "      <td>['Monica Geller']</td>\n",
       "      <td>Joyful</td>\n",
       "      <td>1</td>\n",
       "      <td>1</td>\n",
       "      <td>1</td>\n",
       "      <td>2</td>\n",
       "      <td>00:00:02.877</td>\n",
       "      <td>00:00:07.548</td>\n",
       "    </tr>\n",
       "    <tr>\n",
       "      <th>1</th>\n",
       "      <td>Yeah, right!.......Y'serious?</td>\n",
       "      <td>['Joey Tribbiani']</td>\n",
       "      <td>Neutral</td>\n",
       "      <td>1</td>\n",
       "      <td>2</td>\n",
       "      <td>1</td>\n",
       "      <td>2</td>\n",
       "      <td>00:00:04.504</td>\n",
       "      <td>00:00:07.548</td>\n",
       "    </tr>\n",
       "    <tr>\n",
       "      <th>2</th>\n",
       "      <td>Oh, yeah!</td>\n",
       "      <td>['Phoebe Buffay']</td>\n",
       "      <td>Joyful</td>\n",
       "      <td>1</td>\n",
       "      <td>3</td>\n",
       "      <td>1</td>\n",
       "      <td>2</td>\n",
       "      <td>00:00:07.924</td>\n",
       "      <td>00:00:09.508</td>\n",
       "    </tr>\n",
       "    <tr>\n",
       "      <th>3</th>\n",
       "      <td>Everything you need to know is in that first k...</td>\n",
       "      <td>['Rachel Green']</td>\n",
       "      <td>Powerful</td>\n",
       "      <td>1</td>\n",
       "      <td>4</td>\n",
       "      <td>1</td>\n",
       "      <td>2</td>\n",
       "      <td>00:00:11.970</td>\n",
       "      <td>00:00:17.683</td>\n",
       "    </tr>\n",
       "    <tr>\n",
       "      <th>4</th>\n",
       "      <td>Absolutely.</td>\n",
       "      <td>['Monica Geller']</td>\n",
       "      <td>Powerful</td>\n",
       "      <td>1</td>\n",
       "      <td>5</td>\n",
       "      <td>1</td>\n",
       "      <td>2</td>\n",
       "      <td>00:00:14.139</td>\n",
       "      <td>00:00:15.097</td>\n",
       "    </tr>\n",
       "    <tr>\n",
       "      <th>...</th>\n",
       "      <td>...</td>\n",
       "      <td>...</td>\n",
       "      <td>...</td>\n",
       "      <td>...</td>\n",
       "      <td>...</td>\n",
       "      <td>...</td>\n",
       "      <td>...</td>\n",
       "      <td>...</td>\n",
       "      <td>...</td>\n",
       "    </tr>\n",
       "    <tr>\n",
       "      <th>120</th>\n",
       "      <td>No.</td>\n",
       "      <td>['Monica Geller']</td>\n",
       "      <td>Neutral</td>\n",
       "      <td>11</td>\n",
       "      <td>10</td>\n",
       "      <td>1</td>\n",
       "      <td>2</td>\n",
       "      <td>00:21:55.063</td>\n",
       "      <td>00:21:56.522</td>\n",
       "    </tr>\n",
       "    <tr>\n",
       "      <th>121</th>\n",
       "      <td>You are, you're welling up.</td>\n",
       "      <td>['Ross Geller']</td>\n",
       "      <td>Powerful</td>\n",
       "      <td>11</td>\n",
       "      <td>11</td>\n",
       "      <td>1</td>\n",
       "      <td>2</td>\n",
       "      <td>00:21:56.732</td>\n",
       "      <td>00:22:00.443</td>\n",
       "    </tr>\n",
       "    <tr>\n",
       "      <th>122</th>\n",
       "      <td>Am not!</td>\n",
       "      <td>['Monica Geller']</td>\n",
       "      <td>Mad</td>\n",
       "      <td>11</td>\n",
       "      <td>12</td>\n",
       "      <td>1</td>\n",
       "      <td>2</td>\n",
       "      <td>00:21:58.191</td>\n",
       "      <td>00:22:00.443</td>\n",
       "    </tr>\n",
       "    <tr>\n",
       "      <th>123</th>\n",
       "      <td>You're gonna be an aunt.</td>\n",
       "      <td>['Ross Geller']</td>\n",
       "      <td>Joyful</td>\n",
       "      <td>11</td>\n",
       "      <td>13</td>\n",
       "      <td>1</td>\n",
       "      <td>2</td>\n",
       "      <td>00:22:00.652</td>\n",
       "      <td>00:22:03.779</td>\n",
       "    </tr>\n",
       "    <tr>\n",
       "      <th>124</th>\n",
       "      <td>Oh shut up!</td>\n",
       "      <td>['Monica Geller']</td>\n",
       "      <td>Joyful</td>\n",
       "      <td>11</td>\n",
       "      <td>14</td>\n",
       "      <td>1</td>\n",
       "      <td>2</td>\n",
       "      <td>00:22:04.948</td>\n",
       "      <td>00:22:08.701</td>\n",
       "    </tr>\n",
       "  </tbody>\n",
       "</table>\n",
       "<p>125 rows × 9 columns</p>\n",
       "</div>"
      ],
      "text/plain": [
       "                                             Utterance             Speaker  \\\n",
       "0    What you guys don't understand is, for us, kis...   ['Monica Geller']   \n",
       "1                        Yeah, right!.......Y'serious?  ['Joey Tribbiani']   \n",
       "2                                            Oh, yeah!   ['Phoebe Buffay']   \n",
       "3    Everything you need to know is in that first k...    ['Rachel Green']   \n",
       "4                                          Absolutely.   ['Monica Geller']   \n",
       "..                                                 ...                 ...   \n",
       "120                                                No.   ['Monica Geller']   \n",
       "121                        You are, you're welling up.     ['Ross Geller']   \n",
       "122                                            Am not!   ['Monica Geller']   \n",
       "123                           You're gonna be an aunt.     ['Ross Geller']   \n",
       "124                                        Oh shut up!   ['Monica Geller']   \n",
       "\n",
       "      Emotion  Scene_ID  Utterance_ID  Season  Episode    Start_Time  \\\n",
       "0      Joyful         1             1       1        2  00:00:02.877   \n",
       "1     Neutral         1             2       1        2  00:00:04.504   \n",
       "2      Joyful         1             3       1        2  00:00:07.924   \n",
       "3    Powerful         1             4       1        2  00:00:11.970   \n",
       "4    Powerful         1             5       1        2  00:00:14.139   \n",
       "..        ...       ...           ...     ...      ...           ...   \n",
       "120   Neutral        11            10       1        2  00:21:55.063   \n",
       "121  Powerful        11            11       1        2  00:21:56.732   \n",
       "122       Mad        11            12       1        2  00:21:58.191   \n",
       "123    Joyful        11            13       1        2  00:22:00.652   \n",
       "124    Joyful        11            14       1        2  00:22:04.948   \n",
       "\n",
       "         End_Time  \n",
       "0    00:00:07.548  \n",
       "1    00:00:07.548  \n",
       "2    00:00:09.508  \n",
       "3    00:00:17.683  \n",
       "4    00:00:15.097  \n",
       "..            ...  \n",
       "120  00:21:56.522  \n",
       "121  00:22:00.443  \n",
       "122  00:22:00.443  \n",
       "123  00:22:03.779  \n",
       "124  00:22:08.701  \n",
       "\n",
       "[125 rows x 9 columns]"
      ]
     },
     "execution_count": 9,
     "metadata": {},
     "output_type": "execute_result"
    }
   ],
   "source": [
    "df_train[(df_train.Season == 1) & (df_train.Episode == 2)]\n"
   ]
  },
  {
   "cell_type": "markdown",
   "id": "78587a7c",
   "metadata": {},
   "source": [
    "### Paths"
   ]
  },
  {
   "cell_type": "code",
   "execution_count": 8,
   "id": "e8f654b2-a65e-4d91-8dc3-88980aaac27f",
   "metadata": {},
   "outputs": [],
   "source": [
    "current_dir = Path.cwd()\n",
    "dataset_dir = current_dir / \"emotion_analysis_comics\" / \"emory_nlp_FT\" / \"datasets\""
   ]
  },
  {
   "cell_type": "code",
   "execution_count": 9,
   "id": "123f56a4",
   "metadata": {},
   "outputs": [
    {
     "data": {
      "text/plain": [
       "PosixPath('/Utilisateurs/umushtaq/emotion_analysis_comics/emory_nlp_FT/datasets')"
      ]
     },
     "execution_count": 9,
     "metadata": {},
     "output_type": "execute_result"
    }
   ],
   "source": [
    "dataset_dir"
   ]
  },
  {
   "cell_type": "markdown",
   "id": "f6f2fa22-35d5-41aa-abf1-5a9987ee0b08",
   "metadata": {},
   "source": [
    "### Prepare prompts"
   ]
  },
  {
   "cell_type": "code",
   "execution_count": 10,
   "id": "3fd57164",
   "metadata": {},
   "outputs": [],
   "source": [
    "# Formatting Fx\n",
    "# Build questoin\n",
    "# Build answer"
   ]
  },
  {
   "cell_type": "raw",
   "id": "dd845ef4",
   "metadata": {
    "vscode": {
     "languageId": "raw"
    }
   },
   "source": [
    "Neutral     322\n",
    "Joyful      205\n",
    "Scared      127\n",
    "Mad          97\n",
    "Peaceful     82\n",
    "Powerful     70\n",
    "Sad          51"
   ]
  },
  {
   "cell_type": "code",
   "execution_count": 11,
   "id": "608f81e7",
   "metadata": {},
   "outputs": [],
   "source": [
    "def formatting_fct(instruction=\"\", input=\"\", output=\"\"):\n",
    "    \n",
    "    prompt_d ={\n",
    "            \n",
    "        \"instruction\": f\"\"\"{instruction}\"\"\",\n",
    "        \"input\": f\"\"\"{input}\"\"\",\n",
    "        \"output\": f\"\"\"{output}\"\"\"\n",
    "            \n",
    "        }\n",
    "    \n",
    "    return prompt_d"
   ]
  },
  {
   "cell_type": "code",
   "execution_count": 20,
   "id": "b107f77e",
   "metadata": {},
   "outputs": [],
   "source": [
    "def build_instruction():\n",
    "    \n",
    "    emotion_classes = [\"Mad\", \"Scared\", \"Sad\", \"Powerful\", \"Peaceful\", \"Joyful\", \"Neutral\"]\n",
    "    formatted_classes = \", \".join([f'\"{emotion}\"' for emotion in emotion_classes])\n",
    "\n",
    "    instruction = f\"\"\"### You are an expert in Emotion Analysis for the Friends TV show.\n",
    "\n",
    "You are given an utterance from a Friends episode.\n",
    "\n",
    "Your task is to classify the utterance with a single emotion class from these options: \"Mad\", \"Scared\", \"Sad\", \"Powerful\", \"Peaceful\", \"Joyful\", or \"Neutral\".\n",
    "\n",
    "Output Instructions:\n",
    "1. Return ONLY a JSON object with a single emotion class\n",
    "2. The JSON must have this exact structure: {{\"emotion_class\": \"EMOTION\"}}\n",
    "3. EMOTION must be one of the specified emotion classes\n",
    "4. Do NOT include any additional text or explanation\n",
    "5. Identify only one applicable emotions only from the following classes:\n",
    "   {formatted_classes}\n",
    "\n",
    "\"\"\"    \n",
    "\n",
    "    return instruction"
   ]
  },
  {
   "cell_type": "code",
   "execution_count": 21,
   "id": "44e9dbd9",
   "metadata": {},
   "outputs": [],
   "source": [
    "def build_tagged_text(utterance):\n",
    "\n",
    "    # tagged_utterances_l = []\n",
    "\n",
    "    # for idx, utterance in enumerate(utterances_l):\n",
    "        \n",
    "    #     start_tag = \"<UT\" + str(idx+1) + \">\"\n",
    "    #     end_tag = \"</UT\" + str(idx+1) + \">\"\n",
    "    #     tagged_utterance = start_tag + utterance + end_tag\n",
    "    #     tagged_utterances_l.append(tagged_utterance)\n",
    "        \n",
    "    # tagged_title_text = ''.join(tagged_utterances_l)\n",
    "    \n",
    "    #tagged_utterance = \"<UT>\" + utterance + \"</UT>\"\n",
    "    question = f\"\"\"\\n\\nNow classify this utterance: {utterance}\"\"\"\n",
    "\n",
    "    return question"
   ]
  },
  {
   "cell_type": "code",
   "execution_count": 22,
   "id": "b268e896",
   "metadata": {},
   "outputs": [],
   "source": [
    "# utterance_emotions_l = []\n",
    "#     emotion_class_labels = [\"Anger\", \"Disgust\", \"Fear\", \"Sadness\", \"Surprise\", \"Joy\"]\n",
    "\n",
    "#     if utterance_emotions == 'Neutral':\n",
    "        \n",
    "#         utterance_emotions_l.append([utterance_emotions])\n",
    "    \n",
    "#     else:\n",
    "#         utterance_emotions = utterance_emotions.split(\"-\")\n",
    "       \n",
    "#         #emotion_annotation_l = []\n",
    "\n",
    "#         for idx, emotion_annotation in enumerate(utterance_emotions):\n",
    "\n",
    "#             if '0' not in emotion_annotation:\n",
    "         \n",
    "#                 #emotion_annotation_l.append(emotion_class_labels[idx])\n",
    "#                 utterance_emotions_l.append(emotion_annotation[:-1])\n",
    "            \n",
    "#         #title_emotions_l.append(emotion_annotation_l)"
   ]
  },
  {
   "cell_type": "code",
   "execution_count": 23,
   "id": "539b6d76",
   "metadata": {},
   "outputs": [],
   "source": [
    "def build_answer(utterance_emotion):    \n",
    "                \n",
    "\n",
    "    return json.dumps({\"emotion_class\": [utterance_emotion]})"
   ]
  },
  {
   "cell_type": "markdown",
   "id": "fdd67b57",
   "metadata": {},
   "source": [
    "### Build Data Files"
   ]
  },
  {
   "cell_type": "code",
   "execution_count": 24,
   "id": "85fd7584",
   "metadata": {},
   "outputs": [],
   "source": [
    "#df_train = df[df.split == 'TRAIN'].reset_index()\n",
    "\n",
    "data_file_train = []\n",
    "\n",
    "for index, _ in df_train.iterrows():\n",
    "    \n",
    "    i = index\n",
    "\n",
    "    instruction = build_instruction()\n",
    "    question = build_tagged_text(df_train.iloc[i].Utterance)\n",
    "    answer = build_answer(df_train.iloc[i].Emotion)\n",
    "    \n",
    "    data_file_train.append( formatting_fct(instruction, question, answer) )"
   ]
  },
  {
   "cell_type": "code",
   "execution_count": 25,
   "id": "181fe00c",
   "metadata": {},
   "outputs": [
    {
     "data": {
      "text/plain": [
       "7551"
      ]
     },
     "execution_count": 25,
     "metadata": {},
     "output_type": "execute_result"
    }
   ],
   "source": [
    "len(data_file_train)"
   ]
  },
  {
   "cell_type": "code",
   "execution_count": 28,
   "id": "f7a42377",
   "metadata": {},
   "outputs": [
    {
     "name": "stdout",
     "output_type": "stream",
     "text": [
      "{'instruction': '### You are an expert in Emotion Analysis for the Friends TV show.\\n\\nYou are given an utterance from a Friends episode.\\n\\nYour task is to classify the utterance with a single emotion class from these options: \"Mad\", \"Scared\", \"Sad\", \"Powerful\", \"Peaceful\", \"Joyful\", or \"Neutral\".\\n\\nOutput Instructions:\\n1. Return ONLY a JSON object with a single emotion class\\n2. The JSON must have this exact structure: {\"emotion_class\": \"EMOTION\"}\\n3. EMOTION must be one of the specified emotion classes\\n4. Do NOT include any additional text or explanation\\n5. Identify only one applicable emotions only from the following classes:\\n   \"Mad\", \"Scared\", \"Sad\", \"Powerful\", \"Peaceful\", \"Joyful\", \"Neutral\"\\n\\n', 'input': \"\\n\\nNow classify this utterance: What you guys don't understand is, for us, kissing is as important as any part of it.\", 'output': '{\"emotion_class\": [\"Joyful\"]}'}\n",
      "{'instruction': '### You are an expert in Emotion Analysis for the Friends TV show.\\n\\nYou are given an utterance from a Friends episode.\\n\\nYour task is to classify the utterance with a single emotion class from these options: \"Mad\", \"Scared\", \"Sad\", \"Powerful\", \"Peaceful\", \"Joyful\", or \"Neutral\".\\n\\nOutput Instructions:\\n1. Return ONLY a JSON object with a single emotion class\\n2. The JSON must have this exact structure: {\"emotion_class\": \"EMOTION\"}\\n3. EMOTION must be one of the specified emotion classes\\n4. Do NOT include any additional text or explanation\\n5. Identify only one applicable emotions only from the following classes:\\n   \"Mad\", \"Scared\", \"Sad\", \"Powerful\", \"Peaceful\", \"Joyful\", \"Neutral\"\\n\\n', 'input': \"\\n\\nNow classify this utterance: Yeah, right!.......Y'serious?\", 'output': '{\"emotion_class\": [\"Neutral\"]}'}\n",
      "{'instruction': '### You are an expert in Emotion Analysis for the Friends TV show.\\n\\nYou are given an utterance from a Friends episode.\\n\\nYour task is to classify the utterance with a single emotion class from these options: \"Mad\", \"Scared\", \"Sad\", \"Powerful\", \"Peaceful\", \"Joyful\", or \"Neutral\".\\n\\nOutput Instructions:\\n1. Return ONLY a JSON object with a single emotion class\\n2. The JSON must have this exact structure: {\"emotion_class\": \"EMOTION\"}\\n3. EMOTION must be one of the specified emotion classes\\n4. Do NOT include any additional text or explanation\\n5. Identify only one applicable emotions only from the following classes:\\n   \"Mad\", \"Scared\", \"Sad\", \"Powerful\", \"Peaceful\", \"Joyful\", \"Neutral\"\\n\\n', 'input': '\\n\\nNow classify this utterance: Oh, yeah!', 'output': '{\"emotion_class\": [\"Joyful\"]}'}\n",
      "{'instruction': '### You are an expert in Emotion Analysis for the Friends TV show.\\n\\nYou are given an utterance from a Friends episode.\\n\\nYour task is to classify the utterance with a single emotion class from these options: \"Mad\", \"Scared\", \"Sad\", \"Powerful\", \"Peaceful\", \"Joyful\", or \"Neutral\".\\n\\nOutput Instructions:\\n1. Return ONLY a JSON object with a single emotion class\\n2. The JSON must have this exact structure: {\"emotion_class\": \"EMOTION\"}\\n3. EMOTION must be one of the specified emotion classes\\n4. Do NOT include any additional text or explanation\\n5. Identify only one applicable emotions only from the following classes:\\n   \"Mad\", \"Scared\", \"Sad\", \"Powerful\", \"Peaceful\", \"Joyful\", \"Neutral\"\\n\\n', 'input': '\\n\\nNow classify this utterance: Everything you need to know is in that first kiss.', 'output': '{\"emotion_class\": [\"Powerful\"]}'}\n",
      "{'instruction': '### You are an expert in Emotion Analysis for the Friends TV show.\\n\\nYou are given an utterance from a Friends episode.\\n\\nYour task is to classify the utterance with a single emotion class from these options: \"Mad\", \"Scared\", \"Sad\", \"Powerful\", \"Peaceful\", \"Joyful\", or \"Neutral\".\\n\\nOutput Instructions:\\n1. Return ONLY a JSON object with a single emotion class\\n2. The JSON must have this exact structure: {\"emotion_class\": \"EMOTION\"}\\n3. EMOTION must be one of the specified emotion classes\\n4. Do NOT include any additional text or explanation\\n5. Identify only one applicable emotions only from the following classes:\\n   \"Mad\", \"Scared\", \"Sad\", \"Powerful\", \"Peaceful\", \"Joyful\", \"Neutral\"\\n\\n', 'input': '\\n\\nNow classify this utterance: Absolutely.', 'output': '{\"emotion_class\": [\"Powerful\"]}'}\n"
     ]
    }
   ],
   "source": [
    "for i in range(5):\n",
    "    print(data_file_train[i])"
   ]
  },
  {
   "cell_type": "code",
   "execution_count": 29,
   "id": "91becc82",
   "metadata": {},
   "outputs": [],
   "source": [
    "#df_test = df[df.split == 'TEST'].reset_index()\n",
    "\n",
    "data_file_test = []\n",
    "\n",
    "for index, _ in df_test.iterrows():\n",
    "    \n",
    "    i = index\n",
    "\n",
    "    instruction = build_instruction()\n",
    "    question = build_tagged_text(df_test.iloc[i].Utterance)\n",
    "    answer = build_answer(df_test.iloc[i].Emotion)\n",
    "    \n",
    "    data_file_test.append( formatting_fct(instruction, question, answer) )"
   ]
  },
  {
   "cell_type": "code",
   "execution_count": 30,
   "id": "96669b4f-b279-48ba-8b9b-d04f91d49c67",
   "metadata": {},
   "outputs": [
    {
     "data": {
      "text/plain": [
       "984"
      ]
     },
     "execution_count": 30,
     "metadata": {},
     "output_type": "execute_result"
    }
   ],
   "source": [
    "len(data_file_test)"
   ]
  },
  {
   "cell_type": "code",
   "execution_count": 31,
   "id": "6e2c531d-d86d-4289-8f3d-d00fd56d0051",
   "metadata": {},
   "outputs": [
    {
     "name": "stdout",
     "output_type": "stream",
     "text": [
      "{'instruction': '### You are an expert in Emotion Analysis for the Friends TV show.\\n\\nYou are given an utterance from a Friends episode.\\n\\nYour task is to classify the utterance with a single emotion class from these options: \"Mad\", \"Scared\", \"Sad\", \"Powerful\", \"Peaceful\", \"Joyful\", or \"Neutral\".\\n\\nOutput Instructions:\\n1. Return ONLY a JSON object with a single emotion class\\n2. The JSON must have this exact structure: {\"emotion_class\": \"EMOTION\"}\\n3. EMOTION must be one of the specified emotion classes\\n4. Do NOT include any additional text or explanation\\n5. Identify only one applicable emotions only from the following classes:\\n   \"Mad\", \"Scared\", \"Sad\", \"Powerful\", \"Peaceful\", \"Joyful\", \"Neutral\"\\n\\n', 'input': \"\\n\\nNow classify this utterance: I'm supposed to attach a brackety thing to the side things, using a bunch of these little worm guys. I have no brackety thing, I see no whim guys whatsoever and- I cannot feel my legs.\", 'output': '{\"emotion_class\": [\"Mad\"]}'}\n",
      "{'instruction': '### You are an expert in Emotion Analysis for the Friends TV show.\\n\\nYou are given an utterance from a Friends episode.\\n\\nYour task is to classify the utterance with a single emotion class from these options: \"Mad\", \"Scared\", \"Sad\", \"Powerful\", \"Peaceful\", \"Joyful\", or \"Neutral\".\\n\\nOutput Instructions:\\n1. Return ONLY a JSON object with a single emotion class\\n2. The JSON must have this exact structure: {\"emotion_class\": \"EMOTION\"}\\n3. EMOTION must be one of the specified emotion classes\\n4. Do NOT include any additional text or explanation\\n5. Identify only one applicable emotions only from the following classes:\\n   \"Mad\", \"Scared\", \"Sad\", \"Powerful\", \"Peaceful\", \"Joyful\", \"Neutral\"\\n\\n', 'input': \"\\n\\nNow classify this utterance: I'm thinking we've got a bookcase here.\", 'output': '{\"emotion_class\": [\"Neutral\"]}'}\n",
      "{'instruction': '### You are an expert in Emotion Analysis for the Friends TV show.\\n\\nYou are given an utterance from a Friends episode.\\n\\nYour task is to classify the utterance with a single emotion class from these options: \"Mad\", \"Scared\", \"Sad\", \"Powerful\", \"Peaceful\", \"Joyful\", or \"Neutral\".\\n\\nOutput Instructions:\\n1. Return ONLY a JSON object with a single emotion class\\n2. The JSON must have this exact structure: {\"emotion_class\": \"EMOTION\"}\\n3. EMOTION must be one of the specified emotion classes\\n4. Do NOT include any additional text or explanation\\n5. Identify only one applicable emotions only from the following classes:\\n   \"Mad\", \"Scared\", \"Sad\", \"Powerful\", \"Peaceful\", \"Joyful\", \"Neutral\"\\n\\n', 'input': \"\\n\\nNow classify this utterance: It's a beautiful thing.\", 'output': '{\"emotion_class\": [\"Joyful\"]}'}\n",
      "{'instruction': '### You are an expert in Emotion Analysis for the Friends TV show.\\n\\nYou are given an utterance from a Friends episode.\\n\\nYour task is to classify the utterance with a single emotion class from these options: \"Mad\", \"Scared\", \"Sad\", \"Powerful\", \"Peaceful\", \"Joyful\", or \"Neutral\".\\n\\nOutput Instructions:\\n1. Return ONLY a JSON object with a single emotion class\\n2. The JSON must have this exact structure: {\"emotion_class\": \"EMOTION\"}\\n3. EMOTION must be one of the specified emotion classes\\n4. Do NOT include any additional text or explanation\\n5. Identify only one applicable emotions only from the following classes:\\n   \"Mad\", \"Scared\", \"Sad\", \"Powerful\", \"Peaceful\", \"Joyful\", \"Neutral\"\\n\\n', 'input': \"\\n\\nNow classify this utterance: What's this?\", 'output': '{\"emotion_class\": [\"Neutral\"]}'}\n",
      "{'instruction': '### You are an expert in Emotion Analysis for the Friends TV show.\\n\\nYou are given an utterance from a Friends episode.\\n\\nYour task is to classify the utterance with a single emotion class from these options: \"Mad\", \"Scared\", \"Sad\", \"Powerful\", \"Peaceful\", \"Joyful\", or \"Neutral\".\\n\\nOutput Instructions:\\n1. Return ONLY a JSON object with a single emotion class\\n2. The JSON must have this exact structure: {\"emotion_class\": \"EMOTION\"}\\n3. EMOTION must be one of the specified emotion classes\\n4. Do NOT include any additional text or explanation\\n5. Identify only one applicable emotions only from the following classes:\\n   \"Mad\", \"Scared\", \"Sad\", \"Powerful\", \"Peaceful\", \"Joyful\", \"Neutral\"\\n\\n', 'input': '\\n\\nNow classify this utterance: Which goes where?', 'output': '{\"emotion_class\": [\"Neutral\"]}'}\n"
     ]
    }
   ],
   "source": [
    "for i in range(5):\n",
    "    print(data_file_test[i])"
   ]
  },
  {
   "cell_type": "code",
   "execution_count": 32,
   "id": "039c7960",
   "metadata": {},
   "outputs": [],
   "source": [
    "#df_test = df[df.split == 'TEST'].reset_index()\n",
    "\n",
    "data_file_dev = []\n",
    "\n",
    "for index, _ in df_dev.iterrows():\n",
    "    \n",
    "    i = index\n",
    "\n",
    "    instruction = build_instruction()\n",
    "    question = build_tagged_text(df_dev.iloc[i].Utterance)\n",
    "    answer = build_answer(df_dev.iloc[i].Emotion)\n",
    "    \n",
    "    data_file_dev.append( formatting_fct(instruction, question, answer) )"
   ]
  },
  {
   "cell_type": "code",
   "execution_count": 33,
   "id": "e1687423",
   "metadata": {},
   "outputs": [
    {
     "data": {
      "text/plain": [
       "954"
      ]
     },
     "execution_count": 33,
     "metadata": {},
     "output_type": "execute_result"
    }
   ],
   "source": [
    "len(data_file_dev)"
   ]
  },
  {
   "cell_type": "code",
   "execution_count": 34,
   "id": "ccca0eb4",
   "metadata": {},
   "outputs": [
    {
     "name": "stdout",
     "output_type": "stream",
     "text": [
      "{'instruction': '### You are an expert in Emotion Analysis for the Friends TV show.\\n\\nYou are given an utterance from a Friends episode.\\n\\nYour task is to classify the utterance with a single emotion class from these options: \"Mad\", \"Scared\", \"Sad\", \"Powerful\", \"Peaceful\", \"Joyful\", or \"Neutral\".\\n\\nOutput Instructions:\\n1. Return ONLY a JSON object with a single emotion class\\n2. The JSON must have this exact structure: {\"emotion_class\": \"EMOTION\"}\\n3. EMOTION must be one of the specified emotion classes\\n4. Do NOT include any additional text or explanation\\n5. Identify only one applicable emotions only from the following classes:\\n   \"Mad\", \"Scared\", \"Sad\", \"Powerful\", \"Peaceful\", \"Joyful\", \"Neutral\"\\n\\n', 'input': '\\n\\nNow classify this utterance: Coffee.', 'output': '{\"emotion_class\": [\"Neutral\"]}'}\n",
      "{'instruction': '### You are an expert in Emotion Analysis for the Friends TV show.\\n\\nYou are given an utterance from a Friends episode.\\n\\nYour task is to classify the utterance with a single emotion class from these options: \"Mad\", \"Scared\", \"Sad\", \"Powerful\", \"Peaceful\", \"Joyful\", or \"Neutral\".\\n\\nOutput Instructions:\\n1. Return ONLY a JSON object with a single emotion class\\n2. The JSON must have this exact structure: {\"emotion_class\": \"EMOTION\"}\\n3. EMOTION must be one of the specified emotion classes\\n4. Do NOT include any additional text or explanation\\n5. Identify only one applicable emotions only from the following classes:\\n   \"Mad\", \"Scared\", \"Sad\", \"Powerful\", \"Peaceful\", \"Joyful\", \"Neutral\"\\n\\n', 'input': '\\n\\nNow classify this utterance: Thank you.', 'output': '{\"emotion_class\": [\"Neutral\"]}'}\n",
      "{'instruction': '### You are an expert in Emotion Analysis for the Friends TV show.\\n\\nYou are given an utterance from a Friends episode.\\n\\nYour task is to classify the utterance with a single emotion class from these options: \"Mad\", \"Scared\", \"Sad\", \"Powerful\", \"Peaceful\", \"Joyful\", or \"Neutral\".\\n\\nOutput Instructions:\\n1. Return ONLY a JSON object with a single emotion class\\n2. The JSON must have this exact structure: {\"emotion_class\": \"EMOTION\"}\\n3. EMOTION must be one of the specified emotion classes\\n4. Do NOT include any additional text or explanation\\n5. Identify only one applicable emotions only from the following classes:\\n   \"Mad\", \"Scared\", \"Sad\", \"Powerful\", \"Peaceful\", \"Joyful\", \"Neutral\"\\n\\n', 'input': '\\n\\nNow classify this utterance: Cappuccino.', 'output': '{\"emotion_class\": [\"Neutral\"]}'}\n",
      "{'instruction': '### You are an expert in Emotion Analysis for the Friends TV show.\\n\\nYou are given an utterance from a Friends episode.\\n\\nYour task is to classify the utterance with a single emotion class from these options: \"Mad\", \"Scared\", \"Sad\", \"Powerful\", \"Peaceful\", \"Joyful\", or \"Neutral\".\\n\\nOutput Instructions:\\n1. Return ONLY a JSON object with a single emotion class\\n2. The JSON must have this exact structure: {\"emotion_class\": \"EMOTION\"}\\n3. EMOTION must be one of the specified emotion classes\\n4. Do NOT include any additional text or explanation\\n5. Identify only one applicable emotions only from the following classes:\\n   \"Mad\", \"Scared\", \"Sad\", \"Powerful\", \"Peaceful\", \"Joyful\", \"Neutral\"\\n\\n', 'input': '\\n\\nNow classify this utterance: Grazie.', 'output': '{\"emotion_class\": [\"Neutral\"]}'}\n",
      "{'instruction': '### You are an expert in Emotion Analysis for the Friends TV show.\\n\\nYou are given an utterance from a Friends episode.\\n\\nYour task is to classify the utterance with a single emotion class from these options: \"Mad\", \"Scared\", \"Sad\", \"Powerful\", \"Peaceful\", \"Joyful\", or \"Neutral\".\\n\\nOutput Instructions:\\n1. Return ONLY a JSON object with a single emotion class\\n2. The JSON must have this exact structure: {\"emotion_class\": \"EMOTION\"}\\n3. EMOTION must be one of the specified emotion classes\\n4. Do NOT include any additional text or explanation\\n5. Identify only one applicable emotions only from the following classes:\\n   \"Mad\", \"Scared\", \"Sad\", \"Powerful\", \"Peaceful\", \"Joyful\", \"Neutral\"\\n\\n', 'input': '\\n\\nNow classify this utterance: And a nice hot cider for Monica.', 'output': '{\"emotion_class\": [\"Neutral\"]}'}\n"
     ]
    }
   ],
   "source": [
    "for i in range(5):\n",
    "    print(data_file_dev[i])"
   ]
  },
  {
   "cell_type": "markdown",
   "id": "8bb35781",
   "metadata": {},
   "source": [
    "### Create and save JSON files"
   ]
  },
  {
   "cell_type": "code",
   "execution_count": 35,
   "id": "95f32abe",
   "metadata": {},
   "outputs": [],
   "source": [
    "dataset_dir.mkdir(parents=True, exist_ok=True)"
   ]
  },
  {
   "cell_type": "code",
   "execution_count": 36,
   "id": "01306b8c",
   "metadata": {},
   "outputs": [],
   "source": [
    "file_path = Path(dataset_dir) / \"emorynlp_utterance_p2_train.json\"\n",
    "\n",
    "with open(file_path, 'w') as file:\n",
    "    \n",
    "    json.dump(data_file_train, file)"
   ]
  },
  {
   "cell_type": "code",
   "execution_count": 37,
   "id": "9b6f5885",
   "metadata": {},
   "outputs": [],
   "source": [
    "file_path = Path(dataset_dir) / \"emorynlp_utterance_p2_test.json\"\n",
    "\n",
    "with open(file_path, 'w') as file:\n",
    "    \n",
    "    json.dump(data_file_test, file)"
   ]
  },
  {
   "cell_type": "code",
   "execution_count": 38,
   "id": "21f7e522",
   "metadata": {},
   "outputs": [],
   "source": [
    "file_path = Path(dataset_dir) / \"emorynlp_utterance_p2_dev.json\"\n",
    "\n",
    "with open(file_path, 'w') as file:\n",
    "    \n",
    "    json.dump(data_file_dev, file)"
   ]
  },
  {
   "cell_type": "code",
   "execution_count": null,
   "id": "6b48dab0",
   "metadata": {},
   "outputs": [],
   "source": []
  }
 ],
 "metadata": {
  "kernelspec": {
   "display_name": "Python (triton_env)",
   "language": "python",
   "name": "ft_llama"
  },
  "language_info": {
   "codemirror_mode": {
    "name": "ipython",
    "version": 3
   },
   "file_extension": ".py",
   "mimetype": "text/x-python",
   "name": "python",
   "nbconvert_exporter": "python",
   "pygments_lexer": "ipython3",
   "version": "3.10.16"
  }
 },
 "nbformat": 4,
 "nbformat_minor": 5
}
