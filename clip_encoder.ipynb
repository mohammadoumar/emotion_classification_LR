{
 "cells": [
  {
   "cell_type": "code",
   "execution_count": 27,
   "metadata": {},
   "outputs": [],
   "source": [
    "import clip\n",
    "import torch\n",
    "\n",
    "import pandas as pd\n",
    "\n",
    "from PIL import Image\n",
    "from tqdm import tqdm\n",
    "from pathlib import Path"
   ]
  },
  {
   "cell_type": "code",
   "execution_count": 31,
   "metadata": {},
   "outputs": [],
   "source": [
    "df = pd.read_csv(\"/Utilisateurs/umushtaq/emotion_analysis_comics/dataset_files/comics_dataset_pg.csv\")"
   ]
  },
  {
   "cell_type": "code",
   "execution_count": 32,
   "metadata": {},
   "outputs": [
    {
     "data": {
      "text/html": [
       "<div>\n",
       "<style scoped>\n",
       "    .dataframe tbody tr th:only-of-type {\n",
       "        vertical-align: middle;\n",
       "    }\n",
       "\n",
       "    .dataframe tbody tr th {\n",
       "        vertical-align: top;\n",
       "    }\n",
       "\n",
       "    .dataframe thead th {\n",
       "        text-align: right;\n",
       "    }\n",
       "</style>\n",
       "<table border=\"1\" class=\"dataframe\">\n",
       "  <thead>\n",
       "    <tr style=\"text-align: right;\">\n",
       "      <th></th>\n",
       "      <th>Unnamed: 0</th>\n",
       "      <th>file_name</th>\n",
       "      <th>page_nr</th>\n",
       "      <th>split</th>\n",
       "      <th>utterance</th>\n",
       "      <th>emotion_c</th>\n",
       "    </tr>\n",
       "  </thead>\n",
       "  <tbody>\n",
       "    <tr>\n",
       "      <th>0</th>\n",
       "      <td>0</td>\n",
       "      <td>QC copy - 1499 - 58 ECC Co_mics 50 _The Jurass...</td>\n",
       "      <td>1</td>\n",
       "      <td>TRAIN</td>\n",
       "      <td>[\"THIS VILE THING ATTACKED THE SMALL BEASTS OF...</td>\n",
       "      <td>[['anger'], ['anger'], ['fear'], ['fear'], ['f...</td>\n",
       "    </tr>\n",
       "    <tr>\n",
       "      <th>1</th>\n",
       "      <td>1</td>\n",
       "      <td>QC copy - 1499 - 58 ECC Co_mics 50 _The Jurass...</td>\n",
       "      <td>2</td>\n",
       "      <td>TRAIN</td>\n",
       "      <td>[\"NO--  #GKKK\\u2026#\", \"#CHOMP!\", \"BY THE SKIN...</td>\n",
       "      <td>[['fear'], ['anger'], ['surprise'], ['anger'],...</td>\n",
       "    </tr>\n",
       "    <tr>\n",
       "      <th>2</th>\n",
       "      <td>2</td>\n",
       "      <td>QC copy - 1499 - 58 ECC Co_mics 50 _The Jurass...</td>\n",
       "      <td>3</td>\n",
       "      <td>TRAIN</td>\n",
       "      <td>[\"COME ON, BEAST!\", \"SHOW YOURSELF!\", \"WHY DO ...</td>\n",
       "      <td>[['joy'], ['joy'], ['anger'], ['anger']]</td>\n",
       "    </tr>\n",
       "    <tr>\n",
       "      <th>3</th>\n",
       "      <td>3</td>\n",
       "      <td>QC copy - 1499 - 58 ECC Co_mics 50 _The Jurass...</td>\n",
       "      <td>4</td>\n",
       "      <td>TRAIN</td>\n",
       "      <td>[\"#AARGH! \"]</td>\n",
       "      <td>[['fear', 'surprise']]</td>\n",
       "    </tr>\n",
       "    <tr>\n",
       "      <th>4</th>\n",
       "      <td>4</td>\n",
       "      <td>QC copy - 1499 - 58 ECC Co_mics 50 _The Jurass...</td>\n",
       "      <td>5</td>\n",
       "      <td>TRAIN</td>\n",
       "      <td>[\"I, THE GREEN TORCH, HAVE BEEN TASKED WITH PR...</td>\n",
       "      <td>[['anger'], ['anger'], ['fear'], ['fear', 'sur...</td>\n",
       "    </tr>\n",
       "    <tr>\n",
       "      <th>...</th>\n",
       "      <td>...</td>\n",
       "      <td>...</td>\n",
       "      <td>...</td>\n",
       "      <td>...</td>\n",
       "      <td>...</td>\n",
       "      <td>...</td>\n",
       "    </tr>\n",
       "    <tr>\n",
       "      <th>869</th>\n",
       "      <td>869</td>\n",
       "      <td>QC copy - 2200 - Stillwater 13.xlsx</td>\n",
       "      <td>16</td>\n",
       "      <td>TEST</td>\n",
       "      <td>[\"WE WERE IN GALEN'S OFFICE. YOU WERE ABOUT TO...</td>\n",
       "      <td>[['anger'], ['anger'], ['anger'], ['anger'], [...</td>\n",
       "    </tr>\n",
       "    <tr>\n",
       "      <th>870</th>\n",
       "      <td>870</td>\n",
       "      <td>QC copy - 2200 - Stillwater 13.xlsx</td>\n",
       "      <td>17</td>\n",
       "      <td>TEST</td>\n",
       "      <td>[\"SO WHAT ARE WE GOING TO DO?\", \"THE WAY I SEE...</td>\n",
       "      <td>[['sadness', 'surprise'], ['anger'], ['anger']...</td>\n",
       "    </tr>\n",
       "    <tr>\n",
       "      <th>871</th>\n",
       "      <td>871</td>\n",
       "      <td>QC copy - 2200 - Stillwater 13.xlsx</td>\n",
       "      <td>18</td>\n",
       "      <td>TEST</td>\n",
       "      <td>[\"KIDDIE COUNCIL'S BEEN GOING A LONG TIME... \"...</td>\n",
       "      <td>[['anger', 'sadness'], ['anger'], ['anger'], [...</td>\n",
       "    </tr>\n",
       "    <tr>\n",
       "      <th>872</th>\n",
       "      <td>872</td>\n",
       "      <td>QC copy - 2200 - Stillwater 13.xlsx</td>\n",
       "      <td>19</td>\n",
       "      <td>TEST</td>\n",
       "      <td>[\"IT'S BEEN\\u2026 PEACEFUL. ASIDE FROM SHIT LI...</td>\n",
       "      <td>[['anger'], ['joy'], ['joy'], ['anger', 'surpr...</td>\n",
       "    </tr>\n",
       "    <tr>\n",
       "      <th>873</th>\n",
       "      <td>873</td>\n",
       "      <td>QC copy - 2200 - Stillwater 13.xlsx</td>\n",
       "      <td>20</td>\n",
       "      <td>TEST</td>\n",
       "      <td>[\"\\\" AND PAY OUR NEIGHBOURS A VISIT. \\\"\"]</td>\n",
       "      <td>[['anger', 'joy']]</td>\n",
       "    </tr>\n",
       "  </tbody>\n",
       "</table>\n",
       "<p>874 rows × 6 columns</p>\n",
       "</div>"
      ],
      "text/plain": [
       "     Unnamed: 0                                          file_name  page_nr  \\\n",
       "0             0  QC copy - 1499 - 58 ECC Co_mics 50 _The Jurass...        1   \n",
       "1             1  QC copy - 1499 - 58 ECC Co_mics 50 _The Jurass...        2   \n",
       "2             2  QC copy - 1499 - 58 ECC Co_mics 50 _The Jurass...        3   \n",
       "3             3  QC copy - 1499 - 58 ECC Co_mics 50 _The Jurass...        4   \n",
       "4             4  QC copy - 1499 - 58 ECC Co_mics 50 _The Jurass...        5   \n",
       "..          ...                                                ...      ...   \n",
       "869         869                QC copy - 2200 - Stillwater 13.xlsx       16   \n",
       "870         870                QC copy - 2200 - Stillwater 13.xlsx       17   \n",
       "871         871                QC copy - 2200 - Stillwater 13.xlsx       18   \n",
       "872         872                QC copy - 2200 - Stillwater 13.xlsx       19   \n",
       "873         873                QC copy - 2200 - Stillwater 13.xlsx       20   \n",
       "\n",
       "     split                                          utterance  \\\n",
       "0    TRAIN  [\"THIS VILE THING ATTACKED THE SMALL BEASTS OF...   \n",
       "1    TRAIN  [\"NO--  #GKKK\\u2026#\", \"#CHOMP!\", \"BY THE SKIN...   \n",
       "2    TRAIN  [\"COME ON, BEAST!\", \"SHOW YOURSELF!\", \"WHY DO ...   \n",
       "3    TRAIN                                       [\"#AARGH! \"]   \n",
       "4    TRAIN  [\"I, THE GREEN TORCH, HAVE BEEN TASKED WITH PR...   \n",
       "..     ...                                                ...   \n",
       "869   TEST  [\"WE WERE IN GALEN'S OFFICE. YOU WERE ABOUT TO...   \n",
       "870   TEST  [\"SO WHAT ARE WE GOING TO DO?\", \"THE WAY I SEE...   \n",
       "871   TEST  [\"KIDDIE COUNCIL'S BEEN GOING A LONG TIME... \"...   \n",
       "872   TEST  [\"IT'S BEEN\\u2026 PEACEFUL. ASIDE FROM SHIT LI...   \n",
       "873   TEST          [\"\\\" AND PAY OUR NEIGHBOURS A VISIT. \\\"\"]   \n",
       "\n",
       "                                             emotion_c  \n",
       "0    [['anger'], ['anger'], ['fear'], ['fear'], ['f...  \n",
       "1    [['fear'], ['anger'], ['surprise'], ['anger'],...  \n",
       "2             [['joy'], ['joy'], ['anger'], ['anger']]  \n",
       "3                               [['fear', 'surprise']]  \n",
       "4    [['anger'], ['anger'], ['fear'], ['fear', 'sur...  \n",
       "..                                                 ...  \n",
       "869  [['anger'], ['anger'], ['anger'], ['anger'], [...  \n",
       "870  [['sadness', 'surprise'], ['anger'], ['anger']...  \n",
       "871  [['anger', 'sadness'], ['anger'], ['anger'], [...  \n",
       "872  [['anger'], ['joy'], ['joy'], ['anger', 'surpr...  \n",
       "873                                 [['anger', 'joy']]  \n",
       "\n",
       "[874 rows x 6 columns]"
      ]
     },
     "execution_count": 32,
     "metadata": {},
     "output_type": "execute_result"
    }
   ],
   "source": [
    "df"
   ]
  },
  {
   "cell_type": "code",
   "execution_count": 2,
   "metadata": {},
   "outputs": [
    {
     "name": "stderr",
     "output_type": "stream",
     "text": [
      "100%|███████████████████████████████████████| 338M/338M [00:06<00:00, 51.9MiB/s]\n"
     ]
    }
   ],
   "source": [
    "device = \"cuda\" if torch.cuda.is_available() else \"cpu\"\n",
    "model, preprocess = clip.load(\"ViT-B/32\", device=device)"
   ]
  },
  {
   "cell_type": "code",
   "execution_count": 18,
   "metadata": {},
   "outputs": [],
   "source": [
    "def list_all_jpg_files(directory):\n",
    "    return [str(file) for file in Path(directory).rglob(\"*.jpg\")]"
   ]
  },
  {
   "cell_type": "code",
   "execution_count": 19,
   "metadata": {},
   "outputs": [],
   "source": [
    "directory_path = \"/Utilisateurs/umushtaq/emotion_analysis_comics/comics_dataset_images\"\n",
    "jpg_images = list_all_jpg_files(directory_path)"
   ]
  },
  {
   "cell_type": "code",
   "execution_count": 26,
   "metadata": {},
   "outputs": [
    {
     "data": {
      "text/plain": [
       "903"
      ]
     },
     "execution_count": 26,
     "metadata": {},
     "output_type": "execute_result"
    }
   ],
   "source": [
    "len(jpg_images)"
   ]
  },
  {
   "cell_type": "code",
   "execution_count": 20,
   "metadata": {},
   "outputs": [
    {
     "name": "stderr",
     "output_type": "stream",
     "text": [
      "100%|██████████| 903/903 [05:13<00:00,  2.88it/s]\n"
     ]
    }
   ],
   "source": [
    "image_encodings = {}\n",
    "for image in tqdm(jpg_images):\n",
    "    \n",
    "    image_p = preprocess(Image.open(image)).unsqueeze(0).to(device) # type: ignore\n",
    "    image_features = model.encode_image(image_p)\n",
    "    image_encodings[image] = image_features\n",
    "    "
   ]
  },
  {
   "cell_type": "code",
   "execution_count": null,
   "metadata": {},
   "outputs": [],
   "source": []
  }
 ],
 "metadata": {
  "kernelspec": {
   "display_name": "Python (clip env)",
   "language": "python",
   "name": "clip_env"
  },
  "language_info": {
   "codemirror_mode": {
    "name": "ipython",
    "version": 3
   },
   "file_extension": ".py",
   "mimetype": "text/x-python",
   "name": "python",
   "nbconvert_exporter": "python",
   "pygments_lexer": "ipython3",
   "version": "3.10.16"
  }
 },
 "nbformat": 4,
 "nbformat_minor": 2
}
