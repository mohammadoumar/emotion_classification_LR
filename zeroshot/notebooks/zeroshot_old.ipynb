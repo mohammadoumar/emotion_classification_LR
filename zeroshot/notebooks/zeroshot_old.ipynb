{
 "cells": [
  {
   "cell_type": "markdown",
   "metadata": {},
   "source": [
    "# Zero Shot Classification on Comics dataset"
   ]
  },
  {
   "cell_type": "code",
   "execution_count": 31,
   "metadata": {},
   "outputs": [],
   "source": [
    "import os\n",
    "import json\n",
    "import torch\n",
    "import pickle\n",
    "\n",
    "import pandas as pd\n",
    "\n",
    "from tqdm.notebook import tqdm\n",
    "from pathlib import Path\n",
    "from sklearn.metrics import classification_report\n",
    "from transformers import AutoModelForCausalLM, AutoTokenizer"
   ]
  },
  {
   "cell_type": "code",
   "execution_count": 32,
   "metadata": {},
   "outputs": [],
   "source": [
    "MODEL_NAME = \"microsoft/Phi-3-mini-4k-instruct\""
   ]
  },
  {
   "cell_type": "code",
   "execution_count": 33,
   "metadata": {},
   "outputs": [
    {
     "data": {
      "application/vnd.jupyter.widget-view+json": {
       "model_id": "3f9a2ea3dccb4c5c8e29cdf8230ecedd",
       "version_major": 2,
       "version_minor": 0
      },
      "text/plain": [
       "Loading checkpoint shards:   0%|          | 0/2 [00:00<?, ?it/s]"
      ]
     },
     "metadata": {},
     "output_type": "display_data"
    }
   ],
   "source": [
    "tokenizer = AutoTokenizer.from_pretrained(MODEL_NAME)\n",
    "model = AutoModelForCausalLM.from_pretrained(MODEL_NAME)"
   ]
  },
  {
   "cell_type": "code",
   "execution_count": 34,
   "metadata": {},
   "outputs": [
    {
     "data": {
      "text/plain": [
       "Phi3ForCausalLM(\n",
       "  (model): Phi3Model(\n",
       "    (embed_tokens): Embedding(32064, 3072, padding_idx=32000)\n",
       "    (embed_dropout): Dropout(p=0.0, inplace=False)\n",
       "    (layers): ModuleList(\n",
       "      (0-31): 32 x Phi3DecoderLayer(\n",
       "        (self_attn): Phi3Attention(\n",
       "          (o_proj): Linear(in_features=3072, out_features=3072, bias=False)\n",
       "          (qkv_proj): Linear(in_features=3072, out_features=9216, bias=False)\n",
       "          (rotary_emb): Phi3RotaryEmbedding()\n",
       "        )\n",
       "        (mlp): Phi3MLP(\n",
       "          (gate_up_proj): Linear(in_features=3072, out_features=16384, bias=False)\n",
       "          (down_proj): Linear(in_features=8192, out_features=3072, bias=False)\n",
       "          (activation_fn): SiLU()\n",
       "        )\n",
       "        (input_layernorm): Phi3RMSNorm((3072,), eps=1e-05)\n",
       "        (resid_attn_dropout): Dropout(p=0.0, inplace=False)\n",
       "        (resid_mlp_dropout): Dropout(p=0.0, inplace=False)\n",
       "        (post_attention_layernorm): Phi3RMSNorm((3072,), eps=1e-05)\n",
       "      )\n",
       "    )\n",
       "    (norm): Phi3RMSNorm((3072,), eps=1e-05)\n",
       "  )\n",
       "  (lm_head): Linear(in_features=3072, out_features=32064, bias=False)\n",
       ")"
      ]
     },
     "execution_count": 34,
     "metadata": {},
     "output_type": "execute_result"
    }
   ],
   "source": [
    "device = torch.device(\"cuda\" if torch.cuda.is_available() else \"cpu\")\n",
    "model.to(device)"
   ]
  },
  {
   "cell_type": "code",
   "execution_count": 35,
   "metadata": {},
   "outputs": [],
   "source": [
    "# def generate_prompt(text, labels):\n",
    "#     prompt = f\"Classify the following text into one of these categories. Restrict your answer to only one token. Do not generate any tokens other than the label: {', '.join(labels)}.\\n\\nText: {text}\\n\\nCategory:\"\n",
    "#     return prompt\n"
   ]
  },
  {
   "cell_type": "code",
   "execution_count": 36,
   "metadata": {},
   "outputs": [],
   "source": [
    "def generate_prompt(text, labels):\n",
    "    prompt = f\"You are an expert in emotion analysis. You are given a text from a comics book. ### Here is the text: {text}\\n\\nYou must classify the emotion of this text into one of the following emotions classes: {labels}. You must return only a single token to fill in the emotion label of the text. Answer:\"\n",
    "    return prompt\n"
   ]
  },
  {
   "cell_type": "code",
   "execution_count": 37,
   "metadata": {},
   "outputs": [],
   "source": [
    "# def generate_prompt(text, labels):\n",
    "#     prompt = f\"\"\"You are an expert in emotion analysis. You are given a text from a comics book.\\n\\n### Here is the text: {text}\\n\\nYou must classify the emotion of this text into one or more of the following emotion labels: {labels}. Do not generate any explanation after the answer. ###Answer:###\"\"\"\n",
    "#     return prompt"
   ]
  },
  {
   "cell_type": "code",
   "execution_count": 38,
   "metadata": {},
   "outputs": [],
   "source": [
    "# def generate_prompt(text, labels):\n",
    "#     prompt = (\n",
    "#         f\"You are an expert in emotion analysis. Below is a passage from a comic book.\\n\\n\"\n",
    "#         f\"### Text:\\n{text}\\n\\n\"\n",
    "#         f\"Classify the emotion(s) of the text using one of the following labels: anger, surprise, fear, disgust, sadness, joy, neutral. Provide only the labels.\\n\\n\"\n",
    "#         f\"### Answer:\"\n",
    "#     )\n",
    "#     return prompt\n"
   ]
  },
  {
   "cell_type": "code",
   "execution_count": 39,
   "metadata": {},
   "outputs": [],
   "source": [
    "text_to_classify = \"The stock market saw a sharp rise today.\"\n",
    "labels = [\"anger\", \"surprise\", \"fear\", \"disgust\", \"sadness\", \"joy\", \"neutral\"]"
   ]
  },
  {
   "cell_type": "code",
   "execution_count": 40,
   "metadata": {},
   "outputs": [
    {
     "data": {
      "text/plain": [
       "\"You are an expert in emotion analysis. You are given a text from a comics book. ### Here is the text: The stock market saw a sharp rise today.\\n\\nYou must classify the emotion of this text into one of the following emotions classes: ['anger', 'surprise', 'fear', 'disgust', 'sadness', 'joy', 'neutral']. You must return only a single token to fill in the emotion label of the text. Answer:\""
      ]
     },
     "execution_count": 40,
     "metadata": {},
     "output_type": "execute_result"
    }
   ],
   "source": [
    "generate_prompt(text_to_classify, labels)"
   ]
  },
  {
   "cell_type": "code",
   "execution_count": 41,
   "metadata": {},
   "outputs": [],
   "source": [
    "def classify_text(text, labels):\n",
    "    # Create the prompt\n",
    "    prompt = generate_prompt(text, labels)\n",
    "    \n",
    "    # Tokenize and encode the prompt\n",
    "    inputs = tokenizer(prompt, return_tensors=\"pt\").to(device)\n",
    "\n",
    "    # Generate output\n",
    "    outputs = model.generate(**inputs, max_new_tokens=1, eos_token_id=tokenizer.eos_token_id, pad_token_id=tokenizer.eos_token_id, no_repeat_ngram_size=2)\n",
    "    \n",
    "    # Decode the generated output\n",
    "    classification = tokenizer.decode(outputs[0], skip_special_tokens=True)\n",
    "    \n",
    "    # Extract the predicted category (after the prompt)\n",
    "    #predicted_category = classification.split(\"Answer:\")[-1].strip()\n",
    "    return classification\n",
    "    #return predicted_category"
   ]
  },
  {
   "cell_type": "code",
   "execution_count": 42,
   "metadata": {},
   "outputs": [],
   "source": [
    "# text_to_classify = \"The stock market saw a sharp rise today.\"\n",
    "# labels = [\"anger\", \"surprise\", \"fear\", \"disgust\", \"sadness\", \"joy\", \"neutral\"]"
   ]
  },
  {
   "cell_type": "code",
   "execution_count": 43,
   "metadata": {},
   "outputs": [],
   "source": [
    "#predicted_category = classify_text(text_to_classify, labels)"
   ]
  },
  {
   "cell_type": "code",
   "execution_count": 44,
   "metadata": {},
   "outputs": [],
   "source": [
    "#print(f\"Predicted category: {predicted_category}\")"
   ]
  },
  {
   "cell_type": "markdown",
   "metadata": {},
   "source": [
    "### Read the data sets"
   ]
  },
  {
   "cell_type": "code",
   "execution_count": 45,
   "metadata": {},
   "outputs": [],
   "source": [
    "df = pd.read_csv(\"/Utilisateurs/umushtaq/emotion_analysis_comics/zeroshot/datasets/comics_data_processed.csv\")"
   ]
  },
  {
   "cell_type": "code",
   "execution_count": 46,
   "metadata": {},
   "outputs": [],
   "source": [
    "df = df.drop(columns=[df.columns[0], df.columns[1]])"
   ]
  },
  {
   "cell_type": "code",
   "execution_count": 47,
   "metadata": {},
   "outputs": [],
   "source": [
    "emotion_map = {\n",
    "    'AN': 'anger',\n",
    "    'DI': 'disgust',\n",
    "    'FE': 'fear',\n",
    "    'SA': 'sadness',\n",
    "    'SU': 'surprise',\n",
    "    'JO': 'joy'\n",
    "}"
   ]
  },
  {
   "cell_type": "code",
   "execution_count": 48,
   "metadata": {},
   "outputs": [],
   "source": [
    "def extract_emotions(row):\n",
    "\n",
    "    emotion_str = row.emotion\n",
    "\n",
    "    if emotion_str == 'Neutral':\n",
    "        return ['neutral']\n",
    "\n",
    "    emotions = emotion_str.split('-')\n",
    "    tags = []\n",
    "\n",
    "    for emotion in emotions:\n",
    "        abbrev = emotion[:2]  # Get the abbreviation\n",
    "        value_part = emotion[2:]  # Get the value part\n",
    "        \n",
    "        if abbrev in emotion_map and value_part.isdigit():\n",
    "            value = int(value_part)\n",
    "            if value > 0:\n",
    "                tags.append(emotion_map[abbrev].lower())\n",
    "        else:\n",
    "            print(f\"Warning: Skipping invalid emotion entry: '{emotion}'\")\n",
    "    return tags  "
   ]
  },
  {
   "cell_type": "code",
   "execution_count": 49,
   "metadata": {},
   "outputs": [],
   "source": [
    "df['emotions_list'] = df.apply(lambda row: extract_emotions(row), axis=1)"
   ]
  },
  {
   "cell_type": "code",
   "execution_count": 50,
   "metadata": {},
   "outputs": [],
   "source": [
    "df = df[df['emotions_list'].apply(lambda x: len(x) == 1)].reset_index()"
   ]
  },
  {
   "cell_type": "code",
   "execution_count": 51,
   "metadata": {},
   "outputs": [],
   "source": [
    "texts = df.utterance.tolist()"
   ]
  },
  {
   "cell_type": "code",
   "execution_count": 52,
   "metadata": {},
   "outputs": [],
   "source": [
    "labels = [\"anger\", \"surprise\", \"fear\", \"disgust\", \"sadness\", \"joy\", \"neutral\"]"
   ]
  },
  {
   "cell_type": "code",
   "execution_count": 53,
   "metadata": {},
   "outputs": [
    {
     "data": {
      "application/vnd.jupyter.widget-view+json": {
       "model_id": "7607d6950cc84148a709aca4d03a3e9c",
       "version_major": 2,
       "version_minor": 0
      },
      "text/plain": [
       "  0%|          | 0/3111 [00:00<?, ?it/s]"
      ]
     },
     "metadata": {},
     "output_type": "display_data"
    },
    {
     "name": "stderr",
     "output_type": "stream",
     "text": [
      "You are not running the flash-attention implementation, expect numerical differences.\n"
     ]
    }
   ],
   "source": [
    "predictions = []\n",
    "\n",
    "for i in tqdm(range(len(texts))):\n",
    "    predicted_category = classify_text(texts[i], labels)\n",
    "    predictions.append(predicted_category)"
   ]
  },
  {
   "cell_type": "code",
   "execution_count": 54,
   "metadata": {},
   "outputs": [],
   "source": [
    "preds = []\n",
    "\n",
    "for prediction in predictions:\n",
    "    preds.append(prediction.split(\" \")[-1])"
   ]
  },
  {
   "cell_type": "code",
   "execution_count": 55,
   "metadata": {},
   "outputs": [],
   "source": [
    "grounds = [x for [x] in df.emotions_list.tolist()]"
   ]
  },
  {
   "cell_type": "code",
   "execution_count": 56,
   "metadata": {},
   "outputs": [],
   "source": [
    "for idx, (ground, pred) in enumerate(zip(grounds, preds)):\n",
    "\n",
    "    if pred not in labels:\n",
    "        del grounds[idx]\n",
    "        del preds[idx]"
   ]
  },
  {
   "cell_type": "code",
   "execution_count": 57,
   "metadata": {},
   "outputs": [
    {
     "name": "stdout",
     "output_type": "stream",
     "text": [
      "              precision    recall  f1-score   support\n",
      "\n",
      "           '       0.00      0.00      0.00         0\n",
      "    Answer:\n",
      "       0.00      0.00      0.00         0\n",
      "         The       0.00      0.00      0.00         0\n",
      "       anger       0.63      0.27      0.38       601\n",
      "         dis       0.00      0.00      0.00         0\n",
      "     disgust       0.00      0.00      0.00        14\n",
      "        fear       0.25      0.18      0.21       245\n",
      "         joy       0.43      0.71      0.53       612\n",
      "     neutral       0.22      0.33      0.26       271\n",
      "         sad       0.00      0.00      0.00         0\n",
      "     sadness       0.00      0.00      0.00       314\n",
      "    surprise       0.39      0.36      0.38       338\n",
      "\n",
      "    accuracy                           0.36      2395\n",
      "   macro avg       0.16      0.15      0.15      2395\n",
      "weighted avg       0.37      0.36      0.34      2395\n",
      "\n"
     ]
    },
    {
     "name": "stderr",
     "output_type": "stream",
     "text": [
      "/Utilisateurs/umushtaq/.conda/envs/er_nb_env/lib/python3.11/site-packages/sklearn/metrics/_classification.py:1531: UndefinedMetricWarning: Precision is ill-defined and being set to 0.0 in labels with no predicted samples. Use `zero_division` parameter to control this behavior.\n",
      "  _warn_prf(average, modifier, f\"{metric.capitalize()} is\", len(result))\n",
      "/Utilisateurs/umushtaq/.conda/envs/er_nb_env/lib/python3.11/site-packages/sklearn/metrics/_classification.py:1531: UndefinedMetricWarning: Recall is ill-defined and being set to 0.0 in labels with no true samples. Use `zero_division` parameter to control this behavior.\n",
      "  _warn_prf(average, modifier, f\"{metric.capitalize()} is\", len(result))\n",
      "/Utilisateurs/umushtaq/.conda/envs/er_nb_env/lib/python3.11/site-packages/sklearn/metrics/_classification.py:1531: UndefinedMetricWarning: Precision is ill-defined and being set to 0.0 in labels with no predicted samples. Use `zero_division` parameter to control this behavior.\n",
      "  _warn_prf(average, modifier, f\"{metric.capitalize()} is\", len(result))\n",
      "/Utilisateurs/umushtaq/.conda/envs/er_nb_env/lib/python3.11/site-packages/sklearn/metrics/_classification.py:1531: UndefinedMetricWarning: Recall is ill-defined and being set to 0.0 in labels with no true samples. Use `zero_division` parameter to control this behavior.\n",
      "  _warn_prf(average, modifier, f\"{metric.capitalize()} is\", len(result))\n",
      "/Utilisateurs/umushtaq/.conda/envs/er_nb_env/lib/python3.11/site-packages/sklearn/metrics/_classification.py:1531: UndefinedMetricWarning: Precision is ill-defined and being set to 0.0 in labels with no predicted samples. Use `zero_division` parameter to control this behavior.\n",
      "  _warn_prf(average, modifier, f\"{metric.capitalize()} is\", len(result))\n",
      "/Utilisateurs/umushtaq/.conda/envs/er_nb_env/lib/python3.11/site-packages/sklearn/metrics/_classification.py:1531: UndefinedMetricWarning: Recall is ill-defined and being set to 0.0 in labels with no true samples. Use `zero_division` parameter to control this behavior.\n",
      "  _warn_prf(average, modifier, f\"{metric.capitalize()} is\", len(result))\n"
     ]
    }
   ],
   "source": [
    "print(classification_report(grounds, preds))"
   ]
  },
  {
   "cell_type": "code",
   "execution_count": null,
   "metadata": {},
   "outputs": [],
   "source": []
  }
 ],
 "metadata": {
  "kernelspec": {
   "display_name": "Python 3 (ipykernel)",
   "language": "python",
   "name": "python3"
  },
  "language_info": {
   "codemirror_mode": {
    "name": "ipython",
    "version": 3
   },
   "file_extension": ".py",
   "mimetype": "text/x-python",
   "name": "python",
   "nbconvert_exporter": "python",
   "pygments_lexer": "ipython3",
   "version": "3.11.9"
  }
 },
 "nbformat": 4,
 "nbformat_minor": 2
}
