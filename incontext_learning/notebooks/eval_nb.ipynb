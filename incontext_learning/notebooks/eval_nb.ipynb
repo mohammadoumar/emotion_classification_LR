{
 "cells": [
  {
   "cell_type": "code",
   "execution_count": 9,
   "metadata": {},
   "outputs": [],
   "source": [
    "import ast\n",
    "import json\n",
    "import pickle\n",
    "import numpy as np\n",
    "from pathlib import Path\n",
    "from sklearn.metrics import classification_report\n",
    "from sklearn.metrics import confusion_matrix\n",
    "\n",
    "from itertools import chain\n",
    "from collections import defaultdict\n",
    "\n",
    "import matplotlib.pyplot as plt\n",
    "import seaborn as sns"
   ]
  },
  {
   "cell_type": "markdown",
   "metadata": {},
   "source": [
    "### Read data"
   ]
  },
  {
   "cell_type": "code",
   "execution_count": 2,
   "metadata": {},
   "outputs": [],
   "source": [
    "# Load the pickled list\n",
    "with open(\"/Utilisateurs/umushtaq/emotion_analysis_comics/incontext_learning/results/icl_llama-3-8b-Instruct-bnb-4bit/results_10.pickle\", 'rb') as f:\n",
    "    \n",
    "    results = pickle.load(f)"
   ]
  },
  {
   "cell_type": "code",
   "execution_count": 3,
   "metadata": {},
   "outputs": [],
   "source": [
    "all_labels = [\"anger\", \"surprise\", \"fear\", \"disgust\", \"sadness\", \"joy\", \"neutral\"]"
   ]
  },
  {
   "cell_type": "code",
   "execution_count": 4,
   "metadata": {},
   "outputs": [],
   "source": [
    "grounds = results['ground_truths']\n",
    "predictions = results['predictions']"
   ]
  },
  {
   "cell_type": "code",
   "execution_count": 5,
   "metadata": {},
   "outputs": [],
   "source": [
    "def labels_to_binary_matrix(label_list, all_labels):\n",
    "    binary_matrix = np.zeros((len(label_list), len(all_labels)))\n",
    "    \n",
    "    for i, labels in enumerate(label_list):\n",
    "        for label in labels:\n",
    "            if label in all_labels:\n",
    "                binary_matrix[i][all_labels.index(label)] = 1\n",
    "                \n",
    "    return binary_matrix\n",
    "\n",
    "def opposite(component_type):\n",
    "\n",
    "    if component_type == \"anger\":\n",
    "        return \"surprise\"\n",
    "    elif component_type == \"disgust\":\n",
    "        return \"joy\"\n",
    "    elif component_type == \"fear\":\n",
    "        return \"sadness\"\n",
    "    elif component_type == \"sadness\":\n",
    "        return \"anger\"\n",
    "    elif component_type == \"surprise\":\n",
    "        return \"disgust\"\n",
    "    elif component_type == \"joy\":\n",
    "        return \"fear\"\n",
    "    elif component_type == \"Neutral\":\n",
    "        return \"sadness\"\n",
    "    \n",
    "\n",
    "def harmonize_preds(grounds, preds):\n",
    "\n",
    "    l1, l2 = len(preds), len(grounds)\n",
    "    if l1 < l2:\n",
    "        diff = l2 - l1\n",
    "        preds = preds + [opposite(x) for x in grounds[l1:]]\n",
    "    else:\n",
    "        preds = preds[:l2]\n",
    "        \n",
    "    return preds \n",
    "\n",
    "def post_process_icl(grounds, preds):\n",
    "\n",
    "    for i,(x,y) in enumerate(zip(grounds, preds)):\n",
    "        \n",
    "        if len(x) != len(y):\n",
    "            \n",
    "            preds[i] = harmonize_preds(x, y)\n",
    "\n",
    "    true_matrix = labels_to_binary_matrix(grounds, all_labels)\n",
    "    predicted_matrix = labels_to_binary_matrix(preds, all_labels)\n",
    "\n",
    "    return true_matrix, predicted_matrix"
   ]
  },
  {
   "cell_type": "code",
   "execution_count": 6,
   "metadata": {},
   "outputs": [],
   "source": [
    "true_matrix, predicted_matrix = post_process_icl(grounds, predictions)"
   ]
  },
  {
   "cell_type": "markdown",
   "metadata": {},
   "source": [
    "## Classification Report"
   ]
  },
  {
   "cell_type": "code",
   "execution_count": 8,
   "metadata": {},
   "outputs": [
    {
     "name": "stdout",
     "output_type": "stream",
     "text": [
      "              precision    recall  f1-score   support\n",
      "\n",
      "       anger      0.640     0.521     0.575       614\n",
      "    surprise      0.539     0.712     0.613       486\n",
      "        fear      0.475     0.396     0.432       407\n",
      "     disgust      0.192     0.376     0.254        85\n",
      "     sadness      0.478     0.317     0.381       347\n",
      "         joy      0.568     0.557     0.562       429\n",
      "     neutral      0.181     0.248     0.209       129\n",
      "\n",
      "   micro avg      0.501     0.497     0.499      2497\n",
      "   macro avg      0.439     0.447     0.432      2497\n",
      "weighted avg      0.520     0.497     0.500      2497\n",
      " samples avg      0.480     0.477     0.478      2497\n",
      "\n"
     ]
    },
    {
     "name": "stderr",
     "output_type": "stream",
     "text": [
      "/Utilisateurs/umushtaq/.conda/envs/er_nb_env/lib/python3.11/site-packages/sklearn/metrics/_classification.py:1531: UndefinedMetricWarning: Precision is ill-defined and being set to 0.0 in samples with no predicted labels. Use `zero_division` parameter to control this behavior.\n",
      "  _warn_prf(average, modifier, f\"{metric.capitalize()} is\", len(result))\n"
     ]
    }
   ],
   "source": [
    "print(classification_report(true_matrix, predicted_matrix, target_names=all_labels, digits=3))"
   ]
  },
  {
   "cell_type": "markdown",
   "metadata": {},
   "source": [
    "### Confusion Matrix"
   ]
  },
  {
   "cell_type": "code",
   "execution_count": 16,
   "metadata": {},
   "outputs": [],
   "source": [
    "def get_confusion_matrices(grounds, predictions, all_labels):\n",
    "    # Create a dictionary to map allowed labels to indices\n",
    "    label_to_index = {label: idx for idx, label in enumerate(all_labels)}\n",
    "    \n",
    "    # Initialize one-hot encoded arrays for ground truths and predictions\n",
    "    y_true = np.zeros((len(grounds), len(all_labels)), dtype=int)\n",
    "    y_pred = np.zeros((len(predictions), len(all_labels)), dtype=int)\n",
    "    \n",
    "    # One-hot encode the ground truths (use only allowed labels)\n",
    "    for i, labels in enumerate(grounds):\n",
    "        for label in labels:\n",
    "            if label in label_to_index:\n",
    "                y_true[i][label_to_index[label]] = 1\n",
    "    \n",
    "    # One-hot encode the predictions, setting any unallowed label as false (0)\n",
    "    for i, labels in enumerate(predictions):\n",
    "        for label in labels:\n",
    "            if label in label_to_index:\n",
    "                y_pred[i][label_to_index[label]] = 1\n",
    "    \n",
    "    # Generate confusion matrices for each label in the desired structure\n",
    "    confusion_matrices = {}\n",
    "    for label, idx in label_to_index.items():\n",
    "        # Get the confusion matrix from sklearn\n",
    "        cm = confusion_matrix(y_true[:, idx], y_pred[:, idx])\n",
    "        \n",
    "        # Rearrange the confusion matrix to the requested structure: TP FP, FN TN\n",
    "        tp = cm[1, 1]  # True Positive\n",
    "        fp = cm[0, 1]  # False Positive\n",
    "        fn = cm[1, 0]  # False Negative\n",
    "        tn = cm[0, 0]  # True Negative\n",
    "        \n",
    "        # Create a matrix with the desired structure\n",
    "        rearranged_cm = np.array([[tp, fp], [fn, tn]])\n",
    "        confusion_matrices[label] = rearranged_cm\n",
    "    \n",
    "    return confusion_matrices"
   ]
  },
  {
   "cell_type": "code",
   "execution_count": 17,
   "metadata": {},
   "outputs": [],
   "source": [
    "confusion_matrices = get_confusion_matrices(grounds, predictions, all_labels)"
   ]
  },
  {
   "cell_type": "code",
   "execution_count": 18,
   "metadata": {},
   "outputs": [
    {
     "name": "stdout",
     "output_type": "stream",
     "text": [
      "Confusion Matrix for label 'anger':\n",
      "[[320 180]\n",
      " [294 982]]\n",
      "\n",
      "Confusion Matrix for label 'surprise':\n",
      "[[346 296]\n",
      " [140 994]]\n",
      "\n",
      "Confusion Matrix for label 'fear':\n",
      "[[ 161  178]\n",
      " [ 246 1191]]\n",
      "\n",
      "Confusion Matrix for label 'disgust':\n",
      "[[  32  135]\n",
      " [  53 1556]]\n",
      "\n",
      "Confusion Matrix for label 'sadness':\n",
      "[[ 110  120]\n",
      " [ 237 1309]]\n",
      "\n",
      "Confusion Matrix for label 'joy':\n",
      "[[ 239  182]\n",
      " [ 190 1165]]\n",
      "\n",
      "Confusion Matrix for label 'neutral':\n",
      "[[  32  145]\n",
      " [  97 1502]]\n",
      "\n"
     ]
    }
   ],
   "source": [
    "for label, cm in confusion_matrices.items():\n",
    "    print(f\"Confusion Matrix for label '{label}':\\n{cm}\\n\")"
   ]
  },
  {
   "cell_type": "markdown",
   "metadata": {},
   "source": [
    "### Plots"
   ]
  },
  {
   "cell_type": "code",
   "execution_count": 10,
   "metadata": {},
   "outputs": [],
   "source": [
    "def plot_confusion_matrices(true_matrix, predicted_matrix, labels):\n",
    "    num_labels = true_matrix.shape[1]  # Number of labels\n",
    "    fig, axes = plt.subplots(1, num_labels, figsize=(20, 5))  # Create subplots\n",
    "    \n",
    "    for i in range(num_labels):\n",
    "        cm = confusion_matrix(true_matrix[:, i], predicted_matrix[:, i])\n",
    "        \n",
    "        # Plot confusion matrix\n",
    "        sns.heatmap(cm, annot=True, fmt=\"d\", cmap=\"Blues\", ax=axes[i], cbar=False)\n",
    "        axes[i].set_title(f'Confusion Matrix: {labels[i]}')\n",
    "        axes[i].set_xlabel('Predicted')\n",
    "        axes[i].set_ylabel('Actual')\n",
    "        axes[i].set_xticklabels(['False', 'True'])\n",
    "        axes[i].set_yticklabels(['False', 'True'])\n",
    "\n",
    "    plt.tight_layout()\n",
    "    plt.show()\n",
    "\n",
    "# Generate and plot the confusion matrices\n"
   ]
  },
  {
   "cell_type": "code",
   "execution_count": 11,
   "metadata": {},
   "outputs": [
    {
     "data": {
      "image/png": "[encoded data removed]",
      "text/plain": [
       "<Figure size 2000x500 with 7 Axes>"
      ]
     },
     "metadata": {},
     "output_type": "display_data"
    }
   ],
   "source": [
    "plot_confusion_matrices(true_matrix, predicted_matrix, all_labels)"
   ]
  },
  {
   "cell_type": "code",
   "execution_count": null,
   "metadata": {},
   "outputs": [],
   "source": []
  }
 ],
 "metadata": {
  "kernelspec": {
   "display_name": "Python 3 (ipykernel)",
   "language": "python",
   "name": "python3"
  },
  "language_info": {
   "codemirror_mode": {
    "name": "ipython",
    "version": 3
   },
   "file_extension": ".py",
   "mimetype": "text/x-python",
   "name": "python",
   "nbconvert_exporter": "python",
   "pygments_lexer": "ipython3",
   "version": "3.11.9"
  }
 },
 "nbformat": 4,
 "nbformat_minor": 2
}
