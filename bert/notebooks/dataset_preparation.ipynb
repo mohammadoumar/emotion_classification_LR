{
 "cells": [
  {
   "cell_type": "markdown",
   "metadata": {
    "gradient": {
     "editing": false,
     "id": "bb0e5f83-d32d-4d5e-bb28-cf61e6a4fd47",
     "kernelId": ""
    }
   },
   "source": [
    "# Prepare dataset for BERT fine-tune"
   ]
  },
  {
   "cell_type": "markdown",
   "metadata": {
    "gradient": {
     "editing": false,
     "id": "c41f6822-5637-4efa-9850-ff1b8e2a109a",
     "kernelId": ""
    }
   },
   "source": [
    "- Create dataset from comics dataframe"
   ]
  },
  {
   "cell_type": "markdown",
   "metadata": {
    "gradient": {
     "editing": false,
     "id": "190922a4-3897-4417-b2e3-ad2e51dd6b1a",
     "kernelId": ""
    }
   },
   "source": [
    "## Libraries"
   ]
  },
  {
   "cell_type": "code",
   "execution_count": 40,
   "metadata": {
    "gradient": {
     "editing": false,
     "id": "a705b996-66aa-4aa6-9ce0-1edd956b8866",
     "kernelId": ""
    }
   },
   "outputs": [],
   "source": [
    "import os\n",
    "import torch\n",
    "import datasets\n",
    "import transformers\n",
    "\n",
    "import pandas as pd\n",
    "\n",
    "from pathlib import Path\n",
    "\n",
    "from datasets import Dataset\n",
    "from datasets import DatasetDict"
   ]
  },
  {
   "cell_type": "code",
   "execution_count": 41,
   "metadata": {
    "gradient": {
     "editing": false,
     "id": "a8a8872d-0a98-4bd7-b38a-37810f8cdab3",
     "kernelId": ""
    }
   },
   "outputs": [
    {
     "name": "stdout",
     "output_type": "stream",
     "text": [
      "pandas:\t\t 2.2.2\n",
      "transformers:\t 4.44.2\n",
      "datasets:\t 2.21.0\n"
     ]
    }
   ],
   "source": [
    "print('pandas:\\t\\t', pd.__version__)\n",
    "print('transformers:\\t', transformers.__version__)\n",
    "print('datasets:\\t', datasets.__version__)"
   ]
  },
  {
   "cell_type": "markdown",
   "metadata": {
    "gradient": {
     "editing": false,
     "id": "5bf6295b-ee0c-47fa-8aa7-4aa06f0bab27",
     "kernelId": ""
    }
   },
   "source": [
    "### Load and Process dataframe"
   ]
  },
  {
   "cell_type": "code",
   "execution_count": 42,
   "metadata": {},
   "outputs": [],
   "source": [
    "dataset_file = Path.cwd() / \"emotion_analysis_comics\" / \"dataset_files\" / \"comics_dataset.csv\""
   ]
  },
  {
   "cell_type": "code",
   "execution_count": 43,
   "metadata": {},
   "outputs": [],
   "source": [
    "dataset_df = pd.read_csv(dataset_file, index_col=False)"
   ]
  },
  {
   "cell_type": "code",
   "execution_count": 44,
   "metadata": {},
   "outputs": [
    {
     "data": {
      "text/plain": [
       "(7129, 11)"
      ]
     },
     "execution_count": 44,
     "metadata": {},
     "output_type": "execute_result"
    }
   ],
   "source": [
    "dataset_df.shape"
   ]
  },
  {
   "cell_type": "code",
   "execution_count": 45,
   "metadata": {},
   "outputs": [
    {
     "data": {
      "text/plain": [
       "Index(['file_name', 'page_nr', 'panel_nr', 'balloon_nr', 'utterance',\n",
       "       'raw_annotation', 'raw_emotion', 'raw_speaker_id', 'emotion',\n",
       "       'speaker_id', 'split'],\n",
       "      dtype='object')"
      ]
     },
     "execution_count": 45,
     "metadata": {},
     "output_type": "execute_result"
    }
   ],
   "source": [
    "dataset_df.columns"
   ]
  },
  {
   "cell_type": "code",
   "execution_count": 46,
   "metadata": {},
   "outputs": [],
   "source": [
    "emotion_map = {\n",
    "    'AN': 'anger',\n",
    "    'DI': 'disgust',\n",
    "    'FE': 'fear',\n",
    "    'SA': 'sadness',\n",
    "    'SU': 'surprise',\n",
    "    'JO': 'joy'\n",
    "}\n",
    "\n",
    "def extract_emotions(row):\n",
    "\n",
    "    emotion_str = row.emotion\n",
    "\n",
    "    if emotion_str == 'Neutral':\n",
    "        return ['neutral']\n",
    "\n",
    "    emotions = emotion_str.split('-')\n",
    "    tags = []\n",
    "\n",
    "    for emotion in emotions:\n",
    "        abbrev = emotion[:2]  # Get the abbreviation\n",
    "        value_part = emotion[2:]  # Get the value part\n",
    "        \n",
    "        # Ensure that the value part is a valid integer and abbrev is in the emotion_map\n",
    "        if abbrev in emotion_map and value_part.isdigit():\n",
    "            value = int(value_part)\n",
    "            if value > 0:\n",
    "                tag = emotion_map[abbrev].lower() + \":\" + str(value)\n",
    "                #tags.append(emotion_map[abbrev].lower())\n",
    "                tags.append(tag)\n",
    "        else:\n",
    "            print(f\"Warning: Skipping invalid emotion entry: '{emotion}'\")\n",
    "    return tags  "
   ]
  },
  {
   "cell_type": "code",
   "execution_count": 47,
   "metadata": {},
   "outputs": [],
   "source": [
    "dataset_df['utterance_emotion'] = dataset_df.apply(lambda row: extract_emotions(row), axis=1)"
   ]
  },
  {
   "cell_type": "code",
   "execution_count": 48,
   "metadata": {},
   "outputs": [
    {
     "data": {
      "text/html": [
       "<div>\n",
       "<style scoped>\n",
       "    .dataframe tbody tr th:only-of-type {\n",
       "        vertical-align: middle;\n",
       "    }\n",
       "\n",
       "    .dataframe tbody tr th {\n",
       "        vertical-align: top;\n",
       "    }\n",
       "\n",
       "    .dataframe thead th {\n",
       "        text-align: right;\n",
       "    }\n",
       "</style>\n",
       "<table border=\"1\" class=\"dataframe\">\n",
       "  <thead>\n",
       "    <tr style=\"text-align: right;\">\n",
       "      <th></th>\n",
       "      <th>file_name</th>\n",
       "      <th>page_nr</th>\n",
       "      <th>panel_nr</th>\n",
       "      <th>balloon_nr</th>\n",
       "      <th>utterance</th>\n",
       "      <th>raw_annotation</th>\n",
       "      <th>raw_emotion</th>\n",
       "      <th>raw_speaker_id</th>\n",
       "      <th>emotion</th>\n",
       "      <th>speaker_id</th>\n",
       "      <th>split</th>\n",
       "      <th>utterance_emotion</th>\n",
       "    </tr>\n",
       "  </thead>\n",
       "  <tbody>\n",
       "    <tr>\n",
       "      <th>0</th>\n",
       "      <td>QC copy - 1500 - 04 Nightwing 19 _Nightwing 95...</td>\n",
       "      <td>1</td>\n",
       "      <td>2</td>\n",
       "      <td>1</td>\n",
       "      <td>DID YOU HAVE TO ELECTROCUTE HER SO HARD?</td>\n",
       "      <td>2024-08-27 - aselermekova20\\nFeeling:AN0-DI0-F...</td>\n",
       "      <td>2024-08-27 - aselermekova20\\nFeeling:AN0-DI0-F...</td>\n",
       "      <td>2024-09-05 - aidaraliev12345\\nSpokenBy:ID-1</td>\n",
       "      <td>AN0-DI0-FE3-SA0-SU5-JO0</td>\n",
       "      <td>ID-1</td>\n",
       "      <td>TRAIN</td>\n",
       "      <td>[fear:3, surprise:5]</td>\n",
       "    </tr>\n",
       "    <tr>\n",
       "      <th>1</th>\n",
       "      <td>QC copy - 1500 - 04 Nightwing 19 _Nightwing 95...</td>\n",
       "      <td>1</td>\n",
       "      <td>2</td>\n",
       "      <td>2</td>\n",
       "      <td>IT'S NOT LIKE I HAVE DIFFERENT SETTINGS.</td>\n",
       "      <td>2024-08-27 - aselermekova20\\nFeeling:AN0-DI0-F...</td>\n",
       "      <td>2024-08-27 - aselermekova20\\nFeeling:AN0-DI0-F...</td>\n",
       "      <td>2024-09-05 - aidaraliev12345\\nSpokenBy:ID-2</td>\n",
       "      <td>AN0-DI0-FE0-SA0-SU5-JO0</td>\n",
       "      <td>ID-2</td>\n",
       "      <td>TRAIN</td>\n",
       "      <td>[surprise:5]</td>\n",
       "    </tr>\n",
       "    <tr>\n",
       "      <th>2</th>\n",
       "      <td>QC copy - 1500 - 04 Nightwing 19 _Nightwing 95...</td>\n",
       "      <td>1</td>\n",
       "      <td>2</td>\n",
       "      <td>3</td>\n",
       "      <td>YOU'RE ELECTROCUTIONER. IT'S YOUR WHOLE THING....</td>\n",
       "      <td>2024-08-27 - aselermekova20\\nFeeling:AN0-DI0-F...</td>\n",
       "      <td>2024-08-27 - aselermekova20\\nFeeling:AN0-DI0-F...</td>\n",
       "      <td>2024-09-05 - aidaraliev12345\\nSpokenBy:ID-1</td>\n",
       "      <td>AN0-DI0-FE2-SA0-SU0-JO0</td>\n",
       "      <td>ID-1</td>\n",
       "      <td>TRAIN</td>\n",
       "      <td>[fear:2]</td>\n",
       "    </tr>\n",
       "    <tr>\n",
       "      <th>3</th>\n",
       "      <td>QC copy - 1500 - 04 Nightwing 19 _Nightwing 95...</td>\n",
       "      <td>1</td>\n",
       "      <td>3</td>\n",
       "      <td>1</td>\n",
       "      <td>OH, HEY. I THINK SHE'S AWAKE.</td>\n",
       "      <td>2024-08-27 - aselermekova20\\nFeeling:AN0-DI0-F...</td>\n",
       "      <td>2024-08-27 - aselermekova20\\nFeeling:AN0-DI0-F...</td>\n",
       "      <td>2024-09-05 - aidaraliev12345\\nSpokenBy:ID-2</td>\n",
       "      <td>AN0-DI0-FE0-SA0-SU4-JO0</td>\n",
       "      <td>ID-2</td>\n",
       "      <td>TRAIN</td>\n",
       "      <td>[surprise:4]</td>\n",
       "    </tr>\n",
       "    <tr>\n",
       "      <th>4</th>\n",
       "      <td>QC copy - 1500 - 04 Nightwing 19 _Nightwing 95...</td>\n",
       "      <td>1</td>\n",
       "      <td>4</td>\n",
       "      <td>1</td>\n",
       "      <td>WELCOME BACK, MADAM MAYOR. BLOCKBUSTER IS PRET...</td>\n",
       "      <td>2024-08-27 - aselermekova20\\nFeeling:AN3-DI0-F...</td>\n",
       "      <td>2024-08-27 - aselermekova20\\nFeeling:AN3-DI0-F...</td>\n",
       "      <td>2024-09-05 - aidaraliev12345\\nSpokenBy:ID-1</td>\n",
       "      <td>AN3-DI0-FE0-SA0-SU0-JO0</td>\n",
       "      <td>ID-1</td>\n",
       "      <td>TRAIN</td>\n",
       "      <td>[anger:3]</td>\n",
       "    </tr>\n",
       "    <tr>\n",
       "      <th>...</th>\n",
       "      <td>...</td>\n",
       "      <td>...</td>\n",
       "      <td>...</td>\n",
       "      <td>...</td>\n",
       "      <td>...</td>\n",
       "      <td>...</td>\n",
       "      <td>...</td>\n",
       "      <td>...</td>\n",
       "      <td>...</td>\n",
       "      <td>...</td>\n",
       "      <td>...</td>\n",
       "      <td>...</td>\n",
       "    </tr>\n",
       "    <tr>\n",
       "      <th>7124</th>\n",
       "      <td>QC copy - 1737 - 34 The Walking Dead vol 15 - ...</td>\n",
       "      <td>21</td>\n",
       "      <td>3</td>\n",
       "      <td>2</td>\n",
       "      <td>SHE WOULDN'T DO THAT TO US. WE TALKED FOR A LO...</td>\n",
       "      <td>2024-09-06 - SyimykRasulov\\nFeeling:AN0-DI0-FE...</td>\n",
       "      <td>2024-09-06 - SyimykRasulov\\nFeeling:AN0-DI0-FE...</td>\n",
       "      <td>\\n2024-09-06 - SyimykRasulov\\nSpokenBy:Eugene</td>\n",
       "      <td>AN0-DI0-FE1-SA3-SU0-JO0</td>\n",
       "      <td>Eugene</td>\n",
       "      <td>TRAIN</td>\n",
       "      <td>[fear:1, sadness:3]</td>\n",
       "    </tr>\n",
       "    <tr>\n",
       "      <th>7125</th>\n",
       "      <td>QC copy - 1737 - 34 The Walking Dead vol 15 - ...</td>\n",
       "      <td>21</td>\n",
       "      <td>3</td>\n",
       "      <td>3</td>\n",
       "      <td>… I KNOW HER.</td>\n",
       "      <td>2024-09-06 - SyimykRasulov\\nFeeling:AN0-DI0-FE...</td>\n",
       "      <td>2024-09-06 - SyimykRasulov\\nFeeling:AN0-DI0-FE...</td>\n",
       "      <td>\\n2024-09-06 - SyimykRasulov\\nSpokenBy:Eugene</td>\n",
       "      <td>AN0-DI0-FE1-SA3-SU0-JO0</td>\n",
       "      <td>Eugene</td>\n",
       "      <td>TRAIN</td>\n",
       "      <td>[fear:1, sadness:3]</td>\n",
       "    </tr>\n",
       "    <tr>\n",
       "      <th>7126</th>\n",
       "      <td>QC copy - 1737 - 34 The Walking Dead vol 15 - ...</td>\n",
       "      <td>21</td>\n",
       "      <td>4</td>\n",
       "      <td>1</td>\n",
       "      <td>UH, GUYS…</td>\n",
       "      <td>2024-09-06 - SyimykRasulov\\nFeeling:AN0-DI0-FE...</td>\n",
       "      <td>2024-09-06 - SyimykRasulov\\nFeeling:AN0-DI0-FE...</td>\n",
       "      <td>\\n2024-09-06 - SyimykRasulov\\nSpokenBy:JUANITA...</td>\n",
       "      <td>AN0-DI0-FE3-SA0-SU4-JO0</td>\n",
       "      <td>JUANITA SANCHEZ</td>\n",
       "      <td>TRAIN</td>\n",
       "      <td>[fear:3, surprise:4]</td>\n",
       "    </tr>\n",
       "    <tr>\n",
       "      <th>7127</th>\n",
       "      <td>QC copy - 1737 - 34 The Walking Dead vol 15 - ...</td>\n",
       "      <td>22</td>\n",
       "      <td>1</td>\n",
       "      <td>1</td>\n",
       "      <td>PUT YOUR WEAPONS DOWN AND PUT YOUR HANDS IN TH...</td>\n",
       "      <td>2024-09-06 - SyimykRasulov\\nFeeling:AN4-DI0-FE...</td>\n",
       "      <td>2024-09-06 - SyimykRasulov\\nFeeling:AN4-DI0-FE...</td>\n",
       "      <td>\\n2024-09-06 - SyimykRasulov\\nSpokenBy:ID- 2</td>\n",
       "      <td>AN4-DI0-FE0-SA0-SU0-JO0</td>\n",
       "      <td>ID- 2</td>\n",
       "      <td>TRAIN</td>\n",
       "      <td>[anger:4]</td>\n",
       "    </tr>\n",
       "    <tr>\n",
       "      <th>7128</th>\n",
       "      <td>QC copy - 1737 - 34 The Walking Dead vol 15 - ...</td>\n",
       "      <td>22</td>\n",
       "      <td>2</td>\n",
       "      <td>1</td>\n",
       "      <td>SURE DOESN'T SEEM LIKE THEY CAME HERE TO TALK…</td>\n",
       "      <td>2024-09-06 - SyimykRasulov\\nFeeling:AN4-DI0-FE...</td>\n",
       "      <td>2024-09-06 - SyimykRasulov\\nFeeling:AN4-DI0-FE...</td>\n",
       "      <td>\\n2024-09-06 - SyimykRasulov\\nSpokenBy:Michonne</td>\n",
       "      <td>AN4-DI0-FE3-SA2-SU0-JO0</td>\n",
       "      <td>Michonne</td>\n",
       "      <td>TRAIN</td>\n",
       "      <td>[anger:4, fear:3, sadness:2]</td>\n",
       "    </tr>\n",
       "  </tbody>\n",
       "</table>\n",
       "<p>7129 rows × 12 columns</p>\n",
       "</div>"
      ],
      "text/plain": [
       "                                              file_name  page_nr  panel_nr  \\\n",
       "0     QC copy - 1500 - 04 Nightwing 19 _Nightwing 95...        1         2   \n",
       "1     QC copy - 1500 - 04 Nightwing 19 _Nightwing 95...        1         2   \n",
       "2     QC copy - 1500 - 04 Nightwing 19 _Nightwing 95...        1         2   \n",
       "3     QC copy - 1500 - 04 Nightwing 19 _Nightwing 95...        1         3   \n",
       "4     QC copy - 1500 - 04 Nightwing 19 _Nightwing 95...        1         4   \n",
       "...                                                 ...      ...       ...   \n",
       "7124  QC copy - 1737 - 34 The Walking Dead vol 15 - ...       21         3   \n",
       "7125  QC copy - 1737 - 34 The Walking Dead vol 15 - ...       21         3   \n",
       "7126  QC copy - 1737 - 34 The Walking Dead vol 15 - ...       21         4   \n",
       "7127  QC copy - 1737 - 34 The Walking Dead vol 15 - ...       22         1   \n",
       "7128  QC copy - 1737 - 34 The Walking Dead vol 15 - ...       22         2   \n",
       "\n",
       "      balloon_nr                                          utterance  \\\n",
       "0              1           DID YOU HAVE TO ELECTROCUTE HER SO HARD?   \n",
       "1              2           IT'S NOT LIKE I HAVE DIFFERENT SETTINGS.   \n",
       "2              3  YOU'RE ELECTROCUTIONER. IT'S YOUR WHOLE THING....   \n",
       "3              1                      OH, HEY. I THINK SHE'S AWAKE.   \n",
       "4              1  WELCOME BACK, MADAM MAYOR. BLOCKBUSTER IS PRET...   \n",
       "...          ...                                                ...   \n",
       "7124           2  SHE WOULDN'T DO THAT TO US. WE TALKED FOR A LO...   \n",
       "7125           3                                      … I KNOW HER.   \n",
       "7126           1                                          UH, GUYS…   \n",
       "7127           1  PUT YOUR WEAPONS DOWN AND PUT YOUR HANDS IN TH...   \n",
       "7128           1     SURE DOESN'T SEEM LIKE THEY CAME HERE TO TALK…   \n",
       "\n",
       "                                         raw_annotation  \\\n",
       "0     2024-08-27 - aselermekova20\\nFeeling:AN0-DI0-F...   \n",
       "1     2024-08-27 - aselermekova20\\nFeeling:AN0-DI0-F...   \n",
       "2     2024-08-27 - aselermekova20\\nFeeling:AN0-DI0-F...   \n",
       "3     2024-08-27 - aselermekova20\\nFeeling:AN0-DI0-F...   \n",
       "4     2024-08-27 - aselermekova20\\nFeeling:AN3-DI0-F...   \n",
       "...                                                 ...   \n",
       "7124  2024-09-06 - SyimykRasulov\\nFeeling:AN0-DI0-FE...   \n",
       "7125  2024-09-06 - SyimykRasulov\\nFeeling:AN0-DI0-FE...   \n",
       "7126  2024-09-06 - SyimykRasulov\\nFeeling:AN0-DI0-FE...   \n",
       "7127  2024-09-06 - SyimykRasulov\\nFeeling:AN4-DI0-FE...   \n",
       "7128  2024-09-06 - SyimykRasulov\\nFeeling:AN4-DI0-FE...   \n",
       "\n",
       "                                            raw_emotion  \\\n",
       "0     2024-08-27 - aselermekova20\\nFeeling:AN0-DI0-F...   \n",
       "1     2024-08-27 - aselermekova20\\nFeeling:AN0-DI0-F...   \n",
       "2     2024-08-27 - aselermekova20\\nFeeling:AN0-DI0-F...   \n",
       "3     2024-08-27 - aselermekova20\\nFeeling:AN0-DI0-F...   \n",
       "4     2024-08-27 - aselermekova20\\nFeeling:AN3-DI0-F...   \n",
       "...                                                 ...   \n",
       "7124  2024-09-06 - SyimykRasulov\\nFeeling:AN0-DI0-FE...   \n",
       "7125  2024-09-06 - SyimykRasulov\\nFeeling:AN0-DI0-FE...   \n",
       "7126  2024-09-06 - SyimykRasulov\\nFeeling:AN0-DI0-FE...   \n",
       "7127  2024-09-06 - SyimykRasulov\\nFeeling:AN4-DI0-FE...   \n",
       "7128  2024-09-06 - SyimykRasulov\\nFeeling:AN4-DI0-FE...   \n",
       "\n",
       "                                         raw_speaker_id  \\\n",
       "0           2024-09-05 - aidaraliev12345\\nSpokenBy:ID-1   \n",
       "1           2024-09-05 - aidaraliev12345\\nSpokenBy:ID-2   \n",
       "2           2024-09-05 - aidaraliev12345\\nSpokenBy:ID-1   \n",
       "3           2024-09-05 - aidaraliev12345\\nSpokenBy:ID-2   \n",
       "4           2024-09-05 - aidaraliev12345\\nSpokenBy:ID-1   \n",
       "...                                                 ...   \n",
       "7124      \\n2024-09-06 - SyimykRasulov\\nSpokenBy:Eugene   \n",
       "7125      \\n2024-09-06 - SyimykRasulov\\nSpokenBy:Eugene   \n",
       "7126  \\n2024-09-06 - SyimykRasulov\\nSpokenBy:JUANITA...   \n",
       "7127       \\n2024-09-06 - SyimykRasulov\\nSpokenBy:ID- 2   \n",
       "7128    \\n2024-09-06 - SyimykRasulov\\nSpokenBy:Michonne   \n",
       "\n",
       "                      emotion       speaker_id  split  \\\n",
       "0     AN0-DI0-FE3-SA0-SU5-JO0             ID-1  TRAIN   \n",
       "1     AN0-DI0-FE0-SA0-SU5-JO0             ID-2  TRAIN   \n",
       "2     AN0-DI0-FE2-SA0-SU0-JO0             ID-1  TRAIN   \n",
       "3     AN0-DI0-FE0-SA0-SU4-JO0             ID-2  TRAIN   \n",
       "4     AN3-DI0-FE0-SA0-SU0-JO0             ID-1  TRAIN   \n",
       "...                       ...              ...    ...   \n",
       "7124  AN0-DI0-FE1-SA3-SU0-JO0           Eugene  TRAIN   \n",
       "7125  AN0-DI0-FE1-SA3-SU0-JO0           Eugene  TRAIN   \n",
       "7126  AN0-DI0-FE3-SA0-SU4-JO0  JUANITA SANCHEZ  TRAIN   \n",
       "7127  AN4-DI0-FE0-SA0-SU0-JO0            ID- 2  TRAIN   \n",
       "7128  AN4-DI0-FE3-SA2-SU0-JO0         Michonne  TRAIN   \n",
       "\n",
       "                 utterance_emotion  \n",
       "0             [fear:3, surprise:5]  \n",
       "1                     [surprise:5]  \n",
       "2                         [fear:2]  \n",
       "3                     [surprise:4]  \n",
       "4                        [anger:3]  \n",
       "...                            ...  \n",
       "7124           [fear:1, sadness:3]  \n",
       "7125           [fear:1, sadness:3]  \n",
       "7126          [fear:3, surprise:4]  \n",
       "7127                     [anger:4]  \n",
       "7128  [anger:4, fear:3, sadness:2]  \n",
       "\n",
       "[7129 rows x 12 columns]"
      ]
     },
     "execution_count": 48,
     "metadata": {},
     "output_type": "execute_result"
    }
   ],
   "source": [
    "dataset_df"
   ]
  },
  {
   "cell_type": "code",
   "execution_count": 49,
   "metadata": {},
   "outputs": [],
   "source": [
    "def get_unique_emotion(row):\n",
    "    \n",
    "    emotion_vals = []\n",
    "    utterance_emotion = row.utterance_emotion\n",
    "    \n",
    "    for element in utterance_emotion:\n",
    "        if element == 'neutral':\n",
    "            return 'neutral'\n",
    "        else:\n",
    "            emotion_val = element.split(\":\")[1]\n",
    "            emotion_vals.append(emotion_val)\n",
    "    \n",
    "    return utterance_emotion[emotion_vals.index(max(emotion_vals))].split(\":\")[0]    "
   ]
  },
  {
   "cell_type": "code",
   "execution_count": 50,
   "metadata": {},
   "outputs": [],
   "source": [
    "dataset_df['unique_emotion'] = dataset_df.apply(lambda row: get_unique_emotion(row), axis=1)"
   ]
  },
  {
   "cell_type": "code",
   "execution_count": 51,
   "metadata": {},
   "outputs": [],
   "source": [
    "train_df = dataset_df[dataset_df.split=='TRAIN'].reset_index(drop=True)\n",
    "test_df = dataset_df[dataset_df.split=='TEST'].reset_index(drop=True)"
   ]
  },
  {
   "cell_type": "markdown",
   "metadata": {
    "gradient": {
     "editing": false,
     "id": "41d56883-23e9-4722-9298-bc70f438ed0d",
     "kernelId": ""
    }
   },
   "source": [
    "## Prepare Dataset object"
   ]
  },
  {
   "cell_type": "code",
   "execution_count": 52,
   "metadata": {},
   "outputs": [],
   "source": [
    "dataset_train = Dataset.from_pandas(train_df)\n",
    "dataset_test = Dataset.from_pandas(test_df)"
   ]
  },
  {
   "cell_type": "code",
   "execution_count": 53,
   "metadata": {},
   "outputs": [],
   "source": [
    "train_val_datasets = dataset_train.train_test_split(train_size=0.9)\n",
    "dataset_train = train_val_datasets['train']\n",
    "dataset_val = train_val_datasets['test']"
   ]
  },
  {
   "cell_type": "code",
   "execution_count": 54,
   "metadata": {
    "gradient": {
     "editing": false,
     "id": "e260bb57-be23-441a-a38f-f0598f773f9c",
     "kernelId": ""
    }
   },
   "outputs": [],
   "source": [
    "dataset = DatasetDict({\"train\": dataset_train, \"test\": dataset_test, \"validation\": dataset_val})"
   ]
  },
  {
   "cell_type": "code",
   "execution_count": 55,
   "metadata": {
    "gradient": {
     "editing": false,
     "id": "b8ec2355-2e51-4cf6-ad2b-0ae3e6e52419",
     "kernelId": ""
    }
   },
   "outputs": [
    {
     "data": {
      "text/plain": [
       "DatasetDict({\n",
       "    train: Dataset({\n",
       "        features: ['file_name', 'page_nr', 'panel_nr', 'balloon_nr', 'utterance', 'raw_annotation', 'raw_emotion', 'raw_speaker_id', 'emotion', 'speaker_id', 'split', 'utterance_emotion', 'unique_emotion'],\n",
       "        num_rows: 5222\n",
       "    })\n",
       "    test: Dataset({\n",
       "        features: ['file_name', 'page_nr', 'panel_nr', 'balloon_nr', 'utterance', 'raw_annotation', 'raw_emotion', 'raw_speaker_id', 'emotion', 'speaker_id', 'split', 'utterance_emotion', 'unique_emotion'],\n",
       "        num_rows: 1326\n",
       "    })\n",
       "    validation: Dataset({\n",
       "        features: ['file_name', 'page_nr', 'panel_nr', 'balloon_nr', 'utterance', 'raw_annotation', 'raw_emotion', 'raw_speaker_id', 'emotion', 'speaker_id', 'split', 'utterance_emotion', 'unique_emotion'],\n",
       "        num_rows: 581\n",
       "    })\n",
       "})"
      ]
     },
     "execution_count": 55,
     "metadata": {},
     "output_type": "execute_result"
    }
   ],
   "source": [
    "dataset"
   ]
  },
  {
   "cell_type": "code",
   "execution_count": 56,
   "metadata": {
    "gradient": {
     "editing": false,
     "id": "b7e61d38-7343-4e99-830c-54f683dde1a2",
     "kernelId": ""
    }
   },
   "outputs": [
    {
     "data": {
      "text/plain": [
       "({'TRAIN'}, {'TEST'}, {'TRAIN'})"
      ]
     },
     "execution_count": 56,
     "metadata": {},
     "output_type": "execute_result"
    }
   ],
   "source": [
    "# sanity check\n",
    "set(dataset['train']['split']), set(dataset['test']['split']), set(dataset['validation']['split'])"
   ]
  },
  {
   "cell_type": "markdown",
   "metadata": {
    "gradient": {
     "editing": false,
     "id": "8ab4f270-c88d-4519-bc7b-83705dd28808",
     "kernelId": ""
    }
   },
   "source": [
    "## Save dataset"
   ]
  },
  {
   "cell_type": "code",
   "execution_count": 57,
   "metadata": {
    "gradient": {
     "editing": false,
     "id": "6dadff8a-16ab-4dbc-bd1a-36e1d65db632",
     "kernelId": ""
    }
   },
   "outputs": [],
   "source": [
    "torch.save(dataset, os.path.join(\"emotion_analysis_comics/bert/datasets/\", 'comics_dataset_35.pt'))"
   ]
  },
  {
   "cell_type": "code",
   "execution_count": null,
   "metadata": {},
   "outputs": [],
   "source": []
  }
 ],
 "metadata": {
  "kernelspec": {
   "display_name": "Python 3 (ipykernel)",
   "language": "python",
   "name": "python3"
  }
 },
 "nbformat": 4,
 "nbformat_minor": 4
}
