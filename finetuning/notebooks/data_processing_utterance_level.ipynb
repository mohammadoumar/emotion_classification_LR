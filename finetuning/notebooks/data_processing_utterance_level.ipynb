{
 "cells": [
  {
   "cell_type": "markdown",
   "id": "b20aa00d-c84a-4970-bc99-ffd9f8ed9776",
   "metadata": {},
   "source": [
    "# Data Pre-Processing"
   ]
  },
  {
   "cell_type": "code",
   "execution_count": 3,
   "id": "640868d0-4cf7-4fb0-bfb3-3ed663372d48",
   "metadata": {},
   "outputs": [],
   "source": [
    "import os\n",
    "import glob\n",
    "import json\n",
    "import random\n",
    "import pandas as pd\n",
    "\n",
    "from pathlib import Path"
   ]
  },
  {
   "cell_type": "code",
   "execution_count": 9,
   "id": "dc1c6f46",
   "metadata": {},
   "outputs": [],
   "source": [
    "CURRENT_DIR = Path.cwd()"
   ]
  },
  {
   "cell_type": "code",
   "execution_count": 10,
   "id": "c0df15c2",
   "metadata": {},
   "outputs": [],
   "source": [
    "DATA_FILE = Path(CURRENT_DIR) / \"emotion_analysis_comics\" / \"finetuning\" / \"data_files\" / \"comics_data_processed.csv\"\n",
    "DATASET_DIR = Path(CURRENT_DIR) / \"emotion_analysis_comics\" / \"finetuning\" / \"datasets\""
   ]
  },
  {
   "cell_type": "code",
   "execution_count": 15,
   "id": "7f0c44be-8571-45e5-a85e-808d4990a707",
   "metadata": {},
   "outputs": [],
   "source": [
    "\n",
    "df = pd.read_csv(DATA_FILE)\n",
    "df = df.drop(columns=[df.columns[0], df.columns[1]])"
   ]
  },
  {
   "cell_type": "code",
   "execution_count": 16,
   "id": "dcf9f155-8e66-4a51-ae38-d0dd5f58006b",
   "metadata": {},
   "outputs": [
    {
     "data": {
      "text/html": [
       "<div>\n",
       "<style scoped>\n",
       "    .dataframe tbody tr th:only-of-type {\n",
       "        vertical-align: middle;\n",
       "    }\n",
       "\n",
       "    .dataframe tbody tr th {\n",
       "        vertical-align: top;\n",
       "    }\n",
       "\n",
       "    .dataframe thead th {\n",
       "        text-align: right;\n",
       "    }\n",
       "</style>\n",
       "<table border=\"1\" class=\"dataframe\">\n",
       "  <thead>\n",
       "    <tr style=\"text-align: right;\">\n",
       "      <th></th>\n",
       "      <th>file_name</th>\n",
       "      <th>page_nr</th>\n",
       "      <th>panel_nr</th>\n",
       "      <th>balloon_nr</th>\n",
       "      <th>utterance</th>\n",
       "      <th>raw_annotation</th>\n",
       "      <th>raw_emotion</th>\n",
       "      <th>raw_speaker_id</th>\n",
       "      <th>emotion</th>\n",
       "      <th>speaker_id</th>\n",
       "      <th>split</th>\n",
       "    </tr>\n",
       "  </thead>\n",
       "  <tbody>\n",
       "    <tr>\n",
       "      <th>0</th>\n",
       "      <td>QC copy - 1500 - 04 Nightwing 19 _Nightwing 95...</td>\n",
       "      <td>1</td>\n",
       "      <td>2</td>\n",
       "      <td>1</td>\n",
       "      <td>DID YOU HAVE TO ELECTROCUTE HER SO HARD?</td>\n",
       "      <td>2024-08-27 - aselermekova20\\nFeeling:AN0-DI0-F...</td>\n",
       "      <td>2024-08-27 - aselermekova20\\nFeeling:AN0-DI0-F...</td>\n",
       "      <td>2024-09-05 - aidaraliev12345\\nSpokenBy:ID-1</td>\n",
       "      <td>AN0-DI0-FE3-SA0-SU5-JO0</td>\n",
       "      <td>ID-1</td>\n",
       "      <td>TRAIN</td>\n",
       "    </tr>\n",
       "    <tr>\n",
       "      <th>1</th>\n",
       "      <td>QC copy - 1500 - 04 Nightwing 19 _Nightwing 95...</td>\n",
       "      <td>1</td>\n",
       "      <td>2</td>\n",
       "      <td>2</td>\n",
       "      <td>IT'S NOT LIKE I HAVE DIFFERENT SETTINGS.</td>\n",
       "      <td>2024-08-27 - aselermekova20\\nFeeling:AN0-DI0-F...</td>\n",
       "      <td>2024-08-27 - aselermekova20\\nFeeling:AN0-DI0-F...</td>\n",
       "      <td>2024-09-05 - aidaraliev12345\\nSpokenBy:ID-2</td>\n",
       "      <td>AN0-DI0-FE0-SA0-SU5-JO0</td>\n",
       "      <td>ID-2</td>\n",
       "      <td>TRAIN</td>\n",
       "    </tr>\n",
       "    <tr>\n",
       "      <th>2</th>\n",
       "      <td>QC copy - 1500 - 04 Nightwing 19 _Nightwing 95...</td>\n",
       "      <td>1</td>\n",
       "      <td>2</td>\n",
       "      <td>3</td>\n",
       "      <td>YOU'RE ELECTROCUTIONER. IT'S YOUR WHOLE THING....</td>\n",
       "      <td>2024-08-27 - aselermekova20\\nFeeling:AN0-DI0-F...</td>\n",
       "      <td>2024-08-27 - aselermekova20\\nFeeling:AN0-DI0-F...</td>\n",
       "      <td>2024-09-05 - aidaraliev12345\\nSpokenBy:ID-1</td>\n",
       "      <td>AN0-DI0-FE2-SA0-SU0-JO0</td>\n",
       "      <td>ID-1</td>\n",
       "      <td>TRAIN</td>\n",
       "    </tr>\n",
       "    <tr>\n",
       "      <th>3</th>\n",
       "      <td>QC copy - 1500 - 04 Nightwing 19 _Nightwing 95...</td>\n",
       "      <td>1</td>\n",
       "      <td>3</td>\n",
       "      <td>1</td>\n",
       "      <td>OH, HEY. I THINK SHE'S AWAKE.</td>\n",
       "      <td>2024-08-27 - aselermekova20\\nFeeling:AN0-DI0-F...</td>\n",
       "      <td>2024-08-27 - aselermekova20\\nFeeling:AN0-DI0-F...</td>\n",
       "      <td>2024-09-05 - aidaraliev12345\\nSpokenBy:ID-2</td>\n",
       "      <td>AN0-DI0-FE0-SA0-SU4-JO0</td>\n",
       "      <td>ID-2</td>\n",
       "      <td>TRAIN</td>\n",
       "    </tr>\n",
       "    <tr>\n",
       "      <th>4</th>\n",
       "      <td>QC copy - 1500 - 04 Nightwing 19 _Nightwing 95...</td>\n",
       "      <td>1</td>\n",
       "      <td>4</td>\n",
       "      <td>1</td>\n",
       "      <td>WELCOME BACK, MADAM MAYOR. BLOCKBUSTER IS PRET...</td>\n",
       "      <td>2024-08-27 - aselermekova20\\nFeeling:AN3-DI0-F...</td>\n",
       "      <td>2024-08-27 - aselermekova20\\nFeeling:AN3-DI0-F...</td>\n",
       "      <td>2024-09-05 - aidaraliev12345\\nSpokenBy:ID-1</td>\n",
       "      <td>AN3-DI0-FE0-SA0-SU0-JO0</td>\n",
       "      <td>ID-1</td>\n",
       "      <td>TRAIN</td>\n",
       "    </tr>\n",
       "    <tr>\n",
       "      <th>...</th>\n",
       "      <td>...</td>\n",
       "      <td>...</td>\n",
       "      <td>...</td>\n",
       "      <td>...</td>\n",
       "      <td>...</td>\n",
       "      <td>...</td>\n",
       "      <td>...</td>\n",
       "      <td>...</td>\n",
       "      <td>...</td>\n",
       "      <td>...</td>\n",
       "      <td>...</td>\n",
       "    </tr>\n",
       "    <tr>\n",
       "      <th>5277</th>\n",
       "      <td>QC copy - 1499 - 58 ECC Co_mics 50 _The Jurass...</td>\n",
       "      <td>20</td>\n",
       "      <td>1</td>\n",
       "      <td>1</td>\n",
       "      <td>I KNOW THE BEINGS OF THIS WORLD ARE TRYING TO ...</td>\n",
       "      <td>2024-08-27 - aselermekova20\\nFeeling:AN5-DI0-F...</td>\n",
       "      <td>2024-08-27 - aselermekova20\\nFeeling:AN5-DI0-F...</td>\n",
       "      <td>2024-09-05 - aidaraliev12345\\nSpokenBy:BLACKMA...</td>\n",
       "      <td>AN5-DI0-FE0-SA0-SU0-JO0</td>\n",
       "      <td>BLACKMANTASAURUS</td>\n",
       "      <td>TEST</td>\n",
       "    </tr>\n",
       "    <tr>\n",
       "      <th>5278</th>\n",
       "      <td>QC copy - 1499 - 58 ECC Co_mics 50 _The Jurass...</td>\n",
       "      <td>20</td>\n",
       "      <td>1</td>\n",
       "      <td>2</td>\n",
       "      <td>… BUT I WILL CRUSH THEM IN DUE TIME!</td>\n",
       "      <td>2024-08-27 - aselermekova20\\nFeeling:AN5-DI0-F...</td>\n",
       "      <td>2024-08-27 - aselermekova20\\nFeeling:AN5-DI0-F...</td>\n",
       "      <td>2024-09-05 - aidaraliev12345\\nSpokenBy:BLACKMA...</td>\n",
       "      <td>AN5-DI0-FE0-SA0-SU0-JO0</td>\n",
       "      <td>BLACKMANTASAURUS</td>\n",
       "      <td>TEST</td>\n",
       "    </tr>\n",
       "    <tr>\n",
       "      <th>5279</th>\n",
       "      <td>QC copy - 1499 - 58 ECC Co_mics 50 _The Jurass...</td>\n",
       "      <td>20</td>\n",
       "      <td>2</td>\n",
       "      <td>1</td>\n",
       "      <td>FOR MY FIRST TASK...</td>\n",
       "      <td>2024-08-27 - aselermekova20\\nFeeling:AN5-DI0-F...</td>\n",
       "      <td>2024-08-27 - aselermekova20\\nFeeling:AN5-DI0-F...</td>\n",
       "      <td>2024-09-05 - aidaraliev12345\\nSpokenBy:BLACKMA...</td>\n",
       "      <td>AN5-DI0-FE0-SA0-SU0-JO0</td>\n",
       "      <td>BLACKMANTASAURUS</td>\n",
       "      <td>TEST</td>\n",
       "    </tr>\n",
       "    <tr>\n",
       "      <th>5280</th>\n",
       "      <td>QC copy - 1499 - 58 ECC Co_mics 50 _The Jurass...</td>\n",
       "      <td>20</td>\n",
       "      <td>2</td>\n",
       "      <td>2</td>\n",
       "      <td>… I MUST REMOVE THIS WORLD OF THEIR GODS!</td>\n",
       "      <td>2024-08-27 - aselermekova20\\nFeeling:AN5-DI0-F...</td>\n",
       "      <td>2024-08-27 - aselermekova20\\nFeeling:AN5-DI0-F...</td>\n",
       "      <td>2024-09-05 - aidaraliev12345\\nSpokenBy:BLACKMA...</td>\n",
       "      <td>AN5-DI0-FE0-SA0-SU0-JO5</td>\n",
       "      <td>BLACKMANTASAURUS</td>\n",
       "      <td>TEST</td>\n",
       "    </tr>\n",
       "    <tr>\n",
       "      <th>5281</th>\n",
       "      <td>QC copy - 1499 - 58 ECC Co_mics 50 _The Jurass...</td>\n",
       "      <td>20</td>\n",
       "      <td>2</td>\n",
       "      <td>3</td>\n",
       "      <td>TRIMYSCIRA! DARKYLOSEID IS COMING FOR YOU!</td>\n",
       "      <td>2024-08-27 - aselermekova20\\nFeeling:AN5-DI0-F...</td>\n",
       "      <td>2024-08-27 - aselermekova20\\nFeeling:AN5-DI0-F...</td>\n",
       "      <td>2024-08-27 - aselermekova20\\nSpokenBy:BLACKMAN...</td>\n",
       "      <td>AN5-DI0-FE0-SA0-SU0-JO0</td>\n",
       "      <td>BLACKMANTASAURUS</td>\n",
       "      <td>TEST</td>\n",
       "    </tr>\n",
       "  </tbody>\n",
       "</table>\n",
       "<p>5282 rows × 11 columns</p>\n",
       "</div>"
      ],
      "text/plain": [
       "                                              file_name  page_nr  panel_nr  \\\n",
       "0     QC copy - 1500 - 04 Nightwing 19 _Nightwing 95...        1         2   \n",
       "1     QC copy - 1500 - 04 Nightwing 19 _Nightwing 95...        1         2   \n",
       "2     QC copy - 1500 - 04 Nightwing 19 _Nightwing 95...        1         2   \n",
       "3     QC copy - 1500 - 04 Nightwing 19 _Nightwing 95...        1         3   \n",
       "4     QC copy - 1500 - 04 Nightwing 19 _Nightwing 95...        1         4   \n",
       "...                                                 ...      ...       ...   \n",
       "5277  QC copy - 1499 - 58 ECC Co_mics 50 _The Jurass...       20         1   \n",
       "5278  QC copy - 1499 - 58 ECC Co_mics 50 _The Jurass...       20         1   \n",
       "5279  QC copy - 1499 - 58 ECC Co_mics 50 _The Jurass...       20         2   \n",
       "5280  QC copy - 1499 - 58 ECC Co_mics 50 _The Jurass...       20         2   \n",
       "5281  QC copy - 1499 - 58 ECC Co_mics 50 _The Jurass...       20         2   \n",
       "\n",
       "      balloon_nr                                          utterance  \\\n",
       "0              1           DID YOU HAVE TO ELECTROCUTE HER SO HARD?   \n",
       "1              2           IT'S NOT LIKE I HAVE DIFFERENT SETTINGS.   \n",
       "2              3  YOU'RE ELECTROCUTIONER. IT'S YOUR WHOLE THING....   \n",
       "3              1                      OH, HEY. I THINK SHE'S AWAKE.   \n",
       "4              1  WELCOME BACK, MADAM MAYOR. BLOCKBUSTER IS PRET...   \n",
       "...          ...                                                ...   \n",
       "5277           1  I KNOW THE BEINGS OF THIS WORLD ARE TRYING TO ...   \n",
       "5278           2               … BUT I WILL CRUSH THEM IN DUE TIME!   \n",
       "5279           1                               FOR MY FIRST TASK...   \n",
       "5280           2          … I MUST REMOVE THIS WORLD OF THEIR GODS!   \n",
       "5281           3         TRIMYSCIRA! DARKYLOSEID IS COMING FOR YOU!   \n",
       "\n",
       "                                         raw_annotation  \\\n",
       "0     2024-08-27 - aselermekova20\\nFeeling:AN0-DI0-F...   \n",
       "1     2024-08-27 - aselermekova20\\nFeeling:AN0-DI0-F...   \n",
       "2     2024-08-27 - aselermekova20\\nFeeling:AN0-DI0-F...   \n",
       "3     2024-08-27 - aselermekova20\\nFeeling:AN0-DI0-F...   \n",
       "4     2024-08-27 - aselermekova20\\nFeeling:AN3-DI0-F...   \n",
       "...                                                 ...   \n",
       "5277  2024-08-27 - aselermekova20\\nFeeling:AN5-DI0-F...   \n",
       "5278  2024-08-27 - aselermekova20\\nFeeling:AN5-DI0-F...   \n",
       "5279  2024-08-27 - aselermekova20\\nFeeling:AN5-DI0-F...   \n",
       "5280  2024-08-27 - aselermekova20\\nFeeling:AN5-DI0-F...   \n",
       "5281  2024-08-27 - aselermekova20\\nFeeling:AN5-DI0-F...   \n",
       "\n",
       "                                            raw_emotion  \\\n",
       "0     2024-08-27 - aselermekova20\\nFeeling:AN0-DI0-F...   \n",
       "1     2024-08-27 - aselermekova20\\nFeeling:AN0-DI0-F...   \n",
       "2     2024-08-27 - aselermekova20\\nFeeling:AN0-DI0-F...   \n",
       "3     2024-08-27 - aselermekova20\\nFeeling:AN0-DI0-F...   \n",
       "4     2024-08-27 - aselermekova20\\nFeeling:AN3-DI0-F...   \n",
       "...                                                 ...   \n",
       "5277  2024-08-27 - aselermekova20\\nFeeling:AN5-DI0-F...   \n",
       "5278  2024-08-27 - aselermekova20\\nFeeling:AN5-DI0-F...   \n",
       "5279  2024-08-27 - aselermekova20\\nFeeling:AN5-DI0-F...   \n",
       "5280  2024-08-27 - aselermekova20\\nFeeling:AN5-DI0-F...   \n",
       "5281  2024-08-27 - aselermekova20\\nFeeling:AN5-DI0-F...   \n",
       "\n",
       "                                         raw_speaker_id  \\\n",
       "0           2024-09-05 - aidaraliev12345\\nSpokenBy:ID-1   \n",
       "1           2024-09-05 - aidaraliev12345\\nSpokenBy:ID-2   \n",
       "2           2024-09-05 - aidaraliev12345\\nSpokenBy:ID-1   \n",
       "3           2024-09-05 - aidaraliev12345\\nSpokenBy:ID-2   \n",
       "4           2024-09-05 - aidaraliev12345\\nSpokenBy:ID-1   \n",
       "...                                                 ...   \n",
       "5277  2024-09-05 - aidaraliev12345\\nSpokenBy:BLACKMA...   \n",
       "5278  2024-09-05 - aidaraliev12345\\nSpokenBy:BLACKMA...   \n",
       "5279  2024-09-05 - aidaraliev12345\\nSpokenBy:BLACKMA...   \n",
       "5280  2024-09-05 - aidaraliev12345\\nSpokenBy:BLACKMA...   \n",
       "5281  2024-08-27 - aselermekova20\\nSpokenBy:BLACKMAN...   \n",
       "\n",
       "                      emotion        speaker_id  split  \n",
       "0     AN0-DI0-FE3-SA0-SU5-JO0              ID-1  TRAIN  \n",
       "1     AN0-DI0-FE0-SA0-SU5-JO0              ID-2  TRAIN  \n",
       "2     AN0-DI0-FE2-SA0-SU0-JO0              ID-1  TRAIN  \n",
       "3     AN0-DI0-FE0-SA0-SU4-JO0              ID-2  TRAIN  \n",
       "4     AN3-DI0-FE0-SA0-SU0-JO0              ID-1  TRAIN  \n",
       "...                       ...               ...    ...  \n",
       "5277  AN5-DI0-FE0-SA0-SU0-JO0  BLACKMANTASAURUS   TEST  \n",
       "5278  AN5-DI0-FE0-SA0-SU0-JO0  BLACKMANTASAURUS   TEST  \n",
       "5279  AN5-DI0-FE0-SA0-SU0-JO0  BLACKMANTASAURUS   TEST  \n",
       "5280  AN5-DI0-FE0-SA0-SU0-JO5  BLACKMANTASAURUS   TEST  \n",
       "5281  AN5-DI0-FE0-SA0-SU0-JO0  BLACKMANTASAURUS   TEST  \n",
       "\n",
       "[5282 rows x 11 columns]"
      ]
     },
     "execution_count": 16,
     "metadata": {},
     "output_type": "execute_result"
    }
   ],
   "source": [
    "df"
   ]
  },
  {
   "cell_type": "code",
   "execution_count": 17,
   "id": "99bccfe7-ba71-4732-ba8d-5fe9d13eee57",
   "metadata": {},
   "outputs": [
    {
     "data": {
      "text/plain": [
       "split\n",
       "TRAIN    3506\n",
       "TEST     1776\n",
       "Name: count, dtype: int64"
      ]
     },
     "execution_count": 17,
     "metadata": {},
     "output_type": "execute_result"
    }
   ],
   "source": [
    "df.split.value_counts()"
   ]
  },
  {
   "cell_type": "markdown",
   "id": "f6f2fa22-35d5-41aa-abf1-5a9987ee0b08",
   "metadata": {},
   "source": [
    "### Prepare prompts"
   ]
  },
  {
   "cell_type": "code",
   "execution_count": 18,
   "id": "3fd57164",
   "metadata": {},
   "outputs": [],
   "source": [
    "# Formatting Fx\n",
    "# Build questoin\n",
    "# Build answer"
   ]
  },
  {
   "cell_type": "code",
   "execution_count": 19,
   "id": "fb67bd9e-9e45-4e9c-8e5d-bc18bbb4f617",
   "metadata": {},
   "outputs": [
    {
     "data": {
      "text/plain": [
       "Index(['file_name', 'page_nr', 'panel_nr', 'balloon_nr', 'utterance',\n",
       "       'raw_annotation', 'raw_emotion', 'raw_speaker_id', 'emotion',\n",
       "       'speaker_id', 'split'],\n",
       "      dtype='object')"
      ]
     },
     "execution_count": 19,
     "metadata": {},
     "output_type": "execute_result"
    }
   ],
   "source": [
    "df.columns"
   ]
  },
  {
   "cell_type": "code",
   "execution_count": 20,
   "id": "608f81e7",
   "metadata": {},
   "outputs": [],
   "source": [
    "def formatting_fct(instruction=\"\", input=\"\", output=\"\"):\n",
    "    \n",
    "    prompt_d ={\n",
    "            \n",
    "        \"instruction\": f\"\"\"{instruction}\"\"\",\n",
    "        \"input\": f\"\"\"{input}\"\"\",\n",
    "        \"output\": f\"\"\"{output}\"\"\"\n",
    "            \n",
    "        }\n",
    "    \n",
    "    return prompt_d"
   ]
  },
  {
   "cell_type": "code",
   "execution_count": 47,
   "id": "b107f77e",
   "metadata": {},
   "outputs": [],
   "source": [
    "def build_instruction():\n",
    "\n",
    "    #results = json.dumps([\"emotion_class (str)\"] * nr_utterances)\n",
    "\n",
    "    instruction = f\"\"\"### You are an advanced emotion analysis expert. You are given an utterance from a comic book enclosed by <UT></UT> tags. Your task is to classify each utterance as one or more of the following emotion classes: \"Anger\", \"Disgust\", \"Fear\", \"Sadness\", \"Surprise\", \"Joy\" or \"Neutral\". You must return a list of emotion class(s) in following JSON format: {{\"list_emotion_classes\": [\"emotion_class (str)\", \"emotion_class (str)\" ... \"emotion_class (str)\"]}} where each element \"emotion_class (str)\" is replaced by one ore more of the following emotion class labels: \"Anger\", \"Disgust\", \"Fear\", \"Sadness\", \"Surprise\", \"Joy\" or \"Neutral\". You must pay special attention to the number of emotion classes (one more more) for every utterance.\n",
    "\"\"\"    \n",
    "    return instruction"
   ]
  },
  {
   "cell_type": "code",
   "execution_count": 48,
   "id": "1144129e",
   "metadata": {},
   "outputs": [],
   "source": [
    "# def build_tagged_text(text, start_indices, end_indices):\n",
    "\n",
    "#     offset = 0\n",
    "\n",
    "#     for i, (start_i, end_i) in enumerate(zip(start_indices, end_indices)):\n",
    "            \n",
    "#         start_tag = \"<UT\" + str(i+1) + \">\"\n",
    "#         end_tag = \"</UT\" + str(i+1) + \">\"\n",
    "        \n",
    "#         start_idx = start_i + offset\n",
    "#         end_idx = end_i + offset\n",
    "\n",
    "#         offset = offset + (len(start_tag)  + len(end_tag))\n",
    "        \n",
    "#         text_r = text[start_idx:end_idx]\n",
    "#         new_text = start_tag + text_r + end_tag\n",
    "#         text = text.replace(text_r, new_text)\n",
    "\n",
    "#         question = f\"\"\"### Here is the comic transcript: {text}\"\"\"\n",
    "\n",
    "#     return question"
   ]
  },
  {
   "cell_type": "code",
   "execution_count": 49,
   "id": "44e9dbd9",
   "metadata": {},
   "outputs": [],
   "source": [
    "def build_tagged_text(utterance):\n",
    "\n",
    "    # tagged_utterances_l = []\n",
    "\n",
    "    # for idx, utterance in enumerate(utterances_l):\n",
    "        \n",
    "    #     start_tag = \"<UT\" + str(idx+1) + \">\"\n",
    "    #     end_tag = \"</UT\" + str(idx+1) + \">\"\n",
    "    #     tagged_utterance = start_tag + utterance + end_tag\n",
    "    #     tagged_utterances_l.append(tagged_utterance)\n",
    "        \n",
    "    # tagged_title_text = ''.join(tagged_utterances_l)\n",
    "    \n",
    "    tagged_utterance = \"<UT>\" + utterance + \"</UT>\"\n",
    "    question = f\"\"\"### Here is the utterance from a comic book: {tagged_utterance}\"\"\"\n",
    "\n",
    "    return question"
   ]
  },
  {
   "cell_type": "code",
   "execution_count": 50,
   "id": "539b6d76",
   "metadata": {},
   "outputs": [],
   "source": [
    "def build_answer(utterance_emotions):\n",
    "\n",
    "    utterance_emotions_l = []\n",
    "    emotion_class_labels = [\"Anger\", \"Disgust\", \"Fear\", \"Sadness\", \"Surprise\", \"Joy\"]\n",
    "\n",
    "    if utterance_emotions == 'Neutral':\n",
    "        \n",
    "        utterance_emotions_l.append([utterance_emotions])\n",
    "    \n",
    "    else:\n",
    "        utterance_emotions = utterance_emotions.split(\"-\")\n",
    "       \n",
    "        #emotion_annotation_l = []\n",
    "\n",
    "        for idx, emotion_annotation in enumerate(utterance_emotions):\n",
    "\n",
    "            if '0' not in emotion_annotation:\n",
    "         \n",
    "                #emotion_annotation_l.append(emotion_class_labels[idx])\n",
    "                #utterance_emotions_l.append(emotion_annotation[:-1])\n",
    "                utterance_emotions_l.append(emotion_class_labels[idx])\n",
    "            \n",
    "        #title_emotions_l.append(emotion_annotation_l)\n",
    "                \n",
    "\n",
    "    return json.dumps({\"list_emotion_classes\": utterance_emotions_l})"
   ]
  },
  {
   "cell_type": "markdown",
   "id": "fdd67b57",
   "metadata": {},
   "source": [
    "### Build Data Files"
   ]
  },
  {
   "cell_type": "code",
   "execution_count": 51,
   "id": "85fd7584",
   "metadata": {},
   "outputs": [],
   "source": [
    "df_train = df[df.split == 'TRAIN'].reset_index()\n",
    "\n",
    "data_file_train = []\n",
    "\n",
    "for index, _ in df_train.iterrows():\n",
    "    \n",
    "    i = index\n",
    "\n",
    "    instruction = build_instruction()\n",
    "    question = build_tagged_text(df_train.iloc[i].utterance)\n",
    "    answer = build_answer(df_train.iloc[i].emotion)\n",
    "    \n",
    "    data_file_train.append( formatting_fct(instruction, question, answer) )"
   ]
  },
  {
   "cell_type": "code",
   "execution_count": 52,
   "id": "181fe00c",
   "metadata": {},
   "outputs": [
    {
     "data": {
      "text/plain": [
       "3506"
      ]
     },
     "execution_count": 52,
     "metadata": {},
     "output_type": "execute_result"
    }
   ],
   "source": [
    "len(data_file_train)"
   ]
  },
  {
   "cell_type": "code",
   "execution_count": 53,
   "id": "f7a42377",
   "metadata": {},
   "outputs": [
    {
     "name": "stdout",
     "output_type": "stream",
     "text": [
      "{'instruction': '### You are an advanced emotion analysis expert. You are given an utterance from a comic book enclosed by <UT></UT> tags. Your task is to classify each utterance as one or more of the following emotion classes: \"Anger\", \"Disgust\", \"Fear\", \"Sadness\", \"Surprise\", \"Joy\" or \"Neutral\". You must return a list of emotion class(s) in following JSON format: {\"list_emotion_classes\": [\"emotion_class (str)\", \"emotion_class (str)\" ... \"emotion_class (str)\"]} where each element \"emotion_class (str)\" is replaced by one ore more of the following emotion class labels: \"Anger\", \"Disgust\", \"Fear\", \"Sadness\", \"Surprise\", \"Joy\" or \"Neutral\". You must pay special attention to the number of emotion classes (one more more) for every utterance.\\n', 'input': '### Here is the utterance from a comic book: <UT>DID YOU HAVE TO ELECTROCUTE HER SO HARD?</UT>', 'output': '{\"list_emotion_classes\": [\"Fear\", \"Surprise\"]}'}\n",
      "{'instruction': '### You are an advanced emotion analysis expert. You are given an utterance from a comic book enclosed by <UT></UT> tags. Your task is to classify each utterance as one or more of the following emotion classes: \"Anger\", \"Disgust\", \"Fear\", \"Sadness\", \"Surprise\", \"Joy\" or \"Neutral\". You must return a list of emotion class(s) in following JSON format: {\"list_emotion_classes\": [\"emotion_class (str)\", \"emotion_class (str)\" ... \"emotion_class (str)\"]} where each element \"emotion_class (str)\" is replaced by one ore more of the following emotion class labels: \"Anger\", \"Disgust\", \"Fear\", \"Sadness\", \"Surprise\", \"Joy\" or \"Neutral\". You must pay special attention to the number of emotion classes (one more more) for every utterance.\\n', 'input': \"### Here is the utterance from a comic book: <UT>IT'S NOT LIKE I HAVE DIFFERENT SETTINGS.</UT>\", 'output': '{\"list_emotion_classes\": [\"Surprise\"]}'}\n",
      "{'instruction': '### You are an advanced emotion analysis expert. You are given an utterance from a comic book enclosed by <UT></UT> tags. Your task is to classify each utterance as one or more of the following emotion classes: \"Anger\", \"Disgust\", \"Fear\", \"Sadness\", \"Surprise\", \"Joy\" or \"Neutral\". You must return a list of emotion class(s) in following JSON format: {\"list_emotion_classes\": [\"emotion_class (str)\", \"emotion_class (str)\" ... \"emotion_class (str)\"]} where each element \"emotion_class (str)\" is replaced by one ore more of the following emotion class labels: \"Anger\", \"Disgust\", \"Fear\", \"Sadness\", \"Surprise\", \"Joy\" or \"Neutral\". You must pay special attention to the number of emotion classes (one more more) for every utterance.\\n', 'input': \"### Here is the utterance from a comic book: <UT>YOU'RE ELECTROCUTIONER. IT'S YOUR WHOLE THING. YOU'D THINK YOU'D HAVE SOME DEGREE OF CONTROL?</UT>\", 'output': '{\"list_emotion_classes\": [\"Fear\"]}'}\n",
      "{'instruction': '### You are an advanced emotion analysis expert. You are given an utterance from a comic book enclosed by <UT></UT> tags. Your task is to classify each utterance as one or more of the following emotion classes: \"Anger\", \"Disgust\", \"Fear\", \"Sadness\", \"Surprise\", \"Joy\" or \"Neutral\". You must return a list of emotion class(s) in following JSON format: {\"list_emotion_classes\": [\"emotion_class (str)\", \"emotion_class (str)\" ... \"emotion_class (str)\"]} where each element \"emotion_class (str)\" is replaced by one ore more of the following emotion class labels: \"Anger\", \"Disgust\", \"Fear\", \"Sadness\", \"Surprise\", \"Joy\" or \"Neutral\". You must pay special attention to the number of emotion classes (one more more) for every utterance.\\n', 'input': \"### Here is the utterance from a comic book: <UT>OH, HEY. I THINK SHE'S AWAKE.</UT>\", 'output': '{\"list_emotion_classes\": [\"Surprise\"]}'}\n",
      "{'instruction': '### You are an advanced emotion analysis expert. You are given an utterance from a comic book enclosed by <UT></UT> tags. Your task is to classify each utterance as one or more of the following emotion classes: \"Anger\", \"Disgust\", \"Fear\", \"Sadness\", \"Surprise\", \"Joy\" or \"Neutral\". You must return a list of emotion class(s) in following JSON format: {\"list_emotion_classes\": [\"emotion_class (str)\", \"emotion_class (str)\" ... \"emotion_class (str)\"]} where each element \"emotion_class (str)\" is replaced by one ore more of the following emotion class labels: \"Anger\", \"Disgust\", \"Fear\", \"Sadness\", \"Surprise\", \"Joy\" or \"Neutral\". You must pay special attention to the number of emotion classes (one more more) for every utterance.\\n', 'input': '### Here is the utterance from a comic book: <UT>WELCOME BACK, MADAM MAYOR. BLOCKBUSTER IS PRETTY PISSED WITH YOU.</UT>', 'output': '{\"list_emotion_classes\": [\"Anger\"]}'}\n",
      "{'instruction': '### You are an advanced emotion analysis expert. You are given an utterance from a comic book enclosed by <UT></UT> tags. Your task is to classify each utterance as one or more of the following emotion classes: \"Anger\", \"Disgust\", \"Fear\", \"Sadness\", \"Surprise\", \"Joy\" or \"Neutral\". You must return a list of emotion class(s) in following JSON format: {\"list_emotion_classes\": [\"emotion_class (str)\", \"emotion_class (str)\" ... \"emotion_class (str)\"]} where each element \"emotion_class (str)\" is replaced by one ore more of the following emotion class labels: \"Anger\", \"Disgust\", \"Fear\", \"Sadness\", \"Surprise\", \"Joy\" or \"Neutral\". You must pay special attention to the number of emotion classes (one more more) for every utterance.\\n', 'input': \"### Here is the utterance from a comic book: <UT>HE KNOWS YOU'RE WORKING WITH DICK GRAYSON.</UT>\", 'output': '{\"list_emotion_classes\": [\"Anger\", \"Surprise\"]}'}\n",
      "{'instruction': '### You are an advanced emotion analysis expert. You are given an utterance from a comic book enclosed by <UT></UT> tags. Your task is to classify each utterance as one or more of the following emotion classes: \"Anger\", \"Disgust\", \"Fear\", \"Sadness\", \"Surprise\", \"Joy\" or \"Neutral\". You must return a list of emotion class(s) in following JSON format: {\"list_emotion_classes\": [\"emotion_class (str)\", \"emotion_class (str)\" ... \"emotion_class (str)\"]} where each element \"emotion_class (str)\" is replaced by one ore more of the following emotion class labels: \"Anger\", \"Disgust\", \"Fear\", \"Sadness\", \"Surprise\", \"Joy\" or \"Neutral\". You must pay special attention to the number of emotion classes (one more more) for every utterance.\\n', 'input': '### Here is the utterance from a comic book: <UT>HE WANTS ME TO GET INFORMATION OUT OF YOU.</UT>', 'output': '{\"list_emotion_classes\": [\"Joy\"]}'}\n",
      "{'instruction': '### You are an advanced emotion analysis expert. You are given an utterance from a comic book enclosed by <UT></UT> tags. Your task is to classify each utterance as one or more of the following emotion classes: \"Anger\", \"Disgust\", \"Fear\", \"Sadness\", \"Surprise\", \"Joy\" or \"Neutral\". You must return a list of emotion class(s) in following JSON format: {\"list_emotion_classes\": [\"emotion_class (str)\", \"emotion_class (str)\" ... \"emotion_class (str)\"]} where each element \"emotion_class (str)\" is replaced by one ore more of the following emotion class labels: \"Anger\", \"Disgust\", \"Fear\", \"Sadness\", \"Surprise\", \"Joy\" or \"Neutral\". You must pay special attention to the number of emotion classes (one more more) for every utterance.\\n', 'input': \"### Here is the utterance from a comic book: <UT>SHE'S AWAKE, BOSS. SHE--</UT>\", 'output': '{\"list_emotion_classes\": [\"Joy\"]}'}\n",
      "{'instruction': '### You are an advanced emotion analysis expert. You are given an utterance from a comic book enclosed by <UT></UT> tags. Your task is to classify each utterance as one or more of the following emotion classes: \"Anger\", \"Disgust\", \"Fear\", \"Sadness\", \"Surprise\", \"Joy\" or \"Neutral\". You must return a list of emotion class(s) in following JSON format: {\"list_emotion_classes\": [\"emotion_class (str)\", \"emotion_class (str)\" ... \"emotion_class (str)\"]} where each element \"emotion_class (str)\" is replaced by one ore more of the following emotion class labels: \"Anger\", \"Disgust\", \"Fear\", \"Sadness\", \"Surprise\", \"Joy\" or \"Neutral\". You must pay special attention to the number of emotion classes (one more more) for every utterance.\\n', 'input': '### Here is the utterance from a comic book: <UT>CAN YOU WALK?</UT>', 'output': '{\"list_emotion_classes\": [\"Fear\"]}'}\n",
      "{'instruction': '### You are an advanced emotion analysis expert. You are given an utterance from a comic book enclosed by <UT></UT> tags. Your task is to classify each utterance as one or more of the following emotion classes: \"Anger\", \"Disgust\", \"Fear\", \"Sadness\", \"Surprise\", \"Joy\" or \"Neutral\". You must return a list of emotion class(s) in following JSON format: {\"list_emotion_classes\": [\"emotion_class (str)\", \"emotion_class (str)\" ... \"emotion_class (str)\"]} where each element \"emotion_class (str)\" is replaced by one ore more of the following emotion class labels: \"Anger\", \"Disgust\", \"Fear\", \"Sadness\", \"Surprise\", \"Joy\" or \"Neutral\". You must pay special attention to the number of emotion classes (one more more) for every utterance.\\n', 'input': '### Here is the utterance from a comic book: <UT>HOW DID YOU FIND ME?</UT>', 'output': '{\"list_emotion_classes\": [\"Surprise\"]}'}\n"
     ]
    }
   ],
   "source": [
    "for i in range(10):\n",
    "    print(data_file_train[i])"
   ]
  },
  {
   "cell_type": "code",
   "execution_count": 54,
   "id": "91becc82",
   "metadata": {},
   "outputs": [],
   "source": [
    "df_test = df[df.split == 'TEST'].reset_index()\n",
    "\n",
    "data_file_test = []\n",
    "\n",
    "for index, _ in df_test.iterrows():\n",
    "    \n",
    "    i = index\n",
    "\n",
    "    instruction = build_instruction()\n",
    "    question = build_tagged_text(df_test.iloc[i].utterance)\n",
    "    answer = build_answer(df_test.iloc[i].emotion)\n",
    "    \n",
    "    data_file_test.append( formatting_fct(instruction, question, answer) )"
   ]
  },
  {
   "cell_type": "code",
   "execution_count": 55,
   "id": "96669b4f-b279-48ba-8b9b-d04f91d49c67",
   "metadata": {},
   "outputs": [
    {
     "data": {
      "text/plain": [
       "1776"
      ]
     },
     "execution_count": 55,
     "metadata": {},
     "output_type": "execute_result"
    }
   ],
   "source": [
    "len(df_test)"
   ]
  },
  {
   "cell_type": "code",
   "execution_count": 56,
   "id": "6e2c531d-d86d-4289-8f3d-d00fd56d0051",
   "metadata": {},
   "outputs": [
    {
     "name": "stdout",
     "output_type": "stream",
     "text": [
      "{'instruction': '### You are an advanced emotion analysis expert. You are given an utterance from a comic book enclosed by <UT></UT> tags. Your task is to classify each utterance as one or more of the following emotion classes: \"Anger\", \"Disgust\", \"Fear\", \"Sadness\", \"Surprise\", \"Joy\" or \"Neutral\". You must return a list of emotion class(s) in following JSON format: {\"list_emotion_classes\": [\"emotion_class (str)\", \"emotion_class (str)\" ... \"emotion_class (str)\"]} where each element \"emotion_class (str)\" is replaced by one ore more of the following emotion class labels: \"Anger\", \"Disgust\", \"Fear\", \"Sadness\", \"Surprise\", \"Joy\" or \"Neutral\". You must pay special attention to the number of emotion classes (one more more) for every utterance.\\n', 'input': \"### Here is the utterance from a comic book: <UT>HOW'S IT GOING?</UT>\", 'output': '{\"list_emotion_classes\": [\"Surprise\", \"Joy\"]}'}\n",
      "{'instruction': '### You are an advanced emotion analysis expert. You are given an utterance from a comic book enclosed by <UT></UT> tags. Your task is to classify each utterance as one or more of the following emotion classes: \"Anger\", \"Disgust\", \"Fear\", \"Sadness\", \"Surprise\", \"Joy\" or \"Neutral\". You must return a list of emotion class(s) in following JSON format: {\"list_emotion_classes\": [\"emotion_class (str)\", \"emotion_class (str)\" ... \"emotion_class (str)\"]} where each element \"emotion_class (str)\" is replaced by one ore more of the following emotion class labels: \"Anger\", \"Disgust\", \"Fear\", \"Sadness\", \"Surprise\", \"Joy\" or \"Neutral\". You must pay special attention to the number of emotion classes (one more more) for every utterance.\\n', 'input': '### Here is the utterance from a comic book: <UT>HEY.</UT>', 'output': '{\"list_emotion_classes\": [\"Joy\"]}'}\n",
      "{'instruction': '### You are an advanced emotion analysis expert. You are given an utterance from a comic book enclosed by <UT></UT> tags. Your task is to classify each utterance as one or more of the following emotion classes: \"Anger\", \"Disgust\", \"Fear\", \"Sadness\", \"Surprise\", \"Joy\" or \"Neutral\". You must return a list of emotion class(s) in following JSON format: {\"list_emotion_classes\": [\"emotion_class (str)\", \"emotion_class (str)\" ... \"emotion_class (str)\"]} where each element \"emotion_class (str)\" is replaced by one ore more of the following emotion class labels: \"Anger\", \"Disgust\", \"Fear\", \"Sadness\", \"Surprise\", \"Joy\" or \"Neutral\". You must pay special attention to the number of emotion classes (one more more) for every utterance.\\n', 'input': '### Here is the utterance from a comic book: <UT>CAN I GET YOU ANYTHING?</UT>', 'output': '{\"list_emotion_classes\": [\"Surprise\", \"Joy\"]}'}\n",
      "{'instruction': '### You are an advanced emotion analysis expert. You are given an utterance from a comic book enclosed by <UT></UT> tags. Your task is to classify each utterance as one or more of the following emotion classes: \"Anger\", \"Disgust\", \"Fear\", \"Sadness\", \"Surprise\", \"Joy\" or \"Neutral\". You must return a list of emotion class(s) in following JSON format: {\"list_emotion_classes\": [\"emotion_class (str)\", \"emotion_class (str)\" ... \"emotion_class (str)\"]} where each element \"emotion_class (str)\" is replaced by one ore more of the following emotion class labels: \"Anger\", \"Disgust\", \"Fear\", \"Sadness\", \"Surprise\", \"Joy\" or \"Neutral\". You must pay special attention to the number of emotion classes (one more more) for every utterance.\\n', 'input': '### Here is the utterance from a comic book: <UT>JUST A COKE.</UT>', 'output': '{\"list_emotion_classes\": [\"Joy\"]}'}\n",
      "{'instruction': '### You are an advanced emotion analysis expert. You are given an utterance from a comic book enclosed by <UT></UT> tags. Your task is to classify each utterance as one or more of the following emotion classes: \"Anger\", \"Disgust\", \"Fear\", \"Sadness\", \"Surprise\", \"Joy\" or \"Neutral\". You must return a list of emotion class(s) in following JSON format: {\"list_emotion_classes\": [\"emotion_class (str)\", \"emotion_class (str)\" ... \"emotion_class (str)\"]} where each element \"emotion_class (str)\" is replaced by one ore more of the following emotion class labels: \"Anger\", \"Disgust\", \"Fear\", \"Sadness\", \"Surprise\", \"Joy\" or \"Neutral\". You must pay special attention to the number of emotion classes (one more more) for every utterance.\\n', 'input': '### Here is the utterance from a comic book: <UT>OKAY. COMING UP.</UT>', 'output': '{\"list_emotion_classes\": [\"Joy\"]}'}\n",
      "{'instruction': '### You are an advanced emotion analysis expert. You are given an utterance from a comic book enclosed by <UT></UT> tags. Your task is to classify each utterance as one or more of the following emotion classes: \"Anger\", \"Disgust\", \"Fear\", \"Sadness\", \"Surprise\", \"Joy\" or \"Neutral\". You must return a list of emotion class(s) in following JSON format: {\"list_emotion_classes\": [\"emotion_class (str)\", \"emotion_class (str)\" ... \"emotion_class (str)\"]} where each element \"emotion_class (str)\" is replaced by one ore more of the following emotion class labels: \"Anger\", \"Disgust\", \"Fear\", \"Sadness\", \"Surprise\", \"Joy\" or \"Neutral\". You must pay special attention to the number of emotion classes (one more more) for every utterance.\\n', 'input': '### Here is the utterance from a comic book: <UT>THANKS.</UT>', 'output': '{\"list_emotion_classes\": [\"Joy\"]}'}\n",
      "{'instruction': '### You are an advanced emotion analysis expert. You are given an utterance from a comic book enclosed by <UT></UT> tags. Your task is to classify each utterance as one or more of the following emotion classes: \"Anger\", \"Disgust\", \"Fear\", \"Sadness\", \"Surprise\", \"Joy\" or \"Neutral\". You must return a list of emotion class(s) in following JSON format: {\"list_emotion_classes\": [\"emotion_class (str)\", \"emotion_class (str)\" ... \"emotion_class (str)\"]} where each element \"emotion_class (str)\" is replaced by one ore more of the following emotion class labels: \"Anger\", \"Disgust\", \"Fear\", \"Sadness\", \"Surprise\", \"Joy\" or \"Neutral\". You must pay special attention to the number of emotion classes (one more more) for every utterance.\\n', 'input': '### Here is the utterance from a comic book: <UT>HOW IS IT OUT THERE? GETTING HOT?</UT>', 'output': '{\"list_emotion_classes\": [\"Surprise\"]}'}\n",
      "{'instruction': '### You are an advanced emotion analysis expert. You are given an utterance from a comic book enclosed by <UT></UT> tags. Your task is to classify each utterance as one or more of the following emotion classes: \"Anger\", \"Disgust\", \"Fear\", \"Sadness\", \"Surprise\", \"Joy\" or \"Neutral\". You must return a list of emotion class(s) in following JSON format: {\"list_emotion_classes\": [\"emotion_class (str)\", \"emotion_class (str)\" ... \"emotion_class (str)\"]} where each element \"emotion_class (str)\" is replaced by one ore more of the following emotion class labels: \"Anger\", \"Disgust\", \"Fear\", \"Sadness\", \"Surprise\", \"Joy\" or \"Neutral\". You must pay special attention to the number of emotion classes (one more more) for every utterance.\\n', 'input': \"### Here is the utterance from a comic book: <UT>IT'S ALL RIGHT.</UT>\", 'output': '{\"list_emotion_classes\": [\"Joy\"]}'}\n",
      "{'instruction': '### You are an advanced emotion analysis expert. You are given an utterance from a comic book enclosed by <UT></UT> tags. Your task is to classify each utterance as one or more of the following emotion classes: \"Anger\", \"Disgust\", \"Fear\", \"Sadness\", \"Surprise\", \"Joy\" or \"Neutral\". You must return a list of emotion class(s) in following JSON format: {\"list_emotion_classes\": [\"emotion_class (str)\", \"emotion_class (str)\" ... \"emotion_class (str)\"]} where each element \"emotion_class (str)\" is replaced by one ore more of the following emotion class labels: \"Anger\", \"Disgust\", \"Fear\", \"Sadness\", \"Surprise\", \"Joy\" or \"Neutral\". You must pay special attention to the number of emotion classes (one more more) for every utterance.\\n', 'input': '### Here is the utterance from a comic book: <UT>ONE COKE. ENJOY.</UT>', 'output': '{\"list_emotion_classes\": [\"Joy\"]}'}\n",
      "{'instruction': '### You are an advanced emotion analysis expert. You are given an utterance from a comic book enclosed by <UT></UT> tags. Your task is to classify each utterance as one or more of the following emotion classes: \"Anger\", \"Disgust\", \"Fear\", \"Sadness\", \"Surprise\", \"Joy\" or \"Neutral\". You must return a list of emotion class(s) in following JSON format: {\"list_emotion_classes\": [\"emotion_class (str)\", \"emotion_class (str)\" ... \"emotion_class (str)\"]} where each element \"emotion_class (str)\" is replaced by one ore more of the following emotion class labels: \"Anger\", \"Disgust\", \"Fear\", \"Sadness\", \"Surprise\", \"Joy\" or \"Neutral\". You must pay special attention to the number of emotion classes (one more more) for every utterance.\\n', 'input': '### Here is the utterance from a comic book: <UT>@ONCE UPON A TIME…</UT>', 'output': '{\"list_emotion_classes\": [[\"Neutral\"]]}'}\n"
     ]
    }
   ],
   "source": [
    "for i in range(10):\n",
    "    print(data_file_test[i])"
   ]
  },
  {
   "cell_type": "markdown",
   "id": "8bb35781",
   "metadata": {},
   "source": [
    "### Create and save JSON files"
   ]
  },
  {
   "cell_type": "code",
   "execution_count": 57,
   "id": "01306b8c",
   "metadata": {},
   "outputs": [],
   "source": [
    "file_path = Path(DATASET_DIR) / \"comics_utterance_train.json\"\n",
    "\n",
    "with open(file_path, 'w') as file:\n",
    "    \n",
    "    json.dump(data_file_train, file)"
   ]
  },
  {
   "cell_type": "code",
   "execution_count": 58,
   "id": "9b6f5885",
   "metadata": {},
   "outputs": [],
   "source": [
    "file_path = Path(DATASET_DIR) / \"comics_utterance_test.json\"\n",
    "\n",
    "with open(file_path, 'w') as file:\n",
    "    \n",
    "    json.dump(data_file_test, file)"
   ]
  },
  {
   "cell_type": "code",
   "execution_count": null,
   "id": "21f7e522",
   "metadata": {},
   "outputs": [],
   "source": []
  }
 ],
 "metadata": {
  "kernelspec": {
   "display_name": "Python 3 (ipykernel)",
   "language": "python",
   "name": "python3"
  },
  "language_info": {
   "codemirror_mode": {
    "name": "ipython",
    "version": 3
   },
   "file_extension": ".py",
   "mimetype": "text/x-python",
   "name": "python",
   "nbconvert_exporter": "python",
   "pygments_lexer": "ipython3",
   "version": "3.11.9"
  }
 },
 "nbformat": 4,
 "nbformat_minor": 5
}
