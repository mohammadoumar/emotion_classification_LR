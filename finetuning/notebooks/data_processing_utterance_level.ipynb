{
 "cells": [
  {
   "cell_type": "markdown",
   "id": "b20aa00d-c84a-4970-bc99-ffd9f8ed9776",
   "metadata": {},
   "source": [
    "# Data Pre-Processing"
   ]
  },
  {
   "cell_type": "code",
   "execution_count": 10,
   "id": "640868d0-4cf7-4fb0-bfb3-3ed663372d48",
   "metadata": {},
   "outputs": [],
   "source": [
    "import json\n",
    "import pandas as pd\n",
    "\n",
    "from pathlib import Path"
   ]
  },
  {
   "cell_type": "code",
   "execution_count": 11,
   "id": "dc1c6f46",
   "metadata": {},
   "outputs": [],
   "source": [
    "CURRENT_DIR = Path.cwd()"
   ]
  },
  {
   "cell_type": "code",
   "execution_count": 12,
   "id": "c0df15c2",
   "metadata": {},
   "outputs": [],
   "source": [
    "DATA_FILE = Path(CURRENT_DIR) / \"emotion_analysis_comics\" / \"dataset_files\" / \"comics_dataset.csv\"\n",
    "DATASET_DIR = Path(CURRENT_DIR) / \"emotion_analysis_comics\" / \"finetuning\" / \"datasets\""
   ]
  },
  {
   "cell_type": "code",
   "execution_count": 13,
   "id": "7f0c44be-8571-45e5-a85e-808d4990a707",
   "metadata": {},
   "outputs": [],
   "source": [
    "\n",
    "df = pd.read_csv(DATA_FILE, index_col=False)"
   ]
  },
  {
   "cell_type": "code",
   "execution_count": 14,
   "id": "dcf9f155-8e66-4a51-ae38-d0dd5f58006b",
   "metadata": {},
   "outputs": [
    {
     "data": {
      "text/html": [
       "<div>\n",
       "<style scoped>\n",
       "    .dataframe tbody tr th:only-of-type {\n",
       "        vertical-align: middle;\n",
       "    }\n",
       "\n",
       "    .dataframe tbody tr th {\n",
       "        vertical-align: top;\n",
       "    }\n",
       "\n",
       "    .dataframe thead th {\n",
       "        text-align: right;\n",
       "    }\n",
       "</style>\n",
       "<table border=\"1\" class=\"dataframe\">\n",
       "  <thead>\n",
       "    <tr style=\"text-align: right;\">\n",
       "      <th></th>\n",
       "      <th>file_name</th>\n",
       "      <th>page_nr</th>\n",
       "      <th>panel_nr</th>\n",
       "      <th>balloon_nr</th>\n",
       "      <th>utterance</th>\n",
       "      <th>raw_annotation</th>\n",
       "      <th>raw_emotion</th>\n",
       "      <th>raw_speaker_id</th>\n",
       "      <th>emotion</th>\n",
       "      <th>speaker_id</th>\n",
       "      <th>split</th>\n",
       "    </tr>\n",
       "  </thead>\n",
       "  <tbody>\n",
       "    <tr>\n",
       "      <th>0</th>\n",
       "      <td>QC copy - 1500 - 04 Nightwing 19 _Nightwing 95...</td>\n",
       "      <td>1</td>\n",
       "      <td>2</td>\n",
       "      <td>1</td>\n",
       "      <td>DID YOU HAVE TO ELECTROCUTE HER SO HARD?</td>\n",
       "      <td>2024-08-27 - aselermekova20\\nFeeling:AN0-DI0-F...</td>\n",
       "      <td>2024-08-27 - aselermekova20\\nFeeling:AN0-DI0-F...</td>\n",
       "      <td>2024-09-05 - aidaraliev12345\\nSpokenBy:ID-1</td>\n",
       "      <td>AN0-DI0-FE3-SA0-SU5-JO0</td>\n",
       "      <td>ID-1</td>\n",
       "      <td>TRAIN</td>\n",
       "    </tr>\n",
       "    <tr>\n",
       "      <th>1</th>\n",
       "      <td>QC copy - 1500 - 04 Nightwing 19 _Nightwing 95...</td>\n",
       "      <td>1</td>\n",
       "      <td>2</td>\n",
       "      <td>2</td>\n",
       "      <td>IT'S NOT LIKE I HAVE DIFFERENT SETTINGS.</td>\n",
       "      <td>2024-08-27 - aselermekova20\\nFeeling:AN0-DI0-F...</td>\n",
       "      <td>2024-08-27 - aselermekova20\\nFeeling:AN0-DI0-F...</td>\n",
       "      <td>2024-09-05 - aidaraliev12345\\nSpokenBy:ID-2</td>\n",
       "      <td>AN0-DI0-FE0-SA0-SU5-JO0</td>\n",
       "      <td>ID-2</td>\n",
       "      <td>TRAIN</td>\n",
       "    </tr>\n",
       "    <tr>\n",
       "      <th>2</th>\n",
       "      <td>QC copy - 1500 - 04 Nightwing 19 _Nightwing 95...</td>\n",
       "      <td>1</td>\n",
       "      <td>2</td>\n",
       "      <td>3</td>\n",
       "      <td>YOU'RE ELECTROCUTIONER. IT'S YOUR WHOLE THING....</td>\n",
       "      <td>2024-08-27 - aselermekova20\\nFeeling:AN0-DI0-F...</td>\n",
       "      <td>2024-08-27 - aselermekova20\\nFeeling:AN0-DI0-F...</td>\n",
       "      <td>2024-09-05 - aidaraliev12345\\nSpokenBy:ID-1</td>\n",
       "      <td>AN0-DI0-FE2-SA0-SU0-JO0</td>\n",
       "      <td>ID-1</td>\n",
       "      <td>TRAIN</td>\n",
       "    </tr>\n",
       "    <tr>\n",
       "      <th>3</th>\n",
       "      <td>QC copy - 1500 - 04 Nightwing 19 _Nightwing 95...</td>\n",
       "      <td>1</td>\n",
       "      <td>3</td>\n",
       "      <td>1</td>\n",
       "      <td>OH, HEY. I THINK SHE'S AWAKE.</td>\n",
       "      <td>2024-08-27 - aselermekova20\\nFeeling:AN0-DI0-F...</td>\n",
       "      <td>2024-08-27 - aselermekova20\\nFeeling:AN0-DI0-F...</td>\n",
       "      <td>2024-09-05 - aidaraliev12345\\nSpokenBy:ID-2</td>\n",
       "      <td>AN0-DI0-FE0-SA0-SU4-JO0</td>\n",
       "      <td>ID-2</td>\n",
       "      <td>TRAIN</td>\n",
       "    </tr>\n",
       "    <tr>\n",
       "      <th>4</th>\n",
       "      <td>QC copy - 1500 - 04 Nightwing 19 _Nightwing 95...</td>\n",
       "      <td>1</td>\n",
       "      <td>4</td>\n",
       "      <td>1</td>\n",
       "      <td>WELCOME BACK, MADAM MAYOR. BLOCKBUSTER IS PRET...</td>\n",
       "      <td>2024-08-27 - aselermekova20\\nFeeling:AN3-DI0-F...</td>\n",
       "      <td>2024-08-27 - aselermekova20\\nFeeling:AN3-DI0-F...</td>\n",
       "      <td>2024-09-05 - aidaraliev12345\\nSpokenBy:ID-1</td>\n",
       "      <td>AN3-DI0-FE0-SA0-SU0-JO0</td>\n",
       "      <td>ID-1</td>\n",
       "      <td>TRAIN</td>\n",
       "    </tr>\n",
       "    <tr>\n",
       "      <th>...</th>\n",
       "      <td>...</td>\n",
       "      <td>...</td>\n",
       "      <td>...</td>\n",
       "      <td>...</td>\n",
       "      <td>...</td>\n",
       "      <td>...</td>\n",
       "      <td>...</td>\n",
       "      <td>...</td>\n",
       "      <td>...</td>\n",
       "      <td>...</td>\n",
       "      <td>...</td>\n",
       "    </tr>\n",
       "    <tr>\n",
       "      <th>7124</th>\n",
       "      <td>QC copy - 1737 - 34 The Walking Dead vol 15 - ...</td>\n",
       "      <td>21</td>\n",
       "      <td>3</td>\n",
       "      <td>2</td>\n",
       "      <td>SHE WOULDN'T DO THAT TO US. WE TALKED FOR A LO...</td>\n",
       "      <td>2024-09-06 - SyimykRasulov\\nFeeling:AN0-DI0-FE...</td>\n",
       "      <td>2024-09-06 - SyimykRasulov\\nFeeling:AN0-DI0-FE...</td>\n",
       "      <td>\\n2024-09-06 - SyimykRasulov\\nSpokenBy:Eugene</td>\n",
       "      <td>AN0-DI0-FE1-SA3-SU0-JO0</td>\n",
       "      <td>Eugene</td>\n",
       "      <td>TRAIN</td>\n",
       "    </tr>\n",
       "    <tr>\n",
       "      <th>7125</th>\n",
       "      <td>QC copy - 1737 - 34 The Walking Dead vol 15 - ...</td>\n",
       "      <td>21</td>\n",
       "      <td>3</td>\n",
       "      <td>3</td>\n",
       "      <td>… I KNOW HER.</td>\n",
       "      <td>2024-09-06 - SyimykRasulov\\nFeeling:AN0-DI0-FE...</td>\n",
       "      <td>2024-09-06 - SyimykRasulov\\nFeeling:AN0-DI0-FE...</td>\n",
       "      <td>\\n2024-09-06 - SyimykRasulov\\nSpokenBy:Eugene</td>\n",
       "      <td>AN0-DI0-FE1-SA3-SU0-JO0</td>\n",
       "      <td>Eugene</td>\n",
       "      <td>TRAIN</td>\n",
       "    </tr>\n",
       "    <tr>\n",
       "      <th>7126</th>\n",
       "      <td>QC copy - 1737 - 34 The Walking Dead vol 15 - ...</td>\n",
       "      <td>21</td>\n",
       "      <td>4</td>\n",
       "      <td>1</td>\n",
       "      <td>UH, GUYS…</td>\n",
       "      <td>2024-09-06 - SyimykRasulov\\nFeeling:AN0-DI0-FE...</td>\n",
       "      <td>2024-09-06 - SyimykRasulov\\nFeeling:AN0-DI0-FE...</td>\n",
       "      <td>\\n2024-09-06 - SyimykRasulov\\nSpokenBy:JUANITA...</td>\n",
       "      <td>AN0-DI0-FE3-SA0-SU4-JO0</td>\n",
       "      <td>JUANITA SANCHEZ</td>\n",
       "      <td>TRAIN</td>\n",
       "    </tr>\n",
       "    <tr>\n",
       "      <th>7127</th>\n",
       "      <td>QC copy - 1737 - 34 The Walking Dead vol 15 - ...</td>\n",
       "      <td>22</td>\n",
       "      <td>1</td>\n",
       "      <td>1</td>\n",
       "      <td>PUT YOUR WEAPONS DOWN AND PUT YOUR HANDS IN TH...</td>\n",
       "      <td>2024-09-06 - SyimykRasulov\\nFeeling:AN4-DI0-FE...</td>\n",
       "      <td>2024-09-06 - SyimykRasulov\\nFeeling:AN4-DI0-FE...</td>\n",
       "      <td>\\n2024-09-06 - SyimykRasulov\\nSpokenBy:ID- 2</td>\n",
       "      <td>AN4-DI0-FE0-SA0-SU0-JO0</td>\n",
       "      <td>ID- 2</td>\n",
       "      <td>TRAIN</td>\n",
       "    </tr>\n",
       "    <tr>\n",
       "      <th>7128</th>\n",
       "      <td>QC copy - 1737 - 34 The Walking Dead vol 15 - ...</td>\n",
       "      <td>22</td>\n",
       "      <td>2</td>\n",
       "      <td>1</td>\n",
       "      <td>SURE DOESN'T SEEM LIKE THEY CAME HERE TO TALK…</td>\n",
       "      <td>2024-09-06 - SyimykRasulov\\nFeeling:AN4-DI0-FE...</td>\n",
       "      <td>2024-09-06 - SyimykRasulov\\nFeeling:AN4-DI0-FE...</td>\n",
       "      <td>\\n2024-09-06 - SyimykRasulov\\nSpokenBy:Michonne</td>\n",
       "      <td>AN4-DI0-FE3-SA2-SU0-JO0</td>\n",
       "      <td>Michonne</td>\n",
       "      <td>TRAIN</td>\n",
       "    </tr>\n",
       "  </tbody>\n",
       "</table>\n",
       "<p>7129 rows × 11 columns</p>\n",
       "</div>"
      ],
      "text/plain": [
       "                                              file_name  page_nr  panel_nr  \\\n",
       "0     QC copy - 1500 - 04 Nightwing 19 _Nightwing 95...        1         2   \n",
       "1     QC copy - 1500 - 04 Nightwing 19 _Nightwing 95...        1         2   \n",
       "2     QC copy - 1500 - 04 Nightwing 19 _Nightwing 95...        1         2   \n",
       "3     QC copy - 1500 - 04 Nightwing 19 _Nightwing 95...        1         3   \n",
       "4     QC copy - 1500 - 04 Nightwing 19 _Nightwing 95...        1         4   \n",
       "...                                                 ...      ...       ...   \n",
       "7124  QC copy - 1737 - 34 The Walking Dead vol 15 - ...       21         3   \n",
       "7125  QC copy - 1737 - 34 The Walking Dead vol 15 - ...       21         3   \n",
       "7126  QC copy - 1737 - 34 The Walking Dead vol 15 - ...       21         4   \n",
       "7127  QC copy - 1737 - 34 The Walking Dead vol 15 - ...       22         1   \n",
       "7128  QC copy - 1737 - 34 The Walking Dead vol 15 - ...       22         2   \n",
       "\n",
       "      balloon_nr                                          utterance  \\\n",
       "0              1           DID YOU HAVE TO ELECTROCUTE HER SO HARD?   \n",
       "1              2           IT'S NOT LIKE I HAVE DIFFERENT SETTINGS.   \n",
       "2              3  YOU'RE ELECTROCUTIONER. IT'S YOUR WHOLE THING....   \n",
       "3              1                      OH, HEY. I THINK SHE'S AWAKE.   \n",
       "4              1  WELCOME BACK, MADAM MAYOR. BLOCKBUSTER IS PRET...   \n",
       "...          ...                                                ...   \n",
       "7124           2  SHE WOULDN'T DO THAT TO US. WE TALKED FOR A LO...   \n",
       "7125           3                                      … I KNOW HER.   \n",
       "7126           1                                          UH, GUYS…   \n",
       "7127           1  PUT YOUR WEAPONS DOWN AND PUT YOUR HANDS IN TH...   \n",
       "7128           1     SURE DOESN'T SEEM LIKE THEY CAME HERE TO TALK…   \n",
       "\n",
       "                                         raw_annotation  \\\n",
       "0     2024-08-27 - aselermekova20\\nFeeling:AN0-DI0-F...   \n",
       "1     2024-08-27 - aselermekova20\\nFeeling:AN0-DI0-F...   \n",
       "2     2024-08-27 - aselermekova20\\nFeeling:AN0-DI0-F...   \n",
       "3     2024-08-27 - aselermekova20\\nFeeling:AN0-DI0-F...   \n",
       "4     2024-08-27 - aselermekova20\\nFeeling:AN3-DI0-F...   \n",
       "...                                                 ...   \n",
       "7124  2024-09-06 - SyimykRasulov\\nFeeling:AN0-DI0-FE...   \n",
       "7125  2024-09-06 - SyimykRasulov\\nFeeling:AN0-DI0-FE...   \n",
       "7126  2024-09-06 - SyimykRasulov\\nFeeling:AN0-DI0-FE...   \n",
       "7127  2024-09-06 - SyimykRasulov\\nFeeling:AN4-DI0-FE...   \n",
       "7128  2024-09-06 - SyimykRasulov\\nFeeling:AN4-DI0-FE...   \n",
       "\n",
       "                                            raw_emotion  \\\n",
       "0     2024-08-27 - aselermekova20\\nFeeling:AN0-DI0-F...   \n",
       "1     2024-08-27 - aselermekova20\\nFeeling:AN0-DI0-F...   \n",
       "2     2024-08-27 - aselermekova20\\nFeeling:AN0-DI0-F...   \n",
       "3     2024-08-27 - aselermekova20\\nFeeling:AN0-DI0-F...   \n",
       "4     2024-08-27 - aselermekova20\\nFeeling:AN3-DI0-F...   \n",
       "...                                                 ...   \n",
       "7124  2024-09-06 - SyimykRasulov\\nFeeling:AN0-DI0-FE...   \n",
       "7125  2024-09-06 - SyimykRasulov\\nFeeling:AN0-DI0-FE...   \n",
       "7126  2024-09-06 - SyimykRasulov\\nFeeling:AN0-DI0-FE...   \n",
       "7127  2024-09-06 - SyimykRasulov\\nFeeling:AN4-DI0-FE...   \n",
       "7128  2024-09-06 - SyimykRasulov\\nFeeling:AN4-DI0-FE...   \n",
       "\n",
       "                                         raw_speaker_id  \\\n",
       "0           2024-09-05 - aidaraliev12345\\nSpokenBy:ID-1   \n",
       "1           2024-09-05 - aidaraliev12345\\nSpokenBy:ID-2   \n",
       "2           2024-09-05 - aidaraliev12345\\nSpokenBy:ID-1   \n",
       "3           2024-09-05 - aidaraliev12345\\nSpokenBy:ID-2   \n",
       "4           2024-09-05 - aidaraliev12345\\nSpokenBy:ID-1   \n",
       "...                                                 ...   \n",
       "7124      \\n2024-09-06 - SyimykRasulov\\nSpokenBy:Eugene   \n",
       "7125      \\n2024-09-06 - SyimykRasulov\\nSpokenBy:Eugene   \n",
       "7126  \\n2024-09-06 - SyimykRasulov\\nSpokenBy:JUANITA...   \n",
       "7127       \\n2024-09-06 - SyimykRasulov\\nSpokenBy:ID- 2   \n",
       "7128    \\n2024-09-06 - SyimykRasulov\\nSpokenBy:Michonne   \n",
       "\n",
       "                      emotion       speaker_id  split  \n",
       "0     AN0-DI0-FE3-SA0-SU5-JO0             ID-1  TRAIN  \n",
       "1     AN0-DI0-FE0-SA0-SU5-JO0             ID-2  TRAIN  \n",
       "2     AN0-DI0-FE2-SA0-SU0-JO0             ID-1  TRAIN  \n",
       "3     AN0-DI0-FE0-SA0-SU4-JO0             ID-2  TRAIN  \n",
       "4     AN3-DI0-FE0-SA0-SU0-JO0             ID-1  TRAIN  \n",
       "...                       ...              ...    ...  \n",
       "7124  AN0-DI0-FE1-SA3-SU0-JO0           Eugene  TRAIN  \n",
       "7125  AN0-DI0-FE1-SA3-SU0-JO0           Eugene  TRAIN  \n",
       "7126  AN0-DI0-FE3-SA0-SU4-JO0  JUANITA SANCHEZ  TRAIN  \n",
       "7127  AN4-DI0-FE0-SA0-SU0-JO0            ID- 2  TRAIN  \n",
       "7128  AN4-DI0-FE3-SA2-SU0-JO0         Michonne  TRAIN  \n",
       "\n",
       "[7129 rows x 11 columns]"
      ]
     },
     "execution_count": 14,
     "metadata": {},
     "output_type": "execute_result"
    }
   ],
   "source": [
    "df"
   ]
  },
  {
   "cell_type": "code",
   "execution_count": 15,
   "id": "99bccfe7-ba71-4732-ba8d-5fe9d13eee57",
   "metadata": {},
   "outputs": [
    {
     "data": {
      "text/plain": [
       "split\n",
       "TRAIN    5803\n",
       "TEST     1326\n",
       "Name: count, dtype: int64"
      ]
     },
     "execution_count": 15,
     "metadata": {},
     "output_type": "execute_result"
    }
   ],
   "source": [
    "df.split.value_counts()"
   ]
  },
  {
   "cell_type": "markdown",
   "id": "f6f2fa22-35d5-41aa-abf1-5a9987ee0b08",
   "metadata": {},
   "source": [
    "### Prepare prompts"
   ]
  },
  {
   "cell_type": "code",
   "execution_count": 16,
   "id": "3fd57164",
   "metadata": {},
   "outputs": [],
   "source": [
    "# Formatting Fx\n",
    "# Build questoin\n",
    "# Build answer"
   ]
  },
  {
   "cell_type": "code",
   "execution_count": 17,
   "id": "fb67bd9e-9e45-4e9c-8e5d-bc18bbb4f617",
   "metadata": {},
   "outputs": [
    {
     "data": {
      "text/plain": [
       "Index(['file_name', 'page_nr', 'panel_nr', 'balloon_nr', 'utterance',\n",
       "       'raw_annotation', 'raw_emotion', 'raw_speaker_id', 'emotion',\n",
       "       'speaker_id', 'split'],\n",
       "      dtype='object')"
      ]
     },
     "execution_count": 17,
     "metadata": {},
     "output_type": "execute_result"
    }
   ],
   "source": [
    "df.columns"
   ]
  },
  {
   "cell_type": "code",
   "execution_count": 18,
   "id": "608f81e7",
   "metadata": {},
   "outputs": [],
   "source": [
    "def formatting_fct(instruction=\"\", input=\"\", output=\"\"):\n",
    "    \n",
    "    prompt_d ={\n",
    "            \n",
    "        \"instruction\": f\"\"\"{instruction}\"\"\",\n",
    "        \"input\": f\"\"\"{input}\"\"\",\n",
    "        \"output\": f\"\"\"{output}\"\"\"\n",
    "            \n",
    "        }\n",
    "    \n",
    "    return prompt_d"
   ]
  },
  {
   "cell_type": "code",
   "execution_count": 19,
   "id": "b107f77e",
   "metadata": {},
   "outputs": [],
   "source": [
    "# def build_instruction():\n",
    "\n",
    "#     #results = json.dumps([\"emotion_class (str)\"] * nr_utterances)\n",
    "\n",
    "#     instruction = f\"\"\"### You are an advanced emotion analysis expert. You are given an utterance from a comic book. Your task is to classify the utterance as one or more of the following emotion classes: \"Anger\", \"Disgust\", \"Fear\", \"Sadness\", \"Surprise\", \"Joy\" or \"Neutral\". You must return a list of emotion class(s) in following JSON format: {{\"list_emotion_classes\": [\"emotion_class (str)\", \"emotion_class (str)\" ... \"emotion_class (str)\"]}} where each element \"emotion_class (str)\" is replaced by one ore more of the following emotion class labels: \"Anger\", \"Disgust\", \"Fear\", \"Sadness\", \"Surprise\", \"Joy\" or \"Neutral\". You must pay special attention to the number of emotion classes (one more more) for every utterance.\n",
    "# \"\"\"    \n",
    "#     return instruction"
   ]
  },
  {
   "cell_type": "code",
   "execution_count": 20,
   "id": "2bad1318",
   "metadata": {},
   "outputs": [],
   "source": [
    "def build_instruction():\n",
    "    emotion_classes = [\"Anger\", \"Disgust\", \"Fear\", \"Sadness\", \"Surprise\", \"Joy\", \"Neutral\"]\n",
    "    formatted_classes = \", \".join([f'\"{emotion}\"' for emotion in emotion_classes])\n",
    "    \n",
    "    instruction = f\"\"\"### Emotion Analysis Expert Role\n",
    "\n",
    "You are an advanced emotion analysis expert specializing in comic book dialogue interpretation. Your task is to analyze utterances and identify their emotional content.\n",
    "\n",
    "INPUT:\n",
    "- You will receive a single utterance from a comic book\n",
    "- The utterance may express one or multiple emotions\n",
    "\n",
    "TASK:\n",
    "1. Carefully analyze the emotional context and tone of the utterance\n",
    "2. Identify applicable emotions from the following classes:\n",
    "   {formatted_classes}\n",
    "\n",
    "OUTPUT REQUIREMENTS:\n",
    "- Format: JSON object with a single key \"list_emotion_classes\"\n",
    "- Value: Array of one or more emotion classes as strings\n",
    "- Example: {{\"list_emotion_classes\": [\"Anger\", \"Fear\"]}}\n",
    "\n",
    "IMPORTANT NOTES:\n",
    "- Do not include any explanations in the output, only the JSON object\n",
    "\n",
    "\"\"\"\n",
    "    return instruction"
   ]
  },
  {
   "cell_type": "code",
   "execution_count": 21,
   "id": "1144129e",
   "metadata": {},
   "outputs": [],
   "source": [
    "# def build_tagged_text(text, start_indices, end_indices):\n",
    "\n",
    "#     offset = 0\n",
    "\n",
    "#     for i, (start_i, end_i) in enumerate(zip(start_indices, end_indices)):\n",
    "            \n",
    "#         start_tag = \"<UT\" + str(i+1) + \">\"\n",
    "#         end_tag = \"</UT\" + str(i+1) + \">\"\n",
    "        \n",
    "#         start_idx = start_i + offset\n",
    "#         end_idx = end_i + offset\n",
    "\n",
    "#         offset = offset + (len(start_tag)  + len(end_tag))\n",
    "        \n",
    "#         text_r = text[start_idx:end_idx]\n",
    "#         new_text = start_tag + text_r + end_tag\n",
    "#         text = text.replace(text_r, new_text)\n",
    "\n",
    "#         question = f\"\"\"### Here is the comic transcript: {text}\"\"\"\n",
    "\n",
    "#     return question"
   ]
  },
  {
   "cell_type": "code",
   "execution_count": 22,
   "id": "44e9dbd9",
   "metadata": {},
   "outputs": [],
   "source": [
    "def build_tagged_text(utterance):\n",
    "\n",
    "    # tagged_utterances_l = []\n",
    "\n",
    "    # for idx, utterance in enumerate(utterances_l):\n",
    "        \n",
    "    #     start_tag = \"<UT\" + str(idx+1) + \">\"\n",
    "    #     end_tag = \"</UT\" + str(idx+1) + \">\"\n",
    "    #     tagged_utterance = start_tag + utterance + end_tag\n",
    "    #     tagged_utterances_l.append(tagged_utterance)\n",
    "        \n",
    "    # tagged_title_text = ''.join(tagged_utterances_l)\n",
    "    \n",
    "    #tagged_utterance = \"<UT>\" + utterance + \"</UT>\"\n",
    "    question = f\"\"\"### Here is the utterance from a comic book: {utterance}\"\"\"\n",
    "\n",
    "    return question"
   ]
  },
  {
   "cell_type": "code",
   "execution_count": 23,
   "id": "539b6d76",
   "metadata": {},
   "outputs": [],
   "source": [
    "def build_answer(utterance_emotions):\n",
    "\n",
    "    utterance_emotions_l = []\n",
    "    emotion_class_labels = [\"Anger\", \"Disgust\", \"Fear\", \"Sadness\", \"Surprise\", \"Joy\"]\n",
    "\n",
    "    if utterance_emotions == 'Neutral':\n",
    "        \n",
    "        utterance_emotions_l.append([utterance_emotions])\n",
    "    \n",
    "    else:\n",
    "        utterance_emotions = utterance_emotions.split(\"-\")\n",
    "       \n",
    "        #emotion_annotation_l = []\n",
    "\n",
    "        for idx, emotion_annotation in enumerate(utterance_emotions):\n",
    "\n",
    "            if '0' not in emotion_annotation:\n",
    "         \n",
    "                #emotion_annotation_l.append(emotion_class_labels[idx])\n",
    "                #utterance_emotions_l.append(emotion_annotation[:-1])\n",
    "                utterance_emotions_l.append(emotion_class_labels[idx])\n",
    "            \n",
    "        #title_emotions_l.append(emotion_annotation_l)\n",
    "                \n",
    "\n",
    "    return json.dumps({\"list_emotion_classes\": utterance_emotions_l})"
   ]
  },
  {
   "cell_type": "markdown",
   "id": "fdd67b57",
   "metadata": {},
   "source": [
    "### Build Data Files"
   ]
  },
  {
   "cell_type": "code",
   "execution_count": 24,
   "id": "85fd7584",
   "metadata": {},
   "outputs": [],
   "source": [
    "df_train = df[df.split == 'TRAIN'].reset_index()\n",
    "\n",
    "data_file_train = []\n",
    "\n",
    "for index, _ in df_train.iterrows():\n",
    "    \n",
    "    i = index\n",
    "\n",
    "    instruction = build_instruction()\n",
    "    question = build_tagged_text(df_train.iloc[i].utterance)\n",
    "    answer = build_answer(df_train.iloc[i].emotion)\n",
    "    \n",
    "    data_file_train.append( formatting_fct(instruction, question, answer) )"
   ]
  },
  {
   "cell_type": "code",
   "execution_count": 25,
   "id": "181fe00c",
   "metadata": {},
   "outputs": [
    {
     "data": {
      "text/plain": [
       "5803"
      ]
     },
     "execution_count": 25,
     "metadata": {},
     "output_type": "execute_result"
    }
   ],
   "source": [
    "len(data_file_train)"
   ]
  },
  {
   "cell_type": "code",
   "execution_count": 26,
   "id": "f7a42377",
   "metadata": {},
   "outputs": [
    {
     "name": "stdout",
     "output_type": "stream",
     "text": [
      "{'instruction': '### Emotion Analysis Expert Role\\n\\nYou are an advanced emotion analysis expert specializing in comic book dialogue interpretation. Your task is to analyze utterances and identify their emotional content.\\n\\nINPUT:\\n- You will receive a single utterance from a comic book\\n- The utterance may express one or multiple emotions\\n\\nTASK:\\n1. Carefully analyze the emotional context and tone of the utterance\\n2. Identify applicable emotions from the following classes:\\n   \"Anger\", \"Disgust\", \"Fear\", \"Sadness\", \"Surprise\", \"Joy\", \"Neutral\"\\n\\nOUTPUT REQUIREMENTS:\\n- Format: JSON object with a single key \"list_emotion_classes\"\\n- Value: Array of one or more emotion classes as strings\\n- Example: {\"list_emotion_classes\": [\"Anger\", \"Fear\"]}\\n\\nIMPORTANT NOTES:\\n- Do not include any explanations in the output, only the JSON object\\n\\n', 'input': '### Here is the utterance from a comic book: DID YOU HAVE TO ELECTROCUTE HER SO HARD?', 'output': '{\"list_emotion_classes\": [\"Fear\", \"Surprise\"]}'}\n",
      "{'instruction': '### Emotion Analysis Expert Role\\n\\nYou are an advanced emotion analysis expert specializing in comic book dialogue interpretation. Your task is to analyze utterances and identify their emotional content.\\n\\nINPUT:\\n- You will receive a single utterance from a comic book\\n- The utterance may express one or multiple emotions\\n\\nTASK:\\n1. Carefully analyze the emotional context and tone of the utterance\\n2. Identify applicable emotions from the following classes:\\n   \"Anger\", \"Disgust\", \"Fear\", \"Sadness\", \"Surprise\", \"Joy\", \"Neutral\"\\n\\nOUTPUT REQUIREMENTS:\\n- Format: JSON object with a single key \"list_emotion_classes\"\\n- Value: Array of one or more emotion classes as strings\\n- Example: {\"list_emotion_classes\": [\"Anger\", \"Fear\"]}\\n\\nIMPORTANT NOTES:\\n- Do not include any explanations in the output, only the JSON object\\n\\n', 'input': \"### Here is the utterance from a comic book: IT'S NOT LIKE I HAVE DIFFERENT SETTINGS.\", 'output': '{\"list_emotion_classes\": [\"Surprise\"]}'}\n",
      "{'instruction': '### Emotion Analysis Expert Role\\n\\nYou are an advanced emotion analysis expert specializing in comic book dialogue interpretation. Your task is to analyze utterances and identify their emotional content.\\n\\nINPUT:\\n- You will receive a single utterance from a comic book\\n- The utterance may express one or multiple emotions\\n\\nTASK:\\n1. Carefully analyze the emotional context and tone of the utterance\\n2. Identify applicable emotions from the following classes:\\n   \"Anger\", \"Disgust\", \"Fear\", \"Sadness\", \"Surprise\", \"Joy\", \"Neutral\"\\n\\nOUTPUT REQUIREMENTS:\\n- Format: JSON object with a single key \"list_emotion_classes\"\\n- Value: Array of one or more emotion classes as strings\\n- Example: {\"list_emotion_classes\": [\"Anger\", \"Fear\"]}\\n\\nIMPORTANT NOTES:\\n- Do not include any explanations in the output, only the JSON object\\n\\n', 'input': \"### Here is the utterance from a comic book: YOU'RE ELECTROCUTIONER. IT'S YOUR WHOLE THING. YOU'D THINK YOU'D HAVE SOME DEGREE OF CONTROL?\", 'output': '{\"list_emotion_classes\": [\"Fear\"]}'}\n",
      "{'instruction': '### Emotion Analysis Expert Role\\n\\nYou are an advanced emotion analysis expert specializing in comic book dialogue interpretation. Your task is to analyze utterances and identify their emotional content.\\n\\nINPUT:\\n- You will receive a single utterance from a comic book\\n- The utterance may express one or multiple emotions\\n\\nTASK:\\n1. Carefully analyze the emotional context and tone of the utterance\\n2. Identify applicable emotions from the following classes:\\n   \"Anger\", \"Disgust\", \"Fear\", \"Sadness\", \"Surprise\", \"Joy\", \"Neutral\"\\n\\nOUTPUT REQUIREMENTS:\\n- Format: JSON object with a single key \"list_emotion_classes\"\\n- Value: Array of one or more emotion classes as strings\\n- Example: {\"list_emotion_classes\": [\"Anger\", \"Fear\"]}\\n\\nIMPORTANT NOTES:\\n- Do not include any explanations in the output, only the JSON object\\n\\n', 'input': \"### Here is the utterance from a comic book: OH, HEY. I THINK SHE'S AWAKE.\", 'output': '{\"list_emotion_classes\": [\"Surprise\"]}'}\n",
      "{'instruction': '### Emotion Analysis Expert Role\\n\\nYou are an advanced emotion analysis expert specializing in comic book dialogue interpretation. Your task is to analyze utterances and identify their emotional content.\\n\\nINPUT:\\n- You will receive a single utterance from a comic book\\n- The utterance may express one or multiple emotions\\n\\nTASK:\\n1. Carefully analyze the emotional context and tone of the utterance\\n2. Identify applicable emotions from the following classes:\\n   \"Anger\", \"Disgust\", \"Fear\", \"Sadness\", \"Surprise\", \"Joy\", \"Neutral\"\\n\\nOUTPUT REQUIREMENTS:\\n- Format: JSON object with a single key \"list_emotion_classes\"\\n- Value: Array of one or more emotion classes as strings\\n- Example: {\"list_emotion_classes\": [\"Anger\", \"Fear\"]}\\n\\nIMPORTANT NOTES:\\n- Do not include any explanations in the output, only the JSON object\\n\\n', 'input': '### Here is the utterance from a comic book: WELCOME BACK, MADAM MAYOR. BLOCKBUSTER IS PRETTY PISSED WITH YOU.', 'output': '{\"list_emotion_classes\": [\"Anger\"]}'}\n",
      "{'instruction': '### Emotion Analysis Expert Role\\n\\nYou are an advanced emotion analysis expert specializing in comic book dialogue interpretation. Your task is to analyze utterances and identify their emotional content.\\n\\nINPUT:\\n- You will receive a single utterance from a comic book\\n- The utterance may express one or multiple emotions\\n\\nTASK:\\n1. Carefully analyze the emotional context and tone of the utterance\\n2. Identify applicable emotions from the following classes:\\n   \"Anger\", \"Disgust\", \"Fear\", \"Sadness\", \"Surprise\", \"Joy\", \"Neutral\"\\n\\nOUTPUT REQUIREMENTS:\\n- Format: JSON object with a single key \"list_emotion_classes\"\\n- Value: Array of one or more emotion classes as strings\\n- Example: {\"list_emotion_classes\": [\"Anger\", \"Fear\"]}\\n\\nIMPORTANT NOTES:\\n- Do not include any explanations in the output, only the JSON object\\n\\n', 'input': \"### Here is the utterance from a comic book: HE KNOWS YOU'RE WORKING WITH DICK GRAYSON.\", 'output': '{\"list_emotion_classes\": [\"Anger\", \"Surprise\"]}'}\n",
      "{'instruction': '### Emotion Analysis Expert Role\\n\\nYou are an advanced emotion analysis expert specializing in comic book dialogue interpretation. Your task is to analyze utterances and identify their emotional content.\\n\\nINPUT:\\n- You will receive a single utterance from a comic book\\n- The utterance may express one or multiple emotions\\n\\nTASK:\\n1. Carefully analyze the emotional context and tone of the utterance\\n2. Identify applicable emotions from the following classes:\\n   \"Anger\", \"Disgust\", \"Fear\", \"Sadness\", \"Surprise\", \"Joy\", \"Neutral\"\\n\\nOUTPUT REQUIREMENTS:\\n- Format: JSON object with a single key \"list_emotion_classes\"\\n- Value: Array of one or more emotion classes as strings\\n- Example: {\"list_emotion_classes\": [\"Anger\", \"Fear\"]}\\n\\nIMPORTANT NOTES:\\n- Do not include any explanations in the output, only the JSON object\\n\\n', 'input': '### Here is the utterance from a comic book: HE WANTS ME TO GET INFORMATION OUT OF YOU.', 'output': '{\"list_emotion_classes\": [\"Joy\"]}'}\n",
      "{'instruction': '### Emotion Analysis Expert Role\\n\\nYou are an advanced emotion analysis expert specializing in comic book dialogue interpretation. Your task is to analyze utterances and identify their emotional content.\\n\\nINPUT:\\n- You will receive a single utterance from a comic book\\n- The utterance may express one or multiple emotions\\n\\nTASK:\\n1. Carefully analyze the emotional context and tone of the utterance\\n2. Identify applicable emotions from the following classes:\\n   \"Anger\", \"Disgust\", \"Fear\", \"Sadness\", \"Surprise\", \"Joy\", \"Neutral\"\\n\\nOUTPUT REQUIREMENTS:\\n- Format: JSON object with a single key \"list_emotion_classes\"\\n- Value: Array of one or more emotion classes as strings\\n- Example: {\"list_emotion_classes\": [\"Anger\", \"Fear\"]}\\n\\nIMPORTANT NOTES:\\n- Do not include any explanations in the output, only the JSON object\\n\\n', 'input': \"### Here is the utterance from a comic book: SHE'S AWAKE, BOSS. SHE--\", 'output': '{\"list_emotion_classes\": [\"Joy\"]}'}\n",
      "{'instruction': '### Emotion Analysis Expert Role\\n\\nYou are an advanced emotion analysis expert specializing in comic book dialogue interpretation. Your task is to analyze utterances and identify their emotional content.\\n\\nINPUT:\\n- You will receive a single utterance from a comic book\\n- The utterance may express one or multiple emotions\\n\\nTASK:\\n1. Carefully analyze the emotional context and tone of the utterance\\n2. Identify applicable emotions from the following classes:\\n   \"Anger\", \"Disgust\", \"Fear\", \"Sadness\", \"Surprise\", \"Joy\", \"Neutral\"\\n\\nOUTPUT REQUIREMENTS:\\n- Format: JSON object with a single key \"list_emotion_classes\"\\n- Value: Array of one or more emotion classes as strings\\n- Example: {\"list_emotion_classes\": [\"Anger\", \"Fear\"]}\\n\\nIMPORTANT NOTES:\\n- Do not include any explanations in the output, only the JSON object\\n\\n', 'input': '### Here is the utterance from a comic book: CAN YOU WALK?', 'output': '{\"list_emotion_classes\": [\"Fear\"]}'}\n",
      "{'instruction': '### Emotion Analysis Expert Role\\n\\nYou are an advanced emotion analysis expert specializing in comic book dialogue interpretation. Your task is to analyze utterances and identify their emotional content.\\n\\nINPUT:\\n- You will receive a single utterance from a comic book\\n- The utterance may express one or multiple emotions\\n\\nTASK:\\n1. Carefully analyze the emotional context and tone of the utterance\\n2. Identify applicable emotions from the following classes:\\n   \"Anger\", \"Disgust\", \"Fear\", \"Sadness\", \"Surprise\", \"Joy\", \"Neutral\"\\n\\nOUTPUT REQUIREMENTS:\\n- Format: JSON object with a single key \"list_emotion_classes\"\\n- Value: Array of one or more emotion classes as strings\\n- Example: {\"list_emotion_classes\": [\"Anger\", \"Fear\"]}\\n\\nIMPORTANT NOTES:\\n- Do not include any explanations in the output, only the JSON object\\n\\n', 'input': '### Here is the utterance from a comic book: HOW DID YOU FIND ME?', 'output': '{\"list_emotion_classes\": [\"Surprise\"]}'}\n"
     ]
    }
   ],
   "source": [
    "for i in range(10):\n",
    "    print(data_file_train[i])"
   ]
  },
  {
   "cell_type": "code",
   "execution_count": 27,
   "id": "91becc82",
   "metadata": {},
   "outputs": [],
   "source": [
    "df_test = df[df.split == 'TEST'].reset_index()\n",
    "\n",
    "data_file_test = []\n",
    "\n",
    "for index, _ in df_test.iterrows():\n",
    "    \n",
    "    i = index\n",
    "\n",
    "    instruction = build_instruction()\n",
    "    question = build_tagged_text(df_test.iloc[i].utterance)\n",
    "    answer = build_answer(df_test.iloc[i].emotion)\n",
    "    \n",
    "    data_file_test.append( formatting_fct(instruction, question, answer) )"
   ]
  },
  {
   "cell_type": "code",
   "execution_count": 28,
   "id": "96669b4f-b279-48ba-8b9b-d04f91d49c67",
   "metadata": {},
   "outputs": [
    {
     "data": {
      "text/plain": [
       "1326"
      ]
     },
     "execution_count": 28,
     "metadata": {},
     "output_type": "execute_result"
    }
   ],
   "source": [
    "len(df_test)"
   ]
  },
  {
   "cell_type": "code",
   "execution_count": 29,
   "id": "6e2c531d-d86d-4289-8f3d-d00fd56d0051",
   "metadata": {},
   "outputs": [
    {
     "name": "stdout",
     "output_type": "stream",
     "text": [
      "{'instruction': '### Emotion Analysis Expert Role\\n\\nYou are an advanced emotion analysis expert specializing in comic book dialogue interpretation. Your task is to analyze utterances and identify their emotional content.\\n\\nINPUT:\\n- You will receive a single utterance from a comic book\\n- The utterance may express one or multiple emotions\\n\\nTASK:\\n1. Carefully analyze the emotional context and tone of the utterance\\n2. Identify applicable emotions from the following classes:\\n   \"Anger\", \"Disgust\", \"Fear\", \"Sadness\", \"Surprise\", \"Joy\", \"Neutral\"\\n\\nOUTPUT REQUIREMENTS:\\n- Format: JSON object with a single key \"list_emotion_classes\"\\n- Value: Array of one or more emotion classes as strings\\n- Example: {\"list_emotion_classes\": [\"Anger\", \"Fear\"]}\\n\\nIMPORTANT NOTES:\\n- Do not include any explanations in the output, only the JSON object\\n\\n', 'input': '### Here is the utterance from a comic book: TIME TO FACE OUR FEARS, PEOPLE…', 'output': '{\"list_emotion_classes\": [[\"Neutral\"]]}'}\n",
      "{'instruction': '### Emotion Analysis Expert Role\\n\\nYou are an advanced emotion analysis expert specializing in comic book dialogue interpretation. Your task is to analyze utterances and identify their emotional content.\\n\\nINPUT:\\n- You will receive a single utterance from a comic book\\n- The utterance may express one or multiple emotions\\n\\nTASK:\\n1. Carefully analyze the emotional context and tone of the utterance\\n2. Identify applicable emotions from the following classes:\\n   \"Anger\", \"Disgust\", \"Fear\", \"Sadness\", \"Surprise\", \"Joy\", \"Neutral\"\\n\\nOUTPUT REQUIREMENTS:\\n- Format: JSON object with a single key \"list_emotion_classes\"\\n- Value: Array of one or more emotion classes as strings\\n- Example: {\"list_emotion_classes\": [\"Anger\", \"Fear\"]}\\n\\nIMPORTANT NOTES:\\n- Do not include any explanations in the output, only the JSON object\\n\\n', 'input': \"### Here is the utterance from a comic book: IT'S TIME TO LIMBO!\", 'output': '{\"list_emotion_classes\": [\"Joy\"]}'}\n",
      "{'instruction': '### Emotion Analysis Expert Role\\n\\nYou are an advanced emotion analysis expert specializing in comic book dialogue interpretation. Your task is to analyze utterances and identify their emotional content.\\n\\nINPUT:\\n- You will receive a single utterance from a comic book\\n- The utterance may express one or multiple emotions\\n\\nTASK:\\n1. Carefully analyze the emotional context and tone of the utterance\\n2. Identify applicable emotions from the following classes:\\n   \"Anger\", \"Disgust\", \"Fear\", \"Sadness\", \"Surprise\", \"Joy\", \"Neutral\"\\n\\nOUTPUT REQUIREMENTS:\\n- Format: JSON object with a single key \"list_emotion_classes\"\\n- Value: Array of one or more emotion classes as strings\\n- Example: {\"list_emotion_classes\": [\"Anger\", \"Fear\"]}\\n\\nIMPORTANT NOTES:\\n- Do not include any explanations in the output, only the JSON object\\n\\n', 'input': '### Here is the utterance from a comic book: HOW LOW, CAN YOU GO?! HOW LOW, CAN YOU GO?!', 'output': '{\"list_emotion_classes\": [\"Surprise\", \"Joy\"]}'}\n",
      "{'instruction': '### Emotion Analysis Expert Role\\n\\nYou are an advanced emotion analysis expert specializing in comic book dialogue interpretation. Your task is to analyze utterances and identify their emotional content.\\n\\nINPUT:\\n- You will receive a single utterance from a comic book\\n- The utterance may express one or multiple emotions\\n\\nTASK:\\n1. Carefully analyze the emotional context and tone of the utterance\\n2. Identify applicable emotions from the following classes:\\n   \"Anger\", \"Disgust\", \"Fear\", \"Sadness\", \"Surprise\", \"Joy\", \"Neutral\"\\n\\nOUTPUT REQUIREMENTS:\\n- Format: JSON object with a single key \"list_emotion_classes\"\\n- Value: Array of one or more emotion classes as strings\\n- Example: {\"list_emotion_classes\": [\"Anger\", \"Fear\"]}\\n\\nIMPORTANT NOTES:\\n- Do not include any explanations in the output, only the JSON object\\n\\n', 'input': '### Here is the utterance from a comic book: HOW LOW--', 'output': '{\"list_emotion_classes\": [\"Surprise\", \"Joy\"]}'}\n",
      "{'instruction': '### Emotion Analysis Expert Role\\n\\nYou are an advanced emotion analysis expert specializing in comic book dialogue interpretation. Your task is to analyze utterances and identify their emotional content.\\n\\nINPUT:\\n- You will receive a single utterance from a comic book\\n- The utterance may express one or multiple emotions\\n\\nTASK:\\n1. Carefully analyze the emotional context and tone of the utterance\\n2. Identify applicable emotions from the following classes:\\n   \"Anger\", \"Disgust\", \"Fear\", \"Sadness\", \"Surprise\", \"Joy\", \"Neutral\"\\n\\nOUTPUT REQUIREMENTS:\\n- Format: JSON object with a single key \"list_emotion_classes\"\\n- Value: Array of one or more emotion classes as strings\\n- Example: {\"list_emotion_classes\": [\"Anger\", \"Fear\"]}\\n\\nIMPORTANT NOTES:\\n- Do not include any explanations in the output, only the JSON object\\n\\n', 'input': '### Here is the utterance from a comic book: WHAT IN…', 'output': '{\"list_emotion_classes\": [\"Fear\", \"Surprise\"]}'}\n",
      "{'instruction': '### Emotion Analysis Expert Role\\n\\nYou are an advanced emotion analysis expert specializing in comic book dialogue interpretation. Your task is to analyze utterances and identify their emotional content.\\n\\nINPUT:\\n- You will receive a single utterance from a comic book\\n- The utterance may express one or multiple emotions\\n\\nTASK:\\n1. Carefully analyze the emotional context and tone of the utterance\\n2. Identify applicable emotions from the following classes:\\n   \"Anger\", \"Disgust\", \"Fear\", \"Sadness\", \"Surprise\", \"Joy\", \"Neutral\"\\n\\nOUTPUT REQUIREMENTS:\\n- Format: JSON object with a single key \"list_emotion_classes\"\\n- Value: Array of one or more emotion classes as strings\\n- Example: {\"list_emotion_classes\": [\"Anger\", \"Fear\"]}\\n\\nIMPORTANT NOTES:\\n- Do not include any explanations in the output, only the JSON object\\n\\n', 'input': \"### Here is the utterance from a comic book: Don't mind us…\", 'output': '{\"list_emotion_classes\": [\"Anger\", \"Surprise\"]}'}\n",
      "{'instruction': '### Emotion Analysis Expert Role\\n\\nYou are an advanced emotion analysis expert specializing in comic book dialogue interpretation. Your task is to analyze utterances and identify their emotional content.\\n\\nINPUT:\\n- You will receive a single utterance from a comic book\\n- The utterance may express one or multiple emotions\\n\\nTASK:\\n1. Carefully analyze the emotional context and tone of the utterance\\n2. Identify applicable emotions from the following classes:\\n   \"Anger\", \"Disgust\", \"Fear\", \"Sadness\", \"Surprise\", \"Joy\", \"Neutral\"\\n\\nOUTPUT REQUIREMENTS:\\n- Format: JSON object with a single key \"list_emotion_classes\"\\n- Value: Array of one or more emotion classes as strings\\n- Example: {\"list_emotion_classes\": [\"Anger\", \"Fear\"]}\\n\\nIMPORTANT NOTES:\\n- Do not include any explanations in the output, only the JSON object\\n\\n', 'input': '### Here is the utterance from a comic book: ..By all means. Keep screaming.', 'output': '{\"list_emotion_classes\": [\"Anger\", \"Surprise\"]}'}\n",
      "{'instruction': '### Emotion Analysis Expert Role\\n\\nYou are an advanced emotion analysis expert specializing in comic book dialogue interpretation. Your task is to analyze utterances and identify their emotional content.\\n\\nINPUT:\\n- You will receive a single utterance from a comic book\\n- The utterance may express one or multiple emotions\\n\\nTASK:\\n1. Carefully analyze the emotional context and tone of the utterance\\n2. Identify applicable emotions from the following classes:\\n   \"Anger\", \"Disgust\", \"Fear\", \"Sadness\", \"Surprise\", \"Joy\", \"Neutral\"\\n\\nOUTPUT REQUIREMENTS:\\n- Format: JSON object with a single key \"list_emotion_classes\"\\n- Value: Array of one or more emotion classes as strings\\n- Example: {\"list_emotion_classes\": [\"Anger\", \"Fear\"]}\\n\\nIMPORTANT NOTES:\\n- Do not include any explanations in the output, only the JSON object\\n\\n', 'input': '### Here is the utterance from a comic book: #AAAIIIEEEEE!', 'output': '{\"list_emotion_classes\": [\"Fear\", \"Surprise\"]}'}\n",
      "{'instruction': '### Emotion Analysis Expert Role\\n\\nYou are an advanced emotion analysis expert specializing in comic book dialogue interpretation. Your task is to analyze utterances and identify their emotional content.\\n\\nINPUT:\\n- You will receive a single utterance from a comic book\\n- The utterance may express one or multiple emotions\\n\\nTASK:\\n1. Carefully analyze the emotional context and tone of the utterance\\n2. Identify applicable emotions from the following classes:\\n   \"Anger\", \"Disgust\", \"Fear\", \"Sadness\", \"Surprise\", \"Joy\", \"Neutral\"\\n\\nOUTPUT REQUIREMENTS:\\n- Format: JSON object with a single key \"list_emotion_classes\"\\n- Value: Array of one or more emotion classes as strings\\n- Example: {\"list_emotion_classes\": [\"Anger\", \"Fear\"]}\\n\\nIMPORTANT NOTES:\\n- Do not include any explanations in the output, only the JSON object\\n\\n', 'input': '### Here is the utterance from a comic book: PLEASE! I HAVE KIDS!', 'output': '{\"list_emotion_classes\": [\"Fear\", \"Sadness\", \"Surprise\"]}'}\n",
      "{'instruction': '### Emotion Analysis Expert Role\\n\\nYou are an advanced emotion analysis expert specializing in comic book dialogue interpretation. Your task is to analyze utterances and identify their emotional content.\\n\\nINPUT:\\n- You will receive a single utterance from a comic book\\n- The utterance may express one or multiple emotions\\n\\nTASK:\\n1. Carefully analyze the emotional context and tone of the utterance\\n2. Identify applicable emotions from the following classes:\\n   \"Anger\", \"Disgust\", \"Fear\", \"Sadness\", \"Surprise\", \"Joy\", \"Neutral\"\\n\\nOUTPUT REQUIREMENTS:\\n- Format: JSON object with a single key \"list_emotion_classes\"\\n- Value: Array of one or more emotion classes as strings\\n- Example: {\"list_emotion_classes\": [\"Anger\", \"Fear\"]}\\n\\nIMPORTANT NOTES:\\n- Do not include any explanations in the output, only the JSON object\\n\\n', 'input': '### Here is the utterance from a comic book: Aw. Point them out…', 'output': '{\"list_emotion_classes\": [\"Joy\"]}'}\n"
     ]
    }
   ],
   "source": [
    "for i in range(10):\n",
    "    print(data_file_test[i])"
   ]
  },
  {
   "cell_type": "markdown",
   "id": "8bb35781",
   "metadata": {},
   "source": [
    "### Create and save JSON files"
   ]
  },
  {
   "cell_type": "code",
   "execution_count": 30,
   "id": "01306b8c",
   "metadata": {},
   "outputs": [],
   "source": [
    "file_path = Path(DATASET_DIR) / \"comics35_utterance_train.json\"\n",
    "\n",
    "with open(file_path, 'w') as file:\n",
    "    \n",
    "    json.dump(data_file_train, file)"
   ]
  },
  {
   "cell_type": "code",
   "execution_count": 31,
   "id": "9b6f5885",
   "metadata": {},
   "outputs": [],
   "source": [
    "file_path = Path(DATASET_DIR) / \"comics35_utterance_test.json\"\n",
    "\n",
    "with open(file_path, 'w') as file:\n",
    "    \n",
    "    json.dump(data_file_test, file)"
   ]
  },
  {
   "cell_type": "code",
   "execution_count": null,
   "id": "b6a1d9bf",
   "metadata": {},
   "outputs": [],
   "source": []
  }
 ],
 "metadata": {
  "kernelspec": {
   "display_name": "Python 3 (ipykernel)",
   "language": "python",
   "name": "python3"
  }
 },
 "nbformat": 4,
 "nbformat_minor": 5
}
