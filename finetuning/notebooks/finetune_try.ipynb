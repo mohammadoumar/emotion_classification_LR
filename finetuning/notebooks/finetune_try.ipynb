{
 "cells": [
  {
   "cell_type": "code",
   "execution_count": 1,
   "metadata": {},
   "outputs": [],
   "source": [
    "import os\n",
    "import ast\n",
    "import sys\n",
    "import json\n",
    "import torch\n",
    "import pickle\n",
    "import subprocess\n",
    "\n",
    "sys.path.append('../')\n",
    "\n",
    "import pandas as pd\n",
    "\n",
    "from pathlib import Path\n",
    "from tqdm import tqdm\n",
    "from llamafactory.chat import ChatModel\n",
    "from llamafactory.extras.misc import torch_gc\n",
    "from sklearn.metrics import classification_report\n",
    "#from utils.post_processing import post_process\n"
   ]
  },
  {
   "cell_type": "code",
   "execution_count": 2,
   "metadata": {},
   "outputs": [],
   "source": [
    "try:    \n",
    "    assert torch.cuda.is_available() is True\n",
    "    \n",
    "except AssertionError:\n",
    "    \n",
    "    print(\"Please set up a GPU before using LLaMA Factory...\")"
   ]
  },
  {
   "cell_type": "code",
   "execution_count": 3,
   "metadata": {},
   "outputs": [],
   "source": [
    "CURRENT_DIR = Path.cwd()\n",
    "FT_DIR = CURRENT_DIR / \"emotion_analysis_comics\" / \"finetuning\"\n",
    "DATASET_DIR = CURRENT_DIR / \"emotion_analysis_comics\" / \"finetuning\" / \"datasets\"\n",
    "\n",
    "ERC_DIR = FT_DIR.parent\n",
    "LLAMA_FACTORY_DIR = ERC_DIR / \"LLaMA-Factory\"\n",
    "\n",
    "BASE_MODEL = \"unsloth/llama-3-8b-Instruct-bnb-4bit\"\n",
    "LOGGING_DIR = FT_DIR / \"training_logs\"\n",
    "OUTPUT_DIR = FT_DIR / \"saved_models\" / f\"\"\"comics35_pg_nb_xx_{BASE_MODEL.split(\"/\")[1]}\"\"\""
   ]
  },
  {
   "cell_type": "code",
   "execution_count": 4,
   "metadata": {},
   "outputs": [],
   "source": [
    "DATASET_DIR = CURRENT_DIR / \"emotion_analysis_comics\" / \"finetuning\" / \"datasets\""
   ]
  },
  {
   "cell_type": "code",
   "execution_count": 5,
   "metadata": {},
   "outputs": [],
   "source": [
    "train_dataset_name = f\"\"\"comics35_utterance_pg_classp_train.json\"\"\"\n",
    "test_dataset_name = f\"\"\"comics35_utterance_pg_classp_test.json\"\"\"\n",
    "\n",
    "train_dataset_file = DATASET_DIR / train_dataset_name\n",
    "test_dataset_file = DATASET_DIR / test_dataset_name"
   ]
  },
  {
   "cell_type": "code",
   "execution_count": 6,
   "metadata": {},
   "outputs": [
    {
     "data": {
      "text/plain": [
       "PosixPath('/Utilisateurs/umushtaq/emotion_analysis_comics/finetuning/datasets/comics35_utterance_pg_classp_train.json')"
      ]
     },
     "execution_count": 6,
     "metadata": {},
     "output_type": "execute_result"
    }
   ],
   "source": [
    "train_dataset_file"
   ]
  },
  {
   "cell_type": "code",
   "execution_count": 7,
   "metadata": {},
   "outputs": [],
   "source": [
    "\n",
    "if not os.path.exists(os.path.join(FT_DIR, \"model_args\")):\n",
    "    os.mkdir(os.path.join(FT_DIR, \"model_args\"))\n",
    "\n",
    "train_file = FT_DIR / \"model_args\" / f\"\"\"{train_dataset_name.split(\".\")[0].split(\"train\")[0]}{BASE_MODEL.split(\"/\")[1]}.json\"\"\""
   ]
  },
  {
   "cell_type": "code",
   "execution_count": 8,
   "metadata": {},
   "outputs": [],
   "source": [
    "dataset_info_line =  {\n",
    "  \"file_name\": f\"{train_dataset_file}\",\n",
    "  \"columns\": {\n",
    "    \"prompt\": \"instruction\",\n",
    "    \"query\": \"input\",\n",
    "    \"response\": \"output\"\n",
    "  }\n",
    "}"
   ]
  },
  {
   "cell_type": "code",
   "execution_count": 9,
   "metadata": {},
   "outputs": [],
   "source": [
    "with open(os.path.join(LLAMA_FACTORY_DIR, \"data/dataset_info.json\"), \"r\") as jsonFile:\n",
    "    data = json.load(jsonFile)\n",
    "\n",
    "data[\"comics\"] = dataset_info_line\n",
    "\n",
    "with open(os.path.join(LLAMA_FACTORY_DIR, \"data/dataset_info.json\"), \"w\") as jsonFile:\n",
    "    json.dump(data, jsonFile)"
   ]
  },
  {
   "cell_type": "code",
   "execution_count": 10,
   "metadata": {},
   "outputs": [],
   "source": [
    "NB_EPOCHS = 8"
   ]
  },
  {
   "cell_type": "code",
   "execution_count": 11,
   "metadata": {},
   "outputs": [],
   "source": [
    "args = dict(\n",
    "    \n",
    "  stage=\"sft\",                           # do supervised fine-tuning\n",
    "  do_train=True,\n",
    "\n",
    "  model_name_or_path=BASE_MODEL,         # use bnb-4bit-quantized Llama-3-8B-Instruct model\n",
    "  num_train_epochs=NB_EPOCHS,            # the epochs of training\n",
    "  output_dir=str(OUTPUT_DIR),                 # the path to save LoRA adapters\n",
    "  overwrite_output_dir=True,             # overrides existing output contents\n",
    "\n",
    "  dataset=\"comics\",                      # dataset name\n",
    "  template=\"llama3\",                     # use llama3 prompt template\n",
    "  #train_on_prompt=True,\n",
    "  val_size=0.1,\n",
    "  max_samples=10000,                       # use 500 examples in each dataset\n",
    "\n",
    "  finetuning_type=\"lora\",                # use LoRA adapters to save memory\n",
    "  lora_target=\"all\",                     # attach LoRA adapters to all linear layers\n",
    "  per_device_train_batch_size=8,         # the batch size\n",
    "  gradient_accumulation_steps=4,         # the gradient accumulation steps\n",
    "  lr_scheduler_type=\"cosine\",            # use cosine learning rate scheduler\n",
    "  loraplus_lr_ratio=16.0,                # use LoRA+ algorithm with lambda=16.0\n",
    "  #temperature=0.5,\n",
    "  \n",
    "  warmup_ratio=0.1,                      # use warmup scheduler    \n",
    "  learning_rate=5e-5,                    # the learning rate\n",
    "  max_grad_norm=1.0,                     # clip gradient norm to 1.0\n",
    "  \n",
    "  fp16=True,                             # use float16 mixed precision training\n",
    "  quantization_bit=4,                    # use 4-bit QLoRA  \n",
    "  #use_liger_kernel=True,\n",
    "  #quantization_device_map=\"auto\",\n",
    "  \n",
    "  #load_best_model_at_end=True,\n",
    "  #metric_for_best_model=\"eval_loss\",\n",
    "  #save_strategy=\"epoch\",\n",
    "  #eval_strategy=\"epoch\",\n",
    "  logging_steps=10,                      # log every 10 steps\n",
    "  save_steps=5000,                       # save checkpoint every 1000 steps    \n",
    "  logging_dir=str(LOGGING_DIR),\n",
    "  \n",
    "  #use_unsloth=True,\n",
    "  report_to=\"tensorboard\"                       # discards wandb\n",
    "\n",
    ")"
   ]
  },
  {
   "cell_type": "code",
   "execution_count": 12,
   "metadata": {},
   "outputs": [],
   "source": [
    "json.dump(args, open(train_file, \"w\", encoding=\"utf-8\"), indent=2)"
   ]
  },
  {
   "cell_type": "code",
   "execution_count": 13,
   "metadata": {},
   "outputs": [],
   "source": [
    "p = subprocess.Popen([\"llamafactory-cli\", \"train\", train_file], cwd=LLAMA_FACTORY_DIR)"
   ]
  },
  {
   "cell_type": "code",
   "execution_count": 14,
   "metadata": {},
   "outputs": [
    {
     "name": "stdout",
     "output_type": "stream",
     "text": [
      "11/14/2024 14:38:18 - INFO - llamafactory.cli - Initializing distributed tasks at: 127.0.0.1:22020\n"
     ]
    },
    {
     "name": "stderr",
     "output_type": "stream",
     "text": [
      "W1114 14:38:19.892000 139793799583040 torch/distributed/run.py:779] \n",
      "W1114 14:38:19.892000 139793799583040 torch/distributed/run.py:779] *****************************************\n",
      "W1114 14:38:19.892000 139793799583040 torch/distributed/run.py:779] Setting OMP_NUM_THREADS environment variable for each process to be 1 in default, to avoid your system being overloaded, please further tune the variable for optimal performance in your application as needed. \n",
      "W1114 14:38:19.892000 139793799583040 torch/distributed/run.py:779] *****************************************\n"
     ]
    },
    {
     "name": "stdout",
     "output_type": "stream",
     "text": [
      "11/14/2024 14:38:25 - WARNING - llamafactory.hparams.parser - We recommend enable `upcast_layernorm` in quantized training.\n",
      "11/14/2024 14:38:25 - WARNING - llamafactory.hparams.parser - `ddp_find_unused_parameters` needs to be set as False for LoRA in DDP training.\n",
      "11/14/2024 14:38:25 - INFO - llamafactory.hparams.parser - Process rank: 0, device: cuda:0, n_gpu: 1, distributed training: True, compute dtype: torch.float16\n",
      "11/14/2024 14:38:25 - WARNING - llamafactory.hparams.parser - We recommend enable `upcast_layernorm` in quantized training.\n",
      "11/14/2024 14:38:25 - WARNING - llamafactory.hparams.parser - `ddp_find_unused_parameters` needs to be set as False for LoRA in DDP training.\n",
      "11/14/2024 14:38:25 - INFO - llamafactory.hparams.parser - Process rank: 1, device: cuda:1, n_gpu: 1, distributed training: True, compute dtype: torch.float16\n"
     ]
    },
    {
     "name": "stderr",
     "output_type": "stream",
     "text": [
      "[INFO|configuration_utils.py:672] 2024-11-14 14:38:25,617 >> loading configuration file config.json from cache at /Utilisateurs/umushtaq/.cache/huggingface/hub/models--unsloth--llama-3-8b-Instruct-bnb-4bit/snapshots/f296897830363557c84cc4a942c2cd1f91818ae4/config.json\n",
      "[INFO|configuration_utils.py:739] 2024-11-14 14:38:25,618 >> Model config LlamaConfig {\n",
      "  \"_name_or_path\": \"unsloth/llama-3-8b-Instruct-bnb-4bit\",\n",
      "  \"architectures\": [\n",
      "    \"LlamaForCausalLM\"\n",
      "  ],\n",
      "  \"attention_bias\": false,\n",
      "  \"attention_dropout\": 0.0,\n",
      "  \"bos_token_id\": 128000,\n",
      "  \"eos_token_id\": 128009,\n",
      "  \"head_dim\": 128,\n",
      "  \"hidden_act\": \"silu\",\n",
      "  \"hidden_size\": 4096,\n",
      "  \"initializer_range\": 0.02,\n",
      "  \"intermediate_size\": 14336,\n",
      "  \"max_position_embeddings\": 8192,\n",
      "  \"mlp_bias\": false,\n",
      "  \"model_type\": \"llama\",\n",
      "  \"num_attention_heads\": 32,\n",
      "  \"num_hidden_layers\": 32,\n",
      "  \"num_key_value_heads\": 8,\n",
      "  \"pad_token_id\": 128255,\n",
      "  \"pretraining_tp\": 1,\n",
      "  \"quantization_config\": {\n",
      "    \"_load_in_4bit\": true,\n",
      "    \"_load_in_8bit\": false,\n",
      "    \"bnb_4bit_compute_dtype\": \"bfloat16\",\n",
      "    \"bnb_4bit_quant_storage\": \"uint8\",\n",
      "    \"bnb_4bit_quant_type\": \"nf4\",\n",
      "    \"bnb_4bit_use_double_quant\": true,\n",
      "    \"llm_int8_enable_fp32_cpu_offload\": false,\n",
      "    \"llm_int8_has_fp16_weight\": false,\n",
      "    \"llm_int8_skip_modules\": null,\n",
      "    \"llm_int8_threshold\": 6.0,\n",
      "    \"load_in_4bit\": true,\n",
      "    \"load_in_8bit\": false,\n",
      "    \"quant_method\": \"bitsandbytes\"\n",
      "  },\n",
      "  \"rms_norm_eps\": 1e-05,\n",
      "  \"rope_scaling\": null,\n",
      "  \"rope_theta\": 500000.0,\n",
      "  \"tie_word_embeddings\": false,\n",
      "  \"torch_dtype\": \"bfloat16\",\n",
      "  \"transformers_version\": \"4.45.0\",\n",
      "  \"unsloth_version\": \"2024.9\",\n",
      "  \"use_cache\": true,\n",
      "  \"vocab_size\": 128256\n",
      "}\n",
      "\n",
      "[INFO|tokenization_utils_base.py:2214] 2024-11-14 14:38:25,739 >> loading file tokenizer.json from cache at /Utilisateurs/umushtaq/.cache/huggingface/hub/models--unsloth--llama-3-8b-Instruct-bnb-4bit/snapshots/f296897830363557c84cc4a942c2cd1f91818ae4/tokenizer.json\n",
      "[INFO|tokenization_utils_base.py:2214] 2024-11-14 14:38:25,740 >> loading file tokenizer.model from cache at None\n",
      "[INFO|tokenization_utils_base.py:2214] 2024-11-14 14:38:25,740 >> loading file added_tokens.json from cache at None\n",
      "[INFO|tokenization_utils_base.py:2214] 2024-11-14 14:38:25,740 >> loading file special_tokens_map.json from cache at /Utilisateurs/umushtaq/.cache/huggingface/hub/models--unsloth--llama-3-8b-Instruct-bnb-4bit/snapshots/f296897830363557c84cc4a942c2cd1f91818ae4/special_tokens_map.json\n",
      "[INFO|tokenization_utils_base.py:2214] 2024-11-14 14:38:25,740 >> loading file tokenizer_config.json from cache at /Utilisateurs/umushtaq/.cache/huggingface/hub/models--unsloth--llama-3-8b-Instruct-bnb-4bit/snapshots/f296897830363557c84cc4a942c2cd1f91818ae4/tokenizer_config.json\n",
      "[INFO|tokenization_utils_base.py:2478] 2024-11-14 14:38:26,149 >> Special tokens have been added in the vocabulary, make sure the associated word embeddings are fine-tuned or trained.\n",
      "[INFO|configuration_utils.py:672] 2024-11-14 14:38:26,791 >> loading configuration file config.json from cache at /Utilisateurs/umushtaq/.cache/huggingface/hub/models--unsloth--llama-3-8b-Instruct-bnb-4bit/snapshots/f296897830363557c84cc4a942c2cd1f91818ae4/config.json\n",
      "[INFO|configuration_utils.py:739] 2024-11-14 14:38:26,792 >> Model config LlamaConfig {\n",
      "  \"_name_or_path\": \"unsloth/llama-3-8b-Instruct-bnb-4bit\",\n",
      "  \"architectures\": [\n",
      "    \"LlamaForCausalLM\"\n",
      "  ],\n",
      "  \"attention_bias\": false,\n",
      "  \"attention_dropout\": 0.0,\n",
      "  \"bos_token_id\": 128000,\n",
      "  \"eos_token_id\": 128009,\n",
      "  \"head_dim\": 128,\n",
      "  \"hidden_act\": \"silu\",\n",
      "  \"hidden_size\": 4096,\n",
      "  \"initializer_range\": 0.02,\n",
      "  \"intermediate_size\": 14336,\n",
      "  \"max_position_embeddings\": 8192,\n",
      "  \"mlp_bias\": false,\n",
      "  \"model_type\": \"llama\",\n",
      "  \"num_attention_heads\": 32,\n",
      "  \"num_hidden_layers\": 32,\n",
      "  \"num_key_value_heads\": 8,\n",
      "  \"pad_token_id\": 128255,\n",
      "  \"pretraining_tp\": 1,\n",
      "  \"quantization_config\": {\n",
      "    \"_load_in_4bit\": true,\n",
      "    \"_load_in_8bit\": false,\n",
      "    \"bnb_4bit_compute_dtype\": \"bfloat16\",\n",
      "    \"bnb_4bit_quant_storage\": \"uint8\",\n",
      "    \"bnb_4bit_quant_type\": \"nf4\",\n",
      "    \"bnb_4bit_use_double_quant\": true,\n",
      "    \"llm_int8_enable_fp32_cpu_offload\": false,\n",
      "    \"llm_int8_has_fp16_weight\": false,\n",
      "    \"llm_int8_skip_modules\": null,\n",
      "    \"llm_int8_threshold\": 6.0,\n",
      "    \"load_in_4bit\": true,\n",
      "    \"load_in_8bit\": false,\n",
      "    \"quant_method\": \"bitsandbytes\"\n",
      "  },\n",
      "  \"rms_norm_eps\": 1e-05,\n",
      "  \"rope_scaling\": null,\n",
      "  \"rope_theta\": 500000.0,\n",
      "  \"tie_word_embeddings\": false,\n",
      "  \"torch_dtype\": \"bfloat16\",\n",
      "  \"transformers_version\": \"4.45.0\",\n",
      "  \"unsloth_version\": \"2024.9\",\n",
      "  \"use_cache\": true,\n",
      "  \"vocab_size\": 128256\n",
      "}\n",
      "\n",
      "[INFO|tokenization_utils_base.py:2214] 2024-11-14 14:38:26,915 >> loading file tokenizer.json from cache at /Utilisateurs/umushtaq/.cache/huggingface/hub/models--unsloth--llama-3-8b-Instruct-bnb-4bit/snapshots/f296897830363557c84cc4a942c2cd1f91818ae4/tokenizer.json\n",
      "[INFO|tokenization_utils_base.py:2214] 2024-11-14 14:38:26,915 >> loading file tokenizer.model from cache at None\n",
      "[INFO|tokenization_utils_base.py:2214] 2024-11-14 14:38:26,915 >> loading file added_tokens.json from cache at None\n",
      "[INFO|tokenization_utils_base.py:2214] 2024-11-14 14:38:26,915 >> loading file special_tokens_map.json from cache at /Utilisateurs/umushtaq/.cache/huggingface/hub/models--unsloth--llama-3-8b-Instruct-bnb-4bit/snapshots/f296897830363557c84cc4a942c2cd1f91818ae4/special_tokens_map.json\n",
      "[INFO|tokenization_utils_base.py:2214] 2024-11-14 14:38:26,915 >> loading file tokenizer_config.json from cache at /Utilisateurs/umushtaq/.cache/huggingface/hub/models--unsloth--llama-3-8b-Instruct-bnb-4bit/snapshots/f296897830363557c84cc4a942c2cd1f91818ae4/tokenizer_config.json\n",
      "[INFO|tokenization_utils_base.py:2478] 2024-11-14 14:38:27,475 >> Special tokens have been added in the vocabulary, make sure the associated word embeddings are fine-tuned or trained.\n"
     ]
    },
    {
     "name": "stdout",
     "output_type": "stream",
     "text": [
      "11/14/2024 14:38:27 - INFO - llamafactory.data.template - Replace eos token: <|eot_id|>\n",
      "11/14/2024 14:38:27 - INFO - llamafactory.data.loader - Loading dataset /Utilisateurs/umushtaq/emotion_analysis_comics/finetuning/datasets/comics35_utterance_pg_classp_train.json...\n",
      "11/14/2024 14:38:27 - INFO - llamafactory.data.template - Replace eos token: <|eot_id|>\n",
      "11/14/2024 14:38:29 - INFO - llamafactory.data.loader - Loading dataset /Utilisateurs/umushtaq/emotion_analysis_comics/finetuning/datasets/comics35_utterance_pg_classp_train.json...\n",
      "training example:\n",
      "input_ids:\n",
      "[128000, 128006, 882, 128007, 271, 14711, 5867, 6082, 18825, 33257, 15766, 271, 2675, 527, 459, 11084, 20356, 6492, 6335, 58394, 304, 20303, 2363, 21976, 23692, 13, 4718, 3465, 374, 311, 24564, 22256, 3095, 323, 10765, 872, 14604, 2262, 382, 30521, 512, 12, 1472, 690, 5371, 264, 1160, 315, 22256, 3095, 505, 264, 2199, 304, 264, 20303, 2363, 198, 12, 578, 22256, 685, 1253, 3237, 832, 477, 5361, 21958, 271, 66913, 512, 16, 13, 10852, 3725, 24564, 279, 14604, 2317, 323, 16630, 315, 1855, 22256, 685, 304, 279, 2199, 198, 17, 13, 65647, 8581, 21958, 505, 279, 2768, 6989, 512, 256, 330, 4091, 498, 330, 4338, 70, 592, 498, 330, 69, 686, 498, 330, 83214, 2136, 498, 330, 20370, 9868, 498, 330, 4215, 498, 330, 60668, 702, 18, 13, 1789, 1855, 22256, 685, 304, 264, 20303, 2199, 11, 10765, 682, 21958, 3118, 323, 471, 459, 1358, 315, 20356, 18893, 304, 2015, 382, 1999, 35009, 304, 16543, 2956, 512, 12, 19788, 25, 220, 1419, 13, 15, 14062, 12, 68162, 25, 220, 18, 13, 18, 14062, 12, 8850, 25, 220, 1114, 13, 15, 14062, 12, 51978, 25, 220, 1114, 13, 15, 14062, 12, 13051, 25, 220, 972, 13, 15, 14062, 12, 16267, 25, 220, 1114, 13, 15, 14062, 12, 21277, 25, 220, 19, 13, 15, 15804, 99843, 25, 21829, 1521, 538, 34873, 994, 3339, 11429, 1418, 20958, 13708, 627, 1084, 93016, 50, 512, 16, 13, 5560, 27785, 279, 9382, 10212, 3485, 198, 17, 13, 9442, 2011, 387, 264, 4823, 449, 3254, 1401, 330, 2964, 62, 6339, 685, 23319, 41356, 702, 18, 13, 5273, 2011, 387, 459, 1358, 1405, 512, 256, 482, 9062, 2449, 374, 459, 1358, 315, 21958, 369, 832, 22256, 685, 198, 256, 482, 7365, 9248, 279, 1988, 22256, 3095, 2015, 198, 256, 482, 29911, 21958, 527, 5535, 824, 22256, 685, 198, 19, 13, 2360, 41941, 11, 1193, 4823, 2612, 271, 99843, 512, 12, 9062, 1358, 2449, 34310, 311, 832, 22256, 685, 198, 12, 3861, 22256, 685, 649, 617, 5361, 21958, 198, 12, 87477, 4839, 43529, 323, 1162, 315, 20356, 9382, 198, 12, 13969, 21958, 304, 18893, 1524, 369, 3254, 21958, 271, 7184, 24564, 1521, 22256, 3095, 505, 264, 2199, 304, 264, 29159, 2363, 512, 16, 13, 10245, 650, 3015, 4534, 1753, 99550, 1507, 3247, 50297, 7354, 6483, 50, 3083, 18725, 6570, 6005, 50, 1981, 720, 17, 13, 4696, 8871, 393, 1899, 35457, 18725, 7354, 58376, 2843, 1112, 25832, 1750, 6486, 1981, 3651, 23214, 8871, 7354, 16929, 4716, 61094, 627, 18, 13, 18725, 72297, 4999, 19, 13, 54233, 4999, 20, 13, 11155, 358, 19102, 4276, 6969, 4157, 35, 10245, 29637, 39023, 13398, 10245, 25404, 5257, 36757, 8871, 480, 1308, 12073, 4999, 21, 13, 11947, 984, 386, 33937, 4999, 22, 13, 358, 19102, 7837, 36, 5257, 3501, 48, 313, 4999, 23, 13, 38535, 7233, 24, 13, 1198, 1669, 26336, 30, 4999, 605, 13, 5782, 0, 5782, 0, 128009, 128006, 78191, 128007, 271, 5018, 2964, 62, 6339, 685, 23319, 41356, 794, 79786, 4091, 8073, 4482, 4091, 8073, 4482, 69, 686, 8073, 4482, 69, 686, 8073, 4482, 69, 686, 498, 330, 83214, 2136, 8073, 4482, 83214, 2136, 8073, 4482, 4091, 8073, 4482, 20370, 9868, 8073, 4482, 20370, 9868, 8073, 4482, 69, 686, 498, 330, 20370, 9868, 1365, 14316, 128009]\n",
      "inputs:\n",
      "<|begin_of_text|><|start_header_id|>user<|end_header_id|>\n",
      "\n",
      "### Emotion Analysis Expert Role\n",
      "\n",
      "You are an advanced emotion analysis expert specializing in comic book dialogue interpretation. Your task is to analyze utterances and identify their emotional content.\n",
      "\n",
      "INPUT:\n",
      "- You will receive a list of utterances from a page in a comic book\n",
      "- The utterance may express one or multiple emotions\n",
      "\n",
      "TASK:\n",
      "1. Carefully analyze the emotional context and tone of each utterance in the page\n",
      "2. Identify applicable emotions from the following classes:\n",
      "   \"anger\", \"disgust\", \"fear\", \"sadness\", \"surprise\", \"joy\", \"neutral\"\n",
      "3. For each utterance in a comic page, identify all emotions present and return an array of emotion arrays in order.\n",
      "\n",
      "Class Distribution in Training Data:\n",
      "- anger: 23.0%\n",
      "- disgust: 3.3%\n",
      "- fear: 17.0%\n",
      "- sadness: 17.0%\n",
      "- surprise: 18.0%\n",
      "- joy: 17.0%\n",
      "- neutral: 4.0%\n",
      "\n",
      "IMPORTANT: Consider these class frequencies when making decisions while maintaining accuracy.\n",
      "    \n",
      "RULES:\n",
      "1. Use ONLY the labels listed above\n",
      "2. Output must be a JSON with single key \"page_utterance_emotions\"\n",
      "3. Value must be an array where:\n",
      "   - Each element is an array of emotions for one utterance\n",
      "   - Order matches the input utterances order\n",
      "   - Multiple emotions are allowed per utterance\n",
      "4. No explanations, only JSON output\n",
      "\n",
      "IMPORTANT:\n",
      "- Each array element corresponds to one utterance\n",
      "- One utterance can have multiple emotions\n",
      "- Maintain exact spelling and case of emotion labels\n",
      "- Keep emotions in arrays even for single emotions\n",
      "\n",
      "Now analyze these utterances from a page in a comics book:\n",
      "1. THIS VILE THING ATTACKED THE SMALL BEASTS OF MY SHORES… \n",
      "2. … IT PUNCHED MY BEAUTIFUL MATILDA… AND NOW IT BEGS FOR LIFE.\n",
      "3. MY MASTER!\n",
      "4. PLEASE!\n",
      "5. BUT I HAVE NOT CHASED THIS MONSTER ALL THIS WAY TO LET IT GROVEL!\n",
      "6. HEAL MEEE!\n",
      "7. I HAVE COME TO CONQ--!\n",
      "8. WHAT--\n",
      "9. --IS THAT?!\n",
      "10. NO! NO!<|eot_id|><|start_header_id|>assistant<|end_header_id|>\n",
      "\n",
      "{\"page_utterance_emotions\": [[\"anger\"], [\"anger\"], [\"fear\"], [\"fear\"], [\"fear\", \"sadness\"], [\"sadness\"], [\"anger\"], [\"surprise\"], [\"surprise\"], [\"fear\", \"surprise\"]]}<|eot_id|>\n",
      "label_ids:\n",
      "[-100, -100, -100, -100, -100, -100, -100, -100, -100, -100, -100, -100, -100, -100, -100, -100, -100, -100, -100, -100, -100, -100, -100, -100, -100, -100, -100, -100, -100, -100, -100, -100, -100, -100, -100, -100, -100, -100, -100, -100, -100, -100, -100, -100, -100, -100, -100, -100, -100, -100, -100, -100, -100, -100, -100, -100, -100, -100, -100, -100, -100, -100, -100, -100, -100, -100, -100, -100, -100, -100, -100, -100, -100, -100, -100, -100, -100, -100, -100, -100, -100, -100, -100, -100, -100, -100, -100, -100, -100, -100, -100, -100, -100, -100, -100, -100, -100, -100, -100, -100, -100, -100, -100, -100, -100, -100, -100, -100, -100, -100, -100, -100, -100, -100, -100, -100, -100, -100, -100, -100, -100, -100, -100, -100, -100, -100, -100, -100, -100, -100, -100, -100, -100, -100, -100, -100, -100, -100, -100, -100, -100, -100, -100, -100, -100, -100, -100, -100, -100, -100, -100, -100, -100, -100, -100, -100, -100, -100, -100, -100, -100, -100, -100, -100, -100, -100, -100, -100, -100, -100, -100, -100, -100, -100, -100, -100, -100, -100, -100, -100, -100, -100, -100, -100, -100, -100, -100, -100, -100, -100, -100, -100, -100, -100, -100, -100, -100, -100, -100, -100, -100, -100, -100, -100, -100, -100, -100, -100, -100, -100, -100, -100, -100, -100, -100, -100, -100, -100, -100, -100, -100, -100, -100, -100, -100, -100, -100, -100, -100, -100, -100, -100, -100, -100, -100, -100, -100, -100, -100, -100, -100, -100, -100, -100, -100, -100, -100, -100, -100, -100, -100, -100, -100, -100, -100, -100, -100, -100, -100, -100, -100, -100, -100, -100, -100, -100, -100, -100, -100, -100, -100, -100, -100, -100, -100, -100, -100, -100, -100, -100, -100, -100, -100, -100, -100, -100, -100, -100, -100, -100, -100, -100, -100, -100, -100, -100, -100, -100, -100, -100, -100, -100, -100, -100, -100, -100, -100, -100, -100, -100, -100, -100, -100, -100, -100, -100, -100, -100, -100, -100, -100, -100, -100, -100, -100, -100, -100, -100, -100, -100, -100, -100, -100, -100, -100, -100, -100, -100, -100, -100, -100, -100, -100, -100, -100, -100, -100, -100, -100, -100, -100, -100, -100, -100, -100, -100, -100, -100, -100, -100, -100, -100, -100, -100, -100, -100, -100, -100, -100, -100, -100, -100, -100, -100, -100, -100, -100, -100, -100, -100, -100, -100, -100, -100, -100, -100, -100, -100, -100, -100, -100, -100, -100, -100, -100, -100, -100, -100, -100, -100, -100, -100, -100, -100, -100, -100, -100, -100, -100, -100, -100, -100, -100, -100, -100, -100, -100, -100, -100, -100, -100, -100, -100, -100, -100, -100, -100, -100, -100, -100, -100, -100, -100, -100, -100, -100, -100, -100, -100, -100, -100, -100, -100, -100, -100, -100, -100, -100, -100, -100, -100, -100, -100, -100, -100, -100, -100, -100, -100, -100, -100, -100, -100, -100, -100, -100, -100, -100, -100, -100, -100, -100, -100, -100, -100, -100, -100, -100, -100, 5018, 2964, 62, 6339, 685, 23319, 41356, 794, 79786, 4091, 8073, 4482, 4091, 8073, 4482, 69, 686, 8073, 4482, 69, 686, 8073, 4482, 69, 686, 498, 330, 83214, 2136, 8073, 4482, 83214, 2136, 8073, 4482, 4091, 8073, 4482, 20370, 9868, 8073, 4482, 20370, 9868, 8073, 4482, 69, 686, 498, 330, 20370, 9868, 1365, 14316, 128009]\n",
      "labels:\n",
      "{\"page_utterance_emotions\": [[\"anger\"], [\"anger\"], [\"fear\"], [\"fear\"], [\"fear\", \"sadness\"], [\"sadness\"], [\"anger\"], [\"surprise\"], [\"surprise\"], [\"fear\", \"surprise\"]]}<|eot_id|>\n"
     ]
    },
    {
     "name": "stderr",
     "output_type": "stream",
     "text": [
      "[INFO|configuration_utils.py:672] 2024-11-14 14:38:29,884 >> loading configuration file config.json from cache at /Utilisateurs/umushtaq/.cache/huggingface/hub/models--unsloth--llama-3-8b-Instruct-bnb-4bit/snapshots/f296897830363557c84cc4a942c2cd1f91818ae4/config.json\n",
      "[INFO|configuration_utils.py:739] 2024-11-14 14:38:29,885 >> Model config LlamaConfig {\n",
      "  \"_name_or_path\": \"unsloth/llama-3-8b-Instruct-bnb-4bit\",\n",
      "  \"architectures\": [\n",
      "    \"LlamaForCausalLM\"\n",
      "  ],\n",
      "  \"attention_bias\": false,\n",
      "  \"attention_dropout\": 0.0,\n",
      "  \"bos_token_id\": 128000,\n",
      "  \"eos_token_id\": 128009,\n",
      "  \"head_dim\": 128,\n",
      "  \"hidden_act\": \"silu\",\n",
      "  \"hidden_size\": 4096,\n",
      "  \"initializer_range\": 0.02,\n",
      "  \"intermediate_size\": 14336,\n",
      "  \"max_position_embeddings\": 8192,\n",
      "  \"mlp_bias\": false,\n",
      "  \"model_type\": \"llama\",\n",
      "  \"num_attention_heads\": 32,\n",
      "  \"num_hidden_layers\": 32,\n",
      "  \"num_key_value_heads\": 8,\n",
      "  \"pad_token_id\": 128255,\n",
      "  \"pretraining_tp\": 1,\n",
      "  \"quantization_config\": {\n",
      "    \"_load_in_4bit\": true,\n",
      "    \"_load_in_8bit\": false,\n",
      "    \"bnb_4bit_compute_dtype\": \"bfloat16\",\n",
      "    \"bnb_4bit_quant_storage\": \"uint8\",\n",
      "    \"bnb_4bit_quant_type\": \"nf4\",\n",
      "    \"bnb_4bit_use_double_quant\": true,\n",
      "    \"llm_int8_enable_fp32_cpu_offload\": false,\n",
      "    \"llm_int8_has_fp16_weight\": false,\n",
      "    \"llm_int8_skip_modules\": null,\n",
      "    \"llm_int8_threshold\": 6.0,\n",
      "    \"load_in_4bit\": true,\n",
      "    \"load_in_8bit\": false,\n",
      "    \"quant_method\": \"bitsandbytes\"\n",
      "  },\n",
      "  \"rms_norm_eps\": 1e-05,\n",
      "  \"rope_scaling\": null,\n",
      "  \"rope_theta\": 500000.0,\n",
      "  \"tie_word_embeddings\": false,\n",
      "  \"torch_dtype\": \"bfloat16\",\n",
      "  \"transformers_version\": \"4.45.0\",\n",
      "  \"unsloth_version\": \"2024.9\",\n",
      "  \"use_cache\": true,\n",
      "  \"vocab_size\": 128256\n",
      "}\n",
      "\n",
      "[WARNING|quantization_config.py:400] 2024-11-14 14:38:29,958 >> Unused kwargs: ['_load_in_4bit', '_load_in_8bit', 'quant_method']. These kwargs are not used in <class 'transformers.utils.quantization_config.BitsAndBytesConfig'>.\n",
      "Unused kwargs: ['_load_in_4bit', '_load_in_8bit', 'quant_method']. These kwargs are not used in <class 'transformers.utils.quantization_config.BitsAndBytesConfig'>.\n"
     ]
    },
    {
     "name": "stdout",
     "output_type": "stream",
     "text": [
      "11/14/2024 14:38:29 - WARNING - llamafactory.model.model_utils.quantization - `quantization_bit` will not affect on the PTQ-quantized models.\n",
      "11/14/2024 14:38:29 - INFO - llamafactory.model.model_utils.quantization - Loading ?-bit BITSANDBYTES-quantized model.\n",
      "11/14/2024 14:38:29 - WARNING - llamafactory.model.model_utils.quantization - `quantization_bit` will not affect on the PTQ-quantized models.\n",
      "11/14/2024 14:38:29 - INFO - llamafactory.model.model_utils.quantization - Loading ?-bit BITSANDBYTES-quantized model.\n"
     ]
    },
    {
     "name": "stderr",
     "output_type": "stream",
     "text": [
      "[INFO|modeling_utils.py:3726] 2024-11-14 14:38:30,211 >> loading weights file model.safetensors from cache at /Utilisateurs/umushtaq/.cache/huggingface/hub/models--unsloth--llama-3-8b-Instruct-bnb-4bit/snapshots/f296897830363557c84cc4a942c2cd1f91818ae4/model.safetensors\n",
      "[INFO|modeling_utils.py:1622] 2024-11-14 14:38:30,264 >> Instantiating LlamaForCausalLM model under default dtype torch.float16.\n",
      "[INFO|configuration_utils.py:1099] 2024-11-14 14:38:30,268 >> Generate config GenerationConfig {\n",
      "  \"bos_token_id\": 128000,\n",
      "  \"eos_token_id\": 128009,\n",
      "  \"pad_token_id\": 128255\n",
      "}\n",
      "\n",
      "[INFO|modeling_utils.py:4568] 2024-11-14 14:38:33,834 >> All model checkpoint weights were used when initializing LlamaForCausalLM.\n",
      "\n",
      "[INFO|modeling_utils.py:4576] 2024-11-14 14:38:33,834 >> All the weights of LlamaForCausalLM were initialized from the model checkpoint at unsloth/llama-3-8b-Instruct-bnb-4bit.\n",
      "If your task is similar to the task the model of the checkpoint was trained on, you can already use LlamaForCausalLM for predictions without further training.\n",
      "[INFO|configuration_utils.py:1054] 2024-11-14 14:38:33,961 >> loading configuration file generation_config.json from cache at /Utilisateurs/umushtaq/.cache/huggingface/hub/models--unsloth--llama-3-8b-Instruct-bnb-4bit/snapshots/f296897830363557c84cc4a942c2cd1f91818ae4/generation_config.json\n",
      "[INFO|configuration_utils.py:1099] 2024-11-14 14:38:33,962 >> Generate config GenerationConfig {\n",
      "  \"bos_token_id\": 128000,\n",
      "  \"do_sample\": true,\n",
      "  \"eos_token_id\": [\n",
      "    128001,\n",
      "    128009\n",
      "  ],\n",
      "  \"max_length\": 8192,\n",
      "  \"pad_token_id\": 128255,\n",
      "  \"temperature\": 0.6,\n",
      "  \"top_p\": 0.9\n",
      "}\n",
      "\n"
     ]
    },
    {
     "name": "stdout",
     "output_type": "stream",
     "text": [
      "11/14/2024 14:38:34 - INFO - llamafactory.model.model_utils.checkpointing - Gradient checkpointing enabled.\n",
      "11/14/2024 14:38:34 - INFO - llamafactory.model.model_utils.attention - Using torch SDPA for faster training and inference.\n",
      "11/14/2024 14:38:34 - INFO - llamafactory.model.adapter - Upcasting trainable params to float32.\n",
      "11/14/2024 14:38:34 - INFO - llamafactory.model.adapter - Fine-tuning method: LoRA\n",
      "11/14/2024 14:38:34 - INFO - llamafactory.model.model_utils.misc - Found linear modules: down_proj,gate_proj,q_proj,v_proj,o_proj,up_proj,k_proj\n",
      "11/14/2024 14:38:34 - INFO - llamafactory.model.model_utils.checkpointing - Gradient checkpointing enabled.\n",
      "11/14/2024 14:38:34 - INFO - llamafactory.model.model_utils.attention - Using torch SDPA for faster training and inference.\n",
      "11/14/2024 14:38:34 - INFO - llamafactory.model.adapter - Upcasting trainable params to float32.\n",
      "11/14/2024 14:38:34 - INFO - llamafactory.model.adapter - Fine-tuning method: LoRA\n",
      "11/14/2024 14:38:34 - INFO - llamafactory.model.model_utils.misc - Found linear modules: v_proj,q_proj,down_proj,k_proj,gate_proj,o_proj,up_proj\n",
      "11/14/2024 14:38:34 - INFO - llamafactory.model.loader - trainable params: 20,971,520 || all params: 8,051,232,768 || trainable%: 0.2605\n",
      "11/14/2024 14:38:34 - INFO - llamafactory.model.loader - trainable params: 20,971,520 || all params: 8,051,232,768 || trainable%: 0.2605\n",
      "11/14/2024 14:38:34 - WARNING - llamafactory.train.callbacks - Previous trainer log in this folder will be deleted.\n"
     ]
    },
    {
     "name": "stderr",
     "output_type": "stream",
     "text": [
      "/Utilisateurs/umushtaq/.conda/envs/er_nb_env/lib/python3.11/site-packages/accelerate/accelerator.py:494: FutureWarning: `torch.cuda.amp.GradScaler(args...)` is deprecated. Please use `torch.amp.GradScaler('cuda', args...)` instead.\n",
      "  self.scaler = torch.cuda.amp.GradScaler(**kwargs)\n",
      "/Utilisateurs/umushtaq/.conda/envs/er_nb_env/lib/python3.11/site-packages/accelerate/accelerator.py:494: FutureWarning: `torch.cuda.amp.GradScaler(args...)` is deprecated. Please use `torch.amp.GradScaler('cuda', args...)` instead.\n",
      "  self.scaler = torch.cuda.amp.GradScaler(**kwargs)\n",
      "[INFO|trainer.py:667] 2024-11-14 14:38:34,870 >> Using auto half precision backend\n"
     ]
    },
    {
     "name": "stdout",
     "output_type": "stream",
     "text": [
      "11/14/2024 14:38:35 - INFO - llamafactory.train.trainer_utils - Using LoRA+ optimizer with loraplus lr ratio 16.00.\n",
      "11/14/2024 14:38:35 - INFO - llamafactory.train.trainer_utils - Using LoRA+ optimizer with loraplus lr ratio 16.00.\n"
     ]
    },
    {
     "name": "stderr",
     "output_type": "stream",
     "text": [
      "[INFO|trainer.py:2243] 2024-11-14 14:38:35,946 >> ***** Running training *****\n",
      "[INFO|trainer.py:2244] 2024-11-14 14:38:35,947 >>   Num examples = 646\n",
      "[INFO|trainer.py:2245] 2024-11-14 14:38:35,947 >>   Num Epochs = 8\n",
      "[INFO|trainer.py:2246] 2024-11-14 14:38:35,947 >>   Instantaneous batch size per device = 8\n",
      "[INFO|trainer.py:2249] 2024-11-14 14:38:35,947 >>   Total train batch size (w. parallel, distributed & accumulation) = 64\n",
      "[INFO|trainer.py:2250] 2024-11-14 14:38:35,947 >>   Gradient Accumulation steps = 4\n",
      "[INFO|trainer.py:2251] 2024-11-14 14:38:35,947 >>   Total optimization steps = 80\n",
      "[INFO|trainer.py:2252] 2024-11-14 14:38:35,952 >>   Number of trainable parameters = 20,971,520\n",
      "  0%|          | 0/80 [00:00<?, ?it/s]/Utilisateurs/umushtaq/.conda/envs/er_nb_env/lib/python3.11/site-packages/torch/utils/checkpoint.py:295: FutureWarning: `torch.cpu.amp.autocast(args...)` is deprecated. Please use `torch.amp.autocast('cpu', args...)` instead.\n",
      "  with torch.enable_grad(), device_autocast_ctx, torch.cpu.amp.autocast(**ctx.cpu_autocast_kwargs):  # type: ignore[attr-defined]\n",
      "/Utilisateurs/umushtaq/.conda/envs/er_nb_env/lib/python3.11/site-packages/torch/utils/checkpoint.py:295: FutureWarning: `torch.cpu.amp.autocast(args...)` is deprecated. Please use `torch.amp.autocast('cpu', args...)` instead.\n",
      "  with torch.enable_grad(), device_autocast_ctx, torch.cpu.amp.autocast(**ctx.cpu_autocast_kwargs):  # type: ignore[attr-defined]\n",
      " 12%|█▎        | 10/80 [01:00<06:53,  5.91s/it]"
     ]
    },
    {
     "name": "stdout",
     "output_type": "stream",
     "text": [
      "{'loss': 0.5342, 'grad_norm': 0.7408816814422607, 'learning_rate': 4.990486745229364e-05, 'epoch': 0.98}\n"
     ]
    },
    {
     "name": "stderr",
     "output_type": "stream",
     "text": [
      " 25%|██▌       | 20/80 [02:00<05:54,  5.91s/it]"
     ]
    },
    {
     "name": "stdout",
     "output_type": "stream",
     "text": [
      "{'loss': 0.3384, 'grad_norm': 0.5359830260276794, 'learning_rate': 4.665063509461097e-05, 'epoch': 1.95}\n"
     ]
    },
    {
     "name": "stderr",
     "output_type": "stream",
     "text": [
      " 38%|███▊      | 30/80 [03:00<04:58,  5.98s/it]"
     ]
    },
    {
     "name": "stdout",
     "output_type": "stream",
     "text": [
      "{'loss': 0.298, 'grad_norm': 0.39568793773651123, 'learning_rate': 3.933941090877615e-05, 'epoch': 2.93}\n"
     ]
    },
    {
     "name": "stderr",
     "output_type": "stream",
     "text": [
      " 50%|█████     | 40/80 [04:01<04:02,  6.06s/it]"
     ]
    },
    {
     "name": "stdout",
     "output_type": "stream",
     "text": [
      "{'loss': 0.2667, 'grad_norm': 0.2952386736869812, 'learning_rate': 2.9341204441673266e-05, 'epoch': 3.9}\n"
     ]
    },
    {
     "name": "stderr",
     "output_type": "stream",
     "text": [
      " 62%|██████▎   | 50/80 [05:02<03:00,  6.00s/it]"
     ]
    },
    {
     "name": "stdout",
     "output_type": "stream",
     "text": [
      "{'loss': 0.2393, 'grad_norm': 0.534878134727478, 'learning_rate': 1.852952387243698e-05, 'epoch': 4.88}\n"
     ]
    },
    {
     "name": "stderr",
     "output_type": "stream",
     "text": [
      " 75%|███████▌  | 60/80 [06:02<02:00,  6.03s/it]"
     ]
    },
    {
     "name": "stdout",
     "output_type": "stream",
     "text": [
      "{'loss': 0.2066, 'grad_norm': 0.549197256565094, 'learning_rate': 8.930309757836517e-06, 'epoch': 5.85}\n"
     ]
    },
    {
     "name": "stderr",
     "output_type": "stream",
     "text": [
      " 88%|████████▊ | 70/80 [07:02<00:59,  5.97s/it]"
     ]
    },
    {
     "name": "stdout",
     "output_type": "stream",
     "text": [
      "{'loss': 0.1893, 'grad_norm': 0.640960156917572, 'learning_rate': 2.3423053240837515e-06, 'epoch': 6.83}\n"
     ]
    },
    {
     "name": "stderr",
     "output_type": "stream",
     "text": [
      "100%|██████████| 80/80 [08:02<00:00,  5.96s/it][INFO|trainer.py:3705] 2024-11-14 14:46:39,031 >> Saving model checkpoint to /Utilisateurs/umushtaq/emotion_analysis_comics/finetuning/saved_models/comics35_pg_nb_xx_llama-3-8b-Instruct-bnb-4bit/checkpoint-80\n"
     ]
    },
    {
     "name": "stdout",
     "output_type": "stream",
     "text": [
      "{'loss': 0.1718, 'grad_norm': 0.3633788526058197, 'learning_rate': 0.0, 'epoch': 7.8}\n"
     ]
    },
    {
     "name": "stderr",
     "output_type": "stream",
     "text": [
      "[INFO|configuration_utils.py:672] 2024-11-14 14:46:39,375 >> loading configuration file config.json from cache at /Utilisateurs/umushtaq/.cache/huggingface/hub/models--unsloth--llama-3-8b-Instruct-bnb-4bit/snapshots/f296897830363557c84cc4a942c2cd1f91818ae4/config.json\n",
      "[INFO|configuration_utils.py:739] 2024-11-14 14:46:39,376 >> Model config LlamaConfig {\n",
      "  \"_name_or_path\": \"unsloth/llama-3-8b-Instruct\",\n",
      "  \"architectures\": [\n",
      "    \"LlamaForCausalLM\"\n",
      "  ],\n",
      "  \"attention_bias\": false,\n",
      "  \"attention_dropout\": 0.0,\n",
      "  \"bos_token_id\": 128000,\n",
      "  \"eos_token_id\": 128009,\n",
      "  \"head_dim\": 128,\n",
      "  \"hidden_act\": \"silu\",\n",
      "  \"hidden_size\": 4096,\n",
      "  \"initializer_range\": 0.02,\n",
      "  \"intermediate_size\": 14336,\n",
      "  \"max_position_embeddings\": 8192,\n",
      "  \"mlp_bias\": false,\n",
      "  \"model_type\": \"llama\",\n",
      "  \"num_attention_heads\": 32,\n",
      "  \"num_hidden_layers\": 32,\n",
      "  \"num_key_value_heads\": 8,\n",
      "  \"pad_token_id\": 128255,\n",
      "  \"pretraining_tp\": 1,\n",
      "  \"quantization_config\": {\n",
      "    \"_load_in_4bit\": true,\n",
      "    \"_load_in_8bit\": false,\n",
      "    \"bnb_4bit_compute_dtype\": \"bfloat16\",\n",
      "    \"bnb_4bit_quant_storage\": \"uint8\",\n",
      "    \"bnb_4bit_quant_type\": \"nf4\",\n",
      "    \"bnb_4bit_use_double_quant\": true,\n",
      "    \"llm_int8_enable_fp32_cpu_offload\": false,\n",
      "    \"llm_int8_has_fp16_weight\": false,\n",
      "    \"llm_int8_skip_modules\": null,\n",
      "    \"llm_int8_threshold\": 6.0,\n",
      "    \"load_in_4bit\": true,\n",
      "    \"load_in_8bit\": false,\n",
      "    \"quant_method\": \"bitsandbytes\"\n",
      "  },\n",
      "  \"rms_norm_eps\": 1e-05,\n",
      "  \"rope_scaling\": null,\n",
      "  \"rope_theta\": 500000.0,\n",
      "  \"tie_word_embeddings\": false,\n",
      "  \"torch_dtype\": \"bfloat16\",\n",
      "  \"transformers_version\": \"4.45.0\",\n",
      "  \"unsloth_version\": \"2024.9\",\n",
      "  \"use_cache\": true,\n",
      "  \"vocab_size\": 128256\n",
      "}\n",
      "\n",
      "[INFO|tokenization_utils_base.py:2649] 2024-11-14 14:46:40,323 >> tokenizer config file saved in /Utilisateurs/umushtaq/emotion_analysis_comics/finetuning/saved_models/comics35_pg_nb_xx_llama-3-8b-Instruct-bnb-4bit/checkpoint-80/tokenizer_config.json\n",
      "[INFO|tokenization_utils_base.py:2658] 2024-11-14 14:46:40,324 >> Special tokens file saved in /Utilisateurs/umushtaq/emotion_analysis_comics/finetuning/saved_models/comics35_pg_nb_xx_llama-3-8b-Instruct-bnb-4bit/checkpoint-80/special_tokens_map.json\n",
      "[INFO|trainer.py:2505] 2024-11-14 14:46:42,500 >> \n",
      "\n",
      "Training completed. Do not forget to share your model on huggingface.co/models =)\n",
      "\n",
      "\n",
      "100%|██████████| 80/80 [08:06<00:00,  6.08s/it]\n",
      "[INFO|trainer.py:3705] 2024-11-14 14:46:42,507 >> Saving model checkpoint to /Utilisateurs/umushtaq/emotion_analysis_comics/finetuning/saved_models/comics35_pg_nb_xx_llama-3-8b-Instruct-bnb-4bit\n"
     ]
    },
    {
     "name": "stdout",
     "output_type": "stream",
     "text": [
      "{'train_runtime': 486.5476, 'train_samples_per_second': 10.622, 'train_steps_per_second': 0.164, 'train_loss': 0.28053746521472933, 'epoch': 7.8}\n"
     ]
    },
    {
     "name": "stderr",
     "output_type": "stream",
     "text": [
      "[INFO|configuration_utils.py:672] 2024-11-14 14:46:42,797 >> loading configuration file config.json from cache at /Utilisateurs/umushtaq/.cache/huggingface/hub/models--unsloth--llama-3-8b-Instruct-bnb-4bit/snapshots/f296897830363557c84cc4a942c2cd1f91818ae4/config.json\n",
      "[INFO|configuration_utils.py:739] 2024-11-14 14:46:42,798 >> Model config LlamaConfig {\n",
      "  \"_name_or_path\": \"unsloth/llama-3-8b-Instruct\",\n",
      "  \"architectures\": [\n",
      "    \"LlamaForCausalLM\"\n",
      "  ],\n",
      "  \"attention_bias\": false,\n",
      "  \"attention_dropout\": 0.0,\n",
      "  \"bos_token_id\": 128000,\n",
      "  \"eos_token_id\": 128009,\n",
      "  \"head_dim\": 128,\n",
      "  \"hidden_act\": \"silu\",\n",
      "  \"hidden_size\": 4096,\n",
      "  \"initializer_range\": 0.02,\n",
      "  \"intermediate_size\": 14336,\n",
      "  \"max_position_embeddings\": 8192,\n",
      "  \"mlp_bias\": false,\n",
      "  \"model_type\": \"llama\",\n",
      "  \"num_attention_heads\": 32,\n",
      "  \"num_hidden_layers\": 32,\n",
      "  \"num_key_value_heads\": 8,\n",
      "  \"pad_token_id\": 128255,\n",
      "  \"pretraining_tp\": 1,\n",
      "  \"quantization_config\": {\n",
      "    \"_load_in_4bit\": true,\n",
      "    \"_load_in_8bit\": false,\n",
      "    \"bnb_4bit_compute_dtype\": \"bfloat16\",\n",
      "    \"bnb_4bit_quant_storage\": \"uint8\",\n",
      "    \"bnb_4bit_quant_type\": \"nf4\",\n",
      "    \"bnb_4bit_use_double_quant\": true,\n",
      "    \"llm_int8_enable_fp32_cpu_offload\": false,\n",
      "    \"llm_int8_has_fp16_weight\": false,\n",
      "    \"llm_int8_skip_modules\": null,\n",
      "    \"llm_int8_threshold\": 6.0,\n",
      "    \"load_in_4bit\": true,\n",
      "    \"load_in_8bit\": false,\n",
      "    \"quant_method\": \"bitsandbytes\"\n",
      "  },\n",
      "  \"rms_norm_eps\": 1e-05,\n",
      "  \"rope_scaling\": null,\n",
      "  \"rope_theta\": 500000.0,\n",
      "  \"tie_word_embeddings\": false,\n",
      "  \"torch_dtype\": \"bfloat16\",\n",
      "  \"transformers_version\": \"4.45.0\",\n",
      "  \"unsloth_version\": \"2024.9\",\n",
      "  \"use_cache\": true,\n",
      "  \"vocab_size\": 128256\n",
      "}\n",
      "\n",
      "[INFO|tokenization_utils_base.py:2649] 2024-11-14 14:46:43,706 >> tokenizer config file saved in /Utilisateurs/umushtaq/emotion_analysis_comics/finetuning/saved_models/comics35_pg_nb_xx_llama-3-8b-Instruct-bnb-4bit/tokenizer_config.json\n",
      "[INFO|tokenization_utils_base.py:2658] 2024-11-14 14:46:43,706 >> Special tokens file saved in /Utilisateurs/umushtaq/emotion_analysis_comics/finetuning/saved_models/comics35_pg_nb_xx_llama-3-8b-Instruct-bnb-4bit/special_tokens_map.json\n"
     ]
    },
    {
     "name": "stdout",
     "output_type": "stream",
     "text": [
      "***** train metrics *****\n",
      "  epoch                    =      7.8049\n",
      "  total_flos               = 157058056GF\n",
      "  train_loss               =      0.2805\n",
      "  train_runtime            =  0:08:06.54\n",
      "  train_samples_per_second =      10.622\n",
      "  train_steps_per_second   =       0.164\n"
     ]
    },
    {
     "name": "stderr",
     "output_type": "stream",
     "text": [
      "[INFO|modelcard.py:449] 2024-11-14 14:46:44,005 >> Dropping the following result as it does not have all the necessary fields:\n",
      "{'task': {'name': 'Causal Language Modeling', 'type': 'text-generation'}}\n"
     ]
    },
    {
     "data": {
      "text/plain": [
       "0"
      ]
     },
     "execution_count": 14,
     "metadata": {},
     "output_type": "execute_result"
    }
   ],
   "source": [
    "p.wait()"
   ]
  },
  {
   "cell_type": "code",
   "execution_count": 15,
   "metadata": {},
   "outputs": [],
   "source": [
    "args = dict(\n",
    "  model_name_or_path=BASE_MODEL, # use bnb-4bit-quantized Llama-3-8B-Instruct model\n",
    "  adapter_name_or_path=str(OUTPUT_DIR),            # load the saved LoRA adapters\n",
    "  template=\"llama3\",                     # same to the one in training\n",
    "  finetuning_type=\"lora\",                  # same to the one in training\n",
    "  quantization_bit=4,                    # load 4-bit quantized model\n",
    ")"
   ]
  },
  {
   "cell_type": "code",
   "execution_count": 16,
   "metadata": {},
   "outputs": [
    {
     "name": "stderr",
     "output_type": "stream",
     "text": [
      "[INFO|configuration_utils.py:672] 2024-11-14 14:46:46,508 >> loading configuration file config.json from cache at /Utilisateurs/umushtaq/.cache/huggingface/hub/models--unsloth--llama-3-8b-Instruct-bnb-4bit/snapshots/f296897830363557c84cc4a942c2cd1f91818ae4/config.json\n",
      "[INFO|configuration_utils.py:739] 2024-11-14 14:46:46,510 >> Model config LlamaConfig {\n",
      "  \"_name_or_path\": \"unsloth/llama-3-8b-Instruct-bnb-4bit\",\n",
      "  \"architectures\": [\n",
      "    \"LlamaForCausalLM\"\n",
      "  ],\n",
      "  \"attention_bias\": false,\n",
      "  \"attention_dropout\": 0.0,\n",
      "  \"bos_token_id\": 128000,\n",
      "  \"eos_token_id\": 128009,\n",
      "  \"head_dim\": 128,\n",
      "  \"hidden_act\": \"silu\",\n",
      "  \"hidden_size\": 4096,\n",
      "  \"initializer_range\": 0.02,\n",
      "  \"intermediate_size\": 14336,\n",
      "  \"max_position_embeddings\": 8192,\n",
      "  \"mlp_bias\": false,\n",
      "  \"model_type\": \"llama\",\n",
      "  \"num_attention_heads\": 32,\n",
      "  \"num_hidden_layers\": 32,\n",
      "  \"num_key_value_heads\": 8,\n",
      "  \"pad_token_id\": 128255,\n",
      "  \"pretraining_tp\": 1,\n",
      "  \"quantization_config\": {\n",
      "    \"_load_in_4bit\": true,\n",
      "    \"_load_in_8bit\": false,\n",
      "    \"bnb_4bit_compute_dtype\": \"bfloat16\",\n",
      "    \"bnb_4bit_quant_storage\": \"uint8\",\n",
      "    \"bnb_4bit_quant_type\": \"nf4\",\n",
      "    \"bnb_4bit_use_double_quant\": true,\n",
      "    \"llm_int8_enable_fp32_cpu_offload\": false,\n",
      "    \"llm_int8_has_fp16_weight\": false,\n",
      "    \"llm_int8_skip_modules\": null,\n",
      "    \"llm_int8_threshold\": 6.0,\n",
      "    \"load_in_4bit\": true,\n",
      "    \"load_in_8bit\": false,\n",
      "    \"quant_method\": \"bitsandbytes\"\n",
      "  },\n",
      "  \"rms_norm_eps\": 1e-05,\n",
      "  \"rope_scaling\": null,\n",
      "  \"rope_theta\": 500000.0,\n",
      "  \"tie_word_embeddings\": false,\n",
      "  \"torch_dtype\": \"bfloat16\",\n",
      "  \"transformers_version\": \"4.45.0\",\n",
      "  \"unsloth_version\": \"2024.9\",\n",
      "  \"use_cache\": true,\n",
      "  \"vocab_size\": 128256\n",
      "}\n",
      "\n",
      "[INFO|tokenization_utils_base.py:2214] 2024-11-14 14:46:46,631 >> loading file tokenizer.json from cache at /Utilisateurs/umushtaq/.cache/huggingface/hub/models--unsloth--llama-3-8b-Instruct-bnb-4bit/snapshots/f296897830363557c84cc4a942c2cd1f91818ae4/tokenizer.json\n",
      "[INFO|tokenization_utils_base.py:2214] 2024-11-14 14:46:46,631 >> loading file tokenizer.model from cache at None\n",
      "[INFO|tokenization_utils_base.py:2214] 2024-11-14 14:46:46,632 >> loading file added_tokens.json from cache at None\n",
      "[INFO|tokenization_utils_base.py:2214] 2024-11-14 14:46:46,633 >> loading file special_tokens_map.json from cache at /Utilisateurs/umushtaq/.cache/huggingface/hub/models--unsloth--llama-3-8b-Instruct-bnb-4bit/snapshots/f296897830363557c84cc4a942c2cd1f91818ae4/special_tokens_map.json\n",
      "[INFO|tokenization_utils_base.py:2214] 2024-11-14 14:46:46,634 >> loading file tokenizer_config.json from cache at /Utilisateurs/umushtaq/.cache/huggingface/hub/models--unsloth--llama-3-8b-Instruct-bnb-4bit/snapshots/f296897830363557c84cc4a942c2cd1f91818ae4/tokenizer_config.json\n",
      "[INFO|tokenization_utils_base.py:2478] 2024-11-14 14:46:47,064 >> Special tokens have been added in the vocabulary, make sure the associated word embeddings are fine-tuned or trained.\n",
      "[INFO|configuration_utils.py:672] 2024-11-14 14:46:47,542 >> loading configuration file config.json from cache at /Utilisateurs/umushtaq/.cache/huggingface/hub/models--unsloth--llama-3-8b-Instruct-bnb-4bit/snapshots/f296897830363557c84cc4a942c2cd1f91818ae4/config.json\n",
      "[INFO|configuration_utils.py:739] 2024-11-14 14:46:47,544 >> Model config LlamaConfig {\n",
      "  \"_name_or_path\": \"unsloth/llama-3-8b-Instruct-bnb-4bit\",\n",
      "  \"architectures\": [\n",
      "    \"LlamaForCausalLM\"\n",
      "  ],\n",
      "  \"attention_bias\": false,\n",
      "  \"attention_dropout\": 0.0,\n",
      "  \"bos_token_id\": 128000,\n",
      "  \"eos_token_id\": 128009,\n",
      "  \"head_dim\": 128,\n",
      "  \"hidden_act\": \"silu\",\n",
      "  \"hidden_size\": 4096,\n",
      "  \"initializer_range\": 0.02,\n",
      "  \"intermediate_size\": 14336,\n",
      "  \"max_position_embeddings\": 8192,\n",
      "  \"mlp_bias\": false,\n",
      "  \"model_type\": \"llama\",\n",
      "  \"num_attention_heads\": 32,\n",
      "  \"num_hidden_layers\": 32,\n",
      "  \"num_key_value_heads\": 8,\n",
      "  \"pad_token_id\": 128255,\n",
      "  \"pretraining_tp\": 1,\n",
      "  \"quantization_config\": {\n",
      "    \"_load_in_4bit\": true,\n",
      "    \"_load_in_8bit\": false,\n",
      "    \"bnb_4bit_compute_dtype\": \"bfloat16\",\n",
      "    \"bnb_4bit_quant_storage\": \"uint8\",\n",
      "    \"bnb_4bit_quant_type\": \"nf4\",\n",
      "    \"bnb_4bit_use_double_quant\": true,\n",
      "    \"llm_int8_enable_fp32_cpu_offload\": false,\n",
      "    \"llm_int8_has_fp16_weight\": false,\n",
      "    \"llm_int8_skip_modules\": null,\n",
      "    \"llm_int8_threshold\": 6.0,\n",
      "    \"load_in_4bit\": true,\n",
      "    \"load_in_8bit\": false,\n",
      "    \"quant_method\": \"bitsandbytes\"\n",
      "  },\n",
      "  \"rms_norm_eps\": 1e-05,\n",
      "  \"rope_scaling\": null,\n",
      "  \"rope_theta\": 500000.0,\n",
      "  \"tie_word_embeddings\": false,\n",
      "  \"torch_dtype\": \"bfloat16\",\n",
      "  \"transformers_version\": \"4.45.0\",\n",
      "  \"unsloth_version\": \"2024.9\",\n",
      "  \"use_cache\": true,\n",
      "  \"vocab_size\": 128256\n",
      "}\n",
      "\n",
      "[INFO|tokenization_utils_base.py:2214] 2024-11-14 14:46:47,668 >> loading file tokenizer.json from cache at /Utilisateurs/umushtaq/.cache/huggingface/hub/models--unsloth--llama-3-8b-Instruct-bnb-4bit/snapshots/f296897830363557c84cc4a942c2cd1f91818ae4/tokenizer.json\n",
      "[INFO|tokenization_utils_base.py:2214] 2024-11-14 14:46:47,669 >> loading file tokenizer.model from cache at None\n",
      "[INFO|tokenization_utils_base.py:2214] 2024-11-14 14:46:47,670 >> loading file added_tokens.json from cache at None\n",
      "[INFO|tokenization_utils_base.py:2214] 2024-11-14 14:46:47,672 >> loading file special_tokens_map.json from cache at /Utilisateurs/umushtaq/.cache/huggingface/hub/models--unsloth--llama-3-8b-Instruct-bnb-4bit/snapshots/f296897830363557c84cc4a942c2cd1f91818ae4/special_tokens_map.json\n",
      "[INFO|tokenization_utils_base.py:2214] 2024-11-14 14:46:47,673 >> loading file tokenizer_config.json from cache at /Utilisateurs/umushtaq/.cache/huggingface/hub/models--unsloth--llama-3-8b-Instruct-bnb-4bit/snapshots/f296897830363557c84cc4a942c2cd1f91818ae4/tokenizer_config.json\n",
      "[INFO|tokenization_utils_base.py:2478] 2024-11-14 14:46:48,077 >> Special tokens have been added in the vocabulary, make sure the associated word embeddings are fine-tuned or trained.\n"
     ]
    },
    {
     "name": "stdout",
     "output_type": "stream",
     "text": [
      "11/14/2024 14:46:48 - INFO - llamafactory.data.template - Replace eos token: <|eot_id|>\n"
     ]
    },
    {
     "name": "stderr",
     "output_type": "stream",
     "text": [
      "[INFO|configuration_utils.py:672] 2024-11-14 14:46:48,217 >> loading configuration file config.json from cache at /Utilisateurs/umushtaq/.cache/huggingface/hub/models--unsloth--llama-3-8b-Instruct-bnb-4bit/snapshots/f296897830363557c84cc4a942c2cd1f91818ae4/config.json\n",
      "[INFO|configuration_utils.py:739] 2024-11-14 14:46:48,218 >> Model config LlamaConfig {\n",
      "  \"_name_or_path\": \"unsloth/llama-3-8b-Instruct-bnb-4bit\",\n",
      "  \"architectures\": [\n",
      "    \"LlamaForCausalLM\"\n",
      "  ],\n",
      "  \"attention_bias\": false,\n",
      "  \"attention_dropout\": 0.0,\n",
      "  \"bos_token_id\": 128000,\n",
      "  \"eos_token_id\": 128009,\n",
      "  \"head_dim\": 128,\n",
      "  \"hidden_act\": \"silu\",\n",
      "  \"hidden_size\": 4096,\n",
      "  \"initializer_range\": 0.02,\n",
      "  \"intermediate_size\": 14336,\n",
      "  \"max_position_embeddings\": 8192,\n",
      "  \"mlp_bias\": false,\n",
      "  \"model_type\": \"llama\",\n",
      "  \"num_attention_heads\": 32,\n",
      "  \"num_hidden_layers\": 32,\n",
      "  \"num_key_value_heads\": 8,\n",
      "  \"pad_token_id\": 128255,\n",
      "  \"pretraining_tp\": 1,\n",
      "  \"quantization_config\": {\n",
      "    \"_load_in_4bit\": true,\n",
      "    \"_load_in_8bit\": false,\n",
      "    \"bnb_4bit_compute_dtype\": \"bfloat16\",\n",
      "    \"bnb_4bit_quant_storage\": \"uint8\",\n",
      "    \"bnb_4bit_quant_type\": \"nf4\",\n",
      "    \"bnb_4bit_use_double_quant\": true,\n",
      "    \"llm_int8_enable_fp32_cpu_offload\": false,\n",
      "    \"llm_int8_has_fp16_weight\": false,\n",
      "    \"llm_int8_skip_modules\": null,\n",
      "    \"llm_int8_threshold\": 6.0,\n",
      "    \"load_in_4bit\": true,\n",
      "    \"load_in_8bit\": false,\n",
      "    \"quant_method\": \"bitsandbytes\"\n",
      "  },\n",
      "  \"rms_norm_eps\": 1e-05,\n",
      "  \"rope_scaling\": null,\n",
      "  \"rope_theta\": 500000.0,\n",
      "  \"tie_word_embeddings\": false,\n",
      "  \"torch_dtype\": \"bfloat16\",\n",
      "  \"transformers_version\": \"4.45.0\",\n",
      "  \"unsloth_version\": \"2024.9\",\n",
      "  \"use_cache\": true,\n",
      "  \"vocab_size\": 128256\n",
      "}\n",
      "\n"
     ]
    },
    {
     "name": "stdout",
     "output_type": "stream",
     "text": [
      "11/14/2024 14:46:48 - WARNING - llamafactory.model.model_utils.quantization - `quantization_bit` will not affect on the PTQ-quantized models.\n",
      "11/14/2024 14:46:48 - INFO - llamafactory.model.model_utils.quantization - Loading ?-bit BITSANDBYTES-quantized model.\n",
      "11/14/2024 14:46:48 - INFO - llamafactory.model.patcher - Using KV cache for faster generation.\n"
     ]
    },
    {
     "name": "stderr",
     "output_type": "stream",
     "text": [
      "[WARNING|quantization_config.py:400] 2024-11-14 14:46:48,363 >> Unused kwargs: ['_load_in_4bit', '_load_in_8bit', 'quant_method']. These kwargs are not used in <class 'transformers.utils.quantization_config.BitsAndBytesConfig'>.\n",
      "[INFO|modeling_utils.py:3726] 2024-11-14 14:46:48,696 >> loading weights file model.safetensors from cache at /Utilisateurs/umushtaq/.cache/huggingface/hub/models--unsloth--llama-3-8b-Instruct-bnb-4bit/snapshots/f296897830363557c84cc4a942c2cd1f91818ae4/model.safetensors\n",
      "[INFO|modeling_utils.py:1622] 2024-11-14 14:46:48,740 >> Instantiating LlamaForCausalLM model under default dtype torch.bfloat16.\n",
      "[INFO|configuration_utils.py:1099] 2024-11-14 14:46:48,746 >> Generate config GenerationConfig {\n",
      "  \"bos_token_id\": 128000,\n",
      "  \"eos_token_id\": 128009,\n",
      "  \"pad_token_id\": 128255\n",
      "}\n",
      "\n",
      "[INFO|quantizer_bnb_4bit.py:122] 2024-11-14 14:46:48,914 >> target_dtype {target_dtype} is replaced by `CustomDtype.INT4` for 4-bit BnB quantization\n",
      "[INFO|modeling_utils.py:4568] 2024-11-14 14:46:51,043 >> All model checkpoint weights were used when initializing LlamaForCausalLM.\n",
      "\n",
      "[INFO|modeling_utils.py:4576] 2024-11-14 14:46:51,044 >> All the weights of LlamaForCausalLM were initialized from the model checkpoint at unsloth/llama-3-8b-Instruct-bnb-4bit.\n",
      "If your task is similar to the task the model of the checkpoint was trained on, you can already use LlamaForCausalLM for predictions without further training.\n",
      "[INFO|configuration_utils.py:1054] 2024-11-14 14:46:51,170 >> loading configuration file generation_config.json from cache at /Utilisateurs/umushtaq/.cache/huggingface/hub/models--unsloth--llama-3-8b-Instruct-bnb-4bit/snapshots/f296897830363557c84cc4a942c2cd1f91818ae4/generation_config.json\n",
      "[INFO|configuration_utils.py:1099] 2024-11-14 14:46:51,171 >> Generate config GenerationConfig {\n",
      "  \"bos_token_id\": 128000,\n",
      "  \"do_sample\": true,\n",
      "  \"eos_token_id\": [\n",
      "    128001,\n",
      "    128009\n",
      "  ],\n",
      "  \"max_length\": 8192,\n",
      "  \"pad_token_id\": 128255,\n",
      "  \"temperature\": 0.6,\n",
      "  \"top_p\": 0.9\n",
      "}\n",
      "\n"
     ]
    },
    {
     "name": "stdout",
     "output_type": "stream",
     "text": [
      "11/14/2024 14:46:51 - INFO - llamafactory.model.model_utils.attention - Using torch SDPA for faster training and inference.\n",
      "11/14/2024 14:46:54 - INFO - llamafactory.model.adapter - Loaded adapter(s): /Utilisateurs/umushtaq/emotion_analysis_comics/finetuning/saved_models/comics35_pg_nb_xx_llama-3-8b-Instruct-bnb-4bit\n",
      "11/14/2024 14:46:54 - INFO - llamafactory.model.loader - all params: 8,051,232,768\n"
     ]
    }
   ],
   "source": [
    "model = ChatModel(args)"
   ]
  },
  {
   "cell_type": "code",
   "execution_count": 17,
   "metadata": {},
   "outputs": [
    {
     "data": {
      "text/plain": [
       "<llamafactory.chat.hf_engine.HuggingfaceEngine at 0x7f75ddcb9f50>"
      ]
     },
     "execution_count": 17,
     "metadata": {},
     "output_type": "execute_result"
    }
   ],
   "source": [
    "model.engine"
   ]
  },
  {
   "cell_type": "code",
   "execution_count": 18,
   "metadata": {},
   "outputs": [
    {
     "data": {
      "text/plain": [
       "'huggingface'"
      ]
     },
     "execution_count": 18,
     "metadata": {},
     "output_type": "execute_result"
    }
   ],
   "source": [
    "model.engine_type"
   ]
  },
  {
   "cell_type": "code",
   "execution_count": 19,
   "metadata": {},
   "outputs": [],
   "source": [
    "with open(test_dataset_file, \"r+\") as fh:\n",
    "    test_dataset = json.load(fh)\n",
    "\n",
    "test_prompts = []\n",
    "test_grounds = []\n",
    "\n",
    "for sample in test_dataset:\n",
    "    test_prompts.append(sample[\"instruction\"] + sample[\"input\"])\n",
    "    #test_prompts.append(sample[\"input\"])\n",
    "    test_grounds.append(sample[\"output\"])"
   ]
  },
  {
   "cell_type": "code",
   "execution_count": 20,
   "metadata": {},
   "outputs": [],
   "source": [
    "test_predictions = []"
   ]
  },
  {
   "cell_type": "code",
   "execution_count": null,
   "metadata": {},
   "outputs": [],
   "source": []
  },
  {
   "cell_type": "code",
   "execution_count": 21,
   "metadata": {},
   "outputs": [
    {
     "name": "stderr",
     "output_type": "stream",
     "text": [
      "Running inferences ...: 100%|██████████| 156/156 [09:47<00:00,  3.77s/it]\n"
     ]
    },
    {
     "name": "stderr",
     "output_type": "stream",
     "text": [
      "[WARNING|logging.py:328] 2024-11-14 14:46:56,347 >> Starting from v4.46, the `logits` model output will have the same type as the model (except at train time, where it will always be FP32)\n"
     ]
    }
   ],
   "source": [
    "messages = []\n",
    "\n",
    "for prompt in tqdm(test_prompts, desc=\"Running inferences ...\"):\n",
    "    #print(type(prompt))\n",
    "    #messages.append({\"role\": \"user\", \"content\": prompt})\n",
    "    message = [{\"role\": \"user\", \"content\": prompt}]\n",
    "    test_predictions.append(model.chat(message))\n",
    "    #test_predictions.append(model.chat(prompt))"
   ]
  },
  {
   "cell_type": "code",
   "execution_count": 22,
   "metadata": {},
   "outputs": [],
   "source": [
    "# batch_size = 1  # Adjust batch size according to memory and model limitations\n",
    "\n",
    "# # Initialize list to hold predictions\n",
    "# test_predictions = []\n",
    "\n",
    "# # Iterate over test_prompts in batches\n",
    "# for i in tqdm(range(0, len(test_prompts), batch_size), desc=\"Running inferences ...\"):\n",
    "#     # Create a batch of messages\n",
    "#     batch_prompts = test_prompts[i:i + batch_size]\n",
    "    \n",
    "#     # Prepare the messages for the batch\n",
    "#     batch_messages = [[{\"role\": \"user\", \"content\": prompt}] for prompt in batch_prompts]\n",
    "    \n",
    "#     # Perform inference on the batch and store predictions\n",
    "#     for message in batch_messages:\n",
    "#         prediction = model.chat(message)\n",
    "#         test_predictions.append(prediction)  # Collect batch predictions"
   ]
  },
  {
   "cell_type": "code",
   "execution_count": 23,
   "metadata": {},
   "outputs": [
    {
     "data": {
      "text/plain": [
       "156"
      ]
     },
     "execution_count": 23,
     "metadata": {},
     "output_type": "execute_result"
    }
   ],
   "source": [
    "len(test_predictions)"
   ]
  },
  {
   "cell_type": "code",
   "execution_count": 24,
   "metadata": {},
   "outputs": [
    {
     "data": {
      "text/plain": [
       "[[Response(response_text='{\"page_utterance_emotions\": [[\"joy\"], [\"surprise\"], [\"joy\"], [\"joy\"], [\"joy\"], [\"joy\"], [\"surprise\"], [\"joy\"], [\"joy\"], [\"neutral\"], [\"neutral\"]]}', response_length=45, prompt_length=461, finish_reason='stop')],\n",
       " [Response(response_text='{\"page_utterance_emotions\": [[\"joy\"], [\"joy\"], [\"anger\"], [\"anger\"], [\"joy\"], [\"joy\"], [\"joy\"]]}', response_length=31, prompt_length=605, finish_reason='stop')],\n",
       " [Response(response_text='{\"page_utterance_emotions\": [[\"anger\", \"sadness\"], [\"anger\", \"sadness\"], [\"anger\"], [\"anger\", \"surprise\"], [\"anger\", \"surprise\"], [\"anger\", \"sadness\"], [\"anger\", \"surprise\"], [\"anger\", \"sadness\"], [\"anger\", \"sadness\"], [\"joy\"], [\"anger\", \"sadness\"], [\"anger\", \"sadness\"], [\"anger\", \"sadness\"], [\"anger\", \"sadness\"], [\"anger\", \"sadness\"], [\"anger\", \"surprise\"]]}', response_length=114, prompt_length=700, finish_reason='stop')],\n",
       " [Response(response_text='{\"page_utterance_emotions\": [[\"anger\", \"disgust\"], [\"disgust\"], [\"anger\"], [\"sadness\"], [\"sadness\"], [\"anger\"], [\"anger\"], [\"anger\"], [\"surprise\"], [\"anger\"], [\"joy\"], [\"anger\"], [\"joy\"], [\"anger\"], [\"anger\"], [\"joy\"], [\"joy\"], [\"joy\"], [\"joy\"], [\"anger\", \"surprise\"], [\"anger\", \"surprise\"]]}', response_length=91, prompt_length=789, finish_reason='stop')],\n",
       " [Response(response_text='{\"page_utterance_emotions\": [[\"neutral\"], [\"joy\"], [\"joy\"]]}', response_length=19, prompt_length=438, finish_reason='stop')],\n",
       " [Response(response_text='{\"page_utterance_emotions\": [[\"sadness\"], [\"fear\"], [\"sadness\"], [\"fear\", \"sadness\"], [\"joy\"], [\"sadness\"], [\"fear\", \"sadness\"], [\"sadness\"], [\"joy\"], [\"sadness\"], [\"fear\", \"sadness\"], [\"joy\"], [\"sadness\"], [\"joy\"], [\"joy\"], [\"sadness\"], [\"joy\"], [\"anger\", \"joy\"], [\"anger\", \"joy\"]]}', response_length=96, prompt_length=724, finish_reason='stop')],\n",
       " [Response(response_text='{\"page_utterance_emotions\": [[\"anger\"], [\"anger\"], [\"anger\"], [\"anger\"], [\"anger\"], [\"anger\"], [\"anger\"], [\"anger\"], [\"anger\"], [\"anger\"], [\"anger\"], [\"anger\"], [\"anger\"], [\"anger\"], [\"anger\"]]}', response_length=55, prompt_length=773, finish_reason='stop')],\n",
       " [Response(response_text='{\"page_utterance_emotions\": [[\"neutral\"], [\"fear\", \"sadness\"], [\"anger\"], [\"neutral\"], [\"sadness\"], [\"anger\", \"sadness\"], [\"neutral\"], [\"anger\", \"disgust\"], [\"anger\", \"disgust\"], [\"anger\"], [\"surprise\"], [\"fear\", \"sadness\"], [\"fear\", \"sadness\"], [\"anger\", \"disgust\"], [\"surprise\"], [\"sadness\"]]}', response_length=96, prompt_length=636, finish_reason='stop')],\n",
       " [Response(response_text='{\"page_utterance_emotions\": [[\"surprise\", \"joy\"], [\"surprise\", \"joy\"], [\"joy\"], [\"neutral\"], [\"surprise\", \"joy\"], [\"surprise\"], [\"sadness\"], [\"sadness\"], [\"anger\", \"surprise\"], [\"sadness\"], [\"joy\"], [\"surprise\"]]}', response_length=67, prompt_length=545, finish_reason='stop')],\n",
       " [Response(response_text='{\"page_utterance_emotions\": [[\"joy\"], [\"surprise\"], [\"joy\"], [\"joy\"], [\"joy\"], [\"joy\"], [\"anger\"], [\"anger\"], [\"anger\", \"sadness\"], [\"anger\", \"sadness\"], [\"joy\"]]}', response_length=52, prompt_length=528, finish_reason='stop')],\n",
       " [Response(response_text='{\"page_utterance_emotions\": [[\"neutral\"], [\"neutral\"], [\"neutral\"], [\"neutral\"], [\"neutral\"], [\"neutral\"], [\"neutral\"], [\"sadness\"], [\"sadness\"], [\"anger\"], [\"anger\"], [\"sadness\"], [\"sadness\"], [\"sadness\"]]}', response_length=57, prompt_length=622, finish_reason='stop')],\n",
       " [Response(response_text='{\"page_utterance_emotions\": [[\"joy\"], [\"joy\"], [\"joy\"], [\"joy\"]]}', response_length=22, prompt_length=469, finish_reason='stop')],\n",
       " [Response(response_text='{\"page_utterance_emotions\": [[\"neutral\"], [\"joy\"], [\"sadness\"], [\"joy\"], [\"sadness\"], [\"surprise\", \"joy\"], [\"surprise\"], [\"neutral\"], [\"surprise\", \"joy\"], [\"joy\"], [\"disgust\", \"joy\"], [\"joy\"], [\"joy\"]]}', response_length=65, prompt_length=556, finish_reason='stop')],\n",
       " [Response(response_text='{\"page_utterance_emotions\": [[\"anger\", \"surprise\"], [\"joy\"], [\"joy\"], [\"anger\", \"sadness\"], [\"joy\"], [\"anger\", \"disgust\", \"surprise\"], [\"anger\", \"disgust\", \"surprise\"], [\"surprise\", \"joy\"], [\"surprise\", \"joy\"]]}', response_length=71, prompt_length=504, finish_reason='stop')],\n",
       " [Response(response_text='{\"page_utterance_emotions\": [[\"neutral\"], [\"neutral\"], [\"neutral\"], [\"neutral\"], [\"neutral\"], [\"neutral\"], [\"neutral\"], [\"neutral\"], [\"neutral\"], [\"neutral\"], [\"neutral\"], [\"neutral\"], [\"neutral\"], [\"neutral\"], [\"neutral\"], [\"neutral\"], [\"neutral\"], [\"neutral\"], [\"neutral\"], [\"neutral\"], [\"neutral\"], [\"neutral\"], [\"anger\", \"joy\"], [\"joy\"]]}', response_length=85, prompt_length=1069, finish_reason='stop')],\n",
       " [Response(response_text='{\"page_utterance_emotions\": [[\"surprise\"], [\"surprise\", \"joy\"], [\"joy\"], [\"joy\"], [\"joy\"], [\"surprise\", \"joy\"], [\"joy\"], [\"joy\"], [\"joy\"], [\"joy\"], [\"surprise\", \"joy\"], [\"surprise\", \"joy\"], [\"surprise\", \"joy\"], [\"joy\"], [\"joy\"], [\"surprise\", \"joy\"], [\"joy\"], [\"joy\"], [\"joy\"], [\"joy\"], [\"joy\"], [\"joy\"], [\"joy\"]]}', response_length=104, prompt_length=721, finish_reason='stop')],\n",
       " [Response(response_text='{\"page_utterance_emotions\": [[\"neutral\"], [\"neutral\"], [\"neutral\"], [\"neutral\"], [\"neutral\"], [\"neutral\"], [\"neutral\"], [\"neutral\"], [\"anger\"], [\"fear\"], [\"joy\"], [\"anger\", \"disgust\"], [\"anger\", \"disgust\"]]}', response_length=60, prompt_length=632, finish_reason='stop')],\n",
       " [Response(response_text='{\"page_utterance_emotions\": [[\"joy\"], [\"surprise\", \"joy\"], [\"joy\"], [\"anger\"], [\"anger\"], [\"sadness\"], [\"sadness\"], [\"surprise\"], [\"anger\"], [\"anger\"], [\"joy\"], [\"joy\"]]}', response_length=53, prompt_length=615, finish_reason='stop')],\n",
       " [Response(response_text='{\"page_utterance_emotions\": [[\"surprise\"], [\"joy\"], [\"joy\"], [\"joy\"], [\"surprise\"], [\"joy\"], [\"joy\"], [\"joy\"], [\"joy\"], [\"joy\"], [\"joy\"], [\"sadness\", \"surprise\"], [\"anger\", \"sadness\", \"surprise\"]]}', response_length=64, prompt_length=705, finish_reason='stop')],\n",
       " [Response(response_text='{\"page_utterance_emotions\": [[\"neutral\"], [\"fear\"], [\"neutral\"], [\"fear\", \"surprise\"], [\"fear\"], [\"fear\", \"surprise\"], [\"fear\", \"surprise\"], [\"joy\"], [\"anger\"], [\"anger\"], [\"surprise\"], [\"surprise\"], [\"fear\"], [\"surprise\"]]}', response_length=73, prompt_length=598, finish_reason='stop')],\n",
       " [Response(response_text='{\"page_utterance_emotions\": [[\"sadness\"], [\"joy\"], [\"joy\"], [\"anger\", \"surprise\"], [\"surprise\"], [\"surprise\"], [\"sadness\"], [\"anger\"], [\"joy\"], [\"anger\"]]}', response_length=48, prompt_length=514, finish_reason='stop')],\n",
       " [Response(response_text='{\"page_utterance_emotions\": [[\"neutral\"], [\"surprise\"], [\"surprise\"], [\"neutral\"], [\"neutral\"], [\"joy\"], [\"joy\"], [\"neutral\"], [\"neutral\"], [\"neutral\"], [\"neutral\"], [\"neutral\"]]}', response_length=48, prompt_length=619, finish_reason='stop')],\n",
       " [Response(response_text='{\"page_utterance_emotions\": [[\"neutral\"], [\"neutral\"], [\"joy\"], [\"joy\"], [\"joy\"], [\"joy\"], [\"joy\"], [\"joy\"], [\"joy\"], [\"surprise\"], [\"anger\", \"surprise\"]]}', response_length=48, prompt_length=535, finish_reason='stop')],\n",
       " [Response(response_text='{\"page_utterance_emotions\": [[\"fear\", \"surprise\"], [\"fear\", \"surprise\"], [\"fear\"], [\"fear\", \"surprise\"], [\"fear\", \"surprise\"], [\"surprise\"], [\"fear\"], [\"neutral\"], [\"neutral\"], [\"fear\", \"surprise\"]]}', response_length=68, prompt_length=508, finish_reason='stop')],\n",
       " [Response(response_text='{\"page_utterance_emotions\": [[\"fear\", \"surprise\"], [\"fear\", \"surprise\"], [\"fear\", \"surprise\"], [\"neutral\"], [\"neutral\"], [\"neutral\"], [\"joy\"], [\"fear\", \"surprise\"], [\"fear\", \"surprise\"], [\"surprise\"], [\"fear\", \"surprise\"], [\"anger\", \"surprise\"], [\"fear\"]]}', response_length=85, prompt_length=564, finish_reason='stop')],\n",
       " [Response(response_text='{\"page_utterance_emotions\": [[\"anger\", \"disgust\", \"surprise\"], [\"fear\", \"surprise\"], [\"fear\", \"sadness\", \"surprise\"], [\"fear\", \"sadness\"], [\"fear\", \"sadness\", \"surprise\"], [\"sadness\"], [\"fear\", \"sadness\"], [\"surprise\"], [\"fear\", \"surprise\"], [\"fear\", \"sadness\", \"surprise\"], [\"sadness\"], [\"sadness\"], [\"fear\"]]}', response_length=110, prompt_length=562, finish_reason='stop')],\n",
       " [Response(response_text='{\"page_utterance_emotions\": [[\"sadness\"], [\"sadness\"], [\"anger\"], [\"joy\"], [\"joy\"], [\"anger\", \"joy\"], [\"surprise\"], [\"joy\"], [\"joy\"], [\"joy\"], [\"sadness\"], [\"sadness\", \"joy\"], [\"surprise\", \"joy\"]]}', response_length=64, prompt_length=645, finish_reason='stop')],\n",
       " [Response(response_text='{\"page_utterance_emotions\": [[\"sadness\"], [\"joy\"], [\"joy\"], [\"fear\", \"surprise\"], [\"surprise\"], [\"fear\", \"surprise\"], [\"fear\", \"surprise\"], [\"fear\", \"sadness\"], [\"fear\"], [\"fear\", \"sadness\"], [\"sadness\"], [\"fear\", \"sadness\"], [\"fear\", \"sadness\"], [\"fear\", \"sadness\"], [\"joy\"], [\"fear\", \"sadness\"], [\"neutral\"]]}', response_length=110, prompt_length=819, finish_reason='stop')],\n",
       " [Response(response_text='{\"page_utterance_emotions\": [[\"anger\", \"fear\"], [\"anger\", \"fear\"], [\"anger\", \"surprise\"], [\"anger\"], [\"anger\"], [\"anger\", \"joy\"]]}', response_length=43, prompt_length=476, finish_reason='stop')],\n",
       " [Response(response_text='{\"page_utterance_emotions\": [[\"anger\", \"sadness\"], [\"anger\"], [\"anger\"], [\"anger\", \"disgust\"]]}', response_length=31, prompt_length=417, finish_reason='stop')],\n",
       " [Response(response_text='{\"page_utterance_emotions\": [[\"anger\"], [\"fear\", \"surprise\"], [\"anger\"], [\"anger\"], [\"anger\"], [\"anger\", \"sadness\"]]}', response_length=37, prompt_length=488, finish_reason='stop')],\n",
       " [Response(response_text='{\"page_utterance_emotions\": [[\"anger\", \"fear\"], [\"fear\", \"surprise\"], [\"anger\"], [\"fear\"], [\"anger\"], [\"surprise\"], [\"neutral\"]]}', response_length=42, prompt_length=441, finish_reason='stop')],\n",
       " [Response(response_text='{\"page_utterance_emotions\": [[\"fear\", \"surprise\"], [\"surprise\"], [\"surprise\", \"joy\"], [\"surprise\", \"joy\"], [\"joy\"], [\"joy\"], [\"surprise\"], [\"fear\"], [\"fear\"]]}', response_length=54, prompt_length=496, finish_reason='stop')],\n",
       " [Response(response_text='{\"page_utterance_emotions\": [[\"sadness\"], [\"anger\", \"sadness\"], [\"sadness\"], [\"sadness\"], [\"anger\", \"sadness\"], [\"anger\", \"sadness\", \"surprise\"], [\"anger\", \"disgust\", \"surprise\"], [\"anger\", \"fear\"], [\"disgust\", \"surprise\"], [\"anger\", \"disgust\"]]}', response_length=83, prompt_length=577, finish_reason='stop')],\n",
       " [Response(response_text='{\"page_utterance_emotions\": [[\"surprise\"], [\"surprise\"], [\"anger\", \"surprise\"], [\"anger\"], [\"anger\", \"sadness\"], [\"anger\"], [\"anger\"], [\"fear\"], [\"anger\", \"sadness\"], [\"fear\", \"sadness\"]]}', response_length=60, prompt_length=538, finish_reason='stop')],\n",
       " [Response(response_text='{\"page_utterance_emotions\": [[\"anger\", \"surprise\"], [\"joy\"], [\"anger\", \"surprise\"], [\"anger\", \"sadness\", \"surprise\"], [\"anger\", \"surprise\"], [\"surprise\"], [\"fear\", \"surprise\"], [\"fear\"], [\"joy\"]]}', response_length=64, prompt_length=537, finish_reason='stop')],\n",
       " [Response(response_text='{\"page_utterance_emotions\": [[\"joy\"], [\"joy\"], [\"joy\"], [\"surprise\"], [\"joy\"], [\"surprise\", \"joy\"], [\"surprise\"], [\"surprise\"], [\"fear\"], [\"surprise\", \"joy\"], [\"fear\"], [\"fear\"], [\"surprise\", \"joy\"], [\"surprise\"], [\"anger\", \"surprise\"], [\"fear\"], [\"anger\", \"fear\", \"surprise\"]]}', response_length=93, prompt_length=720, finish_reason='stop')],\n",
       " [Response(response_text='{\"page_utterance_emotions\": [[\"fear\", \"surprise\"], [\"surprise\"], [\"surprise\"], [\"fear\", \"surprise\"], [\"fear\"]]}', response_length=38, prompt_length=437, finish_reason='stop')],\n",
       " [Response(response_text='{\"page_utterance_emotions\": [[\"fear\", \"surprise\"]]}', response_length=18, prompt_length=383, finish_reason='stop')],\n",
       " [Response(response_text='{\"page_utterance_emotions\": [[\"anger\"], [\"anger\"]]}', response_length=16, prompt_length=383, finish_reason='stop')],\n",
       " [Response(response_text='{\"page_utterance_emotions\": [[\"anger\", \"surprise\"], [\"anger\", \"surprise\"], [\"anger\", \"surprise\"], [\"sadness\"], [\"fear\", \"sadness\"], [\"anger\"]]}', response_length=46, prompt_length=501, finish_reason='stop')],\n",
       " [Response(response_text='{\"page_utterance_emotions\": [[\"anger\", \"fear\", \"surprise\"], [\"fear\", \"sadness\"], [\"fear\", \"sadness\"], [\"neutral\"], [\"anger\"]]}', response_length=43, prompt_length=447, finish_reason='stop')],\n",
       " [Response(response_text='{\"page_utterance_emotions\": [[\"fear\", \"surprise\"], [\"fear\", \"surprise\"]]}', response_length=26, prompt_length=403, finish_reason='stop')],\n",
       " [Response(response_text='{\"page_utterance_emotions\": [[\"anger\", \"fear\"], [\"anger\", \"fear\"], [\"anger\", \"fear\"], [\"anger\", \"sadness\"], [\"anger\", \"surprise\"], [\"anger\"], [\"anger\", \"fear\"], [\"anger\", \"fear\"]]}', response_length=62, prompt_length=487, finish_reason='stop')],\n",
       " [Response(response_text='{\"page_utterance_emotions\": [[\"joy\"], [\"anger\"], [\"anger\", \"surprise\"], [\"anger\"], [\"surprise\"], [\"surprise\"], [\"surprise\", \"joy\"]]}', response_length=41, prompt_length=452, finish_reason='stop')],\n",
       " [Response(response_text='{\"page_utterance_emotions\": [[\"fear\"], [\"fear\", \"sadness\"], [\"fear\"], [\"fear\"], [\"fear\"], [\"fear\"], [\"fear\"], [\"sadness\"], [\"sadness\"], [\"sadness\", \"joy\"], [\"sadness\", \"joy\"], [\"fear\", \"surprise\"], [\"sadness\", \"surprise\"]]}', response_length=80, prompt_length=579, finish_reason='stop')],\n",
       " [Response(response_text='{\"page_utterance_emotions\": [[\"anger\", \"disgust\"], [\"anger\", \"disgust\"], [\"sadness\"], [\"anger\"], [\"anger\"], [\"anger\", \"surprise\"], [\"anger\"], [\"anger\"], [\"anger\", \"sadness\"], [\"anger\"], [\"anger\", \"surprise\"]]}', response_length=66, prompt_length=539, finish_reason='stop')],\n",
       " [Response(response_text='{\"page_utterance_emotions\": [[\"sadness\"], [\"anger\"], [\"anger\", \"surprise\"], [\"anger\", \"disgust\"]]}', response_length=32, prompt_length=443, finish_reason='stop')],\n",
       " [Response(response_text='{\"page_utterance_emotions\": [[\"fear\", \"sadness\"], [\"fear\", \"surprise\"]]}', response_length=26, prompt_length=397, finish_reason='stop')],\n",
       " [Response(response_text='{\"page_utterance_emotions\": [[\"anger\"], [\"fear\"], [\"anger\"], [\"anger\"], [\"neutral\"], [\"surprise\"], [\"anger\", \"surprise\"], [\"surprise\"], [\"anger\"], [\"fear\"]]}', response_length=48, prompt_length=513, finish_reason='stop')],\n",
       " [Response(response_text='{\"page_utterance_emotions\": [[\"surprise\"], [\"joy\"], [\"joy\"]]}', response_length=20, prompt_length=398, finish_reason='stop')],\n",
       " [Response(response_text='{\"page_utterance_emotions\": [[\"fear\", \"surprise\"], [\"anger\", \"sadness\"], [\"surprise\"], [\"neutral\"], [\"surprise\"], [\"sadness\"], [\"sadness\"], [\"anger\", \"sadness\"]]}', response_length=51, prompt_length=503, finish_reason='stop')],\n",
       " [Response(response_text='{\"page_utterance_emotions\": [[\"anger\", \"surprise\"], [\"anger\", \"joy\"], [\"joy\"], [\"joy\"], [\"joy\"], [\"anger\"], [\"anger\"], [\"anger\"], [\"anger\"], [\"surprise\", \"joy\"], [\"joy\"]]}', response_length=54, prompt_length=606, finish_reason='stop')],\n",
       " [Response(response_text='{\"page_utterance_emotions\": [[\"anger\", \"fear\"], [\"anger\"], [\"anger\", \"surprise\"]]}', response_length=27, prompt_length=433, finish_reason='stop')],\n",
       " [Response(response_text='{\"page_utterance_emotions\": [[\"neutral\"], [\"fear\", \"surprise\"], [\"neutral\"], [\"neutral\"], [\"neutral\"], [\"fear\"], [\"fear\"]]}', response_length=38, prompt_length=546, finish_reason='stop')],\n",
       " [Response(response_text='{\"page_utterance_emotions\": [[\"fear\", \"surprise\"], [\"fear\", \"surprise\"], [\"fear\", \"surprise\"], [\"surprise\"], [\"joy\"], [\"fear\", \"surprise\"], [\"fear\", \"sadness\"], [\"joy\"]]}', response_length=60, prompt_length=519, finish_reason='stop')],\n",
       " [Response(response_text='{\"page_utterance_emotions\": [[\"sadness\"], [\"surprise\", \"joy\"], [\"surprise\", \"joy\"], [\"anger\", \"sadness\"], [\"surprise\"], [\"fear\"], [\"anger\", \"joy\"]]}', response_length=49, prompt_length=516, finish_reason='stop')],\n",
       " [Response(response_text='{\"page_utterance_emotions\": [[\"sadness\"], [\"sadness\"], [\"sadness\"], [\"sadness\"]]}', response_length=26, prompt_length=458, finish_reason='stop')],\n",
       " [Response(response_text='{\"page_utterance_emotions\": [[\"anger\", \"disgust\", \"surprise\"], [\"joy\"], [\"joy\"], [\"joy\"], [\"joy\"], [\"anger\", \"sadness\"]]}', response_length=41, prompt_length=505, finish_reason='stop')],\n",
       " [Response(response_text='{\"page_utterance_emotions\": [[\"joy\"], [\"anger\", \"fear\", \"surprise\"], [\"anger\"], [\"anger\"], [\"anger\", \"disgust\"], [\"anger\", \"surprise\"]]}', response_length=45, prompt_length=476, finish_reason='stop')],\n",
       " [Response(response_text='{\"page_utterance_emotions\": [[\"surprise\", \"joy\"], [\"surprise\", \"joy\"], [\"joy\"], [\"joy\"]]}', response_length=30, prompt_length=465, finish_reason='stop')],\n",
       " [Response(response_text='{\"page_utterance_emotions\": [[\"sadness\"], [\"sadness\"], [\"sadness\"], [\"sadness\"]]}', response_length=26, prompt_length=419, finish_reason='stop')],\n",
       " [Response(response_text='{\"page_utterance_emotions\": [[\"sadness\"], [\"sadness\"], [\"sadness\"], [\"sadness\"], [\"sadness\"], [\"sadness\"], [\"sadness\"]]}', response_length=38, prompt_length=516, finish_reason='stop')],\n",
       " [Response(response_text='{\"page_utterance_emotions\": [[\"sadness\"], [\"joy\"], [\"joy\"], [\"joy\"], [\"joy\"], [\"joy\"], [\"sadness\"]]}', response_length=33, prompt_length=511, finish_reason='stop')],\n",
       " [Response(response_text='{\"page_utterance_emotions\": [[\"anger\"], [\"fear\", \"surprise\"], [\"surprise\"], [\"surprise\"], [\"fear\"], [\"anger\"], [\"anger\"]]}', response_length=39, prompt_length=473, finish_reason='stop')],\n",
       " [Response(response_text='{\"page_utterance_emotions\": [[\"surprise\", \"joy\"], [\"joy\"], [\"anger\", \"surprise\", \"joy\"], [\"surprise\", \"joy\"], [\"sadness\", \"surprise\"], [\"anger\", \"fear\"], [\"anger\"], [\"anger\"]]}', response_length=58, prompt_length=534, finish_reason='stop')],\n",
       " [Response(response_text='{\"page_utterance_emotions\": [[\"anger\", \"fear\"], [\"fear\"], [\"anger\"]]}', response_length=24, prompt_length=384, finish_reason='stop')],\n",
       " [Response(response_text='{\"page_utterance_emotions\": [[\"joy\"], [\"joy\"], [\"fear\", \"surprise\"], [\"fear\", \"surprise\"], [\"sadness\"], [\"surprise\", \"joy\"], [\"sadness\"], [\"sadness\", \"joy\"], [\"sadness\", \"joy\"]]}', response_length=61, prompt_length=488, finish_reason='stop')],\n",
       " [Response(response_text='{\"page_utterance_emotions\": [[\"sadness\"], [\"sadness\"], [\"sadness\", \"surprise\"], [\"sadness\", \"surprise\"]]}', response_length=34, prompt_length=424, finish_reason='stop')],\n",
       " [Response(response_text='{\"page_utterance_emotions\": [[\"anger\", \"fear\"], [\"anger\", \"fear\"], [\"anger\", \"fear\", \"sadness\"], [\"anger\", \"fear\"], [\"anger\"], [\"anger\"]]}', response_length=48, prompt_length=517, finish_reason='stop')],\n",
       " [Response(response_text='{\"page_utterance_emotions\": [[\"anger\", \"disgust\"], [\"sadness\"]]}', response_length=22, prompt_length=386, finish_reason='stop')],\n",
       " [Response(response_text='{\"page_utterance_emotions\": [[\"neutral\"], [\"fear\"], [\"fear\", \"sadness\"], [\"sadness\"], [\"disgust\", \"sadness\"], [\"sadness\", \"surprise\"], [\"sadness\", \"surprise\"], [\"sadness\", \"surprise\"]]}', response_length=62, prompt_length=482, finish_reason='stop')],\n",
       " [Response(response_text='{\"page_utterance_emotions\": [[\"sadness\"], [\"sadness\"], [\"sadness\"], [\"fear\", \"sadness\"], [\"fear\", \"sadness\"]]}', response_length=38, prompt_length=424, finish_reason='stop')],\n",
       " [Response(response_text='{\"page_utterance_emotions\": [[\"fear\", \"surprise\"], [\"fear\", \"surprise\"], [\"fear\", \"surprise\"], [\"surprise\"], [\"surprise\"], [\"fear\", \"surprise\"]]}', response_length=50, prompt_length=436, finish_reason='stop')],\n",
       " [Response(response_text='{\"page_utterance_emotions\": [[\"fear\", \"surprise\"], [\"fear\", \"surprise\"]]}', response_length=26, prompt_length=386, finish_reason='stop')],\n",
       " [Response(response_text='{\"page_utterance_emotions\": [[\"joy\"], [\"joy\"]]}', response_length=16, prompt_length=383, finish_reason='stop')],\n",
       " [Response(response_text='{\"page_utterance_emotions\": [[\"anger\"], [\"fear\"], [\"anger\"], [\"anger\"], [\"surprise\"], [\"sadness\"], [\"surprise\"]]}', response_length=35, prompt_length=470, finish_reason='stop')],\n",
       " [Response(response_text='{\"page_utterance_emotions\": [[\"anger\"], [\"anger\", \"surprise\"], [\"neutral\"], [\"surprise\"], [\"neutral\"], [\"anger\"]]}', response_length=33, prompt_length=449, finish_reason='stop')],\n",
       " [Response(response_text='{\"page_utterance_emotions\": [[\"surprise\"], [\"surprise\", \"joy\"]]}', response_length=21, prompt_length=393, finish_reason='stop')],\n",
       " [Response(response_text='{\"page_utterance_emotions\": [[\"joy\"], [\"surprise\"], [\"sadness\"], [\"sadness\"], [\"anger\", \"sadness\"], [\"surprise\"], [\"neutral\"], [\"joy\"]]}', response_length=42, prompt_length=508, finish_reason='stop')],\n",
       " [Response(response_text='{\"page_utterance_emotions\": [[\"anger\"], [\"surprise\"], [\"anger\"], [\"anger\"], [\"anger\", \"surprise\"], [\"sadness\"], [\"anger\", \"sadness\"], [\"anger\"]]}', response_length=44, prompt_length=619, finish_reason='stop')],\n",
       " [Response(response_text='{\"page_utterance_emotions\": [[\"anger\", \"disgust\"], [\"anger\", \"surprise\"], [\"anger\", \"surprise\"], [\"anger\", \"surprise\"], [\"joy\"], [\"joy\"], [\"anger\", \"surprise\"], [\"joy\"], [\"joy\"], [\"joy\"], [\"sadness\", \"joy\"], [\"sadness\", \"joy\"]]}', response_length=75, prompt_length=548, finish_reason='stop')],\n",
       " [Response(response_text='{\"page_utterance_emotions\": [[\"sadness\"], [\"sadness\"], [\"anger\", \"joy\"], [\"surprise\"], [\"anger\"], [\"surprise\"], [\"anger\"], [\"joy\"], [\"anger\"], [\"joy\"]]}', response_length=47, prompt_length=495, finish_reason='stop')],\n",
       " [Response(response_text='{\"page_utterance_emotions\": [[\"anger\"], [\"anger\"], [\"fear\", \"surprise\"], [\"anger\", \"disgust\"], [\"anger\", \"disgust\"], [\"anger\"], [\"anger\"], [\"sadness\"], [\"anger\"]]}', response_length=53, prompt_length=488, finish_reason='stop')],\n",
       " [Response(response_text='{\"page_utterance_emotions\": [[\"anger\"], [\"anger\"], [\"anger\"], [\"joy\"], [\"joy\"], [\"joy\"], [\"joy\"], [\"joy\"], [\"joy\"], [\"anger\", \"surprise\"], [\"joy\"], [\"anger\"], [\"surprise\"], [\"anger\"], [\"anger\", \"surprise\"]]}', response_length=64, prompt_length=693, finish_reason='stop')],\n",
       " [Response(response_text='{\"page_utterance_emotions\": [[\"joy\"], [\"anger\"], [\"anger\"], [\"anger\"], [\"anger\"], [\"sadness\"], [\"joy\"], [\"joy\"], [\"anger\"], [\"fear\", \"surprise\"], [\"surprise\"], [\"surprise\"], [\"joy\"]]}', response_length=57, prompt_length=583, finish_reason='stop')],\n",
       " [Response(response_text='{\"page_utterance_emotions\": [[\"joy\"], [\"anger\"], [\"fear\", \"surprise\"], [\"fear\", \"surprise\"], [\"sadness\"], [\"sadness\"], [\"anger\"], [\"sadness\"], [\"sadness\"], [\"sadness\"]]}', response_length=55, prompt_length=565, finish_reason='stop')],\n",
       " [Response(response_text='{\"page_utterance_emotions\": [[\"anger\"], [\"surprise\"], [\"fear\"], [\"anger\", \"sadness\"], [\"surprise\"], [\"joy\"], [\"joy\"], [\"disgust\"], [\"anger\"], [\"anger\"], [\"joy\"], [\"anger\"], [\"anger\"], [\"surprise\"], [\"joy\"]]}', response_length=65, prompt_length=608, finish_reason='stop')],\n",
       " [Response(response_text='{\"page_utterance_emotions\": [[\"sadness\"], [\"joy\"], [\"sadness\"], [\"sadness\"], [\"surprise\"], [\"joy\"], [\"joy\"], [\"joy\"], [\"joy\"], [\"joy\"]]}', response_length=44, prompt_length=557, finish_reason='stop')],\n",
       " [Response(response_text='{\"page_utterance_emotions\": [[\"fear\", \"surprise\"]]}', response_length=18, prompt_length=380, finish_reason='stop')],\n",
       " [Response(response_text='{\"page_utterance_emotions\": [[\"joy\"], [\"joy\"]]}', response_length=16, prompt_length=403, finish_reason='stop')],\n",
       " [Response(response_text='{\"page_utterance_emotions\": [[\"anger\"], [\"anger\"], [\"joy\"], [\"anger\"], [\"anger\"], [\"anger\"], [\"anger\"], [\"anger\", \"surprise\"]]}', response_length=38, prompt_length=525, finish_reason='stop')],\n",
       " [Response(response_text='{\"page_utterance_emotions\": [[\"surprise\", \"joy\"], [\"surprise\", \"joy\"], [\"surprise\", \"joy\"], [\"fear\", \"surprise\"], [\"anger\"], [\"fear\"], [\"sadness\", \"surprise\"], [\"sadness\"]]}', response_length=58, prompt_length=476, finish_reason='stop')],\n",
       " [Response(response_text='{\"page_utterance_emotions\": [[\"surprise\"], [\"anger\", \"sadness\"], [\"sadness\"]]}', response_length=25, prompt_length=383, finish_reason='stop')],\n",
       " [Response(response_text='{\"page_utterance_emotions\": [[\"joy\"], [\"joy\"], [\"joy\"], [\"joy\"], [\"fear\", \"surprise\"], [\"disgust\", \"joy\"]]}', response_length=38, prompt_length=423, finish_reason='stop')],\n",
       " [Response(response_text='{\"page_utterance_emotions\": [[\"anger\"], [\"fear\"], [\"fear\"], [\"anger\"]]}', response_length=24, prompt_length=403, finish_reason='stop')],\n",
       " [Response(response_text='{\"page_utterance_emotions\": [[\"sadness\"]]}', response_length=14, prompt_length=377, finish_reason='stop')],\n",
       " [Response(response_text='{\"page_utterance_emotions\": [[\"surprise\"], [\"fear\", \"surprise\"], [\"joy\"], [\"sadness\"], [\"sadness\"], [\"surprise\"], [\"sadness\"], [\"sadness\"], [\"sadness\"], [\"fear\", \"surprise\"]]}', response_length=57, prompt_length=714, finish_reason='stop')],\n",
       " [Response(response_text='{\"page_utterance_emotions\": [[\"neutral\"], [\"anger\"], [\"surprise\"], [\"neutral\"], [\"sadness\"], [\"sadness\"], [\"sadness\"], [\"sadness\"]]}', response_length=39, prompt_length=669, finish_reason='stop')],\n",
       " [Response(response_text='{\"page_utterance_emotions\": [[\"joy\"], [\"sadness\", \"joy\"], [\"surprise\"], [\"joy\"], [\"joy\"], [\"anger\"], [\"joy\"], [\"joy\"], [\"joy\"], [\"joy\"], [\"sadness\", \"joy\"], [\"sadness\"], [\"joy\"]]}', response_length=59, prompt_length=640, finish_reason='stop')],\n",
       " [Response(response_text='{\"page_utterance_emotions\": [[\"fear\", \"surprise\"], [\"fear\", \"surprise\"], [\"fear\", \"surprise\"]]}', response_length=34, prompt_length=406, finish_reason='stop')],\n",
       " [Response(response_text='{\"page_utterance_emotions\": [[\"fear\", \"surprise\"], [\"fear\", \"surprise\"], [\"fear\", \"surprise\"], [\"fear\", \"surprise\"], [\"surprise\"], [\"fear\", \"surprise\"], [\"fear\", \"surprise\"]]}', response_length=62, prompt_length=430, finish_reason='stop')],\n",
       " [Response(response_text='{\"page_utterance_emotions\": [[\"anger\"], [\"anger\", \"surprise\"]]}', response_length=20, prompt_length=389, finish_reason='stop')],\n",
       " [Response(response_text='{\"page_utterance_emotions\": [[\"anger\", \"fear\"], [\"anger\", \"fear\"], [\"anger\", \"fear\"], [\"anger\"], [\"anger\"], [\"anger\"], [\"anger\"], [\"anger\"], [\"anger\"], [\"anger\"], [\"anger\"], [\"anger\"], [\"anger\"]]}', response_length=61, prompt_length=766, finish_reason='stop')],\n",
       " [Response(response_text='{\"page_utterance_emotions\": [[\"anger\"], [\"neutral\"], [\"fear\", \"sadness\"], [\"anger\", \"sadness\"], [\"anger\", \"disgust\"], [\"anger\", \"sadness\"], [\"sadness\"], [\"sadness\"]]}', response_length=54, prompt_length=620, finish_reason='stop')],\n",
       " [Response(response_text='{\"page_utterance_emotions\": [[\"fear\", \"sadness\"], [\"fear\", \"sadness\"], [\"fear\", \"surprise\"], [\"anger\", \"surprise\"], [\"sadness\"], [\"sadness\"]]}', response_length=49, prompt_length=538, finish_reason='stop')],\n",
       " [Response(response_text='{\"page_utterance_emotions\": [[\"fear\", \"sadness\"], [\"surprise\"], [\"sadness\", \"surprise\"], [\"fear\", \"sadness\"], [\"fear\", \"sadness\"]]}', response_length=46, prompt_length=439, finish_reason='stop')],\n",
       " [Response(response_text='{\"page_utterance_emotions\": [[\"fear\", \"surprise\"], [\"anger\", \"fear\", \"surprise\"], [\"anger\", \"disgust\"], [\"fear\", \"surprise\"], [\"fear\", \"surprise\"], [\"fear\", \"sadness\"], [\"fear\", \"sadness\"], [\"fear\", \"surprise\"]]}', response_length=77, prompt_length=480, finish_reason='stop')],\n",
       " [Response(response_text='{\"page_utterance_emotions\": [[\"neutral\"], [\"neutral\"], [\"anger\", \"disgust\"], [\"anger\"], [\"anger\", \"disgust\"], [\"anger\"], [\"anger\"]]}', response_length=41, prompt_length=523, finish_reason='stop')],\n",
       " [Response(response_text='{\"page_utterance_emotions\": [[\"anger\"], [\"anger\", \"disgust\"], [\"anger\"], [\"sadness\"]]}', response_length=28, prompt_length=480, finish_reason='stop')],\n",
       " [Response(response_text='{\"page_utterance_emotions\": [[\"anger\"], [\"anger\", \"sadness\"], [\"fear\"], [\"anger\", \"fear\", \"surprise\"], [\"anger\", \"fear\"], [\"surprise\"]]}', response_length=46, prompt_length=466, finish_reason='stop')],\n",
       " [Response(response_text='{\"page_utterance_emotions\": [[\"surprise\", \"joy\"]]}', response_length=17, prompt_length=374, finish_reason='stop')],\n",
       " [Response(response_text='{\"page_utterance_emotions\": [[\"anger\", \"fear\", \"surprise\"], [\"anger\", \"fear\", \"surprise\"], [\"fear\", \"surprise\"], [\"fear\"], [\"anger\", \"fear\"], [\"anger\", \"surprise\"]]}', response_length=58, prompt_length=443, finish_reason='stop')],\n",
       " [Response(response_text='{\"page_utterance_emotions\": [[\"anger\", \"fear\", \"surprise\"]]}', response_length=21, prompt_length=375, finish_reason='stop')],\n",
       " [Response(response_text='{\"page_utterance_emotions\": [[\"sadness\"], [\"sadness\"], [\"sadness\"]]}', response_length=22, prompt_length=450, finish_reason='stop')],\n",
       " [Response(response_text='{\"page_utterance_emotions\": [[\"sadness\"], [\"sadness\"], [\"sadness\"], [\"sadness\"], [\"sadness\"], [\"sadness\"], [\"sadness\"], [\"sadness\"], [\"sadness\"], [\"sadness\"], [\"sadness\"], [\"sadness\"], [\"sadness\"]]}', response_length=62, prompt_length=756, finish_reason='stop')],\n",
       " [Response(response_text='{\"page_utterance_emotions\": [[\"anger\"], [\"anger\"], [\"anger\"], [\"sadness\"], [\"sadness\"], [\"sadness\", \"joy\"], [\"sadness\", \"joy\"], [\"sadness\", \"joy\"], [\"joy\"]]}', response_length=51, prompt_length=679, finish_reason='stop')],\n",
       " [Response(response_text='{\"page_utterance_emotions\": [[\"fear\", \"sadness\"], [\"sadness\"], [\"surprise\"], [\"fear\", \"sadness\"], [\"sadness\"], [\"neutral\"], [\"anger\", \"sadness\"], [\"sadness\"], [\"sadness\"]]}', response_length=56, prompt_length=494, finish_reason='stop')],\n",
       " [Response(response_text='{\"page_utterance_emotions\": [[\"sadness\"], [\"sadness\", \"surprise\"], [\"sadness\", \"surprise\"], [\"anger\", \"surprise\"], [\"sadness\"], [\"sadness\"], [\"sadness\"], [\"anger\", \"surprise\"], [\"sadness\", \"surprise\"], [\"sadness\", \"surprise\"], [\"sadness\", \"surprise\"], [\"surprise\", \"joy\"]]}', response_length=87, prompt_length=647, finish_reason='stop')],\n",
       " [Response(response_text='{\"page_utterance_emotions\": [[\"joy\"], [\"joy\"], [\"sadness\"], [\"neutral\"], [\"surprise\"], [\"neutral\"], [\"neutral\"], [\"neutral\"], [\"neutral\"], [\"sadness\", \"joy\"], [\"fear\", \"sadness\"], [\"fear\", \"surprise\"], [\"surprise\"]]}', response_length=66, prompt_length=630, finish_reason='stop')],\n",
       " [Response(response_text='{\"page_utterance_emotions\": [[\"anger\", \"surprise\"], [\"anger\", \"sadness\"], [\"anger\", \"sadness\"], [\"anger\"], [\"fear\", \"surprise\"], [\"surprise\"], [\"fear\", \"surprise\"], [\"anger\"], [\"fear\"], [\"sadness\"], [\"surprise\"], [\"anger\", \"fear\"], [\"anger\", \"fear\"], [\"surprise\"], [\"fear\", \"sadness\"], [\"fear\", \"sadness\"], [\"surprise\"]]}', response_length=107, prompt_length=620, finish_reason='stop')],\n",
       " [Response(response_text='{\"page_utterance_emotions\": [[\"joy\"], [\"joy\"], [\"joy\"], [\"joy\"], [\"joy\"], [\"sadness\", \"surprise\"], [\"joy\"], [\"joy\"], [\"joy\"], [\"joy\"], [\"joy\"], [\"joy\"], [\"surprise\", \"joy\"], [\"joy\"], [\"joy\"], [\"joy\"], [\"joy\"], [\"joy\"], [\"joy\"]]}', response_length=76, prompt_length=821, finish_reason='stop')],\n",
       " [Response(response_text='{\"page_utterance_emotions\": [[\"surprise\"], [\"sadness\", \"surprise\"], [\"joy\"], [\"joy\"], [\"joy\"], [\"joy\"], [\"surprise\"], [\"sadness\"], [\"sadness\"], [\"sadness\"], [\"joy\"], [\"anger\"], [\"joy\"]]}', response_length=59, prompt_length=618, finish_reason='stop')],\n",
       " [Response(response_text='{\"page_utterance_emotions\": [[\"surprise\"], [\"joy\"], [\"joy\"], [\"joy\"], [\"sadness\"], [\"surprise\"], [\"surprise\"], [\"fear\", \"sadness\"], [\"joy\"], [\"surprise\"], [\"joy\"]]}', response_length=53, prompt_length=581, finish_reason='stop')],\n",
       " [Response(response_text='{\"page_utterance_emotions\": [[\"surprise\"], [\"surprise\"], [\"fear\", \"surprise\"], [\"sadness\"], [\"surprise\"], [\"sadness\"], [\"sadness\"], [\"sadness\"], [\"sadness\"], [\"surprise\"], [\"sadness\"], [\"sadness\"], [\"surprise\"], [\"sadness\", \"joy\"]]}', response_length=73, prompt_length=665, finish_reason='stop')],\n",
       " [Response(response_text='{\"page_utterance_emotions\": [[\"anger\", \"fear\"], [\"anger\"], [\"anger\"], [\"anger\", \"sadness\"], [\"surprise\"], [\"anger\", \"sadness\"], [\"fear\"], [\"anger\"], [\"anger\"], [\"anger\", \"surprise\"]]}', response_length=58, prompt_length=545, finish_reason='stop')],\n",
       " [Response(response_text='{\"page_utterance_emotions\": [[\"anger\", \"surprise\"], [\"anger\", \"surprise\"], [\"anger\", \"sadness\"], [\"anger\", \"surprise\"], [\"anger\", \"sadness\"], [\"anger\", \"sadness\"], [\"anger\", \"sadness\"], [\"neutral\"], [\"anger\", \"sadness\"], [\"anger\", \"sadness\"], [\"anger\", \"sadness\", \"surprise\"], [\"anger\", \"sadness\", \"surprise\"], [\"anger\", \"sadness\", \"surprise\"]]}', response_length=109, prompt_length=624, finish_reason='stop')],\n",
       " [Response(response_text='{\"page_utterance_emotions\": [[\"sadness\"], [\"anger\"], [\"anger\"], [\"anger\"], [\"anger\"], [\"anger\"], [\"anger\", \"sadness\"], [\"anger\"], [\"surprise\"], [\"anger\", \"sadness\"], [\"anger\", \"fear\"], [\"anger\"]]}', response_length=60, prompt_length=731, finish_reason='stop')],\n",
       " [Response(response_text='{\"page_utterance_emotions\": [[\"anger\"], [\"anger\"], [\"anger\"], [\"anger\"], [\"anger\"], [\"anger\"], [\"anger\"]]}', response_length=31, prompt_length=503, finish_reason='stop')],\n",
       " [Response(response_text='{\"page_utterance_emotions\": [[\"surprise\"], [\"neutral\"], [\"neutral\"], [\"sadness\"], [\"sadness\"], [\"anger\", \"surprise\"], [\"anger\"], [\"anger\"], [\"anger\"], [\"anger\"], [\"fear\", \"surprise\"], [\"sadness\"]]}', response_length=59, prompt_length=632, finish_reason='stop')],\n",
       " [Response(response_text='{\"page_utterance_emotions\": [[\"sadness\"], [\"surprise\"], [\"joy\"], [\"sadness\"], [\"sadness\"], [\"sadness\"], [\"surprise\"]]}', response_length=37, prompt_length=452, finish_reason='stop')],\n",
       " [Response(response_text='{\"page_utterance_emotions\": [[\"sadness\"], [\"sadness\"], [\"sadness\"], [\"sadness\"], [\"sadness\", \"surprise\"], [\"sadness\", \"surprise\"], [\"sadness\"], [\"sadness\", \"joy\"]]}', response_length=53, prompt_length=498, finish_reason='stop')],\n",
       " [Response(response_text='{\"page_utterance_emotions\": [[\"anger\", \"sadness\"], [\"anger\", \"sadness\"], [\"anger\", \"sadness\"], [\"sadness\"], [\"anger\"], [\"anger\"], [\"anger\"], [\"sadness\"], [\"sadness\"], [\"anger\"], [\"anger\"]]}', response_length=58, prompt_length=557, finish_reason='stop')],\n",
       " [Response(response_text='{\"page_utterance_emotions\": [[\"sadness\"], [\"sadness\"], [\"anger\", \"disgust\"], [\"anger\"], [\"surprise\"], [\"anger\"], [\"fear\", \"sadness\"], [\"sadness\"]]}', response_length=48, prompt_length=453, finish_reason='stop')],\n",
       " [Response(response_text='{\"page_utterance_emotions\": [[\"surprise\", \"joy\"], [\"fear\", \"sadness\", \"joy\"], [\"surprise\", \"joy\"], [\"fear\"], [\"fear\", \"sadness\", \"surprise\"], [\"sadness\", \"surprise\"], [\"fear\", \"sadness\", \"joy\"], [\"joy\"], [\"joy\"]]}', response_length=76, prompt_length=558, finish_reason='stop')],\n",
       " [Response(response_text='{\"page_utterance_emotions\": [[\"sadness\"], [\"sadness\"], [\"anger\", \"disgust\"]]}', response_length=26, prompt_length=418, finish_reason='stop')],\n",
       " [Response(response_text='{\"page_utterance_emotions\": [[\"fear\"], [\"fear\", \"surprise\"]]}', response_length=22, prompt_length=397, finish_reason='stop')],\n",
       " [Response(response_text='{\"page_utterance_emotions\": [[\"fear\", \"surprise\"], [\"fear\", \"surprise\"], [\"fear\", \"surprise\"], [\"fear\", \"surprise\"], [\"fear\", \"surprise\"], [\"fear\", \"surprise\"]]}', response_length=58, prompt_length=439, finish_reason='stop')],\n",
       " [Response(response_text='{\"page_utterance_emotions\": [[\"fear\", \"surprise\"], [\"fear\", \"surprise\"], [\"fear\", \"sadness\"], [\"fear\", \"surprise\"], [\"surprise\"], [\"anger\"], [\"fear\", \"sadness\"]]}', response_length=57, prompt_length=441, finish_reason='stop')],\n",
       " [Response(response_text='{\"page_utterance_emotions\": [[\"surprise\"], [\"surprise\", \"joy\"], [\"surprise\", \"joy\"], [\"surprise\", \"joy\"], [\"fear\"], [\"anger\"]]}', response_length=42, prompt_length=435, finish_reason='stop')],\n",
       " [Response(response_text='{\"page_utterance_emotions\": [[\"surprise\"], [\"surprise\"], [\"surprise\", \"joy\"], [\"surprise\", \"joy\"], [\"joy\"], [\"anger\", \"fear\"]]}', response_length=42, prompt_length=444, finish_reason='stop')],\n",
       " [Response(response_text='{\"page_utterance_emotions\": [[\"anger\"], [\"anger\", \"fear\"], [\"anger\"], [\"anger\"], [\"fear\", \"surprise\"], [\"anger\"]]}', response_length=37, prompt_length=430, finish_reason='stop')],\n",
       " [Response(response_text='{\"page_utterance_emotions\": [[\"anger\", \"surprise\"], [\"anger\", \"surprise\"], [\"anger\", \"surprise\"], [\"anger\"], [\"anger\", \"surprise\"]]}', response_length=41, prompt_length=410, finish_reason='stop')],\n",
       " [Response(response_text='{\"page_utterance_emotions\": [[\"fear\", \"surprise\"], [\"fear\", \"surprise\"], [\"fear\", \"surprise\"], [\"fear\", \"surprise\"], [\"anger\", \"surprise\"], [\"anger\"]]}', response_length=52, prompt_length=457, finish_reason='stop')],\n",
       " [Response(response_text='{\"page_utterance_emotions\": [[\"anger\", \"sadness\"], [\"anger\"], [\"anger\", \"fear\"], [\"anger\", \"fear\", \"surprise\"]]}', response_length=38, prompt_length=399, finish_reason='stop')],\n",
       " [Response(response_text='{\"page_utterance_emotions\": [[\"anger\", \"fear\"], [\"anger\", \"disgust\"], [\"fear\", \"surprise\"], [\"fear\", \"surprise\"], [\"sadness\"], [\"fear\", \"surprise\"], [\"sadness\"], [\"surprise\"], [\"anger\", \"disgust\"], [\"anger\", \"disgust\"], [\"sadness\"], [\"sadness\", \"surprise\"]]}', response_length=89, prompt_length=543, finish_reason='stop')],\n",
       " [Response(response_text='{\"page_utterance_emotions\": [[\"joy\"], [\"joy\"], [\"surprise\"], [\"surprise\"], [\"surprise\"], [\"fear\", \"surprise\"], [\"anger\", \"fear\", \"surprise\"], [\"anger\", \"fear\", \"surprise\"], [\"joy\"]]}', response_length=61, prompt_length=494, finish_reason='stop')],\n",
       " [Response(response_text='{\"page_utterance_emotions\": [[\"sadness\"], [\"anger\"], [\"anger\"], [\"anger\", \"sadness\"], [\"anger\", \"sadness\"], [\"anger\", \"sadness\"]]}', response_length=41, prompt_length=450, finish_reason='stop')],\n",
       " [Response(response_text='{\"page_utterance_emotions\": [[\"anger\", \"fear\", \"surprise\"], [\"surprise\"], [\"anger\", \"fear\", \"surprise\"], [\"fear\", \"surprise\"], [\"surprise\"], [\"sadness\"], [\"anger\"], [\"anger\"], [\"anger\", \"surprise\"], [\"anger\", \"sadness\"], [\"anger\", \"sadness\"], [\"anger\", \"sadness\"], [\"anger\"], [\"anger\"], [\"fear\", \"surprise\"], [\"joy\"]]}', response_length=103, prompt_length=569, finish_reason='stop')],\n",
       " [Response(response_text='{\"page_utterance_emotions\": [[\"anger\", \"fear\", \"surprise\"], [\"sadness\"], [\"anger\"], [\"surprise\"], [\"joy\"], [\"joy\"], [\"fear\", \"surprise\"], [\"surprise\"], [\"joy\"], [\"fear\", \"surprise\"], [\"joy\"]]}', response_length=64, prompt_length=518, finish_reason='stop')],\n",
       " [Response(response_text='{\"page_utterance_emotions\": [[\"anger\"], [\"anger\"], [\"surprise\"], [\"surprise\"], [\"fear\"], [\"fear\", \"surprise\"], [\"fear\"], [\"fear\", \"sadness\"], [\"fear\", \"sadness\"], [\"fear\"], [\"surprise\"]]}', response_length=64, prompt_length=490, finish_reason='stop')],\n",
       " [Response(response_text='{\"page_utterance_emotions\": [[\"sadness\"], [\"sadness\"], [\"sadness\"], [\"sadness\"], [\"fear\", \"surprise\"], [\"fear\", \"surprise\"], [\"fear\"], [\"fear\"], [\"anger\"], [\"sadness\"], [\"sadness\"], [\"sadness\"], [\"sadness\"], [\"sadness\", \"joy\"]]}', response_length=76, prompt_length=596, finish_reason='stop')],\n",
       " [Response(response_text='{\"page_utterance_emotions\": [[\"fear\", \"surprise\"], [\"sadness\"], [\"sadness\"], [\"sadness\"], [\"sadness\"], [\"sadness\"], [\"joy\"]]}', response_length=41, prompt_length=508, finish_reason='stop')],\n",
       " [Response(response_text='{\"page_utterance_emotions\": [[\"joy\"], [\"joy\"], [\"surprise\"], [\"neutral\"], [\"joy\"], [\"joy\"], [\"surprise\"], [\"anger\", \"surprise\"], [\"anger\", \"surprise\"], [\"anger\", \"surprise\"], [\"joy\"]]}', response_length=57, prompt_length=529, finish_reason='stop')],\n",
       " [Response(response_text='{\"page_utterance_emotions\": [[\"sadness\"], [\"surprise\"], [\"sadness\", \"surprise\"], [\"surprise\", \"joy\"], [\"neutral\"], [\"neutral\"], [\"fear\", \"surprise\"], [\"anger\", \"surprise\"], [\"surprise\"], [\"joy\"], [\"joy\"], [\"joy\"]]}', response_length=67, prompt_length=577, finish_reason='stop')],\n",
       " [Response(response_text='{\"page_utterance_emotions\": [[\"joy\"]]}', response_length=13, prompt_length=384, finish_reason='stop')]]"
      ]
     },
     "execution_count": 24,
     "metadata": {},
     "output_type": "execute_result"
    }
   ],
   "source": [
    "test_predictions"
   ]
  },
  {
   "cell_type": "code",
   "execution_count": 25,
   "metadata": {},
   "outputs": [],
   "source": [
    "processed_preds = []\n",
    "bad_idx = []\n",
    "\n",
    "for i, raw_pred in enumerate(test_predictions):\n",
    "    try:\n",
    "        x = json.loads(raw_pred[0].response_text)[\"page_utterance_emotions\"]\n",
    "        processed_preds.append(x)\n",
    "    except:\n",
    "        print(i)\n",
    "        bad_idx.append(i)"
   ]
  },
  {
   "cell_type": "code",
   "execution_count": 26,
   "metadata": {},
   "outputs": [],
   "source": [
    "# bad_idx.sort(reverse=True)\n",
    "\n",
    "# # Remove elements from 'grounds' at the specified indices\n",
    "# for idx in bad_idx:\n",
    "    \n",
    "#     #del processed_grounds[idx]\n",
    "#     del processed_preds[idx]"
   ]
  },
  {
   "cell_type": "code",
   "execution_count": 27,
   "metadata": {},
   "outputs": [
    {
     "data": {
      "text/plain": [
       "156"
      ]
     },
     "execution_count": 27,
     "metadata": {},
     "output_type": "execute_result"
    }
   ],
   "source": [
    "len(processed_preds)"
   ]
  },
  {
   "cell_type": "code",
   "execution_count": 28,
   "metadata": {},
   "outputs": [],
   "source": [
    "processed_grounds = []\n",
    "\n",
    "for ground in test_grounds:\n",
    "    x = json.loads(ground)[\"page_utterance_emotions\"]\n",
    "    processed_grounds.append(x)"
   ]
  },
  {
   "cell_type": "code",
   "execution_count": 29,
   "metadata": {},
   "outputs": [
    {
     "data": {
      "text/plain": [
       "156"
      ]
     },
     "execution_count": 29,
     "metadata": {},
     "output_type": "execute_result"
    }
   ],
   "source": [
    "len(processed_grounds)"
   ]
  },
  {
   "cell_type": "code",
   "execution_count": 30,
   "metadata": {},
   "outputs": [
    {
     "data": {
      "text/plain": [
       "[]"
      ]
     },
     "execution_count": 30,
     "metadata": {},
     "output_type": "execute_result"
    }
   ],
   "source": [
    "bad_idx"
   ]
  },
  {
   "cell_type": "code",
   "execution_count": 31,
   "metadata": {},
   "outputs": [],
   "source": [
    "bad_idx.sort(reverse=True)\n",
    "\n",
    "# Remove elements from 'grounds' at the specified indices\n",
    "for idx in bad_idx:\n",
    "    \n",
    "    del processed_grounds[idx]\n",
    "    #del processed_preds[idx]"
   ]
  },
  {
   "cell_type": "code",
   "execution_count": 32,
   "metadata": {},
   "outputs": [
    {
     "name": "stdout",
     "output_type": "stream",
     "text": [
      "5 20 19\n",
      "14 23 24\n",
      "21 11 12\n"
     ]
    }
   ],
   "source": [
    "bad_idx = []\n",
    "\n",
    "for idx, (i,j) in enumerate(zip(processed_grounds, processed_preds)):\n",
    "    if len(i) != len(j):\n",
    "        print(idx, len(i), len(j))\n",
    "        bad_idx.append(idx)"
   ]
  },
  {
   "cell_type": "code",
   "execution_count": 33,
   "metadata": {},
   "outputs": [],
   "source": [
    "bad_idx.sort(reverse=True)\n",
    "\n",
    "# Remove elements from 'grounds' at the specified indices\n",
    "for idx in bad_idx:\n",
    "    \n",
    "    del processed_grounds[idx]\n",
    "    del processed_preds[idx]"
   ]
  },
  {
   "cell_type": "code",
   "execution_count": 34,
   "metadata": {},
   "outputs": [
    {
     "data": {
      "text/plain": [
       "(153, 153)"
      ]
     },
     "execution_count": 34,
     "metadata": {},
     "output_type": "execute_result"
    }
   ],
   "source": [
    "len(processed_grounds), len(processed_preds)"
   ]
  },
  {
   "cell_type": "code",
   "execution_count": 35,
   "metadata": {},
   "outputs": [],
   "source": [
    "grounds = [item for sublist in processed_grounds for item in sublist]\n",
    "predictions = [item for sublist in processed_preds for item in sublist]"
   ]
  },
  {
   "cell_type": "code",
   "execution_count": 36,
   "metadata": {},
   "outputs": [
    {
     "data": {
      "text/plain": [
       "(1272, 1272)"
      ]
     },
     "execution_count": 36,
     "metadata": {},
     "output_type": "execute_result"
    }
   ],
   "source": [
    "len(grounds), len(predictions)"
   ]
  },
  {
   "cell_type": "code",
   "execution_count": 37,
   "metadata": {},
   "outputs": [],
   "source": [
    "from sklearn.preprocessing import MultiLabelBinarizer\n",
    "mlb = MultiLabelBinarizer()"
   ]
  },
  {
   "cell_type": "code",
   "execution_count": 38,
   "metadata": {},
   "outputs": [],
   "source": [
    "y_true_mhot = mlb.fit_transform(grounds)\n",
    "y_pred_mhot = mlb.transform(predictions)"
   ]
  },
  {
   "cell_type": "code",
   "execution_count": 39,
   "metadata": {},
   "outputs": [
    {
     "data": {
      "text/plain": [
       "((1272, 7), (1272, 7))"
      ]
     },
     "execution_count": 39,
     "metadata": {},
     "output_type": "execute_result"
    }
   ],
   "source": [
    "y_true_mhot.shape, y_pred_mhot.shape"
   ]
  },
  {
   "cell_type": "code",
   "execution_count": 40,
   "metadata": {},
   "outputs": [],
   "source": [
    "class_labels = mlb.classes_"
   ]
  },
  {
   "cell_type": "code",
   "execution_count": 41,
   "metadata": {},
   "outputs": [
    {
     "data": {
      "text/plain": [
       "array(['anger', 'disgust', 'fear', 'joy', 'neutral', 'sadness',\n",
       "       'surprise'], dtype=object)"
      ]
     },
     "execution_count": 41,
     "metadata": {},
     "output_type": "execute_result"
    }
   ],
   "source": [
    "class_labels"
   ]
  },
  {
   "cell_type": "code",
   "execution_count": 42,
   "metadata": {},
   "outputs": [
    {
     "name": "stdout",
     "output_type": "stream",
     "text": [
      "              precision    recall  f1-score   support\n",
      "\n",
      "       anger      0.602     0.565     0.583       432\n",
      "     disgust      0.135     0.114     0.123        44\n",
      "        fear      0.531     0.435     0.479       294\n",
      "         joy      0.492     0.505     0.498       287\n",
      "     neutral      0.476     0.306     0.373        98\n",
      "     sadness      0.517     0.512     0.515       328\n",
      "    surprise      0.583     0.626     0.604       348\n",
      "\n",
      "   micro avg      0.539     0.512     0.525      1831\n",
      "   macro avg      0.477     0.438     0.453      1831\n",
      "weighted avg      0.537     0.512     0.522      1831\n",
      " samples avg      0.552     0.523     0.514      1831\n",
      "\n"
     ]
    }
   ],
   "source": [
    "print(classification_report(y_true_mhot, y_pred_mhot, target_names=class_labels, digits=3))"
   ]
  },
  {
   "cell_type": "code",
   "execution_count": 43,
   "metadata": {},
   "outputs": [],
   "source": [
    "# with open({Path(FT_DIR)} / \"classification_report.pickle\", 'wb') as fh:\n",
    "    \n",
    "#      pickle.dump(classification_report(y_true_mhot, y_pred_mhot, target_names=class_labels, digits=3, output_dict=True), fh)"
   ]
  },
  {
   "cell_type": "raw",
   "metadata": {
    "vscode": {
     "languageId": "raw"
    }
   },
   "source": [
    "unsloth/Meta-Llama-3.1-70B-Instruct, 8 Epochs.\n",
    "\n",
    "precision    recall  f1-score   support\n",
    "\n",
    "       anger      0.601     0.569     0.584       445\n",
    "     disgust      0.160     0.174     0.167        46\n",
    "        fear      0.454     0.505     0.478       293\n",
    "         joy      0.534     0.465     0.497       271\n",
    "     neutral      0.574     0.321     0.412       109\n",
    "     sadness      0.535     0.601     0.566       333\n",
    "    surprise      0.580     0.678     0.625       342\n",
    "\n",
    "   micro avg      0.536     0.545     0.541      1839\n",
    "   macro avg      0.491     0.473     0.476      1839\n",
    "weighted avg      0.539     0.545     0.538      1839\n",
    " samples avg      0.555     0.557     0.532      1839"
   ]
  },
  {
   "cell_type": "raw",
   "metadata": {
    "vscode": {
     "languageId": "raw"
    }
   },
   "source": [
    "unsloth/llama-3-8b-Instruct-bnb-4bit, 8 epochs\n",
    "\n",
    "precision    recall  f1-score   support\n",
    "\n",
    "       anger      0.625     0.528     0.572       417\n",
    "     disgust      0.182     0.154     0.167        39\n",
    "        fear      0.520     0.449     0.482       294\n",
    "         joy      0.540     0.580     0.559       281\n",
    "     neutral      0.518     0.406     0.455       106\n",
    "     sadness      0.499     0.557     0.526       323\n",
    "    surprise      0.579     0.606     0.593       343\n",
    "\n",
    "   micro avg      0.546     0.528     0.537      1803\n",
    "   macro avg      0.495     0.469     0.479      1803\n",
    "weighted avg      0.547     0.528     0.535      1803\n",
    " samples avg      0.561     0.548     0.529      1803"
   ]
  },
  {
   "cell_type": "raw",
   "metadata": {
    "vscode": {
     "languageId": "raw"
    }
   },
   "source": [
    "unsloth/Meta-Llama-3.1-8B-Instruct-bnb-4bit\n",
    "\n",
    "precision    recall  f1-score   support\n",
    "\n",
    "       anger      0.557     0.582     0.570       443\n",
    "     disgust      0.196     0.200     0.198        50\n",
    "        fear      0.504     0.465     0.484       284\n",
    "         joy      0.529     0.583     0.555       278\n",
    "     neutral      0.397     0.237     0.297        97\n",
    "     sadness      0.509     0.515     0.512       328\n",
    "    surprise      0.616     0.624     0.620       348\n",
    "\n",
    "   micro avg      0.532     0.531     0.532      1828\n",
    "   macro avg      0.473     0.458     0.462      1828\n",
    "weighted avg      0.529     0.531     0.529      1828\n",
    " samples avg      0.550     0.544     0.523      1828"
   ]
  },
  {
   "cell_type": "raw",
   "metadata": {
    "vscode": {
     "languageId": "raw"
    }
   },
   "source": [
    "unsloth/Llama-3.2-3B-Instruct-bnb-4bit\n",
    "\n",
    "precision    recall  f1-score   support\n",
    "\n",
    "       anger      0.525     0.524     0.525       416\n",
    "     disgust      0.200     0.150     0.171        40\n",
    "        fear      0.438     0.491     0.463       281\n",
    "         joy      0.496     0.442     0.468       269\n",
    "     neutral      0.447     0.337     0.384       101\n",
    "     sadness      0.509     0.523     0.516       308\n",
    "    surprise      0.585     0.543     0.563       337\n",
    "\n",
    "   micro avg      0.504     0.490     0.497      1752\n",
    "   macro avg      0.457     0.430     0.441      1752\n",
    "weighted avg      0.504     0.490     0.496      1752\n",
    " samples avg      0.524     0.505     0.491      1752"
   ]
  },
  {
   "cell_type": "raw",
   "metadata": {
    "vscode": {
     "languageId": "raw"
    }
   },
   "source": [
    "unsloth/Llama-3.2-1B-Instruct-bnb-4bit\n",
    "\n",
    "precision    recall  f1-score   support\n",
    "\n",
    "       anger      0.489     0.538     0.512       398\n",
    "     disgust      0.250     0.175     0.206        40\n",
    "        fear      0.330     0.422     0.371       232\n",
    "         joy      0.450     0.440     0.445       243\n",
    "     neutral      0.241     0.169     0.198        77\n",
    "     sadness      0.472     0.449     0.461       267\n",
    "    surprise      0.490     0.507     0.498       294\n",
    "\n",
    "   micro avg      0.439     0.456     0.448      1551\n",
    "   macro avg      0.389     0.386     0.384      1551\n",
    "weighted avg      0.438     0.456     0.445      1551\n",
    " samples avg      0.457     0.468     0.437      1551"
   ]
  },
  {
   "cell_type": "raw",
   "metadata": {
    "vscode": {
     "languageId": "raw"
    }
   },
   "source": [
    "unsloth/Qwen2.5-32B-Instruct-bnb-4bit\n",
    "\n",
    "precision    recall  f1-score   support\n",
    "\n",
    "       anger      0.526     0.493     0.509       450\n",
    "     disgust      0.194     0.240     0.214        50\n",
    "        fear      0.481     0.438     0.459       297\n",
    "         joy      0.580     0.610     0.595       290\n",
    "     neutral      0.486     0.321     0.387       109\n",
    "     sadness      0.522     0.588     0.553       342\n",
    "    surprise      0.593     0.583     0.588       355\n",
    "\n",
    "   micro avg      0.528     0.520     0.524      1893\n",
    "   macro avg      0.483     0.468     0.472      1893\n",
    "weighted avg      0.528     0.520     0.522      1893\n",
    " samples avg      0.546     0.537     0.515      1893"
   ]
  },
  {
   "cell_type": "raw",
   "metadata": {
    "vscode": {
     "languageId": "raw"
    }
   },
   "source": [
    "unsloth/Qwen2.5-72B-Instruct-bnb-4bit\n",
    "\n",
    "precision    recall  f1-score   support\n",
    "\n",
    "       anger      0.577     0.562     0.569       447\n",
    "     disgust      0.136     0.130     0.133        46\n",
    "        fear      0.460     0.458     0.459       299\n",
    "         joy      0.560     0.558     0.559       294\n",
    "     neutral      0.440     0.346     0.387       107\n",
    "     sadness      0.518     0.594     0.553       342\n",
    "    surprise      0.599     0.555     0.576       353\n",
    "\n",
    "   micro avg      0.531     0.526     0.529      1888\n",
    "   macro avg      0.470     0.458     0.462      1888\n",
    "weighted avg      0.531     0.526     0.528      1888\n",
    " samples avg      0.550     0.547     0.521      1888"
   ]
  },
  {
   "cell_type": "raw",
   "metadata": {
    "vscode": {
     "languageId": "raw"
    }
   },
   "source": [
    "unsloth/Phi-3-medium-4k-instruct-bnb-4bit\n",
    "\n",
    "precision    recall  f1-score   support\n",
    "\n",
    "       anger      0.558     0.570     0.564       416\n",
    "     disgust      0.133     0.103     0.116        39\n",
    "        fear      0.473     0.441     0.457       281\n",
    "         joy      0.557     0.551     0.554       283\n",
    "     neutral      0.326     0.316     0.321        95\n",
    "     sadness      0.494     0.541     0.517       314\n",
    "    surprise      0.525     0.534     0.529       320\n",
    "\n",
    "   micro avg      0.507     0.510     0.509      1748\n",
    "   macro avg      0.438     0.437     0.437      1748\n",
    "weighted avg      0.504     0.510     0.507      1748\n",
    " samples avg      0.525     0.531     0.502      1748"
   ]
  },
  {
   "cell_type": "raw",
   "metadata": {
    "vscode": {
     "languageId": "raw"
    }
   },
   "source": [
    "precision    recall  f1-score   support\n",
    "\n",
    "       anger      0.570     0.584     0.577       445\n",
    "     disgust      0.296     0.174     0.219        46\n",
    "        fear      0.468     0.468     0.468       293\n",
    "         joy      0.544     0.476     0.508       271\n",
    "     neutral      0.506     0.385     0.438       109\n",
    "     sadness      0.508     0.601     0.550       333\n",
    "    surprise      0.628     0.608     0.618       342\n",
    "\n",
    "   micro avg      0.540     0.535     0.538      1839\n",
    "   macro avg      0.503     0.471     0.483      1839\n",
    "weighted avg      0.539     0.535     0.535      1839\n",
    " samples avg      0.556     0.550     0.529      1839\n",
    "\n",
    "\n",
    " w class probabilities. llama 8b"
   ]
  }
 ],
 "metadata": {
  "kernelspec": {
   "display_name": "Python 3 (ipykernel)",
   "language": "python",
   "name": "python3"
  },
  "language_info": {
   "codemirror_mode": {
    "name": "ipython",
    "version": 3
   },
   "file_extension": ".py",
   "mimetype": "text/x-python",
   "name": "python",
   "nbconvert_exporter": "python",
   "pygments_lexer": "ipython3",
   "version": "3.11.9"
  }
 },
 "nbformat": 4,
 "nbformat_minor": 2
}
