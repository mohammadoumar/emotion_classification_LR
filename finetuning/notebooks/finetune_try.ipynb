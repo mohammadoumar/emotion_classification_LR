{
 "cells": [
  {
   "cell_type": "code",
   "execution_count": 44,
   "metadata": {},
   "outputs": [],
   "source": [
    "import os\n",
    "import ast\n",
    "import sys\n",
    "import json\n",
    "import torch\n",
    "import pickle\n",
    "import subprocess\n",
    "\n",
    "sys.path.append('../')\n",
    "\n",
    "import pandas as pd\n",
    "\n",
    "from pathlib import Path\n",
    "from tqdm import tqdm\n",
    "from llamafactory.chat import ChatModel\n",
    "from llamafactory.extras.misc import torch_gc\n",
    "from sklearn.metrics import classification_report\n",
    "#from utils.post_processing import post_process\n"
   ]
  },
  {
   "cell_type": "code",
   "execution_count": 45,
   "metadata": {},
   "outputs": [],
   "source": [
    "try:    \n",
    "    assert torch.cuda.is_available() is True\n",
    "    \n",
    "except AssertionError:\n",
    "    \n",
    "    print(\"Please set up a GPU before using LLaMA Factory...\")"
   ]
  },
  {
   "cell_type": "code",
   "execution_count": 46,
   "metadata": {},
   "outputs": [],
   "source": [
    "CURRENT_DIR = Path.cwd()\n",
    "FT_DIR = CURRENT_DIR / \"emotion_analysis_comics\" / \"finetuning\"\n",
    "DATASET_DIR = CURRENT_DIR / \"emotion_analysis_comics\" / \"finetuning\" / \"datasets\"\n",
    "\n",
    "ERC_DIR = FT_DIR.parent\n",
    "LLAMA_FACTORY_DIR = ERC_DIR / \"LLaMA-Factory\"\n",
    "\n",
    "BASE_MODEL = \"unsloth/llama-3-8b-Instruct-bnb-4bit\"\n",
    "LOGGING_DIR = FT_DIR / \"training_logs\"\n",
    "OUTPUT_DIR = FT_DIR / \"saved_models\" / f\"\"\"comics35_pg_nb_attr_{BASE_MODEL.split(\"/\")[1]}\"\"\""
   ]
  },
  {
   "cell_type": "code",
   "execution_count": 47,
   "metadata": {},
   "outputs": [],
   "source": [
    "DATASET_DIR = CURRENT_DIR / \"emotion_analysis_comics\" / \"finetuning\" / \"datasets\""
   ]
  },
  {
   "cell_type": "code",
   "execution_count": 48,
   "metadata": {},
   "outputs": [],
   "source": [
    "train_dataset_name = f\"\"\"comics35_pg_attr_train.json\"\"\"\n",
    "test_dataset_name = f\"\"\"comics35_pg_attr_test.json\"\"\"\n",
    "\n",
    "train_dataset_file = DATASET_DIR / train_dataset_name\n",
    "test_dataset_file = DATASET_DIR / test_dataset_name"
   ]
  },
  {
   "cell_type": "code",
   "execution_count": 49,
   "metadata": {},
   "outputs": [
    {
     "data": {
      "text/plain": [
       "PosixPath('/Utilisateurs/umushtaq/emotion_analysis_comics/finetuning/datasets/comics35_pg_attr_train.json')"
      ]
     },
     "execution_count": 49,
     "metadata": {},
     "output_type": "execute_result"
    }
   ],
   "source": [
    "train_dataset_file"
   ]
  },
  {
   "cell_type": "code",
   "execution_count": 50,
   "metadata": {},
   "outputs": [],
   "source": [
    "\n",
    "if not os.path.exists(os.path.join(FT_DIR, \"model_args\")):\n",
    "    os.mkdir(os.path.join(FT_DIR, \"model_args\"))\n",
    "\n",
    "train_file = FT_DIR / \"model_args\" / f\"\"\"{train_dataset_name.split(\".\")[0].split(\"train\")[0]}{BASE_MODEL.split(\"/\")[1]}.json\"\"\""
   ]
  },
  {
   "cell_type": "code",
   "execution_count": 51,
   "metadata": {},
   "outputs": [],
   "source": [
    "dataset_info_line =  {\n",
    "  \"file_name\": f\"{train_dataset_file}\",\n",
    "  \"columns\": {\n",
    "    \"prompt\": \"instruction\",\n",
    "    \"query\": \"input\",\n",
    "    \"response\": \"output\"\n",
    "  }\n",
    "}"
   ]
  },
  {
   "cell_type": "code",
   "execution_count": 52,
   "metadata": {},
   "outputs": [],
   "source": [
    "with open(os.path.join(LLAMA_FACTORY_DIR, \"data/dataset_info.json\"), \"r\") as jsonFile:\n",
    "    data = json.load(jsonFile)\n",
    "\n",
    "data[\"comics\"] = dataset_info_line\n",
    "\n",
    "with open(os.path.join(LLAMA_FACTORY_DIR, \"data/dataset_info.json\"), \"w\") as jsonFile:\n",
    "    json.dump(data, jsonFile)"
   ]
  },
  {
   "cell_type": "code",
   "execution_count": 53,
   "metadata": {},
   "outputs": [],
   "source": [
    "NB_EPOCHS = 10"
   ]
  },
  {
   "cell_type": "code",
   "execution_count": 54,
   "metadata": {},
   "outputs": [],
   "source": [
    "args = dict(\n",
    "    \n",
    "  stage=\"sft\",                           # do supervised fine-tuning\n",
    "  do_train=True,\n",
    "\n",
    "  model_name_or_path=BASE_MODEL,         # use bnb-4bit-quantized Llama-3-8B-Instruct model\n",
    "  num_train_epochs=NB_EPOCHS,            # the epochs of training\n",
    "  output_dir=str(OUTPUT_DIR),                 # the path to save LoRA adapters\n",
    "  overwrite_output_dir=True,             # overrides existing output contents\n",
    "\n",
    "  dataset=\"comics\",                      # dataset name\n",
    "  template=\"llama3\",                     # use llama3 prompt template\n",
    "  #train_on_prompt=True,\n",
    "  val_size=0.1,\n",
    "  max_samples=10000,                       # use 500 examples in each dataset\n",
    "\n",
    "  finetuning_type=\"lora\",                # use LoRA adapters to save memory\n",
    "  lora_target=\"all\",                     # attach LoRA adapters to all linear layers\n",
    "  per_device_train_batch_size=8,         # the batch size\n",
    "  gradient_accumulation_steps=4,         # the gradient accumulation steps\n",
    "  lr_scheduler_type=\"cosine\",            # use cosine learning rate scheduler\n",
    "  loraplus_lr_ratio=16.0,                # use LoRA+ algorithm with lambda=16.0\n",
    "  #temperature=0.5,\n",
    "  \n",
    "  warmup_ratio=0.1,                      # use warmup scheduler    \n",
    "  learning_rate=5e-5,                    # the learning rate\n",
    "  max_grad_norm=1.0,                     # clip gradient norm to 1.0\n",
    "  \n",
    "  fp16=True,                             # use float16 mixed precision training\n",
    "  quantization_bit=4,                    # use 4-bit QLoRA  \n",
    "  #use_liger_kernel=True,\n",
    "  #quantization_device_map=\"auto\",\n",
    "  \n",
    "  #load_best_model_at_end=True,\n",
    "  #metric_for_best_model=\"eval_loss\",\n",
    "  #save_strategy=\"epoch\",\n",
    "  #eval_strategy=\"epoch\",\n",
    "  logging_steps=10,                      # log every 10 steps\n",
    "  save_steps=5000,                       # save checkpoint every 1000 steps    \n",
    "  logging_dir=str(LOGGING_DIR),\n",
    "  \n",
    "  #use_unsloth=True,\n",
    "  report_to=\"tensorboard\"                       # discards wandb\n",
    "\n",
    ")"
   ]
  },
  {
   "cell_type": "code",
   "execution_count": 55,
   "metadata": {},
   "outputs": [],
   "source": [
    "json.dump(args, open(train_file, \"w\", encoding=\"utf-8\"), indent=2)"
   ]
  },
  {
   "cell_type": "code",
   "execution_count": 56,
   "metadata": {},
   "outputs": [],
   "source": [
    "p = subprocess.Popen([\"llamafactory-cli\", \"train\", train_file], cwd=LLAMA_FACTORY_DIR)"
   ]
  },
  {
   "cell_type": "code",
   "execution_count": 57,
   "metadata": {},
   "outputs": [
    {
     "name": "stdout",
     "output_type": "stream",
     "text": [
      "11/15/2024 11:58:53 - INFO - llamafactory.cli - Initializing distributed tasks at: 127.0.0.1:29776\n"
     ]
    },
    {
     "name": "stderr",
     "output_type": "stream",
     "text": [
      "W1115 11:58:54.766000 140071530825024 torch/distributed/run.py:779] \n",
      "W1115 11:58:54.766000 140071530825024 torch/distributed/run.py:779] *****************************************\n",
      "W1115 11:58:54.766000 140071530825024 torch/distributed/run.py:779] Setting OMP_NUM_THREADS environment variable for each process to be 1 in default, to avoid your system being overloaded, please further tune the variable for optimal performance in your application as needed. \n",
      "W1115 11:58:54.766000 140071530825024 torch/distributed/run.py:779] *****************************************\n"
     ]
    },
    {
     "name": "stdout",
     "output_type": "stream",
     "text": [
      "11/15/2024 11:59:00 - WARNING - llamafactory.hparams.parser - We recommend enable `upcast_layernorm` in quantized training.\n",
      "11/15/2024 11:59:00 - WARNING - llamafactory.hparams.parser - `ddp_find_unused_parameters` needs to be set as False for LoRA in DDP training.\n",
      "11/15/2024 11:59:00 - INFO - llamafactory.hparams.parser - Process rank: 0, device: cuda:0, n_gpu: 1, distributed training: True, compute dtype: torch.float16\n",
      "11/15/2024 11:59:00 - WARNING - llamafactory.hparams.parser - We recommend enable `upcast_layernorm` in quantized training.\n",
      "11/15/2024 11:59:00 - WARNING - llamafactory.hparams.parser - `ddp_find_unused_parameters` needs to be set as False for LoRA in DDP training.\n",
      "11/15/2024 11:59:00 - INFO - llamafactory.hparams.parser - Process rank: 1, device: cuda:1, n_gpu: 1, distributed training: True, compute dtype: torch.float16\n"
     ]
    },
    {
     "name": "stderr",
     "output_type": "stream",
     "text": [
      "[INFO|configuration_utils.py:672] 2024-11-15 11:59:00,690 >> loading configuration file config.json from cache at /Utilisateurs/umushtaq/.cache/huggingface/hub/models--unsloth--llama-3-8b-Instruct-bnb-4bit/snapshots/f296897830363557c84cc4a942c2cd1f91818ae4/config.json\n",
      "[INFO|configuration_utils.py:739] 2024-11-15 11:59:00,691 >> Model config LlamaConfig {\n",
      "  \"_name_or_path\": \"unsloth/llama-3-8b-Instruct-bnb-4bit\",\n",
      "  \"architectures\": [\n",
      "    \"LlamaForCausalLM\"\n",
      "  ],\n",
      "  \"attention_bias\": false,\n",
      "  \"attention_dropout\": 0.0,\n",
      "  \"bos_token_id\": 128000,\n",
      "  \"eos_token_id\": 128009,\n",
      "  \"head_dim\": 128,\n",
      "  \"hidden_act\": \"silu\",\n",
      "  \"hidden_size\": 4096,\n",
      "  \"initializer_range\": 0.02,\n",
      "  \"intermediate_size\": 14336,\n",
      "  \"max_position_embeddings\": 8192,\n",
      "  \"mlp_bias\": false,\n",
      "  \"model_type\": \"llama\",\n",
      "  \"num_attention_heads\": 32,\n",
      "  \"num_hidden_layers\": 32,\n",
      "  \"num_key_value_heads\": 8,\n",
      "  \"pad_token_id\": 128255,\n",
      "  \"pretraining_tp\": 1,\n",
      "  \"quantization_config\": {\n",
      "    \"_load_in_4bit\": true,\n",
      "    \"_load_in_8bit\": false,\n",
      "    \"bnb_4bit_compute_dtype\": \"bfloat16\",\n",
      "    \"bnb_4bit_quant_storage\": \"uint8\",\n",
      "    \"bnb_4bit_quant_type\": \"nf4\",\n",
      "    \"bnb_4bit_use_double_quant\": true,\n",
      "    \"llm_int8_enable_fp32_cpu_offload\": false,\n",
      "    \"llm_int8_has_fp16_weight\": false,\n",
      "    \"llm_int8_skip_modules\": null,\n",
      "    \"llm_int8_threshold\": 6.0,\n",
      "    \"load_in_4bit\": true,\n",
      "    \"load_in_8bit\": false,\n",
      "    \"quant_method\": \"bitsandbytes\"\n",
      "  },\n",
      "  \"rms_norm_eps\": 1e-05,\n",
      "  \"rope_scaling\": null,\n",
      "  \"rope_theta\": 500000.0,\n",
      "  \"tie_word_embeddings\": false,\n",
      "  \"torch_dtype\": \"bfloat16\",\n",
      "  \"transformers_version\": \"4.45.0\",\n",
      "  \"unsloth_version\": \"2024.9\",\n",
      "  \"use_cache\": true,\n",
      "  \"vocab_size\": 128256\n",
      "}\n",
      "\n",
      "[INFO|tokenization_utils_base.py:2214] 2024-11-15 11:59:00,867 >> loading file tokenizer.json from cache at /Utilisateurs/umushtaq/.cache/huggingface/hub/models--unsloth--llama-3-8b-Instruct-bnb-4bit/snapshots/f296897830363557c84cc4a942c2cd1f91818ae4/tokenizer.json\n",
      "[INFO|tokenization_utils_base.py:2214] 2024-11-15 11:59:00,867 >> loading file tokenizer.model from cache at None\n",
      "[INFO|tokenization_utils_base.py:2214] 2024-11-15 11:59:00,867 >> loading file added_tokens.json from cache at None\n",
      "[INFO|tokenization_utils_base.py:2214] 2024-11-15 11:59:00,867 >> loading file special_tokens_map.json from cache at /Utilisateurs/umushtaq/.cache/huggingface/hub/models--unsloth--llama-3-8b-Instruct-bnb-4bit/snapshots/f296897830363557c84cc4a942c2cd1f91818ae4/special_tokens_map.json\n",
      "[INFO|tokenization_utils_base.py:2214] 2024-11-15 11:59:00,867 >> loading file tokenizer_config.json from cache at /Utilisateurs/umushtaq/.cache/huggingface/hub/models--unsloth--llama-3-8b-Instruct-bnb-4bit/snapshots/f296897830363557c84cc4a942c2cd1f91818ae4/tokenizer_config.json\n",
      "[INFO|tokenization_utils_base.py:2478] 2024-11-15 11:59:01,363 >> Special tokens have been added in the vocabulary, make sure the associated word embeddings are fine-tuned or trained.\n",
      "[INFO|configuration_utils.py:672] 2024-11-15 11:59:01,848 >> loading configuration file config.json from cache at /Utilisateurs/umushtaq/.cache/huggingface/hub/models--unsloth--llama-3-8b-Instruct-bnb-4bit/snapshots/f296897830363557c84cc4a942c2cd1f91818ae4/config.json\n",
      "[INFO|configuration_utils.py:739] 2024-11-15 11:59:01,850 >> Model config LlamaConfig {\n",
      "  \"_name_or_path\": \"unsloth/llama-3-8b-Instruct-bnb-4bit\",\n",
      "  \"architectures\": [\n",
      "    \"LlamaForCausalLM\"\n",
      "  ],\n",
      "  \"attention_bias\": false,\n",
      "  \"attention_dropout\": 0.0,\n",
      "  \"bos_token_id\": 128000,\n",
      "  \"eos_token_id\": 128009,\n",
      "  \"head_dim\": 128,\n",
      "  \"hidden_act\": \"silu\",\n",
      "  \"hidden_size\": 4096,\n",
      "  \"initializer_range\": 0.02,\n",
      "  \"intermediate_size\": 14336,\n",
      "  \"max_position_embeddings\": 8192,\n",
      "  \"mlp_bias\": false,\n",
      "  \"model_type\": \"llama\",\n",
      "  \"num_attention_heads\": 32,\n",
      "  \"num_hidden_layers\": 32,\n",
      "  \"num_key_value_heads\": 8,\n",
      "  \"pad_token_id\": 128255,\n",
      "  \"pretraining_tp\": 1,\n",
      "  \"quantization_config\": {\n",
      "    \"_load_in_4bit\": true,\n",
      "    \"_load_in_8bit\": false,\n",
      "    \"bnb_4bit_compute_dtype\": \"bfloat16\",\n",
      "    \"bnb_4bit_quant_storage\": \"uint8\",\n",
      "    \"bnb_4bit_quant_type\": \"nf4\",\n",
      "    \"bnb_4bit_use_double_quant\": true,\n",
      "    \"llm_int8_enable_fp32_cpu_offload\": false,\n",
      "    \"llm_int8_has_fp16_weight\": false,\n",
      "    \"llm_int8_skip_modules\": null,\n",
      "    \"llm_int8_threshold\": 6.0,\n",
      "    \"load_in_4bit\": true,\n",
      "    \"load_in_8bit\": false,\n",
      "    \"quant_method\": \"bitsandbytes\"\n",
      "  },\n",
      "  \"rms_norm_eps\": 1e-05,\n",
      "  \"rope_scaling\": null,\n",
      "  \"rope_theta\": 500000.0,\n",
      "  \"tie_word_embeddings\": false,\n",
      "  \"torch_dtype\": \"bfloat16\",\n",
      "  \"transformers_version\": \"4.45.0\",\n",
      "  \"unsloth_version\": \"2024.9\",\n",
      "  \"use_cache\": true,\n",
      "  \"vocab_size\": 128256\n",
      "}\n",
      "\n",
      "[INFO|tokenization_utils_base.py:2214] 2024-11-15 11:59:01,969 >> loading file tokenizer.json from cache at /Utilisateurs/umushtaq/.cache/huggingface/hub/models--unsloth--llama-3-8b-Instruct-bnb-4bit/snapshots/f296897830363557c84cc4a942c2cd1f91818ae4/tokenizer.json\n",
      "[INFO|tokenization_utils_base.py:2214] 2024-11-15 11:59:01,969 >> loading file tokenizer.model from cache at None\n",
      "[INFO|tokenization_utils_base.py:2214] 2024-11-15 11:59:01,969 >> loading file added_tokens.json from cache at None\n",
      "[INFO|tokenization_utils_base.py:2214] 2024-11-15 11:59:01,970 >> loading file special_tokens_map.json from cache at /Utilisateurs/umushtaq/.cache/huggingface/hub/models--unsloth--llama-3-8b-Instruct-bnb-4bit/snapshots/f296897830363557c84cc4a942c2cd1f91818ae4/special_tokens_map.json\n",
      "[INFO|tokenization_utils_base.py:2214] 2024-11-15 11:59:01,970 >> loading file tokenizer_config.json from cache at /Utilisateurs/umushtaq/.cache/huggingface/hub/models--unsloth--llama-3-8b-Instruct-bnb-4bit/snapshots/f296897830363557c84cc4a942c2cd1f91818ae4/tokenizer_config.json\n",
      "[INFO|tokenization_utils_base.py:2478] 2024-11-15 11:59:02,629 >> Special tokens have been added in the vocabulary, make sure the associated word embeddings are fine-tuned or trained.\n"
     ]
    },
    {
     "name": "stdout",
     "output_type": "stream",
     "text": [
      "11/15/2024 11:59:02 - INFO - llamafactory.data.template - Replace eos token: <|eot_id|>\n",
      "11/15/2024 11:59:02 - INFO - llamafactory.data.loader - Loading dataset /Utilisateurs/umushtaq/emotion_analysis_comics/finetuning/datasets/comics35_pg_attr_train.json...\n",
      "11/15/2024 11:59:02 - INFO - llamafactory.data.template - Replace eos token: <|eot_id|>\n"
     ]
    },
    {
     "name": "stderr",
     "output_type": "stream",
     "text": [
      "Generating train split: 718 examples [00:00, 9223.50 examples/s]\n",
      "Converting format of dataset: 100%|██████████| 718/718 [00:00<00:00, 10191.34 examples/s]\n"
     ]
    },
    {
     "name": "stdout",
     "output_type": "stream",
     "text": [
      "11/15/2024 11:59:04 - INFO - llamafactory.data.loader - Loading dataset /Utilisateurs/umushtaq/emotion_analysis_comics/finetuning/datasets/comics35_pg_attr_train.json...\n"
     ]
    },
    {
     "name": "stderr",
     "output_type": "stream",
     "text": [
      "Running tokenizer on dataset: 100%|██████████| 718/718 [00:00<00:00, 742.49 examples/s]\n",
      "[INFO|configuration_utils.py:672] 2024-11-15 11:59:05,891 >> loading configuration file config.json from cache at /Utilisateurs/umushtaq/.cache/huggingface/hub/models--unsloth--llama-3-8b-Instruct-bnb-4bit/snapshots/f296897830363557c84cc4a942c2cd1f91818ae4/config.json\n",
      "[INFO|configuration_utils.py:739] 2024-11-15 11:59:05,892 >> Model config LlamaConfig {\n",
      "  \"_name_or_path\": \"unsloth/llama-3-8b-Instruct-bnb-4bit\",\n",
      "  \"architectures\": [\n",
      "    \"LlamaForCausalLM\"\n",
      "  ],\n",
      "  \"attention_bias\": false,\n",
      "  \"attention_dropout\": 0.0,\n",
      "  \"bos_token_id\": 128000,\n",
      "  \"eos_token_id\": 128009,\n",
      "  \"head_dim\": 128,\n",
      "  \"hidden_act\": \"silu\",\n",
      "  \"hidden_size\": 4096,\n",
      "  \"initializer_range\": 0.02,\n",
      "  \"intermediate_size\": 14336,\n",
      "  \"max_position_embeddings\": 8192,\n",
      "  \"mlp_bias\": false,\n",
      "  \"model_type\": \"llama\",\n",
      "  \"num_attention_heads\": 32,\n",
      "  \"num_hidden_layers\": 32,\n",
      "  \"num_key_value_heads\": 8,\n",
      "  \"pad_token_id\": 128255,\n",
      "  \"pretraining_tp\": 1,\n",
      "  \"quantization_config\": {\n",
      "    \"_load_in_4bit\": true,\n",
      "    \"_load_in_8bit\": false,\n",
      "    \"bnb_4bit_compute_dtype\": \"bfloat16\",\n",
      "    \"bnb_4bit_quant_storage\": \"uint8\",\n",
      "    \"bnb_4bit_quant_type\": \"nf4\",\n",
      "    \"bnb_4bit_use_double_quant\": true,\n",
      "    \"llm_int8_enable_fp32_cpu_offload\": false,\n",
      "    \"llm_int8_has_fp16_weight\": false,\n",
      "    \"llm_int8_skip_modules\": null,\n",
      "    \"llm_int8_threshold\": 6.0,\n",
      "    \"load_in_4bit\": true,\n",
      "    \"load_in_8bit\": false,\n",
      "    \"quant_method\": \"bitsandbytes\"\n",
      "  },\n",
      "  \"rms_norm_eps\": 1e-05,\n",
      "  \"rope_scaling\": null,\n",
      "  \"rope_theta\": 500000.0,\n",
      "  \"tie_word_embeddings\": false,\n",
      "  \"torch_dtype\": \"bfloat16\",\n",
      "  \"transformers_version\": \"4.45.0\",\n",
      "  \"unsloth_version\": \"2024.9\",\n",
      "  \"use_cache\": true,\n",
      "  \"vocab_size\": 128256\n",
      "}\n",
      "\n"
     ]
    },
    {
     "name": "stdout",
     "output_type": "stream",
     "text": [
      "training example:\n",
      "input_ids:\n",
      "[128000, 128006, 882, 128007, 271, 14711, 5867, 6082, 18825, 33257, 15766, 271, 2675, 527, 459, 11084, 20356, 6492, 6335, 58394, 304, 20303, 2363, 21976, 23692, 13, 4718, 3465, 374, 311, 24564, 22256, 3095, 323, 10765, 872, 14604, 2262, 382, 30521, 512, 12, 1472, 690, 5371, 279, 2316, 315, 279, 20303, 2363, 198, 12, 1472, 690, 5371, 264, 1160, 315, 22256, 3095, 505, 264, 2199, 304, 279, 20303, 2363, 198, 12, 578, 22256, 685, 1253, 3237, 832, 477, 5361, 21958, 271, 66913, 512, 16, 13, 10852, 3725, 24564, 279, 14604, 2317, 323, 16630, 315, 1855, 22256, 685, 304, 279, 2199, 198, 17, 13, 65647, 8581, 21958, 505, 279, 2768, 6989, 512, 256, 330, 4091, 498, 330, 4338, 70, 592, 498, 330, 69, 686, 498, 330, 83214, 2136, 498, 330, 20370, 9868, 498, 330, 4215, 498, 330, 60668, 702, 18, 13, 1789, 1855, 22256, 685, 304, 279, 2199, 11, 10765, 682, 21958, 3118, 323, 471, 459, 1358, 315, 20356, 18893, 304, 2015, 198, 19, 13, 12040, 1139, 2759, 279, 8244, 14604, 2262, 315, 279, 20303, 2363, 994, 25607, 22256, 685, 21958, 271, 93016, 50, 512, 16, 13, 5560, 27785, 279, 9382, 10212, 3485, 198, 17, 13, 9442, 2011, 387, 264, 4823, 449, 3254, 1401, 330, 2964, 62, 6339, 685, 23319, 41356, 702, 18, 13, 5273, 2011, 387, 459, 1358, 1405, 512, 256, 482, 9062, 2449, 374, 459, 1358, 315, 21958, 369, 832, 22256, 685, 198, 256, 482, 7365, 9248, 279, 1988, 22256, 3095, 2015, 198, 256, 482, 29911, 21958, 527, 5535, 824, 22256, 685, 198, 19, 13, 2360, 41941, 11, 1193, 4823, 2612, 271, 99843, 512, 12, 9062, 1358, 2449, 34310, 311, 832, 22256, 685, 198, 12, 3861, 22256, 685, 649, 617, 5361, 21958, 198, 12, 87477, 4839, 43529, 323, 1162, 315, 20356, 9382, 198, 12, 13969, 21958, 304, 18893, 1524, 369, 3254, 21958, 1432, 7184, 24564, 1521, 220, 605, 22256, 3095, 304, 264, 2199, 505, 279, 20303, 2363, 25, 84474, 9130, 271, 16, 13, 10245, 650, 3015, 4534, 1753, 99550, 1507, 3247, 50297, 7354, 6483, 50, 3083, 18725, 6570, 6005, 50, 1981, 720, 17, 13, 4696, 8871, 393, 1899, 35457, 18725, 7354, 58376, 2843, 1112, 25832, 1750, 6486, 1981, 3651, 23214, 8871, 7354, 16929, 4716, 61094, 627, 18, 13, 18725, 72297, 4999, 19, 13, 54233, 4999, 20, 13, 11155, 358, 19102, 4276, 6969, 4157, 35, 10245, 29637, 39023, 13398, 10245, 25404, 5257, 36757, 8871, 480, 1308, 12073, 4999, 21, 13, 11947, 984, 386, 33937, 4999, 22, 13, 358, 19102, 7837, 36, 5257, 3501, 48, 313, 4999, 23, 13, 38535, 7233, 24, 13, 1198, 1669, 26336, 30, 4999, 605, 13, 5782, 0, 5782, 0, 128009, 128006, 78191, 128007, 271, 5018, 2964, 62, 6339, 3095, 23319, 41356, 794, 79786, 4091, 8073, 4482, 4091, 8073, 4482, 69, 686, 8073, 4482, 69, 686, 8073, 4482, 69, 686, 498, 330, 83214, 2136, 8073, 4482, 83214, 2136, 8073, 4482, 4091, 8073, 4482, 20370, 9868, 8073, 4482, 20370, 9868, 8073, 4482, 69, 686, 498, 330, 20370, 9868, 1365, 14316, 128009]\n",
      "inputs:\n",
      "<|begin_of_text|><|start_header_id|>user<|end_header_id|>\n",
      "\n",
      "### Emotion Analysis Expert Role\n",
      "\n",
      "You are an advanced emotion analysis expert specializing in comic book dialogue interpretation. Your task is to analyze utterances and identify their emotional content.\n",
      "\n",
      "INPUT:\n",
      "- You will receive the title of the comic book\n",
      "- You will receive a list of utterances from a page in the comic book\n",
      "- The utterance may express one or multiple emotions\n",
      "\n",
      "TASK:\n",
      "1. Carefully analyze the emotional context and tone of each utterance in the page\n",
      "2. Identify applicable emotions from the following classes:\n",
      "   \"anger\", \"disgust\", \"fear\", \"sadness\", \"surprise\", \"joy\", \"neutral\"\n",
      "3. For each utterance in the page, identify all emotions present and return an array of emotion arrays in order\n",
      "4. Take into account the overall emotional content of the comic book when identifying utterance emotions\n",
      "\n",
      "RULES:\n",
      "1. Use ONLY the labels listed above\n",
      "2. Output must be a JSON with single key \"page_utterance_emotions\"\n",
      "3. Value must be an array where:\n",
      "   - Each element is an array of emotions for one utterance\n",
      "   - Order matches the input utterances order\n",
      "   - Multiple emotions are allowed per utterance\n",
      "4. No explanations, only JSON output\n",
      "\n",
      "IMPORTANT:\n",
      "- Each array element corresponds to one utterance\n",
      "- One utterance can have multiple emotions\n",
      "- Maintain exact spelling and case of emotion labels\n",
      "- Keep emotions in arrays even for single emotions\n",
      "\n",
      "\n",
      "Now analyze these 10 utterances in a page from the comic book: Jurassic League\n",
      "\n",
      "1. THIS VILE THING ATTACKED THE SMALL BEASTS OF MY SHORES… \n",
      "2. … IT PUNCHED MY BEAUTIFUL MATILDA… AND NOW IT BEGS FOR LIFE.\n",
      "3. MY MASTER!\n",
      "4. PLEASE!\n",
      "5. BUT I HAVE NOT CHASED THIS MONSTER ALL THIS WAY TO LET IT GROVEL!\n",
      "6. HEAL MEEE!\n",
      "7. I HAVE COME TO CONQ--!\n",
      "8. WHAT--\n",
      "9. --IS THAT?!\n",
      "10. NO! NO!<|eot_id|><|start_header_id|>assistant<|end_header_id|>\n",
      "\n",
      "{\"page_utterances_emotions\": [[\"anger\"], [\"anger\"], [\"fear\"], [\"fear\"], [\"fear\", \"sadness\"], [\"sadness\"], [\"anger\"], [\"surprise\"], [\"surprise\"], [\"fear\", \"surprise\"]]}<|eot_id|>\n",
      "label_ids:\n",
      "[-100, -100, -100, -100, -100, -100, -100, -100, -100, -100, -100, -100, -100, -100, -100, -100, -100, -100, -100, -100, -100, -100, -100, -100, -100, -100, -100, -100, -100, -100, -100, -100, -100, -100, -100, -100, -100, -100, -100, -100, -100, -100, -100, -100, -100, -100, -100, -100, -100, -100, -100, -100, -100, -100, -100, -100, -100, -100, -100, -100, -100, -100, -100, -100, -100, -100, -100, -100, -100, -100, -100, -100, -100, -100, -100, -100, -100, -100, -100, -100, -100, -100, -100, -100, -100, -100, -100, -100, -100, -100, -100, -100, -100, -100, -100, -100, -100, -100, -100, -100, -100, -100, -100, -100, -100, -100, -100, -100, -100, -100, -100, -100, -100, -100, -100, -100, -100, -100, -100, -100, -100, -100, -100, -100, -100, -100, -100, -100, -100, -100, -100, -100, -100, -100, -100, -100, -100, -100, -100, -100, -100, -100, -100, -100, -100, -100, -100, -100, -100, -100, -100, -100, -100, -100, -100, -100, -100, -100, -100, -100, -100, -100, -100, -100, -100, -100, -100, -100, -100, -100, -100, -100, -100, -100, -100, -100, -100, -100, -100, -100, -100, -100, -100, -100, -100, -100, -100, -100, -100, -100, -100, -100, -100, -100, -100, -100, -100, -100, -100, -100, -100, -100, -100, -100, -100, -100, -100, -100, -100, -100, -100, -100, -100, -100, -100, -100, -100, -100, -100, -100, -100, -100, -100, -100, -100, -100, -100, -100, -100, -100, -100, -100, -100, -100, -100, -100, -100, -100, -100, -100, -100, -100, -100, -100, -100, -100, -100, -100, -100, -100, -100, -100, -100, -100, -100, -100, -100, -100, -100, -100, -100, -100, -100, -100, -100, -100, -100, -100, -100, -100, -100, -100, -100, -100, -100, -100, -100, -100, -100, -100, -100, -100, -100, -100, -100, -100, -100, -100, -100, -100, -100, -100, -100, -100, -100, -100, -100, -100, -100, -100, -100, -100, -100, -100, -100, -100, -100, -100, -100, -100, -100, -100, -100, -100, -100, -100, -100, -100, -100, -100, -100, -100, -100, -100, -100, -100, -100, -100, -100, -100, -100, -100, -100, -100, -100, -100, -100, -100, -100, -100, -100, -100, -100, -100, -100, -100, -100, -100, -100, -100, -100, -100, -100, -100, -100, -100, -100, -100, -100, -100, -100, -100, -100, -100, -100, -100, -100, -100, -100, -100, -100, -100, -100, -100, -100, -100, -100, -100, -100, -100, -100, -100, -100, -100, -100, -100, -100, -100, -100, -100, -100, -100, -100, -100, -100, -100, -100, -100, -100, -100, -100, -100, -100, -100, -100, -100, -100, -100, -100, -100, -100, -100, -100, -100, -100, -100, -100, -100, -100, -100, -100, -100, -100, -100, -100, -100, -100, -100, -100, -100, -100, -100, -100, -100, -100, -100, -100, 5018, 2964, 62, 6339, 3095, 23319, 41356, 794, 79786, 4091, 8073, 4482, 4091, 8073, 4482, 69, 686, 8073, 4482, 69, 686, 8073, 4482, 69, 686, 498, 330, 83214, 2136, 8073, 4482, 83214, 2136, 8073, 4482, 4091, 8073, 4482, 20370, 9868, 8073, 4482, 20370, 9868, 8073, 4482, 69, 686, 498, 330, 20370, 9868, 1365, 14316, 128009]\n",
      "labels:\n",
      "{\"page_utterances_emotions\": [[\"anger\"], [\"anger\"], [\"fear\"], [\"fear\"], [\"fear\", \"sadness\"], [\"sadness\"], [\"anger\"], [\"surprise\"], [\"surprise\"], [\"fear\", \"surprise\"]]}<|eot_id|>\n",
      "11/15/2024 11:59:05 - WARNING - llamafactory.model.model_utils.quantization - `quantization_bit` will not affect on the PTQ-quantized models.\n",
      "11/15/2024 11:59:05 - INFO - llamafactory.model.model_utils.quantization - Loading ?-bit BITSANDBYTES-quantized model.\n"
     ]
    },
    {
     "name": "stderr",
     "output_type": "stream",
     "text": [
      "[WARNING|quantization_config.py:400] 2024-11-15 11:59:05,968 >> Unused kwargs: ['_load_in_4bit', '_load_in_8bit', 'quant_method']. These kwargs are not used in <class 'transformers.utils.quantization_config.BitsAndBytesConfig'>.\n",
      "Unused kwargs: ['_load_in_4bit', '_load_in_8bit', 'quant_method']. These kwargs are not used in <class 'transformers.utils.quantization_config.BitsAndBytesConfig'>.\n"
     ]
    },
    {
     "name": "stdout",
     "output_type": "stream",
     "text": [
      "11/15/2024 11:59:06 - WARNING - llamafactory.model.model_utils.quantization - `quantization_bit` will not affect on the PTQ-quantized models.\n",
      "11/15/2024 11:59:06 - INFO - llamafactory.model.model_utils.quantization - Loading ?-bit BITSANDBYTES-quantized model.\n"
     ]
    },
    {
     "name": "stderr",
     "output_type": "stream",
     "text": [
      "[INFO|modeling_utils.py:3726] 2024-11-15 11:59:06,224 >> loading weights file model.safetensors from cache at /Utilisateurs/umushtaq/.cache/huggingface/hub/models--unsloth--llama-3-8b-Instruct-bnb-4bit/snapshots/f296897830363557c84cc4a942c2cd1f91818ae4/model.safetensors\n",
      "[INFO|modeling_utils.py:1622] 2024-11-15 11:59:06,273 >> Instantiating LlamaForCausalLM model under default dtype torch.float16.\n",
      "[INFO|configuration_utils.py:1099] 2024-11-15 11:59:06,278 >> Generate config GenerationConfig {\n",
      "  \"bos_token_id\": 128000,\n",
      "  \"eos_token_id\": 128009,\n",
      "  \"pad_token_id\": 128255\n",
      "}\n",
      "\n",
      "[INFO|modeling_utils.py:4568] 2024-11-15 11:59:09,937 >> All model checkpoint weights were used when initializing LlamaForCausalLM.\n",
      "\n",
      "[INFO|modeling_utils.py:4576] 2024-11-15 11:59:09,938 >> All the weights of LlamaForCausalLM were initialized from the model checkpoint at unsloth/llama-3-8b-Instruct-bnb-4bit.\n",
      "If your task is similar to the task the model of the checkpoint was trained on, you can already use LlamaForCausalLM for predictions without further training.\n",
      "[INFO|configuration_utils.py:1054] 2024-11-15 11:59:10,060 >> loading configuration file generation_config.json from cache at /Utilisateurs/umushtaq/.cache/huggingface/hub/models--unsloth--llama-3-8b-Instruct-bnb-4bit/snapshots/f296897830363557c84cc4a942c2cd1f91818ae4/generation_config.json\n",
      "[INFO|configuration_utils.py:1099] 2024-11-15 11:59:10,060 >> Generate config GenerationConfig {\n",
      "  \"bos_token_id\": 128000,\n",
      "  \"do_sample\": true,\n",
      "  \"eos_token_id\": [\n",
      "    128001,\n",
      "    128009\n",
      "  ],\n",
      "  \"max_length\": 8192,\n",
      "  \"pad_token_id\": 128255,\n",
      "  \"temperature\": 0.6,\n",
      "  \"top_p\": 0.9\n",
      "}\n",
      "\n"
     ]
    },
    {
     "name": "stdout",
     "output_type": "stream",
     "text": [
      "11/15/2024 11:59:10 - INFO - llamafactory.model.model_utils.checkpointing - Gradient checkpointing enabled.\n",
      "11/15/2024 11:59:10 - INFO - llamafactory.model.model_utils.attention - Using torch SDPA for faster training and inference.\n",
      "11/15/2024 11:59:10 - INFO - llamafactory.model.adapter - Upcasting trainable params to float32.\n",
      "11/15/2024 11:59:10 - INFO - llamafactory.model.adapter - Fine-tuning method: LoRA\n",
      "11/15/2024 11:59:10 - INFO - llamafactory.model.model_utils.misc - Found linear modules: gate_proj,up_proj,v_proj,k_proj,o_proj,q_proj,down_proj\n",
      "11/15/2024 11:59:10 - INFO - llamafactory.model.model_utils.checkpointing - Gradient checkpointing enabled.\n",
      "11/15/2024 11:59:10 - INFO - llamafactory.model.model_utils.attention - Using torch SDPA for faster training and inference.\n",
      "11/15/2024 11:59:10 - INFO - llamafactory.model.adapter - Upcasting trainable params to float32.\n",
      "11/15/2024 11:59:10 - INFO - llamafactory.model.adapter - Fine-tuning method: LoRA\n",
      "11/15/2024 11:59:10 - INFO - llamafactory.model.model_utils.misc - Found linear modules: k_proj,o_proj,down_proj,up_proj,v_proj,q_proj,gate_proj\n",
      "11/15/2024 11:59:10 - INFO - llamafactory.model.loader - trainable params: 20,971,520 || all params: 8,051,232,768 || trainable%: 0.2605\n",
      "11/15/2024 11:59:10 - INFO - llamafactory.model.loader - trainable params: 20,971,520 || all params: 8,051,232,768 || trainable%: 0.2605\n"
     ]
    },
    {
     "name": "stderr",
     "output_type": "stream",
     "text": [
      "/Utilisateurs/umushtaq/.conda/envs/er_nb_env/lib/python3.11/site-packages/accelerate/accelerator.py:494: FutureWarning: `torch.cuda.amp.GradScaler(args...)` is deprecated. Please use `torch.amp.GradScaler('cuda', args...)` instead.\n",
      "  self.scaler = torch.cuda.amp.GradScaler(**kwargs)\n",
      "/Utilisateurs/umushtaq/.conda/envs/er_nb_env/lib/python3.11/site-packages/accelerate/accelerator.py:494: FutureWarning: `torch.cuda.amp.GradScaler(args...)` is deprecated. Please use `torch.amp.GradScaler('cuda', args...)` instead.\n",
      "  self.scaler = torch.cuda.amp.GradScaler(**kwargs)\n",
      "[INFO|trainer.py:667] 2024-11-15 11:59:10,970 >> Using auto half precision backend\n"
     ]
    },
    {
     "name": "stdout",
     "output_type": "stream",
     "text": [
      "11/15/2024 11:59:11 - INFO - llamafactory.train.trainer_utils - Using LoRA+ optimizer with loraplus lr ratio 16.00.\n",
      "11/15/2024 11:59:11 - INFO - llamafactory.train.trainer_utils - Using LoRA+ optimizer with loraplus lr ratio 16.00.\n"
     ]
    },
    {
     "name": "stderr",
     "output_type": "stream",
     "text": [
      "[INFO|trainer.py:2243] 2024-11-15 11:59:12,174 >> ***** Running training *****\n",
      "[INFO|trainer.py:2244] 2024-11-15 11:59:12,174 >>   Num examples = 646\n",
      "[INFO|trainer.py:2245] 2024-11-15 11:59:12,174 >>   Num Epochs = 10\n",
      "[INFO|trainer.py:2246] 2024-11-15 11:59:12,174 >>   Instantaneous batch size per device = 8\n",
      "[INFO|trainer.py:2249] 2024-11-15 11:59:12,174 >>   Total train batch size (w. parallel, distributed & accumulation) = 64\n",
      "[INFO|trainer.py:2250] 2024-11-15 11:59:12,174 >>   Gradient Accumulation steps = 4\n",
      "[INFO|trainer.py:2251] 2024-11-15 11:59:12,174 >>   Total optimization steps = 100\n",
      "[INFO|trainer.py:2252] 2024-11-15 11:59:12,179 >>   Number of trainable parameters = 20,971,520\n",
      "  0%|          | 0/100 [00:00<?, ?it/s]/Utilisateurs/umushtaq/.conda/envs/er_nb_env/lib/python3.11/site-packages/torch/utils/checkpoint.py:295: FutureWarning: `torch.cpu.amp.autocast(args...)` is deprecated. Please use `torch.amp.autocast('cpu', args...)` instead.\n",
      "  with torch.enable_grad(), device_autocast_ctx, torch.cpu.amp.autocast(**ctx.cpu_autocast_kwargs):  # type: ignore[attr-defined]\n",
      "/Utilisateurs/umushtaq/.conda/envs/er_nb_env/lib/python3.11/site-packages/torch/utils/checkpoint.py:295: FutureWarning: `torch.cpu.amp.autocast(args...)` is deprecated. Please use `torch.amp.autocast('cpu', args...)` instead.\n",
      "  with torch.enable_grad(), device_autocast_ctx, torch.cpu.amp.autocast(**ctx.cpu_autocast_kwargs):  # type: ignore[attr-defined]\n",
      " 10%|█         | 10/100 [00:57<08:26,  5.63s/it]"
     ]
    },
    {
     "name": "stdout",
     "output_type": "stream",
     "text": [
      "{'loss': 0.6099, 'grad_norm': 0.5264295935630798, 'learning_rate': 5e-05, 'epoch': 0.98}\n"
     ]
    },
    {
     "name": "stderr",
     "output_type": "stream",
     "text": [
      " 20%|██        | 20/100 [01:54<07:28,  5.60s/it]"
     ]
    },
    {
     "name": "stdout",
     "output_type": "stream",
     "text": [
      "{'loss': 0.3388, 'grad_norm': 0.5136253237724304, 'learning_rate': 4.849231551964771e-05, 'epoch': 1.95}\n"
     ]
    },
    {
     "name": "stderr",
     "output_type": "stream",
     "text": [
      " 30%|███       | 30/100 [02:52<06:39,  5.70s/it]"
     ]
    },
    {
     "name": "stdout",
     "output_type": "stream",
     "text": [
      "{'loss': 0.2947, 'grad_norm': 0.5246244072914124, 'learning_rate': 4.415111107797445e-05, 'epoch': 2.93}\n"
     ]
    },
    {
     "name": "stderr",
     "output_type": "stream",
     "text": [
      " 40%|████      | 40/100 [03:50<05:45,  5.76s/it]"
     ]
    },
    {
     "name": "stdout",
     "output_type": "stream",
     "text": [
      "{'loss': 0.2616, 'grad_norm': 0.4301101267337799, 'learning_rate': 3.7500000000000003e-05, 'epoch': 3.9}\n"
     ]
    },
    {
     "name": "stderr",
     "output_type": "stream",
     "text": [
      " 50%|█████     | 50/100 [04:48<04:45,  5.72s/it]"
     ]
    },
    {
     "name": "stdout",
     "output_type": "stream",
     "text": [
      "{'loss': 0.2247, 'grad_norm': 0.6071606874465942, 'learning_rate': 2.9341204441673266e-05, 'epoch': 4.88}\n"
     ]
    },
    {
     "name": "stderr",
     "output_type": "stream",
     "text": [
      " 60%|██████    | 60/100 [05:45<03:50,  5.76s/it]"
     ]
    },
    {
     "name": "stdout",
     "output_type": "stream",
     "text": [
      "{'loss': 0.1721, 'grad_norm': 0.4782882034778595, 'learning_rate': 2.0658795558326743e-05, 'epoch': 5.85}\n"
     ]
    },
    {
     "name": "stderr",
     "output_type": "stream",
     "text": [
      " 70%|███████   | 70/100 [06:43<02:51,  5.70s/it]"
     ]
    },
    {
     "name": "stdout",
     "output_type": "stream",
     "text": [
      "{'loss': 0.1213, 'grad_norm': 0.7319028377532959, 'learning_rate': 1.2500000000000006e-05, 'epoch': 6.83}\n"
     ]
    },
    {
     "name": "stderr",
     "output_type": "stream",
     "text": [
      " 80%|████████  | 80/100 [07:40<01:53,  5.68s/it]"
     ]
    },
    {
     "name": "stdout",
     "output_type": "stream",
     "text": [
      "{'loss': 0.0666, 'grad_norm': 0.6334511637687683, 'learning_rate': 5.848888922025553e-06, 'epoch': 7.8}\n"
     ]
    },
    {
     "name": "stderr",
     "output_type": "stream",
     "text": [
      " 90%|█████████ | 90/100 [08:37<00:56,  5.69s/it]"
     ]
    },
    {
     "name": "stdout",
     "output_type": "stream",
     "text": [
      "{'loss': 0.0374, 'grad_norm': 0.39768508076667786, 'learning_rate': 1.5076844803522922e-06, 'epoch': 8.78}\n"
     ]
    },
    {
     "name": "stderr",
     "output_type": "stream",
     "text": [
      "100%|██████████| 100/100 [09:35<00:00,  5.77s/it][INFO|trainer.py:3705] 2024-11-15 12:08:48,099 >> Saving model checkpoint to /Utilisateurs/umushtaq/emotion_analysis_comics/finetuning/saved_models/comics35_pg_nb_attr_llama-3-8b-Instruct-bnb-4bit/checkpoint-100\n"
     ]
    },
    {
     "name": "stdout",
     "output_type": "stream",
     "text": [
      "{'loss': 0.0257, 'grad_norm': 0.40217772126197815, 'learning_rate': 0.0, 'epoch': 9.76}\n"
     ]
    },
    {
     "name": "stderr",
     "output_type": "stream",
     "text": [
      "[INFO|configuration_utils.py:672] 2024-11-15 12:08:48,688 >> loading configuration file config.json from cache at /Utilisateurs/umushtaq/.cache/huggingface/hub/models--unsloth--llama-3-8b-Instruct-bnb-4bit/snapshots/f296897830363557c84cc4a942c2cd1f91818ae4/config.json\n",
      "[INFO|configuration_utils.py:739] 2024-11-15 12:08:48,689 >> Model config LlamaConfig {\n",
      "  \"_name_or_path\": \"unsloth/llama-3-8b-Instruct\",\n",
      "  \"architectures\": [\n",
      "    \"LlamaForCausalLM\"\n",
      "  ],\n",
      "  \"attention_bias\": false,\n",
      "  \"attention_dropout\": 0.0,\n",
      "  \"bos_token_id\": 128000,\n",
      "  \"eos_token_id\": 128009,\n",
      "  \"head_dim\": 128,\n",
      "  \"hidden_act\": \"silu\",\n",
      "  \"hidden_size\": 4096,\n",
      "  \"initializer_range\": 0.02,\n",
      "  \"intermediate_size\": 14336,\n",
      "  \"max_position_embeddings\": 8192,\n",
      "  \"mlp_bias\": false,\n",
      "  \"model_type\": \"llama\",\n",
      "  \"num_attention_heads\": 32,\n",
      "  \"num_hidden_layers\": 32,\n",
      "  \"num_key_value_heads\": 8,\n",
      "  \"pad_token_id\": 128255,\n",
      "  \"pretraining_tp\": 1,\n",
      "  \"quantization_config\": {\n",
      "    \"_load_in_4bit\": true,\n",
      "    \"_load_in_8bit\": false,\n",
      "    \"bnb_4bit_compute_dtype\": \"bfloat16\",\n",
      "    \"bnb_4bit_quant_storage\": \"uint8\",\n",
      "    \"bnb_4bit_quant_type\": \"nf4\",\n",
      "    \"bnb_4bit_use_double_quant\": true,\n",
      "    \"llm_int8_enable_fp32_cpu_offload\": false,\n",
      "    \"llm_int8_has_fp16_weight\": false,\n",
      "    \"llm_int8_skip_modules\": null,\n",
      "    \"llm_int8_threshold\": 6.0,\n",
      "    \"load_in_4bit\": true,\n",
      "    \"load_in_8bit\": false,\n",
      "    \"quant_method\": \"bitsandbytes\"\n",
      "  },\n",
      "  \"rms_norm_eps\": 1e-05,\n",
      "  \"rope_scaling\": null,\n",
      "  \"rope_theta\": 500000.0,\n",
      "  \"tie_word_embeddings\": false,\n",
      "  \"torch_dtype\": \"bfloat16\",\n",
      "  \"transformers_version\": \"4.45.0\",\n",
      "  \"unsloth_version\": \"2024.9\",\n",
      "  \"use_cache\": true,\n",
      "  \"vocab_size\": 128256\n",
      "}\n",
      "\n",
      "[INFO|tokenization_utils_base.py:2649] 2024-11-15 12:08:49,622 >> tokenizer config file saved in /Utilisateurs/umushtaq/emotion_analysis_comics/finetuning/saved_models/comics35_pg_nb_attr_llama-3-8b-Instruct-bnb-4bit/checkpoint-100/tokenizer_config.json\n",
      "[INFO|tokenization_utils_base.py:2658] 2024-11-15 12:08:49,624 >> Special tokens file saved in /Utilisateurs/umushtaq/emotion_analysis_comics/finetuning/saved_models/comics35_pg_nb_attr_llama-3-8b-Instruct-bnb-4bit/checkpoint-100/special_tokens_map.json\n",
      "[INFO|trainer.py:2505] 2024-11-15 12:08:51,844 >> \n",
      "\n",
      "Training completed. Do not forget to share your model on huggingface.co/models =)\n",
      "\n",
      "\n",
      "100%|██████████| 100/100 [09:39<00:00,  5.79s/it]\n",
      "[INFO|trainer.py:3705] 2024-11-15 12:08:51,850 >> Saving model checkpoint to /Utilisateurs/umushtaq/emotion_analysis_comics/finetuning/saved_models/comics35_pg_nb_attr_llama-3-8b-Instruct-bnb-4bit\n"
     ]
    },
    {
     "name": "stdout",
     "output_type": "stream",
     "text": [
      "{'train_runtime': 579.6655, 'train_samples_per_second': 11.144, 'train_steps_per_second': 0.173, 'train_loss': 0.21527897000312804, 'epoch': 9.76}\n"
     ]
    },
    {
     "name": "stderr",
     "output_type": "stream",
     "text": [
      "[INFO|configuration_utils.py:672] 2024-11-15 12:08:52,291 >> loading configuration file config.json from cache at /Utilisateurs/umushtaq/.cache/huggingface/hub/models--unsloth--llama-3-8b-Instruct-bnb-4bit/snapshots/f296897830363557c84cc4a942c2cd1f91818ae4/config.json\n",
      "[INFO|configuration_utils.py:739] 2024-11-15 12:08:52,292 >> Model config LlamaConfig {\n",
      "  \"_name_or_path\": \"unsloth/llama-3-8b-Instruct\",\n",
      "  \"architectures\": [\n",
      "    \"LlamaForCausalLM\"\n",
      "  ],\n",
      "  \"attention_bias\": false,\n",
      "  \"attention_dropout\": 0.0,\n",
      "  \"bos_token_id\": 128000,\n",
      "  \"eos_token_id\": 128009,\n",
      "  \"head_dim\": 128,\n",
      "  \"hidden_act\": \"silu\",\n",
      "  \"hidden_size\": 4096,\n",
      "  \"initializer_range\": 0.02,\n",
      "  \"intermediate_size\": 14336,\n",
      "  \"max_position_embeddings\": 8192,\n",
      "  \"mlp_bias\": false,\n",
      "  \"model_type\": \"llama\",\n",
      "  \"num_attention_heads\": 32,\n",
      "  \"num_hidden_layers\": 32,\n",
      "  \"num_key_value_heads\": 8,\n",
      "  \"pad_token_id\": 128255,\n",
      "  \"pretraining_tp\": 1,\n",
      "  \"quantization_config\": {\n",
      "    \"_load_in_4bit\": true,\n",
      "    \"_load_in_8bit\": false,\n",
      "    \"bnb_4bit_compute_dtype\": \"bfloat16\",\n",
      "    \"bnb_4bit_quant_storage\": \"uint8\",\n",
      "    \"bnb_4bit_quant_type\": \"nf4\",\n",
      "    \"bnb_4bit_use_double_quant\": true,\n",
      "    \"llm_int8_enable_fp32_cpu_offload\": false,\n",
      "    \"llm_int8_has_fp16_weight\": false,\n",
      "    \"llm_int8_skip_modules\": null,\n",
      "    \"llm_int8_threshold\": 6.0,\n",
      "    \"load_in_4bit\": true,\n",
      "    \"load_in_8bit\": false,\n",
      "    \"quant_method\": \"bitsandbytes\"\n",
      "  },\n",
      "  \"rms_norm_eps\": 1e-05,\n",
      "  \"rope_scaling\": null,\n",
      "  \"rope_theta\": 500000.0,\n",
      "  \"tie_word_embeddings\": false,\n",
      "  \"torch_dtype\": \"bfloat16\",\n",
      "  \"transformers_version\": \"4.45.0\",\n",
      "  \"unsloth_version\": \"2024.9\",\n",
      "  \"use_cache\": true,\n",
      "  \"vocab_size\": 128256\n",
      "}\n",
      "\n",
      "[INFO|tokenization_utils_base.py:2649] 2024-11-15 12:08:53,203 >> tokenizer config file saved in /Utilisateurs/umushtaq/emotion_analysis_comics/finetuning/saved_models/comics35_pg_nb_attr_llama-3-8b-Instruct-bnb-4bit/tokenizer_config.json\n",
      "[INFO|tokenization_utils_base.py:2658] 2024-11-15 12:08:53,204 >> Special tokens file saved in /Utilisateurs/umushtaq/emotion_analysis_comics/finetuning/saved_models/comics35_pg_nb_attr_llama-3-8b-Instruct-bnb-4bit/special_tokens_map.json\n"
     ]
    },
    {
     "name": "stdout",
     "output_type": "stream",
     "text": [
      "***** train metrics *****\n",
      "  epoch                    =      9.7561\n",
      "  total_flos               = 185644162GF\n",
      "  train_loss               =      0.2153\n",
      "  train_runtime            =  0:09:39.66\n",
      "  train_samples_per_second =      11.144\n",
      "  train_steps_per_second   =       0.173\n"
     ]
    },
    {
     "name": "stderr",
     "output_type": "stream",
     "text": [
      "[INFO|modelcard.py:449] 2024-11-15 12:08:53,482 >> Dropping the following result as it does not have all the necessary fields:\n",
      "{'task': {'name': 'Causal Language Modeling', 'type': 'text-generation'}}\n"
     ]
    },
    {
     "data": {
      "text/plain": [
       "0"
      ]
     },
     "execution_count": 57,
     "metadata": {},
     "output_type": "execute_result"
    }
   ],
   "source": [
    "p.wait()"
   ]
  },
  {
   "cell_type": "code",
   "execution_count": 58,
   "metadata": {},
   "outputs": [],
   "source": [
    "args = dict(\n",
    "  model_name_or_path=BASE_MODEL, # use bnb-4bit-quantized Llama-3-8B-Instruct model\n",
    "  adapter_name_or_path=str(OUTPUT_DIR),            # load the saved LoRA adapters\n",
    "  template=\"llama3\",                     # same to the one in training\n",
    "  finetuning_type=\"lora\",                  # same to the one in training\n",
    "  quantization_bit=4,                    # load 4-bit quantized model\n",
    ")"
   ]
  },
  {
   "cell_type": "code",
   "execution_count": 59,
   "metadata": {},
   "outputs": [
    {
     "name": "stderr",
     "output_type": "stream",
     "text": [
      "[INFO|configuration_utils.py:672] 2024-11-15 12:08:55,682 >> loading configuration file config.json from cache at /Utilisateurs/umushtaq/.cache/huggingface/hub/models--unsloth--llama-3-8b-Instruct-bnb-4bit/snapshots/f296897830363557c84cc4a942c2cd1f91818ae4/config.json\n",
      "[INFO|configuration_utils.py:739] 2024-11-15 12:08:55,684 >> Model config LlamaConfig {\n",
      "  \"_name_or_path\": \"unsloth/llama-3-8b-Instruct-bnb-4bit\",\n",
      "  \"architectures\": [\n",
      "    \"LlamaForCausalLM\"\n",
      "  ],\n",
      "  \"attention_bias\": false,\n",
      "  \"attention_dropout\": 0.0,\n",
      "  \"bos_token_id\": 128000,\n",
      "  \"eos_token_id\": 128009,\n",
      "  \"head_dim\": 128,\n",
      "  \"hidden_act\": \"silu\",\n",
      "  \"hidden_size\": 4096,\n",
      "  \"initializer_range\": 0.02,\n",
      "  \"intermediate_size\": 14336,\n",
      "  \"max_position_embeddings\": 8192,\n",
      "  \"mlp_bias\": false,\n",
      "  \"model_type\": \"llama\",\n",
      "  \"num_attention_heads\": 32,\n",
      "  \"num_hidden_layers\": 32,\n",
      "  \"num_key_value_heads\": 8,\n",
      "  \"pad_token_id\": 128255,\n",
      "  \"pretraining_tp\": 1,\n",
      "  \"quantization_config\": {\n",
      "    \"_load_in_4bit\": true,\n",
      "    \"_load_in_8bit\": false,\n",
      "    \"bnb_4bit_compute_dtype\": \"bfloat16\",\n",
      "    \"bnb_4bit_quant_storage\": \"uint8\",\n",
      "    \"bnb_4bit_quant_type\": \"nf4\",\n",
      "    \"bnb_4bit_use_double_quant\": true,\n",
      "    \"llm_int8_enable_fp32_cpu_offload\": false,\n",
      "    \"llm_int8_has_fp16_weight\": false,\n",
      "    \"llm_int8_skip_modules\": null,\n",
      "    \"llm_int8_threshold\": 6.0,\n",
      "    \"load_in_4bit\": true,\n",
      "    \"load_in_8bit\": false,\n",
      "    \"quant_method\": \"bitsandbytes\"\n",
      "  },\n",
      "  \"rms_norm_eps\": 1e-05,\n",
      "  \"rope_scaling\": null,\n",
      "  \"rope_theta\": 500000.0,\n",
      "  \"tie_word_embeddings\": false,\n",
      "  \"torch_dtype\": \"bfloat16\",\n",
      "  \"transformers_version\": \"4.45.0\",\n",
      "  \"unsloth_version\": \"2024.9\",\n",
      "  \"use_cache\": true,\n",
      "  \"vocab_size\": 128256\n",
      "}\n",
      "\n",
      "[INFO|tokenization_utils_base.py:2214] 2024-11-15 12:08:55,805 >> loading file tokenizer.json from cache at /Utilisateurs/umushtaq/.cache/huggingface/hub/models--unsloth--llama-3-8b-Instruct-bnb-4bit/snapshots/f296897830363557c84cc4a942c2cd1f91818ae4/tokenizer.json\n",
      "[INFO|tokenization_utils_base.py:2214] 2024-11-15 12:08:55,806 >> loading file tokenizer.model from cache at None\n",
      "[INFO|tokenization_utils_base.py:2214] 2024-11-15 12:08:55,807 >> loading file added_tokens.json from cache at None\n",
      "[INFO|tokenization_utils_base.py:2214] 2024-11-15 12:08:55,809 >> loading file special_tokens_map.json from cache at /Utilisateurs/umushtaq/.cache/huggingface/hub/models--unsloth--llama-3-8b-Instruct-bnb-4bit/snapshots/f296897830363557c84cc4a942c2cd1f91818ae4/special_tokens_map.json\n",
      "[INFO|tokenization_utils_base.py:2214] 2024-11-15 12:08:55,810 >> loading file tokenizer_config.json from cache at /Utilisateurs/umushtaq/.cache/huggingface/hub/models--unsloth--llama-3-8b-Instruct-bnb-4bit/snapshots/f296897830363557c84cc4a942c2cd1f91818ae4/tokenizer_config.json\n",
      "[INFO|tokenization_utils_base.py:2478] 2024-11-15 12:08:56,164 >> Special tokens have been added in the vocabulary, make sure the associated word embeddings are fine-tuned or trained.\n",
      "[INFO|configuration_utils.py:672] 2024-11-15 12:08:56,624 >> loading configuration file config.json from cache at /Utilisateurs/umushtaq/.cache/huggingface/hub/models--unsloth--llama-3-8b-Instruct-bnb-4bit/snapshots/f296897830363557c84cc4a942c2cd1f91818ae4/config.json\n",
      "[INFO|configuration_utils.py:739] 2024-11-15 12:08:56,626 >> Model config LlamaConfig {\n",
      "  \"_name_or_path\": \"unsloth/llama-3-8b-Instruct-bnb-4bit\",\n",
      "  \"architectures\": [\n",
      "    \"LlamaForCausalLM\"\n",
      "  ],\n",
      "  \"attention_bias\": false,\n",
      "  \"attention_dropout\": 0.0,\n",
      "  \"bos_token_id\": 128000,\n",
      "  \"eos_token_id\": 128009,\n",
      "  \"head_dim\": 128,\n",
      "  \"hidden_act\": \"silu\",\n",
      "  \"hidden_size\": 4096,\n",
      "  \"initializer_range\": 0.02,\n",
      "  \"intermediate_size\": 14336,\n",
      "  \"max_position_embeddings\": 8192,\n",
      "  \"mlp_bias\": false,\n",
      "  \"model_type\": \"llama\",\n",
      "  \"num_attention_heads\": 32,\n",
      "  \"num_hidden_layers\": 32,\n",
      "  \"num_key_value_heads\": 8,\n",
      "  \"pad_token_id\": 128255,\n",
      "  \"pretraining_tp\": 1,\n",
      "  \"quantization_config\": {\n",
      "    \"_load_in_4bit\": true,\n",
      "    \"_load_in_8bit\": false,\n",
      "    \"bnb_4bit_compute_dtype\": \"bfloat16\",\n",
      "    \"bnb_4bit_quant_storage\": \"uint8\",\n",
      "    \"bnb_4bit_quant_type\": \"nf4\",\n",
      "    \"bnb_4bit_use_double_quant\": true,\n",
      "    \"llm_int8_enable_fp32_cpu_offload\": false,\n",
      "    \"llm_int8_has_fp16_weight\": false,\n",
      "    \"llm_int8_skip_modules\": null,\n",
      "    \"llm_int8_threshold\": 6.0,\n",
      "    \"load_in_4bit\": true,\n",
      "    \"load_in_8bit\": false,\n",
      "    \"quant_method\": \"bitsandbytes\"\n",
      "  },\n",
      "  \"rms_norm_eps\": 1e-05,\n",
      "  \"rope_scaling\": null,\n",
      "  \"rope_theta\": 500000.0,\n",
      "  \"tie_word_embeddings\": false,\n",
      "  \"torch_dtype\": \"bfloat16\",\n",
      "  \"transformers_version\": \"4.45.0\",\n",
      "  \"unsloth_version\": \"2024.9\",\n",
      "  \"use_cache\": true,\n",
      "  \"vocab_size\": 128256\n",
      "}\n",
      "\n",
      "[INFO|tokenization_utils_base.py:2214] 2024-11-15 12:08:56,765 >> loading file tokenizer.json from cache at /Utilisateurs/umushtaq/.cache/huggingface/hub/models--unsloth--llama-3-8b-Instruct-bnb-4bit/snapshots/f296897830363557c84cc4a942c2cd1f91818ae4/tokenizer.json\n",
      "[INFO|tokenization_utils_base.py:2214] 2024-11-15 12:08:56,766 >> loading file tokenizer.model from cache at None\n",
      "[INFO|tokenization_utils_base.py:2214] 2024-11-15 12:08:56,767 >> loading file added_tokens.json from cache at None\n",
      "[INFO|tokenization_utils_base.py:2214] 2024-11-15 12:08:56,769 >> loading file special_tokens_map.json from cache at /Utilisateurs/umushtaq/.cache/huggingface/hub/models--unsloth--llama-3-8b-Instruct-bnb-4bit/snapshots/f296897830363557c84cc4a942c2cd1f91818ae4/special_tokens_map.json\n",
      "[INFO|tokenization_utils_base.py:2214] 2024-11-15 12:08:56,770 >> loading file tokenizer_config.json from cache at /Utilisateurs/umushtaq/.cache/huggingface/hub/models--unsloth--llama-3-8b-Instruct-bnb-4bit/snapshots/f296897830363557c84cc4a942c2cd1f91818ae4/tokenizer_config.json\n",
      "[INFO|tokenization_utils_base.py:2478] 2024-11-15 12:08:57,252 >> Special tokens have been added in the vocabulary, make sure the associated word embeddings are fine-tuned or trained.\n"
     ]
    },
    {
     "name": "stdout",
     "output_type": "stream",
     "text": [
      "11/15/2024 12:08:57 - INFO - llamafactory.data.template - Replace eos token: <|eot_id|>\n"
     ]
    },
    {
     "name": "stderr",
     "output_type": "stream",
     "text": [
      "[INFO|configuration_utils.py:672] 2024-11-15 12:08:57,400 >> loading configuration file config.json from cache at /Utilisateurs/umushtaq/.cache/huggingface/hub/models--unsloth--llama-3-8b-Instruct-bnb-4bit/snapshots/f296897830363557c84cc4a942c2cd1f91818ae4/config.json\n",
      "[INFO|configuration_utils.py:739] 2024-11-15 12:08:57,401 >> Model config LlamaConfig {\n",
      "  \"_name_or_path\": \"unsloth/llama-3-8b-Instruct-bnb-4bit\",\n",
      "  \"architectures\": [\n",
      "    \"LlamaForCausalLM\"\n",
      "  ],\n",
      "  \"attention_bias\": false,\n",
      "  \"attention_dropout\": 0.0,\n",
      "  \"bos_token_id\": 128000,\n",
      "  \"eos_token_id\": 128009,\n",
      "  \"head_dim\": 128,\n",
      "  \"hidden_act\": \"silu\",\n",
      "  \"hidden_size\": 4096,\n",
      "  \"initializer_range\": 0.02,\n",
      "  \"intermediate_size\": 14336,\n",
      "  \"max_position_embeddings\": 8192,\n",
      "  \"mlp_bias\": false,\n",
      "  \"model_type\": \"llama\",\n",
      "  \"num_attention_heads\": 32,\n",
      "  \"num_hidden_layers\": 32,\n",
      "  \"num_key_value_heads\": 8,\n",
      "  \"pad_token_id\": 128255,\n",
      "  \"pretraining_tp\": 1,\n",
      "  \"quantization_config\": {\n",
      "    \"_load_in_4bit\": true,\n",
      "    \"_load_in_8bit\": false,\n",
      "    \"bnb_4bit_compute_dtype\": \"bfloat16\",\n",
      "    \"bnb_4bit_quant_storage\": \"uint8\",\n",
      "    \"bnb_4bit_quant_type\": \"nf4\",\n",
      "    \"bnb_4bit_use_double_quant\": true,\n",
      "    \"llm_int8_enable_fp32_cpu_offload\": false,\n",
      "    \"llm_int8_has_fp16_weight\": false,\n",
      "    \"llm_int8_skip_modules\": null,\n",
      "    \"llm_int8_threshold\": 6.0,\n",
      "    \"load_in_4bit\": true,\n",
      "    \"load_in_8bit\": false,\n",
      "    \"quant_method\": \"bitsandbytes\"\n",
      "  },\n",
      "  \"rms_norm_eps\": 1e-05,\n",
      "  \"rope_scaling\": null,\n",
      "  \"rope_theta\": 500000.0,\n",
      "  \"tie_word_embeddings\": false,\n",
      "  \"torch_dtype\": \"bfloat16\",\n",
      "  \"transformers_version\": \"4.45.0\",\n",
      "  \"unsloth_version\": \"2024.9\",\n",
      "  \"use_cache\": true,\n",
      "  \"vocab_size\": 128256\n",
      "}\n",
      "\n"
     ]
    },
    {
     "name": "stdout",
     "output_type": "stream",
     "text": [
      "11/15/2024 12:08:57 - WARNING - llamafactory.model.model_utils.quantization - `quantization_bit` will not affect on the PTQ-quantized models.\n",
      "11/15/2024 12:08:57 - INFO - llamafactory.model.model_utils.quantization - Loading ?-bit BITSANDBYTES-quantized model.\n",
      "11/15/2024 12:08:57 - INFO - llamafactory.model.patcher - Using KV cache for faster generation.\n"
     ]
    },
    {
     "name": "stderr",
     "output_type": "stream",
     "text": [
      "[WARNING|quantization_config.py:400] 2024-11-15 12:08:57,408 >> Unused kwargs: ['_load_in_4bit', '_load_in_8bit', 'quant_method']. These kwargs are not used in <class 'transformers.utils.quantization_config.BitsAndBytesConfig'>.\n",
      "[INFO|modeling_utils.py:3726] 2024-11-15 12:08:57,413 >> loading weights file model.safetensors from cache at /Utilisateurs/umushtaq/.cache/huggingface/hub/models--unsloth--llama-3-8b-Instruct-bnb-4bit/snapshots/f296897830363557c84cc4a942c2cd1f91818ae4/model.safetensors\n",
      "[INFO|modeling_utils.py:1622] 2024-11-15 12:08:57,468 >> Instantiating LlamaForCausalLM model under default dtype torch.bfloat16.\n",
      "[INFO|configuration_utils.py:1099] 2024-11-15 12:08:57,476 >> Generate config GenerationConfig {\n",
      "  \"bos_token_id\": 128000,\n",
      "  \"eos_token_id\": 128009,\n",
      "  \"pad_token_id\": 128255\n",
      "}\n",
      "\n",
      "[INFO|quantizer_bnb_4bit.py:122] 2024-11-15 12:08:57,924 >> target_dtype {target_dtype} is replaced by `CustomDtype.INT4` for 4-bit BnB quantization\n",
      "[INFO|modeling_utils.py:4568] 2024-11-15 12:09:01,860 >> All model checkpoint weights were used when initializing LlamaForCausalLM.\n",
      "\n",
      "[INFO|modeling_utils.py:4576] 2024-11-15 12:09:01,861 >> All the weights of LlamaForCausalLM were initialized from the model checkpoint at unsloth/llama-3-8b-Instruct-bnb-4bit.\n",
      "If your task is similar to the task the model of the checkpoint was trained on, you can already use LlamaForCausalLM for predictions without further training.\n",
      "[INFO|configuration_utils.py:1054] 2024-11-15 12:09:01,978 >> loading configuration file generation_config.json from cache at /Utilisateurs/umushtaq/.cache/huggingface/hub/models--unsloth--llama-3-8b-Instruct-bnb-4bit/snapshots/f296897830363557c84cc4a942c2cd1f91818ae4/generation_config.json\n",
      "[INFO|configuration_utils.py:1099] 2024-11-15 12:09:01,979 >> Generate config GenerationConfig {\n",
      "  \"bos_token_id\": 128000,\n",
      "  \"do_sample\": true,\n",
      "  \"eos_token_id\": [\n",
      "    128001,\n",
      "    128009\n",
      "  ],\n",
      "  \"max_length\": 8192,\n",
      "  \"pad_token_id\": 128255,\n",
      "  \"temperature\": 0.6,\n",
      "  \"top_p\": 0.9\n",
      "}\n",
      "\n"
     ]
    },
    {
     "name": "stdout",
     "output_type": "stream",
     "text": [
      "11/15/2024 12:09:02 - INFO - llamafactory.model.model_utils.attention - Using torch SDPA for faster training and inference.\n",
      "11/15/2024 12:09:03 - INFO - llamafactory.model.adapter - Loaded adapter(s): /Utilisateurs/umushtaq/emotion_analysis_comics/finetuning/saved_models/comics35_pg_nb_attr_llama-3-8b-Instruct-bnb-4bit\n",
      "11/15/2024 12:09:03 - INFO - llamafactory.model.loader - all params: 8,051,232,768\n"
     ]
    }
   ],
   "source": [
    "model = ChatModel(args)"
   ]
  },
  {
   "cell_type": "code",
   "execution_count": 60,
   "metadata": {},
   "outputs": [
    {
     "data": {
      "text/plain": [
       "<llamafactory.chat.hf_engine.HuggingfaceEngine at 0x7f75dcf1e8d0>"
      ]
     },
     "execution_count": 60,
     "metadata": {},
     "output_type": "execute_result"
    }
   ],
   "source": [
    "model.engine"
   ]
  },
  {
   "cell_type": "code",
   "execution_count": 61,
   "metadata": {},
   "outputs": [
    {
     "data": {
      "text/plain": [
       "'huggingface'"
      ]
     },
     "execution_count": 61,
     "metadata": {},
     "output_type": "execute_result"
    }
   ],
   "source": [
    "model.engine_type"
   ]
  },
  {
   "cell_type": "code",
   "execution_count": 62,
   "metadata": {},
   "outputs": [],
   "source": [
    "with open(test_dataset_file, \"r+\") as fh:\n",
    "    test_dataset = json.load(fh)\n",
    "\n",
    "test_prompts = []\n",
    "test_grounds = []\n",
    "\n",
    "for sample in test_dataset:\n",
    "    test_prompts.append(sample[\"instruction\"] + sample[\"input\"])\n",
    "    #test_prompts.append(sample[\"input\"])\n",
    "    test_grounds.append(sample[\"output\"])"
   ]
  },
  {
   "cell_type": "code",
   "execution_count": 63,
   "metadata": {},
   "outputs": [],
   "source": [
    "test_predictions = []"
   ]
  },
  {
   "cell_type": "code",
   "execution_count": null,
   "metadata": {},
   "outputs": [],
   "source": []
  },
  {
   "cell_type": "code",
   "execution_count": 64,
   "metadata": {},
   "outputs": [
    {
     "name": "stderr",
     "output_type": "stream",
     "text": [
      "Running inferences ...: 100%|██████████| 156/156 [10:10<00:00,  3.92s/it]\n"
     ]
    }
   ],
   "source": [
    "messages = []\n",
    "\n",
    "for prompt in tqdm(test_prompts, desc=\"Running inferences ...\"):\n",
    "    #print(type(prompt))\n",
    "    #messages.append({\"role\": \"user\", \"content\": prompt})\n",
    "    message = [{\"role\": \"user\", \"content\": prompt}]\n",
    "    test_predictions.append(model.chat(message))\n",
    "    #test_predictions.append(model.chat(prompt))"
   ]
  },
  {
   "cell_type": "code",
   "execution_count": 65,
   "metadata": {},
   "outputs": [],
   "source": [
    "# batch_size = 1  # Adjust batch size according to memory and model limitations\n",
    "\n",
    "# # Initialize list to hold predictions\n",
    "# test_predictions = []\n",
    "\n",
    "# # Iterate over test_prompts in batches\n",
    "# for i in tqdm(range(0, len(test_prompts), batch_size), desc=\"Running inferences ...\"):\n",
    "#     # Create a batch of messages\n",
    "#     batch_prompts = test_prompts[i:i + batch_size]\n",
    "    \n",
    "#     # Prepare the messages for the batch\n",
    "#     batch_messages = [[{\"role\": \"user\", \"content\": prompt}] for prompt in batch_prompts]\n",
    "    \n",
    "#     # Perform inference on the batch and store predictions\n",
    "#     for message in batch_messages:\n",
    "#         prediction = model.chat(message)\n",
    "#         test_predictions.append(prediction)  # Collect batch predictions"
   ]
  },
  {
   "cell_type": "code",
   "execution_count": 66,
   "metadata": {},
   "outputs": [
    {
     "data": {
      "text/plain": [
       "156"
      ]
     },
     "execution_count": 66,
     "metadata": {},
     "output_type": "execute_result"
    }
   ],
   "source": [
    "len(test_predictions)"
   ]
  },
  {
   "cell_type": "code",
   "execution_count": 67,
   "metadata": {},
   "outputs": [
    {
     "data": {
      "text/plain": [
       "[[Response(response_text='{\"page_utterances_emotions\": [[\"joy\"], [\"surprise\"], [\"joy\"], [\"joy\"], [\"joy\"], [\"joy\"], [\"surprise\"], [\"anger\"], [\"anger\"], [\"neutral\"], [\"neutral\"]]}', response_length=45, prompt_length=419, finish_reason='stop')],\n",
       " [Response(response_text='{\"page_utterances_emotions\": [[\"joy\"], [\"joy\"], [\"anger\"], [\"anger\"], [\"joy\"], [\"joy\"], [\"anger\", \"sadness\"]]}', response_length=35, prompt_length=563, finish_reason='stop')],\n",
       " [Response(response_text='{\"page_utterances_emotions\": [[\"anger\", \"sadness\"], [\"anger\", \"sadness\"], [\"anger\"], [\"surprise\"], [\"disgust\"], [\"sadness\"], [\"disgust\"], [\"sadness\"], [\"joy\"], [\"joy\"], [\"anger\", \"sadness\"], [\"anger\", \"disgust\"], [\"anger\", \"disgust\"], [\"sadness\"], [\"sadness\", \"joy\"], [\"fear\", \"surprise\"]]}', response_length=97, prompt_length=658, finish_reason='stop')],\n",
       " [Response(response_text='{\"page_utterances_emotions\": [[\"disgust\"], [\"disgust\"], [\"disgust\", \"surprise\"], [\"sadness\"], [\"anger\", \"sadness\"], [\"anger\"], [\"anger\", \"sadness\"], [\"anger\"], [\"anger\", \"sadness\"], [\"anger\"], [\"joy\"], [\"anger\"], [\"joy\"], [\"anger\", \"sadness\"], [\"anger\", \"sadness\"], [\"joy\"], [\"joy\"], [\"joy\"], [\"joy\"], [\"joy\"], [\"anger\", \"surprise\"], [\"anger\", \"surprise\"]]}', response_length=115, prompt_length=747, finish_reason='stop')],\n",
       " [Response(response_text='{\"page_utterances_emotions\": [[\"neutral\"], [\"joy\"], [\"joy\"]]}', response_length=19, prompt_length=396, finish_reason='stop')],\n",
       " [Response(response_text='{\"page_utterances_emotions\": [[\"anger\", \"sadness\"], [\"fear\"], [\"sadness\"], [\"fear\", \"sadness\"], [\"joy\"], [\"sadness\"], [\"fear\", \"sadness\"], [\"sadness\"], [\"joy\"], [\"sadness\"], [\"fear\", \"sadness\"], [\"joy\"], [\"sadness\"], [\"joy\"], [\"joy\"], [\"sadness\"], [\"joy\"], [\"anger\"], [\"anger\"], [\"joy\"]]}', response_length=96, prompt_length=682, finish_reason='stop')],\n",
       " [Response(response_text='{\"page_utterances_emotions\": [[\"anger\", \"sadness\", \"surprise\"], [\"anger\", \"sadness\"], [\"neutral\"], [\"surprise\", \"joy\"], [\"joy\"], [\"surprise\", \"joy\"], [\"surprise\", \"joy\"], [\"surprise\", \"joy\"], [\"joy\"], [\"surprise\", \"joy\"], [\"joy\"], [\"surprise\", \"joy\"], [\"joy\"], [\"sadness\", \"joy\"], [\"joy\"]]}', response_length=95, prompt_length=731, finish_reason='stop')],\n",
       " [Response(response_text='{\"page_utterances_emotions\": [[\"neutral\"], [\"sadness\"], [\"anger\"], [\"neutral\"], [\"sadness\"], [\"anger\", \"surprise\"], [\"anger\", \"surprise\"], [\"anger\", \"surprise\"], [\"anger\"], [\"sadness\"], [\"surprise\"], [\"sadness\", \"joy\"], [\"sadness\", \"joy\"], [\"disgust\"], [\"surprise\"], [\"sadness\"]]}', response_length=86, prompt_length=594, finish_reason='stop')],\n",
       " [Response(response_text='{\"page_utterances_emotions\": [[\"joy\"], [\"surprise\", \"joy\"], [\"joy\"], [\"surprise\"], [\"surprise\", \"joy\"], [\"surprise\", \"joy\"], [\"sadness\"], [\"sadness\"], [\"anger\", \"surprise\"], [\"sadness\"], [\"joy\"], [\"surprise\", \"joy\"]]}', response_length=70, prompt_length=503, finish_reason='stop')],\n",
       " [Response(response_text='{\"page_utterances_emotions\": [[\"joy\"], [\"surprise\"], [\"joy\"], [\"anger\", \"surprise\"], [\"surprise\"], [\"surprise\"], [\"anger\"], [\"anger\"], [\"anger\", \"disgust\"], [\"anger\", \"defensiveness\"], [\"anger\"]]}', response_length=60, prompt_length=486, finish_reason='stop')],\n",
       " [Response(response_text='{\"page_utterances_emotions\": [[\"neutral\"], [\"anger\"], [\"anger\"], [\"anger\"], [\"neutral\"], [\"neutral\"], [\"anger\"], [\"fear\", \"sadness\"], [\"sadness\"], [\"anger\"], [\"anger\"], [\"sadness\"], [\"sadness\"], [\"sadness\"]]}', response_length=61, prompt_length=580, finish_reason='stop')],\n",
       " [Response(response_text='{\"page_utterances_emotions\": [[\"neutral\"], [\"neutral\"], [\"joy\"], [\"joy\"]]}', response_length=22, prompt_length=427, finish_reason='stop')],\n",
       " [Response(response_text='{\"page_utterances_emotions\": [[\"neutral\"], [\"joy\"], [\"neutral\"], [\"neutral\"], [\"sadness\"], [\"joy\"], [\"surprise\"], [\"sadness\"], [\"joy\"], [\"anger\", \"joy\"], [\"disgust\", \"joy\"], [\"joy\"], [\"joy\"]]}', response_length=60, prompt_length=514, finish_reason='stop')],\n",
       " [Response(response_text='{\"page_utterances_emotions\": [[\"fear\", \"surprise\"], [\"joy\"], [\"joy\"], [\"anger\"], [\"neutral\"], [\"disgust\", \"surprise\"], [\"disgust\", \"surprise\"], [\"surprise\", \"joy\"], [\"surprise\", \"joy\"]]}', response_length=62, prompt_length=462, finish_reason='stop')],\n",
       " [Response(response_text='{\"page_utterances_emotions\": [[\"neutral\"], [\"anger\", \"sadness\"], [\"anger\", \"sadness\"], [\"anger\", \"sadness\"], [\"anger\", \"sadness\"], [\"anger\", \"sadness\"], [\"anger\", \"sadness\"], [\"anger\", \"sadness\"], [\"anger\", \"sadness\"], [\"anger\", \"sadness\"], [\"anger\", \"sadness\"], [\"anger\", \"sadness\"], [\"anger\", \"sadness\"], [\"anger\", \"sadness\"], [\"anger\", \"sadness\"], [\"anger\", \"sadness\"], [\"anger\", \"sadness\"], [\"anger\", \"sadness\"], [\"anger\", \"sadness\"], [\"anger\", \"surprise\"], [\"anger\", \"surprise\"], [\"anger\", \"joy\"], [\"anger\", \"joy\"]]}', response_length=165, prompt_length=1027, finish_reason='stop')],\n",
       " [Response(response_text='{\"page_utterances_emotions\": [[\"joy\"], [\"joy\"], [\"joy\"], [\"joy\"], [\"joy\"], [\"joy\"], [\"joy\"], [\"joy\"], [\"joy\"], [\"disgust\", \"joy\"], [\"joy\"], [\"joy\"], [\"joy\"], [\"joy\"], [\"joy\"], [\"joy\"], [\"joy\"], [\"joy\"], [\"joy\"], [\"joy\"], [\"joy\"], [\"joy\"], [\"joy\"]]}', response_length=84, prompt_length=679, finish_reason='stop')],\n",
       " [Response(response_text='{\"page_utterances_emotions\": [[\"sadness\"], [\"sadness\"], [\"sadness\"], [\"sadness\"], [\"sadness\"], [\"sadness\"], [\"sadness\"], [\"sadness\"], [\"anger\"], [\"anger\"], [\"anger\"], [\"anger\"], [\"anger\"]]}', response_length=57, prompt_length=590, finish_reason='stop')],\n",
       " [Response(response_text='{\"page_utterances_emotions\": [[\"joy\"], [\"surprise\", \"joy\"], [\"joy\"], [\"anger\", \"disgust\"], [\"anger\", \"disgust\"], [\"sadness\"], [\"sadness\"], [\"surprise\"], [\"anger\", \"sadness\"], [\"anger\"], [\"joy\"], [\"joy\"]]}', response_length=67, prompt_length=573, finish_reason='stop')],\n",
       " [Response(response_text='{\"page_utterances_emotions\": [[\"surprise\"], [\"joy\"], [\"joy\"], [\"joy\"], [\"neutral\"], [\"joy\"], [\"joy\"], [\"joy\"], [\"joy\"], [\"joy\"], [\"joy\"], [\"sadness\", \"surprise\"], [\"anger\", \"surprise\"]]}', response_length=59, prompt_length=663, finish_reason='stop')],\n",
       " [Response(response_text='{\"page_utterances_emotions\": [[\"joy\"], [\"fear\"], [\"joy\"], [\"fear\", \"sadness\"], [\"fear\", \"sadness\"], [\"fear\", \"surprise\"], [\"joy\"], [\"joy\"], [\"anger\"], [\"anger\"], [\"sadness\", \"surprise\"], [\"sadness\", \"surprise\"], [\"fear\", \"surprise\"], [\"sadness\", \"surprise\"]]}', response_length=88, prompt_length=556, finish_reason='stop')],\n",
       " [Response(response_text='{\"page_utterances_emotions\": [[\"neutral\"], [\"joy\"], [\"joy\"], [\"surprise\"], [\"surprise\"], [\"surprise\"], [\"joy\"], [\"anger\", \"surprise\", \"joy\"], [\"anger\"], [\"anger\"]]}', response_length=50, prompt_length=472, finish_reason='stop')],\n",
       " [Response(response_text='{\"page_utterances_emotions\": [[\"neutral\"], [\"surprise\"], [\"surprise\"], [\"surprise\"], [\"surprise\"], [\"joy\"], [\"joy\"], [\"neutral\"], [\"neutral\"], [\"neutral\"], [\"neutral\"]]}', response_length=47, prompt_length=577, finish_reason='stop')],\n",
       " [Response(response_text='{\"page_utterances_emotions\": [[\"neutral\"], [\"neutral\"], [\"joy\"], [\"joy\"], [\"joy\"], [\"joy\"], [\"joy\"], [\"joy\"], [\"joy\"], [\"surprise\"], [\"anger\", \"surprise\"]]}', response_length=48, prompt_length=493, finish_reason='stop')],\n",
       " [Response(response_text='{\"page_utterances_emotions\": [[\"fear\", \"surprise\"], [\"fear\", \"surprise\"], [\"sadness\"], [\"fear\", \"surprise\"], [\"fear\", \"surprise\"], [\"fear\", \"sadness\"], [\"fear\", \"sadness\"], [\"neutral\"], [\"neutral\"], [\"fear\", \"surprise\"]]}', response_length=76, prompt_length=466, finish_reason='stop')],\n",
       " [Response(response_text='{\"page_utterances_emotions\": [[\"fear\", \"surprise\"], [\"fear\", \"surprise\"], [\"fear\", \"surprise\"], [\"neutral\"], [\"neutral\"], [\"neutral\"], [\"neutral\"], [\"fear\", \"surprise\"], [\"fear\", \"surprise\"], [\"anger\", \"surprise\"], [\"fear\", \"surprise\"], [\"anger\", \"sadness\"], [\"fear\"]]}', response_length=88, prompt_length=522, finish_reason='stop')],\n",
       " [Response(response_text='{\"page_utterances_emotions\": [[\"anger\", \"disgust\"], [\"fear\", \"sadness\"], [\"fear\", \"sadness\", \"surprise\"], [\"fear\"], [\"fear\", \"sadness\"], [\"fear\", \"sadness\"], [\"fear\", \"sadness\"], [\"fear\", \"surprise\"], [\"fear\"], [\"fear\", \"sadness\"], [\"anger\"], [\"anger\"], [\"anger\"]]}', response_length=95, prompt_length=520, finish_reason='stop')],\n",
       " [Response(response_text='{\"page_utterances_emotions\": [[\"neutral\"], [\"neutral\"], [\"neutral\"], [\"joy\"], [\"joy\"], [\"joy\"], [\"fear\", \"surprise\"], [\"joy\"], [\"joy\"], [\"joy\"], [\"sadness\"], [\"sadness\"], [\"surprise\"]]}', response_length=57, prompt_length=603, finish_reason='stop')],\n",
       " [Response(response_text='{\"page_utterances_emotions\": [[\"joy\"], [\"joy\"], [\"joy\"], [\"fear\", \"surprise\"], [\"surprise\"], [\"fear\"], [\"fear\", \"sadness\"], [\"fear\", \"sadness\"], [\"fear\", \"sadness\"], [\"sadness\"], [\"sadness\"], [\"fear\", \"sadness\"], [\"fear\", \"sadness\"], [\"fear\", \"sadness\"], [\"joy\"], [\"joy\"], [\"neutral\"]]}', response_length=100, prompt_length=777, finish_reason='stop')],\n",
       " [Response(response_text='{\"page_utterances_emotions\": [[\"anger\"], [\"anger\"], [\"anger\", \"surprise\"], [\"anger\"], [\"anger\"], [\"anger\"]]}', response_length=32, prompt_length=434, finish_reason='stop')],\n",
       " [Response(response_text='{\"page_utterances_emotions\": [[\"anger\"], [\"anger\"], [\"anger\"], [\"anger\", \"disgust\"]]}', response_length=27, prompt_length=375, finish_reason='stop')],\n",
       " [Response(response_text='{\"page_utterances_emotions\": [[\"joy\"], [\"disgust\", \"fear\"], [\"anger\"], [\"anger\"], [\"anger\"], [\"anger\", \"sadness\"]]}', response_length=38, prompt_length=446, finish_reason='stop')],\n",
       " [Response(response_text='{\"page_utterances_emotions\": [[\"neutral\"], [\"fear\", \"surprise\"], [\"anger\", \"fear\"], [\"sadness\"], [\"sadness\"], [\"surprise\"], [\"neutral\"]]}', response_length=43, prompt_length=399, finish_reason='stop')],\n",
       " [Response(response_text='{\"page_utterances_emotions\": [[\"surprise\"], [\"joy\"], [\"surprise\", \"joy\"], [\"joy\"], [\"joy\"], [\"joy\"], [\"surprise\"], [\"fear\", \"surprise\"], [\"fear\", \"surprise\"]]}', response_length=53, prompt_length=454, finish_reason='stop')],\n",
       " [Response(response_text='{\"page_utterances_emotions\": [[\"sadness\"], [\"anger\", \"surprise\"], [\"sadness\"], [\"neutral\"], [\"anger\", \"fear\", \"surprise\"], [\"anger\", \"fear\", \"sadness\", \"surprise\"], [\"anger\", \"disgust\", \"surprise\"], [\"anger\", \"fear\"], [\"anger\", \"joy\"], [\"anger\"]]}', response_length=82, prompt_length=535, finish_reason='stop')],\n",
       " [Response(response_text='{\"page_utterances_emotions\": [[\"surprise\"], [\"surprise\"], [\"surprise\"], [\"anger\"], [\"anger\", \"sadness\"], [\"anger\"], [\"anger\"], [\"surprise\"], [\"anger\", \"sadness\"], [\"fear\", \"sadness\"]]}', response_length=57, prompt_length=496, finish_reason='stop')],\n",
       " [Response(response_text='{\"page_utterances_emotions\": [[\"surprise\", \"joy\"], [\"surprise\", \"joy\"], [\"sadness\", \"surprise\"], [\"sadness\", \"surprise\"], [\"disgust\", \"sadness\", \"surprise\"], [\"surprise\"], [\"fear\", \"surprise\"], [\"anger\"], [\"joy\"]]}', response_length=71, prompt_length=495, finish_reason='stop')],\n",
       " [Response(response_text='{\"page_utterances_emotions\": [[\"joy\"], [\"anger\", \"sadness\"], [\"joy\"], [\"surprise\"], [\"joy\"], [\"joy\"], [\"surprise\"], [\"surprise\"], [\"fear\"], [\"joy\"], [\"fear\"], [\"anger\", \"fear\"], [\"surprise\", \"joy\"], [\"surprise\", \"joy\"], [\"anger\"], [\"sadness\"], [\"disgust\"]]}', response_length=85, prompt_length=678, finish_reason='stop')],\n",
       " [Response(response_text='{\"page_utterances_emotions\": [[\"surprise\"], [\"surprise\"], [\"surprise\"], [\"fear\", \"surprise\"], [\"fear\"]]}', response_length=34, prompt_length=395, finish_reason='stop')],\n",
       " [Response(response_text='{\"page_utterances_emotions\": [[\"fear\", \"surprise\"]]}', response_length=18, prompt_length=341, finish_reason='stop')],\n",
       " [Response(response_text='{\"page_utterances_emotions\": [[\"anger\", \"fear\"], [\"anger\", \"disgust\"]]}', response_length=25, prompt_length=341, finish_reason='stop')],\n",
       " [Response(response_text='{\"page_utterances_emotions\": [[\"anger\", \"surprise\"], [\"anger\", \"surprise\"], [\"anger\", \"surprise\"], [\"surprise\"], [\"fear\", \"surprise\"], [\"anger\"]]}', response_length=46, prompt_length=465, finish_reason='stop')],\n",
       " [Response(response_text='{\"page_utterances_emotions\": [[\"fear\", \"surprise\"], [\"sadness\"], [\"fear\"], [\"anger\"], [\"anger\"]]}', response_length=32, prompt_length=411, finish_reason='stop')],\n",
       " [Response(response_text='{\"page_utterances_emotions\": [[\"anger\", \"joy\"], [\"anger\", \"surprise\"]]}', response_length=23, prompt_length=367, finish_reason='stop')],\n",
       " [Response(response_text='{\"page_utterances_emotions\": [[\"anger\", \"fear\"], [\"anger\", \"sadness\"], [\"anger\", \"fear\"], [\"anger\", \"sadness\", \"surprise\"], [\"anger\", \"surprise\"], [\"anger\"], [\"anger\"], [\"anger\", \"fear\"]]}', response_length=62, prompt_length=451, finish_reason='stop')],\n",
       " [Response(response_text='{\"page_utterances_emotions\": [[\"joy\"], [\"anger\", \"joy\"], [\"surprise\", \"joy\"], [\"anger\"], [\"surprise\"], [\"surprise\"], [\"surprise\", \"joy\"]]}', response_length=44, prompt_length=416, finish_reason='stop')],\n",
       " [Response(response_text='{\"page_utterances_emotions\": [[\"fear\", \"sadness\"], [\"fear\", \"sadness\"], [\"fear\"], [\"anger\", \"fear\"], [\"fear\", \"sadness\"], [\"fear\", \"sadness\"], [\"sadness\"], [\"surprise\"], [\"sadness\"], [\"sadness\"], [\"sadness\"], [\"fear\", \"sadness\"], [\"sadness\"]]}', response_length=85, prompt_length=543, finish_reason='stop')],\n",
       " [Response(response_text='{\"page_utterances_emotions\": [[\"anger\", \"disgust\"], [\"anger\", \"joy\"], [\"anger\", \"sadness\"], [\"sadness\"], [\"surprise\"], [\"anger\", \"surprise\"], [\"joy\"], [\"sadness\"], [\"fear\", \"sadness\"], [\"anger\", \"sadness\"], [\"surprise\"]]}', response_length=72, prompt_length=503, finish_reason='stop')],\n",
       " [Response(response_text='{\"page_utterances_emotions\": [[\"fear\", \"surprise\"], [\"anger\"], [\"anger\", \"surprise\"], [\"anger\", \"sadness\"]]}', response_length=35, prompt_length=407, finish_reason='stop')],\n",
       " [Response(response_text='{\"page_utterances_emotions\": [[\"fear\", \"sadness\"], [\"fear\", \"surprise\"]]}', response_length=26, prompt_length=361, finish_reason='stop')],\n",
       " [Response(response_text='{\"page_utterances_emotions\": [[\"fear\"], [\"fear\"], [\"anger\"], [\"anger\"], [\"joy\"], [\"surprise\", \"joy\"], [\"fear\", \"surprise\"], [\"surprise\", \"joy\"], [\"fear\", \"sadness\"], [\"fear\", \"sadness\"]]}', response_length=65, prompt_length=477, finish_reason='stop')],\n",
       " [Response(response_text='{\"page_utterances_emotions\": [[\"fear\"], [\"fear\", \"surprise\"], [\"joy\"]]}', response_length=25, prompt_length=362, finish_reason='stop')],\n",
       " [Response(response_text='{\"page_utterances_emotions\": [[\"anger\", \"fear\"], [\"sadness\"], [\"surprise\"], [\"neutral\"], [\"surprise\"], [\"anger\", \"disgust\"], [\"anger\", \"disgust\"], [\"anger\", \"disgust\"]]}', response_length=56, prompt_length=467, finish_reason='stop')],\n",
       " [Response(response_text='{\"page_utterances_emotions\": [[\"anger\", \"surprise\"], [\"joy\"], [\"joy\"], [\"joy\"], [\"joy\"], [\"anger\"], [\"anger\"], [\"anger\", \"sadness\"], [\"anger\", \"sadness\"], [\"surprise\"], [\"surprise\", \"joy\"]]}', response_length=60, prompt_length=570, finish_reason='stop')],\n",
       " [Response(response_text='{\"page_utterances_emotions\": [[\"anger\", \"sadness\"], [\"anger\"], [\"surprise\", \"joy\"]]}', response_length=27, prompt_length=397, finish_reason='stop')],\n",
       " [Response(response_text='{\"page_utterances_emotions\": [[\"neutral\"], [\"fear\", \"surprise\"], [\"neutral\"], [\"neutral\"], [\"anger\", \"sadness\"], [\"fear\"], [\"anger\"]]}', response_length=41, prompt_length=510, finish_reason='stop')],\n",
       " [Response(response_text='{\"page_utterances_emotions\": [[\"fear\", \"surprise\"], [\"fear\", \"surprise\"], [\"fear\", \"surprise\"], [\"anger\", \"surprise\"], [\"surprise\"], [\"fear\", \"surprise\"], [\"anger\", \"fear\"], [\"anger\", \"surprise\"]]}', response_length=67, prompt_length=483, finish_reason='stop')],\n",
       " [Response(response_text='{\"page_utterances_emotions\": [[\"fear\"], [\"joy\"], [\"joy\"], [\"anger\"], [\"surprise\", \"joy\"], [\"fear\", \"surprise\"], [\"anger\", \"surprise\"]]}', response_length=45, prompt_length=480, finish_reason='stop')],\n",
       " [Response(response_text='{\"page_utterances_emotions\": [[\"sadness\"], [\"sadness\"], [\"sadness\", \"joy\"], [\"sadness\", \"joy\"]]}', response_length=32, prompt_length=422, finish_reason='stop')],\n",
       " [Response(response_text='{\"page_utterances_emotions\": [[\"disgust\", \"surprise\"], [\"surprise\", \"joy\"], [\"neutral\"], [\"neutral\"], [\"neutral\"], [\"anger\"]]}', response_length=38, prompt_length=469, finish_reason='stop')],\n",
       " [Response(response_text='{\"page_utterances_emotions\": [[\"joy\"], [\"anger\", \"surprise\"], [\"surprise\", \"joy\"], [\"anger\", \"fear\", \"surprise\"], [\"anger\", \"disgust\"], [\"anger\", \"surprise\"]]}', response_length=53, prompt_length=440, finish_reason='stop')],\n",
       " [Response(response_text='{\"page_utterances_emotions\": [[\"sadness\"], [\"sadness\"], [\"sadness\"], [\"sadness\"]]}', response_length=26, prompt_length=429, finish_reason='stop')],\n",
       " [Response(response_text='{\"page_utterances_emotions\": [[\"sadness\"], [\"sadness\"], [\"sadness\"], [\"sadness\"]]}', response_length=26, prompt_length=383, finish_reason='stop')],\n",
       " [Response(response_text='{\"page_utterances_emotions\": [[\"sadness\"], [\"sadness\"], [\"sadness\"], [\"sadness\"], [\"sadness\"], [\"sadness\"], [\"sadness\"]]}', response_length=38, prompt_length=480, finish_reason='stop')],\n",
       " [Response(response_text='{\"page_utterances_emotions\": [[\"sadness\", \"surprise\"], [\"surprise\"], [\"surprise\"], [\"surprise\"], [\"surprise\", \"joy\"], [\"joy\"], [\"sadness\", \"surprise\"]]}', response_length=48, prompt_length=475, finish_reason='stop')],\n",
       " [Response(response_text='{\"page_utterances_emotions\": [[\"fear\"], [\"fear\", \"surprise\"], [\"surprise\"], [\"surprise\"], [\"surprise\"], [\"anger\", \"surprise\"], [\"anger\"]]}', response_length=44, prompt_length=437, finish_reason='stop')],\n",
       " [Response(response_text='{\"page_utterances_emotions\": [[\"anger\", \"surprise\"], [\"surprise\"], [\"anger\", \"surprise\"], [\"anger\", \"joy\"], [\"disgust\", \"sadness\", \"surprise\"], [\"anger\", \"surprise\"], [\"anger\", \"joy\"], [\"anger\"]]}', response_length=63, prompt_length=498, finish_reason='stop')],\n",
       " [Response(response_text='{\"page_utterances_emotions\": [[\"anger\", \"fear\", \"surprise\"], [\"fear\", \"surprise\"], [\"anger\", \"fear\"]]}', response_length=36, prompt_length=348, finish_reason='stop')],\n",
       " [Response(response_text='{\"page_utterances_emotions\": [[\"joy\"], [\"joy\"], [\"fear\", \"surprise\"], [\"fear\", \"surprise\"], [\"sadness\"], [\"surprise\", \"joy\"], [\"sadness\"], [\"sadness\", \"joy\"], [\"sadness\", \"joy\"]]}', response_length=61, prompt_length=452, finish_reason='stop')],\n",
       " [Response(response_text='{\"page_utterances_emotions\": [[\"sadness\"], [\"sadness\"], [\"sadness\", \"surprise\"], [\"sadness\", \"surprise\"]]}', response_length=34, prompt_length=388, finish_reason='stop')],\n",
       " [Response(response_text='{\"page_utterances_emotions\": [[\"anger\"], [\"anger\", \"surprise\"], [\"anger\", \"sadness\"], [\"anger\"], [\"anger\"], [\"anger\"]]}', response_length=36, prompt_length=481, finish_reason='stop')],\n",
       " [Response(response_text='{\"page_utterances_emotions\": [[\"anger\", \"fear\", \"surprise\"], [\"sadness\", \"joy\"]]}', response_length=28, prompt_length=350, finish_reason='stop')],\n",
       " [Response(response_text='{\"page_utterances_emotions\": [[\"neutral\"], [\"sadness\"], [\"sadness\"], [\"sadness\"], [\"disgust\", \"sadness\"], [\"sadness\"], [\"sadness\"], [\"sadness\"]]}', response_length=46, prompt_length=446, finish_reason='stop')],\n",
       " [Response(response_text='{\"page_utterances_emotions\": [[\"disgust\", \"joy\"], [\"disgust\", \"sadness\", \"surprise\"], [\"sadness\", \"surprise\"], [\"sadness\", \"surprise\"], [\"sadness\"]]}', response_length=51, prompt_length=388, finish_reason='stop')],\n",
       " [Response(response_text='{\"page_utterances_emotions\": [[\"fear\"], [\"anger\", \"fear\"], [\"anger\", \"fear\", \"surprise\"], [\"anger\", \"fear\"], [\"fear\"], [\"fear\"]]}', response_length=47, prompt_length=400, finish_reason='stop')],\n",
       " [Response(response_text='{\"page_utterances_emotions\": [[\"fear\", \"surprise\"], [\"surprise\"]]}', response_length=22, prompt_length=350, finish_reason='stop')],\n",
       " [Response(response_text='{\"page_utterances_emotions\": [[\"joy\"], [\"disgust\", \"joy\"]]}', response_length=21, prompt_length=347, finish_reason='stop')],\n",
       " [Response(response_text='{\"page_utterances_emotions\": [[\"anger\"], [\"fear\", \"surprise\"], [\"anger\"], [\"anger\"], [\"anger\", \"surprise\"], [\"fear\"], [\"anger\", \"surprise\"]]}', response_length=45, prompt_length=434, finish_reason='stop')],\n",
       " [Response(response_text='{\"page_utterances_emotions\": [[\"anger\"], [\"fear\", \"surprise\"], [\"anger\"], [\"surprise\"], [\"anger\"], [\"fear\"]]}', response_length=35, prompt_length=413, finish_reason='stop')],\n",
       " [Response(response_text='{\"page_utterances_emotions\": [[\"joy\"], [\"disgust\", \"surprise\"]]}', response_length=22, prompt_length=354, finish_reason='stop')],\n",
       " [Response(response_text='{\"page_utterances_emotions\": [[\"neutral\"], [\"surprise\"], [\"sadness\"], [\"sadness\"], [\"sadness\", \"surprise\"], [\"surprise\"], [\"neutral\"], [\"surprise\"]]}', response_length=44, prompt_length=469, finish_reason='stop')],\n",
       " [Response(response_text='{\"page_utterances_emotions\": [[\"anger\", \"disgust\"], [\"neutral\"], [\"anger\"], [\"anger\"], [\"anger\", \"surprise\"], [\"sadness\"], [\"anger\", \"disgust\"], [\"anger\"]]}', response_length=49, prompt_length=580, finish_reason='stop')],\n",
       " [Response(response_text='{\"page_utterances_emotions\": [[\"joy\"], [\"disgust\", \"surprise\"], [\"anger\", \"surprise\"], [\"anger\", \"surprise\"], [\"anger\"], [\"anger\"], [\"anger\", \"surprise\"], [\"anger\"], [\"anger\"], [\"sadness\"], [\"anger\"], [\"anger\"]]}', response_length=65, prompt_length=509, finish_reason='stop')],\n",
       " [Response(response_text='{\"page_utterances_emotions\": [[\"sadness\"], [\"anger\", \"sadness\"], [\"anger\", \"sadness\"], [\"anger\"], [\"anger\"], [\"disgust\"], [\"anger\"], [\"joy\"], [\"anger\", \"sadness\"], [\"anger\", \"sadness\"]]}', response_length=59, prompt_length=456, finish_reason='stop')],\n",
       " [Response(response_text='{\"page_utterances_emotions\": [[\"anger\", \"fear\", \"surprise\"], [\"anger\", \"fear\", \"surprise\"], [\"sadness\"], [\"anger\", \"disgust\"], [\"anger\", \"disgust\"], [\"anger\"], [\"anger\"], [\"anger\", \"sadness\"], [\"anger\", \"surprise\"]]}', response_length=72, prompt_length=449, finish_reason='stop')],\n",
       " [Response(response_text='{\"page_utterances_emotions\": [[\"anger\"], [\"anger\"], [\"anger\"], [\"joy\"], [\"joy\"], [\"joy\"], [\"joy\"], [\"joy\"], [\"anger\"], [\"anger\"], [\"joy\"], [\"anger\"], [\"surprise\"], [\"anger\"], [\"anger\"]]}', response_length=56, prompt_length=654, finish_reason='stop')],\n",
       " [Response(response_text='{\"page_utterances_emotions\": [[\"joy\"], [\"anger\"], [\"anger\"], [\"anger\", \"disgust\"], [\"anger\", \"disgust\"], [\"sadness\"], [\"surprise\"], [\"joy\"], [\"joy\"], [\"fear\"], [\"fear\", \"surprise\"], [\"fear\", \"surprise\"], [\"joy\"]]}', response_length=72, prompt_length=544, finish_reason='stop')],\n",
       " [Response(response_text='{\"page_utterances_emotions\": [[\"joy\"], [\"fear\"], [\"fear\", \"surprise\"], [\"surprise\"], [\"sadness\"], [\"sadness\"], [\"anger\", \"sadness\"], [\"sadness\"], [\"sadness\"], [\"sadness\", \"surprise\"]]}', response_length=60, prompt_length=526, finish_reason='stop')],\n",
       " [Response(response_text='{\"page_utterances_emotions\": [[\"joy\"], [\"surprise\", \"joy\"], [\"fear\", \"sadness\"], [\"anger\", \"disgust\"], [\"fear\", \"sadness\"], [\"joy\"], [\"joy\"], [\"sadness\"], [\"anger\"], [\"anger\", \"sadness\"], [\"surprise\", \"joy\"], [\"anger\", \"surprise\"], [\"fear\", \"surprise\"], [\"surprise\"], [\"joy\"]]}', response_length=93, prompt_length=569, finish_reason='stop')],\n",
       " [Response(response_text='{\"page_utterances_emotions\": [[\"fear\"], [\"joy\"], [\"anger\"], [\"surprise\"], [\"surprise\", \"joy\"], [\"joy\"], [\"joy\"], [\"joy\"], [\"joy\"], [\"joy\"]]}', response_length=46, prompt_length=518, finish_reason='stop')],\n",
       " [Response(response_text='{\"page_utterances_emotions\": [[\"fear\", \"surprise\"]]}', response_length=18, prompt_length=341, finish_reason='stop')],\n",
       " [Response(response_text='{\"page_utterances_emotions\": [[\"joy\"], [\"joy\"]]}', response_length=16, prompt_length=364, finish_reason='stop')],\n",
       " [Response(response_text='{\"page_utterances_emotions\": [[\"neutral\"], [\"neutral\"], [\"joy\"], [\"neutral\"], [\"fear\", \"joy\"], [\"joy\"], [\"disgust\", \"joy\"], [\"fear\", \"joy\"]]}', response_length=47, prompt_length=486, finish_reason='stop')],\n",
       " [Response(response_text='{\"page_utterances_emotions\": [[\"surprise\"], [\"fear\", \"surprise\"], [\"anger\"], [\"anger\"], [\"anger\"], [\"joy\"], [\"sadness\", \"surprise\"], [\"sadness\"]]}', response_length=46, prompt_length=437, finish_reason='stop')],\n",
       " [Response(response_text='{\"page_utterances_emotions\": [[\"fear\", \"surprise\"], [\"anger\", \"fear\"], [\"anger\"]]}', response_length=28, prompt_length=344, finish_reason='stop')],\n",
       " [Response(response_text='{\"page_utterances_emotions\": [[\"joy\"], [\"joy\"], [\"joy\"], [\"joy\"], [\"fear\", \"surprise\"], [\"disgust\", \"joy\"]]}', response_length=38, prompt_length=384, finish_reason='stop')],\n",
       " [Response(response_text='{\"page_utterances_emotions\": [[\"anger\", \"joy\"], [\"fear\"], [\"fear\"], [\"anger\"]]}', response_length=27, prompt_length=364, finish_reason='stop')],\n",
       " [Response(response_text='{\"page_utterances_emotions\": [[\"sadness\", \"surprise\"]]}', response_length=18, prompt_length=338, finish_reason='stop')],\n",
       " [Response(response_text='{\"page_utterances_emotions\": [[\"fear\", \"surprise\"], [\"fear\", \"surprise\"], [\"joy\"], [\"neutral\"], [\"neutral\"], [\"surprise\"], [\"neutral\"], [\"neutral\"], [\"neutral\"], [\"fear\", \"surprise\"]]}', response_length=56, prompt_length=675, finish_reason='stop')],\n",
       " [Response(response_text='{\"page_utterances_emotions\": [[\"neutral\"], [\"anger\"], [\"surprise\"], [\"neutral\"], [\"surprise\"], [\"sadness\", \"surprise\"], [\"sadness\", \"surprise\"], [\"sadness\", \"surprise\"]]}', response_length=51, prompt_length=630, finish_reason='stop')],\n",
       " [Response(response_text='{\"page_utterances_emotions\": [[\"joy\"], [\"sadness\", \"surprise\"], [\"surprise\"], [\"surprise\", \"joy\"], [\"sadness\", \"joy\"], [\"anger\", \"fear\"], [\"joy\"], [\"joy\"], [\"joy\"], [\"joy\"], [\"surprise\", \"joy\"], [\"neutral\"], [\"surprise\", \"joy\"]]}', response_length=75, prompt_length=598, finish_reason='stop')],\n",
       " [Response(response_text='{\"page_utterances_emotions\": [[\"anger\", \"joy\"], [\"fear\"], [\"surprise\", \"joy\"]]}', response_length=27, prompt_length=364, finish_reason='stop')],\n",
       " [Response(response_text='{\"page_utterances_emotions\": [[\"fear\", \"surprise\"], [\"fear\", \"surprise\"], [\"fear\", \"surprise\"], [\"fear\", \"surprise\"], [\"fear\", \"surprise\"], [\"disgust\", \"fear\", \"surprise\"], [\"fear\", \"surprise\"]]}', response_length=71, prompt_length=388, finish_reason='stop')],\n",
       " [Response(response_text='{\"page_utterances_emotions\": [[\"anger\", \"sadness\"], [\"anger\", \"disgust\", \"surprise\"]]}', response_length=29, prompt_length=347, finish_reason='stop')],\n",
       " [Response(response_text='{\"page_utterances_emotions\": [[\"anger\", \"fear\", \"surprise\"], [\"neutral\"], [\"anger\", \"fear\", \"surprise\"], [\"anger\", \"fear\", \"surprise\"], [\"anger\", \"fear\"], [\"anger\"], [\"neutral\"], [\"anger\", \"fear\", \"surprise\"], [\"anger\", \"fear\", \"surprise\"], [\"anger\", \"fear\", \"surprise\"], [\"anger\", \"fear\", \"surprise\"], [\"anger\", \"fear\", \"surprise\"], [\"anger\", \"fear\", \"surprise\"]]}', response_length=125, prompt_length=724, finish_reason='stop')],\n",
       " [Response(response_text='{\"page_utterances_emotions\": [[\"neutral\"], [\"neutral\"], [\"fear\", \"surprise\"], [\"neutral\"], [\"disgust\", \"surprise\"], [\"neutral\"], [\"joy\"], [\"joy\"]]}', response_length=45, prompt_length=578, finish_reason='stop')],\n",
       " [Response(response_text='{\"page_utterances_emotions\": [[\"fear\"], [\"fear\"], [\"fear\", \"surprise\"], [\"fear\", \"surprise\"], [\"fear\"], [\"fear\"]]}', response_length=42, prompt_length=496, finish_reason='stop')],\n",
       " [Response(response_text='{\"page_utterances_emotions\": [[\"fear\", \"sadness\"], [\"surprise\", \"joy\"], [\"sadness\", \"surprise\"], [\"fear\", \"sadness\"], [\"fear\", \"sadness\"]]}', response_length=49, prompt_length=397, finish_reason='stop')],\n",
       " [Response(response_text='{\"page_utterances_emotions\": [[\"sadness\"], [\"fear\", \"surprise\"], [\"anger\", \"disgust\"], [\"fear\"], [\"fear\", \"surprise\"], [\"anger\", \"fear\"], [\"sadness\"], [\"fear\", \"surprise\"]]}', response_length=61, prompt_length=438, finish_reason='stop')],\n",
       " [Response(response_text='{\"page_utterances_emotions\": [[\"fear\"], [\"fear\"], [\"anger\", \"disgust\", \"fear\"], [\"surprise\"], [\"anger\", \"disgust\", \"fear\"], [\"anger\"], [\"anger\"]]}', response_length=52, prompt_length=481, finish_reason='stop')],\n",
       " [Response(response_text='{\"page_utterances_emotions\": [[\"sadness\"], [\"anger\", \"disgust\"], [\"disgust\", \"joy\"], [\"anger\", \"sadness\"]]}', response_length=37, prompt_length=438, finish_reason='stop')],\n",
       " [Response(response_text='{\"page_utterances_emotions\": [[\"anger\"], [\"anger\", \"sadness\"], [\"fear\"], [\"anger\", \"fear\", \"surprise\"], [\"joy\"], [\"surprise\", \"joy\"]]}', response_length=45, prompt_length=424, finish_reason='stop')],\n",
       " [Response(response_text='{\"page_utterances_emotions\": [[\"surprise\", \"joy\"]]}', response_length=17, prompt_length=332, finish_reason='stop')],\n",
       " [Response(response_text='{\"page_utterances_emotions\": [[\"anger\", \"fear\", \"surprise\"], [\"anger\", \"fear\"], [\"fear\"], [\"fear\"], [\"anger\", \"fear\", \"surprise\"], [\"anger\", \"surprise\"]]}', response_length=54, prompt_length=401, finish_reason='stop')],\n",
       " [Response(response_text='{\"page_utterances_emotions\": [[\"anger\"]]}', response_length=13, prompt_length=333, finish_reason='stop')],\n",
       " [Response(response_text='{\"page_utterances_emotions\": [[\"sadness\"], [\"sadness\"], [\"sadness\"]]}', response_length=22, prompt_length=408, finish_reason='stop')],\n",
       " [Response(response_text='{\"page_utterances_emotions\": [[\"sadness\"], [\"sadness\"], [\"sadness\"], [\"sadness\"], [\"sadness\"], [\"sadness\", \"surprise\"], [\"sadness\"], [\"sadness\"], [\"sadness\"], [\"fear\", \"sadness\"], [\"fear\", \"sadness\"], [\"sadness\"], [\"sadness\"]]}', response_length=74, prompt_length=714, finish_reason='stop')],\n",
       " [Response(response_text='{\"page_utterances_emotions\": [[\"neutral\"], [\"neutral\"], [\"neutral\"], [\"neutral\"], [\"neutral\"], [\"surprise\", \"joy\"], [\"neutral\"], [\"neutral\"], [\"joy\"]]}', response_length=41, prompt_length=637, finish_reason='stop')],\n",
       " [Response(response_text='{\"page_utterances_emotions\": [[\"fear\", \"sadness\"], [\"sadness\"], [\"surprise\"], [\"fear\", \"sadness\"], [\"sadness\"], [\"sadness\"], [\"anger\", \"fear\"], [\"sadness\"], [\"sadness\"]]}', response_length=57, prompt_length=452, finish_reason='stop')],\n",
       " [Response(response_text='{\"page_utterances_emotions\": [[\"sadness\"], [\"sadness\"], [\"fear\", \"sadness\"], [\"anger\", \"sadness\", \"surprise\"], [\"anger\", \"sadness\"], [\"sadness\"], [\"sadness\"], [\"anger\", \"surprise\"], [\"sadness\"], [\"sadness\"], [\"sadness\", \"surprise\"], [\"surprise\", \"joy\"]]}', response_length=82, prompt_length=605, finish_reason='stop')],\n",
       " [Response(response_text='{\"page_utterances_emotions\": [[\"joy\"], [\"joy\"], [\"fear\", \"joy\"], [\"neutral\"], [\"fear\", \"surprise\"], [\"joy\"], [\"fear\", \"surprise\"], [\"joy\"], [\"fear\"], [\"fear\", \"sadness\"], [\"fear\", \"sadness\"], [\"fear\", \"surprise\"], [\"surprise\"]]}', response_length=80, prompt_length=588, finish_reason='stop')],\n",
       " [Response(response_text='{\"page_utterances_emotions\": [[\"anger\", \"surprise\"], [\"sadness\"], [\"sadness\"], [\"anger\"], [\"fear\", \"surprise\"], [\"surprise\"], [\"fear\", \"surprise\"], [\"sadness\"], [\"fear\"], [\"sadness\"], [\"surprise\"], [\"fear\", \"surprise\"], [\"sadness\"], [\"surprise\"], [\"fear\"], [\"fear\"], [\"sadness\"]]}', response_length=92, prompt_length=578, finish_reason='stop')],\n",
       " [Response(response_text='{\"page_utterances_emotions\": [[\"neutral\"], [\"neutral\"], [\"neutral\"], [\"neutral\"], [\"neutral\"], [\"fear\", \"surprise\"], [\"neutral\"], [\"neutral\"], [\"neutral\"], [\"neutral\"], [\"joy\"], [\"neutral\"], [\"surprise\", \"joy\"], [\"surprise\", \"joy\"], [\"joy\"], [\"neutral\"], [\"neutral\"], [\"joy\"], [\"joy\"]]}', response_length=80, prompt_length=779, finish_reason='stop')],\n",
       " [Response(response_text='{\"page_utterances_emotions\": [[\"anger\", \"surprise\"], [\"fear\", \"sadness\"], [\"joy\"], [\"joy\"], [\"fear\", \"sadness\"], [\"joy\"], [\"surprise\"], [\"anger\"], [\"sadness\"], [\"anger\"], [\"joy\"], [\"anger\", \"sadness\"], [\"joy\"]]}', response_length=69, prompt_length=576, finish_reason='stop')],\n",
       " [Response(response_text='{\"page_utterances_emotions\": [[\"surprise\"], [\"joy\"], [\"anger\", \"joy\"], [\"sadness\"], [\"sadness\"], [\"surprise\"], [\"surprise\"], [\"fear\", \"surprise\"], [\"fear\", \"surprise\"], [\"surprise\"], [\"sadness\"]]}', response_length=63, prompt_length=539, finish_reason='stop')],\n",
       " [Response(response_text='{\"page_utterances_emotions\": [[\"surprise\"], [\"anger\", \"sadness\"], [\"fear\", \"sadness\"], [\"sadness\"], [\"surprise\"], [\"fear\", \"sadness\"], [\"sadness\"], [\"fear\"], [\"fear\"], [\"surprise\"], [\"fear\"], [\"fear\", \"sadness\"], [\"surprise\", \"joy\"], [\"joy\"]]}', response_length=83, prompt_length=623, finish_reason='stop')],\n",
       " [Response(response_text='{\"page_utterances_emotions\": [[\"anger\"], [\"anger\"], [\"anger\"], [\"anger\", \"sadness\"], [\"surprise\"], [\"anger\", \"sadness\"], [\"anger\"], [\"anger\"], [\"anger\"], [\"surprise\"]]}', response_length=50, prompt_length=503, finish_reason='stop')],\n",
       " [Response(response_text='{\"page_utterances_emotions\": [[\"fear\", \"surprise\"], [\"fear\", \"surprise\"], [\"fear\"], [\"fear\", \"surprise\"], [\"fear\", \"surprise\"], [\"surprise\"], [\"fear\"], [\"anger\", \"fear\"], [\"anger\", \"fear\"], [\"anger\", \"fear\"], [\"fear\", \"surprise\"], [\"fear\", \"surprise\"], [\"fear\"]]}', response_length=95, prompt_length=582, finish_reason='stop')],\n",
       " [Response(response_text='{\"page_utterances_emotions\": [[\"surprise\"], [\"anger\", \"surprise\"], [\"anger\", \"sadness\", \"surprise\"], [\"anger\", \"fear\", \"surprise\"], [\"anger\", \"fear\", \"surprise\"], [\"anger\", \"fear\"], [\"anger\", \"sadness\"], [\"anger\"], [\"surprise\"], [\"anger\", \"sadness\", \"surprise\"], [\"anger\", \"fear\", \"surprise\"], [\"anger\"]]}', response_length=100, prompt_length=689, finish_reason='stop')],\n",
       " [Response(response_text='{\"page_utterances_emotions\": [[\"anger\", \"disgust\"], [\"anger\", \"disgust\"], [\"anger\", \"disgust\"], [\"anger\"], [\"anger\", \"disgust\"], [\"anger\"], [\"anger\", \"disgust\"]]}', response_length=56, prompt_length=461, finish_reason='stop')],\n",
       " [Response(response_text='{\"page_utterances_emotions\": [[\"surprise\"], [\"sadness\"], [\"surprise\"], [\"sadness\"], [\"sadness\"], [\"anger\"], [\"anger\", \"surprise\"], [\"anger\"], [\"sadness\", \"surprise\"], [\"sadness\"], [\"surprise\"], [\"sadness\"]]}', response_length=63, prompt_length=590, finish_reason='stop')],\n",
       " [Response(response_text='{\"page_utterances_emotions\": [[\"sadness\"], [\"sadness\", \"surprise\"], [\"surprise\"], [\"sadness\"], [\"sadness\", \"surprise\"], [\"sadness\", \"surprise\"], [\"sadness\", \"surprise\"]]}', response_length=54, prompt_length=410, finish_reason='stop')],\n",
       " [Response(response_text='{\"page_utterances_emotions\": [[\"sadness\"], [\"sadness\"], [\"sadness\"], [\"anger\", \"sadness\"], [\"sadness\", \"surprise\"], [\"sadness\", \"surprise\"], [\"sadness\"], [\"sadness\"]]}', response_length=53, prompt_length=456, finish_reason='stop')],\n",
       " [Response(response_text='{\"page_utterances_emotions\": [[\"joy\"], [\"sadness\", \"joy\"], [\"sadness\", \"joy\"], [\"sadness\"], [\"anger\"], [\"joy\"], [\"anger\"], [\"sadness\"], [\"sadness\"], [\"anger\"], [\"anger\"]]}', response_length=54, prompt_length=515, finish_reason='stop')],\n",
       " [Response(response_text='{\"page_utterances_emotions\": [[\"sadness\", \"joy\"], [\"sadness\", \"joy\"], [\"anger\", \"disgust\"], [\"anger\", \"sadness\"], [\"surprise\"], [\"sadness\"], [\"sadness\", \"joy\"], [\"sadness\"]]}', response_length=58, prompt_length=411, finish_reason='stop')],\n",
       " [Response(response_text='{\"page_utterances_emotions\": [[\"joy\"], [\"anger\", \"sadness\"], [\"anger\", \"fear\", \"surprise\"], [\"fear\", \"surprise\"], [\"fear\", \"sadness\"], [\"sadness\"], [\"anger\", \"sadness\"], [\"sadness\"], [\"sadness\"]]}', response_length=66, prompt_length=516, finish_reason='stop')],\n",
       " [Response(response_text='{\"page_utterances_emotions\": [[\"neutral\"], [\"neutral\"], [\"anger\"]]}', response_length=19, prompt_length=376, finish_reason='stop')],\n",
       " [Response(response_text='{\"page_utterances_emotions\": [[\"fear\", \"surprise\"], [\"surprise\", \"joy\"]]}', response_length=25, prompt_length=355, finish_reason='stop')],\n",
       " [Response(response_text='{\"page_utterances_emotions\": [[\"fear\"], [\"fear\"], [\"fear\", \"surprise\"], [\"fear\", \"sadness\"], [\"fear\", \"sadness\"], [\"fear\", \"surprise\"]]}', response_length=50, prompt_length=397, finish_reason='stop')],\n",
       " [Response(response_text='{\"page_utterances_emotions\": [[\"fear\"], [\"fear\"], [\"fear\", \"sadness\"], [\"fear\", \"surprise\"], [\"surprise\"], [\"anger\"], [\"fear\", \"surprise\"]]}', response_length=49, prompt_length=399, finish_reason='stop')],\n",
       " [Response(response_text='{\"page_utterances_emotions\": [[\"surprise\"], [\"surprise\", \"joy\"], [\"surprise\", \"joy\"], [\"surprise\", \"joy\"], [\"surprise\"], [\"anger\", \"disgust\"]]}', response_length=47, prompt_length=393, finish_reason='stop')],\n",
       " [Response(response_text='{\"page_utterances_emotions\": [[\"surprise\"], [\"surprise\"], [\"anger\", \"surprise\"], [\"anger\", \"surprise\"], [\"anger\"], [\"anger\", \"fear\"]]}', response_length=42, prompt_length=402, finish_reason='stop')],\n",
       " [Response(response_text='{\"page_utterances_emotions\": [[\"anger\"], [\"anger\", \"surprise\"], [\"anger\", \"fear\"], [\"anger\"], [\"anger\", \"fear\"], [\"anger\", \"fear\", \"sadness\"]]}', response_length=48, prompt_length=388, finish_reason='stop')],\n",
       " [Response(response_text='{\"page_utterances_emotions\": [[\"fear\", \"surprise\"], [\"fear\", \"surprise\"], [\"anger\", \"fear\"], [\"anger\"], [\"anger\"]]}', response_length=39, prompt_length=368, finish_reason='stop')],\n",
       " [Response(response_text='{\"page_utterances_emotions\": [[\"fear\", \"surprise\"], [\"fear\", \"surprise\"], [\"fear\", \"surprise\"], [\"fear\", \"surprise\"], [\"anger\", \"fear\", \"surprise\"], [\"anger\", \"fear\"]]}', response_length=60, prompt_length=415, finish_reason='stop')],\n",
       " [Response(response_text='{\"page_utterances_emotions\": [[\"disgust\", \"sadness\"], [\"anger\"], [\"fear\", \"surprise\"], [\"anger\", \"fear\", \"surprise\"]]}', response_length=41, prompt_length=357, finish_reason='stop')],\n",
       " [Response(response_text='{\"page_utterances_emotions\": [[\"anger\", \"surprise\"], [\"anger\", \"disgust\"], [\"fear\", \"surprise\"], [\"fear\", \"surprise\"], [\"fear\"], [\"fear\", \"surprise\"], [\"fear\", \"surprise\"], [\"anger\"], [\"anger\", \"disgust\"], [\"anger\", \"fear\"], [\"anger\", \"fear\"], [\"fear\", \"surprise\"]]}', response_length=94, prompt_length=501, finish_reason='stop')],\n",
       " [Response(response_text='{\"page_utterances_emotions\": [[\"surprise\"], [\"surprise\"], [\"joy\"], [\"surprise\"], [\"surprise\"], [\"fear\", \"surprise\"], [\"anger\", \"fear\"], [\"anger\", \"fear\"], [\"joy\"]]}', response_length=54, prompt_length=452, finish_reason='stop')],\n",
       " [Response(response_text='{\"page_utterances_emotions\": [[\"sadness\"], [\"anger\"], [\"anger\"], [\"anger\", \"fear\"], [\"anger\", \"fear\"], [\"anger\"]]}', response_length=37, prompt_length=411, finish_reason='stop')],\n",
       " [Response(response_text='{\"page_utterances_emotions\": [[\"anger\", \"fear\", \"surprise\"], [\"anger\", \"surprise\"], [\"anger\", \"fear\", \"surprise\"], [\"anger\", \"fear\", \"surprise\"], [\"surprise\", \"joy\"], [\"sadness\"], [\"anger\", \"sadness\"], [\"anger\", \"sadness\"], [\"anger\", \"sadness\"], [\"anger\", \"sadness\"], [\"anger\", \"fear\"], [\"anger\"], [\"anger\"], [\"neutral\"], [\"sadness\", \"surprise\"], [\"joy\"]]}', response_length=116, prompt_length=530, finish_reason='stop')],\n",
       " [Response(response_text='{\"page_utterances_emotions\": [[\"anger\", \"fear\", \"surprise\"], [\"sadness\"], [\"anger\", \"fear\"], [\"surprise\"], [\"sadness\", \"joy\"], [\"sadness\", \"joy\"], [\"surprise\", \"joy\"], [\"sadness\", \"joy\"], [\"sadness\", \"joy\"], [\"sadness\", \"joy\"], [\"joy\"]]}', response_length=81, prompt_length=479, finish_reason='stop')],\n",
       " [Response(response_text='{\"page_utterances_emotions\": [[\"fear\"], [\"fear\"], [\"surprise\"], [\"surprise\"], [\"fear\"], [\"surprise\"], [\"surprise\"], [\"fear\"], [\"fear\"], [\"anger\"], [\"fear\", \"surprise\"]]}', response_length=57, prompt_length=451, finish_reason='stop')],\n",
       " [Response(response_text='{\"page_utterances_emotions\": [[\"neutral\"], [\"neutral\"], [\"fear\"], [\"fear\"], [\"anger\", \"fear\", \"surprise\"], [\"anger\", \"fear\", \"surprise\"], [\"fear\"], [\"fear\", \"sadness\"], [\"fear\", \"sadness\"], [\"sadness\"], [\"sadness\", \"joy\"], [\"joy\"], [\"fear\", \"sadness\"], [\"fear\", \"sadness\", \"joy\"]]}', response_length=99, prompt_length=557, finish_reason='stop')],\n",
       " [Response(response_text='{\"page_utterances_emotions\": [[\"surprise\"], [\"anger\", \"sadness\"], [\"anger\", \"sadness\"], [\"anger\"], [\"anger\"], [\"anger\", \"sadness\"], [\"joy\"]]}', response_length=44, prompt_length=469, finish_reason='stop')],\n",
       " [Response(response_text='{\"page_utterances_emotions\": [[\"joy\"], [\"joy\"], [\"surprise\"], [\"joy\"], [\"joy\"], [\"joy\"], [\"surprise\"], [\"anger\"], [\"anger\"], [\"anger\"], [\"joy\"]]}', response_length=45, prompt_length=490, finish_reason='stop')],\n",
       " [Response(response_text='{\"page_utterances_emotions\": [[\"anger\"], [\"surprise\"], [\"surprise\"], [\"surprise\", \"joy\"], [\"sadness\"], [\"neutral\"], [\"surprise\", \"joy\"], [\"anger\", \"surprise\"], [\"surprise\", \"joy\"], [\"joy\"], [\"joy\"], [\"joy\"]]}', response_length=65, prompt_length=538, finish_reason='stop')],\n",
       " [Response(response_text='{\"page_utterances_emotions\": [[\"joy\"]]}', response_length=13, prompt_length=345, finish_reason='stop')]]"
      ]
     },
     "execution_count": 67,
     "metadata": {},
     "output_type": "execute_result"
    }
   ],
   "source": [
    "test_predictions"
   ]
  },
  {
   "cell_type": "code",
   "execution_count": 72,
   "metadata": {},
   "outputs": [],
   "source": [
    "processed_preds = []\n",
    "bad_idx = []\n",
    "\n",
    "for i, raw_pred in enumerate(test_predictions):\n",
    "    try:\n",
    "        x = json.loads(raw_pred[0].response_text)[\"page_utterances_emotions\"]\n",
    "        processed_preds.append(x)\n",
    "    except:\n",
    "        print(i)\n",
    "        bad_idx.append(i)"
   ]
  },
  {
   "cell_type": "code",
   "execution_count": 73,
   "metadata": {},
   "outputs": [],
   "source": [
    "# bad_idx.sort(reverse=True)\n",
    "\n",
    "# # Remove elements from 'grounds' at the specified indices\n",
    "# for idx in bad_idx:\n",
    "    \n",
    "#     #del processed_grounds[idx]\n",
    "#     del processed_preds[idx]"
   ]
  },
  {
   "cell_type": "code",
   "execution_count": 74,
   "metadata": {},
   "outputs": [
    {
     "data": {
      "text/plain": [
       "156"
      ]
     },
     "execution_count": 74,
     "metadata": {},
     "output_type": "execute_result"
    }
   ],
   "source": [
    "len(processed_preds)"
   ]
  },
  {
   "cell_type": "code",
   "execution_count": 75,
   "metadata": {},
   "outputs": [],
   "source": [
    "processed_grounds = []\n",
    "\n",
    "for ground in test_grounds:\n",
    "    x = json.loads(ground)[\"page_utterances_emotions\"]\n",
    "    processed_grounds.append(x)"
   ]
  },
  {
   "cell_type": "code",
   "execution_count": 76,
   "metadata": {},
   "outputs": [
    {
     "data": {
      "text/plain": [
       "156"
      ]
     },
     "execution_count": 76,
     "metadata": {},
     "output_type": "execute_result"
    }
   ],
   "source": [
    "len(processed_grounds)"
   ]
  },
  {
   "cell_type": "code",
   "execution_count": 77,
   "metadata": {},
   "outputs": [
    {
     "data": {
      "text/plain": [
       "[]"
      ]
     },
     "execution_count": 77,
     "metadata": {},
     "output_type": "execute_result"
    }
   ],
   "source": [
    "bad_idx"
   ]
  },
  {
   "cell_type": "code",
   "execution_count": 78,
   "metadata": {},
   "outputs": [],
   "source": [
    "bad_idx.sort(reverse=True)\n",
    "\n",
    "# Remove elements from 'grounds' at the specified indices\n",
    "for idx in bad_idx:\n",
    "    \n",
    "    del processed_grounds[idx]\n",
    "    #del processed_preds[idx]"
   ]
  },
  {
   "cell_type": "code",
   "execution_count": 79,
   "metadata": {},
   "outputs": [
    {
     "name": "stdout",
     "output_type": "stream",
     "text": [
      "3 21 22\n"
     ]
    }
   ],
   "source": [
    "bad_idx = []\n",
    "\n",
    "for idx, (i,j) in enumerate(zip(processed_grounds, processed_preds)):\n",
    "    if len(i) != len(j):\n",
    "        print(idx, len(i), len(j))\n",
    "        bad_idx.append(idx)"
   ]
  },
  {
   "cell_type": "code",
   "execution_count": 80,
   "metadata": {},
   "outputs": [],
   "source": [
    "bad_idx.sort(reverse=True)\n",
    "\n",
    "# Remove elements from 'grounds' at the specified indices\n",
    "for idx in bad_idx:\n",
    "    \n",
    "    del processed_grounds[idx]\n",
    "    del processed_preds[idx]"
   ]
  },
  {
   "cell_type": "code",
   "execution_count": 81,
   "metadata": {},
   "outputs": [
    {
     "data": {
      "text/plain": [
       "(155, 155)"
      ]
     },
     "execution_count": 81,
     "metadata": {},
     "output_type": "execute_result"
    }
   ],
   "source": [
    "len(processed_grounds), len(processed_preds)"
   ]
  },
  {
   "cell_type": "code",
   "execution_count": 82,
   "metadata": {},
   "outputs": [],
   "source": [
    "grounds = [item for sublist in processed_grounds for item in sublist]\n",
    "predictions = [item for sublist in processed_preds for item in sublist]"
   ]
  },
  {
   "cell_type": "code",
   "execution_count": 83,
   "metadata": {},
   "outputs": [
    {
     "data": {
      "text/plain": [
       "(1305, 1305)"
      ]
     },
     "execution_count": 83,
     "metadata": {},
     "output_type": "execute_result"
    }
   ],
   "source": [
    "len(grounds), len(predictions)"
   ]
  },
  {
   "cell_type": "code",
   "execution_count": 84,
   "metadata": {},
   "outputs": [],
   "source": [
    "from sklearn.preprocessing import MultiLabelBinarizer\n",
    "mlb = MultiLabelBinarizer()"
   ]
  },
  {
   "cell_type": "code",
   "execution_count": 85,
   "metadata": {},
   "outputs": [
    {
     "name": "stderr",
     "output_type": "stream",
     "text": [
      "/Utilisateurs/umushtaq/.conda/envs/er_nb_env/lib/python3.11/site-packages/sklearn/preprocessing/_label.py:900: UserWarning: unknown class(es) ['defensiveness'] will be ignored\n",
      "  warnings.warn(\n"
     ]
    }
   ],
   "source": [
    "y_true_mhot = mlb.fit_transform(grounds)\n",
    "y_pred_mhot = mlb.transform(predictions)"
   ]
  },
  {
   "cell_type": "code",
   "execution_count": 86,
   "metadata": {},
   "outputs": [
    {
     "data": {
      "text/plain": [
       "((1305, 7), (1305, 7))"
      ]
     },
     "execution_count": 86,
     "metadata": {},
     "output_type": "execute_result"
    }
   ],
   "source": [
    "y_true_mhot.shape, y_pred_mhot.shape"
   ]
  },
  {
   "cell_type": "code",
   "execution_count": 87,
   "metadata": {},
   "outputs": [],
   "source": [
    "class_labels = mlb.classes_"
   ]
  },
  {
   "cell_type": "code",
   "execution_count": 88,
   "metadata": {},
   "outputs": [
    {
     "data": {
      "text/plain": [
       "array(['anger', 'disgust', 'fear', 'joy', 'neutral', 'sadness',\n",
       "       'surprise'], dtype=object)"
      ]
     },
     "execution_count": 88,
     "metadata": {},
     "output_type": "execute_result"
    }
   ],
   "source": [
    "class_labels"
   ]
  },
  {
   "cell_type": "code",
   "execution_count": 89,
   "metadata": {},
   "outputs": [
    {
     "name": "stdout",
     "output_type": "stream",
     "text": [
      "              precision    recall  f1-score   support\n",
      "\n",
      "       anger      0.615     0.542     0.576       445\n",
      "     disgust      0.117     0.152     0.132        46\n",
      "        fear      0.495     0.490     0.492       296\n",
      "         joy      0.507     0.524     0.515       292\n",
      "     neutral      0.424     0.358     0.388       109\n",
      "     sadness      0.516     0.522     0.519       337\n",
      "    surprise      0.519     0.592     0.553       348\n",
      "\n",
      "   micro avg      0.515     0.516     0.516      1873\n",
      "   macro avg      0.456     0.454     0.454      1873\n",
      "weighted avg      0.520     0.516     0.517      1873\n",
      " samples avg      0.535     0.539     0.512      1873\n",
      "\n"
     ]
    }
   ],
   "source": [
    "print(classification_report(y_true_mhot, y_pred_mhot, target_names=class_labels, digits=3))"
   ]
  },
  {
   "cell_type": "code",
   "execution_count": null,
   "metadata": {},
   "outputs": [],
   "source": [
    "# with open({Path(FT_DIR)} / \"classification_report.pickle\", 'wb') as fh:\n",
    "    \n",
    "#      pickle.dump(classification_report(y_true_mhot, y_pred_mhot, target_names=class_labels, digits=3, output_dict=True), fh)"
   ]
  },
  {
   "cell_type": "raw",
   "metadata": {
    "vscode": {
     "languageId": "raw"
    }
   },
   "source": [
    "unsloth/Meta-Llama-3.1-70B-Instruct, 8 Epochs.\n",
    "\n",
    "precision    recall  f1-score   support\n",
    "\n",
    "       anger      0.601     0.569     0.584       445\n",
    "     disgust      0.160     0.174     0.167        46\n",
    "        fear      0.454     0.505     0.478       293\n",
    "         joy      0.534     0.465     0.497       271\n",
    "     neutral      0.574     0.321     0.412       109\n",
    "     sadness      0.535     0.601     0.566       333\n",
    "    surprise      0.580     0.678     0.625       342\n",
    "\n",
    "   micro avg      0.536     0.545     0.541      1839\n",
    "   macro avg      0.491     0.473     0.476      1839\n",
    "weighted avg      0.539     0.545     0.538      1839\n",
    " samples avg      0.555     0.557     0.532      1839"
   ]
  },
  {
   "cell_type": "raw",
   "metadata": {
    "vscode": {
     "languageId": "raw"
    }
   },
   "source": [
    "unsloth/llama-3-8b-Instruct-bnb-4bit, 8 epochs\n",
    "\n",
    "precision    recall  f1-score   support\n",
    "\n",
    "       anger      0.625     0.528     0.572       417\n",
    "     disgust      0.182     0.154     0.167        39\n",
    "        fear      0.520     0.449     0.482       294\n",
    "         joy      0.540     0.580     0.559       281\n",
    "     neutral      0.518     0.406     0.455       106\n",
    "     sadness      0.499     0.557     0.526       323\n",
    "    surprise      0.579     0.606     0.593       343\n",
    "\n",
    "   micro avg      0.546     0.528     0.537      1803\n",
    "   macro avg      0.495     0.469     0.479      1803\n",
    "weighted avg      0.547     0.528     0.535      1803\n",
    " samples avg      0.561     0.548     0.529      1803"
   ]
  },
  {
   "cell_type": "raw",
   "metadata": {
    "vscode": {
     "languageId": "raw"
    }
   },
   "source": [
    "unsloth/Meta-Llama-3.1-8B-Instruct-bnb-4bit\n",
    "\n",
    "precision    recall  f1-score   support\n",
    "\n",
    "       anger      0.557     0.582     0.570       443\n",
    "     disgust      0.196     0.200     0.198        50\n",
    "        fear      0.504     0.465     0.484       284\n",
    "         joy      0.529     0.583     0.555       278\n",
    "     neutral      0.397     0.237     0.297        97\n",
    "     sadness      0.509     0.515     0.512       328\n",
    "    surprise      0.616     0.624     0.620       348\n",
    "\n",
    "   micro avg      0.532     0.531     0.532      1828\n",
    "   macro avg      0.473     0.458     0.462      1828\n",
    "weighted avg      0.529     0.531     0.529      1828\n",
    " samples avg      0.550     0.544     0.523      1828"
   ]
  },
  {
   "cell_type": "raw",
   "metadata": {
    "vscode": {
     "languageId": "raw"
    }
   },
   "source": [
    "unsloth/Llama-3.2-3B-Instruct-bnb-4bit\n",
    "\n",
    "precision    recall  f1-score   support\n",
    "\n",
    "       anger      0.525     0.524     0.525       416\n",
    "     disgust      0.200     0.150     0.171        40\n",
    "        fear      0.438     0.491     0.463       281\n",
    "         joy      0.496     0.442     0.468       269\n",
    "     neutral      0.447     0.337     0.384       101\n",
    "     sadness      0.509     0.523     0.516       308\n",
    "    surprise      0.585     0.543     0.563       337\n",
    "\n",
    "   micro avg      0.504     0.490     0.497      1752\n",
    "   macro avg      0.457     0.430     0.441      1752\n",
    "weighted avg      0.504     0.490     0.496      1752\n",
    " samples avg      0.524     0.505     0.491      1752"
   ]
  },
  {
   "cell_type": "raw",
   "metadata": {
    "vscode": {
     "languageId": "raw"
    }
   },
   "source": [
    "unsloth/Llama-3.2-1B-Instruct-bnb-4bit\n",
    "\n",
    "precision    recall  f1-score   support\n",
    "\n",
    "       anger      0.489     0.538     0.512       398\n",
    "     disgust      0.250     0.175     0.206        40\n",
    "        fear      0.330     0.422     0.371       232\n",
    "         joy      0.450     0.440     0.445       243\n",
    "     neutral      0.241     0.169     0.198        77\n",
    "     sadness      0.472     0.449     0.461       267\n",
    "    surprise      0.490     0.507     0.498       294\n",
    "\n",
    "   micro avg      0.439     0.456     0.448      1551\n",
    "   macro avg      0.389     0.386     0.384      1551\n",
    "weighted avg      0.438     0.456     0.445      1551\n",
    " samples avg      0.457     0.468     0.437      1551"
   ]
  },
  {
   "cell_type": "raw",
   "metadata": {
    "vscode": {
     "languageId": "raw"
    }
   },
   "source": [
    "unsloth/Qwen2.5-32B-Instruct-bnb-4bit\n",
    "\n",
    "precision    recall  f1-score   support\n",
    "\n",
    "       anger      0.526     0.493     0.509       450\n",
    "     disgust      0.194     0.240     0.214        50\n",
    "        fear      0.481     0.438     0.459       297\n",
    "         joy      0.580     0.610     0.595       290\n",
    "     neutral      0.486     0.321     0.387       109\n",
    "     sadness      0.522     0.588     0.553       342\n",
    "    surprise      0.593     0.583     0.588       355\n",
    "\n",
    "   micro avg      0.528     0.520     0.524      1893\n",
    "   macro avg      0.483     0.468     0.472      1893\n",
    "weighted avg      0.528     0.520     0.522      1893\n",
    " samples avg      0.546     0.537     0.515      1893"
   ]
  },
  {
   "cell_type": "raw",
   "metadata": {
    "vscode": {
     "languageId": "raw"
    }
   },
   "source": [
    "unsloth/Qwen2.5-72B-Instruct-bnb-4bit\n",
    "\n",
    "precision    recall  f1-score   support\n",
    "\n",
    "       anger      0.577     0.562     0.569       447\n",
    "     disgust      0.136     0.130     0.133        46\n",
    "        fear      0.460     0.458     0.459       299\n",
    "         joy      0.560     0.558     0.559       294\n",
    "     neutral      0.440     0.346     0.387       107\n",
    "     sadness      0.518     0.594     0.553       342\n",
    "    surprise      0.599     0.555     0.576       353\n",
    "\n",
    "   micro avg      0.531     0.526     0.529      1888\n",
    "   macro avg      0.470     0.458     0.462      1888\n",
    "weighted avg      0.531     0.526     0.528      1888\n",
    " samples avg      0.550     0.547     0.521      1888"
   ]
  },
  {
   "cell_type": "raw",
   "metadata": {
    "vscode": {
     "languageId": "raw"
    }
   },
   "source": [
    "unsloth/Phi-3-medium-4k-instruct-bnb-4bit\n",
    "\n",
    "precision    recall  f1-score   support\n",
    "\n",
    "       anger      0.558     0.570     0.564       416\n",
    "     disgust      0.133     0.103     0.116        39\n",
    "        fear      0.473     0.441     0.457       281\n",
    "         joy      0.557     0.551     0.554       283\n",
    "     neutral      0.326     0.316     0.321        95\n",
    "     sadness      0.494     0.541     0.517       314\n",
    "    surprise      0.525     0.534     0.529       320\n",
    "\n",
    "   micro avg      0.507     0.510     0.509      1748\n",
    "   macro avg      0.438     0.437     0.437      1748\n",
    "weighted avg      0.504     0.510     0.507      1748\n",
    " samples avg      0.525     0.531     0.502      1748"
   ]
  },
  {
   "cell_type": "raw",
   "metadata": {
    "vscode": {
     "languageId": "raw"
    }
   },
   "source": [
    "precision    recall  f1-score   support\n",
    "\n",
    "       anger      0.570     0.584     0.577       445\n",
    "     disgust      0.296     0.174     0.219        46\n",
    "        fear      0.468     0.468     0.468       293\n",
    "         joy      0.544     0.476     0.508       271\n",
    "     neutral      0.506     0.385     0.438       109\n",
    "     sadness      0.508     0.601     0.550       333\n",
    "    surprise      0.628     0.608     0.618       342\n",
    "\n",
    "   micro avg      0.540     0.535     0.538      1839\n",
    "   macro avg      0.503     0.471     0.483      1839\n",
    "weighted avg      0.539     0.535     0.535      1839\n",
    " samples avg      0.556     0.550     0.529      1839\n",
    "\n",
    "\n",
    " w class probabilities. llama 8b"
   ]
  }
 ],
 "metadata": {
  "kernelspec": {
   "display_name": "Python 3 (ipykernel)",
   "language": "python",
   "name": "python3"
  },
  "language_info": {
   "codemirror_mode": {
    "name": "ipython",
    "version": 3
   },
   "file_extension": ".py",
   "mimetype": "text/x-python",
   "name": "python",
   "nbconvert_exporter": "python",
   "pygments_lexer": "ipython3",
   "version": "3.11.9"
  }
 },
 "nbformat": 4,
 "nbformat_minor": 2
}
