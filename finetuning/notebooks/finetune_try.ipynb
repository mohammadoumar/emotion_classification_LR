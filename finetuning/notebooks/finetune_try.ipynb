{
 "cells": [
  {
   "cell_type": "code",
   "execution_count": 1,
   "metadata": {},
   "outputs": [],
   "source": [
    "import os\n",
    "import ast\n",
    "import sys\n",
    "import json\n",
    "import torch\n",
    "import pickle\n",
    "import subprocess\n",
    "\n",
    "sys.path.append('../')\n",
    "\n",
    "import pandas as pd\n",
    "\n",
    "from pathlib import Path\n",
    "from tqdm import tqdm\n",
    "from llamafactory.chat import ChatModel\n",
    "from llamafactory.extras.misc import torch_gc\n",
    "from sklearn.metrics import classification_report\n",
    "#from utils.post_processing import post_process\n"
   ]
  },
  {
   "cell_type": "code",
   "execution_count": 2,
   "metadata": {},
   "outputs": [],
   "source": [
    "try:    \n",
    "    assert torch.cuda.is_available() is True\n",
    "    \n",
    "except AssertionError:\n",
    "    \n",
    "    print(\"Please set up a GPU before using LLaMA Factory...\")"
   ]
  },
  {
   "cell_type": "code",
   "execution_count": 3,
   "metadata": {},
   "outputs": [],
   "source": [
    "CURRENT_DIR = Path.cwd()\n",
    "FT_DIR = CURRENT_DIR / \"emotion_analysis_comics\" / \"finetuning\"\n",
    "DATASET_DIR = CURRENT_DIR / \"emotion_analysis_comics\" / \"finetuning\" / \"datasets\"\n",
    "\n",
    "ERC_DIR = FT_DIR.parent\n",
    "LLAMA_FACTORY_DIR = ERC_DIR / \"LLaMA-Factory\"\n",
    "\n",
    "BASE_MODEL = \"unsloth/Phi-3-medium-4k-instruct-bnb-4bit\"\n",
    "LOGGING_DIR = FT_DIR / \"training_logs\"\n",
    "OUTPUT_DIR = FT_DIR / \"saved_models\" / f\"\"\"comics35_pg_nb_{BASE_MODEL.split(\"/\")[1]}\"\"\""
   ]
  },
  {
   "cell_type": "code",
   "execution_count": 4,
   "metadata": {},
   "outputs": [],
   "source": [
    "DATASET_DIR = CURRENT_DIR / \"emotion_analysis_comics\" / \"finetuning\" / \"datasets\""
   ]
  },
  {
   "cell_type": "code",
   "execution_count": 5,
   "metadata": {},
   "outputs": [],
   "source": [
    "train_dataset_name = f\"\"\"comics35_utterance_pg_train.json\"\"\"\n",
    "test_dataset_name = f\"\"\"comics35_utterance_pg_test.json\"\"\"\n",
    "\n",
    "train_dataset_file = DATASET_DIR / train_dataset_name\n",
    "test_dataset_file = DATASET_DIR / test_dataset_name"
   ]
  },
  {
   "cell_type": "code",
   "execution_count": 6,
   "metadata": {},
   "outputs": [
    {
     "data": {
      "text/plain": [
       "PosixPath('/Utilisateurs/umushtaq/emotion_analysis_comics/finetuning/datasets/comics35_utterance_pg_train.json')"
      ]
     },
     "execution_count": 6,
     "metadata": {},
     "output_type": "execute_result"
    }
   ],
   "source": [
    "train_dataset_file"
   ]
  },
  {
   "cell_type": "code",
   "execution_count": 7,
   "metadata": {},
   "outputs": [],
   "source": [
    "\n",
    "if not os.path.exists(os.path.join(FT_DIR, \"model_args\")):\n",
    "    os.mkdir(os.path.join(FT_DIR, \"model_args\"))\n",
    "\n",
    "train_file = FT_DIR / \"model_args\" / f\"\"\"{train_dataset_name.split(\".\")[0].split(\"train\")[0]}{BASE_MODEL.split(\"/\")[1]}.json\"\"\""
   ]
  },
  {
   "cell_type": "code",
   "execution_count": 8,
   "metadata": {},
   "outputs": [],
   "source": [
    "dataset_info_line =  {\n",
    "  \"file_name\": f\"{train_dataset_file}\",\n",
    "  \"columns\": {\n",
    "    \"prompt\": \"instruction\",\n",
    "    \"query\": \"input\",\n",
    "    \"response\": \"output\"\n",
    "  }\n",
    "}"
   ]
  },
  {
   "cell_type": "code",
   "execution_count": 9,
   "metadata": {},
   "outputs": [],
   "source": [
    "with open(os.path.join(LLAMA_FACTORY_DIR, \"data/dataset_info.json\"), \"r\") as jsonFile:\n",
    "    data = json.load(jsonFile)\n",
    "\n",
    "data[\"comics\"] = dataset_info_line\n",
    "\n",
    "with open(os.path.join(LLAMA_FACTORY_DIR, \"data/dataset_info.json\"), \"w\") as jsonFile:\n",
    "    json.dump(data, jsonFile)"
   ]
  },
  {
   "cell_type": "code",
   "execution_count": 10,
   "metadata": {},
   "outputs": [],
   "source": [
    "NB_EPOCHS = 8"
   ]
  },
  {
   "cell_type": "code",
   "execution_count": 11,
   "metadata": {},
   "outputs": [],
   "source": [
    "args = dict(\n",
    "    \n",
    "  stage=\"sft\",                           # do supervised fine-tuning\n",
    "  do_train=True,\n",
    "\n",
    "  model_name_or_path=BASE_MODEL,         # use bnb-4bit-quantized Llama-3-8B-Instruct model\n",
    "  num_train_epochs=NB_EPOCHS,            # the epochs of training\n",
    "  output_dir=str(OUTPUT_DIR),                 # the path to save LoRA adapters\n",
    "  overwrite_output_dir=True,             # overrides existing output contents\n",
    "\n",
    "  dataset=\"comics\",                      # dataset name\n",
    "  template=\"phi\",                     # use llama3 prompt template\n",
    "  #train_on_prompt=True,\n",
    "  val_size=0.1,\n",
    "  max_samples=10000,                       # use 500 examples in each dataset\n",
    "\n",
    "  finetuning_type=\"lora\",                # use LoRA adapters to save memory\n",
    "  lora_target=\"all\",                     # attach LoRA adapters to all linear layers\n",
    "  per_device_train_batch_size=2,         # the batch size\n",
    "  gradient_accumulation_steps=4,         # the gradient accumulation steps\n",
    "  lr_scheduler_type=\"cosine\",            # use cosine learning rate scheduler\n",
    "  loraplus_lr_ratio=16.0,                # use LoRA+ algorithm with lambda=16.0\n",
    "  #temperature=0.5,\n",
    "  \n",
    "  warmup_ratio=0.1,                      # use warmup scheduler    \n",
    "  learning_rate=5e-5,                    # the learning rate\n",
    "  max_grad_norm=1.0,                     # clip gradient norm to 1.0\n",
    "  \n",
    "  fp16=True,                             # use float16 mixed precision training\n",
    "  quantization_bit=4,                    # use 4-bit QLoRA  \n",
    "  #use_liger_kernel=True,\n",
    "  #quantization_device_map=\"auto\",\n",
    "  \n",
    "  logging_steps=10,                      # log every 10 steps\n",
    "  save_steps=5000,                       # save checkpoint every 1000 steps    \n",
    "  logging_dir=str(LOGGING_DIR),\n",
    "  \n",
    "  # use_unsloth=True,\n",
    "  report_to=\"tensorboard\"                       # discards wandb\n",
    "\n",
    ")"
   ]
  },
  {
   "cell_type": "code",
   "execution_count": 12,
   "metadata": {},
   "outputs": [],
   "source": [
    "json.dump(args, open(train_file, \"w\", encoding=\"utf-8\"), indent=2)"
   ]
  },
  {
   "cell_type": "code",
   "execution_count": 13,
   "metadata": {},
   "outputs": [],
   "source": [
    "p = subprocess.Popen([\"llamafactory-cli\", \"train\", train_file], cwd=LLAMA_FACTORY_DIR)"
   ]
  },
  {
   "cell_type": "code",
   "execution_count": 14,
   "metadata": {},
   "outputs": [
    {
     "name": "stdout",
     "output_type": "stream",
     "text": [
      "11/08/2024 17:08:27 - INFO - llamafactory.cli - Initializing distributed tasks at: 127.0.0.1:22145\n"
     ]
    },
    {
     "name": "stderr",
     "output_type": "stream",
     "text": [
      "W1108 17:08:28.463000 140148605044032 torch/distributed/run.py:779] \n",
      "W1108 17:08:28.463000 140148605044032 torch/distributed/run.py:779] *****************************************\n",
      "W1108 17:08:28.463000 140148605044032 torch/distributed/run.py:779] Setting OMP_NUM_THREADS environment variable for each process to be 1 in default, to avoid your system being overloaded, please further tune the variable for optimal performance in your application as needed. \n",
      "W1108 17:08:28.463000 140148605044032 torch/distributed/run.py:779] *****************************************\n"
     ]
    },
    {
     "name": "stdout",
     "output_type": "stream",
     "text": [
      "11/08/2024 17:08:45 - WARNING - llamafactory.hparams.parser - We recommend enable `upcast_layernorm` in quantized training.\n",
      "11/08/2024 17:08:45 - WARNING - llamafactory.hparams.parser - `ddp_find_unused_parameters` needs to be set as False for LoRA in DDP training.\n",
      "11/08/2024 17:08:45 - INFO - llamafactory.hparams.parser - Process rank: 0, device: cuda:0, n_gpu: 1, distributed training: True, compute dtype: torch.float16\n"
     ]
    },
    {
     "name": "stderr",
     "output_type": "stream",
     "text": [
      "[INFO|configuration_utils.py:672] 2024-11-08 17:08:45,668 >> loading configuration file config.json from cache at /Utilisateurs/umushtaq/.cache/huggingface/hub/models--unsloth--Phi-3-medium-4k-instruct-bnb-4bit/snapshots/c25bfd6f5431529d5c2d16a410c72b2c030bb265/config.json\n",
      "[INFO|configuration_utils.py:739] 2024-11-08 17:08:45,669 >> Model config MistralConfig {\n",
      "  \"_name_or_path\": \"unsloth/Phi-3-medium-4k-instruct-bnb-4bit\",\n",
      "  \"architectures\": [\n",
      "    \"MistralForCausalLM\"\n",
      "  ],\n",
      "  \"attention_dropout\": 0.0,\n",
      "  \"bos_token_id\": 1,\n",
      "  \"eos_token_id\": 32000,\n",
      "  \"head_dim\": 128,\n",
      "  \"hidden_act\": \"silu\",\n",
      "  \"hidden_size\": 5120,\n",
      "  \"initializer_range\": 0.02,\n",
      "  \"intermediate_size\": 17920,\n",
      "  \"max_position_embeddings\": 4096,\n",
      "  \"model_type\": \"mistral\",\n",
      "  \"num_attention_heads\": 40,\n",
      "  \"num_hidden_layers\": 40,\n",
      "  \"num_key_value_heads\": 10,\n",
      "  \"pad_token_id\": 32009,\n",
      "  \"quantization_config\": {\n",
      "    \"_load_in_4bit\": true,\n",
      "    \"_load_in_8bit\": false,\n",
      "    \"bnb_4bit_compute_dtype\": \"bfloat16\",\n",
      "    \"bnb_4bit_quant_storage\": \"uint8\",\n",
      "    \"bnb_4bit_quant_type\": \"nf4\",\n",
      "    \"bnb_4bit_use_double_quant\": true,\n",
      "    \"llm_int8_enable_fp32_cpu_offload\": false,\n",
      "    \"llm_int8_has_fp16_weight\": false,\n",
      "    \"llm_int8_skip_modules\": null,\n",
      "    \"llm_int8_threshold\": 6.0,\n",
      "    \"load_in_4bit\": true,\n",
      "    \"load_in_8bit\": false,\n",
      "    \"quant_method\": \"bitsandbytes\"\n",
      "  },\n",
      "  \"rms_norm_eps\": 1e-05,\n",
      "  \"rope_theta\": 10000.0,\n",
      "  \"sliding_window\": 2048,\n",
      "  \"tie_word_embeddings\": false,\n",
      "  \"torch_dtype\": \"bfloat16\",\n",
      "  \"transformers_version\": \"4.45.0\",\n",
      "  \"unsloth_version\": \"2024.9\",\n",
      "  \"use_cache\": true,\n",
      "  \"vocab_size\": 32064\n",
      "}\n",
      "\n"
     ]
    },
    {
     "name": "stdout",
     "output_type": "stream",
     "text": [
      "11/08/2024 17:08:45 - WARNING - llamafactory.hparams.parser - We recommend enable `upcast_layernorm` in quantized training.\n",
      "11/08/2024 17:08:45 - WARNING - llamafactory.hparams.parser - `ddp_find_unused_parameters` needs to be set as False for LoRA in DDP training.\n",
      "11/08/2024 17:08:45 - INFO - llamafactory.hparams.parser - Process rank: 2, device: cuda:2, n_gpu: 1, distributed training: True, compute dtype: torch.float16\n",
      "11/08/2024 17:08:45 - WARNING - llamafactory.hparams.parser - We recommend enable `upcast_layernorm` in quantized training.\n",
      "11/08/2024 17:08:45 - WARNING - llamafactory.hparams.parser - `ddp_find_unused_parameters` needs to be set as False for LoRA in DDP training.\n",
      "11/08/2024 17:08:45 - INFO - llamafactory.hparams.parser - Process rank: 1, device: cuda:1, n_gpu: 1, distributed training: True, compute dtype: torch.float16\n",
      "11/08/2024 17:08:45 - WARNING - llamafactory.hparams.parser - We recommend enable `upcast_layernorm` in quantized training.\n",
      "11/08/2024 17:08:45 - WARNING - llamafactory.hparams.parser - `ddp_find_unused_parameters` needs to be set as False for LoRA in DDP training.\n",
      "11/08/2024 17:08:45 - INFO - llamafactory.hparams.parser - Process rank: 3, device: cuda:3, n_gpu: 1, distributed training: True, compute dtype: torch.float16\n",
      "11/08/2024 17:08:45 - WARNING - llamafactory.hparams.parser - We recommend enable `upcast_layernorm` in quantized training.\n",
      "11/08/2024 17:08:45 - WARNING - llamafactory.hparams.parser - `ddp_find_unused_parameters` needs to be set as False for LoRA in DDP training.\n",
      "11/08/2024 17:08:45 - INFO - llamafactory.hparams.parser - Process rank: 4, device: cuda:4, n_gpu: 1, distributed training: True, compute dtype: torch.float16\n"
     ]
    },
    {
     "name": "stderr",
     "output_type": "stream",
     "text": [
      "[INFO|tokenization_utils_base.py:2214] 2024-11-08 17:08:46,045 >> loading file tokenizer.model from cache at /Utilisateurs/umushtaq/.cache/huggingface/hub/models--unsloth--Phi-3-medium-4k-instruct-bnb-4bit/snapshots/c25bfd6f5431529d5c2d16a410c72b2c030bb265/tokenizer.model\n",
      "[INFO|tokenization_utils_base.py:2214] 2024-11-08 17:08:46,045 >> loading file tokenizer.json from cache at /Utilisateurs/umushtaq/.cache/huggingface/hub/models--unsloth--Phi-3-medium-4k-instruct-bnb-4bit/snapshots/c25bfd6f5431529d5c2d16a410c72b2c030bb265/tokenizer.json\n",
      "[INFO|tokenization_utils_base.py:2214] 2024-11-08 17:08:46,045 >> loading file added_tokens.json from cache at /Utilisateurs/umushtaq/.cache/huggingface/hub/models--unsloth--Phi-3-medium-4k-instruct-bnb-4bit/snapshots/c25bfd6f5431529d5c2d16a410c72b2c030bb265/added_tokens.json\n",
      "[INFO|tokenization_utils_base.py:2214] 2024-11-08 17:08:46,045 >> loading file special_tokens_map.json from cache at /Utilisateurs/umushtaq/.cache/huggingface/hub/models--unsloth--Phi-3-medium-4k-instruct-bnb-4bit/snapshots/c25bfd6f5431529d5c2d16a410c72b2c030bb265/special_tokens_map.json\n",
      "[INFO|tokenization_utils_base.py:2214] 2024-11-08 17:08:46,045 >> loading file tokenizer_config.json from cache at /Utilisateurs/umushtaq/.cache/huggingface/hub/models--unsloth--Phi-3-medium-4k-instruct-bnb-4bit/snapshots/c25bfd6f5431529d5c2d16a410c72b2c030bb265/tokenizer_config.json\n",
      "[INFO|tokenization_utils_base.py:2478] 2024-11-08 17:08:46,250 >> Special tokens have been added in the vocabulary, make sure the associated word embeddings are fine-tuned or trained.\n",
      "[INFO|configuration_utils.py:672] 2024-11-08 17:08:46,777 >> loading configuration file config.json from cache at /Utilisateurs/umushtaq/.cache/huggingface/hub/models--unsloth--Phi-3-medium-4k-instruct-bnb-4bit/snapshots/c25bfd6f5431529d5c2d16a410c72b2c030bb265/config.json\n",
      "[INFO|configuration_utils.py:739] 2024-11-08 17:08:46,778 >> Model config MistralConfig {\n",
      "  \"_name_or_path\": \"unsloth/Phi-3-medium-4k-instruct-bnb-4bit\",\n",
      "  \"architectures\": [\n",
      "    \"MistralForCausalLM\"\n",
      "  ],\n",
      "  \"attention_dropout\": 0.0,\n",
      "  \"bos_token_id\": 1,\n",
      "  \"eos_token_id\": 32000,\n",
      "  \"head_dim\": 128,\n",
      "  \"hidden_act\": \"silu\",\n",
      "  \"hidden_size\": 5120,\n",
      "  \"initializer_range\": 0.02,\n",
      "  \"intermediate_size\": 17920,\n",
      "  \"max_position_embeddings\": 4096,\n",
      "  \"model_type\": \"mistral\",\n",
      "  \"num_attention_heads\": 40,\n",
      "  \"num_hidden_layers\": 40,\n",
      "  \"num_key_value_heads\": 10,\n",
      "  \"pad_token_id\": 32009,\n",
      "  \"quantization_config\": {\n",
      "    \"_load_in_4bit\": true,\n",
      "    \"_load_in_8bit\": false,\n",
      "    \"bnb_4bit_compute_dtype\": \"bfloat16\",\n",
      "    \"bnb_4bit_quant_storage\": \"uint8\",\n",
      "    \"bnb_4bit_quant_type\": \"nf4\",\n",
      "    \"bnb_4bit_use_double_quant\": true,\n",
      "    \"llm_int8_enable_fp32_cpu_offload\": false,\n",
      "    \"llm_int8_has_fp16_weight\": false,\n",
      "    \"llm_int8_skip_modules\": null,\n",
      "    \"llm_int8_threshold\": 6.0,\n",
      "    \"load_in_4bit\": true,\n",
      "    \"load_in_8bit\": false,\n",
      "    \"quant_method\": \"bitsandbytes\"\n",
      "  },\n",
      "  \"rms_norm_eps\": 1e-05,\n",
      "  \"rope_theta\": 10000.0,\n",
      "  \"sliding_window\": 2048,\n",
      "  \"tie_word_embeddings\": false,\n",
      "  \"torch_dtype\": \"bfloat16\",\n",
      "  \"transformers_version\": \"4.45.0\",\n",
      "  \"unsloth_version\": \"2024.9\",\n",
      "  \"use_cache\": true,\n",
      "  \"vocab_size\": 32064\n",
      "}\n",
      "\n",
      "[INFO|tokenization_utils_base.py:2214] 2024-11-08 17:08:46,892 >> loading file tokenizer.model from cache at /Utilisateurs/umushtaq/.cache/huggingface/hub/models--unsloth--Phi-3-medium-4k-instruct-bnb-4bit/snapshots/c25bfd6f5431529d5c2d16a410c72b2c030bb265/tokenizer.model\n",
      "[INFO|tokenization_utils_base.py:2214] 2024-11-08 17:08:46,892 >> loading file tokenizer.json from cache at /Utilisateurs/umushtaq/.cache/huggingface/hub/models--unsloth--Phi-3-medium-4k-instruct-bnb-4bit/snapshots/c25bfd6f5431529d5c2d16a410c72b2c030bb265/tokenizer.json\n",
      "[INFO|tokenization_utils_base.py:2214] 2024-11-08 17:08:46,892 >> loading file added_tokens.json from cache at /Utilisateurs/umushtaq/.cache/huggingface/hub/models--unsloth--Phi-3-medium-4k-instruct-bnb-4bit/snapshots/c25bfd6f5431529d5c2d16a410c72b2c030bb265/added_tokens.json\n",
      "[INFO|tokenization_utils_base.py:2214] 2024-11-08 17:08:46,892 >> loading file special_tokens_map.json from cache at /Utilisateurs/umushtaq/.cache/huggingface/hub/models--unsloth--Phi-3-medium-4k-instruct-bnb-4bit/snapshots/c25bfd6f5431529d5c2d16a410c72b2c030bb265/special_tokens_map.json\n",
      "[INFO|tokenization_utils_base.py:2214] 2024-11-08 17:08:46,892 >> loading file tokenizer_config.json from cache at /Utilisateurs/umushtaq/.cache/huggingface/hub/models--unsloth--Phi-3-medium-4k-instruct-bnb-4bit/snapshots/c25bfd6f5431529d5c2d16a410c72b2c030bb265/tokenizer_config.json\n",
      "[INFO|tokenization_utils_base.py:2478] 2024-11-08 17:08:46,981 >> Special tokens have been added in the vocabulary, make sure the associated word embeddings are fine-tuned or trained.\n"
     ]
    },
    {
     "name": "stdout",
     "output_type": "stream",
     "text": [
      "11/08/2024 17:08:46 - INFO - llamafactory.data.template - Replace eos token: <|end|>\n",
      "11/08/2024 17:08:46 - WARNING - llamafactory.data.template - New tokens have been added, make sure `resize_vocab` is True.\n",
      "11/08/2024 17:08:46 - INFO - llamafactory.data.loader - Loading dataset /Utilisateurs/umushtaq/emotion_analysis_comics/finetuning/datasets/comics35_utterance_pg_train.json...\n",
      "11/08/2024 17:08:47 - INFO - llamafactory.data.template - Replace eos token: <|end|>\n",
      "11/08/2024 17:08:47 - WARNING - llamafactory.data.template - New tokens have been added, make sure `resize_vocab` is True.\n",
      "11/08/2024 17:08:47 - INFO - llamafactory.data.template - Replace eos token: <|end|>\n",
      "11/08/2024 17:08:47 - WARNING - llamafactory.data.template - New tokens have been added, make sure `resize_vocab` is True.\n",
      "11/08/2024 17:08:47 - INFO - llamafactory.data.template - Replace eos token: <|end|>\n",
      "11/08/2024 17:08:47 - INFO - llamafactory.data.template - Replace eos token: <|end|>\n",
      "11/08/2024 17:08:47 - WARNING - llamafactory.data.template - New tokens have been added, make sure `resize_vocab` is True.\n",
      "11/08/2024 17:08:47 - WARNING - llamafactory.data.template - New tokens have been added, make sure `resize_vocab` is True.\n"
     ]
    },
    {
     "name": "stderr",
     "output_type": "stream",
     "text": [
      "Converting format of dataset: 100%|██████████| 718/718 [00:00<00:00, 12694.05 examples/s]\n"
     ]
    },
    {
     "name": "stdout",
     "output_type": "stream",
     "text": [
      "11/08/2024 17:08:49 - INFO - llamafactory.data.loader - Loading dataset /Utilisateurs/umushtaq/emotion_analysis_comics/finetuning/datasets/comics35_utterance_pg_train.json...\n",
      "11/08/2024 17:08:49 - INFO - llamafactory.data.loader - Loading dataset /Utilisateurs/umushtaq/emotion_analysis_comics/finetuning/datasets/comics35_utterance_pg_train.json...\n",
      "11/08/2024 17:08:49 - INFO - llamafactory.data.loader - Loading dataset /Utilisateurs/umushtaq/emotion_analysis_comics/finetuning/datasets/comics35_utterance_pg_train.json...\n",
      "11/08/2024 17:08:49 - INFO - llamafactory.data.loader - Loading dataset /Utilisateurs/umushtaq/emotion_analysis_comics/finetuning/datasets/comics35_utterance_pg_train.json...\n"
     ]
    },
    {
     "name": "stderr",
     "output_type": "stream",
     "text": [
      "Running tokenizer on dataset: 100%|██████████| 718/718 [00:02<00:00, 304.36 examples/s]\n"
     ]
    },
    {
     "name": "stdout",
     "output_type": "stream",
     "text": [
      "training example:\n",
      "input_ids:\n",
      "[1, 32010, 835, 2812, 8194, 24352, 1222, 10700, 1528, 280, 13, 13, 3492, 526, 385, 12862, 953, 8194, 7418, 17924, 4266, 5281, 297, 419, 293, 3143, 7928, 434, 19854, 29889, 3575, 3414, 338, 304, 27599, 14401, 2925, 322, 12439, 1009, 23023, 1848, 2793, 29889, 13, 13, 1177, 12336, 29901, 13, 29899, 887, 674, 7150, 263, 1051, 310, 14401, 2925, 515, 263, 1813, 297, 263, 419, 293, 3143, 13, 29899, 450, 14401, 749, 1122, 4653, 697, 470, 2999, 23023, 1080, 13, 13, 29911, 3289, 29968, 29901, 13, 29896, 29889, 10057, 3730, 27599, 278, 23023, 1848, 3030, 322, 16225, 310, 1269, 14401, 749, 297, 278, 1813, 13, 29906, 29889, 13355, 1598, 22903, 23023, 1080, 515, 278, 1494, 4413, 29901, 13, 259, 376, 4600, 613, 376, 2218, 29887, 504, 613, 376, 29888, 799, 613, 376, 29879, 328, 2264, 613, 376, 7610, 7734, 613, 376, 2212, 29891, 613, 376, 17821, 1705, 29908, 13, 29941, 29889, 1152, 1269, 14401, 749, 297, 263, 419, 293, 1813, 29892, 12439, 599, 23023, 1080, 2198, 322, 736, 385, 1409, 310, 953, 8194, 7049, 297, 1797, 29889, 13, 13, 28283, 17101, 29901, 13, 29896, 29889, 4803, 6732, 16786, 278, 11073, 9904, 2038, 13, 29906, 29889, 10604, 1818, 367, 263, 4663, 411, 2323, 1820, 376, 3488, 29918, 6463, 749, 29918, 331, 327, 1080, 29908, 13, 29941, 29889, 7865, 1818, 367, 385, 1409, 988, 29901, 13, 259, 448, 7806, 1543, 338, 385, 1409, 310, 23023, 1080, 363, 697, 14401, 749, 13, 259, 448, 8170, 7087, 278, 1881, 14401, 2925, 1797, 13, 259, 448, 26905, 23023, 1080, 526, 6068, 639, 14401, 749, 13, 29946, 29889, 1939, 7309, 800, 29892, 871, 4663, 1962, 13, 13, 29902, 3580, 8476, 13566, 29901, 13, 29899, 7806, 1409, 1543, 16161, 304, 697, 14401, 749, 13, 29899, 3118, 14401, 749, 508, 505, 2999, 23023, 1080, 13, 29899, 341, 2365, 475, 2684, 805, 7807, 322, 1206, 310, 953, 8194, 11073, 13, 29899, 19152, 23023, 1080, 297, 7049, 1584, 363, 2323, 23023, 1080, 13, 13, 13, 10454, 27599, 1438, 14401, 2925, 297, 263, 1813, 29901, 13, 29896, 29889, 3446, 3235, 5473, 1307, 3446, 4214, 15531, 8687, 29968, 3352, 6093, 317, 1529, 2208, 20700, 28938, 29903, 8079, 19519, 317, 8187, 15989, 30098, 29871, 13, 29906, 29889, 16088, 13315, 349, 3904, 3210, 3352, 19519, 20700, 20656, 6545, 13309, 341, 1299, 6227, 7698, 30098, 5300, 405, 9806, 13315, 20700, 10749, 15842, 365, 6545, 29923, 29889, 13, 29941, 29889, 19519, 14861, 1254, 1001, 29991, 13, 29946, 29889, 349, 14063, 29991, 13, 29945, 29889, 350, 2692, 306, 379, 7520, 29923, 6058, 5868, 8127, 29928, 3446, 3235, 341, 1164, 1254, 1001, 15149, 3446, 3235, 399, 29909, 29979, 7495, 365, 2544, 13315, 402, 1672, 29963, 6670, 29991, 13, 29953, 29889, 17714, 1964, 341, 17896, 29923, 29991, 13, 29955, 29889, 306, 379, 7520, 29923, 4810, 2303, 7495, 8707, 29984, 489, 29991, 13, 29947, 29889, 12317, 1299, 489, 13, 29929, 29889, 1192, 3235, 3446, 1299, 29973, 29991, 13, 29896, 29900, 29889, 11698, 29991, 11698, 29991, 32007, 29871, 13, 32001, 8853, 3488, 29918, 6463, 749, 29918, 331, 327, 1080, 1115, 518, 3366, 4600, 12436, 6796, 4600, 12436, 6796, 29888, 799, 12436, 6796, 29888, 799, 12436, 6796, 29888, 799, 613, 376, 29879, 328, 2264, 12436, 6796, 29879, 328, 2264, 12436, 6796, 4600, 12436, 6796, 7610, 7734, 12436, 6796, 7610, 7734, 12436, 6796, 29888, 799, 613, 376, 7610, 7734, 3108, 12258, 32007]\n",
      "inputs:\n",
      "<s><|user|> ### Emotion Analysis Expert Role\n",
      "\n",
      "You are an advanced emotion analysis expert specializing in comic book dialogue interpretation. Your task is to analyze utterances and identify their emotional content.\n",
      "\n",
      "INPUT:\n",
      "- You will receive a list of utterances from a page in a comic book\n",
      "- The utterance may express one or multiple emotions\n",
      "\n",
      "TASK:\n",
      "1. Carefully analyze the emotional context and tone of each utterance in the page\n",
      "2. Identify applicable emotions from the following classes:\n",
      "   \"anger\", \"disgust\", \"fear\", \"sadness\", \"surprise\", \"joy\", \"neutral\"\n",
      "3. For each utterance in a comic page, identify all emotions present and return an array of emotion arrays in order.\n",
      "\n",
      "RULES:\n",
      "1. Use ONLY the labels listed above\n",
      "2. Output must be a JSON with single key \"page_utterance_emotions\"\n",
      "3. Value must be an array where:\n",
      "   - Each element is an array of emotions for one utterance\n",
      "   - Order matches the input utterances order\n",
      "   - Multiple emotions are allowed per utterance\n",
      "4. No explanations, only JSON output\n",
      "\n",
      "IMPORTANT:\n",
      "- Each array element corresponds to one utterance\n",
      "- One utterance can have multiple emotions\n",
      "- Maintain exact spelling and case of emotion labels\n",
      "- Keep emotions in arrays even for single emotions\n",
      "\n",
      "\n",
      "Now analyze these utterances in a page:\n",
      "1. THIS VILE THING ATTACKED THE SMALL BEASTS OF MY SHORES… \n",
      "2. … IT PUNCHED MY BEAUTIFUL MATILDA… AND NOW IT BEGS FOR LIFE.\n",
      "3. MY MASTER!\n",
      "4. PLEASE!\n",
      "5. BUT I HAVE NOT CHASED THIS MONSTER ALL THIS WAY TO LET IT GROVEL!\n",
      "6. HEAL MEEE!\n",
      "7. I HAVE COME TO CONQ--!\n",
      "8. WHAT--\n",
      "9. --IS THAT?!\n",
      "10. NO! NO!<|end|> \n",
      "<|assistant|> {\"page_utterance_emotions\": [[\"anger\"], [\"anger\"], [\"fear\"], [\"fear\"], [\"fear\", \"sadness\"], [\"sadness\"], [\"anger\"], [\"surprise\"], [\"surprise\"], [\"fear\", \"surprise\"]]}<|end|>\n",
      "label_ids:\n",
      "[-100, -100, -100, -100, -100, -100, -100, -100, -100, -100, -100, -100, -100, -100, -100, -100, -100, -100, -100, -100, -100, -100, -100, -100, -100, -100, -100, -100, -100, -100, -100, -100, -100, -100, -100, -100, -100, -100, -100, -100, -100, -100, -100, -100, -100, -100, -100, -100, -100, -100, -100, -100, -100, -100, -100, -100, -100, -100, -100, -100, -100, -100, -100, -100, -100, -100, -100, -100, -100, -100, -100, -100, -100, -100, -100, -100, -100, -100, -100, -100, -100, -100, -100, -100, -100, -100, -100, -100, -100, -100, -100, -100, -100, -100, -100, -100, -100, -100, -100, -100, -100, -100, -100, -100, -100, -100, -100, -100, -100, -100, -100, -100, -100, -100, -100, -100, -100, -100, -100, -100, -100, -100, -100, -100, -100, -100, -100, -100, -100, -100, -100, -100, -100, -100, -100, -100, -100, -100, -100, -100, -100, -100, -100, -100, -100, -100, -100, -100, -100, -100, -100, -100, -100, -100, -100, -100, -100, -100, -100, -100, -100, -100, -100, -100, -100, -100, -100, -100, -100, -100, -100, -100, -100, -100, -100, -100, -100, -100, -100, -100, -100, -100, -100, -100, -100, -100, -100, -100, -100, -100, -100, -100, -100, -100, -100, -100, -100, -100, -100, -100, -100, -100, -100, -100, -100, -100, -100, -100, -100, -100, -100, -100, -100, -100, -100, -100, -100, -100, -100, -100, -100, -100, -100, -100, -100, -100, -100, -100, -100, -100, -100, -100, -100, -100, -100, -100, -100, -100, -100, -100, -100, -100, -100, -100, -100, -100, -100, -100, -100, -100, -100, -100, -100, -100, -100, -100, -100, -100, -100, -100, -100, -100, -100, -100, -100, -100, -100, -100, -100, -100, -100, -100, -100, -100, -100, -100, -100, -100, -100, -100, -100, -100, -100, -100, -100, -100, -100, -100, -100, -100, -100, -100, -100, -100, -100, -100, -100, -100, -100, -100, -100, -100, -100, -100, -100, -100, -100, -100, -100, -100, -100, -100, -100, -100, -100, -100, -100, -100, -100, -100, -100, -100, -100, -100, -100, -100, -100, -100, -100, -100, -100, -100, -100, -100, -100, -100, -100, -100, -100, -100, -100, -100, -100, -100, -100, -100, -100, -100, -100, -100, -100, -100, -100, -100, -100, -100, -100, -100, -100, -100, -100, -100, -100, -100, -100, -100, -100, -100, -100, -100, -100, -100, -100, -100, -100, -100, -100, -100, -100, -100, -100, -100, -100, -100, -100, -100, -100, -100, -100, -100, -100, -100, -100, -100, -100, -100, -100, -100, -100, -100, -100, -100, -100, -100, -100, -100, -100, -100, -100, -100, -100, -100, -100, -100, -100, -100, -100, -100, -100, -100, -100, -100, -100, -100, -100, -100, -100, -100, -100, -100, -100, -100, -100, -100, -100, -100, -100, -100, -100, -100, -100, -100, -100, -100, -100, -100, -100, -100, -100, -100, -100, -100, -100, -100, -100, -100, -100, -100, -100, -100, -100, -100, -100, -100, -100, -100, -100, -100, -100, -100, -100, -100, -100, -100, -100, -100, -100, -100, -100, -100, -100, -100, -100, -100, -100, -100, -100, -100, -100, 8853, 3488, 29918, 6463, 749, 29918, 331, 327, 1080, 1115, 518, 3366, 4600, 12436, 6796, 4600, 12436, 6796, 29888, 799, 12436, 6796, 29888, 799, 12436, 6796, 29888, 799, 613, 376, 29879, 328, 2264, 12436, 6796, 29879, 328, 2264, 12436, 6796, 4600, 12436, 6796, 7610, 7734, 12436, 6796, 7610, 7734, 12436, 6796, 29888, 799, 613, 376, 7610, 7734, 3108, 12258, 32007]\n",
      "labels:\n",
      "{\"page_utterance_emotions\": [[\"anger\"], [\"anger\"], [\"fear\"], [\"fear\"], [\"fear\", \"sadness\"], [\"sadness\"], [\"anger\"], [\"surprise\"], [\"surprise\"], [\"fear\", \"surprise\"]]}<|end|>\n",
      "11/08/2024 17:08:52 - WARNING - llamafactory.model.model_utils.quantization - `quantization_bit` will not affect on the PTQ-quantized models.\n",
      "11/08/2024 17:08:52 - INFO - llamafactory.model.model_utils.quantization - Loading ?-bit BITSANDBYTES-quantized model.\n"
     ]
    },
    {
     "name": "stderr",
     "output_type": "stream",
     "text": [
      "[INFO|configuration_utils.py:672] 2024-11-08 17:08:52,297 >> loading configuration file config.json from cache at /Utilisateurs/umushtaq/.cache/huggingface/hub/models--unsloth--Phi-3-medium-4k-instruct-bnb-4bit/snapshots/c25bfd6f5431529d5c2d16a410c72b2c030bb265/config.json\n",
      "[INFO|configuration_utils.py:739] 2024-11-08 17:08:52,298 >> Model config MistralConfig {\n",
      "  \"_name_or_path\": \"unsloth/Phi-3-medium-4k-instruct-bnb-4bit\",\n",
      "  \"architectures\": [\n",
      "    \"MistralForCausalLM\"\n",
      "  ],\n",
      "  \"attention_dropout\": 0.0,\n",
      "  \"bos_token_id\": 1,\n",
      "  \"eos_token_id\": 32000,\n",
      "  \"head_dim\": 128,\n",
      "  \"hidden_act\": \"silu\",\n",
      "  \"hidden_size\": 5120,\n",
      "  \"initializer_range\": 0.02,\n",
      "  \"intermediate_size\": 17920,\n",
      "  \"max_position_embeddings\": 4096,\n",
      "  \"model_type\": \"mistral\",\n",
      "  \"num_attention_heads\": 40,\n",
      "  \"num_hidden_layers\": 40,\n",
      "  \"num_key_value_heads\": 10,\n",
      "  \"pad_token_id\": 32009,\n",
      "  \"quantization_config\": {\n",
      "    \"_load_in_4bit\": true,\n",
      "    \"_load_in_8bit\": false,\n",
      "    \"bnb_4bit_compute_dtype\": \"bfloat16\",\n",
      "    \"bnb_4bit_quant_storage\": \"uint8\",\n",
      "    \"bnb_4bit_quant_type\": \"nf4\",\n",
      "    \"bnb_4bit_use_double_quant\": true,\n",
      "    \"llm_int8_enable_fp32_cpu_offload\": false,\n",
      "    \"llm_int8_has_fp16_weight\": false,\n",
      "    \"llm_int8_skip_modules\": null,\n",
      "    \"llm_int8_threshold\": 6.0,\n",
      "    \"load_in_4bit\": true,\n",
      "    \"load_in_8bit\": false,\n",
      "    \"quant_method\": \"bitsandbytes\"\n",
      "  },\n",
      "  \"rms_norm_eps\": 1e-05,\n",
      "  \"rope_theta\": 10000.0,\n",
      "  \"sliding_window\": 2048,\n",
      "  \"tie_word_embeddings\": false,\n",
      "  \"torch_dtype\": \"bfloat16\",\n",
      "  \"transformers_version\": \"4.45.0\",\n",
      "  \"unsloth_version\": \"2024.9\",\n",
      "  \"use_cache\": true,\n",
      "  \"vocab_size\": 32064\n",
      "}\n",
      "\n",
      "[WARNING|quantization_config.py:400] 2024-11-08 17:08:52,389 >> Unused kwargs: ['_load_in_4bit', '_load_in_8bit', 'quant_method']. These kwargs are not used in <class 'transformers.utils.quantization_config.BitsAndBytesConfig'>.\n"
     ]
    },
    {
     "name": "stdout",
     "output_type": "stream",
     "text": [
      "11/08/2024 17:08:52 - WARNING - llamafactory.model.model_utils.quantization - `quantization_bit` will not affect on the PTQ-quantized models.\n",
      "11/08/2024 17:08:52 - INFO - llamafactory.model.model_utils.quantization - Loading ?-bit BITSANDBYTES-quantized model.\n",
      "11/08/2024 17:08:52 - WARNING - llamafactory.model.model_utils.quantization - `quantization_bit` will not affect on the PTQ-quantized models.\n",
      "11/08/2024 17:08:52 - INFO - llamafactory.model.model_utils.quantization - Loading ?-bit BITSANDBYTES-quantized model.\n",
      "11/08/2024 17:08:52 - WARNING - llamafactory.model.model_utils.quantization - `quantization_bit` will not affect on the PTQ-quantized models.\n",
      "11/08/2024 17:08:52 - INFO - llamafactory.model.model_utils.quantization - Loading ?-bit BITSANDBYTES-quantized model.\n",
      "11/08/2024 17:08:52 - WARNING - llamafactory.model.model_utils.quantization - `quantization_bit` will not affect on the PTQ-quantized models.\n",
      "11/08/2024 17:08:52 - INFO - llamafactory.model.model_utils.quantization - Loading ?-bit BITSANDBYTES-quantized model.\n"
     ]
    },
    {
     "name": "stderr",
     "output_type": "stream",
     "text": [
      "Unused kwargs: ['_load_in_4bit', '_load_in_8bit', 'quant_method']. These kwargs are not used in <class 'transformers.utils.quantization_config.BitsAndBytesConfig'>.\n",
      "Unused kwargs: ['_load_in_4bit', '_load_in_8bit', 'quant_method']. These kwargs are not used in <class 'transformers.utils.quantization_config.BitsAndBytesConfig'>.\n",
      "Unused kwargs: ['_load_in_4bit', '_load_in_8bit', 'quant_method']. These kwargs are not used in <class 'transformers.utils.quantization_config.BitsAndBytesConfig'>.\n",
      "Unused kwargs: ['_load_in_4bit', '_load_in_8bit', 'quant_method']. These kwargs are not used in <class 'transformers.utils.quantization_config.BitsAndBytesConfig'>.\n",
      "[INFO|modeling_utils.py:3726] 2024-11-08 17:08:53,192 >> loading weights file model.safetensors from cache at /Utilisateurs/umushtaq/.cache/huggingface/hub/models--unsloth--Phi-3-medium-4k-instruct-bnb-4bit/snapshots/c25bfd6f5431529d5c2d16a410c72b2c030bb265/model.safetensors.index.json\n",
      "[INFO|modeling_utils.py:1622] 2024-11-08 17:08:53,229 >> Instantiating MistralForCausalLM model under default dtype torch.float16.\n",
      "[INFO|configuration_utils.py:1099] 2024-11-08 17:08:53,230 >> Generate config GenerationConfig {\n",
      "  \"bos_token_id\": 1,\n",
      "  \"eos_token_id\": 32000,\n",
      "  \"pad_token_id\": 32009\n",
      "}\n",
      "\n",
      "Loading checkpoint shards: 100%|██████████| 2/2 [01:09<00:00, 34.91s/it]\n",
      "Loading checkpoint shards: 100%|██████████| 2/2 [01:09<00:00, 34.96s/it]\n",
      "Loading checkpoint shards: 100%|██████████| 2/2 [01:09<00:00, 34.96s/it]\n",
      "Loading checkpoint shards: 100%|██████████| 2/2 [01:09<00:00, 34.96s/it]\n",
      "Loading checkpoint shards: 100%|██████████| 2/2 [01:09<00:00, 34.99s/it]\n",
      "[INFO|modeling_utils.py:4568] 2024-11-08 17:10:04,432 >> All model checkpoint weights were used when initializing MistralForCausalLM.\n",
      "\n",
      "[INFO|modeling_utils.py:4576] 2024-11-08 17:10:04,433 >> All the weights of MistralForCausalLM were initialized from the model checkpoint at unsloth/Phi-3-medium-4k-instruct-bnb-4bit.\n",
      "If your task is similar to the task the model of the checkpoint was trained on, you can already use MistralForCausalLM for predictions without further training.\n",
      "[INFO|configuration_utils.py:1054] 2024-11-08 17:10:04,557 >> loading configuration file generation_config.json from cache at /Utilisateurs/umushtaq/.cache/huggingface/hub/models--unsloth--Phi-3-medium-4k-instruct-bnb-4bit/snapshots/c25bfd6f5431529d5c2d16a410c72b2c030bb265/generation_config.json\n",
      "[INFO|configuration_utils.py:1099] 2024-11-08 17:10:04,557 >> Generate config GenerationConfig {\n",
      "  \"bos_token_id\": 1,\n",
      "  \"eos_token_id\": [\n",
      "    32000,\n",
      "    32001,\n",
      "    32007\n",
      "  ],\n",
      "  \"max_length\": 4096,\n",
      "  \"pad_token_id\": 32009\n",
      "}\n",
      "\n"
     ]
    },
    {
     "name": "stdout",
     "output_type": "stream",
     "text": [
      "11/08/2024 17:10:05 - INFO - llamafactory.model.model_utils.checkpointing - Gradient checkpointing enabled.\n",
      "11/08/2024 17:10:05 - INFO - llamafactory.model.model_utils.attention - Using torch SDPA for faster training and inference.\n",
      "11/08/2024 17:10:05 - INFO - llamafactory.model.adapter - Upcasting trainable params to float32.\n",
      "11/08/2024 17:10:05 - INFO - llamafactory.model.adapter - Fine-tuning method: LoRA\n",
      "11/08/2024 17:10:05 - INFO - llamafactory.model.model_utils.misc - Found linear modules: down_proj,up_proj,v_proj,gate_proj,k_proj,o_proj,q_proj\n",
      "11/08/2024 17:10:05 - INFO - llamafactory.model.model_utils.checkpointing - Gradient checkpointing enabled.\n",
      "11/08/2024 17:10:05 - INFO - llamafactory.model.model_utils.checkpointing - Gradient checkpointing enabled.\n",
      "11/08/2024 17:10:05 - INFO - llamafactory.model.model_utils.attention - Using torch SDPA for faster training and inference.\n",
      "11/08/2024 17:10:05 - INFO - llamafactory.model.adapter - Upcasting trainable params to float32.\n",
      "11/08/2024 17:10:05 - INFO - llamafactory.model.adapter - Fine-tuning method: LoRA\n",
      "11/08/2024 17:10:05 - INFO - llamafactory.model.model_utils.misc - Found linear modules: q_proj,k_proj,up_proj,down_proj,v_proj,o_proj,gate_proj\n",
      "11/08/2024 17:10:05 - INFO - llamafactory.model.model_utils.attention - Using torch SDPA for faster training and inference.\n",
      "11/08/2024 17:10:05 - INFO - llamafactory.model.model_utils.checkpointing - Gradient checkpointing enabled.\n",
      "11/08/2024 17:10:05 - INFO - llamafactory.model.adapter - Upcasting trainable params to float32.\n",
      "11/08/2024 17:10:05 - INFO - llamafactory.model.adapter - Fine-tuning method: LoRA\n",
      "11/08/2024 17:10:05 - INFO - llamafactory.model.model_utils.misc - Found linear modules: k_proj,down_proj,o_proj,up_proj,q_proj,v_proj,gate_proj\n",
      "11/08/2024 17:10:05 - INFO - llamafactory.model.model_utils.checkpointing - Gradient checkpointing enabled.\n",
      "11/08/2024 17:10:05 - INFO - llamafactory.model.model_utils.attention - Using torch SDPA for faster training and inference.\n",
      "11/08/2024 17:10:05 - INFO - llamafactory.model.adapter - Upcasting trainable params to float32.\n",
      "11/08/2024 17:10:05 - INFO - llamafactory.model.adapter - Fine-tuning method: LoRA\n",
      "11/08/2024 17:10:05 - INFO - llamafactory.model.model_utils.misc - Found linear modules: o_proj,up_proj,gate_proj,k_proj,down_proj,v_proj,q_proj\n",
      "11/08/2024 17:10:05 - INFO - llamafactory.model.model_utils.attention - Using torch SDPA for faster training and inference.\n",
      "11/08/2024 17:10:05 - INFO - llamafactory.model.adapter - Upcasting trainable params to float32.\n",
      "11/08/2024 17:10:05 - INFO - llamafactory.model.adapter - Fine-tuning method: LoRA\n",
      "11/08/2024 17:10:05 - INFO - llamafactory.model.model_utils.misc - Found linear modules: q_proj,v_proj,k_proj,up_proj,o_proj,down_proj,gate_proj\n",
      "11/08/2024 17:10:07 - INFO - llamafactory.model.loader - trainable params: 32,768,000 || all params: 13,993,006,080 || trainable%: 0.2342\n"
     ]
    },
    {
     "name": "stderr",
     "output_type": "stream",
     "text": [
      "/Utilisateurs/umushtaq/.conda/envs/er_nb_env/lib/python3.11/site-packages/accelerate/accelerator.py:494: FutureWarning: `torch.cuda.amp.GradScaler(args...)` is deprecated. Please use `torch.amp.GradScaler('cuda', args...)` instead.\n",
      "  self.scaler = torch.cuda.amp.GradScaler(**kwargs)\n"
     ]
    },
    {
     "name": "stdout",
     "output_type": "stream",
     "text": [
      "11/08/2024 17:10:07 - INFO - llamafactory.model.loader - trainable params: 32,768,000 || all params: 13,993,006,080 || trainable%: 0.2342\n",
      "11/08/2024 17:10:07 - INFO - llamafactory.model.loader - trainable params: 32,768,000 || all params: 13,993,006,080 || trainable%: 0.2342\n",
      "11/08/2024 17:10:07 - INFO - llamafactory.model.loader - trainable params: 32,768,000 || all params: 13,993,006,080 || trainable%: 0.2342\n",
      "11/08/2024 17:10:07 - INFO - llamafactory.model.loader - trainable params: 32,768,000 || all params: 13,993,006,080 || trainable%: 0.2342\n"
     ]
    },
    {
     "name": "stderr",
     "output_type": "stream",
     "text": [
      "/Utilisateurs/umushtaq/.conda/envs/er_nb_env/lib/python3.11/site-packages/accelerate/accelerator.py:494: FutureWarning: `torch.cuda.amp.GradScaler(args...)` is deprecated. Please use `torch.amp.GradScaler('cuda', args...)` instead.\n",
      "  self.scaler = torch.cuda.amp.GradScaler(**kwargs)\n",
      "/Utilisateurs/umushtaq/.conda/envs/er_nb_env/lib/python3.11/site-packages/accelerate/accelerator.py:494: FutureWarning: `torch.cuda.amp.GradScaler(args...)` is deprecated. Please use `torch.amp.GradScaler('cuda', args...)` instead.\n",
      "  self.scaler = torch.cuda.amp.GradScaler(**kwargs)\n",
      "/Utilisateurs/umushtaq/.conda/envs/er_nb_env/lib/python3.11/site-packages/accelerate/accelerator.py:494: FutureWarning: `torch.cuda.amp.GradScaler(args...)` is deprecated. Please use `torch.amp.GradScaler('cuda', args...)` instead.\n",
      "  self.scaler = torch.cuda.amp.GradScaler(**kwargs)\n",
      "/Utilisateurs/umushtaq/.conda/envs/er_nb_env/lib/python3.11/site-packages/accelerate/accelerator.py:494: FutureWarning: `torch.cuda.amp.GradScaler(args...)` is deprecated. Please use `torch.amp.GradScaler('cuda', args...)` instead.\n",
      "  self.scaler = torch.cuda.amp.GradScaler(**kwargs)\n",
      "[INFO|trainer.py:667] 2024-11-08 17:10:08,161 >> Using auto half precision backend\n"
     ]
    },
    {
     "name": "stdout",
     "output_type": "stream",
     "text": [
      "11/08/2024 17:10:09 - INFO - llamafactory.train.trainer_utils - Using LoRA+ optimizer with loraplus lr ratio 16.00.\n",
      "11/08/2024 17:10:09 - INFO - llamafactory.train.trainer_utils - Using LoRA+ optimizer with loraplus lr ratio 16.00.\n",
      "11/08/2024 17:10:09 - INFO - llamafactory.train.trainer_utils - Using LoRA+ optimizer with loraplus lr ratio 16.00.\n",
      "11/08/2024 17:10:09 - INFO - llamafactory.train.trainer_utils - Using LoRA+ optimizer with loraplus lr ratio 16.00.\n",
      "11/08/2024 17:10:09 - INFO - llamafactory.train.trainer_utils - Using LoRA+ optimizer with loraplus lr ratio 16.00.\n"
     ]
    },
    {
     "name": "stderr",
     "output_type": "stream",
     "text": [
      "[INFO|trainer.py:2243] 2024-11-08 17:10:12,166 >> ***** Running training *****\n",
      "[INFO|trainer.py:2244] 2024-11-08 17:10:12,169 >>   Num examples = 646\n",
      "[INFO|trainer.py:2245] 2024-11-08 17:10:12,170 >>   Num Epochs = 8\n",
      "[INFO|trainer.py:2246] 2024-11-08 17:10:12,170 >>   Instantaneous batch size per device = 2\n",
      "[INFO|trainer.py:2249] 2024-11-08 17:10:12,170 >>   Total train batch size (w. parallel, distributed & accumulation) = 40\n",
      "[INFO|trainer.py:2250] 2024-11-08 17:10:12,170 >>   Gradient Accumulation steps = 4\n",
      "[INFO|trainer.py:2251] 2024-11-08 17:10:12,170 >>   Total optimization steps = 128\n",
      "[INFO|trainer.py:2252] 2024-11-08 17:10:12,175 >>   Number of trainable parameters = 32,768,000\n",
      "  0%|          | 0/128 [00:00<?, ?it/s]/Utilisateurs/umushtaq/.conda/envs/er_nb_env/lib/python3.11/site-packages/torch/utils/checkpoint.py:295: FutureWarning: `torch.cpu.amp.autocast(args...)` is deprecated. Please use `torch.amp.autocast('cpu', args...)` instead.\n",
      "  with torch.enable_grad(), device_autocast_ctx, torch.cpu.amp.autocast(**ctx.cpu_autocast_kwargs):  # type: ignore[attr-defined]\n",
      "/Utilisateurs/umushtaq/.conda/envs/er_nb_env/lib/python3.11/site-packages/torch/utils/checkpoint.py:295: FutureWarning: `torch.cpu.amp.autocast(args...)` is deprecated. Please use `torch.amp.autocast('cpu', args...)` instead.\n",
      "  with torch.enable_grad(), device_autocast_ctx, torch.cpu.amp.autocast(**ctx.cpu_autocast_kwargs):  # type: ignore[attr-defined]\n",
      "/Utilisateurs/umushtaq/.conda/envs/er_nb_env/lib/python3.11/site-packages/torch/utils/checkpoint.py:295: FutureWarning: `torch.cpu.amp.autocast(args...)` is deprecated. Please use `torch.amp.autocast('cpu', args...)` instead.\n",
      "  with torch.enable_grad(), device_autocast_ctx, torch.cpu.amp.autocast(**ctx.cpu_autocast_kwargs):  # type: ignore[attr-defined]\n",
      "/Utilisateurs/umushtaq/.conda/envs/er_nb_env/lib/python3.11/site-packages/torch/utils/checkpoint.py:295: FutureWarning: `torch.cpu.amp.autocast(args...)` is deprecated. Please use `torch.amp.autocast('cpu', args...)` instead.\n",
      "  with torch.enable_grad(), device_autocast_ctx, torch.cpu.amp.autocast(**ctx.cpu_autocast_kwargs):  # type: ignore[attr-defined]\n",
      "/Utilisateurs/umushtaq/.conda/envs/er_nb_env/lib/python3.11/site-packages/torch/utils/checkpoint.py:295: FutureWarning: `torch.cpu.amp.autocast(args...)` is deprecated. Please use `torch.amp.autocast('cpu', args...)` instead.\n",
      "  with torch.enable_grad(), device_autocast_ctx, torch.cpu.amp.autocast(**ctx.cpu_autocast_kwargs):  # type: ignore[attr-defined]\n",
      "  8%|▊         | 10/128 [01:52<21:34, 10.97s/it]"
     ]
    },
    {
     "name": "stdout",
     "output_type": "stream",
     "text": [
      "{'loss': 0.4486, 'grad_norm': 0.16639511287212372, 'learning_rate': 3.846153846153846e-05, 'epoch': 0.62}\n"
     ]
    },
    {
     "name": "stderr",
     "output_type": "stream",
     "text": [
      " 16%|█▌        | 20/128 [03:45<20:39, 11.47s/it]"
     ]
    },
    {
     "name": "stdout",
     "output_type": "stream",
     "text": [
      "{'loss': 0.3129, 'grad_norm': 0.20486332476139069, 'learning_rate': 4.9544292351888966e-05, 'epoch': 1.23}\n"
     ]
    },
    {
     "name": "stderr",
     "output_type": "stream",
     "text": [
      " 23%|██▎       | 30/128 [05:37<18:01, 11.03s/it]"
     ]
    },
    {
     "name": "stdout",
     "output_type": "stream",
     "text": [
      "{'loss': 0.2781, 'grad_norm': 0.17461690306663513, 'learning_rate': 4.735215677869128e-05, 'epoch': 1.85}\n"
     ]
    },
    {
     "name": "stderr",
     "output_type": "stream",
     "text": [
      " 31%|███▏      | 40/128 [07:29<16:36, 11.32s/it]"
     ]
    },
    {
     "name": "stdout",
     "output_type": "stream",
     "text": [
      "{'loss': 0.2572, 'grad_norm': 0.1979622095823288, 'learning_rate': 4.35022639915313e-05, 'epoch': 2.46}\n"
     ]
    },
    {
     "name": "stderr",
     "output_type": "stream",
     "text": [
      " 39%|███▉      | 50/128 [09:22<14:59, 11.53s/it]"
     ]
    },
    {
     "name": "stdout",
     "output_type": "stream",
     "text": [
      "{'loss': 0.2416, 'grad_norm': 0.22506733238697052, 'learning_rate': 3.828014292634509e-05, 'epoch': 3.08}\n"
     ]
    },
    {
     "name": "stderr",
     "output_type": "stream",
     "text": [
      " 47%|████▋     | 60/128 [11:13<12:30, 11.03s/it]"
     ]
    },
    {
     "name": "stdout",
     "output_type": "stream",
     "text": [
      "{'loss': 0.2173, 'grad_norm': 0.18252183496952057, 'learning_rate': 3.207309441292325e-05, 'epoch': 3.69}\n"
     ]
    },
    {
     "name": "stderr",
     "output_type": "stream",
     "text": [
      " 55%|█████▍    | 70/128 [13:06<11:06, 11.50s/it]"
     ]
    },
    {
     "name": "stdout",
     "output_type": "stream",
     "text": [
      "{'loss': 0.2008, 'grad_norm': 0.16225619614124298, 'learning_rate': 2.5341466844148775e-05, 'epoch': 4.31}\n"
     ]
    },
    {
     "name": "stderr",
     "output_type": "stream",
     "text": [
      " 62%|██████▎   | 80/128 [14:59<08:44, 10.92s/it]"
     ]
    },
    {
     "name": "stdout",
     "output_type": "stream",
     "text": [
      "{'loss': 0.178, 'grad_norm': 0.2319841831922531, 'learning_rate': 1.8584514241650666e-05, 'epoch': 4.92}\n"
     ]
    },
    {
     "name": "stderr",
     "output_type": "stream",
     "text": [
      " 70%|███████   | 90/128 [16:50<06:59, 11.03s/it]"
     ]
    },
    {
     "name": "stdout",
     "output_type": "stream",
     "text": [
      "{'loss': 0.1415, 'grad_norm': 0.2205117791891098, 'learning_rate': 1.2303368868954848e-05, 'epoch': 5.54}\n"
     ]
    },
    {
     "name": "stderr",
     "output_type": "stream",
     "text": [
      " 78%|███████▊  | 100/128 [18:42<05:16, 11.29s/it]"
     ]
    },
    {
     "name": "stdout",
     "output_type": "stream",
     "text": [
      "{'loss': 0.1175, 'grad_norm': 0.294192910194397, 'learning_rate': 6.9638745440261084e-06, 'epoch': 6.15}\n"
     ]
    },
    {
     "name": "stderr",
     "output_type": "stream",
     "text": [
      " 86%|████████▌ | 110/128 [20:35<03:20, 11.13s/it]"
     ]
    },
    {
     "name": "stdout",
     "output_type": "stream",
     "text": [
      "{'loss': 0.0803, 'grad_norm': 0.2666313052177429, 'learning_rate': 2.962037134383211e-06, 'epoch': 6.77}\n"
     ]
    },
    {
     "name": "stderr",
     "output_type": "stream",
     "text": [
      " 94%|█████████▍| 120/128 [22:25<01:27, 10.93s/it]"
     ]
    },
    {
     "name": "stdout",
     "output_type": "stream",
     "text": [
      "{'loss': 0.0653, 'grad_norm': 0.29242902994155884, 'learning_rate': 5.946546135113862e-07, 'epoch': 7.38}\n"
     ]
    },
    {
     "name": "stderr",
     "output_type": "stream",
     "text": [
      "100%|██████████| 128/128 [23:55<00:00, 11.40s/it][INFO|trainer.py:3705] 2024-11-08 17:34:07,956 >> Saving model checkpoint to /Utilisateurs/umushtaq/emotion_analysis_comics/finetuning/saved_models/comics35_pg_nb_Phi-3-medium-4k-instruct-bnb-4bit/checkpoint-128\n",
      "[INFO|configuration_utils.py:672] 2024-11-08 17:34:08,539 >> loading configuration file config.json from cache at /Utilisateurs/umushtaq/.cache/huggingface/hub/models--unsloth--Phi-3-medium-4k-instruct-bnb-4bit/snapshots/c25bfd6f5431529d5c2d16a410c72b2c030bb265/config.json\n",
      "[INFO|configuration_utils.py:739] 2024-11-08 17:34:08,540 >> Model config MistralConfig {\n",
      "  \"_name_or_path\": \"unsloth/Phi-3-medium-4k-instruct\",\n",
      "  \"architectures\": [\n",
      "    \"MistralForCausalLM\"\n",
      "  ],\n",
      "  \"attention_dropout\": 0.0,\n",
      "  \"bos_token_id\": 1,\n",
      "  \"eos_token_id\": 32000,\n",
      "  \"head_dim\": 128,\n",
      "  \"hidden_act\": \"silu\",\n",
      "  \"hidden_size\": 5120,\n",
      "  \"initializer_range\": 0.02,\n",
      "  \"intermediate_size\": 17920,\n",
      "  \"max_position_embeddings\": 4096,\n",
      "  \"model_type\": \"mistral\",\n",
      "  \"num_attention_heads\": 40,\n",
      "  \"num_hidden_layers\": 40,\n",
      "  \"num_key_value_heads\": 10,\n",
      "  \"pad_token_id\": 32009,\n",
      "  \"quantization_config\": {\n",
      "    \"_load_in_4bit\": true,\n",
      "    \"_load_in_8bit\": false,\n",
      "    \"bnb_4bit_compute_dtype\": \"bfloat16\",\n",
      "    \"bnb_4bit_quant_storage\": \"uint8\",\n",
      "    \"bnb_4bit_quant_type\": \"nf4\",\n",
      "    \"bnb_4bit_use_double_quant\": true,\n",
      "    \"llm_int8_enable_fp32_cpu_offload\": false,\n",
      "    \"llm_int8_has_fp16_weight\": false,\n",
      "    \"llm_int8_skip_modules\": null,\n",
      "    \"llm_int8_threshold\": 6.0,\n",
      "    \"load_in_4bit\": true,\n",
      "    \"load_in_8bit\": false,\n",
      "    \"quant_method\": \"bitsandbytes\"\n",
      "  },\n",
      "  \"rms_norm_eps\": 1e-05,\n",
      "  \"rope_theta\": 10000.0,\n",
      "  \"sliding_window\": 2048,\n",
      "  \"tie_word_embeddings\": false,\n",
      "  \"torch_dtype\": \"bfloat16\",\n",
      "  \"transformers_version\": \"4.45.0\",\n",
      "  \"unsloth_version\": \"2024.9\",\n",
      "  \"use_cache\": true,\n",
      "  \"vocab_size\": 32064\n",
      "}\n",
      "\n",
      "[INFO|tokenization_utils_base.py:2649] 2024-11-08 17:34:11,043 >> tokenizer config file saved in /Utilisateurs/umushtaq/emotion_analysis_comics/finetuning/saved_models/comics35_pg_nb_Phi-3-medium-4k-instruct-bnb-4bit/checkpoint-128/tokenizer_config.json\n",
      "[INFO|tokenization_utils_base.py:2658] 2024-11-08 17:34:11,049 >> Special tokens file saved in /Utilisateurs/umushtaq/emotion_analysis_comics/finetuning/saved_models/comics35_pg_nb_Phi-3-medium-4k-instruct-bnb-4bit/checkpoint-128/special_tokens_map.json\n",
      "[INFO|trainer.py:2505] 2024-11-08 17:34:15,662 >> \n",
      "\n",
      "Training completed. Do not forget to share your model on huggingface.co/models =)\n",
      "\n",
      "\n",
      "100%|██████████| 128/128 [24:03<00:00, 11.27s/it]\n",
      "[INFO|trainer.py:3705] 2024-11-08 17:34:15,668 >> Saving model checkpoint to /Utilisateurs/umushtaq/emotion_analysis_comics/finetuning/saved_models/comics35_pg_nb_Phi-3-medium-4k-instruct-bnb-4bit\n"
     ]
    },
    {
     "name": "stdout",
     "output_type": "stream",
     "text": [
      "{'train_runtime': 1443.4778, 'train_samples_per_second': 3.58, 'train_steps_per_second': 0.089, 'train_loss': 0.20205396879464388, 'epoch': 7.88}\n"
     ]
    },
    {
     "name": "stderr",
     "output_type": "stream",
     "text": [
      "[INFO|configuration_utils.py:672] 2024-11-08 17:34:16,097 >> loading configuration file config.json from cache at /Utilisateurs/umushtaq/.cache/huggingface/hub/models--unsloth--Phi-3-medium-4k-instruct-bnb-4bit/snapshots/c25bfd6f5431529d5c2d16a410c72b2c030bb265/config.json\n",
      "[INFO|configuration_utils.py:739] 2024-11-08 17:34:16,098 >> Model config MistralConfig {\n",
      "  \"_name_or_path\": \"unsloth/Phi-3-medium-4k-instruct\",\n",
      "  \"architectures\": [\n",
      "    \"MistralForCausalLM\"\n",
      "  ],\n",
      "  \"attention_dropout\": 0.0,\n",
      "  \"bos_token_id\": 1,\n",
      "  \"eos_token_id\": 32000,\n",
      "  \"head_dim\": 128,\n",
      "  \"hidden_act\": \"silu\",\n",
      "  \"hidden_size\": 5120,\n",
      "  \"initializer_range\": 0.02,\n",
      "  \"intermediate_size\": 17920,\n",
      "  \"max_position_embeddings\": 4096,\n",
      "  \"model_type\": \"mistral\",\n",
      "  \"num_attention_heads\": 40,\n",
      "  \"num_hidden_layers\": 40,\n",
      "  \"num_key_value_heads\": 10,\n",
      "  \"pad_token_id\": 32009,\n",
      "  \"quantization_config\": {\n",
      "    \"_load_in_4bit\": true,\n",
      "    \"_load_in_8bit\": false,\n",
      "    \"bnb_4bit_compute_dtype\": \"bfloat16\",\n",
      "    \"bnb_4bit_quant_storage\": \"uint8\",\n",
      "    \"bnb_4bit_quant_type\": \"nf4\",\n",
      "    \"bnb_4bit_use_double_quant\": true,\n",
      "    \"llm_int8_enable_fp32_cpu_offload\": false,\n",
      "    \"llm_int8_has_fp16_weight\": false,\n",
      "    \"llm_int8_skip_modules\": null,\n",
      "    \"llm_int8_threshold\": 6.0,\n",
      "    \"load_in_4bit\": true,\n",
      "    \"load_in_8bit\": false,\n",
      "    \"quant_method\": \"bitsandbytes\"\n",
      "  },\n",
      "  \"rms_norm_eps\": 1e-05,\n",
      "  \"rope_theta\": 10000.0,\n",
      "  \"sliding_window\": 2048,\n",
      "  \"tie_word_embeddings\": false,\n",
      "  \"torch_dtype\": \"bfloat16\",\n",
      "  \"transformers_version\": \"4.45.0\",\n",
      "  \"unsloth_version\": \"2024.9\",\n",
      "  \"use_cache\": true,\n",
      "  \"vocab_size\": 32064\n",
      "}\n",
      "\n",
      "[INFO|tokenization_utils_base.py:2649] 2024-11-08 17:34:18,833 >> tokenizer config file saved in /Utilisateurs/umushtaq/emotion_analysis_comics/finetuning/saved_models/comics35_pg_nb_Phi-3-medium-4k-instruct-bnb-4bit/tokenizer_config.json\n",
      "[INFO|tokenization_utils_base.py:2658] 2024-11-08 17:34:18,835 >> Special tokens file saved in /Utilisateurs/umushtaq/emotion_analysis_comics/finetuning/saved_models/comics35_pg_nb_Phi-3-medium-4k-instruct-bnb-4bit/special_tokens_map.json\n",
      "[INFO|modelcard.py:449] 2024-11-08 17:34:19,000 >> Dropping the following result as it does not have all the necessary fields:\n",
      "{'task': {'name': 'Causal Language Modeling', 'type': 'text-generation'}}\n"
     ]
    },
    {
     "name": "stdout",
     "output_type": "stream",
     "text": [
      "***** train metrics *****\n",
      "  epoch                    =      7.8769\n",
      "  total_flos               = 269442506GF\n",
      "  train_loss               =      0.2021\n",
      "  train_runtime            =  0:24:03.47\n",
      "  train_samples_per_second =        3.58\n",
      "  train_steps_per_second   =       0.089\n"
     ]
    },
    {
     "data": {
      "text/plain": [
       "0"
      ]
     },
     "execution_count": 14,
     "metadata": {},
     "output_type": "execute_result"
    }
   ],
   "source": [
    "p.wait()"
   ]
  },
  {
   "cell_type": "code",
   "execution_count": 15,
   "metadata": {},
   "outputs": [],
   "source": [
    "args = dict(\n",
    "  model_name_or_path=BASE_MODEL, # use bnb-4bit-quantized Llama-3-8B-Instruct model\n",
    "  adapter_name_or_path=str(OUTPUT_DIR),            # load the saved LoRA adapters\n",
    "  template=\"phi\",                     # same to the one in training\n",
    "  finetuning_type=\"lora\",                  # same to the one in training\n",
    "  quantization_bit=4,                    # load 4-bit quantized model\n",
    ")"
   ]
  },
  {
   "cell_type": "code",
   "execution_count": 16,
   "metadata": {},
   "outputs": [
    {
     "name": "stderr",
     "output_type": "stream",
     "text": [
      "[INFO|configuration_utils.py:672] 2024-11-08 17:35:22,294 >> loading configuration file config.json from cache at /Utilisateurs/umushtaq/.cache/huggingface/hub/models--unsloth--Phi-3-medium-4k-instruct-bnb-4bit/snapshots/c25bfd6f5431529d5c2d16a410c72b2c030bb265/config.json\n",
      "[INFO|configuration_utils.py:739] 2024-11-08 17:35:22,297 >> Model config MistralConfig {\n",
      "  \"_name_or_path\": \"unsloth/Phi-3-medium-4k-instruct-bnb-4bit\",\n",
      "  \"architectures\": [\n",
      "    \"MistralForCausalLM\"\n",
      "  ],\n",
      "  \"attention_dropout\": 0.0,\n",
      "  \"bos_token_id\": 1,\n",
      "  \"eos_token_id\": 32000,\n",
      "  \"head_dim\": 128,\n",
      "  \"hidden_act\": \"silu\",\n",
      "  \"hidden_size\": 5120,\n",
      "  \"initializer_range\": 0.02,\n",
      "  \"intermediate_size\": 17920,\n",
      "  \"max_position_embeddings\": 4096,\n",
      "  \"model_type\": \"mistral\",\n",
      "  \"num_attention_heads\": 40,\n",
      "  \"num_hidden_layers\": 40,\n",
      "  \"num_key_value_heads\": 10,\n",
      "  \"pad_token_id\": 32009,\n",
      "  \"quantization_config\": {\n",
      "    \"_load_in_4bit\": true,\n",
      "    \"_load_in_8bit\": false,\n",
      "    \"bnb_4bit_compute_dtype\": \"bfloat16\",\n",
      "    \"bnb_4bit_quant_storage\": \"uint8\",\n",
      "    \"bnb_4bit_quant_type\": \"nf4\",\n",
      "    \"bnb_4bit_use_double_quant\": true,\n",
      "    \"llm_int8_enable_fp32_cpu_offload\": false,\n",
      "    \"llm_int8_has_fp16_weight\": false,\n",
      "    \"llm_int8_skip_modules\": null,\n",
      "    \"llm_int8_threshold\": 6.0,\n",
      "    \"load_in_4bit\": true,\n",
      "    \"load_in_8bit\": false,\n",
      "    \"quant_method\": \"bitsandbytes\"\n",
      "  },\n",
      "  \"rms_norm_eps\": 1e-05,\n",
      "  \"rope_theta\": 10000.0,\n",
      "  \"sliding_window\": 2048,\n",
      "  \"tie_word_embeddings\": false,\n",
      "  \"torch_dtype\": \"bfloat16\",\n",
      "  \"transformers_version\": \"4.45.0\",\n",
      "  \"unsloth_version\": \"2024.9\",\n",
      "  \"use_cache\": true,\n",
      "  \"vocab_size\": 32064\n",
      "}\n",
      "\n",
      "[INFO|tokenization_utils_base.py:2214] 2024-11-08 17:35:22,596 >> loading file tokenizer.model from cache at /Utilisateurs/umushtaq/.cache/huggingface/hub/models--unsloth--Phi-3-medium-4k-instruct-bnb-4bit/snapshots/c25bfd6f5431529d5c2d16a410c72b2c030bb265/tokenizer.model\n",
      "[INFO|tokenization_utils_base.py:2214] 2024-11-08 17:35:22,597 >> loading file tokenizer.json from cache at /Utilisateurs/umushtaq/.cache/huggingface/hub/models--unsloth--Phi-3-medium-4k-instruct-bnb-4bit/snapshots/c25bfd6f5431529d5c2d16a410c72b2c030bb265/tokenizer.json\n",
      "[INFO|tokenization_utils_base.py:2214] 2024-11-08 17:35:22,598 >> loading file added_tokens.json from cache at /Utilisateurs/umushtaq/.cache/huggingface/hub/models--unsloth--Phi-3-medium-4k-instruct-bnb-4bit/snapshots/c25bfd6f5431529d5c2d16a410c72b2c030bb265/added_tokens.json\n",
      "[INFO|tokenization_utils_base.py:2214] 2024-11-08 17:35:22,599 >> loading file special_tokens_map.json from cache at /Utilisateurs/umushtaq/.cache/huggingface/hub/models--unsloth--Phi-3-medium-4k-instruct-bnb-4bit/snapshots/c25bfd6f5431529d5c2d16a410c72b2c030bb265/special_tokens_map.json\n",
      "[INFO|tokenization_utils_base.py:2214] 2024-11-08 17:35:22,600 >> loading file tokenizer_config.json from cache at /Utilisateurs/umushtaq/.cache/huggingface/hub/models--unsloth--Phi-3-medium-4k-instruct-bnb-4bit/snapshots/c25bfd6f5431529d5c2d16a410c72b2c030bb265/tokenizer_config.json\n",
      "[INFO|tokenization_utils_base.py:2478] 2024-11-08 17:35:22,665 >> Special tokens have been added in the vocabulary, make sure the associated word embeddings are fine-tuned or trained.\n",
      "[INFO|configuration_utils.py:672] 2024-11-08 17:35:23,333 >> loading configuration file config.json from cache at /Utilisateurs/umushtaq/.cache/huggingface/hub/models--unsloth--Phi-3-medium-4k-instruct-bnb-4bit/snapshots/c25bfd6f5431529d5c2d16a410c72b2c030bb265/config.json\n",
      "[INFO|configuration_utils.py:739] 2024-11-08 17:35:23,334 >> Model config MistralConfig {\n",
      "  \"_name_or_path\": \"unsloth/Phi-3-medium-4k-instruct-bnb-4bit\",\n",
      "  \"architectures\": [\n",
      "    \"MistralForCausalLM\"\n",
      "  ],\n",
      "  \"attention_dropout\": 0.0,\n",
      "  \"bos_token_id\": 1,\n",
      "  \"eos_token_id\": 32000,\n",
      "  \"head_dim\": 128,\n",
      "  \"hidden_act\": \"silu\",\n",
      "  \"hidden_size\": 5120,\n",
      "  \"initializer_range\": 0.02,\n",
      "  \"intermediate_size\": 17920,\n",
      "  \"max_position_embeddings\": 4096,\n",
      "  \"model_type\": \"mistral\",\n",
      "  \"num_attention_heads\": 40,\n",
      "  \"num_hidden_layers\": 40,\n",
      "  \"num_key_value_heads\": 10,\n",
      "  \"pad_token_id\": 32009,\n",
      "  \"quantization_config\": {\n",
      "    \"_load_in_4bit\": true,\n",
      "    \"_load_in_8bit\": false,\n",
      "    \"bnb_4bit_compute_dtype\": \"bfloat16\",\n",
      "    \"bnb_4bit_quant_storage\": \"uint8\",\n",
      "    \"bnb_4bit_quant_type\": \"nf4\",\n",
      "    \"bnb_4bit_use_double_quant\": true,\n",
      "    \"llm_int8_enable_fp32_cpu_offload\": false,\n",
      "    \"llm_int8_has_fp16_weight\": false,\n",
      "    \"llm_int8_skip_modules\": null,\n",
      "    \"llm_int8_threshold\": 6.0,\n",
      "    \"load_in_4bit\": true,\n",
      "    \"load_in_8bit\": false,\n",
      "    \"quant_method\": \"bitsandbytes\"\n",
      "  },\n",
      "  \"rms_norm_eps\": 1e-05,\n",
      "  \"rope_theta\": 10000.0,\n",
      "  \"sliding_window\": 2048,\n",
      "  \"tie_word_embeddings\": false,\n",
      "  \"torch_dtype\": \"bfloat16\",\n",
      "  \"transformers_version\": \"4.45.0\",\n",
      "  \"unsloth_version\": \"2024.9\",\n",
      "  \"use_cache\": true,\n",
      "  \"vocab_size\": 32064\n",
      "}\n",
      "\n",
      "[INFO|tokenization_utils_base.py:2214] 2024-11-08 17:35:23,471 >> loading file tokenizer.model from cache at /Utilisateurs/umushtaq/.cache/huggingface/hub/models--unsloth--Phi-3-medium-4k-instruct-bnb-4bit/snapshots/c25bfd6f5431529d5c2d16a410c72b2c030bb265/tokenizer.model\n",
      "[INFO|tokenization_utils_base.py:2214] 2024-11-08 17:35:23,472 >> loading file tokenizer.json from cache at /Utilisateurs/umushtaq/.cache/huggingface/hub/models--unsloth--Phi-3-medium-4k-instruct-bnb-4bit/snapshots/c25bfd6f5431529d5c2d16a410c72b2c030bb265/tokenizer.json\n",
      "[INFO|tokenization_utils_base.py:2214] 2024-11-08 17:35:23,473 >> loading file added_tokens.json from cache at /Utilisateurs/umushtaq/.cache/huggingface/hub/models--unsloth--Phi-3-medium-4k-instruct-bnb-4bit/snapshots/c25bfd6f5431529d5c2d16a410c72b2c030bb265/added_tokens.json\n",
      "[INFO|tokenization_utils_base.py:2214] 2024-11-08 17:35:23,474 >> loading file special_tokens_map.json from cache at /Utilisateurs/umushtaq/.cache/huggingface/hub/models--unsloth--Phi-3-medium-4k-instruct-bnb-4bit/snapshots/c25bfd6f5431529d5c2d16a410c72b2c030bb265/special_tokens_map.json\n",
      "[INFO|tokenization_utils_base.py:2214] 2024-11-08 17:35:23,474 >> loading file tokenizer_config.json from cache at /Utilisateurs/umushtaq/.cache/huggingface/hub/models--unsloth--Phi-3-medium-4k-instruct-bnb-4bit/snapshots/c25bfd6f5431529d5c2d16a410c72b2c030bb265/tokenizer_config.json\n",
      "[INFO|tokenization_utils_base.py:2478] 2024-11-08 17:35:23,536 >> Special tokens have been added in the vocabulary, make sure the associated word embeddings are fine-tuned or trained.\n"
     ]
    },
    {
     "name": "stdout",
     "output_type": "stream",
     "text": [
      "11/08/2024 17:35:23 - INFO - llamafactory.data.template - Replace eos token: <|end|>\n",
      "11/08/2024 17:35:23 - WARNING - llamafactory.data.template - New tokens have been added, make sure `resize_vocab` is True.\n"
     ]
    },
    {
     "name": "stderr",
     "output_type": "stream",
     "text": [
      "[INFO|configuration_utils.py:672] 2024-11-08 17:35:23,657 >> loading configuration file config.json from cache at /Utilisateurs/umushtaq/.cache/huggingface/hub/models--unsloth--Phi-3-medium-4k-instruct-bnb-4bit/snapshots/c25bfd6f5431529d5c2d16a410c72b2c030bb265/config.json\n",
      "[INFO|configuration_utils.py:739] 2024-11-08 17:35:23,658 >> Model config MistralConfig {\n",
      "  \"_name_or_path\": \"unsloth/Phi-3-medium-4k-instruct-bnb-4bit\",\n",
      "  \"architectures\": [\n",
      "    \"MistralForCausalLM\"\n",
      "  ],\n",
      "  \"attention_dropout\": 0.0,\n",
      "  \"bos_token_id\": 1,\n",
      "  \"eos_token_id\": 32000,\n",
      "  \"head_dim\": 128,\n",
      "  \"hidden_act\": \"silu\",\n",
      "  \"hidden_size\": 5120,\n",
      "  \"initializer_range\": 0.02,\n",
      "  \"intermediate_size\": 17920,\n",
      "  \"max_position_embeddings\": 4096,\n",
      "  \"model_type\": \"mistral\",\n",
      "  \"num_attention_heads\": 40,\n",
      "  \"num_hidden_layers\": 40,\n",
      "  \"num_key_value_heads\": 10,\n",
      "  \"pad_token_id\": 32009,\n",
      "  \"quantization_config\": {\n",
      "    \"_load_in_4bit\": true,\n",
      "    \"_load_in_8bit\": false,\n",
      "    \"bnb_4bit_compute_dtype\": \"bfloat16\",\n",
      "    \"bnb_4bit_quant_storage\": \"uint8\",\n",
      "    \"bnb_4bit_quant_type\": \"nf4\",\n",
      "    \"bnb_4bit_use_double_quant\": true,\n",
      "    \"llm_int8_enable_fp32_cpu_offload\": false,\n",
      "    \"llm_int8_has_fp16_weight\": false,\n",
      "    \"llm_int8_skip_modules\": null,\n",
      "    \"llm_int8_threshold\": 6.0,\n",
      "    \"load_in_4bit\": true,\n",
      "    \"load_in_8bit\": false,\n",
      "    \"quant_method\": \"bitsandbytes\"\n",
      "  },\n",
      "  \"rms_norm_eps\": 1e-05,\n",
      "  \"rope_theta\": 10000.0,\n",
      "  \"sliding_window\": 2048,\n",
      "  \"tie_word_embeddings\": false,\n",
      "  \"torch_dtype\": \"bfloat16\",\n",
      "  \"transformers_version\": \"4.45.0\",\n",
      "  \"unsloth_version\": \"2024.9\",\n",
      "  \"use_cache\": true,\n",
      "  \"vocab_size\": 32064\n",
      "}\n",
      "\n"
     ]
    },
    {
     "name": "stdout",
     "output_type": "stream",
     "text": [
      "11/08/2024 17:35:23 - WARNING - llamafactory.model.model_utils.quantization - `quantization_bit` will not affect on the PTQ-quantized models.\n",
      "11/08/2024 17:35:23 - INFO - llamafactory.model.model_utils.quantization - Loading ?-bit BITSANDBYTES-quantized model.\n",
      "11/08/2024 17:35:23 - INFO - llamafactory.model.patcher - Using KV cache for faster generation.\n"
     ]
    },
    {
     "name": "stderr",
     "output_type": "stream",
     "text": [
      "[WARNING|quantization_config.py:400] 2024-11-08 17:35:23,768 >> Unused kwargs: ['_load_in_4bit', '_load_in_8bit', 'quant_method']. These kwargs are not used in <class 'transformers.utils.quantization_config.BitsAndBytesConfig'>.\n",
      "[INFO|modeling_utils.py:3726] 2024-11-08 17:35:23,984 >> loading weights file model.safetensors from cache at /Utilisateurs/umushtaq/.cache/huggingface/hub/models--unsloth--Phi-3-medium-4k-instruct-bnb-4bit/snapshots/c25bfd6f5431529d5c2d16a410c72b2c030bb265/model.safetensors.index.json\n",
      "[INFO|modeling_utils.py:1622] 2024-11-08 17:35:23,988 >> Instantiating MistralForCausalLM model under default dtype torch.bfloat16.\n",
      "[INFO|configuration_utils.py:1099] 2024-11-08 17:35:23,989 >> Generate config GenerationConfig {\n",
      "  \"bos_token_id\": 1,\n",
      "  \"eos_token_id\": 32000,\n",
      "  \"pad_token_id\": 32009\n",
      "}\n",
      "\n",
      "[INFO|quantizer_bnb_4bit.py:122] 2024-11-08 17:35:24,132 >> target_dtype {target_dtype} is replaced by `CustomDtype.INT4` for 4-bit BnB quantization\n"
     ]
    },
    {
     "data": {
      "application/vnd.jupyter.widget-view+json": {
       "model_id": "60c8df13ee364f679611608a1b1e0a11",
       "version_major": 2,
       "version_minor": 0
      },
      "text/plain": [
       "Loading checkpoint shards:   0%|          | 0/2 [00:00<?, ?it/s]"
      ]
     },
     "metadata": {},
     "output_type": "display_data"
    },
    {
     "name": "stderr",
     "output_type": "stream",
     "text": [
      "[INFO|modeling_utils.py:4568] 2024-11-08 17:35:26,936 >> All model checkpoint weights were used when initializing MistralForCausalLM.\n",
      "\n",
      "[INFO|modeling_utils.py:4576] 2024-11-08 17:35:26,937 >> All the weights of MistralForCausalLM were initialized from the model checkpoint at unsloth/Phi-3-medium-4k-instruct-bnb-4bit.\n",
      "If your task is similar to the task the model of the checkpoint was trained on, you can already use MistralForCausalLM for predictions without further training.\n",
      "[INFO|configuration_utils.py:1054] 2024-11-08 17:35:27,068 >> loading configuration file generation_config.json from cache at /Utilisateurs/umushtaq/.cache/huggingface/hub/models--unsloth--Phi-3-medium-4k-instruct-bnb-4bit/snapshots/c25bfd6f5431529d5c2d16a410c72b2c030bb265/generation_config.json\n",
      "[INFO|configuration_utils.py:1099] 2024-11-08 17:35:27,069 >> Generate config GenerationConfig {\n",
      "  \"bos_token_id\": 1,\n",
      "  \"eos_token_id\": [\n",
      "    32000,\n",
      "    32001,\n",
      "    32007\n",
      "  ],\n",
      "  \"max_length\": 4096,\n",
      "  \"pad_token_id\": 32009\n",
      "}\n",
      "\n"
     ]
    },
    {
     "name": "stdout",
     "output_type": "stream",
     "text": [
      "11/08/2024 17:35:27 - INFO - llamafactory.model.model_utils.attention - Using torch SDPA for faster training and inference.\n",
      "11/08/2024 17:35:27 - INFO - llamafactory.model.adapter - Loaded adapter(s): /Utilisateurs/umushtaq/emotion_analysis_comics/finetuning/saved_models/comics35_pg_nb_Phi-3-medium-4k-instruct-bnb-4bit\n",
      "11/08/2024 17:35:27 - INFO - llamafactory.model.loader - all params: 13,993,006,080\n"
     ]
    }
   ],
   "source": [
    "model = ChatModel(args)"
   ]
  },
  {
   "cell_type": "code",
   "execution_count": 17,
   "metadata": {},
   "outputs": [
    {
     "data": {
      "text/plain": [
       "<llamafactory.chat.hf_engine.HuggingfaceEngine at 0x7f5762c75dd0>"
      ]
     },
     "execution_count": 17,
     "metadata": {},
     "output_type": "execute_result"
    }
   ],
   "source": [
    "model.engine"
   ]
  },
  {
   "cell_type": "code",
   "execution_count": 18,
   "metadata": {},
   "outputs": [
    {
     "data": {
      "text/plain": [
       "'huggingface'"
      ]
     },
     "execution_count": 18,
     "metadata": {},
     "output_type": "execute_result"
    }
   ],
   "source": [
    "model.engine_type"
   ]
  },
  {
   "cell_type": "code",
   "execution_count": 19,
   "metadata": {},
   "outputs": [],
   "source": [
    "with open(test_dataset_file, \"r+\") as fh:\n",
    "    test_dataset = json.load(fh)\n",
    "\n",
    "test_prompts = []\n",
    "test_grounds = []\n",
    "\n",
    "for sample in test_dataset:\n",
    "    test_prompts.append(sample[\"instruction\"] + sample[\"input\"])\n",
    "    test_grounds.append(sample[\"output\"])"
   ]
  },
  {
   "cell_type": "code",
   "execution_count": 20,
   "metadata": {},
   "outputs": [],
   "source": [
    "test_predictions = []"
   ]
  },
  {
   "cell_type": "code",
   "execution_count": 21,
   "metadata": {},
   "outputs": [
    {
     "name": "stderr",
     "output_type": "stream",
     "text": [
      "Running inferences ...: 100%|██████████| 156/156 [15:43<00:00,  6.05s/it]\n"
     ]
    },
    {
     "name": "stderr",
     "output_type": "stream",
     "text": [
      "[WARNING|logging.py:328] 2024-11-08 17:35:28,915 >> Starting from v4.46, the `logits` model output will have the same type as the model (except at train time, where it will always be FP32)\n"
     ]
    }
   ],
   "source": [
    "messages = []\n",
    "\n",
    "for prompt in tqdm(test_prompts, desc=\"Running inferences ...\"):\n",
    "    #print(type(prompt))\n",
    "    #messages.append({\"role\": \"user\", \"content\": prompt})\n",
    "    message = [{\"role\": \"user\", \"content\": prompt}]\n",
    "    test_predictions.append(model.chat(message))"
   ]
  },
  {
   "cell_type": "code",
   "execution_count": 22,
   "metadata": {},
   "outputs": [
    {
     "data": {
      "text/plain": [
       "156"
      ]
     },
     "execution_count": 22,
     "metadata": {},
     "output_type": "execute_result"
    }
   ],
   "source": [
    "len(test_predictions)"
   ]
  },
  {
   "cell_type": "code",
   "execution_count": 23,
   "metadata": {},
   "outputs": [
    {
     "data": {
      "text/plain": [
       "[[Response(response_text='{\"page_utterance_emotions\": [[\"surprise\"], [\"surprise\"], [\"joy\"], [\"neutral\"], [\"joy\"], [\"surprise\", \"joy\"], [\"surprise\"], [\"joy\"], [\"joy\"], [\"neutral\"], [\"neutral\"]]}', response_length=61, prompt_length=464, finish_reason='stop')],\n",
       " [Response(response_text='{\"page_utterance_emotions\": [[\"neutral\"], [\"neutral\"], [\"anger\"], [\"anger\"], [\"neutral\"], [\"anger\"], [\"anger\"]]}', response_length=37, prompt_length=660, finish_reason='stop')],\n",
       " [Response(response_text='{\"page_utterance_emotions\": [[\"anger\", \"fear\"], [\"anger\", \"fear\"], [\"anger\"], [\"fear\", \"surprise\"], [\"surprise\"], [\"joy\"], [\"anger\"], [\"anger\", \"joy\"], [\"joy\"], [\"joy\"], [\"anger\"], [\"anger\", \"sadness\"], [\"anger\", \"sadness\"], [\"anger\"], [\"fear\", \"surprise\"], [\"surprise\"]]}', response_length=98, prompt_length=836, finish_reason='stop')],\n",
       " [Response(response_text='{\"page_utterance_emotions\": [[\"anger\", \"disgust\"], [\"anger\", \"disgust\"], [\"anger\"], [\"fear\", \"surprise\"], [\"fear\", \"surprise\"], [\"neutral\"], [\"anger\"], [\"anger\"], [\"fear\", \"surprise\"], [\"anger\", \"fear\"], [\"surprise\"], [\"anger\", \"disgust\"], [\"anger\"], [\"sadness\"], [\"sadness\", \"joy\"], [\"joy\"], [\"joy\"], [\"anger\", \"surprise\"], [\"anger\", \"surprise\"], [\"anger\", \"disgust\"], [\"anger\", \"disgust\"], [\"anger\"]]}', response_length=143, prompt_length=980, finish_reason='stop')],\n",
       " [Response(response_text='{\"page_utterance_emotions\": [[\"anger\"], [\"joy\"], [\"joy\"]]}', response_length=24, prompt_length=449, finish_reason='stop')],\n",
       " [Response(response_text='{\"page_utterance_emotions\": [[\"neutral\"], [\"fear\"], [\"sadness\", \"joy\"], [\"fear\", \"sadness\"], [\"joy\"], [\"sadness\", \"joy\"], [\"sadness\"], [\"sadness\"], [\"joy\"], [\"sadness\", \"joy\"], [\"sadness\"], [\"joy\"], [\"sadness\", \"joy\"], [\"joy\"], [\"joy\"], [\"joy\"], [\"sadness\"], [\"sadness\"], [\"neutral\"], [\"neutral\"]]}', response_length=123, prompt_length=848, finish_reason='stop')],\n",
       " [Response(response_text='{\"page_utterance_emotions\": [[\"anger\", \"sadness\"], [\"anger\", \"sadness\"], [\"neutral\"], [\"neutral\"], [\"neutral\"], [\"joy\"], [\"joy\"], [\"joy\"], [\"joy\"], [\"anger\", \"surprise\"], [\"neutral\"], [\"joy\"], [\"joy\"], [\"anger\", \"fear\"], [\"joy\"]]}', response_length=87, prompt_length=915, finish_reason='stop')],\n",
       " [Response(response_text='{\"page_utterance_emotions\": [[\"joy\"], [\"fear\"], [\"anger\"], [\"joy\"], [\"fear\", \"sadness\"], [\"anger\", \"sadness\"], [\"anger\"], [\"anger\"], [\"anger\"], [\"anger\"], [\"surprise\"], [\"sadness\"], [\"sadness\"], [\"joy\"], [\"anger\"]]}', response_length=78, prompt_length=736, finish_reason='stop')],\n",
       " [Response(response_text='{\"page_utterance_emotions\": [[\"joy\"], [\"joy\"], [\"joy\"], [\"joy\"], [\"anger\", \"sadness\"], [\"surprise\"], [\"joy\"], [\"joy\"], [\"anger\"], [\"sadness\"], [\"joy\"], [\"surprise\"]]}', response_length=65, prompt_length=587, finish_reason='stop')],\n",
       " [Response(response_text='{\"page_utterance_emotions\": [[\"anger\", \"surprise\"], [\"anger\", \"surprise\"], [\"anger\", \"sadness\"], [\"anger\"], [\"anger\", \"sadness\"], [\"anger\", \"sadness\"], [\"anger\"], [\"anger\", \"surprise\"], [\"anger\", \"sadness\"], [\"anger\"], [\"anger\", \"sadness\"]]}', response_length=83, prompt_length=566, finish_reason='stop')],\n",
       " [Response(response_text='{\"page_utterance_emotions\": [[\"neutral\"], [\"neutral\"], [\"anger\", \"fear\"], [\"anger\"], [\"neutral\"], [\"anger\"], [\"anger\"], [\"fear\"], [\"fear\"], [\"anger\"], [\"anger\"], [\"sadness\"], [\"sadness\"], [\"anger\", \"sadness\"]]}', response_length=73, prompt_length=702, finish_reason='stop')],\n",
       " [Response(response_text='{\"page_utterance_emotions\": [[\"joy\"], [\"joy\"], [\"anger\"], [\"anger\"]]}', response_length=27, prompt_length=471, finish_reason='stop')],\n",
       " [Response(response_text='{\"page_utterance_emotions\": [[\"sadness\"], [\"surprise\"], [\"sadness\"], [\"anger\"], [\"sadness\"], [\"fear\", \"surprise\"], [\"surprise\"], [\"sadness\"], [\"sadness\"], [\"fear\", \"surprise\"], [\"anger\"], [\"sadness\"], [\"joy\"]]}', response_length=77, prompt_length=618, finish_reason='stop')],\n",
       " [Response(response_text='{\"page_utterance_emotions\": [[\"joy\"], [\"joy\"], [\"joy\"], [\"surprise\"], [\"joy\"], [\"joy\"], [\"joy\"], [\"joy\"], [\"joy\"]]}', response_length=49, prompt_length=538, finish_reason='stop')],\n",
       " [Response(response_text='{\"page_utterance_emotions\": [[\"neutral\"], [\"anger\", \"sadness\"], [\"anger\", \"sadness\"], [\"neutral\"], [\"anger\", \"sadness\"], [\"anger\", \"sadness\"], [\"anger\", \"sadness\"], [\"anger\", \"sadness\"], [\"anger\", \"sadness\"], [\"anger\", \"sadness\"], [\"neutral\"], [\"neutral\"], [\"neutral\"], [\"anger\", \"sadness\", \"surprise\"], [\"anger\", \"sadness\", \"surprise\"], [\"anger\", \"sadness\", \"surprise\"], [\"anger\", \"sadness\", \"surprise\"], [\"anger\", \"sadness\", \"surprise\"], [\"anger\", \"sadness\", \"surprise\"], [\"anger\", \"sadness\", \"surprise\"], [\"anger\", \"sadness\", \"surprise\"], [\"neutral\"], [\"neutral\"], [\"neutral\"], [\"neutral\"]]}', response_length=209, prompt_length=1390, finish_reason='stop')],\n",
       " [Response(response_text='{\"page_utterance_emotions\": [[\"anger\", \"fear\"], [\"joy\"], [\"anger\", \"fear\"], [\"surprise\", \"joy\"], [\"surprise\", \"joy\"], [\"joy\"], [\"joy\"], [\"joy\"], [\"joy\"], [\"joy\"], [\"fear\", \"surprise\"], [\"fear\"], [\"fear\"], [\"joy\"], [\"joy\"], [\"joy\"], [\"joy\"], [\"joy\"], [\"surprise\", \"joy\"], [\"surprise\", \"joy\"], [\"joy\"], [\"joy\"], [\"joy\"]]}', response_length=131, prompt_length=880, finish_reason='stop')],\n",
       " [Response(response_text='{\"page_utterance_emotions\": [[\"sadness\"], [\"surprise\"], [\"sadness\"], [\"sadness\"], [\"sadness\"], [\"sadness\"], [\"sadness\"], [\"surprise\"], [\"anger\", \"surprise\"], [\"surprise\"], [\"anger\", \"sadness\"], [\"anger\", \"sadness\"], [\"anger\", \"sadness\"]]}', response_length=86, prompt_length=705, finish_reason='stop')],\n",
       " [Response(response_text='{\"page_utterance_emotions\": [[\"joy\"], [\"surprise\", \"joy\"], [\"sadness\", \"surprise\"], [\"anger\"], [\"anger\"], [\"sadness\"], [\"sadness\"], [\"surprise\"], [\"sadness\"], [\"sadness\"], [\"joy\"], [\"joy\"]]}', response_length=72, prompt_length=691, finish_reason='stop')],\n",
       " [Response(response_text='{\"page_utterance_emotions\": [[\"surprise\"], [\"joy\"], [\"joy\"], [\"sadness\", \"surprise\"], [\"surprise\"], [\"joy\"], [\"surprise\", \"joy\"], [\"joy\"], [\"sadness\", \"joy\"], [\"joy\"], [\"joy\"], [\"surprise\"], [\"anger\"]]}', response_length=78, prompt_length=824, finish_reason='stop')],\n",
       " [Response(response_text='{\"page_utterance_emotions\": [[\"neutral\"], [\"fear\"], [\"sadness\"], [\"fear\", \"surprise\"], [\"fear\", \"sadness\"], [\"fear\", \"sadness\"], [\"anger\"], [\"joy\"], [\"anger\", \"fear\"], [\"anger\", \"fear\"], [\"joy\"], [\"joy\"], [\"anger\", \"fear\"], [\"joy\"]]}', response_length=92, prompt_length=672, finish_reason='stop')],\n",
       " [Response(response_text='{\"page_utterance_emotions\": [[\"joy\"], [\"anger\", \"joy\"], [\"anger\", \"joy\"], [\"anger\", \"joy\"], [\"anger\", \"joy\"], [\"anger\", \"surprise\", \"joy\"], [\"anger\"], [\"anger\"], [\"anger\"], [\"anger\"]]}', response_length=68, prompt_length=549, finish_reason='stop')],\n",
       " [Response(response_text='{\"page_utterance_emotions\": [[\"neutral\"], [\"surprise\"], [\"surprise\"], [\"neutral\"], [\"neutral\"], [\"neutral\"], [\"neutral\"], [\"neutral\"], [\"neutral\"], [\"neutral\"], [\"neutral\"]]}', response_length=57, prompt_length=704, finish_reason='stop')],\n",
       " [Response(response_text='{\"page_utterance_emotions\": [[\"fear\", \"sadness\"], [\"fear\", \"sadness\"], [\"anger\", \"fear\"], [\"anger\", \"fear\"], [\"anger\", \"fear\"], [\"anger\", \"fear\"], [\"joy\"], [\"joy\"], [\"joy\"], [\"fear\", \"surprise\"], [\"anger\", \"fear\"]]}', response_length=86, prompt_length=576, finish_reason='stop')],\n",
       " [Response(response_text='{\"page_utterance_emotions\": [[\"fear\", \"surprise\"], [\"fear\", \"surprise\"], [\"fear\", \"surprise\"], [\"fear\", \"surprise\"], [\"fear\", \"surprise\"], [\"fear\"], [\"fear\"], [\"neutral\"], [\"neutral\"], [\"fear\", \"surprise\"]]}', response_length=77, prompt_length=538, finish_reason='stop')],\n",
       " [Response(response_text='{\"page_utterance_emotions\": [[\"fear\", \"surprise\"], [\"anger\", \"fear\", \"surprise\"], [\"fear\", \"surprise\"], [\"joy\"], [\"joy\"], [\"joy\"], [\"joy\"], [\"fear\"], [\"fear\", \"surprise\"], [\"surprise\"], [\"fear\", \"surprise\"], [\"anger\", \"surprise\"], [\"surprise\"]]}', response_length=91, prompt_length=607, finish_reason='stop')],\n",
       " [Response(response_text='{\"page_utterance_emotions\": [[\"anger\", \"fear\", \"sadness\"], [\"fear\", \"sadness\"], [\"fear\"], [\"fear\", \"sadness\"], [\"fear\", \"sadness\"], [\"fear\", \"sadness\"], [\"fear\", \"sadness\"], [\"fear\"], [\"fear\", \"sadness\"], [\"fear\", \"sadness\"], [\"sadness\"], [\"sadness\"], [\"sadness\"]]}', response_length=111, prompt_length=603, finish_reason='stop')],\n",
       " [Response(response_text='{\"page_utterance_emotions\": [[\"sadness\"], [\"sadness\"], [\"anger\"], [\"joy\"], [\"joy\"], [\"joy\"], [\"surprise\"], [\"joy\"], [\"joy\"], [\"joy\"], [\"sadness\", \"joy\"], [\"joy\"], [\"fear\", \"surprise\"]]}', response_length=75, prompt_length=773, finish_reason='stop')],\n",
       " [Response(response_text='{\"page_utterance_emotions\": [[\"fear\"], [\"surprise\"], [\"surprise\"], [\"fear\", \"surprise\"], [\"surprise\"], [\"fear\"], [\"fear\"], [\"fear\"], [\"fear\", \"surprise\"], [\"fear\", \"surprise\"], [\"fear\", \"surprise\"], [\"surprise\"], [\"surprise\"], [\"neutral\"], [\"fear\"], [\"neutral\"]]}', response_length=93, prompt_length=979, finish_reason='stop')],\n",
       " [Response(response_text='{\"page_utterance_emotions\": [[\"anger\"], [\"anger\"], [\"anger\", \"surprise\"], [\"anger\"], [\"anger\"], [\"anger\"]]}', response_length=35, prompt_length=497, finish_reason='stop')],\n",
       " [Response(response_text='{\"page_utterance_emotions\": [[\"anger\"], [\"anger\"], [\"anger\"], [\"anger\", \"fear\"]]}', response_length=29, prompt_length=403, finish_reason='stop')],\n",
       " [Response(response_text='{\"page_utterance_emotions\": [[\"anger\"], [\"fear\"], [\"anger\"], [\"fear\"], [\"anger\"], [\"anger\", \"sadness\"]]}', response_length=38, prompt_length=507, finish_reason='stop')],\n",
       " [Response(response_text='{\"page_utterance_emotions\": [[\"anger\"], [\"fear\", \"surprise\"], [\"anger\"], [\"fear\"], [\"sadness\"], [\"fear\", \"surprise\"], [\"sadness\"]]}', response_length=49, prompt_length=452, finish_reason='stop')],\n",
       " [Response(response_text='{\"page_utterance_emotions\": [[\"surprise\"], [\"joy\"], [\"surprise\", \"joy\"], [\"surprise\", \"joy\"], [\"joy\"], [\"surprise\", \"joy\"], [\"fear\", \"surprise\"], [\"fear\", \"joy\"], [\"fear\", \"joy\"]]}', response_length=73, prompt_length=525, finish_reason='stop')],\n",
       " [Response(response_text='{\"page_utterance_emotions\": [[\"anger\", \"sadness\"], [\"anger\", \"sadness\"], [\"anger\", \"sadness\"], [\"anger\", \"sadness\"], [\"anger\", \"sadness\"], [\"anger\", \"sadness\"], [\"anger\", \"sadness\"], [\"anger\"], [\"disgust\", \"sadness\"], [\"disgust\", \"sadness\"]]}', response_length=92, prompt_length=657, finish_reason='stop')],\n",
       " [Response(response_text='{\"page_utterance_emotions\": [[\"surprise\"], [\"surprise\", \"joy\"], [\"surprise\"], [\"anger\"], [\"anger\", \"fear\", \"sadness\"], [\"anger\", \"fear\"], [\"anger\"], [\"fear\"], [\"fear\", \"surprise\"], [\"fear\", \"surprise\"]]}', response_length=74, prompt_length=589, finish_reason='stop')],\n",
       " [Response(response_text='{\"page_utterance_emotions\": [[\"fear\", \"surprise\"], [\"fear\", \"surprise\"], [\"fear\", \"sadness\"], [\"fear\", \"sadness\", \"surprise\"], [\"fear\", \"sadness\", \"surprise\"], [\"fear\", \"surprise\"], [\"fear\", \"surprise\"], [\"anger\"], [\"joy\"]]}', response_length=87, prompt_length=577, finish_reason='stop')],\n",
       " [Response(response_text='{\"page_utterance_emotions\": [[\"joy\"], [\"fear\"], [\"joy\"], [\"surprise\"], [\"neutral\"], [\"neutral\"], [\"surprise\"], [\"surprise\"], [\"fear\", \"surprise\"], [\"sadness\", \"surprise\"], [\"fear\"], [\"fear\"], [\"fear\", \"surprise\"], [\"surprise\"], [\"anger\", \"sadness\"], [\"anger\", \"sadness\"]]}', response_length=98, prompt_length=857, finish_reason='stop')],\n",
       " [Response(response_text='{\"page_utterance_emotions\": [[\"anger\"], [\"anger\", \"sadness\"], [\"anger\", \"sadness\"], [\"fear\", \"surprise\"], [\"anger\", \"surprise\"]]}', response_length=47, prompt_length=438, finish_reason='stop')],\n",
       " [Response(response_text='{\"page_utterance_emotions\": [[\"fear\", \"surprise\"]]}', response_length=21, prompt_length=355, finish_reason='stop')],\n",
       " [Response(response_text='{\"page_utterance_emotions\": [[\"anger\"], [\"anger\"]]}', response_length=19, prompt_length=358, finish_reason='stop')],\n",
       " [Response(response_text='{\"page_utterance_emotions\": [[\"anger\"], [\"anger\"], [\"anger\", \"surprise\"], [\"anger\"], [\"fear\"], [\"anger\", \"fear\"]]}', response_length=40, prompt_length=520, finish_reason='stop')],\n",
       " [Response(response_text='{\"page_utterance_emotions\": [[\"anger\", \"surprise\"], [\"fear\", \"surprise\"], [\"fear\", \"surprise\"], [\"joy\"], [\"anger\", \"joy\"]]}', response_length=47, prompt_length=458, finish_reason='stop')],\n",
       " [Response(response_text='{\"page_utterance_emotions\": [[\"anger\", \"fear\", \"surprise\"], [\"anger\", \"surprise\"]]}', response_length=31, prompt_length=391, finish_reason='stop')],\n",
       " [Response(response_text='{\"page_utterance_emotions\": [[\"anger\", \"fear\"], [\"joy\"], [\"anger\", \"disgust\"], [\"sadness\"], [\"anger\", \"surprise\"], [\"anger\", \"fear\"], [\"anger\", \"fear\"], [\"fear\", \"sadness\"]]}', response_length=67, prompt_length=520, finish_reason='stop')],\n",
       " [Response(response_text='{\"page_utterance_emotions\": [[\"anger\", \"joy\"], [\"anger\", \"disgust\", \"sadness\"], [\"anger\", \"surprise\"], [\"anger\"], [\"surprise\", \"joy\"], [\"surprise\", \"joy\"], [\"surprise\", \"joy\"]]}', response_length=67, prompt_length=457, finish_reason='stop')],\n",
       " [Response(response_text='{\"page_utterance_emotions\": [[\"fear\", \"sadness\"], [\"sadness\"], [\"fear\", \"sadness\"], [\"fear\", \"sadness\"], [\"anger\", \"fear\", \"sadness\"], [\"anger\", \"fear\", \"sadness\"], [\"anger\", \"fear\", \"sadness\"], [\"surprise\"], [\"sadness\"], [\"sadness\"], [\"sadness\"], [\"surprise\"], [\"sadness\"]]}', response_length=109, prompt_length=652, finish_reason='stop')],\n",
       " [Response(response_text='{\"page_utterance_emotions\": [[\"sadness\"], [\"fear\", \"surprise\"], [\"sadness\"], [\"sadness\"], [\"neutral\"], [\"fear\", \"surprise\"], [\"anger\"], [\"anger\"], [\"fear\", \"surprise\"], [\"anger\", \"joy\"], [\"neutral\"]]}', response_length=73, prompt_length=587, finish_reason='stop')],\n",
       " [Response(response_text='{\"page_utterance_emotions\": [[\"sadness\"], [\"anger\", \"sadness\"], [\"anger\"], [\"anger\", \"disgust\"]]}', response_length=37, prompt_length=447, finish_reason='stop')],\n",
       " [Response(response_text='{\"page_utterance_emotions\": [[\"fear\"], [\"fear\", \"surprise\"]]}', response_length=25, prompt_length=378, finish_reason='stop')],\n",
       " [Response(response_text='{\"page_utterance_emotions\": [[\"neutral\"], [\"fear\", \"surprise\"], [\"anger\"], [\"anger\"], [\"neutral\"], [\"surprise\"], [\"anger\"], [\"surprise\"], [\"anger\"], [\"anger\"]]}', response_length=52, prompt_length=542, finish_reason='stop')],\n",
       " [Response(response_text='{\"page_utterance_emotions\": [[\"anger\", \"fear\"], [\"surprise\"], [\"surprise\"]]}', response_length=28, prompt_length=382, finish_reason='stop')],\n",
       " [Response(response_text='{\"page_utterance_emotions\": [[\"anger\", \"fear\", \"surprise\"], [\"sadness\"], [\"fear\", \"surprise\"], [\"neutral\"], [\"surprise\"], [\"anger\"], [\"anger\", \"disgust\"], [\"anger\", \"disgust\"]]}', response_length=64, prompt_length=531, finish_reason='stop')],\n",
       " [Response(response_text='{\"page_utterance_emotions\": [[\"fear\", \"surprise\"], [\"anger\", \"sadness\"], [\"joy\"], [\"joy\"], [\"joy\"], [\"anger\"], [\"anger\"], [\"anger\", \"sadness\"], [\"anger\", \"sadness\"], [\"surprise\", \"joy\"], [\"joy\"]]}', response_length=75, prompt_length=662, finish_reason='stop')],\n",
       " [Response(response_text='{\"page_utterance_emotions\": [[\"anger\", \"fear\"], [\"anger\", \"sadness\"], [\"anger\", \"joy\"]]}', response_length=35, prompt_length=426, finish_reason='stop')],\n",
       " [Response(response_text='{\"page_utterance_emotions\": [[\"fear\", \"surprise\"], [\"fear\", \"surprise\"], [\"joy\"], [\"joy\"], [\"joy\"], [\"fear\"], [\"fear\", \"surprise\"]]}', response_length=53, prompt_length=583, finish_reason='stop')],\n",
       " [Response(response_text='{\"page_utterance_emotions\": [[\"fear\", \"surprise\"], [\"fear\", \"surprise\"], [\"anger\", \"fear\", \"surprise\"], [\"joy\"], [\"joy\"], [\"fear\", \"surprise\"], [\"sadness\", \"surprise\"], [\"surprise\", \"joy\"]]}', response_length=73, prompt_length=561, finish_reason='stop')],\n",
       " [Response(response_text='{\"page_utterance_emotions\": [[\"fear\"], [\"joy\"], [\"sadness\"], [\"anger\"], [\"sadness\", \"surprise\"], [\"anger\", \"surprise\"], [\"disgust\", \"joy\"]]}', response_length=54, prompt_length=553, finish_reason='stop')],\n",
       " [Response(response_text='{\"page_utterance_emotions\": [[\"sadness\"], [\"sadness\"], [\"sadness\"], [\"sadness\"]]}', response_length=33, prompt_length=461, finish_reason='stop')],\n",
       " [Response(response_text='{\"page_utterance_emotions\": [[\"sadness\"], [\"sadness\"], [\"neutral\"], [\"anger\"], [\"neutral\"], [\"anger\"]]}', response_length=37, prompt_length=533, finish_reason='stop')],\n",
       " [Response(response_text='{\"page_utterance_emotions\": [[\"joy\"], [\"anger\", \"surprise\"], [\"anger\", \"surprise\"], [\"joy\"], [\"anger\", \"disgust\", \"surprise\"], [\"anger\", \"surprise\"]]}', response_length=54, prompt_length=500, finish_reason='stop')],\n",
       " [Response(response_text='{\"page_utterance_emotions\": [[\"sadness\"], [\"sadness\"], [\"sadness\"], [\"sadness\"]]}', response_length=33, prompt_length=461, finish_reason='stop')],\n",
       " [Response(response_text='{\"page_utterance_emotions\": [[\"sadness\"], [\"sadness\"], [\"fear\", \"sadness\"], [\"sadness\"]]}', response_length=37, prompt_length=408, finish_reason='stop')],\n",
       " [Response(response_text='{\"page_utterance_emotions\": [[\"sadness\"], [\"sadness\", \"surprise\"], [\"sadness\"], [\"sadness\", \"surprise\"], [\"sadness\", \"surprise\"], [\"sadness\", \"surprise\"], [\"sadness\", \"surprise\"]]}', response_length=68, prompt_length=543, finish_reason='stop')],\n",
       " [Response(response_text='{\"page_utterance_emotions\": [[\"sadness\"], [\"anger\"], [\"joy\"], [\"joy\"], [\"joy\"], [\"joy\"], [\"sadness\", \"disgust\"]]}', response_length=47, prompt_length=547, finish_reason='stop')],\n",
       " [Response(response_text='{\"page_utterance_emotions\": [[\"fear\"], [\"fear\", \"surprise\"], [\"surprise\"], [\"surprise\"], [\"anger\", \"fear\"], [\"anger\", \"fear\"], [\"anger\", \"fear\"]]}', response_length=54, prompt_length=486, finish_reason='stop')],\n",
       " [Response(response_text='{\"page_utterance_emotions\": [[\"joy\"], [\"joy\"], [\"anger\", \"surprise\"], [\"joy\"], [\"joy\"], [\"anger\"], [\"joy\"], [\"joy\"]]}', response_length=47, prompt_length=586, finish_reason='stop')],\n",
       " [Response(response_text='{\"page_utterance_emotions\": [[\"anger\"], [\"fear\"], [\"fear\"]]}', response_length=24, prompt_length=362, finish_reason='stop')],\n",
       " [Response(response_text='{\"page_utterance_emotions\": [[\"anger\", \"sadness\"], [\"anger\", \"sadness\"], [\"fear\", \"surprise\"], [\"fear\", \"surprise\"], [\"anger\", \"disgust\", \"fear\", \"sadness\"], [\"surprise\", \"joy\"], [\"sadness\"], [\"joy\"], [\"joy\"]]}', response_length=83, prompt_length=513, finish_reason='stop')],\n",
       " [Response(response_text='{\"page_utterance_emotions\": [[\"joy\"], [\"sadness\", \"joy\"], [\"sadness\", \"joy\"], [\"sadness\"]]}', response_length=40, prompt_length=430, finish_reason='stop')],\n",
       " [Response(response_text='{\"page_utterance_emotions\": [[\"joy\"], [\"joy\"], [\"sadness\", \"joy\"], [\"anger\"], [\"anger\", \"joy\"], [\"anger\", \"joy\"]]}', response_length=47, prompt_length=543, finish_reason='stop')],\n",
       " [Response(response_text='{\"page_utterance_emotions\": [[\"anger\", \"joy\"], [\"sadness\", \"joy\"]]}', response_length=29, prompt_length=363, finish_reason='stop')],\n",
       " [Response(response_text='{\"page_utterance_emotions\": [[\"sadness\"], [\"fear\"], [\"sadness\"], [\"sadness\"], [\"sadness\"], [\"sadness\"], [\"sadness\"], [\"sadness\"]]}', response_length=52, prompt_length=468, finish_reason='stop')],\n",
       " [Response(response_text='{\"page_utterance_emotions\": [[\"disgust\", \"sadness\"], [\"disgust\", \"sadness\"], [\"sadness\"], [\"sadness\"], [\"sadness\"]]}', response_length=48, prompt_length=404, finish_reason='stop')],\n",
       " [Response(response_text='{\"page_utterance_emotions\": [[\"fear\", \"surprise\"], [\"anger\"], [\"anger\", \"sadness\", \"surprise\"], [\"sadness\", \"surprise\"], [\"anger\", \"surprise\"], [\"fear\", \"sadness\"]]}', response_length=61, prompt_length=423, finish_reason='stop')],\n",
       " [Response(response_text='{\"page_utterance_emotions\": [[\"fear\", \"surprise\"], [\"surprise\"]]}', response_length=25, prompt_length=360, finish_reason='stop')],\n",
       " [Response(response_text='{\"page_utterance_emotions\": [[\"joy\"], [\"joy\"]]}', response_length=21, prompt_length=359, finish_reason='stop')],\n",
       " [Response(response_text='{\"page_utterance_emotions\": [[\"anger\", \"surprise\"], [\"anger\", \"surprise\"], [\"anger\"], [\"neutral\"], [\"surprise\"], [\"neutral\"], [\"surprise\"]]}', response_length=46, prompt_length=490, finish_reason='stop')],\n",
       " [Response(response_text='{\"page_utterance_emotions\": [[\"anger\", \"surprise\"], [\"anger\", \"fear\", \"surprise\"], [\"anger\"], [\"anger\", \"disgust\"], [\"anger\"], [\"anger\", \"disgust\"]]}', response_length=53, prompt_length=448, finish_reason='stop')],\n",
       " [Response(response_text='{\"page_utterance_emotions\": [[\"sadness\", \"joy\"], [\"surprise\", \"joy\"]]}', response_length=30, prompt_length=374, finish_reason='stop')],\n",
       " [Response(response_text='{\"page_utterance_emotions\": [[\"neutral\"], [\"surprise\"], [\"neutral\"], [\"neutral\"], [\"anger\", \"sadness\"], [\"neutral\"], [\"neutral\"], [\"neutral\"]]}', response_length=49, prompt_length=540, finish_reason='stop')],\n",
       " [Response(response_text='{\"page_utterance_emotions\": [[\"anger\"], [\"anger\"], [\"anger\"], [\"anger\"], [\"anger\", \"sadness\"], [\"sadness\"], [\"anger\", \"sadness\"], [\"anger\"]]}', response_length=49, prompt_length=705, finish_reason='stop')],\n",
       " [Response(response_text='{\"page_utterance_emotions\": [[\"anger\"], [\"anger\", \"surprise\"], [\"anger\"], [\"anger\", \"surprise\"], [\"anger\"], [\"joy\"], [\"anger\", \"surprise\"], [\"joy\"], [\"anger\"], [\"anger\"], [\"anger\", \"sadness\"], [\"anger\", \"sadness\"]]}', response_length=73, prompt_length=616, finish_reason='stop')],\n",
       " [Response(response_text='{\"page_utterance_emotions\": [[\"sadness\"], [\"sadness\", \"surprise\"], [\"joy\"], [\"fear\", \"surprise\"], [\"joy\"], [\"surprise\"], [\"anger\"], [\"joy\"], [\"anger\", \"sadness\"], [\"anger\"]]}', response_length=65, prompt_length=529, finish_reason='stop')],\n",
       " [Response(response_text='{\"page_utterance_emotions\": [[\"anger\"], [\"anger\"], [\"anger\", \"surprise\"], [\"anger\", \"sadness\"], [\"anger\"], [\"anger\", \"sadness\"], [\"anger\", \"sadness\"], [\"sadness\"], [\"anger\"]]}', response_length=61, prompt_length=504, finish_reason='stop')],\n",
       " [Response(response_text='{\"page_utterance_emotions\": [[\"anger\", \"sadness\"], [\"anger\", \"sadness\"], [\"sadness\"], [\"anger\", \"sadness\"], [\"anger\", \"sadness\"], [\"anger\", \"sadness\"], [\"anger\", \"sadness\"], [\"anger\"], [\"anger\", \"sadness\"], [\"anger\", \"sadness\"], [\"sadness\"], [\"anger\"], [\"anger\"], [\"anger\"], [\"anger\"]]}', response_length=102, prompt_length=815, finish_reason='stop')],\n",
       " [Response(response_text='{\"page_utterance_emotions\": [[\"joy\"], [\"anger\"], [\"anger\", \"joy\"], [\"anger\", \"joy\"], [\"joy\"], [\"sadness\"], [\"surprise\", \"joy\"], [\"joy\"], [\"joy\"], [\"sadness\"], [\"anger\", \"surprise\"], [\"sadness\"], [\"anger\"]]}', response_length=79, prompt_length=623, finish_reason='stop')],\n",
       " [Response(response_text='{\"page_utterance_emotions\": [[\"sadness\"], [\"fear\", \"surprise\"], [\"surprise\"], [\"fear\", \"surprise\"], [\"joy\"], [\"joy\"], [\"anger\"], [\"fear\", \"surprise\"], [\"sadness\"], [\"anger\", \"sadness\"]]}', response_length=70, prompt_length=627, finish_reason='stop')],\n",
       " [Response(response_text='{\"page_utterance_emotions\": [[\"neutral\"], [\"fear\", \"surprise\"], [\"fear\", \"surprise\"], [\"anger\", \"fear\"], [\"fear\", \"surprise\"], [\"joy\"], [\"joy\"], [\"anger\", \"sadness\"], [\"anger\", \"sadness\"], [\"anger\", \"sadness\"], [\"anger\", \"sadness\"], [\"anger\", \"disgust\"], [\"fear\", \"surprise\"], [\"surprise\"], [\"surprise\"], [\"anger\", \"sadness\"]]}', response_length=120, prompt_length=683, finish_reason='stop')],\n",
       " [Response(response_text='{\"page_utterance_emotions\": [[\"anger\", \"disgust\"], [\"disgust\", \"joy\"], [\"anger\", \"surprise\"], [\"anger\"], [\"fear\"], [\"neutral\"], [\"neutral\"], [\"neutral\"], [\"joy\"], [\"joy\"]]}', response_length=64, prompt_length=612, finish_reason='stop')],\n",
       " [Response(response_text='{\"page_utterance_emotions\": [[\"fear\", \"surprise\", \"joy\"]]}', response_length=25, prompt_length=353, finish_reason='stop')],\n",
       " [Response(response_text='{\"page_utterance_emotions\": [[\"joy\"], [\"anger\", \"fear\"]]}', response_length=24, prompt_length=384, finish_reason='stop')],\n",
       " [Response(response_text='{\"page_utterance_emotions\": [[\"neutral\"], [\"neutral\"], [\"joy\"], [\"anger\"], [\"anger\", \"sadness\"], [\"anger\", \"sadness\"], [\"anger\"], [\"anger\", \"surprise\"]]}', response_length=54, prompt_length=563, finish_reason='stop')],\n",
       " [Response(response_text='{\"page_utterance_emotions\": [[\"surprise\", \"joy\"], [\"surprise\", \"joy\"], [\"joy\"], [\"surprise\"], [\"anger\"], [\"surprise\"], [\"surprise\"], [\"surprise\"]]}', response_length=52, prompt_length=492, finish_reason='stop')],\n",
       " [Response(response_text='{\"page_utterance_emotions\": [[\"surprise\"], [\"anger\"], [\"anger\", \"surprise\"]]}', response_length=27, prompt_length=359, finish_reason='stop')],\n",
       " [Response(response_text='{\"page_utterance_emotions\": [[\"joy\"], [\"joy\"], [\"joy\"], [\"anger\", \"fear\"], [\"surprise\"], [\"joy\"]]}', response_length=40, prompt_length=419, finish_reason='stop')],\n",
       " [Response(response_text='{\"page_utterance_emotions\": [[\"disgust\", \"sadness\"], [\"fear\"], [\"fear\", \"sadness\"], [\"sadness\"]]}', response_length=41, prompt_length=384, finish_reason='stop')],\n",
       " [Response(response_text='{\"page_utterance_emotions\": [[\"sadness\", \"surprise\"]]}', response_length=22, prompt_length=352, finish_reason='stop')],\n",
       " [Response(response_text='{\"page_utterance_emotions\": [[\"neutral\"], [\"neutral\"], [\"joy\"], [\"joy\"], [\"neutral\"], [\"surprise\", \"joy\"], [\"sadness\"], [\"neutral\"], [\"sadness\"], [\"fear\", \"surprise\"]]}', response_length=63, prompt_length=824, finish_reason='stop')],\n",
       " [Response(response_text='{\"page_utterance_emotions\": [[\"neutral\"], [\"anger\", \"disgust\"], [\"fear\", \"surprise\"], [\"neutral\"], [\"neutral\"], [\"sadness\"], [\"sadness\"], [\"sadness\", \"joy\"]]}', response_length=60, prompt_length=739, finish_reason='stop')],\n",
       " [Response(response_text='{\"page_utterance_emotions\": [[\"joy\"], [\"anger\", \"joy\"], [\"surprise\"], [\"joy\"], [\"joy\"], [\"anger\"], [\"joy\"], [\"joy\"], [\"joy\"], [\"joy\"], [\"joy\"], [\"neutral\"], [\"joy\"]]}', response_length=67, prompt_length=723, finish_reason='stop')],\n",
       " [Response(response_text='{\"page_utterance_emotions\": [[\"anger\", \"surprise\"], [\"anger\", \"fear\", \"surprise\"], [\"fear\", \"surprise\"]]}', response_length=39, prompt_length=391, finish_reason='stop')],\n",
       " [Response(response_text='{\"page_utterance_emotions\": [[\"anger\", \"surprise\"], [\"fear\", \"surprise\"], [\"fear\", \"surprise\"], [\"surprise\"], [\"surprise\"], [\"surprise\"], [\"fear\", \"surprise\"]]}', response_length=56, prompt_length=414, finish_reason='stop')],\n",
       " [Response(response_text='{\"page_utterance_emotions\": [[\"sadness\", \"surprise\"], [\"anger\", \"surprise\"]]}', response_length=29, prompt_length=371, finish_reason='stop')],\n",
       " [Response(response_text='{\"page_utterance_emotions\": [[\"anger\", \"surprise\"], [\"sadness\", \"surprise\"], [\"sadness\", \"surprise\"], [\"anger\", \"surprise\"], [\"sadness\", \"surprise\"], [\"surprise\"], [\"neutral\"], [\"neutral\"], [\"neutral\"], [\"neutral\"], [\"fear\", \"surprise\"], [\"fear\", \"surprise\"], [\"anger\"]]}', response_length=93, prompt_length=907, finish_reason='stop')],\n",
       " [Response(response_text='{\"page_utterance_emotions\": [[\"neutral\"], [\"neutral\"], [\"disgust\"], [\"neutral\"], [\"disgust\"], [\"joy\"], [\"joy\"], [\"joy\"]]}', response_length=47, prompt_length=696, finish_reason='stop')],\n",
       " [Response(response_text='{\"page_utterance_emotions\": [[\"anger\", \"disgust\", \"sadness\"], [\"fear\", \"sadness\", \"surprise\"], [\"fear\", \"surprise\"], [\"anger\", \"fear\"], [\"surprise\"], [\"surprise\"]]}', response_length=62, prompt_length=578, finish_reason='stop')],\n",
       " [Response(response_text='{\"page_utterance_emotions\": [[\"sadness\"], [\"joy\"], [\"surprise\", \"joy\"], [\"sadness\"], [\"sadness\"]]}', response_length=40, prompt_length=435, finish_reason='stop')],\n",
       " [Response(response_text='{\"page_utterance_emotions\": [[\"neutral\"], [\"fear\", \"surprise\"], [\"anger\", \"fear\"], [\"neutral\"], [\"neutral\"], [\"anger\", \"fear\", \"sadness\"], [\"fear\", \"sadness\"], [\"fear\", \"surprise\"]]}', response_length=69, prompt_length=487, finish_reason='stop')],\n",
       " [Response(response_text='{\"page_utterance_emotions\": [[\"neutral\"], [\"fear\"], [\"anger\", \"fear\"], [\"fear\", \"surprise\"], [\"anger\", \"disgust\", \"surprise\"], [\"anger\", \"fear\"], [\"anger\", \"fear\"]]}', response_length=62, prompt_length=552, finish_reason='stop')],\n",
       " [Response(response_text='{\"page_utterance_emotions\": [[\"anger\", \"sadness\"], [\"fear\", \"sadness\"], [\"anger\", \"sadness\"], [\"anger\", \"sadness\"]]}', response_length=46, prompt_length=492, finish_reason='stop')],\n",
       " [Response(response_text='{\"page_utterance_emotions\": [[\"anger\", \"fear\"], [\"sadness\"], [\"fear\"], [\"anger\"], [\"anger\"], [\"fear\", \"surprise\"]]}', response_length=43, prompt_length=468, finish_reason='stop')],\n",
       " [Response(response_text='{\"page_utterance_emotions\": [[\"joy\"]]}', response_length=17, prompt_length=345, finish_reason='stop')],\n",
       " [Response(response_text='{\"page_utterance_emotions\": [[\"anger\", \"fear\", \"surprise\"], [\"anger\", \"fear\", \"surprise\"], [\"anger\", \"fear\"], [\"anger\", \"fear\"], [\"anger\", \"fear\", \"surprise\"], [\"anger\", \"surprise\"]]}', response_length=67, prompt_length=442, finish_reason='stop')],\n",
       " [Response(response_text='{\"page_utterance_emotions\": [[\"anger\", \"fear\", \"surprise\"]]}', response_length=24, prompt_length=345, finish_reason='stop')],\n",
       " [Response(response_text='{\"page_utterance_emotions\": [[\"sadness\"], [\"sadness\"], [\"sadness\"]]}', response_length=28, prompt_length=450, finish_reason='stop')],\n",
       " [Response(response_text='{\"page_utterance_emotions\": [[\"sadness\"], [\"sadness\"], [\"fear\", \"sadness\"], [\"fear\", \"sadness\"], [\"fear\", \"sadness\"], [\"fear\", \"sadness\"], [\"sadness\"], [\"fear\", \"sadness\"], [\"fear\", \"sadness\"], [\"fear\", \"sadness\"], [\"anger\", \"sadness\"], [\"anger\", \"sadness\"], [\"anger\", \"sadness\"]]}', response_length=115, prompt_length=894, finish_reason='stop')],\n",
       " [Response(response_text='{\"page_utterance_emotions\": [[\"anger\", \"joy\"], [\"sadness\", \"joy\"], [\"sadness\", \"joy\"], [\"sadness\", \"joy\"], [\"sadness\", \"joy\"], [\"sadness\", \"joy\"], [\"sadness\", \"joy\"], [\"sadness\", \"joy\"], [\"sadness\", \"joy\"]]}', response_length=92, prompt_length=775, finish_reason='stop')],\n",
       " [Response(response_text='{\"page_utterance_emotions\": [[\"fear\", \"sadness\"], [\"sadness\", \"joy\"], [\"fear\", \"surprise\"], [\"anger\", \"fear\"], [\"fear\", \"sadness\"], [\"fear\", \"sadness\"], [\"anger\", \"fear\", \"surprise\"], [\"anger\", \"fear\"], [\"anger\", \"fear\"]]}', response_length=89, prompt_length=526, finish_reason='stop')],\n",
       " [Response(response_text='{\"page_utterance_emotions\": [[\"sadness\", \"surprise\"], [\"sadness\", \"surprise\"], [\"sadness\", \"surprise\"], [\"sadness\", \"surprise\"], [\"sadness\"], [\"sadness\"], [\"sadness\"], [\"disgust\", \"surprise\"], [\"sadness\"], [\"sadness\"], [\"sadness\"], [\"sadness\", \"joy\"]]}', response_length=97, prompt_length=756, finish_reason='stop')],\n",
       " [Response(response_text='{\"page_utterance_emotions\": [[\"neutral\"], [\"joy\"], [\"fear\"], [\"neutral\"], [\"surprise\"], [\"fear\", \"sadness\"], [\"fear\", \"sadness\"], [\"fear\", \"sadness\"], [\"fear\", \"sadness\"], [\"sadness\"], [\"fear\"], [\"fear\"], [\"neutral\"]]}', response_length=86, prompt_length=713, finish_reason='stop')],\n",
       " [Response(response_text='{\"page_utterance_emotions\": [[\"anger\", \"surprise\"], [\"anger\", \"sadness\"], [\"anger\", \"sadness\"], [\"anger\"], [\"anger\"], [\"anger\"], [\"anger\"], [\"anger\"], [\"anger\"], [\"anger\", \"sadness\"], [\"anger\", \"sadness\"], [\"anger\", \"sadness\"], [\"anger\", \"sadness\"], [\"anger\", \"sadness\"], [\"anger\", \"sadness\"], [\"anger\", \"sadness\"], [\"anger\", \"sadness\"]]}', response_length=118, prompt_length=705, finish_reason='stop')],\n",
       " [Response(response_text='{\"page_utterance_emotions\": [[\"joy\"], [\"joy\"], [\"joy\"], [\"neutral\"], [\"neutral\"], [\"surprise\"], [\"neutral\"], [\"joy\"], [\"joy\"], [\"joy\"], [\"joy\"], [\"neutral\"], [\"neutral\"], [\"joy\"], [\"joy\"], [\"joy\"], [\"joy\"], [\"joy\"], [\"surprise\"]]}', response_length=89, prompt_length=1034, finish_reason='stop')],\n",
       " [Response(response_text='{\"page_utterance_emotions\": [[\"anger\", \"surprise\"], [\"anger\", \"sadness\"], [\"anger\", \"fear\"], [\"anger\", \"fear\"], [\"joy\"], [\"joy\"], [\"anger\"], [\"sadness\"], [\"sadness\"], [\"sadness\"], [\"anger\", \"sadness\"], [\"anger\", \"sadness\"], [\"joy\"]]}', response_length=88, prompt_length=712, finish_reason='stop')],\n",
       " [Response(response_text='{\"page_utterance_emotions\": [[\"surprise\"], [\"joy\"], [\"joy\"], [\"surprise\", \"joy\"], [\"sadness\", \"surprise\"], [\"surprise\"], [\"surprise\"], [\"sadness\"], [\"sadness\"], [\"surprise\"], [\"sadness\"]]}', response_length=69, prompt_length=659, finish_reason='stop')],\n",
       " [Response(response_text='{\"page_utterance_emotions\": [[\"surprise\"], [\"neutral\"], [\"joy\"], [\"joy\"], [\"surprise\"], [\"sadness\"], [\"sadness\"], [\"sadness\", \"joy\"], [\"joy\"], [\"surprise\"], [\"surprise\", \"joy\"], [\"surprise\", \"joy\"], [\"surprise\", \"joy\"], [\"joy\"]]}', response_length=88, prompt_length=772, finish_reason='stop')],\n",
       " [Response(response_text='{\"page_utterance_emotions\": [[\"anger\", \"sadness\"], [\"anger\", \"sadness\"], [\"anger\", \"sadness\"], [\"anger\"], [\"anger\", \"surprise\"], [\"sadness\", \"surprise\"], [\"anger\", \"sadness\"], [\"anger\", \"sadness\"], [\"anger\", \"sadness\"], [\"anger\", \"surprise\"]]}', response_length=87, prompt_length=599, finish_reason='stop')],\n",
       " [Response(response_text='{\"page_utterance_emotions\": [[\"anger\", \"surprise\"], [\"anger\", \"surprise\"], [\"anger\", \"sadness\"], [\"anger\", \"surprise\"], [\"anger\", \"sadness\"], [\"anger\", \"sadness\"], [\"sadness\"], [\"neutral\"], [\"anger\", \"sadness\"], [\"anger\", \"sadness\"], [\"fear\", \"sadness\"], [\"fear\", \"sadness\"], [\"neutral\"]]}', response_length=105, prompt_length=702, finish_reason='stop')],\n",
       " [Response(response_text='{\"page_utterance_emotions\": [[\"anger\", \"disgust\"], [\"anger\", \"disgust\"], [\"anger\", \"disgust\"], [\"anger\", \"fear\"], [\"anger\", \"fear\"], [\"anger\"], [\"anger\"], [\"anger\"], [\"anger\", \"surprise\"], [\"anger\", \"sadness\"], [\"anger\", \"sadness\"], [\"anger\"]]}', response_length=86, prompt_length=852, finish_reason='stop')],\n",
       " [Response(response_text='{\"page_utterance_emotions\": [[\"anger\"], [\"anger\"], [\"anger\"], [\"anger\"], [\"anger\"], [\"anger\"], [\"anger\"]]}', response_length=34, prompt_length=538, finish_reason='stop')],\n",
       " [Response(response_text='{\"page_utterance_emotions\": [[\"surprise\"], [\"anger\"], [\"sadness\"], [\"joy\"], [\"sadness\"], [\"sadness\"], [\"anger\"], [\"joy\"], [\"sadness\", \"surprise\"], [\"sadness\", \"surprise\"], [\"surprise\"], [\"anger\"]]}', response_length=71, prompt_length=701, finish_reason='stop')],\n",
       " [Response(response_text='{\"page_utterance_emotions\": [[\"sadness\"], [\"sadness\", \"surprise\"], [\"surprise\"], [\"sadness\"], [\"sadness\"], [\"sadness\", \"surprise\"], [\"sadness\", \"surprise\"]]}', response_length=59, prompt_length=465, finish_reason='stop')],\n",
       " [Response(response_text='{\"page_utterance_emotions\": [[\"sadness\"], [\"sadness\", \"surprise\"], [\"sadness\"], [\"sadness\"], [\"surprise\"], [\"surprise\"], [\"sadness\", \"joy\"], [\"sadness\", \"joy\"]]}', response_length=63, prompt_length=520, finish_reason='stop')],\n",
       " [Response(response_text='{\"page_utterance_emotions\": [[\"anger\", \"joy\"], [\"anger\", \"joy\"], [\"anger\", \"joy\"], [\"anger\", \"joy\"], [\"anger\", \"joy\"], [\"surprise\", \"joy\"], [\"joy\"], [\"joy\"], [\"joy\"], [\"anger\"], [\"anger\"]]}', response_length=74, prompt_length=602, finish_reason='stop')],\n",
       " [Response(response_text='{\"page_utterance_emotions\": [[\"sadness\"], [\"sadness\"], [\"anger\", \"disgust\"], [\"anger\", \"sadness\"], [\"sadness\"], [\"sadness\"], [\"sadness\"], [\"sadness\"]]}', response_length=59, prompt_length=466, finish_reason='stop')],\n",
       " [Response(response_text='{\"page_utterance_emotions\": [[\"joy\"], [\"fear\", \"joy\"], [\"fear\", \"surprise\"], [\"fear\", \"surprise\"], [\"fear\", \"surprise\"], [\"joy\"], [\"fear\", \"joy\"], [\"joy\"], [\"joy\"]]}', response_length=69, prompt_length=618, finish_reason='stop')],\n",
       " [Response(response_text='{\"page_utterance_emotions\": [[\"neutral\"], [\"anger\", \"fear\"], [\"anger\"]]}', response_length=27, prompt_length=409, finish_reason='stop')],\n",
       " [Response(response_text='{\"page_utterance_emotions\": [[\"fear\"], [\"fear\", \"surprise\"]]}', response_length=25, prompt_length=378, finish_reason='stop')],\n",
       " [Response(response_text='{\"page_utterance_emotions\": [[\"fear\", \"surprise\"], [\"fear\", \"surprise\"], [\"fear\", \"surprise\"], [\"fear\", \"surprise\"], [\"fear\", \"surprise\"], [\"fear\", \"surprise\"]]}', response_length=61, prompt_length=440, finish_reason='stop')],\n",
       " [Response(response_text='{\"page_utterance_emotions\": [[\"fear\", \"sadness\"], [\"fear\", \"sadness\"], [\"fear\", \"sadness\"], [\"surprise\"], [\"anger\"], [\"anger\"], [\"fear\", \"surprise\"]]}', response_length=58, prompt_length=441, finish_reason='stop')],\n",
       " [Response(response_text='{\"page_utterance_emotions\": [[\"surprise\"], [\"surprise\"], [\"surprise\", \"joy\"], [\"surprise\", \"joy\"], [\"anger\", \"surprise\"], [\"anger\"]]}', response_length=47, prompt_length=432, finish_reason='stop')],\n",
       " [Response(response_text='{\"page_utterance_emotions\": [[\"surprise\"], [\"surprise\"], [\"anger\", \"surprise\"], [\"anger\", \"surprise\"], [\"anger\", \"joy\"], [\"anger\"]]}', response_length=45, prompt_length=443, finish_reason='stop')],\n",
       " [Response(response_text='{\"page_utterance_emotions\": [[\"anger\"], [\"fear\", \"surprise\"], [\"anger\", \"fear\"], [\"anger\"], [\"fear\", \"surprise\"], [\"anger\"]]}', response_length=45, prompt_length=427, finish_reason='stop')],\n",
       " [Response(response_text='{\"page_utterance_emotions\": [[\"anger\", \"fear\", \"surprise\"], [\"anger\", \"fear\", \"surprise\"], [\"anger\", \"fear\", \"surprise\"], [\"anger\"], [\"anger\", \"fear\", \"surprise\"]]}', response_length=60, prompt_length=395, finish_reason='stop')],\n",
       " [Response(response_text='{\"page_utterance_emotions\": [[\"fear\", \"surprise\"], [\"fear\", \"sadness\"], [\"fear\", \"surprise\"], [\"surprise\"], [\"anger\"], [\"anger\"]]}', response_length=48, prompt_length=442, finish_reason='stop')],\n",
       " [Response(response_text='{\"page_utterance_emotions\": [[\"anger\", \"fear\", \"surprise\"], [\"anger\", \"fear\", \"surprise\"], [\"anger\", \"fear\"], [\"anger\", \"fear\", \"surprise\"]]}', response_length=53, prompt_length=381, finish_reason='stop')],\n",
       " [Response(response_text='{\"page_utterance_emotions\": [[\"anger\", \"sadness\"], [\"anger\", \"disgust\"], [\"fear\", \"surprise\"], [\"fear\", \"surprise\"], [\"fear\"], [\"fear\", \"surprise\"], [\"surprise\"], [\"surprise\"], [\"anger\", \"disgust\"], [\"anger\", \"surprise\"], [\"sadness\", \"surprise\"], [\"surprise\"]]}', response_length=93, prompt_length=595, finish_reason='stop')],\n",
       " [Response(response_text='{\"page_utterance_emotions\": [[\"joy\"], [\"joy\"], [\"joy\"], [\"surprise\"], [\"surprise\"], [\"fear\", \"surprise\"], [\"anger\", \"fear\"], [\"anger\"], [\"joy\"]]}', response_length=55, prompt_length=512, finish_reason='stop')],\n",
       " [Response(response_text='{\"page_utterance_emotions\": [[\"anger\"], [\"anger\"], [\"anger\"], [\"sadness\"], [\"anger\", \"sadness\"], [\"anger\", \"sadness\"]]}', response_length=43, prompt_length=446, finish_reason='stop')],\n",
       " [Response(response_text='{\"page_utterance_emotions\": [[\"anger\"], [\"surprise\"], [\"fear\", \"sadness\"], [\"anger\", \"fear\", \"surprise\"], [\"joy\"], [\"sadness\"], [\"joy\"], [\"anger\"], [\"fear\"], [\"fear\", \"sadness\"], [\"anger\"], [\"anger\"], [\"anger\"], [\"neutral\"], [\"fear\"], [\"fear\"]]}', response_length=90, prompt_length=638, finish_reason='stop')],\n",
       " [Response(response_text='{\"page_utterance_emotions\": [[\"anger\", \"surprise\"], [\"anger\", \"sadness\"], [\"anger\"], [\"surprise\"], [\"sadness\"], [\"sadness\"], [\"fear\", \"surprise\"], [\"anger\"], [\"anger\"], [\"anger\"], [\"anger\"]]}', response_length=65, prompt_length=554, finish_reason='stop')],\n",
       " [Response(response_text='{\"page_utterance_emotions\": [[\"neutral\"], [\"neutral\"], [\"fear\", \"surprise\"], [\"fear\", \"surprise\"], [\"fear\"], [\"surprise\"], [\"fear\", \"surprise\"], [\"fear\", \"surprise\"], [\"fear\", \"surprise\"], [\"fear\"], [\"fear\", \"surprise\"]]}', response_length=81, prompt_length=509, finish_reason='stop')],\n",
       " [Response(response_text='{\"page_utterance_emotions\": [[\"anger\", \"fear\", \"surprise\"], [\"surprise\"], [\"surprise\"], [\"surprise\"], [\"anger\", \"fear\", \"surprise\"], [\"anger\", \"fear\", \"surprise\"], [\"anger\", \"fear\"], [\"fear\", \"sadness\", \"surprise\"], [\"anger\", \"fear\"], [\"sadness\"], [\"sadness\"], [\"anger\", \"sadness\"], [\"sadness\"], [\"sadness\"]]}', response_length=113, prompt_length=661, finish_reason='stop')],\n",
       " [Response(response_text='{\"page_utterance_emotions\": [[\"fear\", \"surprise\"], [\"neutral\"], [\"fear\", \"surprise\"], [\"neutral\"], [\"neutral\"], [\"neutral\"], [\"joy\"]]}', response_length=49, prompt_length=529, finish_reason='stop')],\n",
       " [Response(response_text='{\"page_utterance_emotions\": [[\"neutral\"], [\"neutral\"], [\"surprise\"], [\"neutral\"], [\"sadness\"], [\"neutral\"], [\"anger\", \"surprise\"], [\"anger\", \"surprise\"], [\"anger\"], [\"anger\"], [\"neutral\"]]}', response_length=62, prompt_length=573, finish_reason='stop')],\n",
       " [Response(response_text='{\"page_utterance_emotions\": [[\"anger\"], [\"surprise\"], [\"anger\", \"surprise\"], [\"anger\"], [\"neutral\"], [\"joy\"], [\"surprise\"], [\"anger\"], [\"anger\"], [\"joy\"], [\"joy\"], [\"joy\"]]}', response_length=60, prompt_length=631, finish_reason='stop')],\n",
       " [Response(response_text='{\"page_utterance_emotions\": [[\"joy\"]]}', response_length=17, prompt_length=358, finish_reason='stop')]]"
      ]
     },
     "execution_count": 23,
     "metadata": {},
     "output_type": "execute_result"
    }
   ],
   "source": [
    "test_predictions"
   ]
  },
  {
   "cell_type": "code",
   "execution_count": 24,
   "metadata": {},
   "outputs": [],
   "source": [
    "processed_preds = []\n",
    "\n",
    "for i, raw_pred in enumerate(test_predictions):\n",
    "    try:\n",
    "        x = json.loads(raw_pred[0].response_text)[\"page_utterance_emotions\"]\n",
    "        processed_preds.append(x)\n",
    "    except:\n",
    "        print(i)"
   ]
  },
  {
   "cell_type": "code",
   "execution_count": 25,
   "metadata": {},
   "outputs": [
    {
     "data": {
      "text/plain": [
       "156"
      ]
     },
     "execution_count": 25,
     "metadata": {},
     "output_type": "execute_result"
    }
   ],
   "source": [
    "len(processed_preds)"
   ]
  },
  {
   "cell_type": "code",
   "execution_count": 26,
   "metadata": {},
   "outputs": [],
   "source": [
    "processed_grounds = []\n",
    "\n",
    "for ground in test_grounds:\n",
    "    x = json.loads(ground)[\"page_utterance_emotions\"]\n",
    "    processed_grounds.append(x)"
   ]
  },
  {
   "cell_type": "code",
   "execution_count": 27,
   "metadata": {},
   "outputs": [
    {
     "data": {
      "text/plain": [
       "156"
      ]
     },
     "execution_count": 27,
     "metadata": {},
     "output_type": "execute_result"
    }
   ],
   "source": [
    "len(processed_grounds)"
   ]
  },
  {
   "cell_type": "code",
   "execution_count": 28,
   "metadata": {},
   "outputs": [
    {
     "name": "stdout",
     "output_type": "stream",
     "text": [
      "3 21 22\n",
      "7 16 15\n",
      "14 23 25\n",
      "27 17 16\n",
      "36 17 16\n",
      "87 15 16\n"
     ]
    }
   ],
   "source": [
    "bad_idx = []\n",
    "\n",
    "for idx, (i,j) in enumerate(zip(processed_grounds, processed_preds)):\n",
    "    if len(i) != len(j):\n",
    "        print(idx, len(i), len(j))\n",
    "        bad_idx.append(idx)"
   ]
  },
  {
   "cell_type": "code",
   "execution_count": 29,
   "metadata": {},
   "outputs": [],
   "source": [
    "bad_idx.sort(reverse=True)\n",
    "\n",
    "# Remove elements from 'grounds' at the specified indices\n",
    "for idx in bad_idx:\n",
    "    \n",
    "    del processed_grounds[idx]\n",
    "    del processed_preds[idx]"
   ]
  },
  {
   "cell_type": "code",
   "execution_count": 30,
   "metadata": {},
   "outputs": [
    {
     "data": {
      "text/plain": [
       "(150, 150)"
      ]
     },
     "execution_count": 30,
     "metadata": {},
     "output_type": "execute_result"
    }
   ],
   "source": [
    "len(processed_grounds), len(processed_preds)"
   ]
  },
  {
   "cell_type": "code",
   "execution_count": 31,
   "metadata": {},
   "outputs": [],
   "source": [
    "grounds = [item for sublist in processed_grounds for item in sublist]\n",
    "predictions = [item for sublist in processed_preds for item in sublist]"
   ]
  },
  {
   "cell_type": "code",
   "execution_count": 32,
   "metadata": {},
   "outputs": [
    {
     "data": {
      "text/plain": [
       "(1217, 1217)"
      ]
     },
     "execution_count": 32,
     "metadata": {},
     "output_type": "execute_result"
    }
   ],
   "source": [
    "len(grounds), len(predictions)"
   ]
  },
  {
   "cell_type": "code",
   "execution_count": 33,
   "metadata": {},
   "outputs": [],
   "source": [
    "from sklearn.preprocessing import MultiLabelBinarizer\n",
    "mlb = MultiLabelBinarizer()"
   ]
  },
  {
   "cell_type": "code",
   "execution_count": 34,
   "metadata": {},
   "outputs": [],
   "source": [
    "y_true_mhot = mlb.fit_transform(grounds)\n",
    "y_pred_mhot = mlb.transform(predictions)"
   ]
  },
  {
   "cell_type": "code",
   "execution_count": 35,
   "metadata": {},
   "outputs": [
    {
     "data": {
      "text/plain": [
       "((1217, 7), (1217, 7))"
      ]
     },
     "execution_count": 35,
     "metadata": {},
     "output_type": "execute_result"
    }
   ],
   "source": [
    "y_true_mhot.shape, y_pred_mhot.shape"
   ]
  },
  {
   "cell_type": "code",
   "execution_count": 36,
   "metadata": {},
   "outputs": [],
   "source": [
    "class_labels = mlb.classes_"
   ]
  },
  {
   "cell_type": "code",
   "execution_count": 37,
   "metadata": {},
   "outputs": [
    {
     "data": {
      "text/plain": [
       "array(['anger', 'disgust', 'fear', 'joy', 'neutral', 'sadness',\n",
       "       'surprise'], dtype=object)"
      ]
     },
     "execution_count": 37,
     "metadata": {},
     "output_type": "execute_result"
    }
   ],
   "source": [
    "class_labels"
   ]
  },
  {
   "cell_type": "code",
   "execution_count": 38,
   "metadata": {},
   "outputs": [
    {
     "name": "stdout",
     "output_type": "stream",
     "text": [
      "              precision    recall  f1-score   support\n",
      "\n",
      "       anger      0.558     0.570     0.564       416\n",
      "     disgust      0.133     0.103     0.116        39\n",
      "        fear      0.473     0.441     0.457       281\n",
      "         joy      0.557     0.551     0.554       283\n",
      "     neutral      0.326     0.316     0.321        95\n",
      "     sadness      0.494     0.541     0.517       314\n",
      "    surprise      0.525     0.534     0.529       320\n",
      "\n",
      "   micro avg      0.507     0.510     0.509      1748\n",
      "   macro avg      0.438     0.437     0.437      1748\n",
      "weighted avg      0.504     0.510     0.507      1748\n",
      " samples avg      0.525     0.531     0.502      1748\n",
      "\n"
     ]
    }
   ],
   "source": [
    "print(classification_report(y_true_mhot, y_pred_mhot, target_names=class_labels, digits=3))"
   ]
  },
  {
   "cell_type": "code",
   "execution_count": 39,
   "metadata": {},
   "outputs": [],
   "source": [
    "# with open({Path(FT_DIR)} / \"classification_report.pickle\", 'wb') as fh:\n",
    "    \n",
    "#      pickle.dump(classification_report(y_true_mhot, y_pred_mhot, target_names=class_labels, digits=3, output_dict=True), fh)"
   ]
  },
  {
   "cell_type": "raw",
   "metadata": {
    "vscode": {
     "languageId": "raw"
    }
   },
   "source": [
    "unsloth/Meta-Llama-3.1-70B-Instruct, 8 Epochs.\n",
    "\n",
    "precision    recall  f1-score   support\n",
    "\n",
    "       anger      0.601     0.569     0.584       445\n",
    "     disgust      0.160     0.174     0.167        46\n",
    "        fear      0.454     0.505     0.478       293\n",
    "         joy      0.534     0.465     0.497       271\n",
    "     neutral      0.574     0.321     0.412       109\n",
    "     sadness      0.535     0.601     0.566       333\n",
    "    surprise      0.580     0.678     0.625       342\n",
    "\n",
    "   micro avg      0.536     0.545     0.541      1839\n",
    "   macro avg      0.491     0.473     0.476      1839\n",
    "weighted avg      0.539     0.545     0.538      1839\n",
    " samples avg      0.555     0.557     0.532      1839"
   ]
  },
  {
   "cell_type": "raw",
   "metadata": {
    "vscode": {
     "languageId": "raw"
    }
   },
   "source": [
    "unsloth/llama-3-8b-Instruct-bnb-4bit, 8 epochs\n",
    "\n",
    "precision    recall  f1-score   support\n",
    "\n",
    "       anger      0.625     0.528     0.572       417\n",
    "     disgust      0.182     0.154     0.167        39\n",
    "        fear      0.520     0.449     0.482       294\n",
    "         joy      0.540     0.580     0.559       281\n",
    "     neutral      0.518     0.406     0.455       106\n",
    "     sadness      0.499     0.557     0.526       323\n",
    "    surprise      0.579     0.606     0.593       343\n",
    "\n",
    "   micro avg      0.546     0.528     0.537      1803\n",
    "   macro avg      0.495     0.469     0.479      1803\n",
    "weighted avg      0.547     0.528     0.535      1803\n",
    " samples avg      0.561     0.548     0.529      1803"
   ]
  },
  {
   "cell_type": "raw",
   "metadata": {
    "vscode": {
     "languageId": "raw"
    }
   },
   "source": [
    "unsloth/Meta-Llama-3.1-8B-Instruct-bnb-4bit\n",
    "\n",
    "precision    recall  f1-score   support\n",
    "\n",
    "       anger      0.557     0.582     0.570       443\n",
    "     disgust      0.196     0.200     0.198        50\n",
    "        fear      0.504     0.465     0.484       284\n",
    "         joy      0.529     0.583     0.555       278\n",
    "     neutral      0.397     0.237     0.297        97\n",
    "     sadness      0.509     0.515     0.512       328\n",
    "    surprise      0.616     0.624     0.620       348\n",
    "\n",
    "   micro avg      0.532     0.531     0.532      1828\n",
    "   macro avg      0.473     0.458     0.462      1828\n",
    "weighted avg      0.529     0.531     0.529      1828\n",
    " samples avg      0.550     0.544     0.523      1828"
   ]
  },
  {
   "cell_type": "raw",
   "metadata": {
    "vscode": {
     "languageId": "raw"
    }
   },
   "source": [
    "unsloth/Llama-3.2-3B-Instruct-bnb-4bit\n",
    "\n",
    "precision    recall  f1-score   support\n",
    "\n",
    "       anger      0.525     0.524     0.525       416\n",
    "     disgust      0.200     0.150     0.171        40\n",
    "        fear      0.438     0.491     0.463       281\n",
    "         joy      0.496     0.442     0.468       269\n",
    "     neutral      0.447     0.337     0.384       101\n",
    "     sadness      0.509     0.523     0.516       308\n",
    "    surprise      0.585     0.543     0.563       337\n",
    "\n",
    "   micro avg      0.504     0.490     0.497      1752\n",
    "   macro avg      0.457     0.430     0.441      1752\n",
    "weighted avg      0.504     0.490     0.496      1752\n",
    " samples avg      0.524     0.505     0.491      1752"
   ]
  },
  {
   "cell_type": "raw",
   "metadata": {
    "vscode": {
     "languageId": "raw"
    }
   },
   "source": [
    "unsloth/Llama-3.2-1B-Instruct-bnb-4bit\n",
    "\n",
    "precision    recall  f1-score   support\n",
    "\n",
    "       anger      0.489     0.538     0.512       398\n",
    "     disgust      0.250     0.175     0.206        40\n",
    "        fear      0.330     0.422     0.371       232\n",
    "         joy      0.450     0.440     0.445       243\n",
    "     neutral      0.241     0.169     0.198        77\n",
    "     sadness      0.472     0.449     0.461       267\n",
    "    surprise      0.490     0.507     0.498       294\n",
    "\n",
    "   micro avg      0.439     0.456     0.448      1551\n",
    "   macro avg      0.389     0.386     0.384      1551\n",
    "weighted avg      0.438     0.456     0.445      1551\n",
    " samples avg      0.457     0.468     0.437      1551"
   ]
  },
  {
   "cell_type": "raw",
   "metadata": {
    "vscode": {
     "languageId": "raw"
    }
   },
   "source": [
    "unsloth/Qwen2.5-32B-Instruct-bnb-4bit\n",
    "\n",
    "precision    recall  f1-score   support\n",
    "\n",
    "       anger      0.526     0.493     0.509       450\n",
    "     disgust      0.194     0.240     0.214        50\n",
    "        fear      0.481     0.438     0.459       297\n",
    "         joy      0.580     0.610     0.595       290\n",
    "     neutral      0.486     0.321     0.387       109\n",
    "     sadness      0.522     0.588     0.553       342\n",
    "    surprise      0.593     0.583     0.588       355\n",
    "\n",
    "   micro avg      0.528     0.520     0.524      1893\n",
    "   macro avg      0.483     0.468     0.472      1893\n",
    "weighted avg      0.528     0.520     0.522      1893\n",
    " samples avg      0.546     0.537     0.515      1893"
   ]
  },
  {
   "cell_type": "raw",
   "metadata": {
    "vscode": {
     "languageId": "raw"
    }
   },
   "source": [
    "unsloth/Qwen2.5-72B-Instruct-bnb-4bit\n",
    "\n",
    "precision    recall  f1-score   support\n",
    "\n",
    "       anger      0.577     0.562     0.569       447\n",
    "     disgust      0.136     0.130     0.133        46\n",
    "        fear      0.460     0.458     0.459       299\n",
    "         joy      0.560     0.558     0.559       294\n",
    "     neutral      0.440     0.346     0.387       107\n",
    "     sadness      0.518     0.594     0.553       342\n",
    "    surprise      0.599     0.555     0.576       353\n",
    "\n",
    "   micro avg      0.531     0.526     0.529      1888\n",
    "   macro avg      0.470     0.458     0.462      1888\n",
    "weighted avg      0.531     0.526     0.528      1888\n",
    " samples avg      0.550     0.547     0.521      1888"
   ]
  },
  {
   "cell_type": "raw",
   "metadata": {
    "vscode": {
     "languageId": "raw"
    }
   },
   "source": [
    "unsloth/Phi-3-medium-4k-instruct-bnb-4bit\n",
    "\n",
    "precision    recall  f1-score   support\n",
    "\n",
    "       anger      0.558     0.570     0.564       416\n",
    "     disgust      0.133     0.103     0.116        39\n",
    "        fear      0.473     0.441     0.457       281\n",
    "         joy      0.557     0.551     0.554       283\n",
    "     neutral      0.326     0.316     0.321        95\n",
    "     sadness      0.494     0.541     0.517       314\n",
    "    surprise      0.525     0.534     0.529       320\n",
    "\n",
    "   micro avg      0.507     0.510     0.509      1748\n",
    "   macro avg      0.438     0.437     0.437      1748\n",
    "weighted avg      0.504     0.510     0.507      1748\n",
    " samples avg      0.525     0.531     0.502      1748"
   ]
  }
 ],
 "metadata": {
  "kernelspec": {
   "display_name": "Python 3 (ipykernel)",
   "language": "python",
   "name": "python3"
  },
  "language_info": {
   "codemirror_mode": {
    "name": "ipython",
    "version": 3
   },
   "file_extension": ".py",
   "mimetype": "text/x-python",
   "name": "python",
   "nbconvert_exporter": "python",
   "pygments_lexer": "ipython3",
   "version": "3.11.9"
  }
 },
 "nbformat": 4,
 "nbformat_minor": 2
}
