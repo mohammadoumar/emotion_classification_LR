{
 "cells": [
  {
   "cell_type": "code",
   "execution_count": 1,
   "metadata": {},
   "outputs": [],
   "source": [
    "import os\n",
    "import ast\n",
    "import sys\n",
    "import json\n",
    "import torch\n",
    "import pickle\n",
    "import subprocess\n",
    "\n",
    "sys.path.append('../')\n",
    "\n",
    "import pandas as pd\n",
    "\n",
    "from pathlib import Path\n",
    "from tqdm import tqdm\n",
    "from llamafactory.chat import ChatModel\n",
    "from llamafactory.extras.misc import torch_gc\n",
    "from sklearn.metrics import classification_report\n",
    "#from utils.post_processing import post_process\n"
   ]
  },
  {
   "cell_type": "code",
   "execution_count": 2,
   "metadata": {},
   "outputs": [],
   "source": [
    "try:    \n",
    "    assert torch.cuda.is_available() is True\n",
    "    \n",
    "except AssertionError:\n",
    "    \n",
    "    print(\"Please set up a GPU before using LLaMA Factory...\")"
   ]
  },
  {
   "cell_type": "code",
   "execution_count": 3,
   "metadata": {},
   "outputs": [],
   "source": [
    "CURRENT_DIR = Path.cwd()\n",
    "FT_DIR = CURRENT_DIR / \"emotion_analysis_comics\" / \"finetuning\"\n",
    "DATASET_DIR = CURRENT_DIR / \"emotion_analysis_comics\" / \"finetuning\" / \"datasets\"\n",
    "\n",
    "ERC_DIR = FT_DIR.parent\n",
    "LLAMA_FACTORY_DIR = ERC_DIR / \"LLaMA-Factory\"\n",
    "\n",
    "BASE_MODEL = \"unsloth/Qwen2.5-72B-Instruct-bnb-4bit\"\n",
    "LOGGING_DIR = FT_DIR / \"training_logs\"\n",
    "OUTPUT_DIR = FT_DIR / \"saved_models\" / f\"\"\"comics35_pg_nb_{BASE_MODEL.split(\"/\")[1]}\"\"\""
   ]
  },
  {
   "cell_type": "code",
   "execution_count": 4,
   "metadata": {},
   "outputs": [],
   "source": [
    "DATASET_DIR = CURRENT_DIR / \"emotion_analysis_comics\" / \"finetuning\" / \"datasets\""
   ]
  },
  {
   "cell_type": "code",
   "execution_count": 5,
   "metadata": {},
   "outputs": [],
   "source": [
    "train_dataset_name = f\"\"\"comics35_utterance_pg_train.json\"\"\"\n",
    "test_dataset_name = f\"\"\"comics35_utterance_pg_test.json\"\"\"\n",
    "\n",
    "train_dataset_file = DATASET_DIR / train_dataset_name\n",
    "test_dataset_file = DATASET_DIR / test_dataset_name"
   ]
  },
  {
   "cell_type": "code",
   "execution_count": 6,
   "metadata": {},
   "outputs": [
    {
     "data": {
      "text/plain": [
       "PosixPath('/Utilisateurs/umushtaq/emotion_analysis_comics/finetuning/datasets/comics35_utterance_pg_train.json')"
      ]
     },
     "execution_count": 6,
     "metadata": {},
     "output_type": "execute_result"
    }
   ],
   "source": [
    "train_dataset_file"
   ]
  },
  {
   "cell_type": "code",
   "execution_count": 7,
   "metadata": {},
   "outputs": [],
   "source": [
    "\n",
    "if not os.path.exists(os.path.join(FT_DIR, \"model_args\")):\n",
    "    os.mkdir(os.path.join(FT_DIR, \"model_args\"))\n",
    "\n",
    "train_file = FT_DIR / \"model_args\" / f\"\"\"{train_dataset_name.split(\".\")[0].split(\"train\")[0]}{BASE_MODEL.split(\"/\")[1]}.json\"\"\""
   ]
  },
  {
   "cell_type": "code",
   "execution_count": 8,
   "metadata": {},
   "outputs": [],
   "source": [
    "dataset_info_line =  {\n",
    "  \"file_name\": f\"{train_dataset_file}\",\n",
    "  \"columns\": {\n",
    "    \"prompt\": \"instruction\",\n",
    "    \"query\": \"input\",\n",
    "    \"response\": \"output\"\n",
    "  }\n",
    "}"
   ]
  },
  {
   "cell_type": "code",
   "execution_count": 9,
   "metadata": {},
   "outputs": [],
   "source": [
    "with open(os.path.join(LLAMA_FACTORY_DIR, \"data/dataset_info.json\"), \"r\") as jsonFile:\n",
    "    data = json.load(jsonFile)\n",
    "\n",
    "data[\"comics\"] = dataset_info_line\n",
    "\n",
    "with open(os.path.join(LLAMA_FACTORY_DIR, \"data/dataset_info.json\"), \"w\") as jsonFile:\n",
    "    json.dump(data, jsonFile)"
   ]
  },
  {
   "cell_type": "code",
   "execution_count": 10,
   "metadata": {},
   "outputs": [],
   "source": [
    "NB_EPOCHS = 8"
   ]
  },
  {
   "cell_type": "code",
   "execution_count": 11,
   "metadata": {},
   "outputs": [],
   "source": [
    "args = dict(\n",
    "    \n",
    "  stage=\"sft\",                           # do supervised fine-tuning\n",
    "  do_train=True,\n",
    "\n",
    "  model_name_or_path=BASE_MODEL,         # use bnb-4bit-quantized Llama-3-8B-Instruct model\n",
    "  num_train_epochs=NB_EPOCHS,            # the epochs of training\n",
    "  output_dir=str(OUTPUT_DIR),                 # the path to save LoRA adapters\n",
    "  overwrite_output_dir=True,             # overrides existing output contents\n",
    "\n",
    "  dataset=\"comics\",                      # dataset name\n",
    "  template=\"qwen\",                     # use llama3 prompt template\n",
    "  #train_on_prompt=True,\n",
    "  val_size=0.1,\n",
    "  max_samples=10000,                       # use 500 examples in each dataset\n",
    "\n",
    "  finetuning_type=\"lora\",                # use LoRA adapters to save memory\n",
    "  lora_target=\"all\",                     # attach LoRA adapters to all linear layers\n",
    "  per_device_train_batch_size=2,         # the batch size\n",
    "  gradient_accumulation_steps=4,         # the gradient accumulation steps\n",
    "  lr_scheduler_type=\"cosine\",            # use cosine learning rate scheduler\n",
    "  loraplus_lr_ratio=16.0,                # use LoRA+ algorithm with lambda=16.0\n",
    "  #temperature=0.5,\n",
    "  \n",
    "  warmup_ratio=0.1,                      # use warmup scheduler    \n",
    "  learning_rate=5e-5,                    # the learning rate\n",
    "  max_grad_norm=1.0,                     # clip gradient norm to 1.0\n",
    "  \n",
    "  fp16=True,                             # use float16 mixed precision training\n",
    "  quantization_bit=4,                    # use 4-bit QLoRA  \n",
    "  #use_liger_kernel=True,\n",
    "  #quantization_device_map=\"auto\",\n",
    "  \n",
    "  logging_steps=10,                      # log every 10 steps\n",
    "  save_steps=5000,                       # save checkpoint every 1000 steps    \n",
    "  logging_dir=str(LOGGING_DIR),\n",
    "  \n",
    "  # use_unsloth=True,\n",
    "  report_to=\"tensorboard\"                       # discards wandb\n",
    "\n",
    ")"
   ]
  },
  {
   "cell_type": "code",
   "execution_count": 12,
   "metadata": {},
   "outputs": [],
   "source": [
    "json.dump(args, open(train_file, \"w\", encoding=\"utf-8\"), indent=2)"
   ]
  },
  {
   "cell_type": "code",
   "execution_count": 13,
   "metadata": {},
   "outputs": [],
   "source": [
    "p = subprocess.Popen([\"llamafactory-cli\", \"train\", train_file], cwd=LLAMA_FACTORY_DIR)"
   ]
  },
  {
   "cell_type": "code",
   "execution_count": 14,
   "metadata": {},
   "outputs": [
    {
     "name": "stdout",
     "output_type": "stream",
     "text": [
      "11/08/2024 14:59:37 - INFO - llamafactory.cli - Initializing distributed tasks at: 127.0.0.1:23485\n"
     ]
    },
    {
     "name": "stderr",
     "output_type": "stream",
     "text": [
      "W1108 14:59:38.900000 140186413905216 torch/distributed/run.py:779] \n",
      "W1108 14:59:38.900000 140186413905216 torch/distributed/run.py:779] *****************************************\n",
      "W1108 14:59:38.900000 140186413905216 torch/distributed/run.py:779] Setting OMP_NUM_THREADS environment variable for each process to be 1 in default, to avoid your system being overloaded, please further tune the variable for optimal performance in your application as needed. \n",
      "W1108 14:59:38.900000 140186413905216 torch/distributed/run.py:779] *****************************************\n"
     ]
    },
    {
     "name": "stdout",
     "output_type": "stream",
     "text": [
      "11/08/2024 14:59:55 - WARNING - llamafactory.hparams.parser - We recommend enable `upcast_layernorm` in quantized training.\n",
      "11/08/2024 14:59:55 - WARNING - llamafactory.hparams.parser - `ddp_find_unused_parameters` needs to be set as False for LoRA in DDP training.\n",
      "11/08/2024 14:59:55 - INFO - llamafactory.hparams.parser - Process rank: 0, device: cuda:0, n_gpu: 1, distributed training: True, compute dtype: torch.float16\n"
     ]
    },
    {
     "name": "stderr",
     "output_type": "stream",
     "text": [
      "[INFO|configuration_utils.py:672] 2024-11-08 14:59:56,058 >> loading configuration file config.json from cache at /Utilisateurs/umushtaq/.cache/huggingface/hub/models--unsloth--Qwen2.5-72B-Instruct-bnb-4bit/snapshots/95cde7b0316fd420d6fb7496c41f56fb9a1711d3/config.json\n",
      "[INFO|configuration_utils.py:739] 2024-11-08 14:59:56,059 >> Model config Qwen2Config {\n",
      "  \"_name_or_path\": \"unsloth/Qwen2.5-72B-Instruct-bnb-4bit\",\n",
      "  \"architectures\": [\n",
      "    \"Qwen2ForCausalLM\"\n",
      "  ],\n",
      "  \"attention_dropout\": 0.0,\n",
      "  \"bos_token_id\": 151643,\n",
      "  \"eos_token_id\": 151645,\n",
      "  \"hidden_act\": \"silu\",\n",
      "  \"hidden_size\": 8192,\n",
      "  \"initializer_range\": 0.02,\n",
      "  \"intermediate_size\": 29568,\n",
      "  \"max_position_embeddings\": 32768,\n",
      "  \"max_window_layers\": 70,\n",
      "  \"model_type\": \"qwen2\",\n",
      "  \"num_attention_heads\": 64,\n",
      "  \"num_hidden_layers\": 80,\n",
      "  \"num_key_value_heads\": 8,\n",
      "  \"quantization_config\": {\n",
      "    \"_load_in_4bit\": true,\n",
      "    \"_load_in_8bit\": false,\n",
      "    \"bnb_4bit_compute_dtype\": \"bfloat16\",\n",
      "    \"bnb_4bit_quant_storage\": \"uint8\",\n",
      "    \"bnb_4bit_quant_type\": \"nf4\",\n",
      "    \"bnb_4bit_use_double_quant\": true,\n",
      "    \"llm_int8_enable_fp32_cpu_offload\": false,\n",
      "    \"llm_int8_has_fp16_weight\": false,\n",
      "    \"llm_int8_skip_modules\": null,\n",
      "    \"llm_int8_threshold\": 6.0,\n",
      "    \"load_in_4bit\": true,\n",
      "    \"load_in_8bit\": false,\n",
      "    \"quant_method\": \"bitsandbytes\"\n",
      "  },\n",
      "  \"rms_norm_eps\": 1e-06,\n",
      "  \"rope_scaling\": null,\n",
      "  \"rope_theta\": 1000000.0,\n",
      "  \"sliding_window\": null,\n",
      "  \"tie_word_embeddings\": false,\n",
      "  \"torch_dtype\": \"bfloat16\",\n",
      "  \"transformers_version\": \"4.45.0\",\n",
      "  \"use_cache\": true,\n",
      "  \"use_sliding_window\": false,\n",
      "  \"vocab_size\": 152064\n",
      "}\n",
      "\n",
      "[INFO|tokenization_utils_base.py:2214] 2024-11-08 14:59:56,233 >> loading file vocab.json from cache at /Utilisateurs/umushtaq/.cache/huggingface/hub/models--unsloth--Qwen2.5-72B-Instruct-bnb-4bit/snapshots/95cde7b0316fd420d6fb7496c41f56fb9a1711d3/vocab.json\n",
      "[INFO|tokenization_utils_base.py:2214] 2024-11-08 14:59:56,233 >> loading file merges.txt from cache at /Utilisateurs/umushtaq/.cache/huggingface/hub/models--unsloth--Qwen2.5-72B-Instruct-bnb-4bit/snapshots/95cde7b0316fd420d6fb7496c41f56fb9a1711d3/merges.txt\n",
      "[INFO|tokenization_utils_base.py:2214] 2024-11-08 14:59:56,233 >> loading file tokenizer.json from cache at /Utilisateurs/umushtaq/.cache/huggingface/hub/models--unsloth--Qwen2.5-72B-Instruct-bnb-4bit/snapshots/95cde7b0316fd420d6fb7496c41f56fb9a1711d3/tokenizer.json\n",
      "[INFO|tokenization_utils_base.py:2214] 2024-11-08 14:59:56,233 >> loading file added_tokens.json from cache at /Utilisateurs/umushtaq/.cache/huggingface/hub/models--unsloth--Qwen2.5-72B-Instruct-bnb-4bit/snapshots/95cde7b0316fd420d6fb7496c41f56fb9a1711d3/added_tokens.json\n",
      "[INFO|tokenization_utils_base.py:2214] 2024-11-08 14:59:56,233 >> loading file special_tokens_map.json from cache at /Utilisateurs/umushtaq/.cache/huggingface/hub/models--unsloth--Qwen2.5-72B-Instruct-bnb-4bit/snapshots/95cde7b0316fd420d6fb7496c41f56fb9a1711d3/special_tokens_map.json\n",
      "[INFO|tokenization_utils_base.py:2214] 2024-11-08 14:59:56,234 >> loading file tokenizer_config.json from cache at /Utilisateurs/umushtaq/.cache/huggingface/hub/models--unsloth--Qwen2.5-72B-Instruct-bnb-4bit/snapshots/95cde7b0316fd420d6fb7496c41f56fb9a1711d3/tokenizer_config.json\n"
     ]
    },
    {
     "name": "stdout",
     "output_type": "stream",
     "text": [
      "11/08/2024 14:59:56 - WARNING - llamafactory.hparams.parser - We recommend enable `upcast_layernorm` in quantized training.\n",
      "11/08/2024 14:59:56 - WARNING - llamafactory.hparams.parser - `ddp_find_unused_parameters` needs to be set as False for LoRA in DDP training.\n",
      "11/08/2024 14:59:56 - INFO - llamafactory.hparams.parser - Process rank: 3, device: cuda:3, n_gpu: 1, distributed training: True, compute dtype: torch.float16\n",
      "11/08/2024 14:59:56 - WARNING - llamafactory.hparams.parser - We recommend enable `upcast_layernorm` in quantized training.\n",
      "11/08/2024 14:59:56 - WARNING - llamafactory.hparams.parser - `ddp_find_unused_parameters` needs to be set as False for LoRA in DDP training.\n",
      "11/08/2024 14:59:56 - INFO - llamafactory.hparams.parser - Process rank: 2, device: cuda:2, n_gpu: 1, distributed training: True, compute dtype: torch.float16\n",
      "11/08/2024 14:59:56 - WARNING - llamafactory.hparams.parser - We recommend enable `upcast_layernorm` in quantized training.\n",
      "11/08/2024 14:59:56 - WARNING - llamafactory.hparams.parser - `ddp_find_unused_parameters` needs to be set as False for LoRA in DDP training.\n",
      "11/08/2024 14:59:56 - INFO - llamafactory.hparams.parser - Process rank: 4, device: cuda:4, n_gpu: 1, distributed training: True, compute dtype: torch.float16\n",
      "11/08/2024 14:59:56 - WARNING - llamafactory.hparams.parser - We recommend enable `upcast_layernorm` in quantized training.\n",
      "11/08/2024 14:59:56 - WARNING - llamafactory.hparams.parser - `ddp_find_unused_parameters` needs to be set as False for LoRA in DDP training.\n",
      "11/08/2024 14:59:56 - INFO - llamafactory.hparams.parser - Process rank: 1, device: cuda:1, n_gpu: 1, distributed training: True, compute dtype: torch.float16\n"
     ]
    },
    {
     "name": "stderr",
     "output_type": "stream",
     "text": [
      "[INFO|tokenization_utils_base.py:2478] 2024-11-08 14:59:56,801 >> Special tokens have been added in the vocabulary, make sure the associated word embeddings are fine-tuned or trained.\n",
      "[INFO|configuration_utils.py:672] 2024-11-08 14:59:58,010 >> loading configuration file config.json from cache at /Utilisateurs/umushtaq/.cache/huggingface/hub/models--unsloth--Qwen2.5-72B-Instruct-bnb-4bit/snapshots/95cde7b0316fd420d6fb7496c41f56fb9a1711d3/config.json\n",
      "[INFO|configuration_utils.py:739] 2024-11-08 14:59:58,010 >> Model config Qwen2Config {\n",
      "  \"_name_or_path\": \"unsloth/Qwen2.5-72B-Instruct-bnb-4bit\",\n",
      "  \"architectures\": [\n",
      "    \"Qwen2ForCausalLM\"\n",
      "  ],\n",
      "  \"attention_dropout\": 0.0,\n",
      "  \"bos_token_id\": 151643,\n",
      "  \"eos_token_id\": 151645,\n",
      "  \"hidden_act\": \"silu\",\n",
      "  \"hidden_size\": 8192,\n",
      "  \"initializer_range\": 0.02,\n",
      "  \"intermediate_size\": 29568,\n",
      "  \"max_position_embeddings\": 32768,\n",
      "  \"max_window_layers\": 70,\n",
      "  \"model_type\": \"qwen2\",\n",
      "  \"num_attention_heads\": 64,\n",
      "  \"num_hidden_layers\": 80,\n",
      "  \"num_key_value_heads\": 8,\n",
      "  \"quantization_config\": {\n",
      "    \"_load_in_4bit\": true,\n",
      "    \"_load_in_8bit\": false,\n",
      "    \"bnb_4bit_compute_dtype\": \"bfloat16\",\n",
      "    \"bnb_4bit_quant_storage\": \"uint8\",\n",
      "    \"bnb_4bit_quant_type\": \"nf4\",\n",
      "    \"bnb_4bit_use_double_quant\": true,\n",
      "    \"llm_int8_enable_fp32_cpu_offload\": false,\n",
      "    \"llm_int8_has_fp16_weight\": false,\n",
      "    \"llm_int8_skip_modules\": null,\n",
      "    \"llm_int8_threshold\": 6.0,\n",
      "    \"load_in_4bit\": true,\n",
      "    \"load_in_8bit\": false,\n",
      "    \"quant_method\": \"bitsandbytes\"\n",
      "  },\n",
      "  \"rms_norm_eps\": 1e-06,\n",
      "  \"rope_scaling\": null,\n",
      "  \"rope_theta\": 1000000.0,\n",
      "  \"sliding_window\": null,\n",
      "  \"tie_word_embeddings\": false,\n",
      "  \"torch_dtype\": \"bfloat16\",\n",
      "  \"transformers_version\": \"4.45.0\",\n",
      "  \"use_cache\": true,\n",
      "  \"use_sliding_window\": false,\n",
      "  \"vocab_size\": 152064\n",
      "}\n",
      "\n",
      "[INFO|tokenization_utils_base.py:2214] 2024-11-08 14:59:58,146 >> loading file vocab.json from cache at /Utilisateurs/umushtaq/.cache/huggingface/hub/models--unsloth--Qwen2.5-72B-Instruct-bnb-4bit/snapshots/95cde7b0316fd420d6fb7496c41f56fb9a1711d3/vocab.json\n",
      "[INFO|tokenization_utils_base.py:2214] 2024-11-08 14:59:58,146 >> loading file merges.txt from cache at /Utilisateurs/umushtaq/.cache/huggingface/hub/models--unsloth--Qwen2.5-72B-Instruct-bnb-4bit/snapshots/95cde7b0316fd420d6fb7496c41f56fb9a1711d3/merges.txt\n",
      "[INFO|tokenization_utils_base.py:2214] 2024-11-08 14:59:58,146 >> loading file tokenizer.json from cache at /Utilisateurs/umushtaq/.cache/huggingface/hub/models--unsloth--Qwen2.5-72B-Instruct-bnb-4bit/snapshots/95cde7b0316fd420d6fb7496c41f56fb9a1711d3/tokenizer.json\n",
      "[INFO|tokenization_utils_base.py:2214] 2024-11-08 14:59:58,146 >> loading file added_tokens.json from cache at /Utilisateurs/umushtaq/.cache/huggingface/hub/models--unsloth--Qwen2.5-72B-Instruct-bnb-4bit/snapshots/95cde7b0316fd420d6fb7496c41f56fb9a1711d3/added_tokens.json\n",
      "[INFO|tokenization_utils_base.py:2214] 2024-11-08 14:59:58,146 >> loading file special_tokens_map.json from cache at /Utilisateurs/umushtaq/.cache/huggingface/hub/models--unsloth--Qwen2.5-72B-Instruct-bnb-4bit/snapshots/95cde7b0316fd420d6fb7496c41f56fb9a1711d3/special_tokens_map.json\n",
      "[INFO|tokenization_utils_base.py:2214] 2024-11-08 14:59:58,146 >> loading file tokenizer_config.json from cache at /Utilisateurs/umushtaq/.cache/huggingface/hub/models--unsloth--Qwen2.5-72B-Instruct-bnb-4bit/snapshots/95cde7b0316fd420d6fb7496c41f56fb9a1711d3/tokenizer_config.json\n",
      "[INFO|tokenization_utils_base.py:2478] 2024-11-08 14:59:58,368 >> Special tokens have been added in the vocabulary, make sure the associated word embeddings are fine-tuned or trained.\n"
     ]
    },
    {
     "name": "stdout",
     "output_type": "stream",
     "text": [
      "11/08/2024 14:59:58 - INFO - llamafactory.data.template - Replace eos token: <|im_end|>\n",
      "11/08/2024 14:59:58 - INFO - llamafactory.data.loader - Loading dataset /Utilisateurs/umushtaq/emotion_analysis_comics/finetuning/datasets/comics35_utterance_pg_train.json...\n",
      "11/08/2024 14:59:59 - INFO - llamafactory.data.template - Replace eos token: <|im_end|>\n",
      "11/08/2024 15:00:00 - INFO - llamafactory.data.template - Replace eos token: <|im_end|>\n",
      "11/08/2024 15:00:00 - INFO - llamafactory.data.template - Replace eos token: <|im_end|>\n",
      "11/08/2024 15:00:00 - INFO - llamafactory.data.template - Replace eos token: <|im_end|>\n",
      "11/08/2024 15:00:02 - INFO - llamafactory.data.loader - Loading dataset /Utilisateurs/umushtaq/emotion_analysis_comics/finetuning/datasets/comics35_utterance_pg_train.json...\n",
      "11/08/2024 15:00:02 - INFO - llamafactory.data.loader - Loading dataset /Utilisateurs/umushtaq/emotion_analysis_comics/finetuning/datasets/comics35_utterance_pg_train.json...\n",
      "11/08/2024 15:00:02 - INFO - llamafactory.data.loader - Loading dataset /Utilisateurs/umushtaq/emotion_analysis_comics/finetuning/datasets/comics35_utterance_pg_train.json...\n",
      "11/08/2024 15:00:02 - INFO - llamafactory.data.loader - Loading dataset /Utilisateurs/umushtaq/emotion_analysis_comics/finetuning/datasets/comics35_utterance_pg_train.json...\n",
      "training example:\n",
      "input_ids:\n",
      "[151644, 8948, 198, 2610, 525, 264, 10950, 17847, 13, 151645, 198, 151644, 872, 198, 14374, 5748, 5956, 18320, 32157, 15404, 271, 2610, 525, 458, 10847, 19772, 6358, 6203, 57294, 304, 19724, 2311, 21276, 22845, 13, 4615, 3383, 374, 311, 23643, 21532, 3020, 323, 10542, 862, 14269, 2213, 382, 29421, 510, 12, 1446, 686, 5258, 264, 1140, 315, 21532, 3020, 504, 264, 2150, 304, 264, 19724, 2311, 198, 12, 576, 21532, 681, 1231, 3158, 825, 476, 5248, 21261, 271, 65813, 510, 16, 13, 10627, 3641, 23643, 279, 14269, 2266, 323, 16232, 315, 1817, 21532, 681, 304, 279, 2150, 198, 17, 13, 64547, 8415, 21261, 504, 279, 2701, 6846, 510, 256, 330, 4003, 497, 330, 4243, 70, 590, 497, 330, 69, 682, 497, 330, 82114, 2090, 497, 330, 19784, 9671, 497, 330, 4123, 497, 330, 59568, 698, 18, 13, 1752, 1817, 21532, 681, 304, 264, 19724, 2150, 11, 10542, 678, 21261, 3042, 323, 470, 458, 1334, 315, 19772, 18386, 304, 1973, 382, 91916, 50, 510, 16, 13, 5443, 26687, 279, 9201, 10007, 3403, 198, 17, 13, 9258, 1969, 387, 264, 4718, 448, 3175, 1376, 330, 2893, 62, 6207, 681, 22504, 40256, 698, 18, 13, 5162, 1969, 387, 458, 1334, 1380, 510, 256, 481, 8886, 2392, 374, 458, 1334, 315, 21261, 369, 825, 21532, 681, 198, 256, 481, 7217, 9071, 279, 1946, 21532, 3020, 1973, 198, 256, 481, 28811, 21261, 525, 5420, 817, 21532, 681, 198, 19, 13, 2308, 40841, 11, 1172, 4718, 2550, 271, 98743, 510, 12, 8886, 1334, 2392, 33210, 311, 825, 21532, 681, 198, 12, 3776, 21532, 681, 646, 614, 5248, 21261, 198, 12, 86377, 4734, 42429, 323, 1142, 315, 19772, 9201, 198, 12, 13655, 21261, 304, 18386, 1496, 369, 3175, 21261, 1406, 7039, 23643, 1493, 21532, 3020, 304, 264, 2150, 510, 16, 13, 10039, 647, 2942, 4434, 1718, 98450, 1479, 3168, 49197, 7206, 6349, 50, 3008, 18224, 6434, 5881, 50, 1940, 715, 17, 13, 4593, 8700, 393, 1861, 34357, 18224, 7206, 57276, 2773, 1094, 24795, 1715, 6352, 1940, 3567, 22407, 8700, 7206, 16522, 4613, 59994, 624, 18, 13, 18224, 71197, 4894, 19, 13, 53133, 4894, 20, 13, 10915, 358, 18590, 4183, 6826, 4066, 35, 10039, 28537, 37923, 13097, 10039, 24400, 5146, 35657, 8700, 479, 1285, 11810, 4894, 21, 13, 11685, 969, 386, 32837, 4894, 22, 13, 358, 18590, 7682, 36, 5146, 3418, 48, 313, 4894, 23, 13, 37435, 7088, 24, 13, 1177, 1637, 25269, 30, 4894, 16, 15, 13, 5664, 0, 5664, 0, 151645, 198, 151644, 77091, 198, 4913, 2893, 62, 6207, 681, 22504, 40256, 788, 78686, 4003, 7914, 4383, 4003, 7914, 4383, 69, 682, 7914, 4383, 69, 682, 7914, 4383, 69, 682, 497, 330, 82114, 2090, 7914, 4383, 82114, 2090, 7914, 4383, 4003, 7914, 4383, 19784, 9671, 7914, 4383, 19784, 9671, 7914, 4383, 69, 682, 497, 330, 19784, 9671, 1341, 13989, 151645]\n",
      "inputs:\n",
      "<|im_start|>system\n",
      "You are a helpful assistant.<|im_end|>\n",
      "<|im_start|>user\n",
      "### Emotion Analysis Expert Role\n",
      "\n",
      "You are an advanced emotion analysis expert specializing in comic book dialogue interpretation. Your task is to analyze utterances and identify their emotional content.\n",
      "\n",
      "INPUT:\n",
      "- You will receive a list of utterances from a page in a comic book\n",
      "- The utterance may express one or multiple emotions\n",
      "\n",
      "TASK:\n",
      "1. Carefully analyze the emotional context and tone of each utterance in the page\n",
      "2. Identify applicable emotions from the following classes:\n",
      "   \"anger\", \"disgust\", \"fear\", \"sadness\", \"surprise\", \"joy\", \"neutral\"\n",
      "3. For each utterance in a comic page, identify all emotions present and return an array of emotion arrays in order.\n",
      "\n",
      "RULES:\n",
      "1. Use ONLY the labels listed above\n",
      "2. Output must be a JSON with single key \"page_utterance_emotions\"\n",
      "3. Value must be an array where:\n",
      "   - Each element is an array of emotions for one utterance\n",
      "   - Order matches the input utterances order\n",
      "   - Multiple emotions are allowed per utterance\n",
      "4. No explanations, only JSON output\n",
      "\n",
      "IMPORTANT:\n",
      "- Each array element corresponds to one utterance\n",
      "- One utterance can have multiple emotions\n",
      "- Maintain exact spelling and case of emotion labels\n",
      "- Keep emotions in arrays even for single emotions\n",
      "\n",
      "\n",
      "Now analyze these utterances in a page:\n",
      "1. THIS VILE THING ATTACKED THE SMALL BEASTS OF MY SHORES… \n",
      "2. … IT PUNCHED MY BEAUTIFUL MATILDA… AND NOW IT BEGS FOR LIFE.\n",
      "3. MY MASTER!\n",
      "4. PLEASE!\n",
      "5. BUT I HAVE NOT CHASED THIS MONSTER ALL THIS WAY TO LET IT GROVEL!\n",
      "6. HEAL MEEE!\n",
      "7. I HAVE COME TO CONQ--!\n",
      "8. WHAT--\n",
      "9. --IS THAT?!\n",
      "10. NO! NO!<|im_end|>\n",
      "<|im_start|>assistant\n",
      "{\"page_utterance_emotions\": [[\"anger\"], [\"anger\"], [\"fear\"], [\"fear\"], [\"fear\", \"sadness\"], [\"sadness\"], [\"anger\"], [\"surprise\"], [\"surprise\"], [\"fear\", \"surprise\"]]}<|im_end|>\n",
      "label_ids:\n",
      "[-100, -100, -100, -100, -100, -100, -100, -100, -100, -100, -100, -100, -100, -100, -100, -100, -100, -100, -100, -100, -100, -100, -100, -100, -100, -100, -100, -100, -100, -100, -100, -100, -100, -100, -100, -100, -100, -100, -100, -100, -100, -100, -100, -100, -100, -100, -100, -100, -100, -100, -100, -100, -100, -100, -100, -100, -100, -100, -100, -100, -100, -100, -100, -100, -100, -100, -100, -100, -100, -100, -100, -100, -100, -100, -100, -100, -100, -100, -100, -100, -100, -100, -100, -100, -100, -100, -100, -100, -100, -100, -100, -100, -100, -100, -100, -100, -100, -100, -100, -100, -100, -100, -100, -100, -100, -100, -100, -100, -100, -100, -100, -100, -100, -100, -100, -100, -100, -100, -100, -100, -100, -100, -100, -100, -100, -100, -100, -100, -100, -100, -100, -100, -100, -100, -100, -100, -100, -100, -100, -100, -100, -100, -100, -100, -100, -100, -100, -100, -100, -100, -100, -100, -100, -100, -100, -100, -100, -100, -100, -100, -100, -100, -100, -100, -100, -100, -100, -100, -100, -100, -100, -100, -100, -100, -100, -100, -100, -100, -100, -100, -100, -100, -100, -100, -100, -100, -100, -100, -100, -100, -100, -100, -100, -100, -100, -100, -100, -100, -100, -100, -100, -100, -100, -100, -100, -100, -100, -100, -100, -100, -100, -100, -100, -100, -100, -100, -100, -100, -100, -100, -100, -100, -100, -100, -100, -100, -100, -100, -100, -100, -100, -100, -100, -100, -100, -100, -100, -100, -100, -100, -100, -100, -100, -100, -100, -100, -100, -100, -100, -100, -100, -100, -100, -100, -100, -100, -100, -100, -100, -100, -100, -100, -100, -100, -100, -100, -100, -100, -100, -100, -100, -100, -100, -100, -100, -100, -100, -100, -100, -100, -100, -100, -100, -100, -100, -100, -100, -100, -100, -100, -100, -100, -100, -100, -100, -100, -100, -100, -100, -100, -100, -100, -100, -100, -100, -100, -100, -100, -100, -100, -100, -100, -100, -100, -100, -100, -100, -100, -100, -100, -100, -100, -100, -100, -100, -100, -100, -100, -100, -100, -100, -100, -100, -100, -100, -100, -100, -100, -100, -100, -100, -100, -100, -100, -100, -100, -100, -100, -100, -100, -100, -100, -100, -100, -100, -100, -100, -100, -100, -100, -100, -100, -100, -100, -100, -100, -100, -100, -100, -100, -100, -100, -100, -100, -100, -100, -100, -100, -100, -100, -100, -100, -100, -100, -100, -100, -100, -100, -100, -100, -100, -100, -100, -100, -100, -100, -100, -100, -100, -100, -100, -100, -100, -100, -100, -100, -100, -100, -100, 4913, 2893, 62, 6207, 681, 22504, 40256, 788, 78686, 4003, 7914, 4383, 4003, 7914, 4383, 69, 682, 7914, 4383, 69, 682, 7914, 4383, 69, 682, 497, 330, 82114, 2090, 7914, 4383, 82114, 2090, 7914, 4383, 4003, 7914, 4383, 19784, 9671, 7914, 4383, 19784, 9671, 7914, 4383, 69, 682, 497, 330, 19784, 9671, 1341, 13989, 151645]\n",
      "labels:\n",
      "{\"page_utterance_emotions\": [[\"anger\"], [\"anger\"], [\"fear\"], [\"fear\"], [\"fear\", \"sadness\"], [\"sadness\"], [\"anger\"], [\"surprise\"], [\"surprise\"], [\"fear\", \"surprise\"]]}<|im_end|>\n"
     ]
    },
    {
     "name": "stderr",
     "output_type": "stream",
     "text": [
      "[INFO|configuration_utils.py:672] 2024-11-08 15:00:03,533 >> loading configuration file config.json from cache at /Utilisateurs/umushtaq/.cache/huggingface/hub/models--unsloth--Qwen2.5-72B-Instruct-bnb-4bit/snapshots/95cde7b0316fd420d6fb7496c41f56fb9a1711d3/config.json\n",
      "[INFO|configuration_utils.py:739] 2024-11-08 15:00:03,533 >> Model config Qwen2Config {\n",
      "  \"_name_or_path\": \"unsloth/Qwen2.5-72B-Instruct-bnb-4bit\",\n",
      "  \"architectures\": [\n",
      "    \"Qwen2ForCausalLM\"\n",
      "  ],\n",
      "  \"attention_dropout\": 0.0,\n",
      "  \"bos_token_id\": 151643,\n",
      "  \"eos_token_id\": 151645,\n",
      "  \"hidden_act\": \"silu\",\n",
      "  \"hidden_size\": 8192,\n",
      "  \"initializer_range\": 0.02,\n",
      "  \"intermediate_size\": 29568,\n",
      "  \"max_position_embeddings\": 32768,\n",
      "  \"max_window_layers\": 70,\n",
      "  \"model_type\": \"qwen2\",\n",
      "  \"num_attention_heads\": 64,\n",
      "  \"num_hidden_layers\": 80,\n",
      "  \"num_key_value_heads\": 8,\n",
      "  \"quantization_config\": {\n",
      "    \"_load_in_4bit\": true,\n",
      "    \"_load_in_8bit\": false,\n",
      "    \"bnb_4bit_compute_dtype\": \"bfloat16\",\n",
      "    \"bnb_4bit_quant_storage\": \"uint8\",\n",
      "    \"bnb_4bit_quant_type\": \"nf4\",\n",
      "    \"bnb_4bit_use_double_quant\": true,\n",
      "    \"llm_int8_enable_fp32_cpu_offload\": false,\n",
      "    \"llm_int8_has_fp16_weight\": false,\n",
      "    \"llm_int8_skip_modules\": null,\n",
      "    \"llm_int8_threshold\": 6.0,\n",
      "    \"load_in_4bit\": true,\n",
      "    \"load_in_8bit\": false,\n",
      "    \"quant_method\": \"bitsandbytes\"\n",
      "  },\n",
      "  \"rms_norm_eps\": 1e-06,\n",
      "  \"rope_scaling\": null,\n",
      "  \"rope_theta\": 1000000.0,\n",
      "  \"sliding_window\": null,\n",
      "  \"tie_word_embeddings\": false,\n",
      "  \"torch_dtype\": \"bfloat16\",\n",
      "  \"transformers_version\": \"4.45.0\",\n",
      "  \"use_cache\": true,\n",
      "  \"use_sliding_window\": false,\n",
      "  \"vocab_size\": 152064\n",
      "}\n",
      "\n",
      "[WARNING|quantization_config.py:400] 2024-11-08 15:00:03,687 >> Unused kwargs: ['_load_in_4bit', '_load_in_8bit', 'quant_method']. These kwargs are not used in <class 'transformers.utils.quantization_config.BitsAndBytesConfig'>.\n"
     ]
    },
    {
     "name": "stdout",
     "output_type": "stream",
     "text": [
      "11/08/2024 15:00:03 - WARNING - llamafactory.model.model_utils.quantization - `quantization_bit` will not affect on the PTQ-quantized models.\n",
      "11/08/2024 15:00:03 - INFO - llamafactory.model.model_utils.quantization - Loading ?-bit BITSANDBYTES-quantized model.\n",
      "11/08/2024 15:00:03 - WARNING - llamafactory.model.model_utils.quantization - `quantization_bit` will not affect on the PTQ-quantized models.\n",
      "11/08/2024 15:00:03 - INFO - llamafactory.model.model_utils.quantization - Loading ?-bit BITSANDBYTES-quantized model.\n",
      "11/08/2024 15:00:03 - WARNING - llamafactory.model.model_utils.quantization - `quantization_bit` will not affect on the PTQ-quantized models.\n",
      "11/08/2024 15:00:03 - INFO - llamafactory.model.model_utils.quantization - Loading ?-bit BITSANDBYTES-quantized model.\n",
      "11/08/2024 15:00:03 - WARNING - llamafactory.model.model_utils.quantization - `quantization_bit` will not affect on the PTQ-quantized models.\n",
      "11/08/2024 15:00:03 - INFO - llamafactory.model.model_utils.quantization - Loading ?-bit BITSANDBYTES-quantized model.\n",
      "11/08/2024 15:00:03 - WARNING - llamafactory.model.model_utils.quantization - `quantization_bit` will not affect on the PTQ-quantized models.\n",
      "11/08/2024 15:00:03 - INFO - llamafactory.model.model_utils.quantization - Loading ?-bit BITSANDBYTES-quantized model.\n"
     ]
    },
    {
     "name": "stderr",
     "output_type": "stream",
     "text": [
      "Unused kwargs: ['_load_in_4bit', '_load_in_8bit', 'quant_method']. These kwargs are not used in <class 'transformers.utils.quantization_config.BitsAndBytesConfig'>.\n",
      "Unused kwargs: ['_load_in_4bit', '_load_in_8bit', 'quant_method']. These kwargs are not used in <class 'transformers.utils.quantization_config.BitsAndBytesConfig'>.\n",
      "Unused kwargs: ['_load_in_4bit', '_load_in_8bit', 'quant_method']. These kwargs are not used in <class 'transformers.utils.quantization_config.BitsAndBytesConfig'>.\n",
      "Unused kwargs: ['_load_in_4bit', '_load_in_8bit', 'quant_method']. These kwargs are not used in <class 'transformers.utils.quantization_config.BitsAndBytesConfig'>.\n",
      "[INFO|modeling_utils.py:3726] 2024-11-08 15:00:04,222 >> loading weights file model.safetensors from cache at /Utilisateurs/umushtaq/.cache/huggingface/hub/models--unsloth--Qwen2.5-72B-Instruct-bnb-4bit/snapshots/95cde7b0316fd420d6fb7496c41f56fb9a1711d3/model.safetensors.index.json\n",
      "[INFO|modeling_utils.py:1622] 2024-11-08 15:00:04,246 >> Instantiating Qwen2ForCausalLM model under default dtype torch.float16.\n",
      "[INFO|configuration_utils.py:1099] 2024-11-08 15:00:04,247 >> Generate config GenerationConfig {\n",
      "  \"bos_token_id\": 151643,\n",
      "  \"eos_token_id\": 151645\n",
      "}\n",
      "\n",
      "Loading checkpoint shards: 100%|██████████| 9/9 [00:48<00:00,  5.38s/it]\n",
      "Loading checkpoint shards: 100%|██████████| 9/9 [00:48<00:00,  5.40s/it]\n",
      "Loading checkpoint shards:  78%|███████▊  | 7/9 [00:49<00:13,  6.55s/it]"
     ]
    },
    {
     "name": "stdout",
     "output_type": "stream",
     "text": [
      "11/08/2024 15:00:59 - INFO - llamafactory.model.model_utils.checkpointing - Gradient checkpointing enabled.\n",
      "11/08/2024 15:00:59 - INFO - llamafactory.model.model_utils.attention - Using torch SDPA for faster training and inference.\n",
      "11/08/2024 15:00:59 - INFO - llamafactory.model.adapter - Upcasting trainable params to float32.\n",
      "11/08/2024 15:00:59 - INFO - llamafactory.model.adapter - Fine-tuning method: LoRA\n",
      "11/08/2024 15:00:59 - INFO - llamafactory.model.model_utils.misc - Found linear modules: k_proj,q_proj,v_proj,o_proj,gate_proj,up_proj,down_proj\n",
      "11/08/2024 15:00:59 - INFO - llamafactory.model.model_utils.checkpointing - Gradient checkpointing enabled.\n",
      "11/08/2024 15:00:59 - INFO - llamafactory.model.model_utils.attention - Using torch SDPA for faster training and inference.\n",
      "11/08/2024 15:00:59 - INFO - llamafactory.model.adapter - Upcasting trainable params to float32.\n",
      "11/08/2024 15:00:59 - INFO - llamafactory.model.adapter - Fine-tuning method: LoRA\n",
      "11/08/2024 15:00:59 - INFO - llamafactory.model.model_utils.misc - Found linear modules: up_proj,k_proj,down_proj,q_proj,gate_proj,o_proj,v_proj\n"
     ]
    },
    {
     "name": "stderr",
     "output_type": "stream",
     "text": [
      "Loading checkpoint shards:  89%|████████▉ | 8/9 [00:54<00:06,  6.23s/it]"
     ]
    },
    {
     "name": "stdout",
     "output_type": "stream",
     "text": [
      "11/08/2024 15:01:06 - INFO - llamafactory.model.loader - trainable params: 105,267,200 || all params: 72,811,470,848 || trainable%: 0.1446\n",
      "11/08/2024 15:01:06 - INFO - llamafactory.model.loader - trainable params: 105,267,200 || all params: 72,811,470,848 || trainable%: 0.1446\n"
     ]
    },
    {
     "name": "stderr",
     "output_type": "stream",
     "text": [
      "/Utilisateurs/umushtaq/.conda/envs/er_nb_env/lib/python3.11/site-packages/accelerate/accelerator.py:494: FutureWarning: `torch.cuda.amp.GradScaler(args...)` is deprecated. Please use `torch.amp.GradScaler('cuda', args...)` instead.\n",
      "  self.scaler = torch.cuda.amp.GradScaler(**kwargs)\n",
      "/Utilisateurs/umushtaq/.conda/envs/er_nb_env/lib/python3.11/site-packages/accelerate/accelerator.py:494: FutureWarning: `torch.cuda.amp.GradScaler(args...)` is deprecated. Please use `torch.amp.GradScaler('cuda', args...)` instead.\n",
      "  self.scaler = torch.cuda.amp.GradScaler(**kwargs)\n",
      "Loading checkpoint shards: 100%|██████████| 9/9 [01:00<00:00,  6.68s/it]\n",
      "[INFO|modeling_utils.py:4568] 2024-11-08 15:01:08,654 >> All model checkpoint weights were used when initializing Qwen2ForCausalLM.\n",
      "\n",
      "[INFO|modeling_utils.py:4576] 2024-11-08 15:01:08,655 >> All the weights of Qwen2ForCausalLM were initialized from the model checkpoint at unsloth/Qwen2.5-72B-Instruct-bnb-4bit.\n",
      "If your task is similar to the task the model of the checkpoint was trained on, you can already use Qwen2ForCausalLM for predictions without further training.\n",
      "Loading checkpoint shards: 100%|██████████| 9/9 [00:59<00:00,  6.62s/it]\n",
      "[INFO|configuration_utils.py:1054] 2024-11-08 15:01:08,811 >> loading configuration file generation_config.json from cache at /Utilisateurs/umushtaq/.cache/huggingface/hub/models--unsloth--Qwen2.5-72B-Instruct-bnb-4bit/snapshots/95cde7b0316fd420d6fb7496c41f56fb9a1711d3/generation_config.json\n",
      "[INFO|configuration_utils.py:1099] 2024-11-08 15:01:08,812 >> Generate config GenerationConfig {\n",
      "  \"bos_token_id\": 151643,\n",
      "  \"do_sample\": true,\n",
      "  \"eos_token_id\": [\n",
      "    151645,\n",
      "    151643\n",
      "  ],\n",
      "  \"pad_token_id\": 151643,\n",
      "  \"repetition_penalty\": 1.05,\n",
      "  \"temperature\": 0.7,\n",
      "  \"top_k\": 20,\n",
      "  \"top_p\": 0.8\n",
      "}\n",
      "\n"
     ]
    },
    {
     "name": "stdout",
     "output_type": "stream",
     "text": [
      "11/08/2024 15:01:09 - INFO - llamafactory.train.trainer_utils - Using LoRA+ optimizer with loraplus lr ratio 16.00.\n",
      "11/08/2024 15:01:09 - INFO - llamafactory.train.trainer_utils - Using LoRA+ optimizer with loraplus lr ratio 16.00.\n",
      "11/08/2024 15:01:11 - INFO - llamafactory.model.model_utils.checkpointing - Gradient checkpointing enabled.\n",
      "11/08/2024 15:01:11 - INFO - llamafactory.model.model_utils.attention - Using torch SDPA for faster training and inference.\n",
      "11/08/2024 15:01:11 - INFO - llamafactory.model.adapter - Upcasting trainable params to float32.\n",
      "11/08/2024 15:01:11 - INFO - llamafactory.model.adapter - Fine-tuning method: LoRA\n",
      "11/08/2024 15:01:11 - INFO - llamafactory.model.model_utils.misc - Found linear modules: up_proj,gate_proj,k_proj,down_proj,q_proj,o_proj,v_proj\n",
      "11/08/2024 15:01:11 - INFO - llamafactory.model.model_utils.checkpointing - Gradient checkpointing enabled.\n",
      "11/08/2024 15:01:11 - INFO - llamafactory.model.model_utils.attention - Using torch SDPA for faster training and inference.\n",
      "11/08/2024 15:01:11 - INFO - llamafactory.model.adapter - Upcasting trainable params to float32.\n",
      "11/08/2024 15:01:11 - INFO - llamafactory.model.adapter - Fine-tuning method: LoRA\n",
      "11/08/2024 15:01:11 - INFO - llamafactory.model.model_utils.misc - Found linear modules: down_proj,q_proj,k_proj,up_proj,gate_proj,v_proj,o_proj\n"
     ]
    },
    {
     "name": "stderr",
     "output_type": "stream",
     "text": [
      "Loading checkpoint shards: 100%|██████████| 9/9 [01:02<00:00,  6.97s/it]\n"
     ]
    },
    {
     "name": "stdout",
     "output_type": "stream",
     "text": [
      "11/08/2024 15:01:14 - INFO - llamafactory.model.model_utils.checkpointing - Gradient checkpointing enabled.\n",
      "11/08/2024 15:01:14 - INFO - llamafactory.model.model_utils.attention - Using torch SDPA for faster training and inference.\n",
      "11/08/2024 15:01:14 - INFO - llamafactory.model.adapter - Upcasting trainable params to float32.\n",
      "11/08/2024 15:01:14 - INFO - llamafactory.model.adapter - Fine-tuning method: LoRA\n",
      "11/08/2024 15:01:14 - INFO - llamafactory.model.model_utils.misc - Found linear modules: q_proj,k_proj,up_proj,down_proj,v_proj,gate_proj,o_proj\n",
      "11/08/2024 15:01:17 - INFO - llamafactory.model.loader - trainable params: 105,267,200 || all params: 72,811,470,848 || trainable%: 0.1446\n",
      "11/08/2024 15:01:17 - INFO - llamafactory.model.loader - trainable params: 105,267,200 || all params: 72,811,470,848 || trainable%: 0.1446\n"
     ]
    },
    {
     "name": "stderr",
     "output_type": "stream",
     "text": [
      "/Utilisateurs/umushtaq/.conda/envs/er_nb_env/lib/python3.11/site-packages/accelerate/accelerator.py:494: FutureWarning: `torch.cuda.amp.GradScaler(args...)` is deprecated. Please use `torch.amp.GradScaler('cuda', args...)` instead.\n",
      "  self.scaler = torch.cuda.amp.GradScaler(**kwargs)\n",
      "/Utilisateurs/umushtaq/.conda/envs/er_nb_env/lib/python3.11/site-packages/accelerate/accelerator.py:494: FutureWarning: `torch.cuda.amp.GradScaler(args...)` is deprecated. Please use `torch.amp.GradScaler('cuda', args...)` instead.\n",
      "  self.scaler = torch.cuda.amp.GradScaler(**kwargs)\n",
      "[INFO|trainer.py:667] 2024-11-08 15:01:18,498 >> Using auto half precision backend\n"
     ]
    },
    {
     "name": "stdout",
     "output_type": "stream",
     "text": [
      "11/08/2024 15:01:20 - INFO - llamafactory.train.trainer_utils - Using LoRA+ optimizer with loraplus lr ratio 16.00.\n",
      "11/08/2024 15:01:20 - INFO - llamafactory.train.trainer_utils - Using LoRA+ optimizer with loraplus lr ratio 16.00.\n",
      "11/08/2024 15:01:20 - INFO - llamafactory.model.loader - trainable params: 105,267,200 || all params: 72,811,470,848 || trainable%: 0.1446\n"
     ]
    },
    {
     "name": "stderr",
     "output_type": "stream",
     "text": [
      "/Utilisateurs/umushtaq/.conda/envs/er_nb_env/lib/python3.11/site-packages/accelerate/accelerator.py:494: FutureWarning: `torch.cuda.amp.GradScaler(args...)` is deprecated. Please use `torch.amp.GradScaler('cuda', args...)` instead.\n",
      "  self.scaler = torch.cuda.amp.GradScaler(**kwargs)\n"
     ]
    },
    {
     "name": "stdout",
     "output_type": "stream",
     "text": [
      "11/08/2024 15:01:23 - INFO - llamafactory.train.trainer_utils - Using LoRA+ optimizer with loraplus lr ratio 16.00.\n"
     ]
    },
    {
     "name": "stderr",
     "output_type": "stream",
     "text": [
      "[INFO|trainer.py:2243] 2024-11-08 15:01:29,487 >> ***** Running training *****\n",
      "[INFO|trainer.py:2244] 2024-11-08 15:01:29,498 >>   Num examples = 646\n",
      "[INFO|trainer.py:2245] 2024-11-08 15:01:29,498 >>   Num Epochs = 8\n",
      "[INFO|trainer.py:2246] 2024-11-08 15:01:29,498 >>   Instantaneous batch size per device = 2\n",
      "[INFO|trainer.py:2249] 2024-11-08 15:01:29,498 >>   Total train batch size (w. parallel, distributed & accumulation) = 40\n",
      "[INFO|trainer.py:2250] 2024-11-08 15:01:29,498 >>   Gradient Accumulation steps = 4\n",
      "[INFO|trainer.py:2251] 2024-11-08 15:01:29,498 >>   Total optimization steps = 128\n",
      "[INFO|trainer.py:2252] 2024-11-08 15:01:29,523 >>   Number of trainable parameters = 105,267,200\n",
      "  0%|          | 0/128 [00:00<?, ?it/s]/Utilisateurs/umushtaq/.conda/envs/er_nb_env/lib/python3.11/site-packages/torch/utils/checkpoint.py:295: FutureWarning: `torch.cpu.amp.autocast(args...)` is deprecated. Please use `torch.amp.autocast('cpu', args...)` instead.\n",
      "  with torch.enable_grad(), device_autocast_ctx, torch.cpu.amp.autocast(**ctx.cpu_autocast_kwargs):  # type: ignore[attr-defined]\n",
      "/Utilisateurs/umushtaq/.conda/envs/er_nb_env/lib/python3.11/site-packages/torch/utils/checkpoint.py:295: FutureWarning: `torch.cpu.amp.autocast(args...)` is deprecated. Please use `torch.amp.autocast('cpu', args...)` instead.\n",
      "  with torch.enable_grad(), device_autocast_ctx, torch.cpu.amp.autocast(**ctx.cpu_autocast_kwargs):  # type: ignore[attr-defined]\n",
      "/Utilisateurs/umushtaq/.conda/envs/er_nb_env/lib/python3.11/site-packages/torch/utils/checkpoint.py:295: FutureWarning: `torch.cpu.amp.autocast(args...)` is deprecated. Please use `torch.amp.autocast('cpu', args...)` instead.\n",
      "  with torch.enable_grad(), device_autocast_ctx, torch.cpu.amp.autocast(**ctx.cpu_autocast_kwargs):  # type: ignore[attr-defined]\n",
      "/Utilisateurs/umushtaq/.conda/envs/er_nb_env/lib/python3.11/site-packages/torch/utils/checkpoint.py:295: FutureWarning: `torch.cpu.amp.autocast(args...)` is deprecated. Please use `torch.amp.autocast('cpu', args...)` instead.\n",
      "  with torch.enable_grad(), device_autocast_ctx, torch.cpu.amp.autocast(**ctx.cpu_autocast_kwargs):  # type: ignore[attr-defined]\n",
      "/Utilisateurs/umushtaq/.conda/envs/er_nb_env/lib/python3.11/site-packages/torch/utils/checkpoint.py:295: FutureWarning: `torch.cpu.amp.autocast(args...)` is deprecated. Please use `torch.amp.autocast('cpu', args...)` instead.\n",
      "  with torch.enable_grad(), device_autocast_ctx, torch.cpu.amp.autocast(**ctx.cpu_autocast_kwargs):  # type: ignore[attr-defined]\n",
      "  8%|▊         | 10/128 [06:22<1:14:19, 37.80s/it]"
     ]
    },
    {
     "name": "stdout",
     "output_type": "stream",
     "text": [
      "{'loss': 0.9793, 'grad_norm': 0.2819873094558716, 'learning_rate': 3.846153846153846e-05, 'epoch': 0.62}\n"
     ]
    },
    {
     "name": "stderr",
     "output_type": "stream",
     "text": [
      " 16%|█▌        | 20/128 [12:44<1:09:49, 38.79s/it]"
     ]
    },
    {
     "name": "stdout",
     "output_type": "stream",
     "text": [
      "{'loss': 0.3345, 'grad_norm': 0.25601381063461304, 'learning_rate': 4.9544292351888966e-05, 'epoch': 1.23}\n"
     ]
    },
    {
     "name": "stderr",
     "output_type": "stream",
     "text": [
      " 23%|██▎       | 30/128 [19:03<1:01:02, 37.38s/it]"
     ]
    },
    {
     "name": "stdout",
     "output_type": "stream",
     "text": [
      "{'loss': 0.2863, 'grad_norm': 0.39330920577049255, 'learning_rate': 4.735215677869128e-05, 'epoch': 1.85}\n"
     ]
    },
    {
     "name": "stderr",
     "output_type": "stream",
     "text": [
      " 31%|███▏      | 40/128 [25:23<56:08, 38.28s/it]  "
     ]
    },
    {
     "name": "stdout",
     "output_type": "stream",
     "text": [
      "{'loss': 0.2613, 'grad_norm': 0.2761164903640747, 'learning_rate': 4.35022639915313e-05, 'epoch': 2.46}\n"
     ]
    },
    {
     "name": "stderr",
     "output_type": "stream",
     "text": [
      " 39%|███▉      | 50/128 [31:46<51:35, 39.69s/it]"
     ]
    },
    {
     "name": "stdout",
     "output_type": "stream",
     "text": [
      "{'loss': 0.2304, 'grad_norm': 0.4427037835121155, 'learning_rate': 3.828014292634509e-05, 'epoch': 3.08}\n"
     ]
    },
    {
     "name": "stderr",
     "output_type": "stream",
     "text": [
      " 47%|████▋     | 60/128 [38:03<42:55, 37.87s/it]"
     ]
    },
    {
     "name": "stdout",
     "output_type": "stream",
     "text": [
      "{'loss': 0.1877, 'grad_norm': 0.4577280282974243, 'learning_rate': 3.207309441292325e-05, 'epoch': 3.69}\n"
     ]
    },
    {
     "name": "stderr",
     "output_type": "stream",
     "text": [
      " 55%|█████▍    | 70/128 [44:26<36:57, 38.23s/it]"
     ]
    },
    {
     "name": "stdout",
     "output_type": "stream",
     "text": [
      "{'loss': 0.1411, 'grad_norm': 0.3321293294429779, 'learning_rate': 2.5341466844148775e-05, 'epoch': 4.31}\n"
     ]
    },
    {
     "name": "stderr",
     "output_type": "stream",
     "text": [
      " 62%|██████▎   | 80/128 [50:42<29:27, 36.83s/it]"
     ]
    },
    {
     "name": "stdout",
     "output_type": "stream",
     "text": [
      "{'loss': 0.0982, 'grad_norm': 0.5154699087142944, 'learning_rate': 1.8584514241650666e-05, 'epoch': 4.92}\n"
     ]
    },
    {
     "name": "stderr",
     "output_type": "stream",
     "text": [
      " 70%|███████   | 90/128 [56:59<23:42, 37.43s/it]"
     ]
    },
    {
     "name": "stdout",
     "output_type": "stream",
     "text": [
      "{'loss': 0.0524, 'grad_norm': 0.431740403175354, 'learning_rate': 1.2303368868954848e-05, 'epoch': 5.54}\n"
     ]
    },
    {
     "name": "stderr",
     "output_type": "stream",
     "text": [
      " 78%|███████▊  | 100/128 [1:03:15<17:55, 38.40s/it]"
     ]
    },
    {
     "name": "stdout",
     "output_type": "stream",
     "text": [
      "{'loss': 0.0398, 'grad_norm': 0.2678681015968323, 'learning_rate': 6.9638745440261084e-06, 'epoch': 6.15}\n"
     ]
    },
    {
     "name": "stderr",
     "output_type": "stream",
     "text": [
      " 86%|████████▌ | 110/128 [1:09:34<11:15, 37.53s/it]"
     ]
    },
    {
     "name": "stdout",
     "output_type": "stream",
     "text": [
      "{'loss': 0.0148, 'grad_norm': 0.20598888397216797, 'learning_rate': 2.962037134383211e-06, 'epoch': 6.77}\n"
     ]
    },
    {
     "name": "stderr",
     "output_type": "stream",
     "text": [
      " 94%|█████████▍| 120/128 [1:15:47<04:59, 37.49s/it]"
     ]
    },
    {
     "name": "stdout",
     "output_type": "stream",
     "text": [
      "{'loss': 0.0091, 'grad_norm': 0.16909192502498627, 'learning_rate': 5.946546135113862e-07, 'epoch': 7.38}\n"
     ]
    },
    {
     "name": "stderr",
     "output_type": "stream",
     "text": [
      "100%|██████████| 128/128 [1:20:49<00:00, 38.35s/it][INFO|trainer.py:3705] 2024-11-08 16:22:19,605 >> Saving model checkpoint to /Utilisateurs/umushtaq/emotion_analysis_comics/finetuning/saved_models/comics35_pg_nb_Qwen2.5-72B-Instruct-bnb-4bit/checkpoint-128\n",
      "[INFO|configuration_utils.py:672] 2024-11-08 16:22:20,363 >> loading configuration file config.json from cache at /Utilisateurs/umushtaq/.cache/huggingface/hub/models--unsloth--Qwen2.5-72B-Instruct-bnb-4bit/snapshots/95cde7b0316fd420d6fb7496c41f56fb9a1711d3/config.json\n",
      "[INFO|configuration_utils.py:739] 2024-11-08 16:22:20,364 >> Model config Qwen2Config {\n",
      "  \"_name_or_path\": \"Qwen/Qwen2.5-72B-Instruct\",\n",
      "  \"architectures\": [\n",
      "    \"Qwen2ForCausalLM\"\n",
      "  ],\n",
      "  \"attention_dropout\": 0.0,\n",
      "  \"bos_token_id\": 151643,\n",
      "  \"eos_token_id\": 151645,\n",
      "  \"hidden_act\": \"silu\",\n",
      "  \"hidden_size\": 8192,\n",
      "  \"initializer_range\": 0.02,\n",
      "  \"intermediate_size\": 29568,\n",
      "  \"max_position_embeddings\": 32768,\n",
      "  \"max_window_layers\": 70,\n",
      "  \"model_type\": \"qwen2\",\n",
      "  \"num_attention_heads\": 64,\n",
      "  \"num_hidden_layers\": 80,\n",
      "  \"num_key_value_heads\": 8,\n",
      "  \"quantization_config\": {\n",
      "    \"_load_in_4bit\": true,\n",
      "    \"_load_in_8bit\": false,\n",
      "    \"bnb_4bit_compute_dtype\": \"bfloat16\",\n",
      "    \"bnb_4bit_quant_storage\": \"uint8\",\n",
      "    \"bnb_4bit_quant_type\": \"nf4\",\n",
      "    \"bnb_4bit_use_double_quant\": true,\n",
      "    \"llm_int8_enable_fp32_cpu_offload\": false,\n",
      "    \"llm_int8_has_fp16_weight\": false,\n",
      "    \"llm_int8_skip_modules\": null,\n",
      "    \"llm_int8_threshold\": 6.0,\n",
      "    \"load_in_4bit\": true,\n",
      "    \"load_in_8bit\": false,\n",
      "    \"quant_method\": \"bitsandbytes\"\n",
      "  },\n",
      "  \"rms_norm_eps\": 1e-06,\n",
      "  \"rope_scaling\": null,\n",
      "  \"rope_theta\": 1000000.0,\n",
      "  \"sliding_window\": null,\n",
      "  \"tie_word_embeddings\": false,\n",
      "  \"torch_dtype\": \"bfloat16\",\n",
      "  \"transformers_version\": \"4.45.0\",\n",
      "  \"use_cache\": true,\n",
      "  \"use_sliding_window\": false,\n",
      "  \"vocab_size\": 152064\n",
      "}\n",
      "\n",
      "[INFO|tokenization_utils_base.py:2649] 2024-11-08 16:22:27,789 >> tokenizer config file saved in /Utilisateurs/umushtaq/emotion_analysis_comics/finetuning/saved_models/comics35_pg_nb_Qwen2.5-72B-Instruct-bnb-4bit/checkpoint-128/tokenizer_config.json\n",
      "[INFO|tokenization_utils_base.py:2658] 2024-11-08 16:22:27,794 >> Special tokens file saved in /Utilisateurs/umushtaq/emotion_analysis_comics/finetuning/saved_models/comics35_pg_nb_Qwen2.5-72B-Instruct-bnb-4bit/checkpoint-128/special_tokens_map.json\n",
      "[INFO|trainer.py:2505] 2024-11-08 16:22:42,164 >> \n",
      "\n",
      "Training completed. Do not forget to share your model on huggingface.co/models =)\n",
      "\n",
      "\n",
      "100%|██████████| 128/128 [1:21:12<00:00, 38.07s/it]\n",
      "[INFO|trainer.py:3705] 2024-11-08 16:22:42,170 >> Saving model checkpoint to /Utilisateurs/umushtaq/emotion_analysis_comics/finetuning/saved_models/comics35_pg_nb_Qwen2.5-72B-Instruct-bnb-4bit\n"
     ]
    },
    {
     "name": "stdout",
     "output_type": "stream",
     "text": [
      "{'train_runtime': 4872.6235, 'train_samples_per_second': 1.061, 'train_steps_per_second': 0.026, 'train_loss': 0.2060962739487877, 'epoch': 7.88}\n"
     ]
    },
    {
     "name": "stderr",
     "output_type": "stream",
     "text": [
      "[INFO|configuration_utils.py:672] 2024-11-08 16:22:42,809 >> loading configuration file config.json from cache at /Utilisateurs/umushtaq/.cache/huggingface/hub/models--unsloth--Qwen2.5-72B-Instruct-bnb-4bit/snapshots/95cde7b0316fd420d6fb7496c41f56fb9a1711d3/config.json\n",
      "[INFO|configuration_utils.py:739] 2024-11-08 16:22:42,810 >> Model config Qwen2Config {\n",
      "  \"_name_or_path\": \"Qwen/Qwen2.5-72B-Instruct\",\n",
      "  \"architectures\": [\n",
      "    \"Qwen2ForCausalLM\"\n",
      "  ],\n",
      "  \"attention_dropout\": 0.0,\n",
      "  \"bos_token_id\": 151643,\n",
      "  \"eos_token_id\": 151645,\n",
      "  \"hidden_act\": \"silu\",\n",
      "  \"hidden_size\": 8192,\n",
      "  \"initializer_range\": 0.02,\n",
      "  \"intermediate_size\": 29568,\n",
      "  \"max_position_embeddings\": 32768,\n",
      "  \"max_window_layers\": 70,\n",
      "  \"model_type\": \"qwen2\",\n",
      "  \"num_attention_heads\": 64,\n",
      "  \"num_hidden_layers\": 80,\n",
      "  \"num_key_value_heads\": 8,\n",
      "  \"quantization_config\": {\n",
      "    \"_load_in_4bit\": true,\n",
      "    \"_load_in_8bit\": false,\n",
      "    \"bnb_4bit_compute_dtype\": \"bfloat16\",\n",
      "    \"bnb_4bit_quant_storage\": \"uint8\",\n",
      "    \"bnb_4bit_quant_type\": \"nf4\",\n",
      "    \"bnb_4bit_use_double_quant\": true,\n",
      "    \"llm_int8_enable_fp32_cpu_offload\": false,\n",
      "    \"llm_int8_has_fp16_weight\": false,\n",
      "    \"llm_int8_skip_modules\": null,\n",
      "    \"llm_int8_threshold\": 6.0,\n",
      "    \"load_in_4bit\": true,\n",
      "    \"load_in_8bit\": false,\n",
      "    \"quant_method\": \"bitsandbytes\"\n",
      "  },\n",
      "  \"rms_norm_eps\": 1e-06,\n",
      "  \"rope_scaling\": null,\n",
      "  \"rope_theta\": 1000000.0,\n",
      "  \"sliding_window\": null,\n",
      "  \"tie_word_embeddings\": false,\n",
      "  \"torch_dtype\": \"bfloat16\",\n",
      "  \"transformers_version\": \"4.45.0\",\n",
      "  \"use_cache\": true,\n",
      "  \"use_sliding_window\": false,\n",
      "  \"vocab_size\": 152064\n",
      "}\n",
      "\n",
      "[INFO|tokenization_utils_base.py:2649] 2024-11-08 16:22:50,106 >> tokenizer config file saved in /Utilisateurs/umushtaq/emotion_analysis_comics/finetuning/saved_models/comics35_pg_nb_Qwen2.5-72B-Instruct-bnb-4bit/tokenizer_config.json\n",
      "[INFO|tokenization_utils_base.py:2658] 2024-11-08 16:22:50,107 >> Special tokens file saved in /Utilisateurs/umushtaq/emotion_analysis_comics/finetuning/saved_models/comics35_pg_nb_Qwen2.5-72B-Instruct-bnb-4bit/special_tokens_map.json\n"
     ]
    },
    {
     "name": "stdout",
     "output_type": "stream",
     "text": [
      "***** train metrics *****\n",
      "  epoch                    =       7.8769\n",
      "  total_flos               = 1132364192GF\n",
      "  train_loss               =       0.2061\n",
      "  train_runtime            =   1:21:12.62\n",
      "  train_samples_per_second =        1.061\n",
      "  train_steps_per_second   =        0.026\n"
     ]
    },
    {
     "name": "stderr",
     "output_type": "stream",
     "text": [
      "[INFO|modelcard.py:449] 2024-11-08 16:22:50,374 >> Dropping the following result as it does not have all the necessary fields:\n",
      "{'task': {'name': 'Causal Language Modeling', 'type': 'text-generation'}}\n"
     ]
    },
    {
     "data": {
      "text/plain": [
       "0"
      ]
     },
     "execution_count": 14,
     "metadata": {},
     "output_type": "execute_result"
    }
   ],
   "source": [
    "p.wait()"
   ]
  },
  {
   "cell_type": "code",
   "execution_count": 15,
   "metadata": {},
   "outputs": [],
   "source": [
    "args = dict(\n",
    "  model_name_or_path=BASE_MODEL, # use bnb-4bit-quantized Llama-3-8B-Instruct model\n",
    "  adapter_name_or_path=str(OUTPUT_DIR),            # load the saved LoRA adapters\n",
    "  template=\"qwen\",                     # same to the one in training\n",
    "  finetuning_type=\"lora\",                  # same to the one in training\n",
    "  quantization_bit=4,                    # load 4-bit quantized model\n",
    ")"
   ]
  },
  {
   "cell_type": "code",
   "execution_count": 16,
   "metadata": {},
   "outputs": [
    {
     "name": "stderr",
     "output_type": "stream",
     "text": [
      "[INFO|configuration_utils.py:672] 2024-11-08 16:23:41,520 >> loading configuration file config.json from cache at /Utilisateurs/umushtaq/.cache/huggingface/hub/models--unsloth--Qwen2.5-72B-Instruct-bnb-4bit/snapshots/95cde7b0316fd420d6fb7496c41f56fb9a1711d3/config.json\n",
      "[INFO|configuration_utils.py:739] 2024-11-08 16:23:41,526 >> Model config Qwen2Config {\n",
      "  \"_name_or_path\": \"unsloth/Qwen2.5-72B-Instruct-bnb-4bit\",\n",
      "  \"architectures\": [\n",
      "    \"Qwen2ForCausalLM\"\n",
      "  ],\n",
      "  \"attention_dropout\": 0.0,\n",
      "  \"bos_token_id\": 151643,\n",
      "  \"eos_token_id\": 151645,\n",
      "  \"hidden_act\": \"silu\",\n",
      "  \"hidden_size\": 8192,\n",
      "  \"initializer_range\": 0.02,\n",
      "  \"intermediate_size\": 29568,\n",
      "  \"max_position_embeddings\": 32768,\n",
      "  \"max_window_layers\": 70,\n",
      "  \"model_type\": \"qwen2\",\n",
      "  \"num_attention_heads\": 64,\n",
      "  \"num_hidden_layers\": 80,\n",
      "  \"num_key_value_heads\": 8,\n",
      "  \"quantization_config\": {\n",
      "    \"_load_in_4bit\": true,\n",
      "    \"_load_in_8bit\": false,\n",
      "    \"bnb_4bit_compute_dtype\": \"bfloat16\",\n",
      "    \"bnb_4bit_quant_storage\": \"uint8\",\n",
      "    \"bnb_4bit_quant_type\": \"nf4\",\n",
      "    \"bnb_4bit_use_double_quant\": true,\n",
      "    \"llm_int8_enable_fp32_cpu_offload\": false,\n",
      "    \"llm_int8_has_fp16_weight\": false,\n",
      "    \"llm_int8_skip_modules\": null,\n",
      "    \"llm_int8_threshold\": 6.0,\n",
      "    \"load_in_4bit\": true,\n",
      "    \"load_in_8bit\": false,\n",
      "    \"quant_method\": \"bitsandbytes\"\n",
      "  },\n",
      "  \"rms_norm_eps\": 1e-06,\n",
      "  \"rope_scaling\": null,\n",
      "  \"rope_theta\": 1000000.0,\n",
      "  \"sliding_window\": null,\n",
      "  \"tie_word_embeddings\": false,\n",
      "  \"torch_dtype\": \"bfloat16\",\n",
      "  \"transformers_version\": \"4.45.0\",\n",
      "  \"use_cache\": true,\n",
      "  \"use_sliding_window\": false,\n",
      "  \"vocab_size\": 152064\n",
      "}\n",
      "\n",
      "[INFO|tokenization_utils_base.py:2214] 2024-11-08 16:23:41,694 >> loading file vocab.json from cache at /Utilisateurs/umushtaq/.cache/huggingface/hub/models--unsloth--Qwen2.5-72B-Instruct-bnb-4bit/snapshots/95cde7b0316fd420d6fb7496c41f56fb9a1711d3/vocab.json\n",
      "[INFO|tokenization_utils_base.py:2214] 2024-11-08 16:23:41,696 >> loading file merges.txt from cache at /Utilisateurs/umushtaq/.cache/huggingface/hub/models--unsloth--Qwen2.5-72B-Instruct-bnb-4bit/snapshots/95cde7b0316fd420d6fb7496c41f56fb9a1711d3/merges.txt\n",
      "[INFO|tokenization_utils_base.py:2214] 2024-11-08 16:23:41,698 >> loading file tokenizer.json from cache at /Utilisateurs/umushtaq/.cache/huggingface/hub/models--unsloth--Qwen2.5-72B-Instruct-bnb-4bit/snapshots/95cde7b0316fd420d6fb7496c41f56fb9a1711d3/tokenizer.json\n",
      "[INFO|tokenization_utils_base.py:2214] 2024-11-08 16:23:41,699 >> loading file added_tokens.json from cache at /Utilisateurs/umushtaq/.cache/huggingface/hub/models--unsloth--Qwen2.5-72B-Instruct-bnb-4bit/snapshots/95cde7b0316fd420d6fb7496c41f56fb9a1711d3/added_tokens.json\n",
      "[INFO|tokenization_utils_base.py:2214] 2024-11-08 16:23:41,701 >> loading file special_tokens_map.json from cache at /Utilisateurs/umushtaq/.cache/huggingface/hub/models--unsloth--Qwen2.5-72B-Instruct-bnb-4bit/snapshots/95cde7b0316fd420d6fb7496c41f56fb9a1711d3/special_tokens_map.json\n",
      "[INFO|tokenization_utils_base.py:2214] 2024-11-08 16:23:41,702 >> loading file tokenizer_config.json from cache at /Utilisateurs/umushtaq/.cache/huggingface/hub/models--unsloth--Qwen2.5-72B-Instruct-bnb-4bit/snapshots/95cde7b0316fd420d6fb7496c41f56fb9a1711d3/tokenizer_config.json\n",
      "[INFO|tokenization_utils_base.py:2478] 2024-11-08 16:23:41,940 >> Special tokens have been added in the vocabulary, make sure the associated word embeddings are fine-tuned or trained.\n",
      "[INFO|configuration_utils.py:672] 2024-11-08 16:23:42,500 >> loading configuration file config.json from cache at /Utilisateurs/umushtaq/.cache/huggingface/hub/models--unsloth--Qwen2.5-72B-Instruct-bnb-4bit/snapshots/95cde7b0316fd420d6fb7496c41f56fb9a1711d3/config.json\n",
      "[INFO|configuration_utils.py:739] 2024-11-08 16:23:42,502 >> Model config Qwen2Config {\n",
      "  \"_name_or_path\": \"unsloth/Qwen2.5-72B-Instruct-bnb-4bit\",\n",
      "  \"architectures\": [\n",
      "    \"Qwen2ForCausalLM\"\n",
      "  ],\n",
      "  \"attention_dropout\": 0.0,\n",
      "  \"bos_token_id\": 151643,\n",
      "  \"eos_token_id\": 151645,\n",
      "  \"hidden_act\": \"silu\",\n",
      "  \"hidden_size\": 8192,\n",
      "  \"initializer_range\": 0.02,\n",
      "  \"intermediate_size\": 29568,\n",
      "  \"max_position_embeddings\": 32768,\n",
      "  \"max_window_layers\": 70,\n",
      "  \"model_type\": \"qwen2\",\n",
      "  \"num_attention_heads\": 64,\n",
      "  \"num_hidden_layers\": 80,\n",
      "  \"num_key_value_heads\": 8,\n",
      "  \"quantization_config\": {\n",
      "    \"_load_in_4bit\": true,\n",
      "    \"_load_in_8bit\": false,\n",
      "    \"bnb_4bit_compute_dtype\": \"bfloat16\",\n",
      "    \"bnb_4bit_quant_storage\": \"uint8\",\n",
      "    \"bnb_4bit_quant_type\": \"nf4\",\n",
      "    \"bnb_4bit_use_double_quant\": true,\n",
      "    \"llm_int8_enable_fp32_cpu_offload\": false,\n",
      "    \"llm_int8_has_fp16_weight\": false,\n",
      "    \"llm_int8_skip_modules\": null,\n",
      "    \"llm_int8_threshold\": 6.0,\n",
      "    \"load_in_4bit\": true,\n",
      "    \"load_in_8bit\": false,\n",
      "    \"quant_method\": \"bitsandbytes\"\n",
      "  },\n",
      "  \"rms_norm_eps\": 1e-06,\n",
      "  \"rope_scaling\": null,\n",
      "  \"rope_theta\": 1000000.0,\n",
      "  \"sliding_window\": null,\n",
      "  \"tie_word_embeddings\": false,\n",
      "  \"torch_dtype\": \"bfloat16\",\n",
      "  \"transformers_version\": \"4.45.0\",\n",
      "  \"use_cache\": true,\n",
      "  \"use_sliding_window\": false,\n",
      "  \"vocab_size\": 152064\n",
      "}\n",
      "\n",
      "[INFO|tokenization_utils_base.py:2214] 2024-11-08 16:23:42,643 >> loading file vocab.json from cache at /Utilisateurs/umushtaq/.cache/huggingface/hub/models--unsloth--Qwen2.5-72B-Instruct-bnb-4bit/snapshots/95cde7b0316fd420d6fb7496c41f56fb9a1711d3/vocab.json\n",
      "[INFO|tokenization_utils_base.py:2214] 2024-11-08 16:23:42,645 >> loading file merges.txt from cache at /Utilisateurs/umushtaq/.cache/huggingface/hub/models--unsloth--Qwen2.5-72B-Instruct-bnb-4bit/snapshots/95cde7b0316fd420d6fb7496c41f56fb9a1711d3/merges.txt\n",
      "[INFO|tokenization_utils_base.py:2214] 2024-11-08 16:23:42,646 >> loading file tokenizer.json from cache at /Utilisateurs/umushtaq/.cache/huggingface/hub/models--unsloth--Qwen2.5-72B-Instruct-bnb-4bit/snapshots/95cde7b0316fd420d6fb7496c41f56fb9a1711d3/tokenizer.json\n",
      "[INFO|tokenization_utils_base.py:2214] 2024-11-08 16:23:42,648 >> loading file added_tokens.json from cache at /Utilisateurs/umushtaq/.cache/huggingface/hub/models--unsloth--Qwen2.5-72B-Instruct-bnb-4bit/snapshots/95cde7b0316fd420d6fb7496c41f56fb9a1711d3/added_tokens.json\n",
      "[INFO|tokenization_utils_base.py:2214] 2024-11-08 16:23:42,649 >> loading file special_tokens_map.json from cache at /Utilisateurs/umushtaq/.cache/huggingface/hub/models--unsloth--Qwen2.5-72B-Instruct-bnb-4bit/snapshots/95cde7b0316fd420d6fb7496c41f56fb9a1711d3/special_tokens_map.json\n",
      "[INFO|tokenization_utils_base.py:2214] 2024-11-08 16:23:42,651 >> loading file tokenizer_config.json from cache at /Utilisateurs/umushtaq/.cache/huggingface/hub/models--unsloth--Qwen2.5-72B-Instruct-bnb-4bit/snapshots/95cde7b0316fd420d6fb7496c41f56fb9a1711d3/tokenizer_config.json\n",
      "[INFO|tokenization_utils_base.py:2478] 2024-11-08 16:23:42,873 >> Special tokens have been added in the vocabulary, make sure the associated word embeddings are fine-tuned or trained.\n"
     ]
    },
    {
     "name": "stdout",
     "output_type": "stream",
     "text": [
      "11/08/2024 16:23:42 - INFO - llamafactory.data.template - Replace eos token: <|im_end|>\n"
     ]
    },
    {
     "name": "stderr",
     "output_type": "stream",
     "text": [
      "[INFO|configuration_utils.py:672] 2024-11-08 16:23:43,022 >> loading configuration file config.json from cache at /Utilisateurs/umushtaq/.cache/huggingface/hub/models--unsloth--Qwen2.5-72B-Instruct-bnb-4bit/snapshots/95cde7b0316fd420d6fb7496c41f56fb9a1711d3/config.json\n",
      "[INFO|configuration_utils.py:739] 2024-11-08 16:23:43,024 >> Model config Qwen2Config {\n",
      "  \"_name_or_path\": \"unsloth/Qwen2.5-72B-Instruct-bnb-4bit\",\n",
      "  \"architectures\": [\n",
      "    \"Qwen2ForCausalLM\"\n",
      "  ],\n",
      "  \"attention_dropout\": 0.0,\n",
      "  \"bos_token_id\": 151643,\n",
      "  \"eos_token_id\": 151645,\n",
      "  \"hidden_act\": \"silu\",\n",
      "  \"hidden_size\": 8192,\n",
      "  \"initializer_range\": 0.02,\n",
      "  \"intermediate_size\": 29568,\n",
      "  \"max_position_embeddings\": 32768,\n",
      "  \"max_window_layers\": 70,\n",
      "  \"model_type\": \"qwen2\",\n",
      "  \"num_attention_heads\": 64,\n",
      "  \"num_hidden_layers\": 80,\n",
      "  \"num_key_value_heads\": 8,\n",
      "  \"quantization_config\": {\n",
      "    \"_load_in_4bit\": true,\n",
      "    \"_load_in_8bit\": false,\n",
      "    \"bnb_4bit_compute_dtype\": \"bfloat16\",\n",
      "    \"bnb_4bit_quant_storage\": \"uint8\",\n",
      "    \"bnb_4bit_quant_type\": \"nf4\",\n",
      "    \"bnb_4bit_use_double_quant\": true,\n",
      "    \"llm_int8_enable_fp32_cpu_offload\": false,\n",
      "    \"llm_int8_has_fp16_weight\": false,\n",
      "    \"llm_int8_skip_modules\": null,\n",
      "    \"llm_int8_threshold\": 6.0,\n",
      "    \"load_in_4bit\": true,\n",
      "    \"load_in_8bit\": false,\n",
      "    \"quant_method\": \"bitsandbytes\"\n",
      "  },\n",
      "  \"rms_norm_eps\": 1e-06,\n",
      "  \"rope_scaling\": null,\n",
      "  \"rope_theta\": 1000000.0,\n",
      "  \"sliding_window\": null,\n",
      "  \"tie_word_embeddings\": false,\n",
      "  \"torch_dtype\": \"bfloat16\",\n",
      "  \"transformers_version\": \"4.45.0\",\n",
      "  \"use_cache\": true,\n",
      "  \"use_sliding_window\": false,\n",
      "  \"vocab_size\": 152064\n",
      "}\n",
      "\n"
     ]
    },
    {
     "name": "stdout",
     "output_type": "stream",
     "text": [
      "11/08/2024 16:23:43 - WARNING - llamafactory.model.model_utils.quantization - `quantization_bit` will not affect on the PTQ-quantized models.\n",
      "11/08/2024 16:23:43 - INFO - llamafactory.model.model_utils.quantization - Loading ?-bit BITSANDBYTES-quantized model.\n",
      "11/08/2024 16:23:43 - INFO - llamafactory.model.patcher - Using KV cache for faster generation.\n"
     ]
    },
    {
     "name": "stderr",
     "output_type": "stream",
     "text": [
      "[WARNING|quantization_config.py:400] 2024-11-08 16:23:43,148 >> Unused kwargs: ['_load_in_4bit', '_load_in_8bit', 'quant_method']. These kwargs are not used in <class 'transformers.utils.quantization_config.BitsAndBytesConfig'>.\n",
      "[INFO|modeling_utils.py:3726] 2024-11-08 16:23:43,367 >> loading weights file model.safetensors from cache at /Utilisateurs/umushtaq/.cache/huggingface/hub/models--unsloth--Qwen2.5-72B-Instruct-bnb-4bit/snapshots/95cde7b0316fd420d6fb7496c41f56fb9a1711d3/model.safetensors.index.json\n",
      "[INFO|modeling_utils.py:1622] 2024-11-08 16:23:43,375 >> Instantiating Qwen2ForCausalLM model under default dtype torch.bfloat16.\n",
      "[INFO|configuration_utils.py:1099] 2024-11-08 16:23:43,377 >> Generate config GenerationConfig {\n",
      "  \"bos_token_id\": 151643,\n",
      "  \"eos_token_id\": 151645\n",
      "}\n",
      "\n",
      "[INFO|quantizer_bnb_4bit.py:122] 2024-11-08 16:23:43,786 >> target_dtype {target_dtype} is replaced by `CustomDtype.INT4` for 4-bit BnB quantization\n"
     ]
    },
    {
     "data": {
      "application/vnd.jupyter.widget-view+json": {
       "model_id": "598530bfb34e4ea58a973de61460cf96",
       "version_major": 2,
       "version_minor": 0
      },
      "text/plain": [
       "Loading checkpoint shards:   0%|          | 0/9 [00:00<?, ?it/s]"
      ]
     },
     "metadata": {},
     "output_type": "display_data"
    },
    {
     "name": "stderr",
     "output_type": "stream",
     "text": [
      "[INFO|modeling_utils.py:4568] 2024-11-08 16:23:54,090 >> All model checkpoint weights were used when initializing Qwen2ForCausalLM.\n",
      "\n",
      "[INFO|modeling_utils.py:4576] 2024-11-08 16:23:54,091 >> All the weights of Qwen2ForCausalLM were initialized from the model checkpoint at unsloth/Qwen2.5-72B-Instruct-bnb-4bit.\n",
      "If your task is similar to the task the model of the checkpoint was trained on, you can already use Qwen2ForCausalLM for predictions without further training.\n",
      "[INFO|configuration_utils.py:1054] 2024-11-08 16:23:54,236 >> loading configuration file generation_config.json from cache at /Utilisateurs/umushtaq/.cache/huggingface/hub/models--unsloth--Qwen2.5-72B-Instruct-bnb-4bit/snapshots/95cde7b0316fd420d6fb7496c41f56fb9a1711d3/generation_config.json\n",
      "[INFO|configuration_utils.py:1099] 2024-11-08 16:23:54,237 >> Generate config GenerationConfig {\n",
      "  \"bos_token_id\": 151643,\n",
      "  \"do_sample\": true,\n",
      "  \"eos_token_id\": [\n",
      "    151645,\n",
      "    151643\n",
      "  ],\n",
      "  \"pad_token_id\": 151643,\n",
      "  \"repetition_penalty\": 1.05,\n",
      "  \"temperature\": 0.7,\n",
      "  \"top_k\": 20,\n",
      "  \"top_p\": 0.8\n",
      "}\n",
      "\n"
     ]
    },
    {
     "name": "stdout",
     "output_type": "stream",
     "text": [
      "11/08/2024 16:23:54 - INFO - llamafactory.model.model_utils.attention - Using torch SDPA for faster training and inference.\n",
      "11/08/2024 16:23:56 - INFO - llamafactory.model.adapter - Loaded adapter(s): /Utilisateurs/umushtaq/emotion_analysis_comics/finetuning/saved_models/comics35_pg_nb_Qwen2.5-72B-Instruct-bnb-4bit\n",
      "11/08/2024 16:23:56 - INFO - llamafactory.model.loader - all params: 72,811,470,848\n"
     ]
    }
   ],
   "source": [
    "model = ChatModel(args)"
   ]
  },
  {
   "cell_type": "code",
   "execution_count": 17,
   "metadata": {},
   "outputs": [
    {
     "data": {
      "text/plain": [
       "<llamafactory.chat.hf_engine.HuggingfaceEngine at 0x7f5db18f8590>"
      ]
     },
     "execution_count": 17,
     "metadata": {},
     "output_type": "execute_result"
    }
   ],
   "source": [
    "model.engine"
   ]
  },
  {
   "cell_type": "code",
   "execution_count": 18,
   "metadata": {},
   "outputs": [
    {
     "data": {
      "text/plain": [
       "'huggingface'"
      ]
     },
     "execution_count": 18,
     "metadata": {},
     "output_type": "execute_result"
    }
   ],
   "source": [
    "model.engine_type"
   ]
  },
  {
   "cell_type": "code",
   "execution_count": 19,
   "metadata": {},
   "outputs": [],
   "source": [
    "with open(test_dataset_file, \"r+\") as fh:\n",
    "    test_dataset = json.load(fh)\n",
    "\n",
    "test_prompts = []\n",
    "test_grounds = []\n",
    "\n",
    "for sample in test_dataset:\n",
    "    test_prompts.append(sample[\"instruction\"] + sample[\"input\"])\n",
    "    test_grounds.append(sample[\"output\"])"
   ]
  },
  {
   "cell_type": "code",
   "execution_count": 20,
   "metadata": {},
   "outputs": [],
   "source": [
    "test_predictions = []"
   ]
  },
  {
   "cell_type": "code",
   "execution_count": 21,
   "metadata": {},
   "outputs": [
    {
     "name": "stderr",
     "output_type": "stream",
     "text": [
      "Running inferences ...: 100%|██████████| 156/156 [28:45<00:00, 11.06s/it]\n"
     ]
    },
    {
     "name": "stderr",
     "output_type": "stream",
     "text": [
      "[WARNING|logging.py:328] 2024-11-08 16:23:57,993 >> Starting from v4.46, the `logits` model output will have the same type as the model (except at train time, where it will always be FP32)\n"
     ]
    }
   ],
   "source": [
    "messages = []\n",
    "\n",
    "for prompt in tqdm(test_prompts, desc=\"Running inferences ...\"):\n",
    "    #print(type(prompt))\n",
    "    #messages.append({\"role\": \"user\", \"content\": prompt})\n",
    "    message = [{\"role\": \"user\", \"content\": prompt}]\n",
    "    test_predictions.append(model.chat(message))"
   ]
  },
  {
   "cell_type": "code",
   "execution_count": 22,
   "metadata": {},
   "outputs": [
    {
     "data": {
      "text/plain": [
       "156"
      ]
     },
     "execution_count": 22,
     "metadata": {},
     "output_type": "execute_result"
    }
   ],
   "source": [
    "len(test_predictions)"
   ]
  },
  {
   "cell_type": "code",
   "execution_count": 23,
   "metadata": {},
   "outputs": [
    {
     "data": {
      "text/plain": [
       "[[Response(response_text='{\"page_utterance_emotions\": [[\"joy\"], [\"joy\"], [\"joy\"], [\"neutral\"], [\"joy\"], [\"joy\"], [\"joy\"], [\"sadness\"], [\"joy\"], [\"joy\"], [\"joy\"]]}', response_length=44, prompt_length=392, finish_reason='stop')],\n",
       " [Response(response_text='{\"page_utterance_emotions\": [[\"neutral\"], [\"neutral\"], [\"anger\"], [\"fear\"], [\"neutral\"], [\"anger\"], [\"anger\"]]}', response_length=32, prompt_length=534, finish_reason='stop')],\n",
       " [Response(response_text='{\"page_utterance_emotions\": [[\"anger\"], [\"anger\"], [\"anger\"], [\"fear\", \"surprise\"], [\"anger\"], [\"neutral\"], [\"anger\"], [\"fear\"], [\"fear\", \"sadness\"], [\"sadness\", \"joy\"], [\"anger\"], [\"anger\", \"sadness\"], [\"anger\"], [\"anger\", \"sadness\"], [\"anger\", \"sadness\"], [\"fear\", \"sadness\"]]}', response_length=90, prompt_length=636, finish_reason='stop')],\n",
       " [Response(response_text='{\"page_utterance_emotions\": [[\"anger\"], [\"anger\"], [\"anger\"], [\"fear\", \"surprise\"], [\"surprise\"], [\"surprise\"], [\"anger\"], [\"anger\"], [\"surprise\"], [\"anger\", \"surprise\"], [\"joy\"], [\"anger\"], [\"anger\", \"sadness\"], [\"anger\", \"sadness\"], [\"anger\", \"sadness\"], [\"anger\", \"sadness\"], [\"sadness\"], [\"anger\", \"sadness\"], [\"surprise\", \"joy\"], [\"anger\"], [\"anger\"]]}', response_length=110, prompt_length=730, finish_reason='stop')],\n",
       " [Response(response_text='{\"page_utterance_emotions\": [[\"anger\"], [\"joy\"], [\"joy\"]]}', response_length=19, prompt_length=367, finish_reason='stop')],\n",
       " [Response(response_text='{\"page_utterance_emotions\": [[\"sadness\"], [\"anger\", \"fear\"], [\"sadness\"], [\"fear\"], [\"joy\"], [\"sadness\"], [\"fear\"], [\"sadness\"], [\"joy\"], [\"sadness\"], [\"fear\"], [\"joy\"], [\"sadness\"], [\"joy\"], [\"joy\"], [\"sadness\"], [\"joy\"], [\"sadness\"], [\"sadness\"], [\"sadness\"]]}', response_length=87, prompt_length=664, finish_reason='stop')],\n",
       " [Response(response_text='{\"page_utterance_emotions\": [[\"sadness\"], [\"anger\", \"sadness\"], [\"neutral\"], [\"neutral\"], [\"neutral\"], [\"neutral\"], [\"neutral\"], [\"neutral\"], [\"neutral\"], [\"neutral\"], [\"neutral\"], [\"neutral\"], [\"neutral\"], [\"neutral\"], [\"neutral\"]]}', response_length=60, prompt_length=708, finish_reason='stop')],\n",
       " [Response(response_text='{\"page_utterance_emotions\": [[\"joy\"], [\"fear\"], [\"anger\"], [\"joy\"], [\"fear\"], [\"anger\", \"fear\"], [\"anger\", \"fear\"], [\"anger\", \"surprise\"], [\"anger\", \"disgust\"], [\"anger\", \"sadness\"], [\"anger\", \"surprise\"], [\"anger\"], [\"anger\"], [\"anger\", \"disgust\", \"sadness\"], [\"anger\", \"surprise\"], [\"sadness\"]]}', response_length=99, prompt_length=572, finish_reason='stop')],\n",
       " [Response(response_text='{\"page_utterance_emotions\": [[\"joy\"], [\"joy\"], [\"joy\"], [\"joy\"], [\"anger\", \"sadness\"], [\"surprise\"], [\"anger\", \"sadness\"], [\"anger\", \"sadness\"], [\"anger\", \"sadness\", \"surprise\"], [\"sadness\"], [\"joy\"], [\"sadness\"]]}', response_length=69, prompt_length=477, finish_reason='stop')],\n",
       " [Response(response_text='{\"page_utterance_emotions\": [[\"anger\"], [\"anger\", \"surprise\"], [\"anger\", \"surprise\"], [\"sadness\"], [\"sadness\"], [\"sadness\"], [\"anger\"], [\"anger\", \"surprise\"], [\"anger\", \"sadness\"], [\"anger\", \"surprise\"], [\"anger\", \"surprise\"]]}', response_length=70, prompt_length=459, finish_reason='stop')],\n",
       " [Response(response_text='{\"page_utterance_emotions\": [[\"neutral\"], [\"neutral\"], [\"neutral\"], [\"neutral\"], [\"neutral\"], [\"neutral\"], [\"neutral\"], [\"neutral\"], [\"neutral\"], [\"anger\"], [\"anger\"], [\"sadness\"], [\"neutral\"], [\"sadness\"]]}', response_length=54, prompt_length=556, finish_reason='stop')],\n",
       " [Response(response_text='{\"page_utterance_emotions\": [[\"joy\"], [\"joy\"], [\"joy\"], [\"joy\"]]}', response_length=22, prompt_length=398, finish_reason='stop')],\n",
       " [Response(response_text='{\"page_utterance_emotions\": [[\"neutral\"], [\"fear\", \"surprise\"], [\"neutral\"], [\"fear\", \"sadness\"], [\"surprise\"], [\"surprise\"], [\"sadness\"], [\"sadness\"], [\"joy\"], [\"fear\", \"sadness\"], [\"sadness\"], [\"neutral\"], [\"neutral\"]]}', response_length=69, prompt_length=489, finish_reason='stop')],\n",
       " [Response(response_text='{\"page_utterance_emotions\": [[\"surprise\"], [\"joy\"], [\"joy\"], [\"disgust\", \"surprise\"], [\"joy\"], [\"joy\"], [\"disgust\", \"surprise\"], [\"surprise\", \"joy\"], [\"sadness\", \"surprise\"]]}', response_length=59, prompt_length=433, finish_reason='stop')],\n",
       " [Response(response_text='{\"page_utterance_emotions\": [[\"neutral\"], [\"anger\"], [\"anger\"], [\"sadness\"], [\"anger\", \"sadness\"], [\"anger\", \"sadness\"], [\"joy\"], [\"joy\"], [\"joy\"], [\"joy\"], [\"joy\"], [\"joy\"], [\"surprise\", \"joy\"], [\"joy\"], [\"joy\"], [\"joy\"], [\"joy\"], [\"anger\"], [\"anger\"], [\"sadness\"], [\"sadness\"], [\"anger\"], [\"joy\"]]}', response_length=94, prompt_length=1012, finish_reason='stop')],\n",
       " [Response(response_text='{\"page_utterance_emotions\": [[\"joy\"], [\"joy\"], [\"joy\"], [\"joy\"], [\"joy\"], [\"joy\"], [\"joy\"], [\"joy\"], [\"joy\"], [\"joy\"], [\"joy\"], [\"joy\"], [\"joy\"], [\"joy\"], [\"joy\"], [\"joy\"], [\"joy\"], [\"joy\"], [\"joy\"], [\"joy\"], [\"joy\"], [\"joy\"], [\"joy\"]]}', response_length=79, prompt_length=664, finish_reason='stop')],\n",
       " [Response(response_text='{\"page_utterance_emotions\": [[\"neutral\"], [\"surprise\"], [\"sadness\"], [\"joy\"], [\"joy\"], [\"sadness\"], [\"joy\"], [\"surprise\"], [\"surprise\"], [\"fear\", \"surprise\"], [\"anger\", \"fear\"], [\"anger\", \"fear\"], [\"anger\", \"fear\"]]}', response_length=71, prompt_length=565, finish_reason='stop')],\n",
       " [Response(response_text='{\"page_utterance_emotions\": [[\"neutral\"], [\"surprise\"], [\"neutral\"], [\"anger\", \"fear\"], [\"sadness\"], [\"sadness\"], [\"sadness\"], [\"surprise\"], [\"anger\", \"sadness\"], [\"anger\"], [\"anger\"], [\"anger\"]]}', response_length=59, prompt_length=547, finish_reason='stop')],\n",
       " [Response(response_text='{\"page_utterance_emotions\": [[\"surprise\"], [\"surprise\", \"joy\"], [\"joy\"], [\"fear\"], [\"fear\"], [\"fear\"], [\"joy\"], [\"joy\"], [\"joy\"], [\"joy\"], [\"joy\"], [\"joy\"], [\"joy\"]]}', response_length=57, prompt_length=638, finish_reason='stop')],\n",
       " [Response(response_text='{\"page_utterance_emotions\": [[\"joy\"], [\"fear\"], [\"fear\", \"sadness\"], [\"surprise\"], [\"sadness\"], [\"fear\", \"sadness\"], [\"fear\", \"surprise\"], [\"joy\"], [\"anger\", \"joy\"], [\"anger\"], [\"anger\", \"surprise\"], [\"joy\"], [\"sadness\"], [\"anger\", \"surprise\"]]}', response_length=82, prompt_length=532, finish_reason='stop')],\n",
       " [Response(response_text='{\"page_utterance_emotions\": [[\"sadness\"], [\"anger\", \"joy\"], [\"anger\", \"sadness\"], [\"anger\", \"sadness\"], [\"anger\"], [\"anger\", \"sadness\", \"surprise\"], [\"sadness\", \"joy\"], [\"anger\", \"joy\"], [\"joy\"], [\"anger\"]]}', response_length=67, prompt_length=444, finish_reason='stop')],\n",
       " [Response(response_text='{\"page_utterance_emotions\": [[\"neutral\"], [\"surprise\", \"joy\"], [\"surprise\"], [\"neutral\"], [\"neutral\"], [\"joy\"], [\"joy\"], [\"neutral\"], [\"neutral\"], [\"neutral\"], [\"neutral\"]]}', response_length=48, prompt_length=550, finish_reason='stop')],\n",
       " [Response(response_text='{\"page_utterance_emotions\": [[\"neutral\"], [\"neutral\"], [\"joy\"], [\"fear\", \"joy\"], [\"joy\"], [\"fear\", \"joy\"], [\"joy\"], [\"joy\"], [\"joy\"], [\"surprise\"], [\"anger\", \"surprise\"]]}', response_length=56, prompt_length=466, finish_reason='stop')],\n",
       " [Response(response_text='{\"page_utterance_emotions\": [[\"fear\", \"surprise\"], [\"fear\", \"surprise\"], [\"neutral\"], [\"fear\", \"surprise\"], [\"fear\", \"surprise\"], [\"anger\", \"surprise\"], [\"anger\", \"fear\"], [\"neutral\"], [\"neutral\"], [\"fear\", \"surprise\"]]}', response_length=73, prompt_length=438, finish_reason='stop')],\n",
       " [Response(response_text='{\"page_utterance_emotions\": [[\"anger\", \"fear\"], [\"anger\", \"fear\"], [\"fear\"], [\"joy\"], [\"joy\"], [\"joy\"], [\"joy\"], [\"fear\"], [\"fear\", \"surprise\"], [\"anger\", \"surprise\"], [\"fear\"], [\"anger\", \"sadness\"], [\"fear\", \"sadness\"]]}', response_length=78, prompt_length=498, finish_reason='stop')],\n",
       " [Response(response_text='{\"page_utterance_emotions\": [[\"anger\"], [\"anger\", \"sadness\"], [\"fear\", \"surprise\"], [\"fear\"], [\"fear\", \"sadness\"], [\"sadness\"], [\"fear\"], [\"surprise\"], [\"fear\", \"surprise\"], [\"surprise\"], [\"sadness\"], [\"sadness\"], [\"anger\", \"sadness\"]]}', response_length=79, prompt_length=495, finish_reason='stop')],\n",
       " [Response(response_text='{\"page_utterance_emotions\": [[\"sadness\"], [\"neutral\"], [\"disgust\"], [\"joy\"], [\"joy\"], [\"anger\", \"sadness\"], [\"surprise\"], [\"neutral\"], [\"joy\"], [\"joy\"], [\"sadness\"], [\"sadness\"], [\"anger\", \"sadness\"]]}', response_length=63, prompt_length=578, finish_reason='stop')],\n",
       " [Response(response_text='{\"page_utterance_emotions\": [[\"neutral\"], [\"joy\"], [\"joy\"], [\"fear\", \"surprise\"], [\"surprise\"], [\"fear\"], [\"surprise\"], [\"fear\"], [\"fear\", \"surprise\"], [\"fear\", \"surprise\"], [\"sadness\", \"surprise\"], [\"joy\"], [\"joy\"], [\"joy\"], [\"joy\"], [\"joy\"], [\"joy\"]]}', response_length=85, prompt_length=756, finish_reason='stop')],\n",
       " [Response(response_text='{\"page_utterance_emotions\": [[\"surprise\"], [\"fear\", \"surprise\"], [\"surprise\"], [\"surprise\"], [\"anger\"], [\"anger\", \"joy\"]]}', response_length=39, prompt_length=405, finish_reason='stop')],\n",
       " [Response(response_text='{\"page_utterance_emotions\": [[\"fear\"], [\"anger\"], [\"anger\"], [\"anger\"]]}', response_length=23, prompt_length=346, finish_reason='stop')],\n",
       " [Response(response_text='{\"page_utterance_emotions\": [[\"anger\", \"joy\"], [\"anger\", \"fear\"], [\"anger\"], [\"anger\"], [\"anger\"], [\"anger\", \"sadness\"]]}', response_length=39, prompt_length=417, finish_reason='stop')],\n",
       " [Response(response_text='{\"page_utterance_emotions\": [[\"anger\", \"fear\"], [\"fear\", \"surprise\"], [\"anger\"], [\"anger\"], [\"anger\", \"sadness\"], [\"fear\", \"surprise\"], [\"anger\"]]}', response_length=49, prompt_length=370, finish_reason='stop')],\n",
       " [Response(response_text='{\"page_utterance_emotions\": [[\"surprise\"], [\"surprise\"], [\"surprise\", \"joy\"], [\"surprise\", \"joy\"], [\"joy\"], [\"joy\"], [\"fear\"], [\"fear\"], [\"fear\"]]}', response_length=50, prompt_length=425, finish_reason='stop')],\n",
       " [Response(response_text='{\"page_utterance_emotions\": [[\"sadness\"], [\"fear\"], [\"sadness\"], [\"sadness\", \"surprise\"], [\"sadness\", \"surprise\"], [\"anger\", \"sadness\", \"surprise\"], [\"anger\", \"fear\"], [\"anger\"], [\"fear\"], [\"anger\"]]}', response_length=66, prompt_length=507, finish_reason='stop')],\n",
       " [Response(response_text='{\"page_utterance_emotions\": [[\"surprise\", \"joy\"], [\"anger\", \"surprise\"], [\"anger\", \"surprise\", \"joy\"], [\"anger\"], [\"anger\", \"sadness\"], [\"anger\", \"disgust\"], [\"anger\"], [\"surprise\"], [\"anger\", \"surprise\"], [\"anger\", \"sadness\"]]}', response_length=73, prompt_length=468, finish_reason='stop')],\n",
       " [Response(response_text='{\"page_utterance_emotions\": [[\"anger\", \"surprise\"], [\"joy\"], [\"fear\", \"sadness\"], [\"fear\", \"sadness\"], [\"joy\"], [\"anger\", \"surprise\"], [\"anger\", \"surprise\"], [\"anger\", \"fear\"], [\"joy\"]]}', response_length=63, prompt_length=466, finish_reason='stop')],\n",
       " [Response(response_text='{\"page_utterance_emotions\": [[\"joy\"], [\"fear\"], [\"joy\"], [\"surprise\"], [\"neutral\"], [\"neutral\"], [\"surprise\"], [\"surprise\"], [\"fear\", \"sadness\"], [\"sadness\", \"surprise\"], [\"neutral\"], [\"sadness\"], [\"sadness\"], [\"surprise\"], [\"sadness\"], [\"sadness\", \"joy\"], [\"sadness\", \"joy\"]]}', response_length=87, prompt_length=657, finish_reason='stop')],\n",
       " [Response(response_text='{\"page_utterance_emotions\": [[\"fear\", \"surprise\"], [\"fear\", \"surprise\"], [\"fear\", \"surprise\"], [\"fear\", \"surprise\"], [\"fear\"]]}', response_length=46, prompt_length=366, finish_reason='stop')],\n",
       " [Response(response_text='{\"page_utterance_emotions\": [[\"fear\"]]}', response_length=14, prompt_length=312, finish_reason='stop')],\n",
       " [Response(response_text='{\"page_utterance_emotions\": [[\"anger\", \"joy\"], [\"anger\", \"surprise\"]]}', response_length=23, prompt_length=312, finish_reason='stop')],\n",
       " [Response(response_text='{\"page_utterance_emotions\": [[\"anger\", \"surprise\"], [\"anger\", \"surprise\"], [\"anger\", \"surprise\"], [\"anger\", \"surprise\"], [\"anger\", \"sadness\"], [\"anger\", \"disgust\", \"sadness\"]]}', response_length=57, prompt_length=430, finish_reason='stop')],\n",
       " [Response(response_text='{\"page_utterance_emotions\": [[\"anger\", \"surprise\"], [\"fear\"], [\"anger\", \"fear\"], [\"anger\"], [\"anger\", \"disgust\"]]}', response_length=39, prompt_length=376, finish_reason='stop')],\n",
       " [Response(response_text='{\"page_utterance_emotions\": [[\"anger\", \"surprise\"], [\"anger\", \"surprise\"]]}', response_length=24, prompt_length=332, finish_reason='stop')],\n",
       " [Response(response_text='{\"page_utterance_emotions\": [[\"anger\"], [\"surprise\"], [\"anger\"], [\"anger\", \"sadness\"], [\"surprise\"], [\"anger\"], [\"anger\"], [\"anger\", \"sadness\"]]}', response_length=44, prompt_length=416, finish_reason='stop')],\n",
       " [Response(response_text='{\"page_utterance_emotions\": [[\"anger\", \"disgust\"], [\"anger\", \"disgust\"], [\"disgust\", \"surprise\"], [\"anger\"], [\"surprise\", \"joy\"], [\"surprise\", \"joy\"], [\"anger\", \"surprise\"]]}', response_length=59, prompt_length=381, finish_reason='stop')],\n",
       " [Response(response_text='{\"page_utterance_emotions\": [[\"anger\", \"fear\"], [\"fear\"], [\"anger\"], [\"anger\", \"sadness\"], [\"fear\"], [\"fear\"], [\"sadness\"], [\"sadness\", \"surprise\"], [\"sadness\", \"surprise\"], [\"anger\", \"surprise\"], [\"sadness\"], [\"surprise\", \"joy\"], [\"anger\"]]}', response_length=80, prompt_length=512, finish_reason='stop')],\n",
       " [Response(response_text='{\"page_utterance_emotions\": [[\"disgust\"], [\"disgust\"], [\"disgust\", \"joy\"], [\"joy\"], [\"anger\"], [\"fear\", \"surprise\"], [\"anger\", \"fear\"], [\"anger\", \"sadness\"], [\"sadness\", \"surprise\"], [\"joy\"], [\"surprise\"]]}', response_length=71, prompt_length=470, finish_reason='stop')],\n",
       " [Response(response_text='{\"page_utterance_emotions\": [[\"anger\", \"sadness\"], [\"anger\"], [\"anger\", \"fear\"], [\"anger\", \"disgust\"]]}', response_length=35, prompt_length=372, finish_reason='stop')],\n",
       " [Response(response_text='{\"page_utterance_emotions\": [[\"fear\"], [\"fear\", \"surprise\"]]}', response_length=22, prompt_length=326, finish_reason='stop')],\n",
       " [Response(response_text='{\"page_utterance_emotions\": [[\"anger\"], [\"fear\", \"surprise\"], [\"anger\"], [\"anger\", \"sadness\"], [\"anger\"], [\"surprise\", \"joy\"], [\"disgust\", \"surprise\"], [\"surprise\", \"joy\"], [\"anger\"], [\"anger\"]]}', response_length=63, prompt_length=443, finish_reason='stop')],\n",
       " [Response(response_text='{\"page_utterance_emotions\": [[\"anger\"], [\"joy\"], [\"surprise\", \"joy\"]]}', response_length=23, prompt_length=327, finish_reason='stop')],\n",
       " [Response(response_text='{\"page_utterance_emotions\": [[\"anger\", \"fear\"], [\"sadness\"], [\"fear\", \"sadness\"], [\"anger\"], [\"surprise\"], [\"anger\"], [\"anger\"], [\"anger\", \"joy\"]]}', response_length=48, prompt_length=432, finish_reason='stop')],\n",
       " [Response(response_text='{\"page_utterance_emotions\": [[\"fear\", \"surprise\"], [\"joy\"], [\"joy\"], [\"joy\"], [\"joy\"], [\"anger\", \"sadness\"], [\"anger\", \"sadness\"], [\"anger\", \"sadness\"], [\"anger\", \"sadness\"], [\"surprise\", \"joy\"], [\"joy\"]]}', response_length=68, prompt_length=537, finish_reason='stop')],\n",
       " [Response(response_text='{\"page_utterance_emotions\": [[\"anger\", \"fear\"], [\"anger\", \"fear\"], [\"anger\", \"joy\"]]}', response_length=30, prompt_length=362, finish_reason='stop')],\n",
       " [Response(response_text='{\"page_utterance_emotions\": [[\"fear\", \"surprise\"], [\"fear\", \"sadness\"], [\"fear\", \"sadness\"], [\"fear\", \"surprise\"], [\"fear\", \"sadness\"], [\"fear\", \"sadness\"], [\"fear\", \"sadness\"]]}', response_length=66, prompt_length=475, finish_reason='stop')],\n",
       " [Response(response_text='{\"page_utterance_emotions\": [[\"fear\", \"sadness\"], [\"fear\", \"surprise\"], [\"fear\", \"surprise\"], [\"anger\", \"surprise\"], [\"anger\"], [\"fear\", \"surprise\"], [\"fear\", \"surprise\"], [\"anger\"]]}', response_length=63, prompt_length=448, finish_reason='stop')],\n",
       " [Response(response_text='{\"page_utterance_emotions\": [[\"fear\", \"sadness\"], [\"surprise\", \"joy\"], [\"surprise\", \"joy\"], [\"anger\", \"surprise\"], [\"sadness\", \"surprise\"], [\"fear\", \"sadness\"], [\"disgust\", \"joy\"]]}', response_length=63, prompt_length=445, finish_reason='stop')],\n",
       " [Response(response_text='{\"page_utterance_emotions\": [[\"sadness\"], [\"sadness\"], [\"sadness\"], [\"sadness\"]]}', response_length=26, prompt_length=387, finish_reason='stop')],\n",
       " [Response(response_text='{\"page_utterance_emotions\": [[\"surprise\"], [\"neutral\"], [\"neutral\"], [\"neutral\"], [\"neutral\"], [\"anger\", \"sadness\"]]}', response_length=33, prompt_length=434, finish_reason='stop')],\n",
       " [Response(response_text='{\"page_utterance_emotions\": [[\"joy\"], [\"anger\", \"sadness\"], [\"surprise\", \"joy\"], [\"joy\"], [\"anger\", \"sadness\"], [\"surprise\", \"joy\"]]}', response_length=44, prompt_length=405, finish_reason='stop')],\n",
       " [Response(response_text='{\"page_utterance_emotions\": [[\"sadness\"], [\"sadness\"], [\"sadness\", \"joy\"], [\"sadness\", \"joy\"]]}', response_length=32, prompt_length=394, finish_reason='stop')],\n",
       " [Response(response_text='{\"page_utterance_emotions\": [[\"sadness\"], [\"fear\", \"surprise\"], [\"sadness\", \"surprise\"], [\"sadness\", \"surprise\"]]}', response_length=38, prompt_length=348, finish_reason='stop')],\n",
       " [Response(response_text='{\"page_utterance_emotions\": [[\"sadness\"], [\"sadness\"], [\"sadness\"], [\"sadness\"], [\"sadness\"], [\"sadness\"], [\"sadness\"]]}', response_length=38, prompt_length=445, finish_reason='stop')],\n",
       " [Response(response_text='{\"page_utterance_emotions\": [[\"sadness\"], [\"joy\"], [\"joy\"], [\"joy\"], [\"joy\"], [\"joy\"], [\"sadness\"]]}', response_length=33, prompt_length=440, finish_reason='stop')],\n",
       " [Response(response_text='{\"page_utterance_emotions\": [[\"fear\"], [\"fear\", \"surprise\"], [\"surprise\"], [\"surprise\"], [\"sadness\"], [\"disgust\", \"sadness\"], [\"anger\"]]}', response_length=46, prompt_length=402, finish_reason='stop')],\n",
       " [Response(response_text='{\"page_utterance_emotions\": [[\"surprise\", \"joy\"], [\"joy\"], [\"joy\"], [\"joy\"], [\"fear\", \"surprise\"], [\"anger\"], [\"joy\"], [\"joy\"]]}', response_length=43, prompt_length=463, finish_reason='stop')],\n",
       " [Response(response_text='{\"page_utterance_emotions\": [[\"anger\", \"fear\"], [\"anger\", \"fear\", \"surprise\"], [\"anger\", \"fear\"]]}', response_length=35, prompt_length=313, finish_reason='stop')],\n",
       " [Response(response_text='{\"page_utterance_emotions\": [[\"joy\"], [\"joy\"], [\"anger\", \"sadness\"], [\"fear\", \"sadness\"], [\"sadness\"], [\"fear\", \"surprise\"], [\"sadness\"], [\"joy\"], [\"joy\"]]}', response_length=53, prompt_length=417, finish_reason='stop')],\n",
       " [Response(response_text='{\"page_utterance_emotions\": [[\"sadness\"], [\"disgust\", \"sadness\"], [\"disgust\", \"sadness\"], [\"disgust\", \"sadness\"]]}', response_length=41, prompt_length=353, finish_reason='stop')],\n",
       " [Response(response_text='{\"page_utterance_emotions\": [[\"anger\", \"sadness\"], [\"anger\", \"sadness\"], [\"anger\", \"sadness\"], [\"anger\", \"sadness\"], [\"anger\", \"sadness\"], [\"anger\", \"sadness\"]]}', response_length=52, prompt_length=446, finish_reason='stop')],\n",
       " [Response(response_text='{\"page_utterance_emotions\": [[\"joy\"], [\"surprise\", \"joy\"]]}', response_length=20, prompt_length=315, finish_reason='stop')],\n",
       " [Response(response_text='{\"page_utterance_emotions\": [[\"sadness\"], [\"sadness\"], [\"sadness\"], [\"sadness\"], [\"sadness\"], [\"sadness\"], [\"sadness\"], [\"sadness\"]]}', response_length=42, prompt_length=411, finish_reason='stop')],\n",
       " [Response(response_text='{\"page_utterance_emotions\": [[\"disgust\", \"sadness\"], [\"disgust\", \"sadness\"], [\"sadness\"], [\"sadness\"], [\"sadness\"]]}', response_length=40, prompt_length=353, finish_reason='stop')],\n",
       " [Response(response_text='{\"page_utterance_emotions\": [[\"fear\"], [\"anger\"], [\"sadness\", \"surprise\"], [\"sadness\", \"surprise\"], [\"joy\"], [\"fear\"]]}', response_length=40, prompt_length=365, finish_reason='stop')],\n",
       " [Response(response_text='{\"page_utterance_emotions\": [[\"fear\", \"surprise\"], [\"fear\", \"surprise\"]]}', response_length=26, prompt_length=315, finish_reason='stop')],\n",
       " [Response(response_text='{\"page_utterance_emotions\": [[\"anger\", \"fear\"], [\"anger\", \"surprise\"]]}', response_length=24, prompt_length=312, finish_reason='stop')],\n",
       " [Response(response_text='{\"page_utterance_emotions\": [[\"anger\"], [\"joy\"], [\"anger\"], [\"anger\"], [\"surprise\"], [\"neutral\"], [\"surprise\", \"joy\"]]}', response_length=36, prompt_length=399, finish_reason='stop')],\n",
       " [Response(response_text='{\"page_utterance_emotions\": [[\"anger\", \"fear\"], [\"anger\", \"fear\", \"surprise\"], [\"neutral\"], [\"surprise\"], [\"fear\"], [\"disgust\", \"fear\", \"sadness\"]]}', response_length=52, prompt_length=378, finish_reason='stop')],\n",
       " [Response(response_text='{\"page_utterance_emotions\": [[\"anger\", \"disgust\"], [\"surprise\", \"joy\"]]}', response_length=25, prompt_length=322, finish_reason='stop')],\n",
       " [Response(response_text='{\"page_utterance_emotions\": [[\"anger\"], [\"anger\", \"surprise\"], [\"anger\"], [\"anger\"], [\"anger\", \"surprise\"], [\"anger\"], [\"anger\"], [\"anger\", \"surprise\"]]}', response_length=46, prompt_length=437, finish_reason='stop')],\n",
       " [Response(response_text='{\"page_utterance_emotions\": [[\"anger\", \"disgust\"], [\"sadness\"], [\"anger\", \"sadness\"], [\"anger\"], [\"anger\"], [\"sadness\"], [\"anger\", \"disgust\"], [\"anger\"]]}', response_length=50, prompt_length=550, finish_reason='stop')],\n",
       " [Response(response_text='{\"page_utterance_emotions\": [[\"surprise\"], [\"surprise\"], [\"anger\"], [\"anger\", \"surprise\"], [\"surprise\"], [\"joy\"], [\"anger\", \"surprise\"], [\"joy\"], [\"joy\"], [\"joy\"], [\"anger\", \"sadness\"], [\"anger\", \"sadness\", \"surprise\"]]}', response_length=69, prompt_length=480, finish_reason='stop')],\n",
       " [Response(response_text='{\"page_utterance_emotions\": [[\"sadness\"], [\"sadness\", \"surprise\"], [\"fear\", \"joy\"], [\"fear\", \"surprise\"], [\"fear\", \"sadness\"], [\"anger\", \"sadness\"], [\"anger\", \"surprise\"], [\"surprise\"], [\"anger\"], [\"anger\"]]}', response_length=69, prompt_length=425, finish_reason='stop')],\n",
       " [Response(response_text='{\"page_utterance_emotions\": [[\"anger\", \"sadness\"], [\"anger\", \"sadness\"], [\"anger\", \"sadness\"], [\"fear\"], [\"anger\", \"fear\"], [\"anger\"], [\"anger\"], [\"surprise\"], [\"anger\", \"sadness\"]]}', response_length=59, prompt_length=417, finish_reason='stop')],\n",
       " [Response(response_text='{\"page_utterance_emotions\": [[\"anger\"], [\"anger\"], [\"anger\"], [\"joy\"], [\"joy\"], [\"joy\"], [\"joy\"], [\"joy\"], [\"joy\"], [\"joy\"], [\"joy\"], [\"anger\"], [\"surprise\"], [\"anger\"], [\"anger\", \"joy\"]]}', response_length=59, prompt_length=629, finish_reason='stop')],\n",
       " [Response(response_text='{\"page_utterance_emotions\": [[\"neutral\"], [\"anger\"], [\"anger\"], [\"anger\"], [\"anger\"], [\"sadness\"], [\"joy\"], [\"neutral\"], [\"joy\"], [\"fear\", \"surprise\"], [\"surprise\"], [\"joy\"]]}', response_length=53, prompt_length=516, finish_reason='stop')],\n",
       " [Response(response_text='{\"page_utterance_emotions\": [[\"neutral\"], [\"fear\"], [\"fear\", \"surprise\"], [\"fear\", \"surprise\"], [\"joy\"], [\"joy\"], [\"anger\"], [\"sadness\"], [\"sadness\"], [\"anger\", \"sadness\"]]}', response_length=57, prompt_length=495, finish_reason='stop')],\n",
       " [Response(response_text='{\"page_utterance_emotions\": [[\"fear\", \"surprise\"], [\"fear\", \"surprise\"], [\"fear\", \"surprise\"], [\"anger\", \"disgust\"], [\"sadness\"], [\"surprise\", \"joy\"], [\"joy\"], [\"disgust\"], [\"anger\"], [\"anger\"], [\"surprise\", \"joy\"], [\"anger\"], [\"anger\"], [\"surprise\"], [\"joy\"]]}', response_length=87, prompt_length=543, finish_reason='stop')],\n",
       " [Response(response_text='{\"page_utterance_emotions\": [[\"anger\", \"sadness\"], [\"joy\"], [\"anger\", \"joy\"], [\"anger\", \"joy\"], [\"surprise\"], [\"neutral\"], [\"neutral\"], [\"neutral\"], [\"joy\"], [\"joy\"]]}', response_length=51, prompt_length=487, finish_reason='stop')],\n",
       " [Response(response_text='{\"page_utterance_emotions\": [[\"fear\", \"surprise\"]]}', response_length=18, prompt_length=309, finish_reason='stop')],\n",
       " [Response(response_text='{\"page_utterance_emotions\": [[\"joy\"], [\"joy\"]]}', response_length=16, prompt_length=332, finish_reason='stop')],\n",
       " [Response(response_text='{\"page_utterance_emotions\": [[\"joy\"], [\"joy\"], [\"joy\"], [\"fear\"], [\"fear\"], [\"fear\"], [\"fear\", \"sadness\"], [\"fear\"]]}', response_length=43, prompt_length=454, finish_reason='stop')],\n",
       " [Response(response_text='{\"page_utterance_emotions\": [[\"joy\"], [\"surprise\", \"joy\"], [\"anger\"], [\"anger\", \"disgust\"], [\"anger\", \"disgust\"], [\"fear\"], [\"surprise\"], [\"surprise\"]]}', response_length=51, prompt_length=405, finish_reason='stop')],\n",
       " [Response(response_text='{\"page_utterance_emotions\": [[\"fear\", \"surprise\"], [\"fear\"], [\"fear\"]]}', response_length=26, prompt_length=312, finish_reason='stop')],\n",
       " [Response(response_text='{\"page_utterance_emotions\": [[\"fear\"], [\"fear\", \"joy\"], [\"fear\", \"joy\"], [\"fear\", \"joy\"], [\"fear\", \"surprise\"], [\"surprise\", \"joy\"]]}', response_length=50, prompt_length=352, finish_reason='stop')],\n",
       " [Response(response_text='{\"page_utterance_emotions\": [[\"anger\"], [\"fear\"], [\"fear\"], [\"anger\", \"joy\"]]}', response_length=27, prompt_length=332, finish_reason='stop')],\n",
       " [Response(response_text='{\"page_utterance_emotions\": [[\"sadness\", \"surprise\"]]}', response_length=18, prompt_length=306, finish_reason='stop')],\n",
       " [Response(response_text='{\"page_utterance_emotions\": [[\"fear\", \"surprise\"], [\"sadness\"], [\"fear\", \"surprise\"], [\"sadness\"], [\"neutral\"], [\"fear\", \"surprise\"], [\"sadness\"], [\"fear\", \"surprise\"], [\"neutral\"], [\"fear\", \"surprise\"]]}', response_length=68, prompt_length=646, finish_reason='stop')],\n",
       " [Response(response_text='{\"page_utterance_emotions\": [[\"neutral\"], [\"anger\", \"disgust\"], [\"sadness\", \"surprise\"], [\"neutral\"], [\"sadness\", \"surprise\"], [\"sadness\"], [\"sadness\"], [\"sadness\"]]}', response_length=52, prompt_length=598, finish_reason='stop')],\n",
       " [Response(response_text='{\"page_utterance_emotions\": [[\"joy\"], [\"sadness\", \"joy\"], [\"surprise\"], [\"sadness\"], [\"sadness\", \"joy\"], [\"anger\"], [\"joy\"], [\"joy\"], [\"joy\"], [\"disgust\"], [\"joy\"], [\"anger\", \"sadness\"], [\"sadness\", \"joy\"]]}', response_length=69, prompt_length=573, finish_reason='stop')],\n",
       " [Response(response_text='{\"page_utterance_emotions\": [[\"joy\"], [\"fear\", \"surprise\"], [\"surprise\"]]}', response_length=25, prompt_length=335, finish_reason='stop')],\n",
       " [Response(response_text='{\"page_utterance_emotions\": [[\"fear\", \"surprise\"], [\"fear\", \"surprise\"], [\"fear\", \"surprise\"], [\"joy\"], [\"joy\"], [\"fear\"], [\"fear\"]]}', response_length=48, prompt_length=359, finish_reason='stop')],\n",
       " [Response(response_text='{\"page_utterance_emotions\": [[\"surprise\"], [\"anger\", \"surprise\"]]}', response_length=21, prompt_length=318, finish_reason='stop')],\n",
       " [Response(response_text='{\"page_utterance_emotions\": [[\"fear\", \"surprise\"], [\"anger\", \"fear\", \"sadness\"], [\"joy\"], [\"anger\", \"sadness\"], [\"sadness\"], [\"sadness\"], [\"neutral\"], [\"fear\"], [\"fear\"], [\"fear\"], [\"fear\", \"sadness\"], [\"fear\", \"sadness\"], [\"fear\", \"sadness\"]]}', response_length=86, prompt_length=699, finish_reason='stop')],\n",
       " [Response(response_text='{\"page_utterance_emotions\": [[\"joy\"], [\"joy\"], [\"disgust\", \"sadness\"], [\"disgust\", \"sadness\"], [\"anger\", \"fear\"], [\"joy\"], [\"anger\", \"surprise\", \"joy\"], [\"joy\"]]}', response_length=57, prompt_length=549, finish_reason='stop')],\n",
       " [Response(response_text='{\"page_utterance_emotions\": [[\"anger\", \"sadness\"], [\"anger\", \"fear\", \"sadness\"], [\"fear\", \"surprise\"], [\"fear\", \"surprise\", \"joy\"], [\"surprise\", \"joy\"], [\"surprise\"]]}', response_length=58, prompt_length=467, finish_reason='stop')],\n",
       " [Response(response_text='{\"page_utterance_emotions\": [[\"sadness\", \"surprise\"], [\"surprise\", \"joy\"], [\"sadness\", \"surprise\"], [\"sadness\", \"surprise\"], [\"sadness\"]]}', response_length=45, prompt_length=368, finish_reason='stop')],\n",
       " [Response(response_text='{\"page_utterance_emotions\": [[\"fear\", \"sadness\"], [\"fear\", \"sadness\"], [\"anger\", \"fear\", \"sadness\"], [\"surprise\"], [\"surprise\"], [\"anger\", \"fear\", \"sadness\"], [\"anger\", \"fear\", \"sadness\"], [\"fear\", \"sadness\"]]}', response_length=75, prompt_length=409, finish_reason='stop')],\n",
       " [Response(response_text='{\"page_utterance_emotions\": [[\"sadness\"], [\"anger\", \"fear\"], [\"anger\", \"fear\"], [\"anger\", \"fear\"], [\"anger\", \"disgust\", \"fear\"], [\"anger\", \"fear\"], [\"anger\", \"fear\"]]}', response_length=61, prompt_length=452, finish_reason='stop')],\n",
       " [Response(response_text='{\"page_utterance_emotions\": [[\"anger\", \"disgust\"], [\"anger\", \"disgust\", \"surprise\"], [\"anger\", \"disgust\"], [\"sadness\", \"surprise\"]]}', response_length=46, prompt_length=409, finish_reason='stop')],\n",
       " [Response(response_text='{\"page_utterance_emotions\": [[\"anger\"], [\"sadness\"], [\"sadness\"], [\"anger\", \"fear\"], [\"anger\", \"fear\"], [\"fear\", \"surprise\"]]}', response_length=43, prompt_length=395, finish_reason='stop')],\n",
       " [Response(response_text='{\"page_utterance_emotions\": [[\"joy\"]]}', response_length=13, prompt_length=303, finish_reason='stop')],\n",
       " [Response(response_text='{\"page_utterance_emotions\": [[\"anger\", \"fear\", \"surprise\"], [\"anger\", \"fear\", \"surprise\"], [\"anger\", \"fear\"], [\"anger\", \"fear\", \"surprise\"], [\"anger\", \"fear\", \"surprise\"], [\"surprise\"]]}', response_length=65, prompt_length=372, finish_reason='stop')],\n",
       " [Response(response_text='{\"page_utterance_emotions\": [[\"anger\"]]}', response_length=13, prompt_length=304, finish_reason='stop')],\n",
       " [Response(response_text='{\"page_utterance_emotions\": [[\"sadness\"], [\"sadness\"], [\"sadness\"]]}', response_length=22, prompt_length=379, finish_reason='stop')],\n",
       " [Response(response_text='{\"page_utterance_emotions\": [[\"sadness\"], [\"sadness\"], [\"sadness\"], [\"sadness\"], [\"sadness\"], [\"fear\", \"sadness\"], [\"sadness\"], [\"fear\", \"sadness\"], [\"fear\", \"sadness\"], [\"fear\", \"sadness\"], [\"anger\", \"sadness\"], [\"fear\", \"sadness\"], [\"sadness\"]]}', response_length=85, prompt_length=689, finish_reason='stop')],\n",
       " [Response(response_text='{\"page_utterance_emotions\": [[\"sadness\"], [\"sadness\"], [\"sadness\"], [\"sadness\"], [\"sadness\"], [\"sadness\", \"joy\"], [\"sadness\", \"joy\"], [\"sadness\", \"joy\"], [\"sadness\", \"joy\"]]}', response_length=58, prompt_length=608, finish_reason='stop')],\n",
       " [Response(response_text='{\"page_utterance_emotions\": [[\"fear\", \"sadness\"], [\"fear\", \"sadness\"], [\"surprise\"], [\"fear\", \"sadness\"], [\"sadness\"], [\"sadness\"], [\"anger\", \"sadness\"], [\"sadness\"], [\"sadness\"]]}', response_length=61, prompt_length=423, finish_reason='stop')],\n",
       " [Response(response_text='{\"page_utterance_emotions\": [[\"sadness\"], [\"sadness\"], [\"sadness\"], [\"anger\", \"sadness\"], [\"sadness\"], [\"sadness\"], [\"sadness\"], [\"anger\", \"sadness\"], [\"sadness\"], [\"sadness\"], [\"sadness\", \"surprise\"], [\"sadness\"]]}', response_length=68, prompt_length=579, finish_reason='stop')],\n",
       " [Response(response_text='{\"page_utterance_emotions\": [[\"joy\"], [\"joy\"], [\"fear\", \"joy\"], [\"neutral\"], [\"surprise\"], [\"neutral\"], [\"fear\", \"sadness\"], [\"fear\", \"sadness\"], [\"fear\", \"sadness\"], [\"sadness\"], [\"fear\", \"sadness\"], [\"fear\"], [\"surprise\"]]}', response_length=77, prompt_length=563, finish_reason='stop')],\n",
       " [Response(response_text='{\"page_utterance_emotions\": [[\"anger\", \"surprise\"], [\"anger\", \"surprise\"], [\"fear\"], [\"anger\", \"fear\"], [\"neutral\"], [\"neutral\"], [\"surprise\"], [\"neutral\"], [\"fear\", \"sadness\"], [\"sadness\"], [\"neutral\"], [\"anger\", \"fear\"], [\"anger\", \"fear\"], [\"neutral\"], [\"fear\", \"sadness\"], [\"sadness\"], [\"neutral\"]]}', response_length=95, prompt_length=557, finish_reason='stop')],\n",
       " [Response(response_text='{\"page_utterance_emotions\": [[\"anger\"], [\"anger\"], [\"anger\"], [\"anger\"], [\"anger\"], [\"fear\"], [\"fear\"], [\"joy\"], [\"joy\"], [\"joy\"], [\"joy\"], [\"joy\"], [\"surprise\"], [\"surprise\"], [\"joy\"], [\"joy\"], [\"joy\"], [\"surprise\"], [\"surprise\"]]}', response_length=73, prompt_length=760, finish_reason='stop')],\n",
       " [Response(response_text='{\"page_utterance_emotions\": [[\"fear\", \"surprise\"], [\"joy\"], [\"joy\"], [\"fear\", \"joy\"], [\"joy\"], [\"joy\"], [\"sadness\", \"surprise\"], [\"sadness\", \"joy\"], [\"sadness\"], [\"sadness\"], [\"anger\", \"joy\"], [\"anger\", \"joy\"], [\"joy\"]]}', response_length=75, prompt_length=551, finish_reason='stop')],\n",
       " [Response(response_text='{\"page_utterance_emotions\": [[\"surprise\"], [\"neutral\"], [\"neutral\"], [\"sadness\"], [\"sadness\"], [\"surprise\"], [\"sadness\", \"surprise\"], [\"sadness\"], [\"sadness\"], [\"sadness\", \"surprise\"], [\"sadness\", \"joy\"]]}', response_length=63, prompt_length=512, finish_reason='stop')],\n",
       " [Response(response_text='{\"page_utterance_emotions\": [[\"surprise\"], [\"joy\"], [\"neutral\"], [\"sadness\"], [\"surprise\"], [\"sadness\"], [\"anger\", \"sadness\"], [\"sadness\"], [\"sadness\"], [\"surprise\"], [\"sadness\"], [\"sadness\"], [\"surprise\", \"joy\"], [\"joy\"]]}', response_length=69, prompt_length=599, finish_reason='stop')],\n",
       " [Response(response_text='{\"page_utterance_emotions\": [[\"fear\", \"sadness\"], [\"fear\", \"sadness\"], [\"fear\", \"sadness\"], [\"anger\"], [\"sadness\"], [\"sadness\", \"surprise\"], [\"sadness\", \"surprise\"], [\"anger\", \"sadness\"], [\"anger\", \"sadness\"], [\"surprise\"]]}', response_length=75, prompt_length=475, finish_reason='stop')],\n",
       " [Response(response_text='{\"page_utterance_emotions\": [[\"anger\", \"surprise\"], [\"anger\", \"surprise\"], [\"anger\"], [\"anger\"], [\"anger\"], [\"anger\"], [\"anger\", \"sadness\"], [\"anger\", \"fear\"], [\"anger\"], [\"anger\"], [\"anger\", \"fear\"], [\"anger\", \"fear\"], [\"fear\"]]}', response_length=74, prompt_length=557, finish_reason='stop')],\n",
       " [Response(response_text='{\"page_utterance_emotions\": [[\"anger\"], [\"anger\", \"sadness\"], [\"anger\", \"sadness\"], [\"anger\", \"sadness\"], [\"anger\", \"sadness\"], [\"anger\"], [\"anger\"], [\"anger\"], [\"surprise\"], [\"anger\", \"sadness\"], [\"anger\", \"sadness\"], [\"anger\"]]}', response_length=71, prompt_length=663, finish_reason='stop')],\n",
       " [Response(response_text='{\"page_utterance_emotions\": [[\"anger\"], [\"anger\"], [\"anger\"], [\"anger\"], [\"anger\"], [\"anger\"], [\"anger\"]]}', response_length=31, prompt_length=432, finish_reason='stop')],\n",
       " [Response(response_text='{\"page_utterance_emotions\": [[\"surprise\"], [\"anger\"], [\"anger\", \"sadness\"], [\"anger\", \"sadness\"], [\"sadness\"], [\"anger\"], [\"anger\"], [\"anger\"], [\"sadness\", \"surprise\"], [\"sadness\", \"surprise\"], [\"fear\", \"surprise\"], [\"sadness\"]]}', response_length=72, prompt_length=564, finish_reason='stop')],\n",
       " [Response(response_text='{\"page_utterance_emotions\": [[\"sadness\"], [\"surprise\"], [\"sadness\"], [\"sadness\"], [\"sadness\"], [\"sadness\"], [\"sadness\", \"surprise\"]]}', response_length=42, prompt_length=381, finish_reason='stop')],\n",
       " [Response(response_text='{\"page_utterance_emotions\": [[\"sadness\"], [\"sadness\"], [\"sadness\", \"joy\"], [\"sadness\", \"joy\"], [\"fear\", \"surprise\"], [\"joy\"], [\"sadness\"], [\"sadness\", \"joy\"]]}', response_length=54, prompt_length=427, finish_reason='stop')],\n",
       " [Response(response_text='{\"page_utterance_emotions\": [[\"anger\", \"joy\"], [\"anger\", \"joy\"], [\"anger\", \"joy\"], [\"anger\", \"joy\"], [\"anger\"], [\"joy\"], [\"disgust\", \"surprise\"], [\"sadness\"], [\"sadness\"], [\"anger\"], [\"anger\"]]}', response_length=63, prompt_length=488, finish_reason='stop')],\n",
       " [Response(response_text='{\"page_utterance_emotions\": [[\"sadness\"], [\"sadness\"], [\"anger\", \"sadness\"], [\"anger\", \"sadness\"], [\"surprise\"], [\"sadness\"], [\"sadness\"], [\"sadness\"]]}', response_length=48, prompt_length=382, finish_reason='stop')],\n",
       " [Response(response_text='{\"page_utterance_emotions\": [[\"fear\", \"surprise\"], [\"fear\"], [\"anger\", \"fear\", \"surprise\"], [\"anger\", \"fear\", \"surprise\"], [\"anger\", \"fear\"], [\"sadness\", \"surprise\", \"joy\"], [\"fear\", \"sadness\"], [\"sadness\", \"joy\"], [\"joy\"]]}', response_length=80, prompt_length=487, finish_reason='stop')],\n",
       " [Response(response_text='{\"page_utterance_emotions\": [[\"anger\"], [\"anger\"], [\"anger\", \"surprise\"]]}', response_length=23, prompt_length=347, finish_reason='stop')],\n",
       " [Response(response_text='{\"page_utterance_emotions\": [[\"fear\"], [\"anger\", \"sadness\"]]}', response_length=21, prompt_length=326, finish_reason='stop')],\n",
       " [Response(response_text='{\"page_utterance_emotions\": [[\"fear\", \"surprise\"], [\"fear\", \"surprise\"], [\"fear\", \"surprise\"], [\"anger\", \"fear\"], [\"anger\", \"fear\", \"surprise\"], [\"fear\", \"surprise\"]]}', response_length=60, prompt_length=368, finish_reason='stop')],\n",
       " [Response(response_text='{\"page_utterance_emotions\": [[\"fear\"], [\"fear\"], [\"fear\", \"sadness\"], [\"surprise\", \"joy\"], [\"fear\", \"surprise\"], [\"anger\"], [\"fear\", \"surprise\"]]}', response_length=52, prompt_length=370, finish_reason='stop')],\n",
       " [Response(response_text='{\"page_utterance_emotions\": [[\"fear\", \"surprise\"], [\"fear\", \"surprise\"], [\"fear\", \"surprise\"], [\"fear\", \"sadness\"], [\"anger\", \"fear\"], [\"anger\"]]}', response_length=52, prompt_length=364, finish_reason='stop')],\n",
       " [Response(response_text='{\"page_utterance_emotions\": [[\"anger\", \"surprise\"], [\"anger\", \"surprise\"], [\"anger\", \"surprise\"], [\"anger\", \"disgust\", \"surprise\"], [\"anger\", \"fear\", \"surprise\"], [\"anger\", \"fear\"]]}', response_length=61, prompt_length=373, finish_reason='stop')],\n",
       " [Response(response_text='{\"page_utterance_emotions\": [[\"anger\"], [\"fear\"], [\"anger\"], [\"anger\"], [\"fear\", \"surprise\"], [\"anger\"]]}', response_length=34, prompt_length=359, finish_reason='stop')],\n",
       " [Response(response_text='{\"page_utterance_emotions\": [[\"anger\", \"fear\"], [\"anger\", \"fear\", \"surprise\"], [\"anger\"], [\"anger\", \"surprise\"], [\"anger\", \"surprise\"]]}', response_length=45, prompt_length=339, finish_reason='stop')],\n",
       " [Response(response_text='{\"page_utterance_emotions\": [[\"fear\", \"sadness\"], [\"fear\", \"sadness\"], [\"fear\", \"surprise\"], [\"fear\", \"surprise\"], [\"anger\", \"fear\"], [\"anger\"]]}', response_length=52, prompt_length=386, finish_reason='stop')],\n",
       " [Response(response_text='{\"page_utterance_emotions\": [[\"anger\", \"sadness\"], [\"anger\", \"sadness\"], [\"anger\", \"fear\"], [\"anger\", \"fear\", \"surprise\"]]}', response_length=42, prompt_length=328, finish_reason='stop')],\n",
       " [Response(response_text='{\"page_utterance_emotions\": [[\"anger\", \"fear\", \"surprise\"], [\"anger\"], [\"fear\", \"surprise\"], [\"fear\", \"surprise\"], [\"surprise\"], [\"fear\", \"surprise\"], [\"fear\", \"surprise\"], [\"anger\"], [\"anger\", \"joy\"], [\"anger\", \"surprise\"], [\"anger\", \"surprise\"], [\"anger\", \"surprise\"]]}', response_length=90, prompt_length=475, finish_reason='stop')],\n",
       " [Response(response_text='{\"page_utterance_emotions\": [[\"joy\"], [\"joy\"], [\"neutral\"], [\"neutral\"], [\"neutral\"], [\"surprise\"], [\"sadness\"], [\"anger\", \"fear\"], [\"joy\"]]}', response_length=43, prompt_length=423, finish_reason='stop')],\n",
       " [Response(response_text='{\"page_utterance_emotions\": [[\"anger\", \"disgust\"], [\"anger\", \"disgust\"], [\"anger\", \"disgust\", \"fear\"], [\"anger\", \"fear\"], [\"anger\", \"fear\"], [\"anger\", \"fear\"]]}', response_length=59, prompt_length=379, finish_reason='stop')],\n",
       " [Response(response_text='{\"page_utterance_emotions\": [[\"anger\", \"fear\", \"surprise\"], [\"surprise\"], [\"anger\", \"fear\"], [\"anger\", \"surprise\"], [\"surprise\"], [\"anger\", \"sadness\"], [\"anger\", \"surprise\"], [\"anger\", \"surprise\"], [\"anger\", \"surprise\"], [\"anger\", \"sadness\"], [\"anger\"], [\"anger\"], [\"anger\", \"surprise\"], [\"anger\"], [\"fear\", \"surprise\"], [\"sadness\", \"surprise\"]]}', response_length=110, prompt_length=505, finish_reason='stop')],\n",
       " [Response(response_text='{\"page_utterance_emotions\": [[\"anger\", \"surprise\"], [\"anger\", \"sadness\"], [\"anger\"], [\"anger\", \"surprise\"], [\"anger\"], [\"anger\"], [\"fear\", \"surprise\"], [\"anger\", \"surprise\"], [\"anger\", \"surprise\"], [\"anger\", \"surprise\"], [\"anger\", \"surprise\"]]}', response_length=76, prompt_length=449, finish_reason='stop')],\n",
       " [Response(response_text='{\"page_utterance_emotions\": [[\"joy\"], [\"joy\"], [\"fear\", \"surprise\"], [\"fear\", \"surprise\"], [\"fear\"], [\"fear\"], [\"fear\"], [\"sadness\"], [\"sadness\"], [\"surprise\"], [\"surprise\"]]}', response_length=60, prompt_length=421, finish_reason='stop')],\n",
       " [Response(response_text='{\"page_utterance_emotions\": [[\"fear\", \"sadness\"], [\"sadness\"], [\"sadness\"], [\"sadness\"], [\"fear\"], [\"fear\"], [\"fear\"], [\"fear\", \"sadness\"], [\"anger\", \"fear\"], [\"sadness\"], [\"sadness\"], [\"fear\", \"sadness\"], [\"sadness\"], [\"joy\"]]}', response_length=80, prompt_length=530, finish_reason='stop')],\n",
       " [Response(response_text='{\"page_utterance_emotions\": [[\"fear\", \"surprise\"], [\"sadness\"], [\"sadness\"], [\"sadness\"], [\"sadness\"], [\"sadness\"], [\"joy\"]]}', response_length=41, prompt_length=437, finish_reason='stop')],\n",
       " [Response(response_text='{\"page_utterance_emotions\": [[\"fear\"], [\"fear\"], [\"anger\", \"surprise\"], [\"neutral\"], [\"sadness\"], [\"sadness\"], [\"anger\", \"fear\", \"surprise\"], [\"anger\", \"fear\", \"surprise\"], [\"anger\"], [\"anger\"], [\"anger\", \"surprise\"]]}', response_length=71, prompt_length=460, finish_reason='stop')],\n",
       " [Response(response_text='{\"page_utterance_emotions\": [[\"anger\", \"sadness\"], [\"sadness\", \"surprise\"], [\"sadness\", \"surprise\"], [\"sadness\"], [\"sadness\"], [\"sadness\"], [\"fear\", \"surprise\"], [\"anger\"], [\"anger\"], [\"joy\"], [\"joy\"], [\"joy\"]]}', response_length=68, prompt_length=509, finish_reason='stop')],\n",
       " [Response(response_text='{\"page_utterance_emotions\": [[\"anger\", \"joy\"]]}', response_length=16, prompt_length=313, finish_reason='stop')]]"
      ]
     },
     "execution_count": 23,
     "metadata": {},
     "output_type": "execute_result"
    }
   ],
   "source": [
    "test_predictions"
   ]
  },
  {
   "cell_type": "code",
   "execution_count": 24,
   "metadata": {},
   "outputs": [],
   "source": [
    "processed_preds = []\n",
    "\n",
    "for i, raw_pred in enumerate(test_predictions):\n",
    "    try:\n",
    "        x = json.loads(raw_pred[0].response_text)[\"page_utterance_emotions\"]\n",
    "        processed_preds.append(x)\n",
    "    except:\n",
    "        print(i)"
   ]
  },
  {
   "cell_type": "code",
   "execution_count": 25,
   "metadata": {},
   "outputs": [
    {
     "data": {
      "text/plain": [
       "156"
      ]
     },
     "execution_count": 25,
     "metadata": {},
     "output_type": "execute_result"
    }
   ],
   "source": [
    "len(processed_preds)"
   ]
  },
  {
   "cell_type": "code",
   "execution_count": 26,
   "metadata": {},
   "outputs": [],
   "source": [
    "processed_grounds = []\n",
    "\n",
    "for ground in test_grounds:\n",
    "    x = json.loads(ground)[\"page_utterance_emotions\"]\n",
    "    processed_grounds.append(x)"
   ]
  },
  {
   "cell_type": "code",
   "execution_count": 27,
   "metadata": {},
   "outputs": [
    {
     "data": {
      "text/plain": [
       "156"
      ]
     },
     "execution_count": 27,
     "metadata": {},
     "output_type": "execute_result"
    }
   ],
   "source": [
    "len(processed_grounds)"
   ]
  },
  {
   "cell_type": "code",
   "execution_count": 28,
   "metadata": {},
   "outputs": [
    {
     "name": "stdout",
     "output_type": "stream",
     "text": [
      "85 13 12\n"
     ]
    }
   ],
   "source": [
    "bad_idx = []\n",
    "\n",
    "for idx, (i,j) in enumerate(zip(processed_grounds, processed_preds)):\n",
    "    if len(i) != len(j):\n",
    "        print(idx, len(i), len(j))\n",
    "        bad_idx.append(idx)"
   ]
  },
  {
   "cell_type": "code",
   "execution_count": 29,
   "metadata": {},
   "outputs": [],
   "source": [
    "bad_idx.sort(reverse=True)\n",
    "\n",
    "# Remove elements from 'grounds' at the specified indices\n",
    "for idx in bad_idx:\n",
    "    \n",
    "    del processed_grounds[idx]\n",
    "    del processed_preds[idx]"
   ]
  },
  {
   "cell_type": "code",
   "execution_count": 30,
   "metadata": {},
   "outputs": [
    {
     "data": {
      "text/plain": [
       "(155, 155)"
      ]
     },
     "execution_count": 30,
     "metadata": {},
     "output_type": "execute_result"
    }
   ],
   "source": [
    "len(processed_grounds), len(processed_preds)"
   ]
  },
  {
   "cell_type": "code",
   "execution_count": 31,
   "metadata": {},
   "outputs": [],
   "source": [
    "grounds = [item for sublist in processed_grounds for item in sublist]\n",
    "predictions = [item for sublist in processed_preds for item in sublist]"
   ]
  },
  {
   "cell_type": "code",
   "execution_count": 32,
   "metadata": {},
   "outputs": [
    {
     "data": {
      "text/plain": [
       "(1313, 1313)"
      ]
     },
     "execution_count": 32,
     "metadata": {},
     "output_type": "execute_result"
    }
   ],
   "source": [
    "len(grounds), len(predictions)"
   ]
  },
  {
   "cell_type": "code",
   "execution_count": 33,
   "metadata": {},
   "outputs": [],
   "source": [
    "from sklearn.preprocessing import MultiLabelBinarizer\n",
    "mlb = MultiLabelBinarizer()"
   ]
  },
  {
   "cell_type": "code",
   "execution_count": 34,
   "metadata": {},
   "outputs": [],
   "source": [
    "y_true_mhot = mlb.fit_transform(grounds)\n",
    "y_pred_mhot = mlb.transform(predictions)"
   ]
  },
  {
   "cell_type": "code",
   "execution_count": 35,
   "metadata": {},
   "outputs": [
    {
     "data": {
      "text/plain": [
       "((1313, 7), (1313, 7))"
      ]
     },
     "execution_count": 35,
     "metadata": {},
     "output_type": "execute_result"
    }
   ],
   "source": [
    "y_true_mhot.shape, y_pred_mhot.shape"
   ]
  },
  {
   "cell_type": "code",
   "execution_count": 36,
   "metadata": {},
   "outputs": [],
   "source": [
    "class_labels = mlb.classes_"
   ]
  },
  {
   "cell_type": "code",
   "execution_count": 37,
   "metadata": {},
   "outputs": [
    {
     "data": {
      "text/plain": [
       "array(['anger', 'disgust', 'fear', 'joy', 'neutral', 'sadness',\n",
       "       'surprise'], dtype=object)"
      ]
     },
     "execution_count": 37,
     "metadata": {},
     "output_type": "execute_result"
    }
   ],
   "source": [
    "class_labels"
   ]
  },
  {
   "cell_type": "code",
   "execution_count": 38,
   "metadata": {},
   "outputs": [
    {
     "name": "stdout",
     "output_type": "stream",
     "text": [
      "              precision    recall  f1-score   support\n",
      "\n",
      "       anger      0.577     0.562     0.569       447\n",
      "     disgust      0.136     0.130     0.133        46\n",
      "        fear      0.460     0.458     0.459       299\n",
      "         joy      0.560     0.558     0.559       294\n",
      "     neutral      0.440     0.346     0.387       107\n",
      "     sadness      0.518     0.594     0.553       342\n",
      "    surprise      0.599     0.555     0.576       353\n",
      "\n",
      "   micro avg      0.531     0.526     0.529      1888\n",
      "   macro avg      0.470     0.458     0.462      1888\n",
      "weighted avg      0.531     0.526     0.528      1888\n",
      " samples avg      0.550     0.547     0.521      1888\n",
      "\n"
     ]
    }
   ],
   "source": [
    "print(classification_report(y_true_mhot, y_pred_mhot, target_names=class_labels, digits=3))"
   ]
  },
  {
   "cell_type": "code",
   "execution_count": 39,
   "metadata": {},
   "outputs": [],
   "source": [
    "# with open({Path(FT_DIR)} / \"classification_report.pickle\", 'wb') as fh:\n",
    "    \n",
    "#      pickle.dump(classification_report(y_true_mhot, y_pred_mhot, target_names=class_labels, digits=3, output_dict=True), fh)"
   ]
  },
  {
   "cell_type": "raw",
   "metadata": {
    "vscode": {
     "languageId": "raw"
    }
   },
   "source": [
    "unsloth/Meta-Llama-3.1-70B-Instruct, 8 Epochs.\n",
    "\n",
    "precision    recall  f1-score   support\n",
    "\n",
    "       anger      0.601     0.569     0.584       445\n",
    "     disgust      0.160     0.174     0.167        46\n",
    "        fear      0.454     0.505     0.478       293\n",
    "         joy      0.534     0.465     0.497       271\n",
    "     neutral      0.574     0.321     0.412       109\n",
    "     sadness      0.535     0.601     0.566       333\n",
    "    surprise      0.580     0.678     0.625       342\n",
    "\n",
    "   micro avg      0.536     0.545     0.541      1839\n",
    "   macro avg      0.491     0.473     0.476      1839\n",
    "weighted avg      0.539     0.545     0.538      1839\n",
    " samples avg      0.555     0.557     0.532      1839"
   ]
  },
  {
   "cell_type": "raw",
   "metadata": {
    "vscode": {
     "languageId": "raw"
    }
   },
   "source": [
    "unsloth/llama-3-8b-Instruct-bnb-4bit, 8 epochs\n",
    "\n",
    "precision    recall  f1-score   support\n",
    "\n",
    "       anger      0.625     0.528     0.572       417\n",
    "     disgust      0.182     0.154     0.167        39\n",
    "        fear      0.520     0.449     0.482       294\n",
    "         joy      0.540     0.580     0.559       281\n",
    "     neutral      0.518     0.406     0.455       106\n",
    "     sadness      0.499     0.557     0.526       323\n",
    "    surprise      0.579     0.606     0.593       343\n",
    "\n",
    "   micro avg      0.546     0.528     0.537      1803\n",
    "   macro avg      0.495     0.469     0.479      1803\n",
    "weighted avg      0.547     0.528     0.535      1803\n",
    " samples avg      0.561     0.548     0.529      1803"
   ]
  },
  {
   "cell_type": "raw",
   "metadata": {
    "vscode": {
     "languageId": "raw"
    }
   },
   "source": [
    "unsloth/Meta-Llama-3.1-8B-Instruct-bnb-4bit\n",
    "\n",
    "precision    recall  f1-score   support\n",
    "\n",
    "       anger      0.557     0.582     0.570       443\n",
    "     disgust      0.196     0.200     0.198        50\n",
    "        fear      0.504     0.465     0.484       284\n",
    "         joy      0.529     0.583     0.555       278\n",
    "     neutral      0.397     0.237     0.297        97\n",
    "     sadness      0.509     0.515     0.512       328\n",
    "    surprise      0.616     0.624     0.620       348\n",
    "\n",
    "   micro avg      0.532     0.531     0.532      1828\n",
    "   macro avg      0.473     0.458     0.462      1828\n",
    "weighted avg      0.529     0.531     0.529      1828\n",
    " samples avg      0.550     0.544     0.523      1828"
   ]
  },
  {
   "cell_type": "raw",
   "metadata": {
    "vscode": {
     "languageId": "raw"
    }
   },
   "source": [
    "unsloth/Llama-3.2-3B-Instruct-bnb-4bit\n",
    "\n",
    "precision    recall  f1-score   support\n",
    "\n",
    "       anger      0.525     0.524     0.525       416\n",
    "     disgust      0.200     0.150     0.171        40\n",
    "        fear      0.438     0.491     0.463       281\n",
    "         joy      0.496     0.442     0.468       269\n",
    "     neutral      0.447     0.337     0.384       101\n",
    "     sadness      0.509     0.523     0.516       308\n",
    "    surprise      0.585     0.543     0.563       337\n",
    "\n",
    "   micro avg      0.504     0.490     0.497      1752\n",
    "   macro avg      0.457     0.430     0.441      1752\n",
    "weighted avg      0.504     0.490     0.496      1752\n",
    " samples avg      0.524     0.505     0.491      1752"
   ]
  },
  {
   "cell_type": "raw",
   "metadata": {
    "vscode": {
     "languageId": "raw"
    }
   },
   "source": [
    "unsloth/Llama-3.2-1B-Instruct-bnb-4bit\n",
    "\n",
    "precision    recall  f1-score   support\n",
    "\n",
    "       anger      0.489     0.538     0.512       398\n",
    "     disgust      0.250     0.175     0.206        40\n",
    "        fear      0.330     0.422     0.371       232\n",
    "         joy      0.450     0.440     0.445       243\n",
    "     neutral      0.241     0.169     0.198        77\n",
    "     sadness      0.472     0.449     0.461       267\n",
    "    surprise      0.490     0.507     0.498       294\n",
    "\n",
    "   micro avg      0.439     0.456     0.448      1551\n",
    "   macro avg      0.389     0.386     0.384      1551\n",
    "weighted avg      0.438     0.456     0.445      1551\n",
    " samples avg      0.457     0.468     0.437      1551"
   ]
  },
  {
   "cell_type": "raw",
   "metadata": {
    "vscode": {
     "languageId": "raw"
    }
   },
   "source": [
    "unsloth/Qwen2.5-32B-Instruct-bnb-4bit\n",
    "\n",
    "precision    recall  f1-score   support\n",
    "\n",
    "       anger      0.526     0.493     0.509       450\n",
    "     disgust      0.194     0.240     0.214        50\n",
    "        fear      0.481     0.438     0.459       297\n",
    "         joy      0.580     0.610     0.595       290\n",
    "     neutral      0.486     0.321     0.387       109\n",
    "     sadness      0.522     0.588     0.553       342\n",
    "    surprise      0.593     0.583     0.588       355\n",
    "\n",
    "   micro avg      0.528     0.520     0.524      1893\n",
    "   macro avg      0.483     0.468     0.472      1893\n",
    "weighted avg      0.528     0.520     0.522      1893\n",
    " samples avg      0.546     0.537     0.515      1893"
   ]
  },
  {
   "cell_type": "raw",
   "metadata": {
    "vscode": {
     "languageId": "raw"
    }
   },
   "source": [
    "unsloth/Qwen2.5-72B-Instruct-bnb-4bit\n",
    "\n",
    "precision    recall  f1-score   support\n",
    "\n",
    "       anger      0.577     0.562     0.569       447\n",
    "     disgust      0.136     0.130     0.133        46\n",
    "        fear      0.460     0.458     0.459       299\n",
    "         joy      0.560     0.558     0.559       294\n",
    "     neutral      0.440     0.346     0.387       107\n",
    "     sadness      0.518     0.594     0.553       342\n",
    "    surprise      0.599     0.555     0.576       353\n",
    "\n",
    "   micro avg      0.531     0.526     0.529      1888\n",
    "   macro avg      0.470     0.458     0.462      1888\n",
    "weighted avg      0.531     0.526     0.528      1888\n",
    " samples avg      0.550     0.547     0.521      1888"
   ]
  }
 ],
 "metadata": {
  "kernelspec": {
   "display_name": "Python 3 (ipykernel)",
   "language": "python",
   "name": "python3"
  },
  "language_info": {
   "codemirror_mode": {
    "name": "ipython",
    "version": 3
   },
   "file_extension": ".py",
   "mimetype": "text/x-python",
   "name": "python",
   "nbconvert_exporter": "python",
   "pygments_lexer": "ipython3",
   "version": "3.11.9"
  }
 },
 "nbformat": 4,
 "nbformat_minor": 2
}
