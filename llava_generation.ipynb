{
 "cells": [
  {
   "cell_type": "code",
   "execution_count": 2,
   "metadata": {},
   "outputs": [],
   "source": [
    "import torch\n",
    "\n",
    "import pandas as pd\n",
    "from PIL import Image\n",
    "\n",
    "from transformers import BitsAndBytesConfig\n",
    "from transformers import AutoProcessor, LlavaForConditionalGeneration"
   ]
  },
  {
   "cell_type": "code",
   "execution_count": 3,
   "metadata": {},
   "outputs": [],
   "source": [
    "quantization_config = BitsAndBytesConfig(\n",
    "    load_in_4bit=True,\n",
    "    bnb_4bit_compute_dtype=torch.float16\n",
    ")"
   ]
  },
  {
   "cell_type": "code",
   "execution_count": 4,
   "metadata": {},
   "outputs": [],
   "source": [
    "model_id = \"llava-hf/llava-1.5-7b-hf\""
   ]
  },
  {
   "cell_type": "code",
   "execution_count": 5,
   "metadata": {},
   "outputs": [
    {
     "data": {
      "application/vnd.jupyter.widget-view+json": {
       "model_id": "f6b9d1bfe1404a6d85f4e3c8a95ad00f",
       "version_major": 2,
       "version_minor": 0
      },
      "text/plain": [
       "processor_config.json:   0%|          | 0.00/173 [00:00<?, ?B/s]"
      ]
     },
     "metadata": {},
     "output_type": "display_data"
    },
    {
     "data": {
      "application/vnd.jupyter.widget-view+json": {
       "model_id": "96e39ba1778d422f96875a9c43becf9c",
       "version_major": 2,
       "version_minor": 0
      },
      "text/plain": [
       "chat_template.json:   0%|          | 0.00/701 [00:00<?, ?B/s]"
      ]
     },
     "metadata": {},
     "output_type": "display_data"
    },
    {
     "data": {
      "application/vnd.jupyter.widget-view+json": {
       "model_id": "3a4cf6ad38b444dfb3ec2828a5780353",
       "version_major": 2,
       "version_minor": 0
      },
      "text/plain": [
       "preprocessor_config.json:   0%|          | 0.00/505 [00:00<?, ?B/s]"
      ]
     },
     "metadata": {},
     "output_type": "display_data"
    },
    {
     "data": {
      "application/vnd.jupyter.widget-view+json": {
       "model_id": "3e38ac7c92214e7aae246b0389590a45",
       "version_major": 2,
       "version_minor": 0
      },
      "text/plain": [
       "tokenizer_config.json:   0%|          | 0.00/1.45k [00:00<?, ?B/s]"
      ]
     },
     "metadata": {},
     "output_type": "display_data"
    },
    {
     "data": {
      "application/vnd.jupyter.widget-view+json": {
       "model_id": "ce005517c6574160ad9f4e590b3114bb",
       "version_major": 2,
       "version_minor": 0
      },
      "text/plain": [
       "tokenizer.model:   0%|          | 0.00/500k [00:00<?, ?B/s]"
      ]
     },
     "metadata": {},
     "output_type": "display_data"
    },
    {
     "data": {
      "application/vnd.jupyter.widget-view+json": {
       "model_id": "b6ff58f6cfdc459d89d417af2cb6a618",
       "version_major": 2,
       "version_minor": 0
      },
      "text/plain": [
       "tokenizer.json:   0%|          | 0.00/3.62M [00:00<?, ?B/s]"
      ]
     },
     "metadata": {},
     "output_type": "display_data"
    },
    {
     "data": {
      "application/vnd.jupyter.widget-view+json": {
       "model_id": "e6b245f9649c476ba9c912d6ff0b508e",
       "version_major": 2,
       "version_minor": 0
      },
      "text/plain": [
       "added_tokens.json:   0%|          | 0.00/41.0 [00:00<?, ?B/s]"
      ]
     },
     "metadata": {},
     "output_type": "display_data"
    },
    {
     "data": {
      "application/vnd.jupyter.widget-view+json": {
       "model_id": "4c0a10527bf44dbea6420b5e04ad4ffb",
       "version_major": 2,
       "version_minor": 0
      },
      "text/plain": [
       "special_tokens_map.json:   0%|          | 0.00/552 [00:00<?, ?B/s]"
      ]
     },
     "metadata": {},
     "output_type": "display_data"
    },
    {
     "data": {
      "application/vnd.jupyter.widget-view+json": {
       "model_id": "d6d08b16bf8748bbbcd860dd83cf8ee4",
       "version_major": 2,
       "version_minor": 0
      },
      "text/plain": [
       "config.json:   0%|          | 0.00/950 [00:00<?, ?B/s]"
      ]
     },
     "metadata": {},
     "output_type": "display_data"
    },
    {
     "data": {
      "application/vnd.jupyter.widget-view+json": {
       "model_id": "dcb9e7e9f7574451836432bf63fa66d4",
       "version_major": 2,
       "version_minor": 0
      },
      "text/plain": [
       "model.safetensors.index.json:   0%|          | 0.00/70.1k [00:00<?, ?B/s]"
      ]
     },
     "metadata": {},
     "output_type": "display_data"
    },
    {
     "data": {
      "application/vnd.jupyter.widget-view+json": {
       "model_id": "44da9ed4689143a6aff561aafd754e4d",
       "version_major": 2,
       "version_minor": 0
      },
      "text/plain": [
       "Downloading shards:   0%|          | 0/3 [00:00<?, ?it/s]"
      ]
     },
     "metadata": {},
     "output_type": "display_data"
    },
    {
     "data": {
      "application/vnd.jupyter.widget-view+json": {
       "model_id": "67f63813e1ef4305a5191774dff1e604",
       "version_major": 2,
       "version_minor": 0
      },
      "text/plain": [
       "model-00001-of-00003.safetensors:   0%|          | 0.00/4.99G [00:00<?, ?B/s]"
      ]
     },
     "metadata": {},
     "output_type": "display_data"
    },
    {
     "data": {
      "application/vnd.jupyter.widget-view+json": {
       "model_id": "ed009cacfaed4f06a060089a61099ea2",
       "version_major": 2,
       "version_minor": 0
      },
      "text/plain": [
       "model-00002-of-00003.safetensors:   0%|          | 0.00/4.96G [00:00<?, ?B/s]"
      ]
     },
     "metadata": {},
     "output_type": "display_data"
    },
    {
     "data": {
      "application/vnd.jupyter.widget-view+json": {
       "model_id": "aa2f046b20a04bcbad104d867d3c9fa5",
       "version_major": 2,
       "version_minor": 0
      },
      "text/plain": [
       "model-00003-of-00003.safetensors:   0%|          | 0.00/4.18G [00:00<?, ?B/s]"
      ]
     },
     "metadata": {},
     "output_type": "display_data"
    },
    {
     "data": {
      "application/vnd.jupyter.widget-view+json": {
       "model_id": "29ac4828613f4ed0a9a93486ec7a1fae",
       "version_major": 2,
       "version_minor": 0
      },
      "text/plain": [
       "Loading checkpoint shards:   0%|          | 0/3 [00:00<?, ?it/s]"
      ]
     },
     "metadata": {},
     "output_type": "display_data"
    },
    {
     "data": {
      "application/vnd.jupyter.widget-view+json": {
       "model_id": "91a01c36b5bb4bd19a24e0bfdf9a0ec2",
       "version_major": 2,
       "version_minor": 0
      },
      "text/plain": [
       "generation_config.json:   0%|          | 0.00/141 [00:00<?, ?B/s]"
      ]
     },
     "metadata": {},
     "output_type": "display_data"
    }
   ],
   "source": [
    "processor = AutoProcessor.from_pretrained(model_id)\n",
    "model = LlavaForConditionalGeneration.from_pretrained(model_id, quantization_config=quantization_config, device_map=\"auto\")"
   ]
  },
  {
   "cell_type": "markdown",
   "metadata": {},
   "source": [
    "### Data"
   ]
  },
  {
   "cell_type": "code",
   "execution_count": 6,
   "metadata": {},
   "outputs": [],
   "source": []
  },
  {
   "cell_type": "code",
   "execution_count": 12,
   "metadata": {},
   "outputs": [],
   "source": [
    "df = pd.read_csv(\"/Utilisateurs/umushtaq/emotion_analysis_comics/dataset_files/comics_pg_w_images.csv\", index_col=0)"
   ]
  },
  {
   "cell_type": "code",
   "execution_count": 13,
   "metadata": {},
   "outputs": [],
   "source": [
    "df_s = df.sample(10).reset_index(drop=True)"
   ]
  },
  {
   "cell_type": "code",
   "execution_count": 14,
   "metadata": {},
   "outputs": [
    {
     "data": {
      "text/html": [
       "<div>\n",
       "<style scoped>\n",
       "    .dataframe tbody tr th:only-of-type {\n",
       "        vertical-align: middle;\n",
       "    }\n",
       "\n",
       "    .dataframe tbody tr th {\n",
       "        vertical-align: top;\n",
       "    }\n",
       "\n",
       "    .dataframe thead th {\n",
       "        text-align: right;\n",
       "    }\n",
       "</style>\n",
       "<table border=\"1\" class=\"dataframe\">\n",
       "  <thead>\n",
       "    <tr style=\"text-align: right;\">\n",
       "      <th></th>\n",
       "      <th>file_name</th>\n",
       "      <th>page_nr</th>\n",
       "      <th>split</th>\n",
       "      <th>utterance</th>\n",
       "      <th>emotion_c</th>\n",
       "      <th>comics_title</th>\n",
       "      <th>comics_id</th>\n",
       "      <th>image_path</th>\n",
       "    </tr>\n",
       "  </thead>\n",
       "  <tbody>\n",
       "    <tr>\n",
       "      <th>0</th>\n",
       "      <td>QC copy - 1521 - 40 Amor eterno 2.xlsx</td>\n",
       "      <td>24</td>\n",
       "      <td>TRAIN</td>\n",
       "      <td>[\"ROGER\\u2026\", \"YES\\u2026 YES\\u2026 MY DARLIN...</td>\n",
       "      <td>[['sadness'], ['sadness'], ['anger', 'sadness'...</td>\n",
       "      <td>Love Everlasting #2</td>\n",
       "      <td>1521</td>\n",
       "      <td>/Utilisateurs/umushtaq/emotion_analysis_comics...</td>\n",
       "    </tr>\n",
       "    <tr>\n",
       "      <th>1</th>\n",
       "      <td>QC copy - 1910 - 35 Ladro_n de ladrones 1 - To...</td>\n",
       "      <td>10</td>\n",
       "      <td>TRAIN</td>\n",
       "      <td>[\"HERE. EVERYTHING I HAD SO FAR ON AUGUSTUS PA...</td>\n",
       "      <td>[['anger'], ['anger', 'sadness'], ['anger'], [...</td>\n",
       "      <td>Thief Of Thieves 1 - #11</td>\n",
       "      <td>1910</td>\n",
       "      <td>/Utilisateurs/umushtaq/emotion_analysis_comics...</td>\n",
       "    </tr>\n",
       "    <tr>\n",
       "      <th>2</th>\n",
       "      <td>QC copy - 1502 - 09 Mundos sin Liga de la Just...</td>\n",
       "      <td>4</td>\n",
       "      <td>TRAIN</td>\n",
       "      <td>[\"@LOBO THE CZARNIAN. BE WARNED.\", \"@BY ORDER ...</td>\n",
       "      <td>[['anger'], ['anger'], ['anger'], ['surprise',...</td>\n",
       "      <td>Dark Crisis: Worlds Without a Justice League -...</td>\n",
       "      <td>1502</td>\n",
       "      <td>/Utilisateurs/umushtaq/emotion_analysis_comics...</td>\n",
       "    </tr>\n",
       "    <tr>\n",
       "      <th>3</th>\n",
       "      <td>QC copy - 1517 - 37 John Carpenter Historias p...</td>\n",
       "      <td>97</td>\n",
       "      <td>TRAIN</td>\n",
       "      <td>[\"NO WAY.\", \"YOU MEAN\\u2026\", \"YEP. SEE, UNLIK...</td>\n",
       "      <td>[['surprise'], ['fear', 'sadness'], ['sadness'...</td>\n",
       "      <td>John Carpenter's Tales for a Halloweenight #3</td>\n",
       "      <td>1517</td>\n",
       "      <td>/Utilisateurs/umushtaq/emotion_analysis_comics...</td>\n",
       "    </tr>\n",
       "    <tr>\n",
       "      <th>4</th>\n",
       "      <td>QC copy - 1517 - 37 John Carpenter Historias p...</td>\n",
       "      <td>71</td>\n",
       "      <td>TRAIN</td>\n",
       "      <td>[\"SO\\u2026 HOW DO WE START?\", \"HOWEVER YOU WAN...</td>\n",
       "      <td>[['joy'], ['joy'], ['joy'], ['joy'], ['joy']]</td>\n",
       "      <td>John Carpenter's Tales for a Halloweenight #3</td>\n",
       "      <td>1517</td>\n",
       "      <td>/Utilisateurs/umushtaq/emotion_analysis_comics...</td>\n",
       "    </tr>\n",
       "    <tr>\n",
       "      <th>5</th>\n",
       "      <td>QC copy - 1560 - 36 Fantasmas vol. 1 - Ghosted...</td>\n",
       "      <td>9</td>\n",
       "      <td>TRAIN</td>\n",
       "      <td>[\"YOU'RE ALREADY HAUNTED, JACKSON. THAT'S WHY ...</td>\n",
       "      <td>[['anger', 'joy'], ['surprise', 'joy'], ['ange...</td>\n",
       "      <td>Fantasmas vol. 1 - Ghosted #3</td>\n",
       "      <td>1560</td>\n",
       "      <td>/Utilisateurs/umushtaq/emotion_analysis_comics...</td>\n",
       "    </tr>\n",
       "    <tr>\n",
       "      <th>6</th>\n",
       "      <td>QC copy - 2200 - Stillwater 13.xlsx</td>\n",
       "      <td>8</td>\n",
       "      <td>TEST</td>\n",
       "      <td>[\"I don't know what's happening.\", \"I should b...</td>\n",
       "      <td>[['anger', 'fear'], ['anger', 'fear'], ['anger...</td>\n",
       "      <td>Stillwater #13</td>\n",
       "      <td>2200</td>\n",
       "      <td>/Utilisateurs/umushtaq/emotion_analysis_comics...</td>\n",
       "    </tr>\n",
       "    <tr>\n",
       "      <th>7</th>\n",
       "      <td>QC copy - 1508 - 48 Pequen_os Titanes 25.xlsx</td>\n",
       "      <td>19</td>\n",
       "      <td>TRAIN</td>\n",
       "      <td>[\"ANY BODY WANT SOME BUBBLE GUM?\", \"GUM!\", \"AA...</td>\n",
       "      <td>[['surprise', 'joy'], ['surprise', 'joy'], ['f...</td>\n",
       "      <td>Tiny Titans #25</td>\n",
       "      <td>1508</td>\n",
       "      <td>/Utilisateurs/umushtaq/emotion_analysis_comics...</td>\n",
       "    </tr>\n",
       "    <tr>\n",
       "      <th>8</th>\n",
       "      <td>QC copy - 1568 - 36 Fantasmas vol. 1 - Ghosted...</td>\n",
       "      <td>15</td>\n",
       "      <td>TRAIN</td>\n",
       "      <td>[\"Normally, I just send others to get their ha...</td>\n",
       "      <td>[['neutral'], ['neutral'], ['sadness'], ['disg...</td>\n",
       "      <td>Fantasmas vol. 1 - Ghosted #7</td>\n",
       "      <td>1568</td>\n",
       "      <td>/Utilisateurs/umushtaq/emotion_analysis_comics...</td>\n",
       "    </tr>\n",
       "    <tr>\n",
       "      <th>9</th>\n",
       "      <td>QC copy - 1560 - 36 Fantasmas vol. 1 - Ghosted...</td>\n",
       "      <td>12</td>\n",
       "      <td>TRAIN</td>\n",
       "      <td>[\"SPIRITUS ADEO MIHI! OSTENDO SUM VESTRI! DICO...</td>\n",
       "      <td>[['neutral'], ['neutral'], ['neutral'], ['disg...</td>\n",
       "      <td>Fantasmas vol. 1 - Ghosted #3</td>\n",
       "      <td>1560</td>\n",
       "      <td>/Utilisateurs/umushtaq/emotion_analysis_comics...</td>\n",
       "    </tr>\n",
       "  </tbody>\n",
       "</table>\n",
       "</div>"
      ],
      "text/plain": [
       "                                           file_name  page_nr  split  \\\n",
       "0             QC copy - 1521 - 40 Amor eterno 2.xlsx       24  TRAIN   \n",
       "1  QC copy - 1910 - 35 Ladro_n de ladrones 1 - To...       10  TRAIN   \n",
       "2  QC copy - 1502 - 09 Mundos sin Liga de la Just...        4  TRAIN   \n",
       "3  QC copy - 1517 - 37 John Carpenter Historias p...       97  TRAIN   \n",
       "4  QC copy - 1517 - 37 John Carpenter Historias p...       71  TRAIN   \n",
       "5  QC copy - 1560 - 36 Fantasmas vol. 1 - Ghosted...        9  TRAIN   \n",
       "6                QC copy - 2200 - Stillwater 13.xlsx        8   TEST   \n",
       "7      QC copy - 1508 - 48 Pequen_os Titanes 25.xlsx       19  TRAIN   \n",
       "8  QC copy - 1568 - 36 Fantasmas vol. 1 - Ghosted...       15  TRAIN   \n",
       "9  QC copy - 1560 - 36 Fantasmas vol. 1 - Ghosted...       12  TRAIN   \n",
       "\n",
       "                                           utterance  \\\n",
       "0  [\"ROGER\\u2026\", \"YES\\u2026 YES\\u2026 MY DARLIN...   \n",
       "1  [\"HERE. EVERYTHING I HAD SO FAR ON AUGUSTUS PA...   \n",
       "2  [\"@LOBO THE CZARNIAN. BE WARNED.\", \"@BY ORDER ...   \n",
       "3  [\"NO WAY.\", \"YOU MEAN\\u2026\", \"YEP. SEE, UNLIK...   \n",
       "4  [\"SO\\u2026 HOW DO WE START?\", \"HOWEVER YOU WAN...   \n",
       "5  [\"YOU'RE ALREADY HAUNTED, JACKSON. THAT'S WHY ...   \n",
       "6  [\"I don't know what's happening.\", \"I should b...   \n",
       "7  [\"ANY BODY WANT SOME BUBBLE GUM?\", \"GUM!\", \"AA...   \n",
       "8  [\"Normally, I just send others to get their ha...   \n",
       "9  [\"SPIRITUS ADEO MIHI! OSTENDO SUM VESTRI! DICO...   \n",
       "\n",
       "                                           emotion_c  \\\n",
       "0  [['sadness'], ['sadness'], ['anger', 'sadness'...   \n",
       "1  [['anger'], ['anger', 'sadness'], ['anger'], [...   \n",
       "2  [['anger'], ['anger'], ['anger'], ['surprise',...   \n",
       "3  [['surprise'], ['fear', 'sadness'], ['sadness'...   \n",
       "4      [['joy'], ['joy'], ['joy'], ['joy'], ['joy']]   \n",
       "5  [['anger', 'joy'], ['surprise', 'joy'], ['ange...   \n",
       "6  [['anger', 'fear'], ['anger', 'fear'], ['anger...   \n",
       "7  [['surprise', 'joy'], ['surprise', 'joy'], ['f...   \n",
       "8  [['neutral'], ['neutral'], ['sadness'], ['disg...   \n",
       "9  [['neutral'], ['neutral'], ['neutral'], ['disg...   \n",
       "\n",
       "                                        comics_title  comics_id  \\\n",
       "0                                Love Everlasting #2       1521   \n",
       "1                           Thief Of Thieves 1 - #11       1910   \n",
       "2  Dark Crisis: Worlds Without a Justice League -...       1502   \n",
       "3      John Carpenter's Tales for a Halloweenight #3       1517   \n",
       "4      John Carpenter's Tales for a Halloweenight #3       1517   \n",
       "5                      Fantasmas vol. 1 - Ghosted #3       1560   \n",
       "6                                     Stillwater #13       2200   \n",
       "7                                    Tiny Titans #25       1508   \n",
       "8                      Fantasmas vol. 1 - Ghosted #7       1568   \n",
       "9                      Fantasmas vol. 1 - Ghosted #3       1560   \n",
       "\n",
       "                                          image_path  \n",
       "0  /Utilisateurs/umushtaq/emotion_analysis_comics...  \n",
       "1  /Utilisateurs/umushtaq/emotion_analysis_comics...  \n",
       "2  /Utilisateurs/umushtaq/emotion_analysis_comics...  \n",
       "3  /Utilisateurs/umushtaq/emotion_analysis_comics...  \n",
       "4  /Utilisateurs/umushtaq/emotion_analysis_comics...  \n",
       "5  /Utilisateurs/umushtaq/emotion_analysis_comics...  \n",
       "6  /Utilisateurs/umushtaq/emotion_analysis_comics...  \n",
       "7  /Utilisateurs/umushtaq/emotion_analysis_comics...  \n",
       "8  /Utilisateurs/umushtaq/emotion_analysis_comics...  \n",
       "9  /Utilisateurs/umushtaq/emotion_analysis_comics...  "
      ]
     },
     "execution_count": 14,
     "metadata": {},
     "output_type": "execute_result"
    }
   ],
   "source": [
    "df_s"
   ]
  },
  {
   "cell_type": "markdown",
   "metadata": {},
   "source": [
    "### Prompts"
   ]
  },
  {
   "cell_type": "code",
   "execution_count": 85,
   "metadata": {},
   "outputs": [],
   "source": [
    "prompt = [\n",
    "            \"USER: <image>\\nPlease describe this image, identifying the characters and the narrative.\\nASSISTANT:\",\n",
    "]"
   ]
  },
  {
   "cell_type": "code",
   "execution_count": 86,
   "metadata": {},
   "outputs": [],
   "source": [
    "images_l = df_s.image_path.tolist()"
   ]
  },
  {
   "cell_type": "code",
   "execution_count": 87,
   "metadata": {},
   "outputs": [],
   "source": [
    "#prompts = prompt * len(images_l)"
   ]
  },
  {
   "cell_type": "code",
   "execution_count": 88,
   "metadata": {},
   "outputs": [],
   "source": [
    "prompts = []\n",
    "for _, row in df_s.iterrows():\n",
    "    \n",
    "    prompts.append(prompt[0].replace(\"<title>\", str(row.comics_title)))"
   ]
  },
  {
   "cell_type": "code",
   "execution_count": 89,
   "metadata": {},
   "outputs": [
    {
     "data": {
      "text/plain": [
       "['USER: <image>\\nPlease describe this image, identifying the characters and the narrative.\\nASSISTANT:',\n",
       " 'USER: <image>\\nPlease describe this image, identifying the characters and the narrative.\\nASSISTANT:',\n",
       " 'USER: <image>\\nPlease describe this image, identifying the characters and the narrative.\\nASSISTANT:',\n",
       " 'USER: <image>\\nPlease describe this image, identifying the characters and the narrative.\\nASSISTANT:',\n",
       " 'USER: <image>\\nPlease describe this image, identifying the characters and the narrative.\\nASSISTANT:',\n",
       " 'USER: <image>\\nPlease describe this image, identifying the characters and the narrative.\\nASSISTANT:',\n",
       " 'USER: <image>\\nPlease describe this image, identifying the characters and the narrative.\\nASSISTANT:',\n",
       " 'USER: <image>\\nPlease describe this image, identifying the characters and the narrative.\\nASSISTANT:',\n",
       " 'USER: <image>\\nPlease describe this image, identifying the characters and the narrative.\\nASSISTANT:',\n",
       " 'USER: <image>\\nPlease describe this image, identifying the characters and the narrative.\\nASSISTANT:']"
      ]
     },
     "execution_count": 89,
     "metadata": {},
     "output_type": "execute_result"
    }
   ],
   "source": [
    "prompts"
   ]
  },
  {
   "cell_type": "code",
   "execution_count": 90,
   "metadata": {},
   "outputs": [],
   "source": [
    "images = [Image.open(image_path) for image_path in images_l]"
   ]
  },
  {
   "cell_type": "code",
   "execution_count": 91,
   "metadata": {},
   "outputs": [],
   "source": [
    "inputs = processor(prompts, images, padding=True, return_tensors=\"pt\").to(\"cuda\")"
   ]
  },
  {
   "cell_type": "code",
   "execution_count": 92,
   "metadata": {},
   "outputs": [
    {
     "name": "stdout",
     "output_type": "stream",
     "text": [
      "input_ids torch.Size([10, 602])\n",
      "attention_mask torch.Size([10, 602])\n",
      "pixel_values torch.Size([10, 3, 336, 336])\n"
     ]
    }
   ],
   "source": [
    "for k,v in inputs.items():\n",
    "  print(k,v.shape)"
   ]
  },
  {
   "cell_type": "code",
   "execution_count": 93,
   "metadata": {},
   "outputs": [],
   "source": [
    "output = model.generate(**inputs, max_new_tokens=256)"
   ]
  },
  {
   "cell_type": "code",
   "execution_count": 94,
   "metadata": {},
   "outputs": [
    {
     "name": "stdout",
     "output_type": "stream",
     "text": [
      " The image is a comic strip featuring a man and a woman lying next to each other. The woman has a lot of blood on her face, which suggests that she might be in a dangerous situation. The man is also covered in blood, indicating that they might be in a dangerous situation together.\n",
      "\n",
      "The comic strip is divided into three panels, each showing a different moment in the story. The first panel shows the man and woman lying down, while the second panel shows the woman with blood on her face. The third panel shows the man also covered in blood, emphasizing the intensity of the situation.\n",
      "\n",
      "The comic strip is written in English, and the characters' facial expressions and body language convey the emotions and tension of the scene.\n",
      " The image is a comic strip featuring a man and a woman. The man is wearing a suit and tie, and he appears to be engaged in a conversation with the woman. The woman is wearing glasses and is also dressed in a professional manner.\n",
      "\n",
      "There are several chairs in the scene, with one chair being occupied by the man and another chair being occupied by the woman. A TV is also present in the room, and a clock can be seen on the wall. The comic strip captures a moment of interaction between the two individuals.\n",
      " The image is a comic book panel featuring a group of people in a futuristic setting. There are two main characters in the scene, one sitting on a chair and the other standing nearby. The seated character is wearing a helmet, while the standing character is holding a gun.\n",
      "\n",
      "There are also several other people in the scene, some of whom are wearing helmets as well. The comic book panel is filled with action and excitement, as the characters engage in a conversation or a conflict. The overall atmosphere of the scene is intense and dynamic.\n",
      " The image is a comic strip featuring a man standing on a porch, possibly a doctor, as he is holding a flashlight. There are two other people in the scene, one of them is a woman. The man on the porch is talking to the woman, who is standing next to him. The comic strip is set in a house, with a potted plant visible in the background. The man is holding a cell phone, which is placed in the scene, and there is a clock on the wall. The comic strip captures a moment of conversation between the man and the woman.\n",
      " The image is a comic strip featuring a man and a woman. The man is wearing a black mask and is holding the woman in his arms. The woman is wearing a blue shirt and appears to be enjoying the moment. The comic strip is filled with various panels, showcasing different moments and expressions of the characters. The overall scene is a mix of humor and intimacy, as the man and woman share a tender moment.\n",
      " The image is a comic strip featuring a man and a woman. The man is standing next to a car, while the woman is sitting in the backseat. They seem to be engaged in a conversation, possibly discussing the car or their destination.\n",
      "\n",
      "There are several other people in the scene, some of whom are also engaged in conversations. A handbag can be seen placed on the ground, and a TV is visible in the background. The overall atmosphere of the comic strip appears to be light-hearted and humorous.\n",
      " The image is a comic strip featuring a man in a car, possibly a truck, driving down a city street. The man appears to be in a dangerous situation, as he is driving with his eyes closed. There are several other people in the scene, some of them possibly in the same car as the man.\n",
      "\n",
      "The comic strip is set in a city environment, with buildings and cars visible in the background. The man in the car is the main focus of the scene, and the other people in the strip contribute to the overall narrative.\n",
      " The image is a comic strip featuring a group of cartoon characters. The main focus is on a character named \"So, I'm Guessing Bubblegum is?\" who is talking to other characters. There are several other characters in the scene, including a character wearing a mask and another character with a cape.\n",
      "\n",
      "The comic strip is set in a room, with a dining table visible in the background. The characters are engaged in a conversation, with one character asking, \"You got it?\" The scene captures the essence of a lively and engaging comic strip.\n",
      " The image is a comic strip featuring a group of people standing outside. There are at least 11 people in the scene, with some of them wearing ties. The people are engaged in conversation, and some of them are holding umbrellas.\n",
      "\n",
      "The setting appears to be a street or an outdoor area, with a car parked nearby. The comic strip is divided into three sections, each with a different scene. The first scene shows a group of people standing outside, while the second scene features a man in a suit talking to a group of people. The third scene shows a man in a suit talking to a group of people, with some of them holding umbrellas.\n",
      "\n",
      "The comic strip is black and white, giving it a classic feel.\n",
      " The image is a comic strip featuring a group of people sitting around a dining table. There are three people in the scene, with one person sitting on the left side of the table, another person sitting in the middle, and the third person on the right side.\n",
      "\n",
      "The table is set with a wine glass, a cup, and a knife. A cell phone is also visible on the table. The comic strip captures a moment of conversation and interaction among the people.\n"
     ]
    }
   ],
   "source": [
    "generated_text = processor.batch_decode(output, skip_special_tokens=True)\n",
    "\n",
    "for text in generated_text:\n",
    "  print(text.split(\"ASSISTANT:\")[-1])"
   ]
  },
  {
   "cell_type": "code",
   "execution_count": null,
   "metadata": {},
   "outputs": [],
   "source": []
  },
  {
   "cell_type": "code",
   "execution_count": null,
   "metadata": {},
   "outputs": [],
   "source": []
  }
 ],
 "metadata": {
  "kernelspec": {
   "display_name": "Python (triton_env2)",
   "language": "python",
   "name": "triton_env"
  },
  "language_info": {
   "codemirror_mode": {
    "name": "ipython",
    "version": 3
   },
   "file_extension": ".py",
   "mimetype": "text/x-python",
   "name": "python",
   "nbconvert_exporter": "python",
   "pygments_lexer": "ipython3",
   "version": "3.10.16"
  }
 },
 "nbformat": 4,
 "nbformat_minor": 2
}
