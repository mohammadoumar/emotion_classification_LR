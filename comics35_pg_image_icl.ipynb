{
 "cells": [
  {
   "cell_type": "code",
   "execution_count": 1,
   "metadata": {},
   "outputs": [
    {
     "name": "stdout",
     "output_type": "stream",
     "text": [
      "🦥 Unsloth: Will patch your computer to enable 2x faster free finetuning.\n",
      "🦥 Unsloth Zoo will now patch everything to make training faster!\n"
     ]
    }
   ],
   "source": [
    "import random\n",
    "import torch\n",
    "import json_repair\n",
    "import pandas as pd\n",
    "\n",
    "from tqdm import tqdm\n",
    "from datasets import Dataset\n",
    "\n",
    "from trl import SFTTrainer\n",
    "from transformers import TrainingArguments\n",
    "from unsloth.chat_templates import get_chat_template\n",
    "from unsloth import FastLanguageModel, is_bfloat16_supported\n",
    "\n",
    "import clip\n",
    "from PIL import Image\n",
    "import torch.nn.functional as F\n",
    "\n",
    "# from sklearn.metrics import classification_report\n",
    "# from sklearn.preprocessing import MultiLabelBinarizer\n",
    "# import torch.nn.functional as F\n",
    "\n",
    "\n",
    "# from pathlib import Path\n",
    "# from tqdm.notebook import tqdm\n",
    "# from operator import itemgetter\n",
    "# from sklearn.metrics import classification_report\n",
    "# from transformers import AutoTokenizer, AutoModel, AutoModelForCausalLM\n"
   ]
  },
  {
   "cell_type": "code",
   "execution_count": 4,
   "metadata": {},
   "outputs": [
    {
     "name": "stdout",
     "output_type": "stream",
     "text": [
      "==((====))==  Unsloth 2024.12.4: Fast Llama patching. Transformers:4.47.0.\n",
      "   \\\\   /|    GPU: NVIDIA H100 NVL. Max memory: 93.003 GB. Platform: Linux.\n",
      "O^O/ \\_/ \\    Torch: 2.5.1+cu124. CUDA: 9.0. CUDA Toolkit: 12.4. Triton: 3.1.0\n",
      "\\        /    Bfloat16 = TRUE. FA [Xformers = 0.0.28.post3. FA2 = False]\n",
      " \"-____-\"     Free Apache license: http://github.com/unslothai/unsloth\n",
      "Unsloth: Fast downloading is enabled - ignore downloading bars which are red colored!\n"
     ]
    }
   ],
   "source": [
    "k = 3\n",
    "max_seq_length = 2048\n",
    "\n",
    "model, tokenizer = FastLanguageModel.from_pretrained(\n",
    "    model_name=\"unsloth/Meta-Llama-3.1-8B-Instruct-bnb-4bit\",\n",
    "    max_seq_length=max_seq_length,\n",
    "    load_in_4bit=True,\n",
    "    dtype=None,\n",
    ")"
   ]
  },
  {
   "cell_type": "markdown",
   "metadata": {},
   "source": [
    "## Data Preparation"
   ]
  },
  {
   "cell_type": "code",
   "execution_count": 5,
   "metadata": {},
   "outputs": [],
   "source": [
    "df = pd.read_csv(\"/Utilisateurs/umushtaq/emotion_analysis_comics/dataset_files/comics_pg_w_images.csv\")"
   ]
  },
  {
   "cell_type": "code",
   "execution_count": 6,
   "metadata": {},
   "outputs": [
    {
     "data": {
      "text/html": [
       "<div>\n",
       "<style scoped>\n",
       "    .dataframe tbody tr th:only-of-type {\n",
       "        vertical-align: middle;\n",
       "    }\n",
       "\n",
       "    .dataframe tbody tr th {\n",
       "        vertical-align: top;\n",
       "    }\n",
       "\n",
       "    .dataframe thead th {\n",
       "        text-align: right;\n",
       "    }\n",
       "</style>\n",
       "<table border=\"1\" class=\"dataframe\">\n",
       "  <thead>\n",
       "    <tr style=\"text-align: right;\">\n",
       "      <th></th>\n",
       "      <th>Unnamed: 0</th>\n",
       "      <th>file_name</th>\n",
       "      <th>page_nr</th>\n",
       "      <th>split</th>\n",
       "      <th>utterance</th>\n",
       "      <th>emotion_c</th>\n",
       "      <th>comics_title</th>\n",
       "      <th>comics_id</th>\n",
       "      <th>image_path</th>\n",
       "    </tr>\n",
       "  </thead>\n",
       "  <tbody>\n",
       "    <tr>\n",
       "      <th>0</th>\n",
       "      <td>0</td>\n",
       "      <td>QC copy - 1499 - 58 ECC Co_mics 50 _The Jurass...</td>\n",
       "      <td>1</td>\n",
       "      <td>TRAIN</td>\n",
       "      <td>[\"THIS VILE THING ATTACKED THE SMALL BEASTS OF...</td>\n",
       "      <td>[['anger'], ['anger'], ['fear'], ['fear'], ['f...</td>\n",
       "      <td>Jurassic League #4</td>\n",
       "      <td>1499</td>\n",
       "      <td>/Utilisateurs/umushtaq/emotion_analysis_comics...</td>\n",
       "    </tr>\n",
       "    <tr>\n",
       "      <th>1</th>\n",
       "      <td>1</td>\n",
       "      <td>QC copy - 1499 - 58 ECC Co_mics 50 _The Jurass...</td>\n",
       "      <td>2</td>\n",
       "      <td>TRAIN</td>\n",
       "      <td>[\"NO--  #GKKK\\u2026#\", \"#CHOMP!\", \"BY THE SKIN...</td>\n",
       "      <td>[['fear'], ['anger'], ['surprise'], ['anger'],...</td>\n",
       "      <td>Jurassic League #4</td>\n",
       "      <td>1499</td>\n",
       "      <td>/Utilisateurs/umushtaq/emotion_analysis_comics...</td>\n",
       "    </tr>\n",
       "    <tr>\n",
       "      <th>2</th>\n",
       "      <td>2</td>\n",
       "      <td>QC copy - 1499 - 58 ECC Co_mics 50 _The Jurass...</td>\n",
       "      <td>3</td>\n",
       "      <td>TRAIN</td>\n",
       "      <td>[\"COME ON, BEAST!\", \"SHOW YOURSELF!\", \"WHY DO ...</td>\n",
       "      <td>[['joy'], ['joy'], ['anger'], ['anger']]</td>\n",
       "      <td>Jurassic League #4</td>\n",
       "      <td>1499</td>\n",
       "      <td>/Utilisateurs/umushtaq/emotion_analysis_comics...</td>\n",
       "    </tr>\n",
       "    <tr>\n",
       "      <th>3</th>\n",
       "      <td>3</td>\n",
       "      <td>QC copy - 1499 - 58 ECC Co_mics 50 _The Jurass...</td>\n",
       "      <td>4</td>\n",
       "      <td>TRAIN</td>\n",
       "      <td>[\"#AARGH! \"]</td>\n",
       "      <td>[['fear', 'surprise']]</td>\n",
       "      <td>Jurassic League #4</td>\n",
       "      <td>1499</td>\n",
       "      <td>/Utilisateurs/umushtaq/emotion_analysis_comics...</td>\n",
       "    </tr>\n",
       "    <tr>\n",
       "      <th>4</th>\n",
       "      <td>4</td>\n",
       "      <td>QC copy - 1499 - 58 ECC Co_mics 50 _The Jurass...</td>\n",
       "      <td>5</td>\n",
       "      <td>TRAIN</td>\n",
       "      <td>[\"I, THE GREEN TORCH, HAVE BEEN TASKED WITH PR...</td>\n",
       "      <td>[['anger'], ['anger'], ['fear'], ['fear', 'sur...</td>\n",
       "      <td>Jurassic League #4</td>\n",
       "      <td>1499</td>\n",
       "      <td>/Utilisateurs/umushtaq/emotion_analysis_comics...</td>\n",
       "    </tr>\n",
       "    <tr>\n",
       "      <th>...</th>\n",
       "      <td>...</td>\n",
       "      <td>...</td>\n",
       "      <td>...</td>\n",
       "      <td>...</td>\n",
       "      <td>...</td>\n",
       "      <td>...</td>\n",
       "      <td>...</td>\n",
       "      <td>...</td>\n",
       "      <td>...</td>\n",
       "    </tr>\n",
       "    <tr>\n",
       "      <th>869</th>\n",
       "      <td>869</td>\n",
       "      <td>QC copy - 2200 - Stillwater 13.xlsx</td>\n",
       "      <td>16</td>\n",
       "      <td>TEST</td>\n",
       "      <td>[\"WE WERE IN GALEN'S OFFICE. YOU WERE ABOUT TO...</td>\n",
       "      <td>[['anger'], ['anger'], ['anger'], ['anger'], [...</td>\n",
       "      <td>Stillwater #13</td>\n",
       "      <td>2200</td>\n",
       "      <td>/Utilisateurs/umushtaq/emotion_analysis_comics...</td>\n",
       "    </tr>\n",
       "    <tr>\n",
       "      <th>870</th>\n",
       "      <td>870</td>\n",
       "      <td>QC copy - 2200 - Stillwater 13.xlsx</td>\n",
       "      <td>17</td>\n",
       "      <td>TEST</td>\n",
       "      <td>[\"SO WHAT ARE WE GOING TO DO?\", \"THE WAY I SEE...</td>\n",
       "      <td>[['sadness', 'surprise'], ['anger'], ['anger']...</td>\n",
       "      <td>Stillwater #13</td>\n",
       "      <td>2200</td>\n",
       "      <td>/Utilisateurs/umushtaq/emotion_analysis_comics...</td>\n",
       "    </tr>\n",
       "    <tr>\n",
       "      <th>871</th>\n",
       "      <td>871</td>\n",
       "      <td>QC copy - 2200 - Stillwater 13.xlsx</td>\n",
       "      <td>18</td>\n",
       "      <td>TEST</td>\n",
       "      <td>[\"KIDDIE COUNCIL'S BEEN GOING A LONG TIME... \"...</td>\n",
       "      <td>[['anger', 'sadness'], ['anger'], ['anger'], [...</td>\n",
       "      <td>Stillwater #13</td>\n",
       "      <td>2200</td>\n",
       "      <td>/Utilisateurs/umushtaq/emotion_analysis_comics...</td>\n",
       "    </tr>\n",
       "    <tr>\n",
       "      <th>872</th>\n",
       "      <td>872</td>\n",
       "      <td>QC copy - 2200 - Stillwater 13.xlsx</td>\n",
       "      <td>19</td>\n",
       "      <td>TEST</td>\n",
       "      <td>[\"IT'S BEEN\\u2026 PEACEFUL. ASIDE FROM SHIT LI...</td>\n",
       "      <td>[['anger'], ['joy'], ['joy'], ['anger', 'surpr...</td>\n",
       "      <td>Stillwater #13</td>\n",
       "      <td>2200</td>\n",
       "      <td>/Utilisateurs/umushtaq/emotion_analysis_comics...</td>\n",
       "    </tr>\n",
       "    <tr>\n",
       "      <th>873</th>\n",
       "      <td>873</td>\n",
       "      <td>QC copy - 2200 - Stillwater 13.xlsx</td>\n",
       "      <td>20</td>\n",
       "      <td>TEST</td>\n",
       "      <td>[\"\\\" AND PAY OUR NEIGHBOURS A VISIT. \\\"\"]</td>\n",
       "      <td>[['anger', 'joy']]</td>\n",
       "      <td>Stillwater #13</td>\n",
       "      <td>2200</td>\n",
       "      <td>/Utilisateurs/umushtaq/emotion_analysis_comics...</td>\n",
       "    </tr>\n",
       "  </tbody>\n",
       "</table>\n",
       "<p>874 rows × 9 columns</p>\n",
       "</div>"
      ],
      "text/plain": [
       "     Unnamed: 0                                          file_name  page_nr  \\\n",
       "0             0  QC copy - 1499 - 58 ECC Co_mics 50 _The Jurass...        1   \n",
       "1             1  QC copy - 1499 - 58 ECC Co_mics 50 _The Jurass...        2   \n",
       "2             2  QC copy - 1499 - 58 ECC Co_mics 50 _The Jurass...        3   \n",
       "3             3  QC copy - 1499 - 58 ECC Co_mics 50 _The Jurass...        4   \n",
       "4             4  QC copy - 1499 - 58 ECC Co_mics 50 _The Jurass...        5   \n",
       "..          ...                                                ...      ...   \n",
       "869         869                QC copy - 2200 - Stillwater 13.xlsx       16   \n",
       "870         870                QC copy - 2200 - Stillwater 13.xlsx       17   \n",
       "871         871                QC copy - 2200 - Stillwater 13.xlsx       18   \n",
       "872         872                QC copy - 2200 - Stillwater 13.xlsx       19   \n",
       "873         873                QC copy - 2200 - Stillwater 13.xlsx       20   \n",
       "\n",
       "     split                                          utterance  \\\n",
       "0    TRAIN  [\"THIS VILE THING ATTACKED THE SMALL BEASTS OF...   \n",
       "1    TRAIN  [\"NO--  #GKKK\\u2026#\", \"#CHOMP!\", \"BY THE SKIN...   \n",
       "2    TRAIN  [\"COME ON, BEAST!\", \"SHOW YOURSELF!\", \"WHY DO ...   \n",
       "3    TRAIN                                       [\"#AARGH! \"]   \n",
       "4    TRAIN  [\"I, THE GREEN TORCH, HAVE BEEN TASKED WITH PR...   \n",
       "..     ...                                                ...   \n",
       "869   TEST  [\"WE WERE IN GALEN'S OFFICE. YOU WERE ABOUT TO...   \n",
       "870   TEST  [\"SO WHAT ARE WE GOING TO DO?\", \"THE WAY I SEE...   \n",
       "871   TEST  [\"KIDDIE COUNCIL'S BEEN GOING A LONG TIME... \"...   \n",
       "872   TEST  [\"IT'S BEEN\\u2026 PEACEFUL. ASIDE FROM SHIT LI...   \n",
       "873   TEST          [\"\\\" AND PAY OUR NEIGHBOURS A VISIT. \\\"\"]   \n",
       "\n",
       "                                             emotion_c        comics_title  \\\n",
       "0    [['anger'], ['anger'], ['fear'], ['fear'], ['f...  Jurassic League #4   \n",
       "1    [['fear'], ['anger'], ['surprise'], ['anger'],...  Jurassic League #4   \n",
       "2             [['joy'], ['joy'], ['anger'], ['anger']]  Jurassic League #4   \n",
       "3                               [['fear', 'surprise']]  Jurassic League #4   \n",
       "4    [['anger'], ['anger'], ['fear'], ['fear', 'sur...  Jurassic League #4   \n",
       "..                                                 ...                 ...   \n",
       "869  [['anger'], ['anger'], ['anger'], ['anger'], [...      Stillwater #13   \n",
       "870  [['sadness', 'surprise'], ['anger'], ['anger']...      Stillwater #13   \n",
       "871  [['anger', 'sadness'], ['anger'], ['anger'], [...      Stillwater #13   \n",
       "872  [['anger'], ['joy'], ['joy'], ['anger', 'surpr...      Stillwater #13   \n",
       "873                                 [['anger', 'joy']]      Stillwater #13   \n",
       "\n",
       "     comics_id                                         image_path  \n",
       "0         1499  /Utilisateurs/umushtaq/emotion_analysis_comics...  \n",
       "1         1499  /Utilisateurs/umushtaq/emotion_analysis_comics...  \n",
       "2         1499  /Utilisateurs/umushtaq/emotion_analysis_comics...  \n",
       "3         1499  /Utilisateurs/umushtaq/emotion_analysis_comics...  \n",
       "4         1499  /Utilisateurs/umushtaq/emotion_analysis_comics...  \n",
       "..         ...                                                ...  \n",
       "869       2200  /Utilisateurs/umushtaq/emotion_analysis_comics...  \n",
       "870       2200  /Utilisateurs/umushtaq/emotion_analysis_comics...  \n",
       "871       2200  /Utilisateurs/umushtaq/emotion_analysis_comics...  \n",
       "872       2200  /Utilisateurs/umushtaq/emotion_analysis_comics...  \n",
       "873       2200  /Utilisateurs/umushtaq/emotion_analysis_comics...  \n",
       "\n",
       "[874 rows x 9 columns]"
      ]
     },
     "execution_count": 6,
     "metadata": {},
     "output_type": "execute_result"
    }
   ],
   "source": [
    "df"
   ]
  },
  {
   "cell_type": "code",
   "execution_count": 7,
   "metadata": {},
   "outputs": [],
   "source": [
    "device = \"cuda\" if torch.cuda.is_available() else \"cpu\"\n",
    "image_embed_model, preprocess = clip.load(\"ViT-B/32\", device=device)"
   ]
  },
  {
   "cell_type": "code",
   "execution_count": 8,
   "metadata": {},
   "outputs": [],
   "source": [
    "dataset_images = df.image_path.tolist()"
   ]
  },
  {
   "cell_type": "code",
   "execution_count": 21,
   "metadata": {},
   "outputs": [
    {
     "name": "stderr",
     "output_type": "stream",
     "text": [
      "100%|██████████| 874/874 [04:44<00:00,  3.07it/s]\n"
     ]
    }
   ],
   "source": [
    "image_encodings = {}\n",
    "\n",
    "for image in tqdm(dataset_images):\n",
    "    \n",
    "    image_p = preprocess(Image.open(image)).unsqueeze(0).to(device) # type: ignore\n",
    "    image_features = image_embed_model.encode_image(image_p).squeeze().cpu()\n",
    "    image_encodings[image] = image_features.detach().numpy()"
   ]
  },
  {
   "cell_type": "code",
   "execution_count": 22,
   "metadata": {},
   "outputs": [
    {
     "data": {
      "text/plain": [
       "array([-5.8887e-01,  6.4697e-01, -9.7961e-02,  9.7229e-02,  5.0879e-01,\n",
       "       -1.8604e-01,  3.1641e-01, -2.4097e-01, -2.8549e-02, -2.8711e-01,\n",
       "        2.0801e-01,  2.3041e-02,  3.8989e-01, -1.8417e-02, -2.8809e-01,\n",
       "        2.1667e-01, -2.5952e-01, -1.4844e-01,  3.1891e-02, -3.3887e-01,\n",
       "       -8.6572e-01, -2.9150e-01,  2.2144e-01,  7.7197e-01, -1.3562e-01,\n",
       "        1.1218e-01,  8.1055e-01, -1.5076e-01, -9.9304e-02,  2.4704e-02,\n",
       "       -2.3376e-01,  1.0687e-01, -7.6523e-03, -1.5759e-01,  5.0977e-01,\n",
       "        6.7673e-03,  1.4380e-01,  5.2881e-01,  2.1545e-01, -3.3276e-01,\n",
       "        2.8491e-01, -4.6411e-01,  8.2336e-02, -4.0234e-01,  3.2349e-01,\n",
       "        1.3906e+00,  3.2495e-01, -2.1439e-02, -3.1641e-01, -9.2850e-03,\n",
       "        1.3855e-01, -3.3521e-01,  1.9141e-01, -8.3801e-02,  1.6772e-01,\n",
       "       -1.4819e-01,  2.4878e-01, -7.1472e-02,  1.8665e-01, -3.7750e-02,\n",
       "        1.2183e-01,  7.3486e-02,  1.9495e-01,  2.1484e-01, -1.1475e-01,\n",
       "        2.3645e-01,  2.0020e-01,  4.1675e-01,  6.9336e-02,  1.3147e-01,\n",
       "        1.2018e-01,  1.1426e-01, -3.6108e-01, -1.3550e-01,  1.0175e-01,\n",
       "       -1.1121e-01, -1.4197e-01, -3.5431e-02, -1.9092e-01,  2.0508e-02,\n",
       "        1.6553e-01, -7.1045e-02, -3.7793e-01,  3.8574e-01,  2.2961e-01,\n",
       "        2.8418e-01, -2.6807e-01,  1.3660e-01, -6.4258e-01, -2.0416e-02,\n",
       "       -5.2719e-03,  5.7422e-01, -6.2188e+00,  5.9473e-01, -1.8311e-01,\n",
       "        1.3086e-01,  1.1810e-01, -2.0422e-01, -2.2182e-03,  2.7686e-01,\n",
       "        3.7842e-01, -4.2676e-01,  1.8018e-01, -1.4709e-01, -3.8110e-01,\n",
       "        1.6891e-02, -1.7979e+00, -3.6646e-01, -1.9702e-01,  1.0236e-01,\n",
       "        2.2839e-01, -1.6479e-01, -2.5757e-01, -1.8112e-02,  2.4182e-01,\n",
       "        6.4307e-01,  2.9248e-01,  1.4954e-01,  3.6328e-01,  1.8762e-01,\n",
       "        3.7549e-01, -2.8809e-01,  9.3307e-03,  1.6626e-01,  2.2949e-01,\n",
       "       -4.6533e-01,  3.8721e-01,  1.4832e-01, -2.6392e-01, -3.2373e-01,\n",
       "        5.3833e-02,  1.9336e-01, -6.6162e-02,  7.7002e-01, -2.8784e-01,\n",
       "       -1.3725e-02, -5.7422e-01, -5.0977e-01, -1.0181e-01,  2.2192e-01,\n",
       "       -2.7130e-02, -3.8666e-02,  8.4534e-02,  2.3468e-02, -9.5398e-02,\n",
       "        3.0444e-01, -4.1211e-01,  4.1260e-02,  1.4893e-02,  9.8450e-02,\n",
       "       -3.7769e-01,  3.0249e-01, -1.1055e+00, -2.4048e-01, -2.7173e-01,\n",
       "       -4.0234e-01,  4.3213e-01, -2.0520e-01,  1.3440e-01, -5.0684e-01,\n",
       "        3.4839e-01, -1.9287e-02,  1.0675e-01,  5.8057e-01,  1.3293e-01,\n",
       "        7.3181e-02, -8.7158e-01,  2.2217e-01, -2.7710e-01, -5.2637e-01,\n",
       "       -2.3743e-02,  2.8345e-01, -1.3538e-01, -9.7168e-02,  1.1591e-01,\n",
       "       -1.7017e-01, -8.9111e-01,  5.2979e-02, -8.0664e-01,  2.6880e-01,\n",
       "        7.4121e-01, -1.8896e-01, -3.8696e-01,  1.6211e-01, -8.4534e-02,\n",
       "        1.8542e-01,  5.2002e-01, -4.4556e-01, -3.4961e-01, -2.7943e-03,\n",
       "        1.1639e-01,  2.8662e-01,  3.3569e-01, -9.8389e-02, -1.2803e+00,\n",
       "        2.5299e-02,  2.2400e-01, -1.1780e-01,  4.8242e-01, -2.5928e-01,\n",
       "       -1.3252e-02,  3.2983e-01,  7.5684e-02,  4.8866e-03,  2.6123e-01,\n",
       "       -1.0907e-01, -6.2622e-02,  6.8420e-02,  8.7524e-02,  5.6122e-02,\n",
       "       -4.3799e-01,  2.7808e-01, -1.0950e-01, -4.7681e-01, -1.0211e-01,\n",
       "       -2.9129e-02,  3.3862e-01,  1.7395e-01,  6.8359e-01, -6.2317e-02,\n",
       "        6.0156e-01,  1.4008e-02, -3.4766e-01,  4.6533e-01,  1.1487e-01,\n",
       "       -6.1829e-02,  4.9756e-01,  1.5991e-01,  7.5302e-03, -2.7661e-01,\n",
       "       -7.1945e-03, -5.9521e-01,  6.4160e-01,  3.9624e-01,  3.8013e-01,\n",
       "        4.5654e-01,  8.4734e-04,  2.0581e-01, -2.8564e-01, -3.2129e-01,\n",
       "       -5.1172e-01, -2.3779e-01,  4.6167e-01,  2.0703e-01,  1.7749e-01,\n",
       "       -6.5674e-01, -7.6660e-02,  3.7292e-02, -4.2725e-01,  1.2585e-01,\n",
       "        3.5156e-01,  1.7090e-01, -2.8296e-01,  1.9543e-01,  1.6687e-01,\n",
       "       -1.3721e-01, -2.6978e-01,  5.1660e-01, -1.7861e+00,  8.3618e-02,\n",
       "       -1.9617e-01, -1.0974e-01,  1.6983e-02, -2.4609e+00,  2.0276e-01,\n",
       "       -2.4841e-01,  2.1216e-01,  6.4502e-01, -1.6357e-01,  5.9113e-02,\n",
       "       -2.1936e-01, -3.2861e-01,  7.9834e-02,  1.4050e-01,  1.0089e-01,\n",
       "       -8.3984e-02, -1.2585e-01,  1.0052e-01, -2.4219e-01,  1.9006e-01,\n",
       "        8.0139e-02, -4.2090e-01,  3.0298e-01, -3.0200e-01, -3.3203e-01,\n",
       "       -1.7749e-01,  2.5562e-01,  4.6600e-02, -4.5923e-01, -1.1194e-01,\n",
       "        3.3875e-03,  7.7209e-02, -7.2449e-02,  5.6641e-01, -6.8176e-02,\n",
       "        1.4685e-01,  7.8760e-01,  4.7388e-01,  7.5195e-02,  9.1736e-02,\n",
       "       -9.5520e-02, -1.2720e-01, -3.8052e-03,  1.7236e-01,  1.1475e-01,\n",
       "       -3.0273e-01, -1.7688e-01,  1.6174e-02,  9.3750e-01,  2.1057e-01,\n",
       "       -4.8767e-02,  5.2100e-01,  7.6660e-01,  4.1089e-01, -4.0381e-01,\n",
       "       -4.1406e-01,  1.0712e-01,  2.0691e-01,  1.5247e-01,  4.7729e-01,\n",
       "       -2.5681e-02,  3.3813e-01, -9.7168e-02,  1.5640e-02,  4.6924e-01,\n",
       "       -1.6211e-01,  6.2891e-01,  4.9477e-03,  1.1200e-01, -4.2407e-01,\n",
       "        1.6541e-01, -6.4575e-02,  1.3806e-01,  2.1011e-02, -3.4692e-01,\n",
       "        1.6785e-01,  1.1267e-01,  1.3440e-01,  5.6982e-01,  5.3418e-01,\n",
       "       -3.1958e-01,  2.6050e-01,  2.5879e-02, -1.3916e-01,  1.3940e-01,\n",
       "        2.8467e-01,  3.3740e-01, -5.1544e-02,  3.2227e-01,  2.3108e-01,\n",
       "        2.9468e-01,  1.5710e-01,  1.4023e-02, -4.9146e-01,  3.7048e-02,\n",
       "       -4.9011e-02, -3.4863e-01, -1.1731e-01, -4.9706e-03,  2.4829e-01,\n",
       "        3.5620e-01,  2.4939e-01,  8.7051e-03, -1.8103e-01, -9.4482e-01,\n",
       "        9.6436e-02,  4.9561e-02, -4.1382e-01, -2.2034e-01, -1.6919e-01,\n",
       "       -1.3451e-02,  4.8608e-01,  1.5942e-01, -1.7590e-01,  2.6172e-01,\n",
       "        1.3232e-01, -8.7646e-02,  2.6855e-01, -1.4587e-01,  1.8506e-01,\n",
       "       -6.2805e-02, -5.5762e-01, -2.4756e-01, -1.1127e-01,  6.8970e-02,\n",
       "        3.8159e-01,  2.1899e-01,  1.6125e-01, -7.1472e-02,  1.5320e-01,\n",
       "        1.6785e-01,  3.5767e-01,  2.6392e-01,  7.7209e-02, -5.8203e-01,\n",
       "       -2.6904e-01,  3.4863e-01,  1.0565e-01,  2.2839e-01, -3.3740e-01,\n",
       "        5.6519e-02, -4.1992e-01, -1.0879e+00, -5.1318e-01,  3.2593e-01,\n",
       "       -9.3079e-03,  7.9651e-02, -3.0688e-01,  5.7373e-01, -3.3618e-01,\n",
       "        1.9934e-01,  2.1472e-01,  2.5864e-02,  4.6967e-02,  2.0264e-01,\n",
       "        5.7861e-01, -7.7515e-02, -2.7124e-01, -2.7563e-01, -8.4375e-01,\n",
       "       -1.8280e-02, -1.4392e-01,  3.5107e-01,  1.4221e-01, -1.3123e-01,\n",
       "        5.2246e-02, -9.4421e-02,  5.5859e-01,  1.2783e+00,  1.7065e-01,\n",
       "       -8.8135e-02,  5.8691e-01, -8.6816e-01, -3.0273e-01,  5.1514e-01,\n",
       "       -4.6509e-01, -6.4160e-01, -1.4062e-01,  5.0488e-01, -4.4507e-01,\n",
       "       -1.9684e-02,  2.3645e-01,  7.2571e-02, -3.9136e-01, -2.9712e-01,\n",
       "        2.1094e-01,  2.1875e-01,  7.9834e-02,  1.2866e-01,  1.6870e-01,\n",
       "        1.2335e-01,  1.5930e-01,  1.1658e-01,  4.1919e-01, -3.3020e-02,\n",
       "       -6.2805e-02, -6.8481e-02,  6.4148e-02, -2.7563e-01,  9.2163e-02,\n",
       "        1.2207e-01, -8.0811e-02,  5.7861e-01, -1.8457e-01,  8.1177e-02,\n",
       "        5.0323e-02, -3.5614e-02,  1.9324e-01, -2.3083e-01,  4.8267e-01,\n",
       "       -5.3864e-03,  6.3184e-01,  7.5500e-02,  1.6138e-01, -2.0618e-01,\n",
       "       -3.6548e-01,  1.7798e-01,  9.2041e-02,  2.3145e-01, -1.6614e-01,\n",
       "       -1.5515e-01, -4.4586e-02,  2.7417e-01,  4.4458e-01,  9.7656e-02,\n",
       "       -1.0950e-01,  7.7332e-02, -3.3447e-01,  4.1846e-01, -2.7100e-01,\n",
       "        4.7583e-01, -1.3306e-01,  6.0400e-01, -1.4856e-01,  2.4658e-01,\n",
       "       -1.4429e-01,  6.0986e-01, -7.1411e-02,  7.8186e-02,  2.9492e-01,\n",
       "       -1.6876e-02,  3.1543e-01, -5.0146e-01,  5.1514e-02,  1.8945e-01,\n",
       "        4.0985e-02, -6.0333e-02,  3.3911e-01, -1.3110e-01,  7.3926e-01,\n",
       "        2.2925e-01,  5.9845e-02], dtype=float16)"
      ]
     },
     "execution_count": 22,
     "metadata": {},
     "output_type": "execute_result"
    }
   ],
   "source": [
    "image_encodings['/Utilisateurs/umushtaq/emotion_analysis_comics/comics_dataset_images/001499/images/page00001.jpg']"
   ]
  },
  {
   "cell_type": "code",
   "execution_count": 23,
   "metadata": {},
   "outputs": [],
   "source": [
    "df['image_embedding'] = df.image_path.apply(lambda x: image_encodings[x])"
   ]
  },
  {
   "cell_type": "code",
   "execution_count": 24,
   "metadata": {},
   "outputs": [
    {
     "data": {
      "text/html": [
       "<div>\n",
       "<style scoped>\n",
       "    .dataframe tbody tr th:only-of-type {\n",
       "        vertical-align: middle;\n",
       "    }\n",
       "\n",
       "    .dataframe tbody tr th {\n",
       "        vertical-align: top;\n",
       "    }\n",
       "\n",
       "    .dataframe thead th {\n",
       "        text-align: right;\n",
       "    }\n",
       "</style>\n",
       "<table border=\"1\" class=\"dataframe\">\n",
       "  <thead>\n",
       "    <tr style=\"text-align: right;\">\n",
       "      <th></th>\n",
       "      <th>Unnamed: 0</th>\n",
       "      <th>file_name</th>\n",
       "      <th>page_nr</th>\n",
       "      <th>split</th>\n",
       "      <th>utterance</th>\n",
       "      <th>emotion_c</th>\n",
       "      <th>comics_title</th>\n",
       "      <th>comics_id</th>\n",
       "      <th>image_path</th>\n",
       "      <th>image_embedding</th>\n",
       "    </tr>\n",
       "  </thead>\n",
       "  <tbody>\n",
       "    <tr>\n",
       "      <th>0</th>\n",
       "      <td>0</td>\n",
       "      <td>QC copy - 1499 - 58 ECC Co_mics 50 _The Jurass...</td>\n",
       "      <td>1</td>\n",
       "      <td>TRAIN</td>\n",
       "      <td>[\"THIS VILE THING ATTACKED THE SMALL BEASTS OF...</td>\n",
       "      <td>[['anger'], ['anger'], ['fear'], ['fear'], ['f...</td>\n",
       "      <td>Jurassic League #4</td>\n",
       "      <td>1499</td>\n",
       "      <td>/Utilisateurs/umushtaq/emotion_analysis_comics...</td>\n",
       "      <td>[-0.589, 0.647, -0.09796, 0.0972, 0.509, -0.18...</td>\n",
       "    </tr>\n",
       "    <tr>\n",
       "      <th>1</th>\n",
       "      <td>1</td>\n",
       "      <td>QC copy - 1499 - 58 ECC Co_mics 50 _The Jurass...</td>\n",
       "      <td>2</td>\n",
       "      <td>TRAIN</td>\n",
       "      <td>[\"NO--  #GKKK\\u2026#\", \"#CHOMP!\", \"BY THE SKIN...</td>\n",
       "      <td>[['fear'], ['anger'], ['surprise'], ['anger'],...</td>\n",
       "      <td>Jurassic League #4</td>\n",
       "      <td>1499</td>\n",
       "      <td>/Utilisateurs/umushtaq/emotion_analysis_comics...</td>\n",
       "      <td>[-0.7397, 0.6367, -0.2167, 0.3684, 0.1387, -0....</td>\n",
       "    </tr>\n",
       "    <tr>\n",
       "      <th>2</th>\n",
       "      <td>2</td>\n",
       "      <td>QC copy - 1499 - 58 ECC Co_mics 50 _The Jurass...</td>\n",
       "      <td>3</td>\n",
       "      <td>TRAIN</td>\n",
       "      <td>[\"COME ON, BEAST!\", \"SHOW YOURSELF!\", \"WHY DO ...</td>\n",
       "      <td>[['joy'], ['joy'], ['anger'], ['anger']]</td>\n",
       "      <td>Jurassic League #4</td>\n",
       "      <td>1499</td>\n",
       "      <td>/Utilisateurs/umushtaq/emotion_analysis_comics...</td>\n",
       "      <td>[-0.2688, 0.692, -0.2815, 0.002438, 0.3242, -0...</td>\n",
       "    </tr>\n",
       "    <tr>\n",
       "      <th>3</th>\n",
       "      <td>3</td>\n",
       "      <td>QC copy - 1499 - 58 ECC Co_mics 50 _The Jurass...</td>\n",
       "      <td>4</td>\n",
       "      <td>TRAIN</td>\n",
       "      <td>[\"#AARGH! \"]</td>\n",
       "      <td>[['fear', 'surprise']]</td>\n",
       "      <td>Jurassic League #4</td>\n",
       "      <td>1499</td>\n",
       "      <td>/Utilisateurs/umushtaq/emotion_analysis_comics...</td>\n",
       "      <td>[-0.4148, 0.504, 0.1909, 0.1763, 0.2874, 0.087...</td>\n",
       "    </tr>\n",
       "    <tr>\n",
       "      <th>4</th>\n",
       "      <td>4</td>\n",
       "      <td>QC copy - 1499 - 58 ECC Co_mics 50 _The Jurass...</td>\n",
       "      <td>5</td>\n",
       "      <td>TRAIN</td>\n",
       "      <td>[\"I, THE GREEN TORCH, HAVE BEEN TASKED WITH PR...</td>\n",
       "      <td>[['anger'], ['anger'], ['fear'], ['fear', 'sur...</td>\n",
       "      <td>Jurassic League #4</td>\n",
       "      <td>1499</td>\n",
       "      <td>/Utilisateurs/umushtaq/emotion_analysis_comics...</td>\n",
       "      <td>[-0.5005, 0.7563, -0.1572, 0.0667, 0.1208, 0.2...</td>\n",
       "    </tr>\n",
       "    <tr>\n",
       "      <th>...</th>\n",
       "      <td>...</td>\n",
       "      <td>...</td>\n",
       "      <td>...</td>\n",
       "      <td>...</td>\n",
       "      <td>...</td>\n",
       "      <td>...</td>\n",
       "      <td>...</td>\n",
       "      <td>...</td>\n",
       "      <td>...</td>\n",
       "      <td>...</td>\n",
       "    </tr>\n",
       "    <tr>\n",
       "      <th>869</th>\n",
       "      <td>869</td>\n",
       "      <td>QC copy - 2200 - Stillwater 13.xlsx</td>\n",
       "      <td>16</td>\n",
       "      <td>TEST</td>\n",
       "      <td>[\"WE WERE IN GALEN'S OFFICE. YOU WERE ABOUT TO...</td>\n",
       "      <td>[['anger'], ['anger'], ['anger'], ['anger'], [...</td>\n",
       "      <td>Stillwater #13</td>\n",
       "      <td>2200</td>\n",
       "      <td>/Utilisateurs/umushtaq/emotion_analysis_comics...</td>\n",
       "      <td>[-0.3933, 0.706, -0.09546, 0.3477, -0.1542, -0...</td>\n",
       "    </tr>\n",
       "    <tr>\n",
       "      <th>870</th>\n",
       "      <td>870</td>\n",
       "      <td>QC copy - 2200 - Stillwater 13.xlsx</td>\n",
       "      <td>17</td>\n",
       "      <td>TEST</td>\n",
       "      <td>[\"SO WHAT ARE WE GOING TO DO?\", \"THE WAY I SEE...</td>\n",
       "      <td>[['sadness', 'surprise'], ['anger'], ['anger']...</td>\n",
       "      <td>Stillwater #13</td>\n",
       "      <td>2200</td>\n",
       "      <td>/Utilisateurs/umushtaq/emotion_analysis_comics...</td>\n",
       "      <td>[-0.4753, 0.2815, -0.3374, 0.5576, 0.339, -0.2...</td>\n",
       "    </tr>\n",
       "    <tr>\n",
       "      <th>871</th>\n",
       "      <td>871</td>\n",
       "      <td>QC copy - 2200 - Stillwater 13.xlsx</td>\n",
       "      <td>18</td>\n",
       "      <td>TEST</td>\n",
       "      <td>[\"KIDDIE COUNCIL'S BEEN GOING A LONG TIME... \"...</td>\n",
       "      <td>[['anger', 'sadness'], ['anger'], ['anger'], [...</td>\n",
       "      <td>Stillwater #13</td>\n",
       "      <td>2200</td>\n",
       "      <td>/Utilisateurs/umushtaq/emotion_analysis_comics...</td>\n",
       "      <td>[-0.5327, 0.2303, -0.2115, 0.709, 0.003029, -0...</td>\n",
       "    </tr>\n",
       "    <tr>\n",
       "      <th>872</th>\n",
       "      <td>872</td>\n",
       "      <td>QC copy - 2200 - Stillwater 13.xlsx</td>\n",
       "      <td>19</td>\n",
       "      <td>TEST</td>\n",
       "      <td>[\"IT'S BEEN\\u2026 PEACEFUL. ASIDE FROM SHIT LI...</td>\n",
       "      <td>[['anger'], ['joy'], ['joy'], ['anger', 'surpr...</td>\n",
       "      <td>Stillwater #13</td>\n",
       "      <td>2200</td>\n",
       "      <td>/Utilisateurs/umushtaq/emotion_analysis_comics...</td>\n",
       "      <td>[-0.6104, 0.5825, -0.0996, 0.522, 0.159, 0.101...</td>\n",
       "    </tr>\n",
       "    <tr>\n",
       "      <th>873</th>\n",
       "      <td>873</td>\n",
       "      <td>QC copy - 2200 - Stillwater 13.xlsx</td>\n",
       "      <td>20</td>\n",
       "      <td>TEST</td>\n",
       "      <td>[\"\\\" AND PAY OUR NEIGHBOURS A VISIT. \\\"\"]</td>\n",
       "      <td>[['anger', 'joy']]</td>\n",
       "      <td>Stillwater #13</td>\n",
       "      <td>2200</td>\n",
       "      <td>/Utilisateurs/umushtaq/emotion_analysis_comics...</td>\n",
       "      <td>[0.2715, 0.1815, -0.528, 0.1775, 0.1969, -0.36...</td>\n",
       "    </tr>\n",
       "  </tbody>\n",
       "</table>\n",
       "<p>874 rows × 10 columns</p>\n",
       "</div>"
      ],
      "text/plain": [
       "     Unnamed: 0                                          file_name  page_nr  \\\n",
       "0             0  QC copy - 1499 - 58 ECC Co_mics 50 _The Jurass...        1   \n",
       "1             1  QC copy - 1499 - 58 ECC Co_mics 50 _The Jurass...        2   \n",
       "2             2  QC copy - 1499 - 58 ECC Co_mics 50 _The Jurass...        3   \n",
       "3             3  QC copy - 1499 - 58 ECC Co_mics 50 _The Jurass...        4   \n",
       "4             4  QC copy - 1499 - 58 ECC Co_mics 50 _The Jurass...        5   \n",
       "..          ...                                                ...      ...   \n",
       "869         869                QC copy - 2200 - Stillwater 13.xlsx       16   \n",
       "870         870                QC copy - 2200 - Stillwater 13.xlsx       17   \n",
       "871         871                QC copy - 2200 - Stillwater 13.xlsx       18   \n",
       "872         872                QC copy - 2200 - Stillwater 13.xlsx       19   \n",
       "873         873                QC copy - 2200 - Stillwater 13.xlsx       20   \n",
       "\n",
       "     split                                          utterance  \\\n",
       "0    TRAIN  [\"THIS VILE THING ATTACKED THE SMALL BEASTS OF...   \n",
       "1    TRAIN  [\"NO--  #GKKK\\u2026#\", \"#CHOMP!\", \"BY THE SKIN...   \n",
       "2    TRAIN  [\"COME ON, BEAST!\", \"SHOW YOURSELF!\", \"WHY DO ...   \n",
       "3    TRAIN                                       [\"#AARGH! \"]   \n",
       "4    TRAIN  [\"I, THE GREEN TORCH, HAVE BEEN TASKED WITH PR...   \n",
       "..     ...                                                ...   \n",
       "869   TEST  [\"WE WERE IN GALEN'S OFFICE. YOU WERE ABOUT TO...   \n",
       "870   TEST  [\"SO WHAT ARE WE GOING TO DO?\", \"THE WAY I SEE...   \n",
       "871   TEST  [\"KIDDIE COUNCIL'S BEEN GOING A LONG TIME... \"...   \n",
       "872   TEST  [\"IT'S BEEN\\u2026 PEACEFUL. ASIDE FROM SHIT LI...   \n",
       "873   TEST          [\"\\\" AND PAY OUR NEIGHBOURS A VISIT. \\\"\"]   \n",
       "\n",
       "                                             emotion_c        comics_title  \\\n",
       "0    [['anger'], ['anger'], ['fear'], ['fear'], ['f...  Jurassic League #4   \n",
       "1    [['fear'], ['anger'], ['surprise'], ['anger'],...  Jurassic League #4   \n",
       "2             [['joy'], ['joy'], ['anger'], ['anger']]  Jurassic League #4   \n",
       "3                               [['fear', 'surprise']]  Jurassic League #4   \n",
       "4    [['anger'], ['anger'], ['fear'], ['fear', 'sur...  Jurassic League #4   \n",
       "..                                                 ...                 ...   \n",
       "869  [['anger'], ['anger'], ['anger'], ['anger'], [...      Stillwater #13   \n",
       "870  [['sadness', 'surprise'], ['anger'], ['anger']...      Stillwater #13   \n",
       "871  [['anger', 'sadness'], ['anger'], ['anger'], [...      Stillwater #13   \n",
       "872  [['anger'], ['joy'], ['joy'], ['anger', 'surpr...      Stillwater #13   \n",
       "873                                 [['anger', 'joy']]      Stillwater #13   \n",
       "\n",
       "     comics_id                                         image_path  \\\n",
       "0         1499  /Utilisateurs/umushtaq/emotion_analysis_comics...   \n",
       "1         1499  /Utilisateurs/umushtaq/emotion_analysis_comics...   \n",
       "2         1499  /Utilisateurs/umushtaq/emotion_analysis_comics...   \n",
       "3         1499  /Utilisateurs/umushtaq/emotion_analysis_comics...   \n",
       "4         1499  /Utilisateurs/umushtaq/emotion_analysis_comics...   \n",
       "..         ...                                                ...   \n",
       "869       2200  /Utilisateurs/umushtaq/emotion_analysis_comics...   \n",
       "870       2200  /Utilisateurs/umushtaq/emotion_analysis_comics...   \n",
       "871       2200  /Utilisateurs/umushtaq/emotion_analysis_comics...   \n",
       "872       2200  /Utilisateurs/umushtaq/emotion_analysis_comics...   \n",
       "873       2200  /Utilisateurs/umushtaq/emotion_analysis_comics...   \n",
       "\n",
       "                                       image_embedding  \n",
       "0    [-0.589, 0.647, -0.09796, 0.0972, 0.509, -0.18...  \n",
       "1    [-0.7397, 0.6367, -0.2167, 0.3684, 0.1387, -0....  \n",
       "2    [-0.2688, 0.692, -0.2815, 0.002438, 0.3242, -0...  \n",
       "3    [-0.4148, 0.504, 0.1909, 0.1763, 0.2874, 0.087...  \n",
       "4    [-0.5005, 0.7563, -0.1572, 0.0667, 0.1208, 0.2...  \n",
       "..                                                 ...  \n",
       "869  [-0.3933, 0.706, -0.09546, 0.3477, -0.1542, -0...  \n",
       "870  [-0.4753, 0.2815, -0.3374, 0.5576, 0.339, -0.2...  \n",
       "871  [-0.5327, 0.2303, -0.2115, 0.709, 0.003029, -0...  \n",
       "872  [-0.6104, 0.5825, -0.0996, 0.522, 0.159, 0.101...  \n",
       "873  [0.2715, 0.1815, -0.528, 0.1775, 0.1969, -0.36...  \n",
       "\n",
       "[874 rows x 10 columns]"
      ]
     },
     "execution_count": 24,
     "metadata": {},
     "output_type": "execute_result"
    }
   ],
   "source": [
    "df"
   ]
  },
  {
   "cell_type": "markdown",
   "metadata": {},
   "source": [
    "### Get K neighbours"
   ]
  },
  {
   "cell_type": "code",
   "execution_count": 30,
   "metadata": {},
   "outputs": [],
   "source": [
    "from operator import itemgetter\n",
    "\n",
    "def get_k_neighbours(k, image, train_df, test_df):\n",
    "    \n",
    "    \n",
    "    test_image_embedding = test_df[test_df.image_path == image][\"image_embedding\"].values[0]\n",
    "\n",
    "    image_embed_d = {}\n",
    "    \n",
    "    for e in train_df.iterrows():\n",
    "        \n",
    "        embedding_key = tuple(e[1].image_embedding)\n",
    "        if embedding_key not in image_embed_d:\n",
    "            \n",
    "            image_embed_d[e[1].image_path] = e[1].image_embedding\n",
    "\n",
    "    train_image_paths = set(train_df.image_path)\n",
    "\n",
    "    dist_l = []\n",
    "    \n",
    "    for p, v in image_embed_d.items():\n",
    "        if p in train_image_paths:\n",
    "            \n",
    "            d = F.cosine_similarity(torch.tensor(test_image_embedding), torch.tensor(v), dim=0)\n",
    "            dist_l.append((p, d.item()))\n",
    "\n",
    "    sorted_dist_l = sorted(dist_l, key=itemgetter(1), reverse=True)\n",
    "    \n",
    "    return sorted_dist_l[0: k]"
   ]
  },
  {
   "cell_type": "code",
   "execution_count": 31,
   "metadata": {},
   "outputs": [],
   "source": [
    "train_df = df[df.split == \"TRAIN\"].reset_index(drop=True)\n",
    "test_df = df[df.split == \"TEST\"].reset_index(drop=True)"
   ]
  },
  {
   "cell_type": "code",
   "execution_count": 33,
   "metadata": {},
   "outputs": [
    {
     "data": {
      "text/plain": [
       "[('/Utilisateurs/umushtaq/emotion_analysis_comics/comics_dataset_images/001517/images/page00058.jpg',\n",
       "  0.8876953125),\n",
       " ('/Utilisateurs/umushtaq/emotion_analysis_comics/comics_dataset_images/001517/images/page00056.jpg',\n",
       "  0.88037109375),\n",
       " ('/Utilisateurs/umushtaq/emotion_analysis_comics/comics_dataset_images/001562/images/page00005.jpg',\n",
       "  0.87158203125)]"
      ]
     },
     "execution_count": 33,
     "metadata": {},
     "output_type": "execute_result"
    }
   ],
   "source": [
    "get_k_neighbours(3, test_df.iloc[3]['image_path'], train_df, test_df)"
   ]
  },
  {
   "cell_type": "code",
   "execution_count": 36,
   "metadata": {},
   "outputs": [],
   "source": [
    "import ast\n",
    "import json"
   ]
  },
  {
   "cell_type": "code",
   "execution_count": 43,
   "metadata": {},
   "outputs": [],
   "source": [
    "def prepare_similar_example_prompts(image, k, train_df, test_df, seed=33):\n",
    "    \"\"\"\n",
    "    Create a part of the prompt made of k examples in the train set,\n",
    "    whose topic is most similar to a given title.\n",
    "    \"\"\"\n",
    "\n",
    "    random.seed(seed)\n",
    "    \n",
    "    neighbours_l = get_k_neighbours(k, image, train_df=train_df, test_df=test_df)\n",
    "    #sampled_neighbours_l = random.sample(neighbours_l, 1)\n",
    "    sampled_neighbours_l = neighbours_l\n",
    "\n",
    "    prompt = ''\n",
    "    cnt = 0\n",
    "    \n",
    "    for i, (image_path, dist) in enumerate(sampled_neighbours_l):\n",
    "        \n",
    "        example_df = train_df[train_df.image_path == image_path]\n",
    "        sampled_rows = example_df.sample(1, random_state=42)\n",
    "\n",
    "        \n",
    "        \n",
    "        \n",
    "        for _, row in sampled_rows.iterrows():\n",
    "            \n",
    "            prompt += f'EXAMPLE {cnt + 1}\\n\\n'\n",
    "            # Convert utterance string to a list\n",
    "            utterance_list = json.loads(row.utterance) if row.utterance.strip().startswith('[') else ast.literal_eval(row.utterance)\n",
    "\n",
    "            # Add numbered utterances to the prompt\n",
    "            for idx, utt in enumerate(utterance_list, start=1):\n",
    "                prompt += f'{idx}. {utt}\\n'\n",
    "\n",
    "            # Add emotion class for this row\n",
    "            #prompt += f'\\nEmotion class: {row.emotion_c}\\n\\n'\n",
    "            prompt += f'\\nOutput: {{\"emotions\": \"{row.emotion_c}\"}}\\n\\n'\n",
    "            cnt += 1\n",
    "\n",
    "        \n",
    "        prompt += '\\n'\n",
    "        \n",
    "    return prompt\n"
   ]
  },
  {
   "cell_type": "code",
   "execution_count": 44,
   "metadata": {},
   "outputs": [
    {
     "name": "stdout",
     "output_type": "stream",
     "text": [
      "EXAMPLE 1\n",
      "\n",
      "1. ROGER LEFT AFTER THAT.\n",
      "2. OR RATHER, HIS PARENTS SENT HIM AWAY TO LIVE WITH SOME COUSIN OR OTHER.\n",
      "3. I EXPECTED TO BE LET GO, BUT THE FAMILY WAS DESPERATE TO HIDE ANY HINT OF IMPROPRIETY AND TO SQUASH EVERY RUMOR.\n",
      "4. THE DISMISSAL OF THE MAID AT THE SAME TIME AS ROGER'S DEPARTURE COULD BE THE CAUSE OF A GREAT DEAL OF TALK.\n",
      "5. AND A GREAT DEAL OF TALK WAS ALWAYS TO BE AVOIDED.\n",
      "6. SO I RESUMED MY CHORES, CLEANING HILL HOUSE FOR ALL THE GOOD MEN AND WOMEN WHO LIVED THERE.\n",
      "7. ALL OF THOSE RICH, WELLBORN PEOPLE WHO EXPECTED A WELL-KEPT HOUSE.\n",
      "8. FOR THEM, I SCRUBBED AND I WASHED AND I FOLDED AND I DUSTED AND I… AND I…\n",
      "9. AND I HEARD ROGER'S WORDS, AGAIN AND AGAIN.\n",
      "10. \"DARLING,” HE SAID, \"THE HUNT MUST END!\"\n",
      "\n",
      "Output: {\"emotions\": \"[['anger', 'sadness'], ['sadness'], ['sadness'], ['sadness'], ['sadness'], ['fear', 'sadness'], ['fear', 'sadness'], ['fear', 'sadness'], ['fear', 'sadness'], ['sadness']]\"}\n",
      "\n",
      "\n",
      "EXAMPLE 2\n",
      "\n",
      "1. AHA! LOOK THERE.\n",
      "2. GREAT.\n",
      "3. WHATTYA THINK, WE SHOULD INVESTIGATE, RIGHT?\n",
      "4. I'D PREFER NOT.\n",
      "5. DAMN, THERE'S A BUNCH OF STUFF DOWN THERE.\n",
      "6. C'MON, YA' BIG CHICKEN LET'S CHECK IT OUT REAL QUICK, COULD BE SOME KIDS IN HERE PARTYING.\n",
      "7. WE CAN MESS WITH 'EM, GIVE 'EM A SCARE.\n",
      "8. YEAH, I DUNNO…\n",
      "9. HOCHEEMIN!\n",
      "10. #HAHAHA!\n",
      "11. YEAH, HYSTERICAL.\n",
      "12. C'MON, THERE'S SOME COOL STUFF DOWN HERE.\n",
      "\n",
      "Output: {\"emotions\": \"[['surprise', 'joy'], ['sadness'], ['joy'], ['anger', 'sadness'], ['joy'], ['joy'], ['joy'], ['sadness'], ['anger', 'joy'], ['joy'], ['anger', 'sadness'], ['joy']]\"}\n",
      "\n",
      "\n",
      "EXAMPLE 3\n",
      "\n",
      "1. FOLLOW THE PATTERN.\n",
      "2. TEN TIMES OUT OF TEN, HE HITS ME ON THE FIRST SHOT.\n",
      "3. AND IF I DON'T DIE RIGHT AWAY, HE CHECKS THE KILL AND SHOOTS AGAIN.\n",
      "4. JUST WAIT. HAVE PATIENCE.\n",
      "5. JOAN… I… I… AM HURT…\n",
      "6. HE'S COMING.\n",
      "7. ROGER! WHAT IS YOUR PROBLEM? SHUT THE FUCK UP.\n",
      "8. SERIOUSLY.\n",
      "9. HE'S COMING.\n",
      "10. THE COWBOY'S HERE.\n",
      "11. JOAN, DARLING… TELL MOTHER… TELL HER I LOVED…\n",
      "\n",
      "Output: {\"emotions\": \"[['anger'], ['anger'], ['anger'], ['anger'], ['anger'], ['anger'], ['anger'], ['anger'], ['anger'], ['anger'], ['fear']]\"}\n",
      "\n",
      "\n",
      "\n"
     ]
    }
   ],
   "source": [
    "print(prepare_similar_example_prompts(test_df.iloc[0]['image_path'], k, train_df, test_df, seed=33))"
   ]
  },
  {
   "cell_type": "code",
   "execution_count": 45,
   "metadata": {},
   "outputs": [],
   "source": [
    "### Prompt Preparatoin"
   ]
  },
  {
   "cell_type": "code",
   "execution_count": 24,
   "metadata": {},
   "outputs": [],
   "source": [
    "# def build_sys_instruction():\n",
    "    \n",
    "#     emotion_classes = [\"anger\", \"disgust\", \"fear\", \"sadness\", \"surprise\", \"joy\", \"neutral\"]\n",
    "#     formatted_classes = \", \".join([f'\"{emotion}\"' for emotion in emotion_classes])\n",
    "    \n",
    "#     instruction = f\"\"\"### Page-Level Emotion Analysis Expert Role\n",
    "\n",
    "# You are an advanced emotion analysis expert specializing in comic book dialogue interpretation. Your task is to analyze all utterances on a comic book page.\n",
    "\n",
    "# INPUT:\n",
    "# - You will receive a list of utterances from a single page in a comic book\n",
    "# - Each utterance may express one or multiple emotions\n",
    "# - You will receive lists of utterances from {k} pages and their respective emotion classifications as example\n",
    "# - Each example will contain multiple utterances and their respective emotion classifications\n",
    "# - Given these examples, analyze the list of utterances following the same pattern\n",
    "\n",
    "# TASK:\n",
    "# - Carefully analyze the emotional context and tone of each utterance on the page\n",
    "# - Identify applicable emotions from the following classes:\n",
    "#    {formatted_classes}\n",
    "\n",
    "# OUTPUT REQUIREMENTS:\n",
    "# - STRICT JSON FORMAT IS MANDATORY\n",
    "# - NO ADDITIONAL TEXT OR EXPLANATION IS ALLOWED\n",
    "# - Example valid output: {{\"emotions\": [[\"anger\"], [\"fear\", \"sadness\"], [\"neutral\"]]}}\n",
    "# - Invalid formats will result in immediate rejection\n",
    "\n",
    "# CRITICAL CONSTRAINTS:\n",
    "# - Wrap EACH emotion in square brackets\n",
    "# - Ensure valid JSON syntax at all times\n",
    "# - Do NOT deviate from the specified JSON structure under any circumstances\n",
    "# - Do NOT generate any additional text or explanation except the JSON object\n",
    "\n",
    "# \"\"\"\n",
    "#     return instruction"
   ]
  },
  {
   "cell_type": "code",
   "execution_count": 145,
   "metadata": {},
   "outputs": [],
   "source": [
    "def build_sys_instruction():\n",
    "    emotion_classes = [\"anger\", \"disgust\", \"fear\", \"sadness\", \"surprise\", \"joy\", \"neutral\"]\n",
    "    formatted_classes = \", \".join([f'\"{emotion}\"' for emotion in emotion_classes])\n",
    "    \n",
    "    instruction = f\"\"\"### Expert Comic Emotion Analyst Role\n",
    "\n",
    "You are a highly specialized emotion analysis expert with deep expertise in comic book dialogue interpretation and psychological assessment. Your task is to perform nuanced multi-label emotion classification for comic book dialogue.\n",
    "\n",
    "INPUT FORMAT:\n",
    "- You will receive sequential utterances from a single comic book page\n",
    "- Each utterance may express one or multiple emotions\n",
    "- You will be provided with {k} annotated pages as examples\n",
    "- Each example contains multiple utterances with their ground truth emotion labels\n",
    "- Follow these examples precisely for your analysis\n",
    "\n",
    "EMOTION CLASSIFICATION GUIDELINES:\n",
    "1. Primary emotions ({formatted_classes}):\n",
    "   - Anger: hostility, frustration, rage, irritation\n",
    "   - Disgust: revulsion, contempt, disapproval\n",
    "   - Fear: anxiety, worry, terror, dread\n",
    "   - Sadness: grief, disappointment, melancholy\n",
    "   - Surprise: astonishment, shock, amazement\n",
    "   - Joy: happiness, excitement, pleasure, amusement\n",
    "   - Neutral: no clear emotional content\n",
    "\n",
    "2. Analysis Principles:\n",
    "   - Consider both explicit emotional words and implicit context\n",
    "   - Account for punctuation and capitalization as emotional indicators\n",
    "   - Evaluate intensity markers (e.g., \"!!!\", CAPS, repeated letters)\n",
    "   - Factor in sequential context from surrounding utterances\n",
    "   - Default to \"neutral\" only when no clear emotion is present\n",
    "\n",
    "OUTPUT SPECIFICATIONS:\n",
    "- Strict JSON format: {{\"emotions\": [[emotion1, emotion2], [emotion3]]}}\n",
    "- The length of the value in JSON must EXACTLY match the number of utterances you have to classify\n",
    "- Do NOT generate any additional text or explanation except the JSON object\n",
    "- Arrays must be properly nested with correct brackets\n",
    "- NO ADDITIONAL TEXT OR EXPLANATION IS ALLOWED\n",
    "\n",
    "\"\"\"\n",
    "    return instruction"
   ]
  },
  {
   "cell_type": "code",
   "execution_count": 146,
   "metadata": {},
   "outputs": [
    {
     "name": "stderr",
     "output_type": "stream",
     "text": [
      "100%|██████████| 156/156 [00:12<00:00, 12.32it/s]\n"
     ]
    }
   ],
   "source": [
    "# For LLaMA\n",
    "\n",
    "sys_msg_l = []\n",
    "user_msg_l = []\n",
    "task_msg_l = []\n",
    "\n",
    "for _,row in tqdm(test_df.iterrows(), total=len(test_df)):\n",
    "    \n",
    "    utterance_list = json.loads(row.utterance) if row.utterance.strip().startswith('[') else ast.literal_eval(row.utterance)\n",
    "    utterances = '\\n'.join([f'{i+1}. {utt}' for i, utt in enumerate(utterance_list)])\n",
    "    \n",
    "    sys_msg = {\"role\": \"system\", \"content\": build_sys_instruction()}\n",
    "    user_msg = {\"role\":\"user\", \"content\": \"EXAMPLES:\\n\\n\" + prepare_similar_example_prompts(row.image_path, k, train_df=train_df, test_df=test_df) + f\"INPUT:\\n\\nNow classify these utterances:\\n\\n{utterances}\\n\"}\n",
    "    task_msg = {\"role\": \"assistant\", \"content\": f\"\\nOutput: \"}\n",
    "    \n",
    "    sys_msg_l.append(sys_msg)\n",
    "    user_msg_l.append(user_msg)\n",
    "    task_msg_l.append(task_msg)\n",
    "    \n",
    "    #break"
   ]
  },
  {
   "cell_type": "code",
   "execution_count": 147,
   "metadata": {},
   "outputs": [],
   "source": [
    "#For LLaMA\n",
    "\n",
    "prepared_sys_task_msg_l = []\n",
    "\n",
    "for i in range(len(sys_msg_l)):\n",
    "    prepared_sys_task_msg_l.append([sys_msg_l[i], user_msg_l[i], task_msg_l[i]])"
   ]
  },
  {
   "cell_type": "code",
   "execution_count": 148,
   "metadata": {},
   "outputs": [],
   "source": [
    "# # For Qwen\n",
    "\n",
    "# prepared_sys_task_msg_l = []\n",
    "\n",
    "# for i in range(len(user_msg_l)):\n",
    "#     prepared_sys_task_msg_l.append([user_msg_l[i], task_msg_l[i]])"
   ]
  },
  {
   "cell_type": "code",
   "execution_count": 149,
   "metadata": {},
   "outputs": [
    {
     "data": {
      "text/plain": [
       "156"
      ]
     },
     "execution_count": 149,
     "metadata": {},
     "output_type": "execute_result"
    }
   ],
   "source": [
    "len(prepared_sys_task_msg_l)"
   ]
  },
  {
   "cell_type": "code",
   "execution_count": 150,
   "metadata": {},
   "outputs": [
    {
     "data": {
      "text/plain": [
       "[{'role': 'system',\n",
       "  'content': '### Expert Comic Emotion Analyst Role\\n\\nYou are a highly specialized emotion analysis expert with deep expertise in comic book dialogue interpretation and psychological assessment. Your task is to perform nuanced multi-label emotion classification for comic book dialogue.\\n\\nINPUT FORMAT:\\n- You will receive sequential utterances from a single comic book page\\n- Each utterance may express one or multiple emotions\\n- You will be provided with 3 annotated pages as examples\\n- Each example contains multiple utterances with their ground truth emotion labels\\n- Follow these examples precisely for your analysis\\n\\nEMOTION CLASSIFICATION GUIDELINES:\\n1. Primary emotions (\"anger\", \"disgust\", \"fear\", \"sadness\", \"surprise\", \"joy\", \"neutral\"):\\n   - Anger: hostility, frustration, rage, irritation\\n   - Disgust: revulsion, contempt, disapproval\\n   - Fear: anxiety, worry, terror, dread\\n   - Sadness: grief, disappointment, melancholy\\n   - Surprise: astonishment, shock, amazement\\n   - Joy: happiness, excitement, pleasure, amusement\\n   - Neutral: no clear emotional content\\n\\n2. Analysis Principles:\\n   - Consider both explicit emotional words and implicit context\\n   - Account for punctuation and capitalization as emotional indicators\\n   - Evaluate intensity markers (e.g., \"!!!\", CAPS, repeated letters)\\n   - Factor in sequential context from surrounding utterances\\n   - Default to \"neutral\" only when no clear emotion is present\\n\\nOUTPUT SPECIFICATIONS:\\n- Strict JSON format: {\"emotions\": [[emotion1, emotion2], [emotion3]]}\\n- The length of the value in JSON must EXACTLY match the number of utterances you have to classify\\n- Do NOT generate any additional text or explanation except the JSON object\\n- Arrays must be properly nested with correct brackets\\n- NO ADDITIONAL TEXT OR EXPLANATION IS ALLOWED\\n\\n'},\n",
       " {'role': 'user',\n",
       "  'content': 'EXAMPLES:\\n\\nEXAMPLE 1\\n\\n1. ROGER LEFT AFTER THAT.\\n2. OR RATHER, HIS PARENTS SENT HIM AWAY TO LIVE WITH SOME COUSIN OR OTHER.\\n3. I EXPECTED TO BE LET GO, BUT THE FAMILY WAS DESPERATE TO HIDE ANY HINT OF IMPROPRIETY AND TO SQUASH EVERY RUMOR.\\n4. THE DISMISSAL OF THE MAID AT THE SAME TIME AS ROGER\\'S DEPARTURE COULD BE THE CAUSE OF A GREAT DEAL OF TALK.\\n5. AND A GREAT DEAL OF TALK WAS ALWAYS TO BE AVOIDED.\\n6. SO I RESUMED MY CHORES, CLEANING HILL HOUSE FOR ALL THE GOOD MEN AND WOMEN WHO LIVED THERE.\\n7. ALL OF THOSE RICH, WELLBORN PEOPLE WHO EXPECTED A WELL-KEPT HOUSE.\\n8. FOR THEM, I SCRUBBED AND I WASHED AND I FOLDED AND I DUSTED AND I… AND I…\\n9. AND I HEARD ROGER\\'S WORDS, AGAIN AND AGAIN.\\n10. \"DARLING,” HE SAID, \"THE HUNT MUST END!\"\\n\\nOutput: {\"emotions\": \"[[\\'anger\\', \\'sadness\\'], [\\'sadness\\'], [\\'sadness\\'], [\\'sadness\\'], [\\'sadness\\'], [\\'fear\\', \\'sadness\\'], [\\'fear\\', \\'sadness\\'], [\\'fear\\', \\'sadness\\'], [\\'fear\\', \\'sadness\\'], [\\'sadness\\']]\"}\\n\\n\\nEXAMPLE 2\\n\\n1. AHA! LOOK THERE.\\n2. GREAT.\\n3. WHATTYA THINK, WE SHOULD INVESTIGATE, RIGHT?\\n4. I\\'D PREFER NOT.\\n5. DAMN, THERE\\'S A BUNCH OF STUFF DOWN THERE.\\n6. C\\'MON, YA\\' BIG CHICKEN LET\\'S CHECK IT OUT REAL QUICK, COULD BE SOME KIDS IN HERE PARTYING.\\n7. WE CAN MESS WITH \\'EM, GIVE \\'EM A SCARE.\\n8. YEAH, I DUNNO…\\n9. HOCHEEMIN!\\n10. #HAHAHA!\\n11. YEAH, HYSTERICAL.\\n12. C\\'MON, THERE\\'S SOME COOL STUFF DOWN HERE.\\n\\nOutput: {\"emotions\": \"[[\\'surprise\\', \\'joy\\'], [\\'sadness\\'], [\\'joy\\'], [\\'anger\\', \\'sadness\\'], [\\'joy\\'], [\\'joy\\'], [\\'joy\\'], [\\'sadness\\'], [\\'anger\\', \\'joy\\'], [\\'joy\\'], [\\'anger\\', \\'sadness\\'], [\\'joy\\']]\"}\\n\\n\\nEXAMPLE 3\\n\\n1. FOLLOW THE PATTERN.\\n2. TEN TIMES OUT OF TEN, HE HITS ME ON THE FIRST SHOT.\\n3. AND IF I DON\\'T DIE RIGHT AWAY, HE CHECKS THE KILL AND SHOOTS AGAIN.\\n4. JUST WAIT. HAVE PATIENCE.\\n5. JOAN… I… I… AM HURT…\\n6. HE\\'S COMING.\\n7. ROGER! WHAT IS YOUR PROBLEM? SHUT THE FUCK UP.\\n8. SERIOUSLY.\\n9. HE\\'S COMING.\\n10. THE COWBOY\\'S HERE.\\n11. JOAN, DARLING… TELL MOTHER… TELL HER I LOVED…\\n\\nOutput: {\"emotions\": \"[[\\'anger\\'], [\\'anger\\'], [\\'anger\\'], [\\'anger\\'], [\\'anger\\'], [\\'anger\\'], [\\'anger\\'], [\\'anger\\'], [\\'anger\\'], [\\'anger\\'], [\\'fear\\']]\"}\\n\\n\\nINPUT:\\n\\nNow classify these utterances:\\n\\n1. HOW\\'S IT GOING?\\n2. HEY.\\n3. CAN I GET YOU ANYTHING?\\n4. JUST A COKE.\\n5. OKAY. COMING UP.\\n6. THANKS.\\n7. HOW IS IT OUT THERE? GETTING HOT?\\n8. IT\\'S ALL RIGHT.\\n9. ONE COKE. ENJOY.\\n10. @ONCE UPON A TIME…\\n11. @… IN A FAR OFF KINGDOM…\\n'},\n",
       " {'role': 'assistant', 'content': '\\nOutput: '}]"
      ]
     },
     "execution_count": 150,
     "metadata": {},
     "output_type": "execute_result"
    }
   ],
   "source": [
    "prepared_sys_task_msg_l[0]"
   ]
  },
  {
   "cell_type": "code",
   "execution_count": 151,
   "metadata": {},
   "outputs": [],
   "source": [
    "### Inference"
   ]
  },
  {
   "cell_type": "code",
   "execution_count": 152,
   "metadata": {},
   "outputs": [],
   "source": [
    "def batch_tensor(tensor, batch_size):\n",
    "    return [tensor[i:i+batch_size] for i in range(0, tensor.size(0), batch_size)]"
   ]
  },
  {
   "cell_type": "code",
   "execution_count": 153,
   "metadata": {},
   "outputs": [],
   "source": [
    "inputs = tokenizer.apply_chat_template(\n",
    "            prepared_sys_task_msg_l,\n",
    "            #pad_token = inference_tokenizer.bos_token,\n",
    "            padding=True,\n",
    "            truncation=True,\n",
    "            add_generation_prompt=True,\n",
    "            return_dict=True,\n",
    "            return_tensors=\"pt\",\n",
    ")"
   ]
  },
  {
   "cell_type": "code",
   "execution_count": 154,
   "metadata": {},
   "outputs": [],
   "source": [
    "BATCH_SIZE = 1\n",
    "\n",
    "input_ids_batches = batch_tensor(inputs['input_ids'], BATCH_SIZE) # type: ignore\n",
    "attention_mask_batches = batch_tensor(inputs['attention_mask'], BATCH_SIZE) # type: ignore"
   ]
  },
  {
   "cell_type": "code",
   "execution_count": 155,
   "metadata": {},
   "outputs": [
    {
     "data": {
      "text/plain": [
       "LlamaForCausalLM(\n",
       "  (model): LlamaModel(\n",
       "    (embed_tokens): Embedding(128256, 4096, padding_idx=128004)\n",
       "    (layers): ModuleList(\n",
       "      (0-31): 32 x LlamaDecoderLayer(\n",
       "        (self_attn): LlamaAttention(\n",
       "          (q_proj): Linear4bit(in_features=4096, out_features=4096, bias=False)\n",
       "          (k_proj): Linear4bit(in_features=4096, out_features=1024, bias=False)\n",
       "          (v_proj): Linear4bit(in_features=4096, out_features=1024, bias=False)\n",
       "          (o_proj): Linear4bit(in_features=4096, out_features=4096, bias=False)\n",
       "          (rotary_emb): LlamaExtendedRotaryEmbedding()\n",
       "        )\n",
       "        (mlp): LlamaMLP(\n",
       "          (gate_proj): Linear4bit(in_features=4096, out_features=14336, bias=False)\n",
       "          (up_proj): Linear4bit(in_features=4096, out_features=14336, bias=False)\n",
       "          (down_proj): Linear4bit(in_features=14336, out_features=4096, bias=False)\n",
       "          (act_fn): SiLU()\n",
       "        )\n",
       "        (input_layernorm): LlamaRMSNorm((4096,), eps=1e-05)\n",
       "        (post_attention_layernorm): LlamaRMSNorm((4096,), eps=1e-05)\n",
       "      )\n",
       "    )\n",
       "    (norm): LlamaRMSNorm((4096,), eps=1e-05)\n",
       "    (rotary_emb): LlamaRotaryEmbedding()\n",
       "  )\n",
       "  (lm_head): Linear(in_features=4096, out_features=128256, bias=False)\n",
       ")"
      ]
     },
     "execution_count": 155,
     "metadata": {},
     "output_type": "execute_result"
    }
   ],
   "source": [
    "FastLanguageModel.for_inference(model)"
   ]
  },
  {
   "cell_type": "code",
   "execution_count": 156,
   "metadata": {},
   "outputs": [
    {
     "name": "stderr",
     "output_type": "stream",
     "text": [
      "  0%|          | 0/156 [00:00<?, ?it/s]"
     ]
    },
    {
     "name": "stdout",
     "output_type": "stream",
     "text": [
      "\n",
      " ***** Processing batch 1 *****\n",
      "\n"
     ]
    },
    {
     "name": "stderr",
     "output_type": "stream",
     "text": [
      "  1%|          | 1/156 [00:01<04:04,  1.58s/it]"
     ]
    },
    {
     "name": "stdout",
     "output_type": "stream",
     "text": [
      "\n",
      " ***** Processing batch 2 *****\n",
      "\n"
     ]
    },
    {
     "name": "stderr",
     "output_type": "stream",
     "text": [
      "  1%|▏         | 2/156 [00:03<04:40,  1.82s/it]"
     ]
    },
    {
     "name": "stdout",
     "output_type": "stream",
     "text": [
      "\n",
      " ***** Processing batch 3 *****\n",
      "\n"
     ]
    },
    {
     "name": "stderr",
     "output_type": "stream",
     "text": [
      "  2%|▏         | 3/156 [00:06<06:25,  2.52s/it]"
     ]
    },
    {
     "name": "stdout",
     "output_type": "stream",
     "text": [
      "\n",
      " ***** Processing batch 4 *****\n",
      "\n"
     ]
    },
    {
     "name": "stderr",
     "output_type": "stream",
     "text": [
      "  3%|▎         | 4/156 [00:10<07:17,  2.88s/it]"
     ]
    },
    {
     "name": "stdout",
     "output_type": "stream",
     "text": [
      "\n",
      " ***** Processing batch 5 *****\n",
      "\n"
     ]
    },
    {
     "name": "stderr",
     "output_type": "stream",
     "text": [
      "  3%|▎         | 5/156 [00:11<05:18,  2.11s/it]"
     ]
    },
    {
     "name": "stdout",
     "output_type": "stream",
     "text": [
      "\n",
      " ***** Processing batch 6 *****\n",
      "\n"
     ]
    },
    {
     "name": "stderr",
     "output_type": "stream",
     "text": [
      "  4%|▍         | 6/156 [00:17<08:46,  3.51s/it]"
     ]
    },
    {
     "name": "stdout",
     "output_type": "stream",
     "text": [
      "\n",
      " ***** Processing batch 7 *****\n",
      "\n"
     ]
    },
    {
     "name": "stderr",
     "output_type": "stream",
     "text": [
      "  4%|▍         | 7/156 [00:21<08:59,  3.62s/it]"
     ]
    },
    {
     "name": "stdout",
     "output_type": "stream",
     "text": [
      "\n",
      " ***** Processing batch 8 *****\n",
      "\n"
     ]
    },
    {
     "name": "stderr",
     "output_type": "stream",
     "text": [
      "  5%|▌         | 8/156 [00:24<08:48,  3.57s/it]"
     ]
    },
    {
     "name": "stdout",
     "output_type": "stream",
     "text": [
      "\n",
      " ***** Processing batch 9 *****\n",
      "\n"
     ]
    },
    {
     "name": "stderr",
     "output_type": "stream",
     "text": [
      "  6%|▌         | 9/156 [00:27<08:20,  3.41s/it]"
     ]
    },
    {
     "name": "stdout",
     "output_type": "stream",
     "text": [
      "\n",
      " ***** Processing batch 10 *****\n",
      "\n"
     ]
    },
    {
     "name": "stderr",
     "output_type": "stream",
     "text": [
      "  6%|▋         | 10/156 [00:29<07:12,  2.96s/it]"
     ]
    },
    {
     "name": "stdout",
     "output_type": "stream",
     "text": [
      "\n",
      " ***** Processing batch 11 *****\n",
      "\n"
     ]
    },
    {
     "name": "stderr",
     "output_type": "stream",
     "text": [
      "  7%|▋         | 11/156 [00:35<09:05,  3.76s/it]"
     ]
    },
    {
     "name": "stdout",
     "output_type": "stream",
     "text": [
      "\n",
      " ***** Processing batch 12 *****\n",
      "\n"
     ]
    },
    {
     "name": "stderr",
     "output_type": "stream",
     "text": [
      "  8%|▊         | 12/156 [00:36<06:58,  2.90s/it]"
     ]
    },
    {
     "name": "stdout",
     "output_type": "stream",
     "text": [
      "\n",
      " ***** Processing batch 13 *****\n",
      "\n"
     ]
    },
    {
     "name": "stderr",
     "output_type": "stream",
     "text": [
      "  8%|▊         | 13/156 [00:37<06:04,  2.55s/it]"
     ]
    },
    {
     "name": "stdout",
     "output_type": "stream",
     "text": [
      "\n",
      " ***** Processing batch 14 *****\n",
      "\n"
     ]
    },
    {
     "name": "stderr",
     "output_type": "stream",
     "text": [
      "  9%|▉         | 14/156 [00:40<06:07,  2.59s/it]"
     ]
    },
    {
     "name": "stdout",
     "output_type": "stream",
     "text": [
      "\n",
      " ***** Processing batch 15 *****\n",
      "\n"
     ]
    },
    {
     "name": "stderr",
     "output_type": "stream",
     "text": [
      " 10%|▉         | 15/156 [00:45<07:46,  3.31s/it]"
     ]
    },
    {
     "name": "stdout",
     "output_type": "stream",
     "text": [
      "\n",
      " ***** Processing batch 16 *****\n",
      "\n"
     ]
    },
    {
     "name": "stderr",
     "output_type": "stream",
     "text": [
      " 10%|█         | 16/156 [00:49<08:29,  3.64s/it]"
     ]
    },
    {
     "name": "stdout",
     "output_type": "stream",
     "text": [
      "\n",
      " ***** Processing batch 17 *****\n",
      "\n"
     ]
    },
    {
     "name": "stderr",
     "output_type": "stream",
     "text": [
      " 11%|█         | 17/156 [00:53<08:32,  3.68s/it]"
     ]
    },
    {
     "name": "stdout",
     "output_type": "stream",
     "text": [
      "\n",
      " ***** Processing batch 18 *****\n",
      "\n"
     ]
    },
    {
     "name": "stderr",
     "output_type": "stream",
     "text": [
      " 12%|█▏        | 18/156 [00:55<07:26,  3.23s/it]"
     ]
    },
    {
     "name": "stdout",
     "output_type": "stream",
     "text": [
      "\n",
      " ***** Processing batch 19 *****\n",
      "\n"
     ]
    },
    {
     "name": "stderr",
     "output_type": "stream",
     "text": [
      " 12%|█▏        | 19/156 [00:58<06:35,  2.89s/it]"
     ]
    },
    {
     "name": "stdout",
     "output_type": "stream",
     "text": [
      "\n",
      " ***** Processing batch 20 *****\n",
      "\n"
     ]
    },
    {
     "name": "stderr",
     "output_type": "stream",
     "text": [
      " 13%|█▎        | 20/156 [01:02<07:27,  3.29s/it]"
     ]
    },
    {
     "name": "stdout",
     "output_type": "stream",
     "text": [
      "\n",
      " ***** Processing batch 21 *****\n",
      "\n"
     ]
    },
    {
     "name": "stderr",
     "output_type": "stream",
     "text": [
      " 13%|█▎        | 21/156 [01:04<06:41,  2.97s/it]"
     ]
    },
    {
     "name": "stdout",
     "output_type": "stream",
     "text": [
      "\n",
      " ***** Processing batch 22 *****\n",
      "\n"
     ]
    },
    {
     "name": "stderr",
     "output_type": "stream",
     "text": [
      " 14%|█▍        | 22/156 [01:06<06:08,  2.75s/it]"
     ]
    },
    {
     "name": "stdout",
     "output_type": "stream",
     "text": [
      "\n",
      " ***** Processing batch 23 *****\n",
      "\n"
     ]
    },
    {
     "name": "stderr",
     "output_type": "stream",
     "text": [
      " 15%|█▍        | 23/156 [01:08<05:43,  2.58s/it]"
     ]
    },
    {
     "name": "stdout",
     "output_type": "stream",
     "text": [
      "\n",
      " ***** Processing batch 24 *****\n",
      "\n"
     ]
    },
    {
     "name": "stderr",
     "output_type": "stream",
     "text": [
      " 15%|█▌        | 24/156 [01:10<05:19,  2.42s/it]"
     ]
    },
    {
     "name": "stdout",
     "output_type": "stream",
     "text": [
      "\n",
      " ***** Processing batch 25 *****\n",
      "\n"
     ]
    },
    {
     "name": "stderr",
     "output_type": "stream",
     "text": [
      " 16%|█▌        | 25/156 [01:13<05:15,  2.41s/it]"
     ]
    },
    {
     "name": "stdout",
     "output_type": "stream",
     "text": [
      "\n",
      " ***** Processing batch 26 *****\n",
      "\n"
     ]
    },
    {
     "name": "stderr",
     "output_type": "stream",
     "text": [
      " 17%|█▋        | 26/156 [01:15<05:11,  2.39s/it]"
     ]
    },
    {
     "name": "stdout",
     "output_type": "stream",
     "text": [
      "\n",
      " ***** Processing batch 27 *****\n",
      "\n"
     ]
    },
    {
     "name": "stderr",
     "output_type": "stream",
     "text": [
      " 17%|█▋        | 27/156 [01:18<05:31,  2.57s/it]"
     ]
    },
    {
     "name": "stdout",
     "output_type": "stream",
     "text": [
      "\n",
      " ***** Processing batch 28 *****\n",
      "\n"
     ]
    },
    {
     "name": "stderr",
     "output_type": "stream",
     "text": [
      " 18%|█▊        | 28/156 [01:22<06:18,  2.96s/it]"
     ]
    },
    {
     "name": "stdout",
     "output_type": "stream",
     "text": [
      "\n",
      " ***** Processing batch 29 *****\n",
      "\n"
     ]
    },
    {
     "name": "stderr",
     "output_type": "stream",
     "text": [
      " 19%|█▊        | 29/156 [01:23<05:10,  2.44s/it]"
     ]
    },
    {
     "name": "stdout",
     "output_type": "stream",
     "text": [
      "\n",
      " ***** Processing batch 30 *****\n",
      "\n"
     ]
    },
    {
     "name": "stderr",
     "output_type": "stream",
     "text": [
      " 19%|█▉        | 30/156 [01:26<05:16,  2.51s/it]"
     ]
    },
    {
     "name": "stdout",
     "output_type": "stream",
     "text": [
      "\n",
      " ***** Processing batch 31 *****\n",
      "\n"
     ]
    },
    {
     "name": "stderr",
     "output_type": "stream",
     "text": [
      " 20%|█▉        | 31/156 [01:27<04:28,  2.14s/it]"
     ]
    },
    {
     "name": "stdout",
     "output_type": "stream",
     "text": [
      "\n",
      " ***** Processing batch 32 *****\n",
      "\n"
     ]
    },
    {
     "name": "stderr",
     "output_type": "stream",
     "text": [
      " 21%|██        | 32/156 [01:29<04:13,  2.05s/it]"
     ]
    },
    {
     "name": "stdout",
     "output_type": "stream",
     "text": [
      "\n",
      " ***** Processing batch 33 *****\n",
      "\n"
     ]
    },
    {
     "name": "stderr",
     "output_type": "stream",
     "text": [
      " 21%|██        | 33/156 [01:31<04:06,  2.00s/it]"
     ]
    },
    {
     "name": "stdout",
     "output_type": "stream",
     "text": [
      "\n",
      " ***** Processing batch 34 *****\n",
      "\n"
     ]
    },
    {
     "name": "stderr",
     "output_type": "stream",
     "text": [
      " 22%|██▏       | 34/156 [01:34<04:27,  2.19s/it]"
     ]
    },
    {
     "name": "stdout",
     "output_type": "stream",
     "text": [
      "\n",
      " ***** Processing batch 35 *****\n",
      "\n"
     ]
    },
    {
     "name": "stderr",
     "output_type": "stream",
     "text": [
      " 22%|██▏       | 35/156 [01:36<04:21,  2.16s/it]"
     ]
    },
    {
     "name": "stdout",
     "output_type": "stream",
     "text": [
      "\n",
      " ***** Processing batch 36 *****\n",
      "\n"
     ]
    },
    {
     "name": "stderr",
     "output_type": "stream",
     "text": [
      " 23%|██▎       | 36/156 [01:38<04:23,  2.20s/it]"
     ]
    },
    {
     "name": "stdout",
     "output_type": "stream",
     "text": [
      "\n",
      " ***** Processing batch 37 *****\n",
      "\n"
     ]
    },
    {
     "name": "stderr",
     "output_type": "stream",
     "text": [
      " 24%|██▎       | 37/156 [01:42<05:19,  2.68s/it]"
     ]
    },
    {
     "name": "stdout",
     "output_type": "stream",
     "text": [
      "\n",
      " ***** Processing batch 38 *****\n",
      "\n"
     ]
    },
    {
     "name": "stderr",
     "output_type": "stream",
     "text": [
      " 24%|██▍       | 38/156 [01:43<04:22,  2.23s/it]"
     ]
    },
    {
     "name": "stdout",
     "output_type": "stream",
     "text": [
      "\n",
      " ***** Processing batch 39 *****\n",
      "\n"
     ]
    },
    {
     "name": "stderr",
     "output_type": "stream",
     "text": [
      " 25%|██▌       | 39/156 [01:44<03:48,  1.95s/it]"
     ]
    },
    {
     "name": "stdout",
     "output_type": "stream",
     "text": [
      "\n",
      " ***** Processing batch 40 *****\n",
      "\n"
     ]
    },
    {
     "name": "stderr",
     "output_type": "stream",
     "text": [
      " 26%|██▌       | 40/156 [01:45<03:08,  1.63s/it]"
     ]
    },
    {
     "name": "stdout",
     "output_type": "stream",
     "text": [
      "\n",
      " ***** Processing batch 41 *****\n",
      "\n"
     ]
    },
    {
     "name": "stderr",
     "output_type": "stream",
     "text": [
      " 26%|██▋       | 41/156 [01:47<03:24,  1.77s/it]"
     ]
    },
    {
     "name": "stdout",
     "output_type": "stream",
     "text": [
      "\n",
      " ***** Processing batch 42 *****\n",
      "\n"
     ]
    },
    {
     "name": "stderr",
     "output_type": "stream",
     "text": [
      " 27%|██▋       | 42/156 [01:48<02:58,  1.56s/it]"
     ]
    },
    {
     "name": "stdout",
     "output_type": "stream",
     "text": [
      "\n",
      " ***** Processing batch 43 *****\n",
      "\n"
     ]
    },
    {
     "name": "stderr",
     "output_type": "stream",
     "text": [
      " 28%|██▊       | 43/156 [01:50<02:51,  1.52s/it]"
     ]
    },
    {
     "name": "stdout",
     "output_type": "stream",
     "text": [
      "\n",
      " ***** Processing batch 44 *****\n",
      "\n"
     ]
    },
    {
     "name": "stderr",
     "output_type": "stream",
     "text": [
      " 28%|██▊       | 44/156 [01:51<02:47,  1.50s/it]"
     ]
    },
    {
     "name": "stdout",
     "output_type": "stream",
     "text": [
      "\n",
      " ***** Processing batch 45 *****\n",
      "\n"
     ]
    },
    {
     "name": "stderr",
     "output_type": "stream",
     "text": [
      " 29%|██▉       | 45/156 [01:53<02:47,  1.51s/it]"
     ]
    },
    {
     "name": "stdout",
     "output_type": "stream",
     "text": [
      "\n",
      " ***** Processing batch 46 *****\n",
      "\n"
     ]
    },
    {
     "name": "stderr",
     "output_type": "stream",
     "text": [
      " 29%|██▉       | 46/156 [01:56<03:54,  2.13s/it]"
     ]
    },
    {
     "name": "stdout",
     "output_type": "stream",
     "text": [
      "\n",
      " ***** Processing batch 47 *****\n",
      "\n"
     ]
    },
    {
     "name": "stderr",
     "output_type": "stream",
     "text": [
      " 30%|███       | 47/156 [01:58<03:48,  2.10s/it]"
     ]
    },
    {
     "name": "stdout",
     "output_type": "stream",
     "text": [
      "\n",
      " ***** Processing batch 48 *****\n",
      "\n"
     ]
    },
    {
     "name": "stderr",
     "output_type": "stream",
     "text": [
      " 31%|███       | 48/156 [02:00<03:45,  2.09s/it]"
     ]
    },
    {
     "name": "stdout",
     "output_type": "stream",
     "text": [
      "\n",
      " ***** Processing batch 49 *****\n",
      "\n"
     ]
    },
    {
     "name": "stderr",
     "output_type": "stream",
     "text": [
      " 31%|███▏      | 49/156 [02:06<05:41,  3.19s/it]"
     ]
    },
    {
     "name": "stdout",
     "output_type": "stream",
     "text": [
      "\n",
      " ***** Processing batch 50 *****\n",
      "\n"
     ]
    },
    {
     "name": "stderr",
     "output_type": "stream",
     "text": [
      " 32%|███▏      | 50/156 [02:09<05:20,  3.02s/it]"
     ]
    },
    {
     "name": "stdout",
     "output_type": "stream",
     "text": [
      "\n",
      " ***** Processing batch 51 *****\n",
      "\n"
     ]
    },
    {
     "name": "stderr",
     "output_type": "stream",
     "text": [
      " 33%|███▎      | 51/156 [02:09<04:02,  2.31s/it]"
     ]
    },
    {
     "name": "stdout",
     "output_type": "stream",
     "text": [
      "\n",
      " ***** Processing batch 52 *****\n",
      "\n"
     ]
    },
    {
     "name": "stderr",
     "output_type": "stream",
     "text": [
      " 33%|███▎      | 52/156 [02:11<03:48,  2.20s/it]"
     ]
    },
    {
     "name": "stdout",
     "output_type": "stream",
     "text": [
      "\n",
      " ***** Processing batch 53 *****\n",
      "\n"
     ]
    },
    {
     "name": "stderr",
     "output_type": "stream",
     "text": [
      " 34%|███▍      | 53/156 [02:14<04:06,  2.39s/it]"
     ]
    },
    {
     "name": "stdout",
     "output_type": "stream",
     "text": [
      "\n",
      " ***** Processing batch 54 *****\n",
      "\n"
     ]
    },
    {
     "name": "stderr",
     "output_type": "stream",
     "text": [
      " 35%|███▍      | 54/156 [02:16<03:32,  2.09s/it]"
     ]
    },
    {
     "name": "stdout",
     "output_type": "stream",
     "text": [
      "\n",
      " ***** Processing batch 55 *****\n",
      "\n"
     ]
    },
    {
     "name": "stderr",
     "output_type": "stream",
     "text": [
      " 35%|███▌      | 55/156 [02:18<03:29,  2.08s/it]"
     ]
    },
    {
     "name": "stdout",
     "output_type": "stream",
     "text": [
      "\n",
      " ***** Processing batch 56 *****\n",
      "\n"
     ]
    },
    {
     "name": "stderr",
     "output_type": "stream",
     "text": [
      " 36%|███▌      | 56/156 [02:20<03:32,  2.13s/it]"
     ]
    },
    {
     "name": "stdout",
     "output_type": "stream",
     "text": [
      "\n",
      " ***** Processing batch 57 *****\n",
      "\n"
     ]
    },
    {
     "name": "stderr",
     "output_type": "stream",
     "text": [
      " 37%|███▋      | 57/156 [02:22<03:40,  2.23s/it]"
     ]
    },
    {
     "name": "stdout",
     "output_type": "stream",
     "text": [
      "\n",
      " ***** Processing batch 58 *****\n",
      "\n"
     ]
    },
    {
     "name": "stderr",
     "output_type": "stream",
     "text": [
      " 37%|███▋      | 58/156 [02:30<06:13,  3.81s/it]"
     ]
    },
    {
     "name": "stdout",
     "output_type": "stream",
     "text": [
      "\n",
      " ***** Processing batch 59 *****\n",
      "\n"
     ]
    },
    {
     "name": "stderr",
     "output_type": "stream",
     "text": [
      " 38%|███▊      | 59/156 [02:33<05:38,  3.49s/it]"
     ]
    },
    {
     "name": "stdout",
     "output_type": "stream",
     "text": [
      "\n",
      " ***** Processing batch 60 *****\n",
      "\n"
     ]
    },
    {
     "name": "stderr",
     "output_type": "stream",
     "text": [
      " 38%|███▊      | 60/156 [02:34<04:49,  3.01s/it]"
     ]
    },
    {
     "name": "stdout",
     "output_type": "stream",
     "text": [
      "\n",
      " ***** Processing batch 61 *****\n",
      "\n"
     ]
    },
    {
     "name": "stderr",
     "output_type": "stream",
     "text": [
      " 39%|███▉      | 61/156 [02:36<03:50,  2.43s/it]"
     ]
    },
    {
     "name": "stdout",
     "output_type": "stream",
     "text": [
      "\n",
      " ***** Processing batch 62 *****\n",
      "\n"
     ]
    },
    {
     "name": "stderr",
     "output_type": "stream",
     "text": [
      " 40%|███▉      | 62/156 [02:37<03:07,  2.00s/it]"
     ]
    },
    {
     "name": "stdout",
     "output_type": "stream",
     "text": [
      "\n",
      " ***** Processing batch 63 *****\n",
      "\n"
     ]
    },
    {
     "name": "stderr",
     "output_type": "stream",
     "text": [
      " 40%|████      | 63/156 [02:38<02:56,  1.90s/it]"
     ]
    },
    {
     "name": "stdout",
     "output_type": "stream",
     "text": [
      "\n",
      " ***** Processing batch 64 *****\n",
      "\n"
     ]
    },
    {
     "name": "stderr",
     "output_type": "stream",
     "text": [
      " 41%|████      | 64/156 [02:39<02:36,  1.70s/it]"
     ]
    },
    {
     "name": "stdout",
     "output_type": "stream",
     "text": [
      "\n",
      " ***** Processing batch 65 *****\n",
      "\n"
     ]
    },
    {
     "name": "stderr",
     "output_type": "stream",
     "text": [
      " 42%|████▏     | 65/156 [02:41<02:40,  1.76s/it]"
     ]
    },
    {
     "name": "stdout",
     "output_type": "stream",
     "text": [
      "\n",
      " ***** Processing batch 66 *****\n",
      "\n"
     ]
    },
    {
     "name": "stderr",
     "output_type": "stream",
     "text": [
      " 42%|████▏     | 66/156 [02:43<02:39,  1.77s/it]"
     ]
    },
    {
     "name": "stdout",
     "output_type": "stream",
     "text": [
      "\n",
      " ***** Processing batch 67 *****\n",
      "\n"
     ]
    },
    {
     "name": "stderr",
     "output_type": "stream",
     "text": [
      " 43%|████▎     | 67/156 [02:44<02:11,  1.48s/it]"
     ]
    },
    {
     "name": "stdout",
     "output_type": "stream",
     "text": [
      "\n",
      " ***** Processing batch 68 *****\n",
      "\n"
     ]
    },
    {
     "name": "stderr",
     "output_type": "stream",
     "text": [
      " 44%|████▎     | 68/156 [02:46<02:17,  1.56s/it]"
     ]
    },
    {
     "name": "stdout",
     "output_type": "stream",
     "text": [
      "\n",
      " ***** Processing batch 69 *****\n",
      "\n"
     ]
    },
    {
     "name": "stderr",
     "output_type": "stream",
     "text": [
      " 44%|████▍     | 69/156 [02:47<02:08,  1.48s/it]"
     ]
    },
    {
     "name": "stdout",
     "output_type": "stream",
     "text": [
      "\n",
      " ***** Processing batch 70 *****\n",
      "\n"
     ]
    },
    {
     "name": "stderr",
     "output_type": "stream",
     "text": [
      " 45%|████▍     | 70/156 [02:49<02:24,  1.68s/it]"
     ]
    },
    {
     "name": "stdout",
     "output_type": "stream",
     "text": [
      "\n",
      " ***** Processing batch 71 *****\n",
      "\n"
     ]
    },
    {
     "name": "stderr",
     "output_type": "stream",
     "text": [
      " 46%|████▌     | 71/156 [02:53<03:12,  2.27s/it]"
     ]
    },
    {
     "name": "stdout",
     "output_type": "stream",
     "text": [
      "\n",
      " ***** Processing batch 72 *****\n",
      "\n"
     ]
    },
    {
     "name": "stderr",
     "output_type": "stream",
     "text": [
      " 46%|████▌     | 72/156 [02:55<03:11,  2.28s/it]"
     ]
    },
    {
     "name": "stdout",
     "output_type": "stream",
     "text": [
      "\n",
      " ***** Processing batch 73 *****\n",
      "\n"
     ]
    },
    {
     "name": "stderr",
     "output_type": "stream",
     "text": [
      " 47%|████▋     | 73/156 [02:57<02:53,  2.09s/it]"
     ]
    },
    {
     "name": "stdout",
     "output_type": "stream",
     "text": [
      "\n",
      " ***** Processing batch 74 *****\n",
      "\n"
     ]
    },
    {
     "name": "stderr",
     "output_type": "stream",
     "text": [
      " 47%|████▋     | 74/156 [02:58<02:38,  1.93s/it]"
     ]
    },
    {
     "name": "stdout",
     "output_type": "stream",
     "text": [
      "\n",
      " ***** Processing batch 75 *****\n",
      "\n"
     ]
    },
    {
     "name": "stderr",
     "output_type": "stream",
     "text": [
      " 48%|████▊     | 75/156 [03:00<02:40,  1.98s/it]"
     ]
    },
    {
     "name": "stdout",
     "output_type": "stream",
     "text": [
      "\n",
      " ***** Processing batch 76 *****\n",
      "\n"
     ]
    },
    {
     "name": "stderr",
     "output_type": "stream",
     "text": [
      " 49%|████▊     | 76/156 [03:03<03:05,  2.32s/it]"
     ]
    },
    {
     "name": "stdout",
     "output_type": "stream",
     "text": [
      "\n",
      " ***** Processing batch 77 *****\n",
      "\n"
     ]
    },
    {
     "name": "stderr",
     "output_type": "stream",
     "text": [
      " 49%|████▉     | 77/156 [03:11<05:15,  4.00s/it]"
     ]
    },
    {
     "name": "stdout",
     "output_type": "stream",
     "text": [
      "\n",
      " ***** Processing batch 78 *****\n",
      "\n"
     ]
    },
    {
     "name": "stderr",
     "output_type": "stream",
     "text": [
      " 50%|█████     | 78/156 [03:14<04:38,  3.57s/it]"
     ]
    },
    {
     "name": "stdout",
     "output_type": "stream",
     "text": [
      "\n",
      " ***** Processing batch 79 *****\n",
      "\n"
     ]
    },
    {
     "name": "stderr",
     "output_type": "stream",
     "text": [
      " 51%|█████     | 79/156 [03:15<03:27,  2.70s/it]"
     ]
    },
    {
     "name": "stdout",
     "output_type": "stream",
     "text": [
      "\n",
      " ***** Processing batch 80 *****\n",
      "\n"
     ]
    },
    {
     "name": "stderr",
     "output_type": "stream",
     "text": [
      " 51%|█████▏    | 80/156 [03:16<02:49,  2.23s/it]"
     ]
    },
    {
     "name": "stdout",
     "output_type": "stream",
     "text": [
      "\n",
      " ***** Processing batch 81 *****\n",
      "\n"
     ]
    },
    {
     "name": "stderr",
     "output_type": "stream",
     "text": [
      " 52%|█████▏    | 81/156 [03:18<02:44,  2.20s/it]"
     ]
    },
    {
     "name": "stdout",
     "output_type": "stream",
     "text": [
      "\n",
      " ***** Processing batch 82 *****\n",
      "\n"
     ]
    },
    {
     "name": "stderr",
     "output_type": "stream",
     "text": [
      " 53%|█████▎    | 82/156 [03:20<02:49,  2.29s/it]"
     ]
    },
    {
     "name": "stdout",
     "output_type": "stream",
     "text": [
      "\n",
      " ***** Processing batch 83 *****\n",
      "\n"
     ]
    },
    {
     "name": "stderr",
     "output_type": "stream",
     "text": [
      " 53%|█████▎    | 83/156 [03:22<02:35,  2.14s/it]"
     ]
    },
    {
     "name": "stdout",
     "output_type": "stream",
     "text": [
      "\n",
      " ***** Processing batch 84 *****\n",
      "\n"
     ]
    },
    {
     "name": "stderr",
     "output_type": "stream",
     "text": [
      " 54%|█████▍    | 84/156 [03:25<02:43,  2.27s/it]"
     ]
    },
    {
     "name": "stdout",
     "output_type": "stream",
     "text": [
      "\n",
      " ***** Processing batch 85 *****\n",
      "\n"
     ]
    },
    {
     "name": "stderr",
     "output_type": "stream",
     "text": [
      " 54%|█████▍    | 85/156 [03:28<03:12,  2.71s/it]"
     ]
    },
    {
     "name": "stdout",
     "output_type": "stream",
     "text": [
      "\n",
      " ***** Processing batch 86 *****\n",
      "\n"
     ]
    },
    {
     "name": "stderr",
     "output_type": "stream",
     "text": [
      " 55%|█████▌    | 86/156 [03:30<02:54,  2.49s/it]"
     ]
    },
    {
     "name": "stdout",
     "output_type": "stream",
     "text": [
      "\n",
      " ***** Processing batch 87 *****\n",
      "\n"
     ]
    },
    {
     "name": "stderr",
     "output_type": "stream",
     "text": [
      " 56%|█████▌    | 87/156 [03:33<02:52,  2.51s/it]"
     ]
    },
    {
     "name": "stdout",
     "output_type": "stream",
     "text": [
      "\n",
      " ***** Processing batch 88 *****\n",
      "\n"
     ]
    },
    {
     "name": "stderr",
     "output_type": "stream",
     "text": [
      " 56%|█████▋    | 88/156 [03:35<02:40,  2.36s/it]"
     ]
    },
    {
     "name": "stdout",
     "output_type": "stream",
     "text": [
      "\n",
      " ***** Processing batch 89 *****\n",
      "\n"
     ]
    },
    {
     "name": "stderr",
     "output_type": "stream",
     "text": [
      " 57%|█████▋    | 89/156 [03:38<02:47,  2.51s/it]"
     ]
    },
    {
     "name": "stdout",
     "output_type": "stream",
     "text": [
      "\n",
      " ***** Processing batch 90 *****\n",
      "\n"
     ]
    },
    {
     "name": "stderr",
     "output_type": "stream",
     "text": [
      " 58%|█████▊    | 90/156 [03:39<02:24,  2.19s/it]"
     ]
    },
    {
     "name": "stdout",
     "output_type": "stream",
     "text": [
      "\n",
      " ***** Processing batch 91 *****\n",
      "\n"
     ]
    },
    {
     "name": "stderr",
     "output_type": "stream",
     "text": [
      " 58%|█████▊    | 91/156 [03:47<04:12,  3.89s/it]"
     ]
    },
    {
     "name": "stdout",
     "output_type": "stream",
     "text": [
      "\n",
      " ***** Processing batch 92 *****\n",
      "\n"
     ]
    },
    {
     "name": "stderr",
     "output_type": "stream",
     "text": [
      " 59%|█████▉    | 92/156 [03:49<03:30,  3.28s/it]"
     ]
    },
    {
     "name": "stdout",
     "output_type": "stream",
     "text": [
      "\n",
      " ***** Processing batch 93 *****\n",
      "\n"
     ]
    },
    {
     "name": "stderr",
     "output_type": "stream",
     "text": [
      " 60%|█████▉    | 93/156 [03:51<02:57,  2.81s/it]"
     ]
    },
    {
     "name": "stdout",
     "output_type": "stream",
     "text": [
      "\n",
      " ***** Processing batch 94 *****\n",
      "\n"
     ]
    },
    {
     "name": "stderr",
     "output_type": "stream",
     "text": [
      " 60%|██████    | 94/156 [03:53<02:42,  2.62s/it]"
     ]
    },
    {
     "name": "stdout",
     "output_type": "stream",
     "text": [
      "\n",
      " ***** Processing batch 95 *****\n",
      "\n"
     ]
    },
    {
     "name": "stderr",
     "output_type": "stream",
     "text": [
      " 61%|██████    | 95/156 [03:54<02:18,  2.28s/it]"
     ]
    },
    {
     "name": "stdout",
     "output_type": "stream",
     "text": [
      "\n",
      " ***** Processing batch 96 *****\n",
      "\n"
     ]
    },
    {
     "name": "stderr",
     "output_type": "stream",
     "text": [
      " 62%|██████▏   | 96/156 [03:56<01:56,  1.94s/it]"
     ]
    },
    {
     "name": "stdout",
     "output_type": "stream",
     "text": [
      "\n",
      " ***** Processing batch 97 *****\n",
      "\n"
     ]
    },
    {
     "name": "stderr",
     "output_type": "stream",
     "text": [
      " 62%|██████▏   | 97/156 [03:57<01:45,  1.79s/it]"
     ]
    },
    {
     "name": "stdout",
     "output_type": "stream",
     "text": [
      "\n",
      " ***** Processing batch 98 *****\n",
      "\n"
     ]
    },
    {
     "name": "stderr",
     "output_type": "stream",
     "text": [
      " 63%|██████▎   | 98/156 [03:59<01:55,  1.99s/it]"
     ]
    },
    {
     "name": "stdout",
     "output_type": "stream",
     "text": [
      "\n",
      " ***** Processing batch 99 *****\n",
      "\n"
     ]
    },
    {
     "name": "stderr",
     "output_type": "stream",
     "text": [
      " 63%|██████▎   | 99/156 [04:03<02:14,  2.36s/it]"
     ]
    },
    {
     "name": "stdout",
     "output_type": "stream",
     "text": [
      "\n",
      " ***** Processing batch 100 *****\n",
      "\n"
     ]
    },
    {
     "name": "stderr",
     "output_type": "stream",
     "text": [
      " 64%|██████▍   | 100/156 [04:06<02:22,  2.55s/it]"
     ]
    },
    {
     "name": "stdout",
     "output_type": "stream",
     "text": [
      "\n",
      " ***** Processing batch 101 *****\n",
      "\n"
     ]
    },
    {
     "name": "stderr",
     "output_type": "stream",
     "text": [
      " 65%|██████▍   | 101/156 [04:07<01:55,  2.10s/it]"
     ]
    },
    {
     "name": "stdout",
     "output_type": "stream",
     "text": [
      "\n",
      " ***** Processing batch 102 *****\n",
      "\n"
     ]
    },
    {
     "name": "stderr",
     "output_type": "stream",
     "text": [
      " 65%|██████▌   | 102/156 [04:08<01:46,  1.98s/it]"
     ]
    },
    {
     "name": "stdout",
     "output_type": "stream",
     "text": [
      "\n",
      " ***** Processing batch 103 *****\n",
      "\n"
     ]
    },
    {
     "name": "stderr",
     "output_type": "stream",
     "text": [
      " 66%|██████▌   | 103/156 [04:09<01:25,  1.61s/it]"
     ]
    },
    {
     "name": "stdout",
     "output_type": "stream",
     "text": [
      "\n",
      " ***** Processing batch 104 *****\n",
      "\n"
     ]
    },
    {
     "name": "stderr",
     "output_type": "stream",
     "text": [
      " 67%|██████▋   | 104/156 [04:13<01:52,  2.17s/it]"
     ]
    },
    {
     "name": "stdout",
     "output_type": "stream",
     "text": [
      "\n",
      " ***** Processing batch 105 *****\n",
      "\n"
     ]
    },
    {
     "name": "stderr",
     "output_type": "stream",
     "text": [
      " 67%|██████▋   | 105/156 [04:15<01:54,  2.25s/it]"
     ]
    },
    {
     "name": "stdout",
     "output_type": "stream",
     "text": [
      "\n",
      " ***** Processing batch 106 *****\n",
      "\n"
     ]
    },
    {
     "name": "stderr",
     "output_type": "stream",
     "text": [
      " 68%|██████▊   | 106/156 [04:17<01:42,  2.06s/it]"
     ]
    },
    {
     "name": "stdout",
     "output_type": "stream",
     "text": [
      "\n",
      " ***** Processing batch 107 *****\n",
      "\n"
     ]
    },
    {
     "name": "stderr",
     "output_type": "stream",
     "text": [
      " 69%|██████▊   | 107/156 [04:18<01:35,  1.94s/it]"
     ]
    },
    {
     "name": "stdout",
     "output_type": "stream",
     "text": [
      "\n",
      " ***** Processing batch 108 *****\n",
      "\n"
     ]
    },
    {
     "name": "stderr",
     "output_type": "stream",
     "text": [
      " 69%|██████▉   | 108/156 [04:20<01:33,  1.95s/it]"
     ]
    },
    {
     "name": "stdout",
     "output_type": "stream",
     "text": [
      "\n",
      " ***** Processing batch 109 *****\n",
      "\n"
     ]
    },
    {
     "name": "stderr",
     "output_type": "stream",
     "text": [
      " 70%|██████▉   | 109/156 [04:23<01:37,  2.07s/it]"
     ]
    },
    {
     "name": "stdout",
     "output_type": "stream",
     "text": [
      "\n",
      " ***** Processing batch 110 *****\n",
      "\n"
     ]
    },
    {
     "name": "stderr",
     "output_type": "stream",
     "text": [
      " 71%|███████   | 110/156 [04:25<01:38,  2.13s/it]"
     ]
    },
    {
     "name": "stdout",
     "output_type": "stream",
     "text": [
      "\n",
      " ***** Processing batch 111 *****\n",
      "\n"
     ]
    },
    {
     "name": "stderr",
     "output_type": "stream",
     "text": [
      " 71%|███████   | 111/156 [04:27<01:29,  1.98s/it]"
     ]
    },
    {
     "name": "stdout",
     "output_type": "stream",
     "text": [
      "\n",
      " ***** Processing batch 112 *****\n",
      "\n"
     ]
    },
    {
     "name": "stderr",
     "output_type": "stream",
     "text": [
      " 72%|███████▏  | 112/156 [04:28<01:22,  1.87s/it]"
     ]
    },
    {
     "name": "stdout",
     "output_type": "stream",
     "text": [
      "\n",
      " ***** Processing batch 113 *****\n",
      "\n"
     ]
    },
    {
     "name": "stderr",
     "output_type": "stream",
     "text": [
      " 72%|███████▏  | 113/156 [04:30<01:19,  1.84s/it]"
     ]
    },
    {
     "name": "stdout",
     "output_type": "stream",
     "text": [
      "\n",
      " ***** Processing batch 114 *****\n",
      "\n"
     ]
    },
    {
     "name": "stderr",
     "output_type": "stream",
     "text": [
      " 73%|███████▎  | 114/156 [04:30<00:59,  1.42s/it]"
     ]
    },
    {
     "name": "stdout",
     "output_type": "stream",
     "text": [
      "\n",
      " ***** Processing batch 115 *****\n",
      "\n"
     ]
    },
    {
     "name": "stderr",
     "output_type": "stream",
     "text": [
      " 74%|███████▎  | 115/156 [04:34<01:24,  2.07s/it]"
     ]
    },
    {
     "name": "stdout",
     "output_type": "stream",
     "text": [
      "\n",
      " ***** Processing batch 116 *****\n",
      "\n"
     ]
    },
    {
     "name": "stderr",
     "output_type": "stream",
     "text": [
      " 74%|███████▍  | 116/156 [04:38<01:40,  2.52s/it]"
     ]
    },
    {
     "name": "stdout",
     "output_type": "stream",
     "text": [
      "\n",
      " ***** Processing batch 117 *****\n",
      "\n"
     ]
    },
    {
     "name": "stderr",
     "output_type": "stream",
     "text": [
      " 75%|███████▌  | 117/156 [04:41<01:44,  2.68s/it]"
     ]
    },
    {
     "name": "stdout",
     "output_type": "stream",
     "text": [
      "\n",
      " ***** Processing batch 118 *****\n",
      "\n"
     ]
    },
    {
     "name": "stderr",
     "output_type": "stream",
     "text": [
      " 76%|███████▌  | 118/156 [04:43<01:41,  2.66s/it]"
     ]
    },
    {
     "name": "stdout",
     "output_type": "stream",
     "text": [
      "\n",
      " ***** Processing batch 119 *****\n",
      "\n"
     ]
    },
    {
     "name": "stderr",
     "output_type": "stream",
     "text": [
      " 76%|███████▋  | 119/156 [04:48<01:57,  3.17s/it]"
     ]
    },
    {
     "name": "stdout",
     "output_type": "stream",
     "text": [
      "\n",
      " ***** Processing batch 120 *****\n",
      "\n"
     ]
    },
    {
     "name": "stderr",
     "output_type": "stream",
     "text": [
      " 77%|███████▋  | 120/156 [04:50<01:50,  3.07s/it]"
     ]
    },
    {
     "name": "stdout",
     "output_type": "stream",
     "text": [
      "\n",
      " ***** Processing batch 121 *****\n",
      "\n"
     ]
    },
    {
     "name": "stderr",
     "output_type": "stream",
     "text": [
      " 78%|███████▊  | 121/156 [04:55<02:01,  3.47s/it]"
     ]
    },
    {
     "name": "stdout",
     "output_type": "stream",
     "text": [
      "\n",
      " ***** Processing batch 122 *****\n",
      "\n"
     ]
    },
    {
     "name": "stderr",
     "output_type": "stream",
     "text": [
      " 78%|███████▊  | 122/156 [04:59<02:05,  3.69s/it]"
     ]
    },
    {
     "name": "stdout",
     "output_type": "stream",
     "text": [
      "\n",
      " ***** Processing batch 123 *****\n",
      "\n"
     ]
    },
    {
     "name": "stderr",
     "output_type": "stream",
     "text": [
      " 79%|███████▉  | 123/156 [05:03<02:08,  3.89s/it]"
     ]
    },
    {
     "name": "stdout",
     "output_type": "stream",
     "text": [
      "\n",
      " ***** Processing batch 124 *****\n",
      "\n"
     ]
    },
    {
     "name": "stderr",
     "output_type": "stream",
     "text": [
      " 79%|███████▉  | 124/156 [05:07<01:58,  3.69s/it]"
     ]
    },
    {
     "name": "stdout",
     "output_type": "stream",
     "text": [
      "\n",
      " ***** Processing batch 125 *****\n",
      "\n"
     ]
    },
    {
     "name": "stderr",
     "output_type": "stream",
     "text": [
      " 80%|████████  | 125/156 [05:10<01:52,  3.62s/it]"
     ]
    },
    {
     "name": "stdout",
     "output_type": "stream",
     "text": [
      "\n",
      " ***** Processing batch 126 *****\n",
      "\n"
     ]
    },
    {
     "name": "stderr",
     "output_type": "stream",
     "text": [
      " 81%|████████  | 126/156 [05:12<01:37,  3.27s/it]"
     ]
    },
    {
     "name": "stdout",
     "output_type": "stream",
     "text": [
      "\n",
      " ***** Processing batch 127 *****\n",
      "\n"
     ]
    },
    {
     "name": "stderr",
     "output_type": "stream",
     "text": [
      " 81%|████████▏ | 127/156 [05:17<01:43,  3.58s/it]"
     ]
    },
    {
     "name": "stdout",
     "output_type": "stream",
     "text": [
      "\n",
      " ***** Processing batch 128 *****\n",
      "\n"
     ]
    },
    {
     "name": "stderr",
     "output_type": "stream",
     "text": [
      " 82%|████████▏ | 128/156 [05:20<01:34,  3.39s/it]"
     ]
    },
    {
     "name": "stdout",
     "output_type": "stream",
     "text": [
      "\n",
      " ***** Processing batch 129 *****\n",
      "\n"
     ]
    },
    {
     "name": "stderr",
     "output_type": "stream",
     "text": [
      " 83%|████████▎ | 129/156 [05:21<01:17,  2.86s/it]"
     ]
    },
    {
     "name": "stdout",
     "output_type": "stream",
     "text": [
      "\n",
      " ***** Processing batch 130 *****\n",
      "\n"
     ]
    },
    {
     "name": "stderr",
     "output_type": "stream",
     "text": [
      " 83%|████████▎ | 130/156 [05:24<01:10,  2.70s/it]"
     ]
    },
    {
     "name": "stdout",
     "output_type": "stream",
     "text": [
      "\n",
      " ***** Processing batch 131 *****\n",
      "\n"
     ]
    },
    {
     "name": "stderr",
     "output_type": "stream",
     "text": [
      " 84%|████████▍ | 131/156 [05:25<01:00,  2.42s/it]"
     ]
    },
    {
     "name": "stdout",
     "output_type": "stream",
     "text": [
      "\n",
      " ***** Processing batch 132 *****\n",
      "\n"
     ]
    },
    {
     "name": "stderr",
     "output_type": "stream",
     "text": [
      " 85%|████████▍ | 132/156 [05:28<00:58,  2.43s/it]"
     ]
    },
    {
     "name": "stdout",
     "output_type": "stream",
     "text": [
      "\n",
      " ***** Processing batch 133 *****\n",
      "\n"
     ]
    },
    {
     "name": "stderr",
     "output_type": "stream",
     "text": [
      " 85%|████████▌ | 133/156 [05:30<00:54,  2.37s/it]"
     ]
    },
    {
     "name": "stdout",
     "output_type": "stream",
     "text": [
      "\n",
      " ***** Processing batch 134 *****\n",
      "\n"
     ]
    },
    {
     "name": "stderr",
     "output_type": "stream",
     "text": [
      " 86%|████████▌ | 134/156 [05:32<00:48,  2.22s/it]"
     ]
    },
    {
     "name": "stdout",
     "output_type": "stream",
     "text": [
      "\n",
      " ***** Processing batch 135 *****\n",
      "\n"
     ]
    },
    {
     "name": "stderr",
     "output_type": "stream",
     "text": [
      " 87%|████████▋ | 135/156 [05:34<00:48,  2.29s/it]"
     ]
    },
    {
     "name": "stdout",
     "output_type": "stream",
     "text": [
      "\n",
      " ***** Processing batch 136 *****\n",
      "\n"
     ]
    },
    {
     "name": "stderr",
     "output_type": "stream",
     "text": [
      " 87%|████████▋ | 136/156 [05:35<00:37,  1.87s/it]"
     ]
    },
    {
     "name": "stdout",
     "output_type": "stream",
     "text": [
      "\n",
      " ***** Processing batch 137 *****\n",
      "\n"
     ]
    },
    {
     "name": "stderr",
     "output_type": "stream",
     "text": [
      " 88%|████████▊ | 137/156 [05:39<00:46,  2.47s/it]"
     ]
    },
    {
     "name": "stdout",
     "output_type": "stream",
     "text": [
      "\n",
      " ***** Processing batch 138 *****\n",
      "\n"
     ]
    },
    {
     "name": "stderr",
     "output_type": "stream",
     "text": [
      " 88%|████████▊ | 138/156 [05:41<00:40,  2.28s/it]"
     ]
    },
    {
     "name": "stdout",
     "output_type": "stream",
     "text": [
      "\n",
      " ***** Processing batch 139 *****\n",
      "\n"
     ]
    },
    {
     "name": "stderr",
     "output_type": "stream",
     "text": [
      " 89%|████████▉ | 139/156 [05:43<00:36,  2.12s/it]"
     ]
    },
    {
     "name": "stdout",
     "output_type": "stream",
     "text": [
      "\n",
      " ***** Processing batch 140 *****\n",
      "\n"
     ]
    },
    {
     "name": "stderr",
     "output_type": "stream",
     "text": [
      " 90%|████████▉ | 140/156 [05:44<00:30,  1.90s/it]"
     ]
    },
    {
     "name": "stdout",
     "output_type": "stream",
     "text": [
      "\n",
      " ***** Processing batch 141 *****\n",
      "\n"
     ]
    },
    {
     "name": "stderr",
     "output_type": "stream",
     "text": [
      " 90%|█████████ | 141/156 [05:46<00:26,  1.76s/it]"
     ]
    },
    {
     "name": "stdout",
     "output_type": "stream",
     "text": [
      "\n",
      " ***** Processing batch 142 *****\n",
      "\n"
     ]
    },
    {
     "name": "stderr",
     "output_type": "stream",
     "text": [
      " 91%|█████████ | 142/156 [05:47<00:23,  1.67s/it]"
     ]
    },
    {
     "name": "stdout",
     "output_type": "stream",
     "text": [
      "\n",
      " ***** Processing batch 143 *****\n",
      "\n"
     ]
    },
    {
     "name": "stderr",
     "output_type": "stream",
     "text": [
      " 92%|█████████▏| 143/156 [05:48<00:20,  1.55s/it]"
     ]
    },
    {
     "name": "stdout",
     "output_type": "stream",
     "text": [
      "\n",
      " ***** Processing batch 144 *****\n",
      "\n"
     ]
    },
    {
     "name": "stderr",
     "output_type": "stream",
     "text": [
      " 92%|█████████▏| 144/156 [05:50<00:19,  1.62s/it]"
     ]
    },
    {
     "name": "stdout",
     "output_type": "stream",
     "text": [
      "\n",
      " ***** Processing batch 145 *****\n",
      "\n"
     ]
    },
    {
     "name": "stderr",
     "output_type": "stream",
     "text": [
      " 93%|█████████▎| 145/156 [05:51<00:16,  1.52s/it]"
     ]
    },
    {
     "name": "stdout",
     "output_type": "stream",
     "text": [
      "\n",
      " ***** Processing batch 146 *****\n",
      "\n"
     ]
    },
    {
     "name": "stderr",
     "output_type": "stream",
     "text": [
      " 94%|█████████▎| 146/156 [05:54<00:19,  1.93s/it]"
     ]
    },
    {
     "name": "stdout",
     "output_type": "stream",
     "text": [
      "\n",
      " ***** Processing batch 147 *****\n",
      "\n"
     ]
    },
    {
     "name": "stderr",
     "output_type": "stream",
     "text": [
      " 94%|█████████▍| 147/156 [05:57<00:18,  2.01s/it]"
     ]
    },
    {
     "name": "stdout",
     "output_type": "stream",
     "text": [
      "\n",
      " ***** Processing batch 148 *****\n",
      "\n"
     ]
    },
    {
     "name": "stderr",
     "output_type": "stream",
     "text": [
      " 95%|█████████▍| 148/156 [05:58<00:14,  1.86s/it]"
     ]
    },
    {
     "name": "stdout",
     "output_type": "stream",
     "text": [
      "\n",
      " ***** Processing batch 149 *****\n",
      "\n"
     ]
    },
    {
     "name": "stderr",
     "output_type": "stream",
     "text": [
      " 96%|█████████▌| 149/156 [06:03<00:19,  2.76s/it]"
     ]
    },
    {
     "name": "stdout",
     "output_type": "stream",
     "text": [
      "\n",
      " ***** Processing batch 150 *****\n",
      "\n"
     ]
    },
    {
     "name": "stderr",
     "output_type": "stream",
     "text": [
      " 96%|█████████▌| 150/156 [06:06<00:16,  2.74s/it]"
     ]
    },
    {
     "name": "stdout",
     "output_type": "stream",
     "text": [
      "\n",
      " ***** Processing batch 151 *****\n",
      "\n"
     ]
    },
    {
     "name": "stderr",
     "output_type": "stream",
     "text": [
      " 97%|█████████▋| 151/156 [06:07<00:12,  2.46s/it]"
     ]
    },
    {
     "name": "stdout",
     "output_type": "stream",
     "text": [
      "\n",
      " ***** Processing batch 152 *****\n",
      "\n"
     ]
    },
    {
     "name": "stderr",
     "output_type": "stream",
     "text": [
      " 97%|█████████▋| 152/156 [06:11<00:10,  2.72s/it]"
     ]
    },
    {
     "name": "stdout",
     "output_type": "stream",
     "text": [
      "\n",
      " ***** Processing batch 153 *****\n",
      "\n"
     ]
    },
    {
     "name": "stderr",
     "output_type": "stream",
     "text": [
      " 98%|█████████▊| 153/156 [06:12<00:06,  2.27s/it]"
     ]
    },
    {
     "name": "stdout",
     "output_type": "stream",
     "text": [
      "\n",
      " ***** Processing batch 154 *****\n",
      "\n"
     ]
    },
    {
     "name": "stderr",
     "output_type": "stream",
     "text": [
      " 99%|█████████▊| 154/156 [06:14<00:04,  2.23s/it]"
     ]
    },
    {
     "name": "stdout",
     "output_type": "stream",
     "text": [
      "\n",
      " ***** Processing batch 155 *****\n",
      "\n"
     ]
    },
    {
     "name": "stderr",
     "output_type": "stream",
     "text": [
      " 99%|█████████▉| 155/156 [06:16<00:02,  2.24s/it]"
     ]
    },
    {
     "name": "stdout",
     "output_type": "stream",
     "text": [
      "\n",
      " ***** Processing batch 156 *****\n",
      "\n"
     ]
    },
    {
     "name": "stderr",
     "output_type": "stream",
     "text": [
      "100%|██████████| 156/156 [06:17<00:00,  2.42s/it]\n"
     ]
    }
   ],
   "source": [
    "generated_outputs = []\n",
    "\n",
    "for i, (input_ids_batch, attention_mask_batch) in tqdm(enumerate(zip(input_ids_batches, attention_mask_batches)), total=len(input_ids_batches)):\n",
    "    \n",
    "    print(f\"\\n ***** Processing batch {i + 1} *****\\n\")\n",
    "    \n",
    "    if torch.any(torch.isnan(input_ids_batch)) or torch.any(torch.isinf(input_ids_batch)): # type: ignore\n",
    "        print(\"Invalid input_ids detected\")\n",
    "\n",
    "    if torch.any(torch.isnan(attention_mask_batch)) or torch.any(torch.isinf(attention_mask_batch)): # type: ignore\n",
    "        print(\"Invalid attention_mask detected\")\n",
    "\n",
    "    \n",
    "    inputs = {\n",
    "        'input_ids': input_ids_batch.to(model.device), # type: ignore\n",
    "        'attention_mask': attention_mask_batch.to(model.device) # type: ignore\n",
    "    }\n",
    "\n",
    "    outputs = model.generate(\n",
    "    **inputs,\n",
    "    max_new_tokens=512,\n",
    "    pad_token_id=tokenizer.eos_token_id,\n",
    "    #eos_token_id=terminators,\n",
    "    #do_sample=True,\n",
    "    #temperature=0.1,\n",
    "    #top_p=1.0,\n",
    "    )\n",
    "    \n",
    "    #generated_outputs.append(outputs)\n",
    "    \n",
    "    #generated_outputs.append(inference_tokenizer.decode(outputs[inputs['input_ids'].shape[1]:]))\n",
    "    generated_outputs.append(tokenizer.decode(outputs[0][inputs['input_ids'].shape[1]:], skip_special_tokens=True))\n",
    "    #break"
   ]
  },
  {
   "cell_type": "code",
   "execution_count": 157,
   "metadata": {},
   "outputs": [
    {
     "data": {
      "text/plain": [
       "156"
      ]
     },
     "execution_count": 157,
     "metadata": {},
     "output_type": "execute_result"
    }
   ],
   "source": [
    "len(generated_outputs)"
   ]
  },
  {
   "cell_type": "code",
   "execution_count": 158,
   "metadata": {},
   "outputs": [
    {
     "data": {
      "text/plain": [
       "['{\"emotions\": \"[[\\'joy\\'], [\\'neutral\\'], [\\'joy\\'], [\\'neutral\\'], [\\'neutral\\'], [\\'joy\\'], [\\'fear\\', \\'joy\\'], [\\'neutral\\'], [\\'joy\\'], [\\'joy\\']]\"',\n",
       " '{\"emotions\": \"[[\\'joy\\'], [\\'anger\\',\\'sadness\\'], [\\'anger\\', \\'fear\\'], [\\'anger\\',\\'surprise\\'], [\\'sadness\\', \\'joy\\'], [\\'anger\\', \\'fear\\'], [\\'anger\\',\\'sadness\\'], [\\'anger\\', \\'joy\\']]\"',\n",
       " '{\"emotions\": \"[[\\'anger\\', \\'fear\\', \\'joy\\'], [\\'anger\\', \\'fear\\'], [\\'anger\\', \\'fear\\'], [\\'fear\\',\\'surprise\\'], [\\'fear\\'], [\\'fear\\'], [\\'fear\\', \\'joy\\'], [\\'fear\\', \\'anger\\'], [\\'fear\\',\\'sadness\\'], [\\'anger\\',\\'surprise\\'], [\\'anger\\',\\'sadness\\'], [\\'anger\\', \\'joy\\'], [\\'anger\\',\\'sadness\\'], [\\'neutral\\'], [\\'joy\\', \\'anger\\']]\"}',\n",
       " '{\"emotions\": \"[[\\'anger\\', \\'anger\\'], [\\'anger\\'], [\\'anger\\'], [\\'anger\\',\\'sadness\\', \\'joy\\'], [\\'anger\\',\\'sadness\\'], [\\'anger\\'], [\\'anger\\'], [\\'anger\\'], [\\'anger\\'], [\\'anger\\', \\'anger\\'], [\\'anger\\', \\'anger\\'], [\\'anger\\', \\'anger\\'], [\\'anger\\'], [\\'anger\\'], [\\'anger\\', \\'anger\\'], [\\'anger\\', \\'anger\\'], [\\'anger\\', \\'anger\\'], [\\'anger\\'], [\\'anger\\', \\'anger\\'], [\\'anger\\']]\"}',\n",
       " '{\"emotions\": \"[[\\'fear\\',\\'sadness\\'], [\\'joy\\'], [\\'joy\\']]\"',\n",
       " '{\"emotions\": \"[[\\'neutral\\'], [\\'anger\\', \\'fear\\'], [\\'fear\\',\\'surprise\\'], [\\'fear\\',\\'sadness\\'], [\\'fear\\',\\'surprise\\'], [\\'anger\\', \\'joy\\'], [\\'fear\\', \\'joy\\'], [\\'fear\\',\\'surprise\\'], [\\'anger\\', \\'joy\\'], [\\'anger\\',\\'surprise\\'], [\\'fear\\',\\'surprise\\'], [\\'anger\\', \\'joy\\'], [\\'anger\\', \\'joy\\'], [\\'anger\\', \\'joy\\'], [\\'anger\\', \\'joy\\'], [\\'anger\\', \\'joy\\'], [\\'anger\\', \\'joy\\'], [\\'anger\\',\\'surprise\\'], [\\'anger\\', \\'joy\\']]\"}\\n\\nNote: I assumed that the utterances with hashtags (#) and at symbols (@) were expressions of emotions, but since they are not explicitly mentioned, I assigned them to the most relevant emotions based on the context. If you want to keep them as separate emotions, please let me know.',\n",
       " '{\"emotions\": \"[[\\'anger\\', \\'fear\\'], [\\'anger\\', \\'fear\\'], [\\'anger\\', \\'fear\\'], [\\'anger\\', \\'fear\\'], [\\'anger\\', \\'disgust\\'], [\\'anger\\', \\'disgust\\'], [\\'anger\\', \\'disgust\\'], [\\'anger\\', \\'fear\\'], [\\'anger\\', \\'fear\\'], [\\'anger\\', \\'disgust\\'], [\\'fear\\',\\'surprise\\'], [\\'fear\\',\\'surprise\\'], [\\'anger\\', \\'fear\\'], [\\'anger\\', \\'fear\\'], [\\'anger\\', \\'joy\\']]\"',\n",
       " '{\"emotions\": \"[[\\'neutral\\', \\'joy\\'], [\\'fear\\'], [\\'anger\\'], [\\'sadness\\'], [\\'joy\\'], [\\'anger\\'], [\\'anger\\'], [\\'anger\\'], [\\'anger\\', \\'disgust\\'], [\\'anger\\', \\'disgust\\'], [\\'anger\\', \\'disgust\\'], [\\'anger\\', \\'disgust\\'], [\\'anger\\', \\'disgust\\'], [\\'anger\\', \\'disgust\\'], [\\'anger\\', \\'disgust\\']]\"}\\n\\nNote: I have considered both explicit emotional words and implicit context in my analysis.',\n",
       " '{\"emotions\": \"[[\\'joy\\',\\'surprise\\'], [\\'surprise\\'], [\\'joy\\',\\'surprise\\'], [\\'surprise\\', \\'joy\\'], [\\'joy\\',\\'sadness\\', \\'anger\\'], [\\'fear\\',\\'surprise\\'], [\\'anger\\', \\'fear\\',\\'surprise\\'], [\\'anger\\', \\'fear\\',\\'surprise\\'], [\\'anger\\', \\'fear\\'], [\\'anger\\', \\'fear\\'], [\\'anger\\', \\'fear\\',\\'surprise\\']]\"',\n",
       " '{\"emotions\": \"[[\\'joy\\'], [\\'anger\\',\\'surprise\\'], [\\'joy\\',\\'sadness\\'], [\\'joy\\'], [\\'neutral\\'], [\\'neutral\\'], [\\'anger\\', \\'joy\\'], [\\'joy\\'], [\\'anger\\',\\'surprise\\'], [\\'neutral\\', \\'anger\\'], [\\'anger\\',\\'sadness\\']]\"',\n",
       " '{\"emotions\": \"[[\\'joy\\',\\'surprise\\'], [\\'fear\\',\\'sadness\\'], [\\'fear\\',\\'surprise\\'], [\\'anger\\', \\'fear\\'], [\\'fear\\',\\'surprise\\'], [\\'fear\\', \\'disgust\\'], [\\'fear\\', \\'disgust\\'], [\\'fear\\',\\'sadness\\'], [\\'anger\\', \\'fear\\',\\'sadness\\'], [\\'anger\\', \\'fear\\',\\'sadness\\'], [\\'anger\\',\\'sadness\\', \\'fear\\'], [\\'anger\\',\\'sadness\\', \\'fear\\'], [\\'fear\\',\\'sadness\\',\\'surprise\\'], [\\'fear\\',\\'sadness\\',\\'surprise\\'], [\\'anger\\', \\'fear\\',\\'sadness\\',\\'surprise\\'], [\\'anger\\', \\'fear\\',\\'sadness\\',\\'surprise\\']]\"}',\n",
       " '{\"emotions\": \"[[\\'joy\\'], [\\'joy\\'], [\\'anger\\', \\'fear\\'], [\\'anger\\', \\'fear\\']]\"',\n",
       " '{\"emotions\": \"[[\\'neutral\\'], [\\'surprise\\', \\'joy\\'], [\\'neutral\\'], [\\'anger\\'], [\\'sadness\\'], [\\'joy\\'], [\\'surprise\\'], [\\'neutral\\'], [\\'anger\\'], [\\'neutral\\'], [\\'anger\\'], [\\'joy\\'], [\\'neutral\\']]\"',\n",
       " '{\"emotions\": \"[[\\'fear\\',\\'surprise\\'], [\\'joy\\',\\'surprise\\'], [\\'joy\\',\\'surprise\\'], [\\'joy\\'], [\\'neutral\\'], [\\'anger\\',\\'sadness\\'], [\\'anger\\',\\'sadness\\'], [\\'sadness\\', \\'joy\\'], [\\'surprise\\', \\'joy\\'], [\\'sadness\\']]\"}\\n\\nNote: The classification is based on the given examples and guidelines.',\n",
       " '{\"emotions\": \"[[\\'fear\\',\\'surprise\\'], [\\'anger\\', \\'fear\\'], [\\'anger\\', \\'fear\\'], [\\'anger\\', \\'fear\\'], [\\'anger\\', \\'fear\\'], [\\'anger\\', \\'fear\\'], [\\'anger\\', \\'fear\\'], [\\'anger\\', \\'fear\\'], [\\'anger\\', \\'fear\\'], [\\'anger\\', \\'fear\\'], [\\'anger\\', \\'fear\\'], [\\'anger\\', \\'fear\\'], [\\'anger\\', \\'fear\\'], [\\'anger\\', \\'fear\\'], [\\'anger\\', \\'fear\\'], [\\'anger\\', \\'fear\\'], [\\'anger\\', \\'fear\\'], [\\'anger\\', \\'fear\\'], [\\'anger\\', \\'fear\\'], [\\'anger\\', \\'fear\\'], [\\'anger\\', \\'fear\\']]\"',\n",
       " '{\"emotions\": \"[[\\'surprise\\', \\'joy\\'], [\\'joy\\'], [\\'anger\\', \\'joy\\'], [\\'joy\\',\\'surprise\\'], [\\'joy\\',\\'surprise\\'], [\\'joy\\',\\'surprise\\'], [\\'neutral\\'], [\\'neutral\\'], [\\'surprise\\', \\'joy\\'], [\\'anger\\', \\'joy\\'], [\\'neutral\\'], [\\'fear\\',\\'surprise\\'], [\\'neutral\\'], [\\'joy\\',\\'surprise\\'], [\\'joy\\',\\'surprise\\'], [\\'joy\\',\\'surprise\\'], [\\'neutral\\'], [\\'joy\\',\\'surprise\\'], [\\'anger\\', \\'joy\\'], [\\'joy\\',\\'surprise\\'], [\\'joy\\',\\'surprise\\'], [\\'joy\\',\\'surprise\\']]\"}',\n",
       " '{\"emotions\": \"[[\\'joy\\',\\'sadness\\'], [\\'anger\\', \\'fear\\'], [\\'anger\\', \\'disgust\\'], [\\'anger\\', \\'joy\\'], [\\'anger\\', \\'fear\\'], [\\'anger\\',\\'surprise\\'], [\\'anger\\', \\'disgust\\'], [\\'fear\\',\\'surprise\\'], [\\'anger\\', \\'fear\\',\\'surprise\\'], [\\'anger\\', \\'fear\\',\\'surprise\\'], [\\'anger\\', \\'fear\\'], [\\'anger\\', \\'disgust\\'], [\\'anger\\', \\'fear\\'], [\\'anger\\', \\'fear\\']]\"}',\n",
       " '{\"emotions\": \"[[\\'joy\\'], [\\'surprise\\', \\'joy\\'], [\\'joy\\', \\'anger\\'], [\\'anger\\'], [\\'anger\\'], [\\'anger\\'], [\\'anger\\', \\'disgust\\'], [\\'sadness\\'], [\\'sadness\\'], [\\'anger\\'], [\\'anger\\', \\'joy\\'], [\\'surprise\\'], [\\'anger\\', \\'joy\\']]\"',\n",
       " '{\"emotions\": \"[[\\'joy\\'], [\\'joy\\',\\'surprise\\'], [\\'anger\\'], [\\'sadness\\'], [\\'surprise\\'], [\\'joy\\'], [\\'joy\\'], [\\'anger\\'], [\\'sadness\\'], [\\'surprise\\'], [\\'joy\\'], [\\'joy\\'], [\\'anger\\', \\'fear\\'], [\\'anger\\']]\"',\n",
       " '{\"emotions\": \"[[\\'neutral\\', \\'joy\\'], [\\'fear\\', \\'anger\\',\\'surprise\\'], [\\'sadness\\', \\'anger\\', \\'fear\\'], [\\'sadness\\', \\'anger\\'], [\\'sadness\\', \\'anger\\'], [\\'sadness\\', \\'anger\\', \\'fear\\'], [\\'surprise\\', \\'fear\\'], [\\'surprise\\', \\'fear\\', \\'anger\\'], [\\'anger\\', \\'fear\\',\\'surprise\\'], [\\'anger\\', \\'fear\\',\\'surprise\\'], [\\'anger\\', \\'fear\\',\\'surprise\\'], [\\'fear\\', \\'anger\\'], [\\'fear\\', \\'anger\\'], [\\'fear\\', \\'anger\\',\\'surprise\\']]\"}',\n",
       " '{\"emotions\": \"[[\\'sadness\\', \\'anger\\'], [\\'anger\\',\\'surprise\\'], [\\'anger\\',\\'surprise\\'], [\\'sadness\\', \\'anger\\'], [\\'sadness\\', \\'anger\\'], [\\'fear\\', \\'confusion\\'], [\\'sadness\\'], [\\'anger\\',\\'surprise\\'], [\\'joy\\'], [\\'anger\\', \\'fear\\']]\"',\n",
       " '{\"emotions\": \"[[\\'joy\\',\\'surprise\\'], [\\'surprise\\', \\'joy\\'], [\\'fear\\'], [\\'fear\\',\\'surprise\\'], [\\'fear\\'], [\\'neutral\\'], [\\'fear\\'], [\\'joy\\'], [\\'surprise\\'], [\\'anger\\',\\'surprise\\'], [\\'anger\\',\\'surprise\\'], [\\'anger\\',\\'surprise\\']]\"',\n",
       " '{\"emotions\": \"[[\\'joy\\'], [\\'joy\\'], [\\'joy\\',\\'surprise\\'], [\\'fear\\'], [\\'joy\\'], [\\'joy\\',\\'surprise\\'], [\\'joy\\',\\'surprise\\'], [\\'joy\\',\\'surprise\\'], [\\'joy\\',\\'surprise\\'], [\\'fear\\'], [\\'fear\\',\\'surprise\\']]\"',\n",
       " '{\"emotions\": \"[[\\'surprise\\', \\'joy\\'], [\\'fear\\'], [\\'sadness\\', \\'joy\\'], [\\'fear\\'], [\\'surprise\\', \\'joy\\'], [\\'joy\\', \\'anger\\'], [\\'joy\\', \\'fear\\'], [\\'neutral\\', \\'joy\\'], [\\'neutral\\', \\'joy\\'], [\\'fear\\']]\"',\n",
       " '{\"emotions\": \"[[\\'surprise\\', \\'fear\\'], [\\'anger\\', \\'fear\\'], [\\'fear\\',\\'surprise\\'], [\\'neutral\\'], [\\'neutral\\'], [\\'neutral\\'], [\\'neutral\\'], [\\'fear\\',\\'surprise\\'], [\\'anger\\', \\'fear\\'], [\\'surprise\\'], [\\'fear\\', \\'anger\\'], [\\'fear\\',\\'surprise\\']]\"',\n",
       " '{\"emotions\": \"[[\\'anger\\'], [\\'fear\\'], [\\'concern\\'], [\\'fear\\',\\'surprise\\'], [\\'sadness\\',\\'surprise\\', \\'fear\\'], [\\'sadness\\', \\'fear\\'], [\\'fear\\'], [\\'fear\\'], [\\'anger\\'], [\\'neutral\\'], [\\'sadness\\'], [\\'sadness\\',\\'shame\\'], [\\'anger\\']]\"',\n",
       " '{\"emotions\": \"[[\\'sadness\\', \\'joy\\'], [\\'neutral\\',\\'surprise\\'], [\\'disgust\\', \\'fear\\'], [\\'love\\', \\'joy\\'], [\\'fear\\', \\'anger\\'], [\\'anger\\', \\'fear\\'], [\\'neutral\\', \\'joy\\'], [\\'surprise\\', \\'fear\\'], [\\'joy\\'], [\\'joy\\',\\'surprise\\'], [\\'sadness\\', \\'anger\\'], [\\'anger\\', \\'fear\\'], [\\'anger\\', \\'fear\\']]\"',\n",
       " '{\"emotions\": \"[[\\'fear\\', \\'joy\\'], [\\'joy\\'], [\\'fear\\',\\'surprise\\'], [\\'sadness\\',\\'surprise\\'], [\\'anger\\', \\'fear\\'], [\\'surprise\\', \\'fear\\'], [\\'surprise\\', \\'fear\\'], [\\'sadness\\',\\'surprise\\'], [\\'anger\\', \\'fear\\'], [\\'fear\\',\\'surprise\\'], [\\'sadness\\', \\'fear\\'], [\\'surprise\\'], [\\'fear\\',\\'surprise\\'], [\\'anger\\', \\'fear\\'], [\\'fear\\'], [\\'fear\\'], [\\'fear\\'], [\\'fear\\'], [\\'fear\\']]\"}',\n",
       " '{\"emotions\": \"[[\\'anger\\'], [\\'fear\\'], [\\'fear\\', \\'anger\\'], [\\'anger\\'], [\\'fear\\', \\'anger\\'], [\\'anger\\',\\'surprise\\']]\"',\n",
       " '{\"emotions\": \"[[\\'anger\\'], [\\'anger\\', \\'fear\\'], [\\'anger\\', \\'disgust\\'], [\\'anger\\', \\'fear\\']]\"}\\n\\n \\nNote: The classification is based on the provided guidelines and the input examples. The analysis considers the explicit emotional words, implicit context, punctuation, capitalization, and sequential context to determine the primary emotions expressed in each utterance.',\n",
       " '{\"emotions\": \"[[\\'joy\\'], [\\'anger\\'], [\\'anger\\'], [\\'anger\\'], [\\'anger\\', \\'fear\\'], [\\'anger\\', \\'fear\\',\\'sadness\\']]\"',\n",
       " '{\"emotions\": \"[[\\'surprise\\'], [\\'fear\\',\\'surprise\\'], [\\'fear\\',\\'sadness\\'], [\\'fear\\',\\'sadness\\'], [\\'joy\\',\\'sadness\\'], [\\'curiosity\\', \\'fear\\'], [\\'curiosity\\', \\'fear\\']]\"',\n",
       " '{\"emotions\": \"[[\\'surprise\\'], [\\'joy\\'], [\\'joy\\',\\'surprise\\'], [\\'joy\\',\\'surprise\\'], [\\'anger\\'], [\\'neutral\\'], [\\'fear\\',\\'surprise\\'], [\\'fear\\', \\'anger\\'], [\\'anger\\',\\'surprise\\']]\"',\n",
       " '{\"emotions\": \"[[\\'sadness\\', \\'fear\\'], [\\'fear\\', \\'curiosity\\'], [\\'anger\\'], [\\'anger\\', \\'fear\\'], [\\'anger\\', \\'fear\\'], [\\'anger\\', \\'fear\\'], [\\'anger\\', \\'fear\\'], [\\'anger\\', \\'disgust\\'], [\\'fear\\', \\'anger\\'], [\\'anger\\', \\'joy\\', \\'disgust\\']]\"',\n",
       " '{\"emotions\": \"[[\\'fear\\',\\'surprise\\'], [\\'surprise\\'], [\\'fear\\'], [\\'joy\\'], [\\'anger\\', \\'fear\\'], [\\'anger\\'], [\\'anger\\', \\'fear\\'], [\\'anger\\'], [\\'fear\\',\\'surprise\\'], [\\'sadness\\',\\'surprise\\']]\"',\n",
       " '{\"emotions\": \"[[\\'anger\\', \\'disgust\\'], [\\'joy\\',\\'surprise\\'], [\\'anger\\', \\'fear\\'], [\\'anger\\', \\'disgust\\'], [\\'anger\\', \\'disgust\\'], [\\'anger\\', \\'fear\\'], [\\'fear\\',\\'surprise\\'], [\\'anger\\',\\'sadness\\'], [\\'anger\\', \\'joy\\']]\"}',\n",
       " '{\"emotions\": \"[[\\'joy\\'], [\\'fear\\',\\'surprise\\'], [\\'gratitude\\'], [\\'curiosity\\'], [\\'curiosity\\'], [\\'anger\\', \\'disgust\\'], [\\'anger\\', \\'disgust\\'], [\\'fear\\',\\'surprise\\'], [\\'fear\\', \\'curiosity\\'], [\\'fear\\',\\'surprise\\'], [\\'curiosity\\'], [\\'anger\\', \\'disgust\\'], [\\'anger\\', \\'disgust\\'], [\\'anger\\', \\'disgust\\'], [\\'anger\\', \\'disgust\\'], [\\'anger\\', \\'disgust\\'], [\\'anger\\', \\'disgust\\']]\"}',\n",
       " '{\"emotions\": \"[[\\'anger\\', \\'fear\\'], [\\'fear\\', \\'joy\\'], [\\'anger\\'], [\\'fear\\'], [\\'fear\\']]\"}',\n",
       " '{\"emotions\": \"[[\\'anger\\', \\'fear\\',\\'surprise\\']]\"}\\n\\n(Implicit context and intensity markers like \"KARA!\" suggest a strong emotional response)',\n",
       " '{\"emotions\": \"[[\\'anger\\',\\'surprise\\'], [\\'anger\\', \\'fear\\',\\'surprise\\']]\"',\n",
       " '{\"emotions\": \"[[\\'anger\\', \\'disgust\\'], [\\'anger\\', \\'fear\\',\\'surprise\\'], [\\'anger\\', \\'fear\\',\\'surprise\\'], [\\'anger\\', \\'fear\\',\\'surprise\\'], [\\'fear\\',\\'surprise\\',\\'sadness\\'], [\\'anger\\', \\'fear\\']]\"',\n",
       " '{\"emotions\": \"[[\\'anger\\', \\'fear\\'], [\\'neutral\\'], [\\'fear\\', \\'joy\\'], [\\'neutral\\'], [\\'anger\\', \\'anger\\']]\"',\n",
       " '{\"emotions\": \"[[\\'anger\\',\\'surprise\\'], [\\'surprise\\', \\'fear\\']]\"}\\n\\n(Note: I have considered the given examples and their respective outputs to classify the provided input utterances.)',\n",
       " '{\"emotions\": \"[[\\'anger\\'], [\\'joy\\',\\'surprise\\'], [\\'anger\\'], [\\'anger\\',\\'sadness\\'], [\\'anger\\'], [\\'anger\\',\\'surprise\\'], [\\'anger\\'], [\\'anger\\']]\"',\n",
       " '{\"emotions\": \"[[\\'joy\\', \\'anger\\'], [\\'anger\\', \\'anger\\'], [\\'surprise\\'], [\\'anger\\'], [\\'joy\\',\\'surprise\\'], [\\'joy\\',\\'surprise\\'], [\\'anger\\'], [\\'joy\\']]\"',\n",
       " '{\"emotions\": \"[[\\'joy\\'], [\\'fear\\',\\'sadness\\'], [\\'fear\\',\\'surprise\\'], [\\'fear\\', \\'anger\\',\\'surprise\\'], [\\'anger\\', \\'fear\\'], [\\'anger\\', \\'fear\\'], [\\'anger\\',\\'surprise\\'], [\\'neutral\\'], [\\'neutral\\',\\'sadness\\'], [\\'sadness\\', \\'joy\\'], [\\'fear\\',\\'surprise\\'], [\\'joy\\',\\'surprise\\'], [\\'fear\\',\\'sadness\\',\\'surprise\\'], [\\'fear\\',\\'sadness\\']]\"}',\n",
       " '{\"emotions\": \"[[\\'sadness\\', \\'anger\\'], [\\'anger\\', \\'joy\\'], [\\'anger\\', \\'joy\\'], [\\'anger\\'], [\\'anger\\', \\'fear\\'], [\\'fear\\', \\'anger\\'], [\\'fear\\'], [\\'fear\\'], [\\'anger\\',\\'surprise\\'], [\\'anger\\', \\'joy\\']]\"',\n",
       " '{\"emotions\": \"[[\\'sadness\\',\\'surprise\\'], [\\'fear\\', \\'anger\\'], [\\'surprise\\', \\'fear\\'], [\\'anger\\',\\'sadness\\']]\"}\\n\\n(Note: The output strictly follows the specified JSON format, with the length of the value exactly matching the number of utterances provided for classification)',\n",
       " '{\"emotions\": \"[[\\'anger\\', \\'fear\\'], [\\'surprise\\', \\'fear\\']]\"}\\n\\n \\n\\nIn the first utterance, \"JOHN! I\\'M TANGLED IN THE ROPES! JOHN--\", we see a mix of emotions. The exclamation and use of the name \"JOHN\" indicate a sense of urgency and possibly fear (\"fear\"). The phrase \"TANGLED IN THE ROPES\" suggests a feeling of being overwhelmed or trapped (\"fear\"). The repeated use of the name \"JOHN\" and the trailing dash may imply a sense of alarm or panic (\"anger\"). \\n\\nIn the second utterance, \"KARA! KARA, WHERE ARE YOU?!\", we see a clear expression of surprise and possibly fear. The repeated use of the name \"KARA\" and the question \"WHERE ARE YOU?!\" convey a sense of urgency and anxiety (\"surprise\", \"fear\").',\n",
       " '{\"emotions\": \"[[\\'fear\\',\\'surprise\\'], [\\'anger\\', \\'fear\\'], [\\'fear\\', \\'anger\\'], [\\'fear\\', \\'anger\\'], [\\'surprise\\'], [\\'fear\\',\\'surprise\\'], [\\'fear\\',\\'surprise\\'], [\\'fear\\',\\'surprise\\'], [\\'fear\\',\\'surprise\\'], [\\'fear\\',\\'surprise\\', \\'anger\\']]\"}',\n",
       " '{\"emotions\": \"[[\\'anger\\'], [\\'neutral\\'], [\\'joy\\']]\"}',\n",
       " '{\"emotions\": \"[[\\'anger\\'], [\\'disgust\\'], [\\'fear\\',\\'sadness\\'], [\\'sadness\\', \\'anger\\'], [\\'fear\\',\\'surprise\\'], [\\'anger\\', \\'fear\\'], [\\'anger\\', \\'disgust\\'], [\\'anger\\', \\'disgust\\']]\"}',\n",
       " '{\"emotions\": \"[[\\'surprise\\'], [\\'joy\\',\\'surprise\\'], [\\'joy\\',\\'surprise\\'], [\\'joy\\',\\'surprise\\'], [\\'neutral\\',\\'surprise\\'], [\\'fear\\', \\'anger\\'], [\\'anger\\', \\'fear\\'], [\\'anger\\', \\'fear\\',\\'sadness\\'], [\\'anger\\', \\'disgust\\', \\'fear\\'], [\\'joy\\',\\'surprise\\'], [\\'fear\\',\\'surprise\\']]\"}',\n",
       " '{\"emotions\": \"[[\\'fear\\',\\'sadness\\'], [\\'anger\\'], [\\'joy\\']]\"}\\n\\n(Note: The emotions are classified based on the given guidelines, considering both explicit emotional words and implicit context.)',\n",
       " '{\"emotions\": \"[[\\'surprise\\', \\'joy\\'], [\\'fear\\',\\'sadness\\',\\'surprise\\'], [\\'joy\\',\\'surprise\\'], [\\'joy\\',\\'surprise\\'], [\\'joy\\',\\'sadness\\'], [\\'sadness\\', \\'fear\\'], [\\'joy\\',\\'sadness\\']]\"',\n",
       " '{\"emotions\": \"[[\\'fear\\',\\'surprise\\'], [\\'joy\\',\\'surprise\\'], [\\'surprise\\'], [\\'anger\\',\\'sadness\\'], [\\'fear\\',\\'surprise\\'], [\\'sadness\\', \\'joy\\'], [\\'surprise\\',\\'sadness\\'], [\\'anger\\',\\'surprise\\'], [\\'sadness\\']]\"}',\n",
       " '{\"emotions\": \"[[\\'sadness\\', \\'joy\\'], [\\'surprise\\', \\'joy\\'], [\\'joy\\'], [\\'anger\\'], [\\'anger\\'], [\\'anger\\', \\'joy\\'], [\\'neutral\\'], [\\'anger\\', \\'joy\\']]\"}\\n\\n(Note: The JSON format must be EXACTLY match the number of utterances, so the length of the value in JSON is 7)',\n",
       " '{\"emotions\": \"[[\\'sadness\\',\\'sadness\\'], [\\'joy\\'], [\\'joy\\'], [\\'joy\\', \\'joy\\']]\"}\\n\\nExplanation:\\n- Utterance 1: \"DR. EGGMAN LOST HIS MEMORIES AFTER ONE OF HIS MOST CRITICAL DEFEATS\" - The tone suggests sadness, specifically due to Dr. Eggman\\'s loss of memories.\\n- Utterance 2: \"HE TOOK ON THE PERSONA OF MR. TINKER, A KINDLY INVENTOR AND REPAIR MAN\" - The tone suggests joy, as Dr. Eggman is now taking on a new persona, which might be seen as a positive development.\\n- Utterance 3: \"SO I TOOK HIM IN AND WENT TO GREAT LENGTHS TO CURE HIM OF THAT STATE OF MIND\" - The tone suggests joy, as the speaker is actively working to help Dr. Eggman.\\n- Utterance 4: \"WITH… SOME ASSISTANCE FROM METAL SONIC…\" - The tone suggests joy, as the speaker is receiving help from Metal Sonic, which might be seen as a positive turn of events.',\n",
       " '{\"emotions\": \"[[\\'anger\\',\\'surprise\\'], [\\'joy\\',\\'surprise\\'], [\\'joy\\',\\'surprise\\'], [\\'anger\\', \\'joy\\'], [\\'anger\\',\\'sadness\\'], [\\'anger\\',\\'sadness\\'], [\\'anger\\',\\'sadness\\']]\"}\\n\\nNote: The analysis considered the explicit emotional words, implicit context, punctuation, capitalization, and intensity markers to classify the emotions.',\n",
       " '{\"emotions\": \"[[\\'joy\\',\\'surprise\\'], [\\'anger\\',\\'surprise\\'], [\\'joy\\',\\'surprise\\'], [\\'joy\\',\\'surprise\\'], [\\'anger\\',\\'sadness\\'], [\\'anger\\',\\'surprise\\'], [\\'sadness\\',\\'surprise\\']]\"',\n",
       " '{\"emotions\": \"[[\\'joy\\'], [\\'joy\\',\\'sadness\\'], [\\'joy\\',\\'sadness\\'], [\\'sadness\\', \\'fear\\']]\"',\n",
       " '{\"emotions\": \"[[\\'sadness\\'], [\\'anger\\'], [\\'fear\\',\\'sadness\\'], [\\'sadness\\', \\'joy\\']]\"}',\n",
       " '{\"emotions\": \"[[\\'joy\\',\\'sadness\\'], [\\'anger\\'], [\\'sadness\\'], [\\'sadness\\', \\'anger\\'], [\\'fear\\', \\'joy\\'], [\\'joy\\',\\'sadness\\'], [\\'joy\\'], [\\'joy\\'], [\\'joy\\']]\"',\n",
       " '{\"emotions\": \"[[\\'sadness\\',\\'surprise\\'], [\\'joy\\'], [\\'joy\\'], [\\'joy\\'], [\\'joy\\'], [\\'joy\\'], [\\'anger\\',\\'sadness\\']]\"',\n",
       " '{\"emotions\": \"[[\\'anger\\', \\'fear\\'], [\\'surprise\\', \\'fear\\'], [\\'surprise\\', \\'joy\\'], [\\'sadness\\',\\'surprise\\'], [\\'sadness\\',\\'surprise\\'], [\\'anger\\',\\'surprise\\'], [\\'anger\\',\\'surprise\\']]\"',\n",
       " '{\"emotions\": \"[[\\'surprise\\'], [\\'joy\\'], [\\'joy\\',\\'surprise\\'], [\\'anger\\',\\'surprise\\'], [\\'sadness\\', \\'anger\\'], [\\'anger\\',\\'surprise\\'], [\\'anger\\'], [\\'anger\\', \\'fear\\'], [\\'anger\\']]\"',\n",
       " '{\"emotions\": \"[[\\'anger\\'], [\\'fear\\',\\'surprise\\'], [\\'fear\\']]\"}',\n",
       " '{\"emotions\": \"[[\\'joy\\', \\'neutral\\'], [\\'joy\\'], [\\'anger\\'], [\\'fear\\',\\'sadness\\'], [\\'sadness\\'], [\\'surprise\\', \\'joy\\'], [\\'fear\\'], [\\'joy\\',\\'sadness\\'], [\\'joy\\',\\'sadness\\']]\"',\n",
       " '{\"emotions\": \"[[\\'joy\\',\\'sadness\\'], [\\'anger\\',\\'sadness\\'], [\\'neutral\\', \\'anger\\',\\'sadness\\'], [\\'fear\\',\\'sadness\\']]\"',\n",
       " '{\"emotions\": \"[[\\'joy\\',\\'surprise\\'], [\\'joy\\',\\'sadness\\'], [\\'joy\\'], [\\'anger\\', \\'joy\\'], [\\'anger\\', \\'joy\\',\\'surprise\\']]\"}\\n\\nNote: The analysis of the input utterances took into account the context, emotional indicators, and intensity markers as per the guidelines provided.',\n",
       " '{\"emotions\": \"[[\\'joy\\',\\'surprise\\'], [\\'neutral\\', \\'fear\\']]\"}\\n\\n \\n\\nExplanation:\\n1. YOU\\'RE NEXT, SUPERSTAR! - The use of \"superstar\" as an insult, combined with the threat of violence, implies a strong negative emotion (\"anger\") but the tone is somewhat playful, so it\\'s also classified as \"joy\".\\n2. You get used to it. - The tone of this statement is somewhat resigned and neutral, but it could also be interpreted as a sign of \"fear\" in the context of the conversation.',\n",
       " '{\"emotions\": \"[[\\'joy\\', \\'neutral\\'], [\\'fear\\'], [\\'neutral\\'], [\\'neutral\\'], [\\'anger\\', \\'disgust\\'], [\\'fear\\',\\'sadness\\'], [\\'fear\\',\\'sadness\\']]\"}\\n\\nNote: I\\'ve analyzed each utterance according to the provided guidelines, considering both explicit emotional words and implicit context.',\n",
       " '{\"emotions\": \"[[\\'disgust\\', \\'anger\\'], [\\'disgust\\', \\'anger\\',\\'sadness\\'], [\\'sadness\\', \\'joy\\'], [\\'sadness\\', \\'joy\\'], [\\'fear\\',\\'sadness\\']]\"',\n",
       " '{\"emotions\": \"[[\\'fear\\',\\'surprise\\'], [\\'anger\\', \\'fear\\'], [\\'joy\\',\\'surprise\\'], [\\'surprise\\'], [\\'joy\\',\\'surprise\\'], [\\'fear\\',\\'sadness\\']]\"',\n",
       " '{\"emotions\": \"[[\\'surprise\\', \\'joy\\'], [\\'anger\\', \\'fear\\']]\"}\\n\\nNote: I\\'ve assumed that the dialogue is spoken by different characters, and the emotions are based on the context. However, since the actual context is not provided, I\\'ve made a general interpretation based on the words used.',\n",
       " '{\"emotions\": \"[[\\'joy\\'], [\\'anger\\', \\'fear\\']]\"}\\n\\nExplanation:\\n1. \"IT\\'S YOUR LUCKY DAY\" is an expression of joy due to the positive tone and use of the word \"lucky\".\\n2. \"ALMOST\" is a neutral statement, but the context suggests a negative outcome (\"almost\" implies a missed opportunity), so I\\'ve classified it as a mix of anger (at the missed chance) and fear (of an uncertain outcome).',\n",
       " '{\"emotions\": \"[[\\'anger\\', \\'disgust\\'], [\\'anger\\',\\'sadness\\'], [\\'anger\\', \\'fear\\'], [\\'neutral\\'], [\\'neutral\\'], [\\'neutral\\'], [\\'neutral\\'], [\\'neutral\\']]\"}\\n\\nExplanation:\\n\\n1. \"CAN YOU BEHAVE, WINTERS?\" - The tone is authoritative and commanding, indicating anger and a desire for control.\\n2. \"#HM HM\" - The use of hashtags and the phrase itself suggest a playful or mocking tone, leaning towards sadness and anger.\\n3. \"DON\\'T TRY ANYTHING FUNNY\" - The warning and the tone imply a sense of fear and anger.\\n4. \"THE PRISON RIOT IS STILL WELL UNDERWAY, AND IT\\'LL BE SOME TIME BEFORE THEY EVEN KNOW YOU\\'RE GONE\" - The statement is neutral, providing information without expressing emotion.\\n5. \"YOUR VOICE… SAME BROAD FROM THE PRISON?\" - The question is neutral, inquiring about a fact without expressing emotion.\\n6. \"MY NAME IS ANDERSON LAKE\" - The statement is neutral, providing information without expressing emotion.\\n7. \"ANDERSON, HUNH? ANY OF YOUR FRIENDS EVER CALL YOU ANDY?\" - The question is neutral, inquiring about a fact without expressing emotion.',\n",
       " '{\"emotions\": \"[[\\'sadness\\'], [\\'fear\\'], [\\'fear\\',\\'surprise\\'], [\\'surprise\\'], [\\'surprise\\', \\'joy\\'], [\\'sadness\\'], [\\'sadness\\', \\'fear\\']]\"}\\n\\nNote: The classification is based on the provided examples and the input guidelines. The analysis considers both explicit emotional words and implicit context, including punctuation and capitalization as emotional indicators.',\n",
       " '{\"emotions\": \"[[\\'anger\\'], [\\'anger\\', \\'fear\\']]\"}\\n\\nor',\n",
       " '{\"emotions\": \"[[\\'anger\\'], [\\'surprise\\'], [\\'anger\\'], [\\'anger\\'], [\\'fear\\'], [\\'anger\\'], [\\'anger\\'], [\\'anger\\']]\"}',\n",
       " '{\"emotions\": \"[[\\'anger\\',\\'sadness\\'], [\\'fear\\',\\'sadness\\'], [\\'fear\\',\\'sadness\\'], [\\'fear\\',\\'sadness\\'], [\\'neutral\\'], [\\'neutral\\'], [\\'sadness\\',\\'surprise\\'], [\\'fear\\',\\'sadness\\'], [\\'anger\\',\\'sadness\\']]\"}',\n",
       " '{\"emotions\": \"[[\\'joy\\'], [\\'anger\\',\\'surprise\\'], [\\'surprise\\'], [\\'anger\\'], [\\'anger\\',\\'surprise\\'], [\\'anger\\',\\'surprise\\'], [\\'anger\\',\\'surprise\\'], [\\'anger\\',\\'surprise\\'], [\\'anger\\',\\'sadness\\'], [\\'anger\\',\\'sadness\\'], [\\'anger\\', \\'fear\\'], [\\'anger\\',\\'surprise\\']]\"',\n",
       " '{\"emotions\": \"[[\\'sadness\\'], [\\'sadness\\', \\'anger\\'], [\\'joy\\',\\'surprise\\'], [\\'fear\\',\\'sadness\\'], [\\'fear\\'], [\\'neutral\\'], [\\'anger\\'], [\\'anger\\'], [\\'neutral\\'], [\\'surprise\\']]\"',\n",
       " '{\"emotions\": \"[[\\'anger\\',\\'surprise\\'], [\\'anger\\', \\'fear\\'], [\\'fear\\',\\'surprise\\', \\'joy\\'], [\\'anger\\',\\'sadness\\', \\'fear\\'], [\\'anger\\', \\'fear\\'], [\\'anger\\', \\'fear\\'], [\\'anger\\', \\'fear\\'], [\\'anger\\',\\'sadness\\'], [\\'anger\\', \\'disgust\\']]\"',\n",
       " '{\"emotions\": \"[[\\'anger\\',\\'surprise\\'], [\\'anger\\', \\'fear\\'], [\\'anger\\'], [\\'joy\\'], [\\'joy\\'], [\\'joy\\'], [\\'joy\\'], [\\'anger\\',\\'surprise\\'], [\\'anger\\'], [\\'anger\\', \\'disgust\\'], [\\'anger\\', \\'fear\\',\\'surprise\\'], [\\'anger\\', \\'fear\\',\\'surprise\\'], [\\'anger\\', \\'disgust\\'], [\\'anger\\', \\'disgust\\'], [\\'anger\\', \\'disgust\\']]\"}\\n\\nNote: Emotions were classified based on the context and tone of each utterance.',\n",
       " '{\"emotions\": \"[[\\'neutral\\'], [\\'anger\\'], [\\'anger\\'], [\\'anger\\', \\'disgust\\'], [\\'anger\\',\\'sadness\\'], [\\'neutral\\'], [\\'neutral\\'], [\\'neutral\\'], [\\'anger\\'], [\\'fear\\'], [\\'anger\\'], [\\'anger\\', \\'fear\\'], [\\'neutral\\']]\"}',\n",
       " '{\"emotions\": \"[[\\'sadness\\', \\'joy\\'], [\\'fear\\',\\'surprise\\'], [\\'fear\\',\\'surprise\\'], [\\'anger\\',\\'surprise\\'], [\\'fear\\',\\'surprise\\'], [\\'fear\\',\\'surprise\\'], [\\'anger\\', \\'fear\\'], [\\'fear\\',\\'sadness\\'], [\\'fear\\',\\'surprise\\']]\"',\n",
       " '{\"emotions\": \"[[\\'anger\\'], [\\'surprise\\'], [\\'surprise\\'], [\\'anger\\'], [\\'joy\\'], [\\'joy\\'], [\\'neutral\\'], [\\'anger\\'], [\\'anger\\'], [\\'anger\\'], [\\'surprise\\'], [\\'anger\\'], [\\'anger\\'], [\\'anger\\'], [\\'anger\\', \\'joy\\'], [\\'surprise\\']]\"',\n",
       " '{\"emotions\": \"[[\\'anger\\', \\'fear\\'], [\\'anger\\', \\'disgust\\'], [\\'neutral\\'], [\\'neutral\\'], [\\'joy\\',\\'surprise\\'], [\\'neutral\\'], [\\'fear\\',\\'surprise\\'], [\\'fear\\',\\'surprise\\'], [\\'joy\\',\\'surprise\\'], [\\'joy\\',\\'surprise\\']]\"}\\n\\nNote: The JSON format is strictly followed, with the length of the value exactly matching the number of utterances.',\n",
       " '{\"emotions\": \"[[\\'joy\\',\\'surprise\\']]\"}\\n\\nNote: The utterance expresses a mix of emotions, but primarily \\'joy\\' and\\'surprise\\', which are more intense than \\'neutral\\'.',\n",
       " '{\"emotions\": \"[[\\'surprise\\', \\'joy\\'], [\\'anger\\', \\'fear\\']]\"}\\n\\n \\n\\nExplanation:\\n\\n1. YEAH, YEAH, REAL SPOOKY… \\n   - The use of \"YEAH\" and \"REAL SPOOKY\" indicates a playful tone, suggesting the speaker is being facetious. This is consistent with the primary emotion \"joy\".\\n   - The phrase \"REAL SPOOKY\" is an exaggeration, implying that the speaker is trying to be humorous. This is also consistent with the primary emotion \"joy\".\\n   - However, the tone is also somewhat sarcastic, which can be associated with \"surprise\" as the speaker seems to be mocking something.\\n   - So, the primary emotions are \"surprise\" and \"joy\".\\n\\n2. C\\'MON, HUSTLE. DAYLIGHT\\'S BURNING, PEOPLE.\\n   - The phrase \"C\\'MON, HUSTLE\" is an imperative, indicating a sense of urgency. This can be associated with the primary emotion \"anger\".\\n   - The phrase \"DAYLIGHT\\'S BURNING, PEOPLE\" suggests that time is running out, which can be associated with the primary emotion \"fear\".',\n",
       " '{\"emotions\": \"[[\\'anger\\', \\'joy\\'], [\\'neutral\\'], [\\'sadness\\'], [\\'anger\\'], [\\'fear\\',\\'surprise\\'], [\\'anger\\',\\'sadness\\'], [\\'anger\\',\\'sadness\\'], [\\'anger\\', \\'joy\\'], [\\'fear\\',\\'surprise\\']]\"',\n",
       " '{\"emotions\": \"[[\\'joy\\'], [\\'surprise\\'], [\\'anger\\',\\'surprise\\'], [\\'anger\\', \\'disgust\\'], [\\'anger\\'], [\\'surprise\\', \\'joy\\'], [\\'neutral\\', \\'joy\\'], [\\'fear\\',\\'sadness\\']]\"',\n",
       " '{\"emotions\": \"[[\\'neutral\\'], [\\'fear\\'], [\\'fear\\', \\'neutral\\']]\"}\\n\\n(Note: In the given context, the speaker\\'s tone seems to be inquiring about a situation, then dismissing it with a negative response, and finally expressing some level of concern or wariness about the current state.)',\n",
       " '{\"emotions\": \"[[\\'fear\\'], [\\'joy\\',\\'surprise\\'], [\\'joy\\',\\'surprise\\'], [\\'joy\\',\\'surprise\\'], [\\'fear\\',\\'surprise\\'], [\\'neutral\\']]\"}',\n",
       " '{\"emotions\": \"[[\\'anger\\'], [\\'anger\\', \\'fear\\'], [\\'sadness\\', \\'anger\\'], [\\'sadness\\', \\'joy\\']]\"',\n",
       " '{\"emotions\": \"[[\\'sadness\\']]\"}\\n\\n(Note: The input sentence \"WELL, THAT\\'S GRIM\" expresses a negative sentiment, which is typically associated with the emotion of sadness.)',\n",
       " '{\"emotions\": \"[[\\'fear\\',\\'surprise\\'], [\\'neutral\\', \\'fear\\'], [\\'fear\\', \\'neutral\\'], [\\'neutral\\', \\'fear\\'], [\\'fear\\',\\'surprise\\'], [\\'neutral\\', \\'fear\\'], [\\'neutral\\', \\'fear\\'], [\\'anger\\'], [\\'fear\\',\\'surprise\\'], [\\'fear\\']]\"',\n",
       " '{\"emotions\": \"[[\\'fear\\',\\'surprise\\'], [\\'anger\\',\\'surprise\\'], [\\'fear\\',\\'surprise\\'], [\\'fear\\',\\'surprise\\', \\'joy\\'], [\\'fear\\',\\'surprise\\'], [\\'fear\\',\\'sadness\\',\\'surprise\\'], [\\'fear\\',\\'sadness\\',\\'surprise\\'], [\\'fear\\',\\'sadness\\',\\'surprise\\'], [\\'fear\\',\\'sadness\\',\\'surprise\\']]\"',\n",
       " '{\"emotions\": \"[[\\'joy\\',\\'surprise\\'], [\\'anger\\', \\'disgust\\'], [\\'curiosity\\'], [\\'joy\\', \\'optimism\\'], [\\'anger\\',\\'sadness\\'], [\\'joy\\'], [\\'joy\\'], [\\'joy\\'], [\\'joy\\'], [\\'joy\\'], [\\'anger\\',\\'surprise\\'], [\\'neutral\\'], [\\'anger\\', \\'disgust\\']]\"}\\n\\nNote: I\\'ve used the provided examples to classify the emotions in the given input.',\n",
       " '{\"emotions\": \"[[\\'joy\\'], [\\'surprise\\', \\'fear\\', \\'anger\\'], [\\'surprise\\', \\'joy\\']]\"',\n",
       " '{\"emotions\": \"[[\\'surprise\\', \\'curiosity\\'], [\\'surprise\\', \\'fear\\'], [\\'surprise\\'], [\\'neutral\\'], [\\'curiosity\\'], [\\'fear\\', \\'disgust\\'], [\\'anger\\', \\'fear\\']]\"',\n",
       " '{\"emotions\": \"[[\\'neutral\\'], [\\'surprise\\', \\'disgust\\']]\"}',\n",
       " '{\"emotions\": \"[[\\'anger\\', \\'fear\\'], [\\'fear\\',\\'sadness\\',\\'surprise\\'], [\\'sadness\\',\\'surprise\\'], [\\'surprise\\', \\'anger\\'], [\\'fear\\',\\'surprise\\'], [\\'fear\\',\\'sadness\\'], [\\'fear\\',\\'sadness\\',\\'surprise\\'], [\\'fear\\',\\'surprise\\'], [\\'fear\\', \\'anger\\',\\'surprise\\'], [\\'anger\\', \\'fear\\',\\'surprise\\'], [\\'anger\\', \\'fear\\']]\"}',\n",
       " '{\"emotions\": \"[[\\'fear\\',\\'surprise\\'], [\\'fear\\', \\'joy\\'], [\\'fear\\',\\'surprise\\'], [\\'fear\\', \\'disgust\\'], [\\'fear\\', \\'anger\\',\\'surprise\\'], [\\'fear\\',\\'sadness\\'], [\\'fear\\',\\'sadness\\'], [\\'fear\\',\\'sadness\\']]\"}',\n",
       " '{\"emotions\": \"[[\\'fear\\'], [\\'fear\\',\\'sadness\\'], [\\'fear\\', \\'anger\\'], [\\'surprise\\', \\'fear\\'], [\\'surprise\\', \\'anger\\'], [\\'anger\\',\\'surprise\\']]\"',\n",
       " '{\"emotions\": \"[[\\'fear\\',\\'surprise\\'], [\\'fear\\', \\'joy\\'], [\\'anger\\',\\'sadness\\'], [\\'fear\\',\\'sadness\\',\\'surprise\\'], [\\'fear\\',\\'sadness\\']]\"',\n",
       " '{\"emotions\": \"[[\\'sadness\\'], [\\'anger\\',\\'surprise\\'], [\\'anger\\'], [\\'fear\\',\\'surprise\\'], [\\'anger\\',\\'surprise\\'], [\\'anger\\', \\'fear\\'], [\\'anger\\', \\'fear\\',\\'sadness\\'], [\\'fear\\',\\'sadness\\']]\"',\n",
       " '{\"emotions\": \"[[\\'fear\\',\\'sadness\\'], [\\'anger\\', \\'fear\\',\\'sadness\\'], [\\'anger\\', \\'fear\\', \\'disgust\\'], [\\'fear\\', \\'anger\\', \\'disgust\\'], [\\'anger\\', \\'disgust\\'], [\\'anger\\', \\'disgust\\'], [\\'anger\\',\\'sadness\\']]\"}',\n",
       " '{\"emotions\": \"[[\\'sadness\\', \\'anger\\'], [\\'anger\\', \\'disgust\\'], [\\'anger\\',\\'sadness\\'], [\\'sadness\\', \\'fear\\'], [\\'fear\\',\\'sadness\\']]\"}\\n\\nNote: I analyzed the input utterances based on the provided examples and applied the guidelines for emotion classification.',\n",
       " '{\"emotions\": \"[[\\'anger\\', \\'joy\\'], [\\'sadness\\', \\'fear\\'], [\\'fear\\',\\'sadness\\'], [\\'anger\\', \\'fear\\'], [\\'anger\\', \\'joy\\'], [\\'anger\\',\\'surprise\\']]\"',\n",
       " '{\"emotions\": \"[[\\'joy\\',\\'surprise\\']]\"}\\n\\nNote: The primary emotion expressed is joy, as the speaker is inviting an activity. Surprise is also present due to the exclamation mark and the implicit excitement of the question.',\n",
       " '{\"emotions\": \"[[\\'anger\\', \\'fear\\'], [\\'anger\\', \\'fear\\'], [\\'anger\\', \\'fear\\',\\'surprise\\'], [\\'fear\\',\\'surprise\\'], [\\'anger\\', \\'fear\\'], [\\'anger\\', \\'fear\\']]\"',\n",
       " '{\"emotions\": \"[[\\'anger\\']]\"}',\n",
       " '{\"emotions\": \"[[\\'sadness\\', \\'neutral\\'], [\\'neutral\\'], [\\'sadness\\', \\'joy\\',\\'surprise\\']]\"}\\n\\nExplanation:\\n1. The first utterance expresses sadness due to the death of the boys\\' parents and neutral as it\\'s a factual statement.\\n2. The second utterance is neutral as it\\'s a filler word.\\n3. The third utterance expresses sadness due to the loss of their parents, joy due to the adoption by Andrea and Dale, and surprise as it\\'s an unexpected turn of events.',\n",
       " '{\"emotions\": \"[[\\'sadness\\', \\'fear\\'], [\\'fear\\',\\'sadness\\'], [\\'anger\\',\\'sadness\\'], [\\'anger\\', \\'fear\\'], [\\'fear\\',\\'sadness\\'], [\\'anger\\', \\'fear\\'], [\\'fear\\',\\'sadness\\'], [\\'anger\\', \\'fear\\'], [\\'anger\\', \\'fear\\'], [\\'anger\\', \\'fear\\'], [\\'anger\\', \\'fear\\'], [\\'fear\\',\\'sadness\\'], [\\'anger\\', \\'fear\\']]\"}',\n",
       " '{\"emotions\": \"[[\\'anger\\',\\'sadness\\'], [\\'sadness\\', \\'fear\\'], [\\'sadness\\', \\'fear\\'], [\\'sadness\\', \\'fear\\'], [\\'sadness\\', \\'fear\\'], [\\'sadness\\', \\'fear\\', \\'joy\\'], [\\'sadness\\', \\'fear\\', \\'joy\\'], [\\'sadness\\', \\'fear\\', \\'joy\\'], [\\'sadness\\', \\'fear\\', \\'joy\\']]\"}',\n",
       " '{\"emotions\": \"[[\\'sadness\\', \\'fear\\'], [\\'neutral\\'], [\\'fear\\'], [\\'fear\\',\\'sadness\\'], [\\'fear\\', \\'anger\\',\\'surprise\\'], [\\'fear\\',\\'sadness\\'], [\\'anger\\', \\'fear\\',\\'surprise\\'], [\\'sadness\\', \\'fear\\'], [\\'fear\\',\\'sadness\\']]\"',\n",
       " '{\"emotions\": \"[[\\'sadness\\', \\'fear\\'], [\\'sadness\\', \\'fear\\'], [\\'anger\\', \\'fear\\',\\'sadness\\'], [\\'anger\\',\\'sadness\\'], [\\'anger\\', \\'fear\\',\\'sadness\\'], [\\'anger\\', \\'fear\\',\\'sadness\\'], [\\'anger\\',\\'sadness\\', \\'fear\\'], [\\'anger\\',\\'sadness\\', \\'fear\\'], [\\'anger\\',\\'sadness\\'], [\\'anger\\', \\'fear\\',\\'sadness\\'], [\\'anger\\', \\'fear\\',\\'sadness\\']]\"}\\n\\nNote: The classification is based on the given examples and the analysis principles.',\n",
       " '{\"emotions\": \"[[\\'joy\\'], [\\'sadness\\'], [\\'sadness\\', \\'fear\\'], [\\'anger\\', \\'fear\\'], [\\'anger\\'], [\\'fear\\',\\'surprise\\'], [\\'anger\\', \\'fear\\'], [\\'anger\\', \\'fear\\'], [\\'anger\\',\\'surprise\\'], [\\'anger\\'], [\\'anger\\'], [\\'fear\\',\\'surprise\\'], [\\'fear\\',\\'surprise\\']]\"',\n",
       " '{\"emotions\": \"[[\\'anger\\',\\'sadness\\'], [\\'sadness\\', \\'fear\\'], [\\'anger\\', \\'fear\\'], [\\'anger\\',\\'sadness\\'], [\\'sadness\\'], [\\'sadness\\'], [\\'sadness\\'], [\\'fear\\',\\'sadness\\'], [\\'sadness\\', \\'fear\\'], [\\'sadness\\', \\'fear\\'], [\\'anger\\',\\'sadness\\'], [\\'anger\\',\\'sadness\\'], [\\'anger\\',\\'sadness\\'], [\\'anger\\',\\'sadness\\'], [\\'anger\\',\\'sadness\\'], [\\'sadness\\', \\'fear\\'], [\\'sadness\\', \\'fear\\'], [\\'anger\\',\\'sadness\\']]\"}',\n",
       " '{\"emotions\": \"[[\\'anger\\', \\'fear\\'], [\\'fear\\',\\'sadness\\'], [\\'fear\\',\\'sadness\\'], [\\'surprise\\'], [\\'fear\\'], [\\'sadness\\'], [\\'surprise\\'], [\\'anger\\', \\'fear\\'], [\\'fear\\',\\'sadness\\'], [\\'fear\\',\\'sadness\\'], [\\'fear\\',\\'sadness\\'], [\\'anger\\', \\'fear\\'], [\\'fear\\',\\'surprise\\'], [\\'fear\\',\\'surprise\\'], [\\'sadness\\'], [\\'fear\\',\\'sadness\\'], [\\'fear\\',\\'sadness\\'], [\\'fear\\',\\'sadness\\']]\"}',\n",
       " '{\"emotions\": \"[[\\'surprise\\', \\'joy\\'], [\\'sadness\\', \\'joy\\'], [\\'joy\\', \\'anger\\'], [\\'joy\\', \\'fear\\'], [\\'joy\\', \\'fear\\'], [\\'fear\\',\\'sadness\\'], [\\'fear\\',\\'sadness\\'], [\\'fear\\',\\'sadness\\'], [\\'anger\\',\\'sadness\\'], [\\'sadness\\'], [\\'sadness\\'], [\\'anger\\',\\'sadness\\'], [\\'fear\\',\\'sadness\\']]\"}\\n\\nNote: The output is a JSON object with the emotions classified for each utterance. The length of the value in JSON exactly matches the number of utterances.',\n",
       " '{\"emotions\": \"[[\\'anger\\', \\'fear\\'], [\\'fear\\',\\'sadness\\'], [\\'anger\\', \\'fear\\',\\'sadness\\'], [\\'anger\\',\\'sadness\\'], [\\'anger\\', \\'fear\\'], [\\'anger\\',\\'sadness\\'], [\\'fear\\',\\'sadness\\'], [\\'fear\\',\\'sadness\\'], [\\'sadness\\',\\'surprise\\'], [\\'fear\\',\\'sadness\\'], [\\'fear\\',\\'sadness\\']]\"',\n",
       " '{\"emotions\": \"[[\\'surprise\\'], [\\'anger\\',\\'sadness\\'], [\\'fear\\',\\'sadness\\'], [\\'fear\\',\\'sadness\\'], [\\'fear\\',\\'sadness\\'], [\\'anger\\', \\'fear\\'], [\\'anger\\',\\'sadness\\'], [\\'anger\\',\\'sadness\\'], [\\'fear\\',\\'sadness\\'], [\\'surprise\\'], [\\'sadness\\', \\'joy\\'], [\\'sadness\\', \\'joy\\'], [\\'surprise\\'], [\\'joy\\',\\'sadness\\']]\"}',\n",
       " '{\"emotions\": \"[[\\'anger\\',\\'sadness\\'], [\\'sadness\\', \\'fear\\'], [\\'anger\\'], [\\'anger\\', \\'fear\\'], [\\'anger\\', \\'fear\\'], [\\'anger\\',\\'sadness\\'], [\\'anger\\', \\'fear\\'], [\\'anger\\',\\'sadness\\'], [\\'anger\\',\\'sadness\\'], [\\'anger\\',\\'surprise\\']]\"',\n",
       " '{\"emotions\": \"[[\\'anger\\',\\'surprise\\'], [\\'anger\\', \\'curiosity\\'], [\\'sadness\\', \\'fear\\'], [\\'anger\\',\\'sadness\\'], [\\'anger\\', \\'fear\\'], [\\'anger\\',\\'surprise\\'], [\\'anger\\', \\'fear\\'], [\\'anger\\',\\'surprise\\'], [\\'anger\\',\\'surprise\\'], [\\'anger\\', \\'fear\\'], [\\'anger\\', \\'curiosity\\'], [\\'anger\\',\\'surprise\\']]\"}\\n\\n(Note: I have considered the context and the emotions expressed in each utterance to arrive at the output. I have also considered the intensity markers and the sequential context from the surrounding utterances to classify the emotions accurately.)',\n",
       " '{\"emotions\": \"[[\\'anger\\', \\'fear\\'], [\\'anger\\', \\'fear\\'], [\\'anger\\', \\'fear\\'], [\\'anger\\', \\'fear\\'], [\\'anger\\', \\'fear\\'], [\\'anger\\', \\'fear\\'], [\\'anger\\', \\'fear\\'], [\\'anger\\', \\'fear\\'], [\\'anger\\', \\'fear\\'], [\\'anger\\', \\'fear\\'], [\\'anger\\',\\'surprise\\'], [\\'anger\\', \\'fear\\']]\"}',\n",
       " '{\"emotions\": \"[[\\'anger\\', \\'fear\\'], [\\'anger\\', \\'fear\\'], [\\'anger\\', \\'fear\\'], [\\'anger\\', \\'fear\\'], [\\'anger\\', \\'fear\\'], [\\'anger\\', \\'fear\\']]\"',\n",
       " '{\"emotions\": \"[[\\'surprise\\', \\'joy\\'], [\\'anger\\'], [\\'fear\\',\\'surprise\\'], [\\'fear\\',\\'sadness\\'], [\\'anger\\'], [\\'anger\\'], [\\'fear\\',\\'surprise\\'], [\\'fear\\'], [\\'fear\\', \\'anger\\'], [\\'anger\\'], [\\'fear\\',\\'sadness\\']]\"',\n",
       " '{\"emotions\": \"[[\\'joy\\',\\'sadness\\'], [\\'sadness\\'], [\\'sadness\\', \\'curiosity\\'], [\\'anger\\',\\'sadness\\'], [\\'sadness\\', \\'joy\\'], [\\'sadness\\', \\'joy\\'], [\\'sadness\\', \\'joy\\']]\"',\n",
       " '{\"emotions\": \"[[\\'sadness\\', \\'joy\\', \\'fear\\'], [\\'fear\\',\\'sadness\\', \\'joy\\'], [\\'sadness\\'], [\\'sadness\\'], [\\'sadness\\',\\'surprise\\'], [\\'sadness\\',\\'surprise\\'], [\\'sadness\\',\\'surprise\\'], [\\'anger\\',\\'sadness\\'], [\\'sadness\\', \\'joy\\']]\"',\n",
       " '{\"emotions\": \"[[\\'anger\\', \\'disgust\\'], [\\'anger\\', \\'disgust\\', \\'fear\\'], [\\'joy\\',\\'sadness\\'], [\\'anger\\',\\'sadness\\'], [\\'anger\\',\\'sadness\\'], [\\'sadness\\'], [\\'sadness\\'], [\\'sadness\\'], [\\'sadness\\'], [\\'anger\\']]\"',\n",
       " '{\"emotions\": \"[[\\'joy\\'], [\\'fear\\',\\'sadness\\'], [\\'anger\\'], [\\'fear\\',\\'sadness\\'], [\\'fear\\',\\'surprise\\'], [\\'fear\\',\\'sadness\\'], [\\'fear\\', \\'joy\\'], [\\'neutral\\']]\"',\n",
       " '{\"emotions\": \"[[\\'joy\\'], [\\'fear\\', \\'anger\\'], [\\'surprise\\', \\'fear\\'], [\\'fear\\',\\'surprise\\'], [\\'fear\\',\\'sadness\\'], [\\'fear\\',\\'sadness\\'], [\\'fear\\',\\'sadness\\'], [\\'fear\\',\\'sadness\\'], [\\'fear\\',\\'surprise\\']]\"',\n",
       " '{\"emotions\": \"[[\\'neutral\\'], [\\'anger\\', \\'joy\\'], [\\'anger\\', \\'fear\\']]\"}',\n",
       " '{\"emotions\": \"[[\\'fear\\',\\'surprise\\'], [\\'joy\\',\\'surprise\\']]\"}\\n\\nExplanation: \\n\\n1. \"WE HAVE A SITUATION AT THE EDGE, AT --AT THE PYRE…\" - This line expresses fear due to the uncertainty and danger implied by the term \"situation\" and the mention of a pyre, which often signifies intense heat or flames. The use of \"at\" twice may also contribute to surprise.\\n2. \"DANIEL ISN\\'T DYING.\" - This line primarily expresses joy due to the positive outcome of Daniel not dying.',\n",
       " '{\"emotions\": \"[[\\'anger\\', \\'fear\\'], [\\'sadness\\',\\'surprise\\'], [\\'sadness\\',\\'surprise\\'], [\\'fear\\',\\'sadness\\'], [\\'anger\\', \\'fear\\'], [\\'fear\\',\\'sadness\\']]\"',\n",
       " '{\"emotions\": \"[[\\'anger\\', \\'fear\\'], [\\'anger\\', \\'fear\\'], [\\'fear\\',\\'surprise\\'], [\\'fear\\', \\'joy\\'], [\\'anger\\'], [\\'anger\\', \\'fear\\',\\'surprise\\']]\"',\n",
       " '{\"emotions\": \"[[\\'fear\\',\\'surprise\\'], [\\'joy\\',\\'surprise\\'], [\\'anger\\'], [\\'anger\\',\\'sadness\\'], [\\'fear\\'], [\\'anger\\']]\"',\n",
       " '{\"emotions\": \"[[\\'surprise\\'], [\\'anger\\'], [\\'anger\\', \\'disgust\\'], [\\'anger\\', \\'disgust\\'], [\\'anger\\', \\'fear\\'], [\\'anger\\']]\"',\n",
       " '{\"emotions\": \"[[\\'anger\\'], [\\'surprise\\'], [\\'fear\\'], [\\'anger\\', \\'fear\\'], [\\'fear\\',\\'surprise\\'], [\\'fear\\', \\'joy\\']]\"',\n",
       " '{\"emotions\": \"[[\\'fear\\'], [\\'anger\\',\\'surprise\\'], [\\'anger\\', \\'fear\\'], [\\'anger\\'], [\\'anger\\',\\'surprise\\']]\"',\n",
       " '{\"emotions\": \"[[\\'fear\\',\\'sadness\\'], [\\'fear\\',\\'sadness\\'], [\\'fear\\',\\'surprise\\'], [\\'fear\\',\\'surprise\\'], [\\'fear\\', \\'anger\\'], [\\'anger\\']]\"',\n",
       " '{\"emotions\": \"[[\\'anger\\', \\'disgust\\'], [\\'anger\\', \\'fear\\'], [\\'surprise\\'], [\\'fear\\',\\'surprise\\']]\"}',\n",
       " '{\"emotions\": \"[[\\'neutral\\'], [\\'anger\\'], [\\'fear\\',\\'surprise\\'], [\\'fear\\',\\'surprise\\'], [\\'sadness\\',\\'surprise\\'], [\\'fear\\',\\'surprise\\'], [\\'fear\\',\\'surprise\\'], [\\'anger\\'], [\\'anger\\'], [\\'anger\\',\\'surprise\\'], [\\'anger\\',\\'surprise\\'], [\\'anger\\',\\'surprise\\'], [\\'anger\\',\\'surprise\\']]\"',\n",
       " '{\"emotions\": \"[[\\'joy\\',\\'surprise\\'], [\\'joy\\',\\'surprise\\'], [\\'neutral\\',\\'surprise\\'], [\\'neutral\\', \\'curiosity\\'], [\\'neutral\\', \\'curiosity\\'], [\\'fear\\',\\'surprise\\'], [\\'anger\\'], [\\'anger\\', \\'fear\\'], [\\'neutral\\', \\'joy\\']]\"',\n",
       " '{\"emotions\": \"[[\\'fear\\'], [\\'anger\\'], [\\'anger\\', \\'disgust\\'], [\\'anger\\',\\'sadness\\'], [\\'anger\\', \\'joy\\'], [\\'anger\\', \\'disgust\\']]\"',\n",
       " '{\"emotions\": \"[[\\'anger\\'], [\\'surprise\\'], [\\'fear\\',\\'surprise\\'], [\\'anger\\', \\'fear\\'], [\\'surprise\\', \\'joy\\'], [\\'sadness\\'], [\\'anger\\', \\'disgust\\', \\'fear\\'], [\\'anger\\', \\'disgust\\', \\'fear\\',\\'surprise\\'], [\\'anger\\', \\'fear\\'], [\\'anger\\', \\'disgust\\', \\'fear\\',\\'surprise\\'], [\\'anger\\', \\'disgust\\', \\'fear\\'], [\\'anger\\', \\'disgust\\', \\'fear\\'], [\\'anger\\',\\'surprise\\'], [\\'anger\\',\\'surprise\\'], [\\'anger\\', \\'joy\\'], [\\'anger\\', \\'joy\\']]\"',\n",
       " '{\"emotions\": \"[[\\'anger\\', \\'fear\\'], [\\'anger\\'], [\\'anger\\', \\'fear\\',\\'surprise\\'], [\\'anger\\', \\'fear\\'], [\\'joy\\'], [\\'fear\\',\\'surprise\\'], [\\'fear\\',\\'surprise\\'], [\\'fear\\', \\'joy\\'], [\\'fear\\', \\'joy\\'], [\\'fear\\',\\'surprise\\', \\'joy\\']]\"',\n",
       " '{\"emotions\": \"[[\\'joy\\'], [\\'neutral\\'], [\\'fear\\',\\'surprise\\'], [\\'curiosity\\'], [\\'fear\\'], [\\'joy\\'], [\\'joy\\',\\'surprise\\'], [\\'anger\\', \\'fear\\'], [\\'anger\\'], [\\'anger\\',\\'surprise\\']]\"',\n",
       " '{\"emotions\": \"[[\\'fear\\',\\'sadness\\'], [\\'surprise\\'], [\\'surprise\\', \\'fear\\'], [\\'surprise\\', \\'joy\\'], [\\'fear\\'], [\\'fear\\'], [\\'fear\\',\\'surprise\\'], [\\'anger\\', \\'fear\\'], [\\'anger\\',\\'sadness\\'], [\\'anger\\'], [\\'anger\\',\\'sadness\\'], [\\'anger\\',\\'sadness\\'], [\\'sadness\\', \\'joy\\'], [\\'surprise\\', \\'joy\\'], [\\'joy\\',\\'sadness\\']]\"',\n",
       " '{\"emotions\": \"[[\\'anger\\', \\'fear\\'], [\\'anger\\'], [\\'anger\\'], [\\'anger\\'], [\\'anger\\'], [\\'anger\\'], [\\'anger\\'], [\\'anger\\']]\"',\n",
       " '{\"emotions\": \"[[\\'anger\\'], [\\'neutral\\', \\'fear\\'], [\\'surprise\\'], [\\'neutral\\'], [\\'neutral\\'], [\\'surprise\\'], [\\'fear\\', \\'anger\\'], [\\'anger\\'], [\\'anger\\', \\'fear\\'], [\\'anger\\', \\'fear\\'], [\\'anger\\',\\'sadness\\']]\"',\n",
       " '{\"emotions\": \"[[\\'anger\\', \\'disgust\\'], [\\'neutral\\'], [\\'anger\\', \\'disgust\\'], [\\'anger\\'], [\\'anger\\',\\'surprise\\'], [\\'anger\\',\\'sadness\\'], [\\'surprise\\', \\'anger\\'], [\\'anger\\'], [\\'anger\\'], [\\'joy\\'], [\\'joy\\'], [\\'anger\\', \\'joy\\']]\"',\n",
       " '{\"emotions\": \"[[\\'neutral\\']]\"}']"
      ]
     },
     "execution_count": 158,
     "metadata": {},
     "output_type": "execute_result"
    }
   ],
   "source": [
    "generated_outputs"
   ]
  },
  {
   "cell_type": "code",
   "execution_count": 65,
   "metadata": {},
   "outputs": [],
   "source": [
    "#generated_outputs = [x.split(\"\\n\\n\")[0] for x in generated_outputs]"
   ]
  },
  {
   "cell_type": "code",
   "execution_count": 159,
   "metadata": {},
   "outputs": [
    {
     "data": {
      "text/plain": [
       "156"
      ]
     },
     "execution_count": 159,
     "metadata": {},
     "output_type": "execute_result"
    }
   ],
   "source": [
    "len(generated_outputs)"
   ]
  },
  {
   "cell_type": "code",
   "execution_count": 160,
   "metadata": {},
   "outputs": [
    {
     "data": {
      "text/plain": [
       "['{\"emotions\": \"[[\\'joy\\'], [\\'neutral\\'], [\\'joy\\'], [\\'neutral\\'], [\\'neutral\\'], [\\'joy\\'], [\\'fear\\', \\'joy\\'], [\\'neutral\\'], [\\'joy\\'], [\\'joy\\']]\"',\n",
       " '{\"emotions\": \"[[\\'joy\\'], [\\'anger\\',\\'sadness\\'], [\\'anger\\', \\'fear\\'], [\\'anger\\',\\'surprise\\'], [\\'sadness\\', \\'joy\\'], [\\'anger\\', \\'fear\\'], [\\'anger\\',\\'sadness\\'], [\\'anger\\', \\'joy\\']]\"',\n",
       " '{\"emotions\": \"[[\\'anger\\', \\'fear\\', \\'joy\\'], [\\'anger\\', \\'fear\\'], [\\'anger\\', \\'fear\\'], [\\'fear\\',\\'surprise\\'], [\\'fear\\'], [\\'fear\\'], [\\'fear\\', \\'joy\\'], [\\'fear\\', \\'anger\\'], [\\'fear\\',\\'sadness\\'], [\\'anger\\',\\'surprise\\'], [\\'anger\\',\\'sadness\\'], [\\'anger\\', \\'joy\\'], [\\'anger\\',\\'sadness\\'], [\\'neutral\\'], [\\'joy\\', \\'anger\\']]\"}',\n",
       " '{\"emotions\": \"[[\\'anger\\', \\'anger\\'], [\\'anger\\'], [\\'anger\\'], [\\'anger\\',\\'sadness\\', \\'joy\\'], [\\'anger\\',\\'sadness\\'], [\\'anger\\'], [\\'anger\\'], [\\'anger\\'], [\\'anger\\'], [\\'anger\\', \\'anger\\'], [\\'anger\\', \\'anger\\'], [\\'anger\\', \\'anger\\'], [\\'anger\\'], [\\'anger\\'], [\\'anger\\', \\'anger\\'], [\\'anger\\', \\'anger\\'], [\\'anger\\', \\'anger\\'], [\\'anger\\'], [\\'anger\\', \\'anger\\'], [\\'anger\\']]\"}',\n",
       " '{\"emotions\": \"[[\\'fear\\',\\'sadness\\'], [\\'joy\\'], [\\'joy\\']]\"',\n",
       " '{\"emotions\": \"[[\\'neutral\\'], [\\'anger\\', \\'fear\\'], [\\'fear\\',\\'surprise\\'], [\\'fear\\',\\'sadness\\'], [\\'fear\\',\\'surprise\\'], [\\'anger\\', \\'joy\\'], [\\'fear\\', \\'joy\\'], [\\'fear\\',\\'surprise\\'], [\\'anger\\', \\'joy\\'], [\\'anger\\',\\'surprise\\'], [\\'fear\\',\\'surprise\\'], [\\'anger\\', \\'joy\\'], [\\'anger\\', \\'joy\\'], [\\'anger\\', \\'joy\\'], [\\'anger\\', \\'joy\\'], [\\'anger\\', \\'joy\\'], [\\'anger\\', \\'joy\\'], [\\'anger\\',\\'surprise\\'], [\\'anger\\', \\'joy\\']]\"}\\n\\nNote: I assumed that the utterances with hashtags (#) and at symbols (@) were expressions of emotions, but since they are not explicitly mentioned, I assigned them to the most relevant emotions based on the context. If you want to keep them as separate emotions, please let me know.',\n",
       " '{\"emotions\": \"[[\\'anger\\', \\'fear\\'], [\\'anger\\', \\'fear\\'], [\\'anger\\', \\'fear\\'], [\\'anger\\', \\'fear\\'], [\\'anger\\', \\'disgust\\'], [\\'anger\\', \\'disgust\\'], [\\'anger\\', \\'disgust\\'], [\\'anger\\', \\'fear\\'], [\\'anger\\', \\'fear\\'], [\\'anger\\', \\'disgust\\'], [\\'fear\\',\\'surprise\\'], [\\'fear\\',\\'surprise\\'], [\\'anger\\', \\'fear\\'], [\\'anger\\', \\'fear\\'], [\\'anger\\', \\'joy\\']]\"',\n",
       " '{\"emotions\": \"[[\\'neutral\\', \\'joy\\'], [\\'fear\\'], [\\'anger\\'], [\\'sadness\\'], [\\'joy\\'], [\\'anger\\'], [\\'anger\\'], [\\'anger\\'], [\\'anger\\', \\'disgust\\'], [\\'anger\\', \\'disgust\\'], [\\'anger\\', \\'disgust\\'], [\\'anger\\', \\'disgust\\'], [\\'anger\\', \\'disgust\\'], [\\'anger\\', \\'disgust\\'], [\\'anger\\', \\'disgust\\']]\"}\\n\\nNote: I have considered both explicit emotional words and implicit context in my analysis.',\n",
       " '{\"emotions\": \"[[\\'joy\\',\\'surprise\\'], [\\'surprise\\'], [\\'joy\\',\\'surprise\\'], [\\'surprise\\', \\'joy\\'], [\\'joy\\',\\'sadness\\', \\'anger\\'], [\\'fear\\',\\'surprise\\'], [\\'anger\\', \\'fear\\',\\'surprise\\'], [\\'anger\\', \\'fear\\',\\'surprise\\'], [\\'anger\\', \\'fear\\'], [\\'anger\\', \\'fear\\'], [\\'anger\\', \\'fear\\',\\'surprise\\']]\"',\n",
       " '{\"emotions\": \"[[\\'joy\\'], [\\'anger\\',\\'surprise\\'], [\\'joy\\',\\'sadness\\'], [\\'joy\\'], [\\'neutral\\'], [\\'neutral\\'], [\\'anger\\', \\'joy\\'], [\\'joy\\'], [\\'anger\\',\\'surprise\\'], [\\'neutral\\', \\'anger\\'], [\\'anger\\',\\'sadness\\']]\"',\n",
       " '{\"emotions\": \"[[\\'joy\\',\\'surprise\\'], [\\'fear\\',\\'sadness\\'], [\\'fear\\',\\'surprise\\'], [\\'anger\\', \\'fear\\'], [\\'fear\\',\\'surprise\\'], [\\'fear\\', \\'disgust\\'], [\\'fear\\', \\'disgust\\'], [\\'fear\\',\\'sadness\\'], [\\'anger\\', \\'fear\\',\\'sadness\\'], [\\'anger\\', \\'fear\\',\\'sadness\\'], [\\'anger\\',\\'sadness\\', \\'fear\\'], [\\'anger\\',\\'sadness\\', \\'fear\\'], [\\'fear\\',\\'sadness\\',\\'surprise\\'], [\\'fear\\',\\'sadness\\',\\'surprise\\'], [\\'anger\\', \\'fear\\',\\'sadness\\',\\'surprise\\'], [\\'anger\\', \\'fear\\',\\'sadness\\',\\'surprise\\']]\"}',\n",
       " '{\"emotions\": \"[[\\'joy\\'], [\\'joy\\'], [\\'anger\\', \\'fear\\'], [\\'anger\\', \\'fear\\']]\"',\n",
       " '{\"emotions\": \"[[\\'neutral\\'], [\\'surprise\\', \\'joy\\'], [\\'neutral\\'], [\\'anger\\'], [\\'sadness\\'], [\\'joy\\'], [\\'surprise\\'], [\\'neutral\\'], [\\'anger\\'], [\\'neutral\\'], [\\'anger\\'], [\\'joy\\'], [\\'neutral\\']]\"',\n",
       " '{\"emotions\": \"[[\\'fear\\',\\'surprise\\'], [\\'joy\\',\\'surprise\\'], [\\'joy\\',\\'surprise\\'], [\\'joy\\'], [\\'neutral\\'], [\\'anger\\',\\'sadness\\'], [\\'anger\\',\\'sadness\\'], [\\'sadness\\', \\'joy\\'], [\\'surprise\\', \\'joy\\'], [\\'sadness\\']]\"}\\n\\nNote: The classification is based on the given examples and guidelines.',\n",
       " '{\"emotions\": \"[[\\'fear\\',\\'surprise\\'], [\\'anger\\', \\'fear\\'], [\\'anger\\', \\'fear\\'], [\\'anger\\', \\'fear\\'], [\\'anger\\', \\'fear\\'], [\\'anger\\', \\'fear\\'], [\\'anger\\', \\'fear\\'], [\\'anger\\', \\'fear\\'], [\\'anger\\', \\'fear\\'], [\\'anger\\', \\'fear\\'], [\\'anger\\', \\'fear\\'], [\\'anger\\', \\'fear\\'], [\\'anger\\', \\'fear\\'], [\\'anger\\', \\'fear\\'], [\\'anger\\', \\'fear\\'], [\\'anger\\', \\'fear\\'], [\\'anger\\', \\'fear\\'], [\\'anger\\', \\'fear\\'], [\\'anger\\', \\'fear\\'], [\\'anger\\', \\'fear\\'], [\\'anger\\', \\'fear\\']]\"',\n",
       " '{\"emotions\": \"[[\\'surprise\\', \\'joy\\'], [\\'joy\\'], [\\'anger\\', \\'joy\\'], [\\'joy\\',\\'surprise\\'], [\\'joy\\',\\'surprise\\'], [\\'joy\\',\\'surprise\\'], [\\'neutral\\'], [\\'neutral\\'], [\\'surprise\\', \\'joy\\'], [\\'anger\\', \\'joy\\'], [\\'neutral\\'], [\\'fear\\',\\'surprise\\'], [\\'neutral\\'], [\\'joy\\',\\'surprise\\'], [\\'joy\\',\\'surprise\\'], [\\'joy\\',\\'surprise\\'], [\\'neutral\\'], [\\'joy\\',\\'surprise\\'], [\\'anger\\', \\'joy\\'], [\\'joy\\',\\'surprise\\'], [\\'joy\\',\\'surprise\\'], [\\'joy\\',\\'surprise\\']]\"}',\n",
       " '{\"emotions\": \"[[\\'joy\\',\\'sadness\\'], [\\'anger\\', \\'fear\\'], [\\'anger\\', \\'disgust\\'], [\\'anger\\', \\'joy\\'], [\\'anger\\', \\'fear\\'], [\\'anger\\',\\'surprise\\'], [\\'anger\\', \\'disgust\\'], [\\'fear\\',\\'surprise\\'], [\\'anger\\', \\'fear\\',\\'surprise\\'], [\\'anger\\', \\'fear\\',\\'surprise\\'], [\\'anger\\', \\'fear\\'], [\\'anger\\', \\'disgust\\'], [\\'anger\\', \\'fear\\'], [\\'anger\\', \\'fear\\']]\"}',\n",
       " '{\"emotions\": \"[[\\'joy\\'], [\\'surprise\\', \\'joy\\'], [\\'joy\\', \\'anger\\'], [\\'anger\\'], [\\'anger\\'], [\\'anger\\'], [\\'anger\\', \\'disgust\\'], [\\'sadness\\'], [\\'sadness\\'], [\\'anger\\'], [\\'anger\\', \\'joy\\'], [\\'surprise\\'], [\\'anger\\', \\'joy\\']]\"',\n",
       " '{\"emotions\": \"[[\\'joy\\'], [\\'joy\\',\\'surprise\\'], [\\'anger\\'], [\\'sadness\\'], [\\'surprise\\'], [\\'joy\\'], [\\'joy\\'], [\\'anger\\'], [\\'sadness\\'], [\\'surprise\\'], [\\'joy\\'], [\\'joy\\'], [\\'anger\\', \\'fear\\'], [\\'anger\\']]\"',\n",
       " '{\"emotions\": \"[[\\'neutral\\', \\'joy\\'], [\\'fear\\', \\'anger\\',\\'surprise\\'], [\\'sadness\\', \\'anger\\', \\'fear\\'], [\\'sadness\\', \\'anger\\'], [\\'sadness\\', \\'anger\\'], [\\'sadness\\', \\'anger\\', \\'fear\\'], [\\'surprise\\', \\'fear\\'], [\\'surprise\\', \\'fear\\', \\'anger\\'], [\\'anger\\', \\'fear\\',\\'surprise\\'], [\\'anger\\', \\'fear\\',\\'surprise\\'], [\\'anger\\', \\'fear\\',\\'surprise\\'], [\\'fear\\', \\'anger\\'], [\\'fear\\', \\'anger\\'], [\\'fear\\', \\'anger\\',\\'surprise\\']]\"}',\n",
       " '{\"emotions\": \"[[\\'sadness\\', \\'anger\\'], [\\'anger\\',\\'surprise\\'], [\\'anger\\',\\'surprise\\'], [\\'sadness\\', \\'anger\\'], [\\'sadness\\', \\'anger\\'], [\\'fear\\', \\'confusion\\'], [\\'sadness\\'], [\\'anger\\',\\'surprise\\'], [\\'joy\\'], [\\'anger\\', \\'fear\\']]\"',\n",
       " '{\"emotions\": \"[[\\'joy\\',\\'surprise\\'], [\\'surprise\\', \\'joy\\'], [\\'fear\\'], [\\'fear\\',\\'surprise\\'], [\\'fear\\'], [\\'neutral\\'], [\\'fear\\'], [\\'joy\\'], [\\'surprise\\'], [\\'anger\\',\\'surprise\\'], [\\'anger\\',\\'surprise\\'], [\\'anger\\',\\'surprise\\']]\"',\n",
       " '{\"emotions\": \"[[\\'joy\\'], [\\'joy\\'], [\\'joy\\',\\'surprise\\'], [\\'fear\\'], [\\'joy\\'], [\\'joy\\',\\'surprise\\'], [\\'joy\\',\\'surprise\\'], [\\'joy\\',\\'surprise\\'], [\\'joy\\',\\'surprise\\'], [\\'fear\\'], [\\'fear\\',\\'surprise\\']]\"',\n",
       " '{\"emotions\": \"[[\\'surprise\\', \\'joy\\'], [\\'fear\\'], [\\'sadness\\', \\'joy\\'], [\\'fear\\'], [\\'surprise\\', \\'joy\\'], [\\'joy\\', \\'anger\\'], [\\'joy\\', \\'fear\\'], [\\'neutral\\', \\'joy\\'], [\\'neutral\\', \\'joy\\'], [\\'fear\\']]\"',\n",
       " '{\"emotions\": \"[[\\'surprise\\', \\'fear\\'], [\\'anger\\', \\'fear\\'], [\\'fear\\',\\'surprise\\'], [\\'neutral\\'], [\\'neutral\\'], [\\'neutral\\'], [\\'neutral\\'], [\\'fear\\',\\'surprise\\'], [\\'anger\\', \\'fear\\'], [\\'surprise\\'], [\\'fear\\', \\'anger\\'], [\\'fear\\',\\'surprise\\']]\"',\n",
       " '{\"emotions\": \"[[\\'anger\\'], [\\'fear\\'], [\\'concern\\'], [\\'fear\\',\\'surprise\\'], [\\'sadness\\',\\'surprise\\', \\'fear\\'], [\\'sadness\\', \\'fear\\'], [\\'fear\\'], [\\'fear\\'], [\\'anger\\'], [\\'neutral\\'], [\\'sadness\\'], [\\'sadness\\',\\'shame\\'], [\\'anger\\']]\"',\n",
       " '{\"emotions\": \"[[\\'sadness\\', \\'joy\\'], [\\'neutral\\',\\'surprise\\'], [\\'disgust\\', \\'fear\\'], [\\'love\\', \\'joy\\'], [\\'fear\\', \\'anger\\'], [\\'anger\\', \\'fear\\'], [\\'neutral\\', \\'joy\\'], [\\'surprise\\', \\'fear\\'], [\\'joy\\'], [\\'joy\\',\\'surprise\\'], [\\'sadness\\', \\'anger\\'], [\\'anger\\', \\'fear\\'], [\\'anger\\', \\'fear\\']]\"',\n",
       " '{\"emotions\": \"[[\\'fear\\', \\'joy\\'], [\\'joy\\'], [\\'fear\\',\\'surprise\\'], [\\'sadness\\',\\'surprise\\'], [\\'anger\\', \\'fear\\'], [\\'surprise\\', \\'fear\\'], [\\'surprise\\', \\'fear\\'], [\\'sadness\\',\\'surprise\\'], [\\'anger\\', \\'fear\\'], [\\'fear\\',\\'surprise\\'], [\\'sadness\\', \\'fear\\'], [\\'surprise\\'], [\\'fear\\',\\'surprise\\'], [\\'anger\\', \\'fear\\'], [\\'fear\\'], [\\'fear\\'], [\\'fear\\'], [\\'fear\\'], [\\'fear\\']]\"}',\n",
       " '{\"emotions\": \"[[\\'anger\\'], [\\'fear\\'], [\\'fear\\', \\'anger\\'], [\\'anger\\'], [\\'fear\\', \\'anger\\'], [\\'anger\\',\\'surprise\\']]\"',\n",
       " '{\"emotions\": \"[[\\'anger\\'], [\\'anger\\', \\'fear\\'], [\\'anger\\', \\'disgust\\'], [\\'anger\\', \\'fear\\']]\"}\\n\\n \\nNote: The classification is based on the provided guidelines and the input examples. The analysis considers the explicit emotional words, implicit context, punctuation, capitalization, and sequential context to determine the primary emotions expressed in each utterance.',\n",
       " '{\"emotions\": \"[[\\'joy\\'], [\\'anger\\'], [\\'anger\\'], [\\'anger\\'], [\\'anger\\', \\'fear\\'], [\\'anger\\', \\'fear\\',\\'sadness\\']]\"',\n",
       " '{\"emotions\": \"[[\\'surprise\\'], [\\'fear\\',\\'surprise\\'], [\\'fear\\',\\'sadness\\'], [\\'fear\\',\\'sadness\\'], [\\'joy\\',\\'sadness\\'], [\\'curiosity\\', \\'fear\\'], [\\'curiosity\\', \\'fear\\']]\"',\n",
       " '{\"emotions\": \"[[\\'surprise\\'], [\\'joy\\'], [\\'joy\\',\\'surprise\\'], [\\'joy\\',\\'surprise\\'], [\\'anger\\'], [\\'neutral\\'], [\\'fear\\',\\'surprise\\'], [\\'fear\\', \\'anger\\'], [\\'anger\\',\\'surprise\\']]\"',\n",
       " '{\"emotions\": \"[[\\'sadness\\', \\'fear\\'], [\\'fear\\', \\'curiosity\\'], [\\'anger\\'], [\\'anger\\', \\'fear\\'], [\\'anger\\', \\'fear\\'], [\\'anger\\', \\'fear\\'], [\\'anger\\', \\'fear\\'], [\\'anger\\', \\'disgust\\'], [\\'fear\\', \\'anger\\'], [\\'anger\\', \\'joy\\', \\'disgust\\']]\"',\n",
       " '{\"emotions\": \"[[\\'fear\\',\\'surprise\\'], [\\'surprise\\'], [\\'fear\\'], [\\'joy\\'], [\\'anger\\', \\'fear\\'], [\\'anger\\'], [\\'anger\\', \\'fear\\'], [\\'anger\\'], [\\'fear\\',\\'surprise\\'], [\\'sadness\\',\\'surprise\\']]\"',\n",
       " '{\"emotions\": \"[[\\'anger\\', \\'disgust\\'], [\\'joy\\',\\'surprise\\'], [\\'anger\\', \\'fear\\'], [\\'anger\\', \\'disgust\\'], [\\'anger\\', \\'disgust\\'], [\\'anger\\', \\'fear\\'], [\\'fear\\',\\'surprise\\'], [\\'anger\\',\\'sadness\\'], [\\'anger\\', \\'joy\\']]\"}',\n",
       " '{\"emotions\": \"[[\\'joy\\'], [\\'fear\\',\\'surprise\\'], [\\'gratitude\\'], [\\'curiosity\\'], [\\'curiosity\\'], [\\'anger\\', \\'disgust\\'], [\\'anger\\', \\'disgust\\'], [\\'fear\\',\\'surprise\\'], [\\'fear\\', \\'curiosity\\'], [\\'fear\\',\\'surprise\\'], [\\'curiosity\\'], [\\'anger\\', \\'disgust\\'], [\\'anger\\', \\'disgust\\'], [\\'anger\\', \\'disgust\\'], [\\'anger\\', \\'disgust\\'], [\\'anger\\', \\'disgust\\'], [\\'anger\\', \\'disgust\\']]\"}',\n",
       " '{\"emotions\": \"[[\\'anger\\', \\'fear\\'], [\\'fear\\', \\'joy\\'], [\\'anger\\'], [\\'fear\\'], [\\'fear\\']]\"}',\n",
       " '{\"emotions\": \"[[\\'anger\\', \\'fear\\',\\'surprise\\']]\"}\\n\\n(Implicit context and intensity markers like \"KARA!\" suggest a strong emotional response)',\n",
       " '{\"emotions\": \"[[\\'anger\\',\\'surprise\\'], [\\'anger\\', \\'fear\\',\\'surprise\\']]\"',\n",
       " '{\"emotions\": \"[[\\'anger\\', \\'disgust\\'], [\\'anger\\', \\'fear\\',\\'surprise\\'], [\\'anger\\', \\'fear\\',\\'surprise\\'], [\\'anger\\', \\'fear\\',\\'surprise\\'], [\\'fear\\',\\'surprise\\',\\'sadness\\'], [\\'anger\\', \\'fear\\']]\"',\n",
       " '{\"emotions\": \"[[\\'anger\\', \\'fear\\'], [\\'neutral\\'], [\\'fear\\', \\'joy\\'], [\\'neutral\\'], [\\'anger\\', \\'anger\\']]\"',\n",
       " '{\"emotions\": \"[[\\'anger\\',\\'surprise\\'], [\\'surprise\\', \\'fear\\']]\"}\\n\\n(Note: I have considered the given examples and their respective outputs to classify the provided input utterances.)',\n",
       " '{\"emotions\": \"[[\\'anger\\'], [\\'joy\\',\\'surprise\\'], [\\'anger\\'], [\\'anger\\',\\'sadness\\'], [\\'anger\\'], [\\'anger\\',\\'surprise\\'], [\\'anger\\'], [\\'anger\\']]\"',\n",
       " '{\"emotions\": \"[[\\'joy\\', \\'anger\\'], [\\'anger\\', \\'anger\\'], [\\'surprise\\'], [\\'anger\\'], [\\'joy\\',\\'surprise\\'], [\\'joy\\',\\'surprise\\'], [\\'anger\\'], [\\'joy\\']]\"',\n",
       " '{\"emotions\": \"[[\\'joy\\'], [\\'fear\\',\\'sadness\\'], [\\'fear\\',\\'surprise\\'], [\\'fear\\', \\'anger\\',\\'surprise\\'], [\\'anger\\', \\'fear\\'], [\\'anger\\', \\'fear\\'], [\\'anger\\',\\'surprise\\'], [\\'neutral\\'], [\\'neutral\\',\\'sadness\\'], [\\'sadness\\', \\'joy\\'], [\\'fear\\',\\'surprise\\'], [\\'joy\\',\\'surprise\\'], [\\'fear\\',\\'sadness\\',\\'surprise\\'], [\\'fear\\',\\'sadness\\']]\"}',\n",
       " '{\"emotions\": \"[[\\'sadness\\', \\'anger\\'], [\\'anger\\', \\'joy\\'], [\\'anger\\', \\'joy\\'], [\\'anger\\'], [\\'anger\\', \\'fear\\'], [\\'fear\\', \\'anger\\'], [\\'fear\\'], [\\'fear\\'], [\\'anger\\',\\'surprise\\'], [\\'anger\\', \\'joy\\']]\"',\n",
       " '{\"emotions\": \"[[\\'sadness\\',\\'surprise\\'], [\\'fear\\', \\'anger\\'], [\\'surprise\\', \\'fear\\'], [\\'anger\\',\\'sadness\\']]\"}\\n\\n(Note: The output strictly follows the specified JSON format, with the length of the value exactly matching the number of utterances provided for classification)',\n",
       " '{\"emotions\": \"[[\\'anger\\', \\'fear\\'], [\\'surprise\\', \\'fear\\']]\"}\\n\\n \\n\\nIn the first utterance, \"JOHN! I\\'M TANGLED IN THE ROPES! JOHN--\", we see a mix of emotions. The exclamation and use of the name \"JOHN\" indicate a sense of urgency and possibly fear (\"fear\"). The phrase \"TANGLED IN THE ROPES\" suggests a feeling of being overwhelmed or trapped (\"fear\"). The repeated use of the name \"JOHN\" and the trailing dash may imply a sense of alarm or panic (\"anger\"). \\n\\nIn the second utterance, \"KARA! KARA, WHERE ARE YOU?!\", we see a clear expression of surprise and possibly fear. The repeated use of the name \"KARA\" and the question \"WHERE ARE YOU?!\" convey a sense of urgency and anxiety (\"surprise\", \"fear\").',\n",
       " '{\"emotions\": \"[[\\'fear\\',\\'surprise\\'], [\\'anger\\', \\'fear\\'], [\\'fear\\', \\'anger\\'], [\\'fear\\', \\'anger\\'], [\\'surprise\\'], [\\'fear\\',\\'surprise\\'], [\\'fear\\',\\'surprise\\'], [\\'fear\\',\\'surprise\\'], [\\'fear\\',\\'surprise\\'], [\\'fear\\',\\'surprise\\', \\'anger\\']]\"}',\n",
       " '{\"emotions\": \"[[\\'anger\\'], [\\'neutral\\'], [\\'joy\\']]\"}',\n",
       " '{\"emotions\": \"[[\\'anger\\'], [\\'disgust\\'], [\\'fear\\',\\'sadness\\'], [\\'sadness\\', \\'anger\\'], [\\'fear\\',\\'surprise\\'], [\\'anger\\', \\'fear\\'], [\\'anger\\', \\'disgust\\'], [\\'anger\\', \\'disgust\\']]\"}',\n",
       " '{\"emotions\": \"[[\\'surprise\\'], [\\'joy\\',\\'surprise\\'], [\\'joy\\',\\'surprise\\'], [\\'joy\\',\\'surprise\\'], [\\'neutral\\',\\'surprise\\'], [\\'fear\\', \\'anger\\'], [\\'anger\\', \\'fear\\'], [\\'anger\\', \\'fear\\',\\'sadness\\'], [\\'anger\\', \\'disgust\\', \\'fear\\'], [\\'joy\\',\\'surprise\\'], [\\'fear\\',\\'surprise\\']]\"}',\n",
       " '{\"emotions\": \"[[\\'fear\\',\\'sadness\\'], [\\'anger\\'], [\\'joy\\']]\"}\\n\\n(Note: The emotions are classified based on the given guidelines, considering both explicit emotional words and implicit context.)',\n",
       " '{\"emotions\": \"[[\\'surprise\\', \\'joy\\'], [\\'fear\\',\\'sadness\\',\\'surprise\\'], [\\'joy\\',\\'surprise\\'], [\\'joy\\',\\'surprise\\'], [\\'joy\\',\\'sadness\\'], [\\'sadness\\', \\'fear\\'], [\\'joy\\',\\'sadness\\']]\"',\n",
       " '{\"emotions\": \"[[\\'fear\\',\\'surprise\\'], [\\'joy\\',\\'surprise\\'], [\\'surprise\\'], [\\'anger\\',\\'sadness\\'], [\\'fear\\',\\'surprise\\'], [\\'sadness\\', \\'joy\\'], [\\'surprise\\',\\'sadness\\'], [\\'anger\\',\\'surprise\\'], [\\'sadness\\']]\"}',\n",
       " '{\"emotions\": \"[[\\'sadness\\', \\'joy\\'], [\\'surprise\\', \\'joy\\'], [\\'joy\\'], [\\'anger\\'], [\\'anger\\'], [\\'anger\\', \\'joy\\'], [\\'neutral\\'], [\\'anger\\', \\'joy\\']]\"}\\n\\n(Note: The JSON format must be EXACTLY match the number of utterances, so the length of the value in JSON is 7)',\n",
       " '{\"emotions\": \"[[\\'sadness\\',\\'sadness\\'], [\\'joy\\'], [\\'joy\\'], [\\'joy\\', \\'joy\\']]\"}\\n\\nExplanation:\\n- Utterance 1: \"DR. EGGMAN LOST HIS MEMORIES AFTER ONE OF HIS MOST CRITICAL DEFEATS\" - The tone suggests sadness, specifically due to Dr. Eggman\\'s loss of memories.\\n- Utterance 2: \"HE TOOK ON THE PERSONA OF MR. TINKER, A KINDLY INVENTOR AND REPAIR MAN\" - The tone suggests joy, as Dr. Eggman is now taking on a new persona, which might be seen as a positive development.\\n- Utterance 3: \"SO I TOOK HIM IN AND WENT TO GREAT LENGTHS TO CURE HIM OF THAT STATE OF MIND\" - The tone suggests joy, as the speaker is actively working to help Dr. Eggman.\\n- Utterance 4: \"WITH… SOME ASSISTANCE FROM METAL SONIC…\" - The tone suggests joy, as the speaker is receiving help from Metal Sonic, which might be seen as a positive turn of events.',\n",
       " '{\"emotions\": \"[[\\'anger\\',\\'surprise\\'], [\\'joy\\',\\'surprise\\'], [\\'joy\\',\\'surprise\\'], [\\'anger\\', \\'joy\\'], [\\'anger\\',\\'sadness\\'], [\\'anger\\',\\'sadness\\'], [\\'anger\\',\\'sadness\\']]\"}\\n\\nNote: The analysis considered the explicit emotional words, implicit context, punctuation, capitalization, and intensity markers to classify the emotions.',\n",
       " '{\"emotions\": \"[[\\'joy\\',\\'surprise\\'], [\\'anger\\',\\'surprise\\'], [\\'joy\\',\\'surprise\\'], [\\'joy\\',\\'surprise\\'], [\\'anger\\',\\'sadness\\'], [\\'anger\\',\\'surprise\\'], [\\'sadness\\',\\'surprise\\']]\"',\n",
       " '{\"emotions\": \"[[\\'joy\\'], [\\'joy\\',\\'sadness\\'], [\\'joy\\',\\'sadness\\'], [\\'sadness\\', \\'fear\\']]\"',\n",
       " '{\"emotions\": \"[[\\'sadness\\'], [\\'anger\\'], [\\'fear\\',\\'sadness\\'], [\\'sadness\\', \\'joy\\']]\"}',\n",
       " '{\"emotions\": \"[[\\'joy\\',\\'sadness\\'], [\\'anger\\'], [\\'sadness\\'], [\\'sadness\\', \\'anger\\'], [\\'fear\\', \\'joy\\'], [\\'joy\\',\\'sadness\\'], [\\'joy\\'], [\\'joy\\'], [\\'joy\\']]\"',\n",
       " '{\"emotions\": \"[[\\'sadness\\',\\'surprise\\'], [\\'joy\\'], [\\'joy\\'], [\\'joy\\'], [\\'joy\\'], [\\'joy\\'], [\\'anger\\',\\'sadness\\']]\"',\n",
       " '{\"emotions\": \"[[\\'anger\\', \\'fear\\'], [\\'surprise\\', \\'fear\\'], [\\'surprise\\', \\'joy\\'], [\\'sadness\\',\\'surprise\\'], [\\'sadness\\',\\'surprise\\'], [\\'anger\\',\\'surprise\\'], [\\'anger\\',\\'surprise\\']]\"',\n",
       " '{\"emotions\": \"[[\\'surprise\\'], [\\'joy\\'], [\\'joy\\',\\'surprise\\'], [\\'anger\\',\\'surprise\\'], [\\'sadness\\', \\'anger\\'], [\\'anger\\',\\'surprise\\'], [\\'anger\\'], [\\'anger\\', \\'fear\\'], [\\'anger\\']]\"',\n",
       " '{\"emotions\": \"[[\\'anger\\'], [\\'fear\\',\\'surprise\\'], [\\'fear\\']]\"}',\n",
       " '{\"emotions\": \"[[\\'joy\\', \\'neutral\\'], [\\'joy\\'], [\\'anger\\'], [\\'fear\\',\\'sadness\\'], [\\'sadness\\'], [\\'surprise\\', \\'joy\\'], [\\'fear\\'], [\\'joy\\',\\'sadness\\'], [\\'joy\\',\\'sadness\\']]\"',\n",
       " '{\"emotions\": \"[[\\'joy\\',\\'sadness\\'], [\\'anger\\',\\'sadness\\'], [\\'neutral\\', \\'anger\\',\\'sadness\\'], [\\'fear\\',\\'sadness\\']]\"',\n",
       " '{\"emotions\": \"[[\\'joy\\',\\'surprise\\'], [\\'joy\\',\\'sadness\\'], [\\'joy\\'], [\\'anger\\', \\'joy\\'], [\\'anger\\', \\'joy\\',\\'surprise\\']]\"}\\n\\nNote: The analysis of the input utterances took into account the context, emotional indicators, and intensity markers as per the guidelines provided.',\n",
       " '{\"emotions\": \"[[\\'joy\\',\\'surprise\\'], [\\'neutral\\', \\'fear\\']]\"}\\n\\n \\n\\nExplanation:\\n1. YOU\\'RE NEXT, SUPERSTAR! - The use of \"superstar\" as an insult, combined with the threat of violence, implies a strong negative emotion (\"anger\") but the tone is somewhat playful, so it\\'s also classified as \"joy\".\\n2. You get used to it. - The tone of this statement is somewhat resigned and neutral, but it could also be interpreted as a sign of \"fear\" in the context of the conversation.',\n",
       " '{\"emotions\": \"[[\\'joy\\', \\'neutral\\'], [\\'fear\\'], [\\'neutral\\'], [\\'neutral\\'], [\\'anger\\', \\'disgust\\'], [\\'fear\\',\\'sadness\\'], [\\'fear\\',\\'sadness\\']]\"}\\n\\nNote: I\\'ve analyzed each utterance according to the provided guidelines, considering both explicit emotional words and implicit context.',\n",
       " '{\"emotions\": \"[[\\'disgust\\', \\'anger\\'], [\\'disgust\\', \\'anger\\',\\'sadness\\'], [\\'sadness\\', \\'joy\\'], [\\'sadness\\', \\'joy\\'], [\\'fear\\',\\'sadness\\']]\"',\n",
       " '{\"emotions\": \"[[\\'fear\\',\\'surprise\\'], [\\'anger\\', \\'fear\\'], [\\'joy\\',\\'surprise\\'], [\\'surprise\\'], [\\'joy\\',\\'surprise\\'], [\\'fear\\',\\'sadness\\']]\"',\n",
       " '{\"emotions\": \"[[\\'surprise\\', \\'joy\\'], [\\'anger\\', \\'fear\\']]\"}\\n\\nNote: I\\'ve assumed that the dialogue is spoken by different characters, and the emotions are based on the context. However, since the actual context is not provided, I\\'ve made a general interpretation based on the words used.',\n",
       " '{\"emotions\": \"[[\\'joy\\'], [\\'anger\\', \\'fear\\']]\"}\\n\\nExplanation:\\n1. \"IT\\'S YOUR LUCKY DAY\" is an expression of joy due to the positive tone and use of the word \"lucky\".\\n2. \"ALMOST\" is a neutral statement, but the context suggests a negative outcome (\"almost\" implies a missed opportunity), so I\\'ve classified it as a mix of anger (at the missed chance) and fear (of an uncertain outcome).',\n",
       " '{\"emotions\": \"[[\\'anger\\', \\'disgust\\'], [\\'anger\\',\\'sadness\\'], [\\'anger\\', \\'fear\\'], [\\'neutral\\'], [\\'neutral\\'], [\\'neutral\\'], [\\'neutral\\'], [\\'neutral\\']]\"}\\n\\nExplanation:\\n\\n1. \"CAN YOU BEHAVE, WINTERS?\" - The tone is authoritative and commanding, indicating anger and a desire for control.\\n2. \"#HM HM\" - The use of hashtags and the phrase itself suggest a playful or mocking tone, leaning towards sadness and anger.\\n3. \"DON\\'T TRY ANYTHING FUNNY\" - The warning and the tone imply a sense of fear and anger.\\n4. \"THE PRISON RIOT IS STILL WELL UNDERWAY, AND IT\\'LL BE SOME TIME BEFORE THEY EVEN KNOW YOU\\'RE GONE\" - The statement is neutral, providing information without expressing emotion.\\n5. \"YOUR VOICE… SAME BROAD FROM THE PRISON?\" - The question is neutral, inquiring about a fact without expressing emotion.\\n6. \"MY NAME IS ANDERSON LAKE\" - The statement is neutral, providing information without expressing emotion.\\n7. \"ANDERSON, HUNH? ANY OF YOUR FRIENDS EVER CALL YOU ANDY?\" - The question is neutral, inquiring about a fact without expressing emotion.',\n",
       " '{\"emotions\": \"[[\\'sadness\\'], [\\'fear\\'], [\\'fear\\',\\'surprise\\'], [\\'surprise\\'], [\\'surprise\\', \\'joy\\'], [\\'sadness\\'], [\\'sadness\\', \\'fear\\']]\"}\\n\\nNote: The classification is based on the provided examples and the input guidelines. The analysis considers both explicit emotional words and implicit context, including punctuation and capitalization as emotional indicators.',\n",
       " '{\"emotions\": \"[[\\'anger\\'], [\\'anger\\', \\'fear\\']]\"}\\n\\nor',\n",
       " '{\"emotions\": \"[[\\'anger\\'], [\\'surprise\\'], [\\'anger\\'], [\\'anger\\'], [\\'fear\\'], [\\'anger\\'], [\\'anger\\'], [\\'anger\\']]\"}',\n",
       " '{\"emotions\": \"[[\\'anger\\',\\'sadness\\'], [\\'fear\\',\\'sadness\\'], [\\'fear\\',\\'sadness\\'], [\\'fear\\',\\'sadness\\'], [\\'neutral\\'], [\\'neutral\\'], [\\'sadness\\',\\'surprise\\'], [\\'fear\\',\\'sadness\\'], [\\'anger\\',\\'sadness\\']]\"}',\n",
       " '{\"emotions\": \"[[\\'joy\\'], [\\'anger\\',\\'surprise\\'], [\\'surprise\\'], [\\'anger\\'], [\\'anger\\',\\'surprise\\'], [\\'anger\\',\\'surprise\\'], [\\'anger\\',\\'surprise\\'], [\\'anger\\',\\'surprise\\'], [\\'anger\\',\\'sadness\\'], [\\'anger\\',\\'sadness\\'], [\\'anger\\', \\'fear\\'], [\\'anger\\',\\'surprise\\']]\"',\n",
       " '{\"emotions\": \"[[\\'sadness\\'], [\\'sadness\\', \\'anger\\'], [\\'joy\\',\\'surprise\\'], [\\'fear\\',\\'sadness\\'], [\\'fear\\'], [\\'neutral\\'], [\\'anger\\'], [\\'anger\\'], [\\'neutral\\'], [\\'surprise\\']]\"',\n",
       " '{\"emotions\": \"[[\\'anger\\',\\'surprise\\'], [\\'anger\\', \\'fear\\'], [\\'fear\\',\\'surprise\\', \\'joy\\'], [\\'anger\\',\\'sadness\\', \\'fear\\'], [\\'anger\\', \\'fear\\'], [\\'anger\\', \\'fear\\'], [\\'anger\\', \\'fear\\'], [\\'anger\\',\\'sadness\\'], [\\'anger\\', \\'disgust\\']]\"',\n",
       " '{\"emotions\": \"[[\\'anger\\',\\'surprise\\'], [\\'anger\\', \\'fear\\'], [\\'anger\\'], [\\'joy\\'], [\\'joy\\'], [\\'joy\\'], [\\'joy\\'], [\\'anger\\',\\'surprise\\'], [\\'anger\\'], [\\'anger\\', \\'disgust\\'], [\\'anger\\', \\'fear\\',\\'surprise\\'], [\\'anger\\', \\'fear\\',\\'surprise\\'], [\\'anger\\', \\'disgust\\'], [\\'anger\\', \\'disgust\\'], [\\'anger\\', \\'disgust\\']]\"}\\n\\nNote: Emotions were classified based on the context and tone of each utterance.',\n",
       " '{\"emotions\": \"[[\\'neutral\\'], [\\'anger\\'], [\\'anger\\'], [\\'anger\\', \\'disgust\\'], [\\'anger\\',\\'sadness\\'], [\\'neutral\\'], [\\'neutral\\'], [\\'neutral\\'], [\\'anger\\'], [\\'fear\\'], [\\'anger\\'], [\\'anger\\', \\'fear\\'], [\\'neutral\\']]\"}',\n",
       " '{\"emotions\": \"[[\\'sadness\\', \\'joy\\'], [\\'fear\\',\\'surprise\\'], [\\'fear\\',\\'surprise\\'], [\\'anger\\',\\'surprise\\'], [\\'fear\\',\\'surprise\\'], [\\'fear\\',\\'surprise\\'], [\\'anger\\', \\'fear\\'], [\\'fear\\',\\'sadness\\'], [\\'fear\\',\\'surprise\\']]\"',\n",
       " '{\"emotions\": \"[[\\'anger\\'], [\\'surprise\\'], [\\'surprise\\'], [\\'anger\\'], [\\'joy\\'], [\\'joy\\'], [\\'neutral\\'], [\\'anger\\'], [\\'anger\\'], [\\'anger\\'], [\\'surprise\\'], [\\'anger\\'], [\\'anger\\'], [\\'anger\\'], [\\'anger\\', \\'joy\\'], [\\'surprise\\']]\"',\n",
       " '{\"emotions\": \"[[\\'anger\\', \\'fear\\'], [\\'anger\\', \\'disgust\\'], [\\'neutral\\'], [\\'neutral\\'], [\\'joy\\',\\'surprise\\'], [\\'neutral\\'], [\\'fear\\',\\'surprise\\'], [\\'fear\\',\\'surprise\\'], [\\'joy\\',\\'surprise\\'], [\\'joy\\',\\'surprise\\']]\"}\\n\\nNote: The JSON format is strictly followed, with the length of the value exactly matching the number of utterances.',\n",
       " '{\"emotions\": \"[[\\'joy\\',\\'surprise\\']]\"}\\n\\nNote: The utterance expresses a mix of emotions, but primarily \\'joy\\' and\\'surprise\\', which are more intense than \\'neutral\\'.',\n",
       " '{\"emotions\": \"[[\\'surprise\\', \\'joy\\'], [\\'anger\\', \\'fear\\']]\"}\\n\\n \\n\\nExplanation:\\n\\n1. YEAH, YEAH, REAL SPOOKY… \\n   - The use of \"YEAH\" and \"REAL SPOOKY\" indicates a playful tone, suggesting the speaker is being facetious. This is consistent with the primary emotion \"joy\".\\n   - The phrase \"REAL SPOOKY\" is an exaggeration, implying that the speaker is trying to be humorous. This is also consistent with the primary emotion \"joy\".\\n   - However, the tone is also somewhat sarcastic, which can be associated with \"surprise\" as the speaker seems to be mocking something.\\n   - So, the primary emotions are \"surprise\" and \"joy\".\\n\\n2. C\\'MON, HUSTLE. DAYLIGHT\\'S BURNING, PEOPLE.\\n   - The phrase \"C\\'MON, HUSTLE\" is an imperative, indicating a sense of urgency. This can be associated with the primary emotion \"anger\".\\n   - The phrase \"DAYLIGHT\\'S BURNING, PEOPLE\" suggests that time is running out, which can be associated with the primary emotion \"fear\".',\n",
       " '{\"emotions\": \"[[\\'anger\\', \\'joy\\'], [\\'neutral\\'], [\\'sadness\\'], [\\'anger\\'], [\\'fear\\',\\'surprise\\'], [\\'anger\\',\\'sadness\\'], [\\'anger\\',\\'sadness\\'], [\\'anger\\', \\'joy\\'], [\\'fear\\',\\'surprise\\']]\"',\n",
       " '{\"emotions\": \"[[\\'joy\\'], [\\'surprise\\'], [\\'anger\\',\\'surprise\\'], [\\'anger\\', \\'disgust\\'], [\\'anger\\'], [\\'surprise\\', \\'joy\\'], [\\'neutral\\', \\'joy\\'], [\\'fear\\',\\'sadness\\']]\"',\n",
       " '{\"emotions\": \"[[\\'neutral\\'], [\\'fear\\'], [\\'fear\\', \\'neutral\\']]\"}\\n\\n(Note: In the given context, the speaker\\'s tone seems to be inquiring about a situation, then dismissing it with a negative response, and finally expressing some level of concern or wariness about the current state.)',\n",
       " '{\"emotions\": \"[[\\'fear\\'], [\\'joy\\',\\'surprise\\'], [\\'joy\\',\\'surprise\\'], [\\'joy\\',\\'surprise\\'], [\\'fear\\',\\'surprise\\'], [\\'neutral\\']]\"}',\n",
       " '{\"emotions\": \"[[\\'anger\\'], [\\'anger\\', \\'fear\\'], [\\'sadness\\', \\'anger\\'], [\\'sadness\\', \\'joy\\']]\"',\n",
       " '{\"emotions\": \"[[\\'sadness\\']]\"}\\n\\n(Note: The input sentence \"WELL, THAT\\'S GRIM\" expresses a negative sentiment, which is typically associated with the emotion of sadness.)',\n",
       " '{\"emotions\": \"[[\\'fear\\',\\'surprise\\'], [\\'neutral\\', \\'fear\\'], [\\'fear\\', \\'neutral\\'], [\\'neutral\\', \\'fear\\'], [\\'fear\\',\\'surprise\\'], [\\'neutral\\', \\'fear\\'], [\\'neutral\\', \\'fear\\'], [\\'anger\\'], [\\'fear\\',\\'surprise\\'], [\\'fear\\']]\"',\n",
       " '{\"emotions\": \"[[\\'fear\\',\\'surprise\\'], [\\'anger\\',\\'surprise\\'], [\\'fear\\',\\'surprise\\'], [\\'fear\\',\\'surprise\\', \\'joy\\'], [\\'fear\\',\\'surprise\\'], [\\'fear\\',\\'sadness\\',\\'surprise\\'], [\\'fear\\',\\'sadness\\',\\'surprise\\'], [\\'fear\\',\\'sadness\\',\\'surprise\\'], [\\'fear\\',\\'sadness\\',\\'surprise\\']]\"',\n",
       " '{\"emotions\": \"[[\\'joy\\',\\'surprise\\'], [\\'anger\\', \\'disgust\\'], [\\'curiosity\\'], [\\'joy\\', \\'optimism\\'], [\\'anger\\',\\'sadness\\'], [\\'joy\\'], [\\'joy\\'], [\\'joy\\'], [\\'joy\\'], [\\'joy\\'], [\\'anger\\',\\'surprise\\'], [\\'neutral\\'], [\\'anger\\', \\'disgust\\']]\"}\\n\\nNote: I\\'ve used the provided examples to classify the emotions in the given input.',\n",
       " '{\"emotions\": \"[[\\'joy\\'], [\\'surprise\\', \\'fear\\', \\'anger\\'], [\\'surprise\\', \\'joy\\']]\"',\n",
       " '{\"emotions\": \"[[\\'surprise\\', \\'curiosity\\'], [\\'surprise\\', \\'fear\\'], [\\'surprise\\'], [\\'neutral\\'], [\\'curiosity\\'], [\\'fear\\', \\'disgust\\'], [\\'anger\\', \\'fear\\']]\"',\n",
       " '{\"emotions\": \"[[\\'neutral\\'], [\\'surprise\\', \\'disgust\\']]\"}',\n",
       " '{\"emotions\": \"[[\\'anger\\', \\'fear\\'], [\\'fear\\',\\'sadness\\',\\'surprise\\'], [\\'sadness\\',\\'surprise\\'], [\\'surprise\\', \\'anger\\'], [\\'fear\\',\\'surprise\\'], [\\'fear\\',\\'sadness\\'], [\\'fear\\',\\'sadness\\',\\'surprise\\'], [\\'fear\\',\\'surprise\\'], [\\'fear\\', \\'anger\\',\\'surprise\\'], [\\'anger\\', \\'fear\\',\\'surprise\\'], [\\'anger\\', \\'fear\\']]\"}',\n",
       " '{\"emotions\": \"[[\\'fear\\',\\'surprise\\'], [\\'fear\\', \\'joy\\'], [\\'fear\\',\\'surprise\\'], [\\'fear\\', \\'disgust\\'], [\\'fear\\', \\'anger\\',\\'surprise\\'], [\\'fear\\',\\'sadness\\'], [\\'fear\\',\\'sadness\\'], [\\'fear\\',\\'sadness\\']]\"}',\n",
       " '{\"emotions\": \"[[\\'fear\\'], [\\'fear\\',\\'sadness\\'], [\\'fear\\', \\'anger\\'], [\\'surprise\\', \\'fear\\'], [\\'surprise\\', \\'anger\\'], [\\'anger\\',\\'surprise\\']]\"',\n",
       " '{\"emotions\": \"[[\\'fear\\',\\'surprise\\'], [\\'fear\\', \\'joy\\'], [\\'anger\\',\\'sadness\\'], [\\'fear\\',\\'sadness\\',\\'surprise\\'], [\\'fear\\',\\'sadness\\']]\"',\n",
       " '{\"emotions\": \"[[\\'sadness\\'], [\\'anger\\',\\'surprise\\'], [\\'anger\\'], [\\'fear\\',\\'surprise\\'], [\\'anger\\',\\'surprise\\'], [\\'anger\\', \\'fear\\'], [\\'anger\\', \\'fear\\',\\'sadness\\'], [\\'fear\\',\\'sadness\\']]\"',\n",
       " '{\"emotions\": \"[[\\'fear\\',\\'sadness\\'], [\\'anger\\', \\'fear\\',\\'sadness\\'], [\\'anger\\', \\'fear\\', \\'disgust\\'], [\\'fear\\', \\'anger\\', \\'disgust\\'], [\\'anger\\', \\'disgust\\'], [\\'anger\\', \\'disgust\\'], [\\'anger\\',\\'sadness\\']]\"}',\n",
       " '{\"emotions\": \"[[\\'sadness\\', \\'anger\\'], [\\'anger\\', \\'disgust\\'], [\\'anger\\',\\'sadness\\'], [\\'sadness\\', \\'fear\\'], [\\'fear\\',\\'sadness\\']]\"}\\n\\nNote: I analyzed the input utterances based on the provided examples and applied the guidelines for emotion classification.',\n",
       " '{\"emotions\": \"[[\\'anger\\', \\'joy\\'], [\\'sadness\\', \\'fear\\'], [\\'fear\\',\\'sadness\\'], [\\'anger\\', \\'fear\\'], [\\'anger\\', \\'joy\\'], [\\'anger\\',\\'surprise\\']]\"',\n",
       " '{\"emotions\": \"[[\\'joy\\',\\'surprise\\']]\"}\\n\\nNote: The primary emotion expressed is joy, as the speaker is inviting an activity. Surprise is also present due to the exclamation mark and the implicit excitement of the question.',\n",
       " '{\"emotions\": \"[[\\'anger\\', \\'fear\\'], [\\'anger\\', \\'fear\\'], [\\'anger\\', \\'fear\\',\\'surprise\\'], [\\'fear\\',\\'surprise\\'], [\\'anger\\', \\'fear\\'], [\\'anger\\', \\'fear\\']]\"',\n",
       " '{\"emotions\": \"[[\\'anger\\']]\"}',\n",
       " '{\"emotions\": \"[[\\'sadness\\', \\'neutral\\'], [\\'neutral\\'], [\\'sadness\\', \\'joy\\',\\'surprise\\']]\"}\\n\\nExplanation:\\n1. The first utterance expresses sadness due to the death of the boys\\' parents and neutral as it\\'s a factual statement.\\n2. The second utterance is neutral as it\\'s a filler word.\\n3. The third utterance expresses sadness due to the loss of their parents, joy due to the adoption by Andrea and Dale, and surprise as it\\'s an unexpected turn of events.',\n",
       " '{\"emotions\": \"[[\\'sadness\\', \\'fear\\'], [\\'fear\\',\\'sadness\\'], [\\'anger\\',\\'sadness\\'], [\\'anger\\', \\'fear\\'], [\\'fear\\',\\'sadness\\'], [\\'anger\\', \\'fear\\'], [\\'fear\\',\\'sadness\\'], [\\'anger\\', \\'fear\\'], [\\'anger\\', \\'fear\\'], [\\'anger\\', \\'fear\\'], [\\'anger\\', \\'fear\\'], [\\'fear\\',\\'sadness\\'], [\\'anger\\', \\'fear\\']]\"}',\n",
       " '{\"emotions\": \"[[\\'anger\\',\\'sadness\\'], [\\'sadness\\', \\'fear\\'], [\\'sadness\\', \\'fear\\'], [\\'sadness\\', \\'fear\\'], [\\'sadness\\', \\'fear\\'], [\\'sadness\\', \\'fear\\', \\'joy\\'], [\\'sadness\\', \\'fear\\', \\'joy\\'], [\\'sadness\\', \\'fear\\', \\'joy\\'], [\\'sadness\\', \\'fear\\', \\'joy\\']]\"}',\n",
       " '{\"emotions\": \"[[\\'sadness\\', \\'fear\\'], [\\'neutral\\'], [\\'fear\\'], [\\'fear\\',\\'sadness\\'], [\\'fear\\', \\'anger\\',\\'surprise\\'], [\\'fear\\',\\'sadness\\'], [\\'anger\\', \\'fear\\',\\'surprise\\'], [\\'sadness\\', \\'fear\\'], [\\'fear\\',\\'sadness\\']]\"',\n",
       " '{\"emotions\": \"[[\\'sadness\\', \\'fear\\'], [\\'sadness\\', \\'fear\\'], [\\'anger\\', \\'fear\\',\\'sadness\\'], [\\'anger\\',\\'sadness\\'], [\\'anger\\', \\'fear\\',\\'sadness\\'], [\\'anger\\', \\'fear\\',\\'sadness\\'], [\\'anger\\',\\'sadness\\', \\'fear\\'], [\\'anger\\',\\'sadness\\', \\'fear\\'], [\\'anger\\',\\'sadness\\'], [\\'anger\\', \\'fear\\',\\'sadness\\'], [\\'anger\\', \\'fear\\',\\'sadness\\']]\"}\\n\\nNote: The classification is based on the given examples and the analysis principles.',\n",
       " '{\"emotions\": \"[[\\'joy\\'], [\\'sadness\\'], [\\'sadness\\', \\'fear\\'], [\\'anger\\', \\'fear\\'], [\\'anger\\'], [\\'fear\\',\\'surprise\\'], [\\'anger\\', \\'fear\\'], [\\'anger\\', \\'fear\\'], [\\'anger\\',\\'surprise\\'], [\\'anger\\'], [\\'anger\\'], [\\'fear\\',\\'surprise\\'], [\\'fear\\',\\'surprise\\']]\"',\n",
       " '{\"emotions\": \"[[\\'anger\\',\\'sadness\\'], [\\'sadness\\', \\'fear\\'], [\\'anger\\', \\'fear\\'], [\\'anger\\',\\'sadness\\'], [\\'sadness\\'], [\\'sadness\\'], [\\'sadness\\'], [\\'fear\\',\\'sadness\\'], [\\'sadness\\', \\'fear\\'], [\\'sadness\\', \\'fear\\'], [\\'anger\\',\\'sadness\\'], [\\'anger\\',\\'sadness\\'], [\\'anger\\',\\'sadness\\'], [\\'anger\\',\\'sadness\\'], [\\'anger\\',\\'sadness\\'], [\\'sadness\\', \\'fear\\'], [\\'sadness\\', \\'fear\\'], [\\'anger\\',\\'sadness\\']]\"}',\n",
       " '{\"emotions\": \"[[\\'anger\\', \\'fear\\'], [\\'fear\\',\\'sadness\\'], [\\'fear\\',\\'sadness\\'], [\\'surprise\\'], [\\'fear\\'], [\\'sadness\\'], [\\'surprise\\'], [\\'anger\\', \\'fear\\'], [\\'fear\\',\\'sadness\\'], [\\'fear\\',\\'sadness\\'], [\\'fear\\',\\'sadness\\'], [\\'anger\\', \\'fear\\'], [\\'fear\\',\\'surprise\\'], [\\'fear\\',\\'surprise\\'], [\\'sadness\\'], [\\'fear\\',\\'sadness\\'], [\\'fear\\',\\'sadness\\'], [\\'fear\\',\\'sadness\\']]\"}',\n",
       " '{\"emotions\": \"[[\\'surprise\\', \\'joy\\'], [\\'sadness\\', \\'joy\\'], [\\'joy\\', \\'anger\\'], [\\'joy\\', \\'fear\\'], [\\'joy\\', \\'fear\\'], [\\'fear\\',\\'sadness\\'], [\\'fear\\',\\'sadness\\'], [\\'fear\\',\\'sadness\\'], [\\'anger\\',\\'sadness\\'], [\\'sadness\\'], [\\'sadness\\'], [\\'anger\\',\\'sadness\\'], [\\'fear\\',\\'sadness\\']]\"}\\n\\nNote: The output is a JSON object with the emotions classified for each utterance. The length of the value in JSON exactly matches the number of utterances.',\n",
       " '{\"emotions\": \"[[\\'anger\\', \\'fear\\'], [\\'fear\\',\\'sadness\\'], [\\'anger\\', \\'fear\\',\\'sadness\\'], [\\'anger\\',\\'sadness\\'], [\\'anger\\', \\'fear\\'], [\\'anger\\',\\'sadness\\'], [\\'fear\\',\\'sadness\\'], [\\'fear\\',\\'sadness\\'], [\\'sadness\\',\\'surprise\\'], [\\'fear\\',\\'sadness\\'], [\\'fear\\',\\'sadness\\']]\"',\n",
       " '{\"emotions\": \"[[\\'surprise\\'], [\\'anger\\',\\'sadness\\'], [\\'fear\\',\\'sadness\\'], [\\'fear\\',\\'sadness\\'], [\\'fear\\',\\'sadness\\'], [\\'anger\\', \\'fear\\'], [\\'anger\\',\\'sadness\\'], [\\'anger\\',\\'sadness\\'], [\\'fear\\',\\'sadness\\'], [\\'surprise\\'], [\\'sadness\\', \\'joy\\'], [\\'sadness\\', \\'joy\\'], [\\'surprise\\'], [\\'joy\\',\\'sadness\\']]\"}',\n",
       " '{\"emotions\": \"[[\\'anger\\',\\'sadness\\'], [\\'sadness\\', \\'fear\\'], [\\'anger\\'], [\\'anger\\', \\'fear\\'], [\\'anger\\', \\'fear\\'], [\\'anger\\',\\'sadness\\'], [\\'anger\\', \\'fear\\'], [\\'anger\\',\\'sadness\\'], [\\'anger\\',\\'sadness\\'], [\\'anger\\',\\'surprise\\']]\"',\n",
       " '{\"emotions\": \"[[\\'anger\\',\\'surprise\\'], [\\'anger\\', \\'curiosity\\'], [\\'sadness\\', \\'fear\\'], [\\'anger\\',\\'sadness\\'], [\\'anger\\', \\'fear\\'], [\\'anger\\',\\'surprise\\'], [\\'anger\\', \\'fear\\'], [\\'anger\\',\\'surprise\\'], [\\'anger\\',\\'surprise\\'], [\\'anger\\', \\'fear\\'], [\\'anger\\', \\'curiosity\\'], [\\'anger\\',\\'surprise\\']]\"}\\n\\n(Note: I have considered the context and the emotions expressed in each utterance to arrive at the output. I have also considered the intensity markers and the sequential context from the surrounding utterances to classify the emotions accurately.)',\n",
       " '{\"emotions\": \"[[\\'anger\\', \\'fear\\'], [\\'anger\\', \\'fear\\'], [\\'anger\\', \\'fear\\'], [\\'anger\\', \\'fear\\'], [\\'anger\\', \\'fear\\'], [\\'anger\\', \\'fear\\'], [\\'anger\\', \\'fear\\'], [\\'anger\\', \\'fear\\'], [\\'anger\\', \\'fear\\'], [\\'anger\\', \\'fear\\'], [\\'anger\\',\\'surprise\\'], [\\'anger\\', \\'fear\\']]\"}',\n",
       " '{\"emotions\": \"[[\\'anger\\', \\'fear\\'], [\\'anger\\', \\'fear\\'], [\\'anger\\', \\'fear\\'], [\\'anger\\', \\'fear\\'], [\\'anger\\', \\'fear\\'], [\\'anger\\', \\'fear\\']]\"',\n",
       " '{\"emotions\": \"[[\\'surprise\\', \\'joy\\'], [\\'anger\\'], [\\'fear\\',\\'surprise\\'], [\\'fear\\',\\'sadness\\'], [\\'anger\\'], [\\'anger\\'], [\\'fear\\',\\'surprise\\'], [\\'fear\\'], [\\'fear\\', \\'anger\\'], [\\'anger\\'], [\\'fear\\',\\'sadness\\']]\"',\n",
       " '{\"emotions\": \"[[\\'joy\\',\\'sadness\\'], [\\'sadness\\'], [\\'sadness\\', \\'curiosity\\'], [\\'anger\\',\\'sadness\\'], [\\'sadness\\', \\'joy\\'], [\\'sadness\\', \\'joy\\'], [\\'sadness\\', \\'joy\\']]\"',\n",
       " '{\"emotions\": \"[[\\'sadness\\', \\'joy\\', \\'fear\\'], [\\'fear\\',\\'sadness\\', \\'joy\\'], [\\'sadness\\'], [\\'sadness\\'], [\\'sadness\\',\\'surprise\\'], [\\'sadness\\',\\'surprise\\'], [\\'sadness\\',\\'surprise\\'], [\\'anger\\',\\'sadness\\'], [\\'sadness\\', \\'joy\\']]\"',\n",
       " '{\"emotions\": \"[[\\'anger\\', \\'disgust\\'], [\\'anger\\', \\'disgust\\', \\'fear\\'], [\\'joy\\',\\'sadness\\'], [\\'anger\\',\\'sadness\\'], [\\'anger\\',\\'sadness\\'], [\\'sadness\\'], [\\'sadness\\'], [\\'sadness\\'], [\\'sadness\\'], [\\'anger\\']]\"',\n",
       " '{\"emotions\": \"[[\\'joy\\'], [\\'fear\\',\\'sadness\\'], [\\'anger\\'], [\\'fear\\',\\'sadness\\'], [\\'fear\\',\\'surprise\\'], [\\'fear\\',\\'sadness\\'], [\\'fear\\', \\'joy\\'], [\\'neutral\\']]\"',\n",
       " '{\"emotions\": \"[[\\'joy\\'], [\\'fear\\', \\'anger\\'], [\\'surprise\\', \\'fear\\'], [\\'fear\\',\\'surprise\\'], [\\'fear\\',\\'sadness\\'], [\\'fear\\',\\'sadness\\'], [\\'fear\\',\\'sadness\\'], [\\'fear\\',\\'sadness\\'], [\\'fear\\',\\'surprise\\']]\"',\n",
       " '{\"emotions\": \"[[\\'neutral\\'], [\\'anger\\', \\'joy\\'], [\\'anger\\', \\'fear\\']]\"}',\n",
       " '{\"emotions\": \"[[\\'fear\\',\\'surprise\\'], [\\'joy\\',\\'surprise\\']]\"}\\n\\nExplanation: \\n\\n1. \"WE HAVE A SITUATION AT THE EDGE, AT --AT THE PYRE…\" - This line expresses fear due to the uncertainty and danger implied by the term \"situation\" and the mention of a pyre, which often signifies intense heat or flames. The use of \"at\" twice may also contribute to surprise.\\n2. \"DANIEL ISN\\'T DYING.\" - This line primarily expresses joy due to the positive outcome of Daniel not dying.',\n",
       " '{\"emotions\": \"[[\\'anger\\', \\'fear\\'], [\\'sadness\\',\\'surprise\\'], [\\'sadness\\',\\'surprise\\'], [\\'fear\\',\\'sadness\\'], [\\'anger\\', \\'fear\\'], [\\'fear\\',\\'sadness\\']]\"',\n",
       " '{\"emotions\": \"[[\\'anger\\', \\'fear\\'], [\\'anger\\', \\'fear\\'], [\\'fear\\',\\'surprise\\'], [\\'fear\\', \\'joy\\'], [\\'anger\\'], [\\'anger\\', \\'fear\\',\\'surprise\\']]\"',\n",
       " '{\"emotions\": \"[[\\'fear\\',\\'surprise\\'], [\\'joy\\',\\'surprise\\'], [\\'anger\\'], [\\'anger\\',\\'sadness\\'], [\\'fear\\'], [\\'anger\\']]\"',\n",
       " '{\"emotions\": \"[[\\'surprise\\'], [\\'anger\\'], [\\'anger\\', \\'disgust\\'], [\\'anger\\', \\'disgust\\'], [\\'anger\\', \\'fear\\'], [\\'anger\\']]\"',\n",
       " '{\"emotions\": \"[[\\'anger\\'], [\\'surprise\\'], [\\'fear\\'], [\\'anger\\', \\'fear\\'], [\\'fear\\',\\'surprise\\'], [\\'fear\\', \\'joy\\']]\"',\n",
       " '{\"emotions\": \"[[\\'fear\\'], [\\'anger\\',\\'surprise\\'], [\\'anger\\', \\'fear\\'], [\\'anger\\'], [\\'anger\\',\\'surprise\\']]\"',\n",
       " '{\"emotions\": \"[[\\'fear\\',\\'sadness\\'], [\\'fear\\',\\'sadness\\'], [\\'fear\\',\\'surprise\\'], [\\'fear\\',\\'surprise\\'], [\\'fear\\', \\'anger\\'], [\\'anger\\']]\"',\n",
       " '{\"emotions\": \"[[\\'anger\\', \\'disgust\\'], [\\'anger\\', \\'fear\\'], [\\'surprise\\'], [\\'fear\\',\\'surprise\\']]\"}',\n",
       " '{\"emotions\": \"[[\\'neutral\\'], [\\'anger\\'], [\\'fear\\',\\'surprise\\'], [\\'fear\\',\\'surprise\\'], [\\'sadness\\',\\'surprise\\'], [\\'fear\\',\\'surprise\\'], [\\'fear\\',\\'surprise\\'], [\\'anger\\'], [\\'anger\\'], [\\'anger\\',\\'surprise\\'], [\\'anger\\',\\'surprise\\'], [\\'anger\\',\\'surprise\\'], [\\'anger\\',\\'surprise\\']]\"',\n",
       " '{\"emotions\": \"[[\\'joy\\',\\'surprise\\'], [\\'joy\\',\\'surprise\\'], [\\'neutral\\',\\'surprise\\'], [\\'neutral\\', \\'curiosity\\'], [\\'neutral\\', \\'curiosity\\'], [\\'fear\\',\\'surprise\\'], [\\'anger\\'], [\\'anger\\', \\'fear\\'], [\\'neutral\\', \\'joy\\']]\"',\n",
       " '{\"emotions\": \"[[\\'fear\\'], [\\'anger\\'], [\\'anger\\', \\'disgust\\'], [\\'anger\\',\\'sadness\\'], [\\'anger\\', \\'joy\\'], [\\'anger\\', \\'disgust\\']]\"',\n",
       " '{\"emotions\": \"[[\\'anger\\'], [\\'surprise\\'], [\\'fear\\',\\'surprise\\'], [\\'anger\\', \\'fear\\'], [\\'surprise\\', \\'joy\\'], [\\'sadness\\'], [\\'anger\\', \\'disgust\\', \\'fear\\'], [\\'anger\\', \\'disgust\\', \\'fear\\',\\'surprise\\'], [\\'anger\\', \\'fear\\'], [\\'anger\\', \\'disgust\\', \\'fear\\',\\'surprise\\'], [\\'anger\\', \\'disgust\\', \\'fear\\'], [\\'anger\\', \\'disgust\\', \\'fear\\'], [\\'anger\\',\\'surprise\\'], [\\'anger\\',\\'surprise\\'], [\\'anger\\', \\'joy\\'], [\\'anger\\', \\'joy\\']]\"',\n",
       " '{\"emotions\": \"[[\\'anger\\', \\'fear\\'], [\\'anger\\'], [\\'anger\\', \\'fear\\',\\'surprise\\'], [\\'anger\\', \\'fear\\'], [\\'joy\\'], [\\'fear\\',\\'surprise\\'], [\\'fear\\',\\'surprise\\'], [\\'fear\\', \\'joy\\'], [\\'fear\\', \\'joy\\'], [\\'fear\\',\\'surprise\\', \\'joy\\']]\"',\n",
       " '{\"emotions\": \"[[\\'joy\\'], [\\'neutral\\'], [\\'fear\\',\\'surprise\\'], [\\'curiosity\\'], [\\'fear\\'], [\\'joy\\'], [\\'joy\\',\\'surprise\\'], [\\'anger\\', \\'fear\\'], [\\'anger\\'], [\\'anger\\',\\'surprise\\']]\"',\n",
       " '{\"emotions\": \"[[\\'fear\\',\\'sadness\\'], [\\'surprise\\'], [\\'surprise\\', \\'fear\\'], [\\'surprise\\', \\'joy\\'], [\\'fear\\'], [\\'fear\\'], [\\'fear\\',\\'surprise\\'], [\\'anger\\', \\'fear\\'], [\\'anger\\',\\'sadness\\'], [\\'anger\\'], [\\'anger\\',\\'sadness\\'], [\\'anger\\',\\'sadness\\'], [\\'sadness\\', \\'joy\\'], [\\'surprise\\', \\'joy\\'], [\\'joy\\',\\'sadness\\']]\"',\n",
       " '{\"emotions\": \"[[\\'anger\\', \\'fear\\'], [\\'anger\\'], [\\'anger\\'], [\\'anger\\'], [\\'anger\\'], [\\'anger\\'], [\\'anger\\'], [\\'anger\\']]\"',\n",
       " '{\"emotions\": \"[[\\'anger\\'], [\\'neutral\\', \\'fear\\'], [\\'surprise\\'], [\\'neutral\\'], [\\'neutral\\'], [\\'surprise\\'], [\\'fear\\', \\'anger\\'], [\\'anger\\'], [\\'anger\\', \\'fear\\'], [\\'anger\\', \\'fear\\'], [\\'anger\\',\\'sadness\\']]\"',\n",
       " '{\"emotions\": \"[[\\'anger\\', \\'disgust\\'], [\\'neutral\\'], [\\'anger\\', \\'disgust\\'], [\\'anger\\'], [\\'anger\\',\\'surprise\\'], [\\'anger\\',\\'sadness\\'], [\\'surprise\\', \\'anger\\'], [\\'anger\\'], [\\'anger\\'], [\\'joy\\'], [\\'joy\\'], [\\'anger\\', \\'joy\\']]\"',\n",
       " '{\"emotions\": \"[[\\'neutral\\']]\"}']"
      ]
     },
     "execution_count": 160,
     "metadata": {},
     "output_type": "execute_result"
    }
   ],
   "source": [
    "generated_outputs"
   ]
  },
  {
   "cell_type": "code",
   "execution_count": 161,
   "metadata": {},
   "outputs": [],
   "source": [
    "import json_repair\n"
   ]
  },
  {
   "cell_type": "code",
   "execution_count": 162,
   "metadata": {},
   "outputs": [],
   "source": [
    "outputs_processed = [json_repair.loads(output) for output in generated_outputs]"
   ]
  },
  {
   "cell_type": "code",
   "execution_count": 163,
   "metadata": {},
   "outputs": [
    {
     "data": {
      "text/plain": [
       "156"
      ]
     },
     "execution_count": 163,
     "metadata": {},
     "output_type": "execute_result"
    }
   ],
   "source": [
    "len(outputs_processed)"
   ]
  },
  {
   "cell_type": "code",
   "execution_count": 164,
   "metadata": {},
   "outputs": [
    {
     "data": {
      "text/plain": [
       "[{'emotions': \"[['joy'], ['neutral'], ['joy'], ['neutral'], ['neutral'], ['joy'], ['fear', 'joy'], ['neutral'], ['joy'], ['joy']]\"},\n",
       " {'emotions': \"[['joy'], ['anger','sadness'], ['anger', 'fear'], ['anger','surprise'], ['sadness', 'joy'], ['anger', 'fear'], ['anger','sadness'], ['anger', 'joy']]\"},\n",
       " {'emotions': \"[['anger', 'fear', 'joy'], ['anger', 'fear'], ['anger', 'fear'], ['fear','surprise'], ['fear'], ['fear'], ['fear', 'joy'], ['fear', 'anger'], ['fear','sadness'], ['anger','surprise'], ['anger','sadness'], ['anger', 'joy'], ['anger','sadness'], ['neutral'], ['joy', 'anger']]\"},\n",
       " {'emotions': \"[['anger', 'anger'], ['anger'], ['anger'], ['anger','sadness', 'joy'], ['anger','sadness'], ['anger'], ['anger'], ['anger'], ['anger'], ['anger', 'anger'], ['anger', 'anger'], ['anger', 'anger'], ['anger'], ['anger'], ['anger', 'anger'], ['anger', 'anger'], ['anger', 'anger'], ['anger'], ['anger', 'anger'], ['anger']]\"},\n",
       " {'emotions': \"[['fear','sadness'], ['joy'], ['joy']]\"},\n",
       " {'emotions': \"[['neutral'], ['anger', 'fear'], ['fear','surprise'], ['fear','sadness'], ['fear','surprise'], ['anger', 'joy'], ['fear', 'joy'], ['fear','surprise'], ['anger', 'joy'], ['anger','surprise'], ['fear','surprise'], ['anger', 'joy'], ['anger', 'joy'], ['anger', 'joy'], ['anger', 'joy'], ['anger', 'joy'], ['anger', 'joy'], ['anger','surprise'], ['anger', 'joy']]\"},\n",
       " {'emotions': \"[['anger', 'fear'], ['anger', 'fear'], ['anger', 'fear'], ['anger', 'fear'], ['anger', 'disgust'], ['anger', 'disgust'], ['anger', 'disgust'], ['anger', 'fear'], ['anger', 'fear'], ['anger', 'disgust'], ['fear','surprise'], ['fear','surprise'], ['anger', 'fear'], ['anger', 'fear'], ['anger', 'joy']]\"},\n",
       " {'emotions': \"[['neutral', 'joy'], ['fear'], ['anger'], ['sadness'], ['joy'], ['anger'], ['anger'], ['anger'], ['anger', 'disgust'], ['anger', 'disgust'], ['anger', 'disgust'], ['anger', 'disgust'], ['anger', 'disgust'], ['anger', 'disgust'], ['anger', 'disgust']]\"},\n",
       " {'emotions': \"[['joy','surprise'], ['surprise'], ['joy','surprise'], ['surprise', 'joy'], ['joy','sadness', 'anger'], ['fear','surprise'], ['anger', 'fear','surprise'], ['anger', 'fear','surprise'], ['anger', 'fear'], ['anger', 'fear'], ['anger', 'fear','surprise']]\"},\n",
       " {'emotions': \"[['joy'], ['anger','surprise'], ['joy','sadness'], ['joy'], ['neutral'], ['neutral'], ['anger', 'joy'], ['joy'], ['anger','surprise'], ['neutral', 'anger'], ['anger','sadness']]\"},\n",
       " {'emotions': \"[['joy','surprise'], ['fear','sadness'], ['fear','surprise'], ['anger', 'fear'], ['fear','surprise'], ['fear', 'disgust'], ['fear', 'disgust'], ['fear','sadness'], ['anger', 'fear','sadness'], ['anger', 'fear','sadness'], ['anger','sadness', 'fear'], ['anger','sadness', 'fear'], ['fear','sadness','surprise'], ['fear','sadness','surprise'], ['anger', 'fear','sadness','surprise'], ['anger', 'fear','sadness','surprise']]\"},\n",
       " {'emotions': \"[['joy'], ['joy'], ['anger', 'fear'], ['anger', 'fear']]\"},\n",
       " {'emotions': \"[['neutral'], ['surprise', 'joy'], ['neutral'], ['anger'], ['sadness'], ['joy'], ['surprise'], ['neutral'], ['anger'], ['neutral'], ['anger'], ['joy'], ['neutral']]\"},\n",
       " {'emotions': \"[['fear','surprise'], ['joy','surprise'], ['joy','surprise'], ['joy'], ['neutral'], ['anger','sadness'], ['anger','sadness'], ['sadness', 'joy'], ['surprise', 'joy'], ['sadness']]\"},\n",
       " {'emotions': \"[['fear','surprise'], ['anger', 'fear'], ['anger', 'fear'], ['anger', 'fear'], ['anger', 'fear'], ['anger', 'fear'], ['anger', 'fear'], ['anger', 'fear'], ['anger', 'fear'], ['anger', 'fear'], ['anger', 'fear'], ['anger', 'fear'], ['anger', 'fear'], ['anger', 'fear'], ['anger', 'fear'], ['anger', 'fear'], ['anger', 'fear'], ['anger', 'fear'], ['anger', 'fear'], ['anger', 'fear'], ['anger', 'fear']]\"},\n",
       " {'emotions': \"[['surprise', 'joy'], ['joy'], ['anger', 'joy'], ['joy','surprise'], ['joy','surprise'], ['joy','surprise'], ['neutral'], ['neutral'], ['surprise', 'joy'], ['anger', 'joy'], ['neutral'], ['fear','surprise'], ['neutral'], ['joy','surprise'], ['joy','surprise'], ['joy','surprise'], ['neutral'], ['joy','surprise'], ['anger', 'joy'], ['joy','surprise'], ['joy','surprise'], ['joy','surprise']]\"},\n",
       " {'emotions': \"[['joy','sadness'], ['anger', 'fear'], ['anger', 'disgust'], ['anger', 'joy'], ['anger', 'fear'], ['anger','surprise'], ['anger', 'disgust'], ['fear','surprise'], ['anger', 'fear','surprise'], ['anger', 'fear','surprise'], ['anger', 'fear'], ['anger', 'disgust'], ['anger', 'fear'], ['anger', 'fear']]\"},\n",
       " {'emotions': \"[['joy'], ['surprise', 'joy'], ['joy', 'anger'], ['anger'], ['anger'], ['anger'], ['anger', 'disgust'], ['sadness'], ['sadness'], ['anger'], ['anger', 'joy'], ['surprise'], ['anger', 'joy']]\"},\n",
       " {'emotions': \"[['joy'], ['joy','surprise'], ['anger'], ['sadness'], ['surprise'], ['joy'], ['joy'], ['anger'], ['sadness'], ['surprise'], ['joy'], ['joy'], ['anger', 'fear'], ['anger']]\"},\n",
       " {'emotions': \"[['neutral', 'joy'], ['fear', 'anger','surprise'], ['sadness', 'anger', 'fear'], ['sadness', 'anger'], ['sadness', 'anger'], ['sadness', 'anger', 'fear'], ['surprise', 'fear'], ['surprise', 'fear', 'anger'], ['anger', 'fear','surprise'], ['anger', 'fear','surprise'], ['anger', 'fear','surprise'], ['fear', 'anger'], ['fear', 'anger'], ['fear', 'anger','surprise']]\"},\n",
       " {'emotions': \"[['sadness', 'anger'], ['anger','surprise'], ['anger','surprise'], ['sadness', 'anger'], ['sadness', 'anger'], ['fear', 'confusion'], ['sadness'], ['anger','surprise'], ['joy'], ['anger', 'fear']]\"},\n",
       " {'emotions': \"[['joy','surprise'], ['surprise', 'joy'], ['fear'], ['fear','surprise'], ['fear'], ['neutral'], ['fear'], ['joy'], ['surprise'], ['anger','surprise'], ['anger','surprise'], ['anger','surprise']]\"},\n",
       " {'emotions': \"[['joy'], ['joy'], ['joy','surprise'], ['fear'], ['joy'], ['joy','surprise'], ['joy','surprise'], ['joy','surprise'], ['joy','surprise'], ['fear'], ['fear','surprise']]\"},\n",
       " {'emotions': \"[['surprise', 'joy'], ['fear'], ['sadness', 'joy'], ['fear'], ['surprise', 'joy'], ['joy', 'anger'], ['joy', 'fear'], ['neutral', 'joy'], ['neutral', 'joy'], ['fear']]\"},\n",
       " {'emotions': \"[['surprise', 'fear'], ['anger', 'fear'], ['fear','surprise'], ['neutral'], ['neutral'], ['neutral'], ['neutral'], ['fear','surprise'], ['anger', 'fear'], ['surprise'], ['fear', 'anger'], ['fear','surprise']]\"},\n",
       " {'emotions': \"[['anger'], ['fear'], ['concern'], ['fear','surprise'], ['sadness','surprise', 'fear'], ['sadness', 'fear'], ['fear'], ['fear'], ['anger'], ['neutral'], ['sadness'], ['sadness','shame'], ['anger']]\"},\n",
       " {'emotions': \"[['sadness', 'joy'], ['neutral','surprise'], ['disgust', 'fear'], ['love', 'joy'], ['fear', 'anger'], ['anger', 'fear'], ['neutral', 'joy'], ['surprise', 'fear'], ['joy'], ['joy','surprise'], ['sadness', 'anger'], ['anger', 'fear'], ['anger', 'fear']]\"},\n",
       " {'emotions': \"[['fear', 'joy'], ['joy'], ['fear','surprise'], ['sadness','surprise'], ['anger', 'fear'], ['surprise', 'fear'], ['surprise', 'fear'], ['sadness','surprise'], ['anger', 'fear'], ['fear','surprise'], ['sadness', 'fear'], ['surprise'], ['fear','surprise'], ['anger', 'fear'], ['fear'], ['fear'], ['fear'], ['fear'], ['fear']]\"},\n",
       " {'emotions': \"[['anger'], ['fear'], ['fear', 'anger'], ['anger'], ['fear', 'anger'], ['anger','surprise']]\"},\n",
       " {'emotions': \"[['anger'], ['anger', 'fear'], ['anger', 'disgust'], ['anger', 'fear']]\"},\n",
       " {'emotions': \"[['joy'], ['anger'], ['anger'], ['anger'], ['anger', 'fear'], ['anger', 'fear','sadness']]\"},\n",
       " {'emotions': \"[['surprise'], ['fear','surprise'], ['fear','sadness'], ['fear','sadness'], ['joy','sadness'], ['curiosity', 'fear'], ['curiosity', 'fear']]\"},\n",
       " {'emotions': \"[['surprise'], ['joy'], ['joy','surprise'], ['joy','surprise'], ['anger'], ['neutral'], ['fear','surprise'], ['fear', 'anger'], ['anger','surprise']]\"},\n",
       " {'emotions': \"[['sadness', 'fear'], ['fear', 'curiosity'], ['anger'], ['anger', 'fear'], ['anger', 'fear'], ['anger', 'fear'], ['anger', 'fear'], ['anger', 'disgust'], ['fear', 'anger'], ['anger', 'joy', 'disgust']]\"},\n",
       " {'emotions': \"[['fear','surprise'], ['surprise'], ['fear'], ['joy'], ['anger', 'fear'], ['anger'], ['anger', 'fear'], ['anger'], ['fear','surprise'], ['sadness','surprise']]\"},\n",
       " {'emotions': \"[['anger', 'disgust'], ['joy','surprise'], ['anger', 'fear'], ['anger', 'disgust'], ['anger', 'disgust'], ['anger', 'fear'], ['fear','surprise'], ['anger','sadness'], ['anger', 'joy']]\"},\n",
       " {'emotions': \"[['joy'], ['fear','surprise'], ['gratitude'], ['curiosity'], ['curiosity'], ['anger', 'disgust'], ['anger', 'disgust'], ['fear','surprise'], ['fear', 'curiosity'], ['fear','surprise'], ['curiosity'], ['anger', 'disgust'], ['anger', 'disgust'], ['anger', 'disgust'], ['anger', 'disgust'], ['anger', 'disgust'], ['anger', 'disgust']]\"},\n",
       " {'emotions': \"[['anger', 'fear'], ['fear', 'joy'], ['anger'], ['fear'], ['fear']]\"},\n",
       " {'emotions': \"[['anger', 'fear','surprise']]\"},\n",
       " {'emotions': \"[['anger','surprise'], ['anger', 'fear','surprise']]\"},\n",
       " {'emotions': \"[['anger', 'disgust'], ['anger', 'fear','surprise'], ['anger', 'fear','surprise'], ['anger', 'fear','surprise'], ['fear','surprise','sadness'], ['anger', 'fear']]\"},\n",
       " {'emotions': \"[['anger', 'fear'], ['neutral'], ['fear', 'joy'], ['neutral'], ['anger', 'anger']]\"},\n",
       " {'emotions': \"[['anger','surprise'], ['surprise', 'fear']]\"},\n",
       " {'emotions': \"[['anger'], ['joy','surprise'], ['anger'], ['anger','sadness'], ['anger'], ['anger','surprise'], ['anger'], ['anger']]\"},\n",
       " {'emotions': \"[['joy', 'anger'], ['anger', 'anger'], ['surprise'], ['anger'], ['joy','surprise'], ['joy','surprise'], ['anger'], ['joy']]\"},\n",
       " {'emotions': \"[['joy'], ['fear','sadness'], ['fear','surprise'], ['fear', 'anger','surprise'], ['anger', 'fear'], ['anger', 'fear'], ['anger','surprise'], ['neutral'], ['neutral','sadness'], ['sadness', 'joy'], ['fear','surprise'], ['joy','surprise'], ['fear','sadness','surprise'], ['fear','sadness']]\"},\n",
       " {'emotions': \"[['sadness', 'anger'], ['anger', 'joy'], ['anger', 'joy'], ['anger'], ['anger', 'fear'], ['fear', 'anger'], ['fear'], ['fear'], ['anger','surprise'], ['anger', 'joy']]\"},\n",
       " {'emotions': \"[['sadness','surprise'], ['fear', 'anger'], ['surprise', 'fear'], ['anger','sadness']]\"},\n",
       " {'emotions': \"[['anger', 'fear'], ['surprise', 'fear']]\"},\n",
       " {'emotions': \"[['fear','surprise'], ['anger', 'fear'], ['fear', 'anger'], ['fear', 'anger'], ['surprise'], ['fear','surprise'], ['fear','surprise'], ['fear','surprise'], ['fear','surprise'], ['fear','surprise', 'anger']]\"},\n",
       " {'emotions': \"[['anger'], ['neutral'], ['joy']]\"},\n",
       " {'emotions': \"[['anger'], ['disgust'], ['fear','sadness'], ['sadness', 'anger'], ['fear','surprise'], ['anger', 'fear'], ['anger', 'disgust'], ['anger', 'disgust']]\"},\n",
       " {'emotions': \"[['surprise'], ['joy','surprise'], ['joy','surprise'], ['joy','surprise'], ['neutral','surprise'], ['fear', 'anger'], ['anger', 'fear'], ['anger', 'fear','sadness'], ['anger', 'disgust', 'fear'], ['joy','surprise'], ['fear','surprise']]\"},\n",
       " {'emotions': \"[['fear','sadness'], ['anger'], ['joy']]\"},\n",
       " {'emotions': \"[['surprise', 'joy'], ['fear','sadness','surprise'], ['joy','surprise'], ['joy','surprise'], ['joy','sadness'], ['sadness', 'fear'], ['joy','sadness']]\"},\n",
       " {'emotions': \"[['fear','surprise'], ['joy','surprise'], ['surprise'], ['anger','sadness'], ['fear','surprise'], ['sadness', 'joy'], ['surprise','sadness'], ['anger','surprise'], ['sadness']]\"},\n",
       " {'emotions': \"[['sadness', 'joy'], ['surprise', 'joy'], ['joy'], ['anger'], ['anger'], ['anger', 'joy'], ['neutral'], ['anger', 'joy']]\"},\n",
       " {'emotions': \"[['sadness','sadness'], ['joy'], ['joy'], ['joy', 'joy']]\"},\n",
       " {'emotions': \"[['anger','surprise'], ['joy','surprise'], ['joy','surprise'], ['anger', 'joy'], ['anger','sadness'], ['anger','sadness'], ['anger','sadness']]\"},\n",
       " {'emotions': \"[['joy','surprise'], ['anger','surprise'], ['joy','surprise'], ['joy','surprise'], ['anger','sadness'], ['anger','surprise'], ['sadness','surprise']]\"},\n",
       " {'emotions': \"[['joy'], ['joy','sadness'], ['joy','sadness'], ['sadness', 'fear']]\"},\n",
       " {'emotions': \"[['sadness'], ['anger'], ['fear','sadness'], ['sadness', 'joy']]\"},\n",
       " {'emotions': \"[['joy','sadness'], ['anger'], ['sadness'], ['sadness', 'anger'], ['fear', 'joy'], ['joy','sadness'], ['joy'], ['joy'], ['joy']]\"},\n",
       " {'emotions': \"[['sadness','surprise'], ['joy'], ['joy'], ['joy'], ['joy'], ['joy'], ['anger','sadness']]\"},\n",
       " {'emotions': \"[['anger', 'fear'], ['surprise', 'fear'], ['surprise', 'joy'], ['sadness','surprise'], ['sadness','surprise'], ['anger','surprise'], ['anger','surprise']]\"},\n",
       " {'emotions': \"[['surprise'], ['joy'], ['joy','surprise'], ['anger','surprise'], ['sadness', 'anger'], ['anger','surprise'], ['anger'], ['anger', 'fear'], ['anger']]\"},\n",
       " {'emotions': \"[['anger'], ['fear','surprise'], ['fear']]\"},\n",
       " {'emotions': \"[['joy', 'neutral'], ['joy'], ['anger'], ['fear','sadness'], ['sadness'], ['surprise', 'joy'], ['fear'], ['joy','sadness'], ['joy','sadness']]\"},\n",
       " {'emotions': \"[['joy','sadness'], ['anger','sadness'], ['neutral', 'anger','sadness'], ['fear','sadness']]\"},\n",
       " {'emotions': \"[['joy','surprise'], ['joy','sadness'], ['joy'], ['anger', 'joy'], ['anger', 'joy','surprise']]\"},\n",
       " {'emotions': \"[['joy','surprise'], ['neutral', 'fear']]\"},\n",
       " {'emotions': \"[['joy', 'neutral'], ['fear'], ['neutral'], ['neutral'], ['anger', 'disgust'], ['fear','sadness'], ['fear','sadness']]\"},\n",
       " {'emotions': \"[['disgust', 'anger'], ['disgust', 'anger','sadness'], ['sadness', 'joy'], ['sadness', 'joy'], ['fear','sadness']]\"},\n",
       " {'emotions': \"[['fear','surprise'], ['anger', 'fear'], ['joy','surprise'], ['surprise'], ['joy','surprise'], ['fear','sadness']]\"},\n",
       " {'emotions': \"[['surprise', 'joy'], ['anger', 'fear']]\"},\n",
       " {'emotions': \"[['joy'], ['anger', 'fear']]\"},\n",
       " {'emotions': \"[['anger', 'disgust'], ['anger','sadness'], ['anger', 'fear'], ['neutral'], ['neutral'], ['neutral'], ['neutral'], ['neutral']]\"},\n",
       " {'emotions': \"[['sadness'], ['fear'], ['fear','surprise'], ['surprise'], ['surprise', 'joy'], ['sadness'], ['sadness', 'fear']]\"},\n",
       " {'emotions': \"[['anger'], ['anger', 'fear']]\"},\n",
       " {'emotions': \"[['anger'], ['surprise'], ['anger'], ['anger'], ['fear'], ['anger'], ['anger'], ['anger']]\"},\n",
       " {'emotions': \"[['anger','sadness'], ['fear','sadness'], ['fear','sadness'], ['fear','sadness'], ['neutral'], ['neutral'], ['sadness','surprise'], ['fear','sadness'], ['anger','sadness']]\"},\n",
       " {'emotions': \"[['joy'], ['anger','surprise'], ['surprise'], ['anger'], ['anger','surprise'], ['anger','surprise'], ['anger','surprise'], ['anger','surprise'], ['anger','sadness'], ['anger','sadness'], ['anger', 'fear'], ['anger','surprise']]\"},\n",
       " {'emotions': \"[['sadness'], ['sadness', 'anger'], ['joy','surprise'], ['fear','sadness'], ['fear'], ['neutral'], ['anger'], ['anger'], ['neutral'], ['surprise']]\"},\n",
       " {'emotions': \"[['anger','surprise'], ['anger', 'fear'], ['fear','surprise', 'joy'], ['anger','sadness', 'fear'], ['anger', 'fear'], ['anger', 'fear'], ['anger', 'fear'], ['anger','sadness'], ['anger', 'disgust']]\"},\n",
       " {'emotions': \"[['anger','surprise'], ['anger', 'fear'], ['anger'], ['joy'], ['joy'], ['joy'], ['joy'], ['anger','surprise'], ['anger'], ['anger', 'disgust'], ['anger', 'fear','surprise'], ['anger', 'fear','surprise'], ['anger', 'disgust'], ['anger', 'disgust'], ['anger', 'disgust']]\"},\n",
       " {'emotions': \"[['neutral'], ['anger'], ['anger'], ['anger', 'disgust'], ['anger','sadness'], ['neutral'], ['neutral'], ['neutral'], ['anger'], ['fear'], ['anger'], ['anger', 'fear'], ['neutral']]\"},\n",
       " {'emotions': \"[['sadness', 'joy'], ['fear','surprise'], ['fear','surprise'], ['anger','surprise'], ['fear','surprise'], ['fear','surprise'], ['anger', 'fear'], ['fear','sadness'], ['fear','surprise']]\"},\n",
       " {'emotions': \"[['anger'], ['surprise'], ['surprise'], ['anger'], ['joy'], ['joy'], ['neutral'], ['anger'], ['anger'], ['anger'], ['surprise'], ['anger'], ['anger'], ['anger'], ['anger', 'joy'], ['surprise']]\"},\n",
       " {'emotions': \"[['anger', 'fear'], ['anger', 'disgust'], ['neutral'], ['neutral'], ['joy','surprise'], ['neutral'], ['fear','surprise'], ['fear','surprise'], ['joy','surprise'], ['joy','surprise']]\"},\n",
       " {'emotions': \"[['joy','surprise']]\"},\n",
       " {'emotions': \"[['surprise', 'joy'], ['anger', 'fear']]\"},\n",
       " {'emotions': \"[['anger', 'joy'], ['neutral'], ['sadness'], ['anger'], ['fear','surprise'], ['anger','sadness'], ['anger','sadness'], ['anger', 'joy'], ['fear','surprise']]\"},\n",
       " {'emotions': \"[['joy'], ['surprise'], ['anger','surprise'], ['anger', 'disgust'], ['anger'], ['surprise', 'joy'], ['neutral', 'joy'], ['fear','sadness']]\"},\n",
       " {'emotions': \"[['neutral'], ['fear'], ['fear', 'neutral']]\"},\n",
       " {'emotions': \"[['fear'], ['joy','surprise'], ['joy','surprise'], ['joy','surprise'], ['fear','surprise'], ['neutral']]\"},\n",
       " {'emotions': \"[['anger'], ['anger', 'fear'], ['sadness', 'anger'], ['sadness', 'joy']]\"},\n",
       " {'emotions': \"[['sadness']]\"},\n",
       " {'emotions': \"[['fear','surprise'], ['neutral', 'fear'], ['fear', 'neutral'], ['neutral', 'fear'], ['fear','surprise'], ['neutral', 'fear'], ['neutral', 'fear'], ['anger'], ['fear','surprise'], ['fear']]\"},\n",
       " {'emotions': \"[['fear','surprise'], ['anger','surprise'], ['fear','surprise'], ['fear','surprise', 'joy'], ['fear','surprise'], ['fear','sadness','surprise'], ['fear','sadness','surprise'], ['fear','sadness','surprise'], ['fear','sadness','surprise']]\"},\n",
       " {'emotions': \"[['joy','surprise'], ['anger', 'disgust'], ['curiosity'], ['joy', 'optimism'], ['anger','sadness'], ['joy'], ['joy'], ['joy'], ['joy'], ['joy'], ['anger','surprise'], ['neutral'], ['anger', 'disgust']]\"},\n",
       " {'emotions': \"[['joy'], ['surprise', 'fear', 'anger'], ['surprise', 'joy']]\"},\n",
       " {'emotions': \"[['surprise', 'curiosity'], ['surprise', 'fear'], ['surprise'], ['neutral'], ['curiosity'], ['fear', 'disgust'], ['anger', 'fear']]\"},\n",
       " {'emotions': \"[['neutral'], ['surprise', 'disgust']]\"},\n",
       " {'emotions': \"[['anger', 'fear'], ['fear','sadness','surprise'], ['sadness','surprise'], ['surprise', 'anger'], ['fear','surprise'], ['fear','sadness'], ['fear','sadness','surprise'], ['fear','surprise'], ['fear', 'anger','surprise'], ['anger', 'fear','surprise'], ['anger', 'fear']]\"},\n",
       " {'emotions': \"[['fear','surprise'], ['fear', 'joy'], ['fear','surprise'], ['fear', 'disgust'], ['fear', 'anger','surprise'], ['fear','sadness'], ['fear','sadness'], ['fear','sadness']]\"},\n",
       " {'emotions': \"[['fear'], ['fear','sadness'], ['fear', 'anger'], ['surprise', 'fear'], ['surprise', 'anger'], ['anger','surprise']]\"},\n",
       " {'emotions': \"[['fear','surprise'], ['fear', 'joy'], ['anger','sadness'], ['fear','sadness','surprise'], ['fear','sadness']]\"},\n",
       " {'emotions': \"[['sadness'], ['anger','surprise'], ['anger'], ['fear','surprise'], ['anger','surprise'], ['anger', 'fear'], ['anger', 'fear','sadness'], ['fear','sadness']]\"},\n",
       " {'emotions': \"[['fear','sadness'], ['anger', 'fear','sadness'], ['anger', 'fear', 'disgust'], ['fear', 'anger', 'disgust'], ['anger', 'disgust'], ['anger', 'disgust'], ['anger','sadness']]\"},\n",
       " {'emotions': \"[['sadness', 'anger'], ['anger', 'disgust'], ['anger','sadness'], ['sadness', 'fear'], ['fear','sadness']]\"},\n",
       " {'emotions': \"[['anger', 'joy'], ['sadness', 'fear'], ['fear','sadness'], ['anger', 'fear'], ['anger', 'joy'], ['anger','surprise']]\"},\n",
       " {'emotions': \"[['joy','surprise']]\"},\n",
       " {'emotions': \"[['anger', 'fear'], ['anger', 'fear'], ['anger', 'fear','surprise'], ['fear','surprise'], ['anger', 'fear'], ['anger', 'fear']]\"},\n",
       " {'emotions': \"[['anger']]\"},\n",
       " {'emotions': \"[['sadness', 'neutral'], ['neutral'], ['sadness', 'joy','surprise']]\"},\n",
       " {'emotions': \"[['sadness', 'fear'], ['fear','sadness'], ['anger','sadness'], ['anger', 'fear'], ['fear','sadness'], ['anger', 'fear'], ['fear','sadness'], ['anger', 'fear'], ['anger', 'fear'], ['anger', 'fear'], ['anger', 'fear'], ['fear','sadness'], ['anger', 'fear']]\"},\n",
       " {'emotions': \"[['anger','sadness'], ['sadness', 'fear'], ['sadness', 'fear'], ['sadness', 'fear'], ['sadness', 'fear'], ['sadness', 'fear', 'joy'], ['sadness', 'fear', 'joy'], ['sadness', 'fear', 'joy'], ['sadness', 'fear', 'joy']]\"},\n",
       " {'emotions': \"[['sadness', 'fear'], ['neutral'], ['fear'], ['fear','sadness'], ['fear', 'anger','surprise'], ['fear','sadness'], ['anger', 'fear','surprise'], ['sadness', 'fear'], ['fear','sadness']]\"},\n",
       " {'emotions': \"[['sadness', 'fear'], ['sadness', 'fear'], ['anger', 'fear','sadness'], ['anger','sadness'], ['anger', 'fear','sadness'], ['anger', 'fear','sadness'], ['anger','sadness', 'fear'], ['anger','sadness', 'fear'], ['anger','sadness'], ['anger', 'fear','sadness'], ['anger', 'fear','sadness']]\"},\n",
       " {'emotions': \"[['joy'], ['sadness'], ['sadness', 'fear'], ['anger', 'fear'], ['anger'], ['fear','surprise'], ['anger', 'fear'], ['anger', 'fear'], ['anger','surprise'], ['anger'], ['anger'], ['fear','surprise'], ['fear','surprise']]\"},\n",
       " {'emotions': \"[['anger','sadness'], ['sadness', 'fear'], ['anger', 'fear'], ['anger','sadness'], ['sadness'], ['sadness'], ['sadness'], ['fear','sadness'], ['sadness', 'fear'], ['sadness', 'fear'], ['anger','sadness'], ['anger','sadness'], ['anger','sadness'], ['anger','sadness'], ['anger','sadness'], ['sadness', 'fear'], ['sadness', 'fear'], ['anger','sadness']]\"},\n",
       " {'emotions': \"[['anger', 'fear'], ['fear','sadness'], ['fear','sadness'], ['surprise'], ['fear'], ['sadness'], ['surprise'], ['anger', 'fear'], ['fear','sadness'], ['fear','sadness'], ['fear','sadness'], ['anger', 'fear'], ['fear','surprise'], ['fear','surprise'], ['sadness'], ['fear','sadness'], ['fear','sadness'], ['fear','sadness']]\"},\n",
       " {'emotions': \"[['surprise', 'joy'], ['sadness', 'joy'], ['joy', 'anger'], ['joy', 'fear'], ['joy', 'fear'], ['fear','sadness'], ['fear','sadness'], ['fear','sadness'], ['anger','sadness'], ['sadness'], ['sadness'], ['anger','sadness'], ['fear','sadness']]\"},\n",
       " {'emotions': \"[['anger', 'fear'], ['fear','sadness'], ['anger', 'fear','sadness'], ['anger','sadness'], ['anger', 'fear'], ['anger','sadness'], ['fear','sadness'], ['fear','sadness'], ['sadness','surprise'], ['fear','sadness'], ['fear','sadness']]\"},\n",
       " {'emotions': \"[['surprise'], ['anger','sadness'], ['fear','sadness'], ['fear','sadness'], ['fear','sadness'], ['anger', 'fear'], ['anger','sadness'], ['anger','sadness'], ['fear','sadness'], ['surprise'], ['sadness', 'joy'], ['sadness', 'joy'], ['surprise'], ['joy','sadness']]\"},\n",
       " {'emotions': \"[['anger','sadness'], ['sadness', 'fear'], ['anger'], ['anger', 'fear'], ['anger', 'fear'], ['anger','sadness'], ['anger', 'fear'], ['anger','sadness'], ['anger','sadness'], ['anger','surprise']]\"},\n",
       " {'emotions': \"[['anger','surprise'], ['anger', 'curiosity'], ['sadness', 'fear'], ['anger','sadness'], ['anger', 'fear'], ['anger','surprise'], ['anger', 'fear'], ['anger','surprise'], ['anger','surprise'], ['anger', 'fear'], ['anger', 'curiosity'], ['anger','surprise']]\"},\n",
       " {'emotions': \"[['anger', 'fear'], ['anger', 'fear'], ['anger', 'fear'], ['anger', 'fear'], ['anger', 'fear'], ['anger', 'fear'], ['anger', 'fear'], ['anger', 'fear'], ['anger', 'fear'], ['anger', 'fear'], ['anger','surprise'], ['anger', 'fear']]\"},\n",
       " {'emotions': \"[['anger', 'fear'], ['anger', 'fear'], ['anger', 'fear'], ['anger', 'fear'], ['anger', 'fear'], ['anger', 'fear']]\"},\n",
       " {'emotions': \"[['surprise', 'joy'], ['anger'], ['fear','surprise'], ['fear','sadness'], ['anger'], ['anger'], ['fear','surprise'], ['fear'], ['fear', 'anger'], ['anger'], ['fear','sadness']]\"},\n",
       " {'emotions': \"[['joy','sadness'], ['sadness'], ['sadness', 'curiosity'], ['anger','sadness'], ['sadness', 'joy'], ['sadness', 'joy'], ['sadness', 'joy']]\"},\n",
       " {'emotions': \"[['sadness', 'joy', 'fear'], ['fear','sadness', 'joy'], ['sadness'], ['sadness'], ['sadness','surprise'], ['sadness','surprise'], ['sadness','surprise'], ['anger','sadness'], ['sadness', 'joy']]\"},\n",
       " {'emotions': \"[['anger', 'disgust'], ['anger', 'disgust', 'fear'], ['joy','sadness'], ['anger','sadness'], ['anger','sadness'], ['sadness'], ['sadness'], ['sadness'], ['sadness'], ['anger']]\"},\n",
       " {'emotions': \"[['joy'], ['fear','sadness'], ['anger'], ['fear','sadness'], ['fear','surprise'], ['fear','sadness'], ['fear', 'joy'], ['neutral']]\"},\n",
       " {'emotions': \"[['joy'], ['fear', 'anger'], ['surprise', 'fear'], ['fear','surprise'], ['fear','sadness'], ['fear','sadness'], ['fear','sadness'], ['fear','sadness'], ['fear','surprise']]\"},\n",
       " {'emotions': \"[['neutral'], ['anger', 'joy'], ['anger', 'fear']]\"},\n",
       " {'emotions': \"[['fear','surprise'], ['joy','surprise']]\"},\n",
       " {'emotions': \"[['anger', 'fear'], ['sadness','surprise'], ['sadness','surprise'], ['fear','sadness'], ['anger', 'fear'], ['fear','sadness']]\"},\n",
       " {'emotions': \"[['anger', 'fear'], ['anger', 'fear'], ['fear','surprise'], ['fear', 'joy'], ['anger'], ['anger', 'fear','surprise']]\"},\n",
       " {'emotions': \"[['fear','surprise'], ['joy','surprise'], ['anger'], ['anger','sadness'], ['fear'], ['anger']]\"},\n",
       " {'emotions': \"[['surprise'], ['anger'], ['anger', 'disgust'], ['anger', 'disgust'], ['anger', 'fear'], ['anger']]\"},\n",
       " {'emotions': \"[['anger'], ['surprise'], ['fear'], ['anger', 'fear'], ['fear','surprise'], ['fear', 'joy']]\"},\n",
       " {'emotions': \"[['fear'], ['anger','surprise'], ['anger', 'fear'], ['anger'], ['anger','surprise']]\"},\n",
       " {'emotions': \"[['fear','sadness'], ['fear','sadness'], ['fear','surprise'], ['fear','surprise'], ['fear', 'anger'], ['anger']]\"},\n",
       " {'emotions': \"[['anger', 'disgust'], ['anger', 'fear'], ['surprise'], ['fear','surprise']]\"},\n",
       " {'emotions': \"[['neutral'], ['anger'], ['fear','surprise'], ['fear','surprise'], ['sadness','surprise'], ['fear','surprise'], ['fear','surprise'], ['anger'], ['anger'], ['anger','surprise'], ['anger','surprise'], ['anger','surprise'], ['anger','surprise']]\"},\n",
       " {'emotions': \"[['joy','surprise'], ['joy','surprise'], ['neutral','surprise'], ['neutral', 'curiosity'], ['neutral', 'curiosity'], ['fear','surprise'], ['anger'], ['anger', 'fear'], ['neutral', 'joy']]\"},\n",
       " {'emotions': \"[['fear'], ['anger'], ['anger', 'disgust'], ['anger','sadness'], ['anger', 'joy'], ['anger', 'disgust']]\"},\n",
       " {'emotions': \"[['anger'], ['surprise'], ['fear','surprise'], ['anger', 'fear'], ['surprise', 'joy'], ['sadness'], ['anger', 'disgust', 'fear'], ['anger', 'disgust', 'fear','surprise'], ['anger', 'fear'], ['anger', 'disgust', 'fear','surprise'], ['anger', 'disgust', 'fear'], ['anger', 'disgust', 'fear'], ['anger','surprise'], ['anger','surprise'], ['anger', 'joy'], ['anger', 'joy']]\"},\n",
       " {'emotions': \"[['anger', 'fear'], ['anger'], ['anger', 'fear','surprise'], ['anger', 'fear'], ['joy'], ['fear','surprise'], ['fear','surprise'], ['fear', 'joy'], ['fear', 'joy'], ['fear','surprise', 'joy']]\"},\n",
       " {'emotions': \"[['joy'], ['neutral'], ['fear','surprise'], ['curiosity'], ['fear'], ['joy'], ['joy','surprise'], ['anger', 'fear'], ['anger'], ['anger','surprise']]\"},\n",
       " {'emotions': \"[['fear','sadness'], ['surprise'], ['surprise', 'fear'], ['surprise', 'joy'], ['fear'], ['fear'], ['fear','surprise'], ['anger', 'fear'], ['anger','sadness'], ['anger'], ['anger','sadness'], ['anger','sadness'], ['sadness', 'joy'], ['surprise', 'joy'], ['joy','sadness']]\"},\n",
       " {'emotions': \"[['anger', 'fear'], ['anger'], ['anger'], ['anger'], ['anger'], ['anger'], ['anger'], ['anger']]\"},\n",
       " {'emotions': \"[['anger'], ['neutral', 'fear'], ['surprise'], ['neutral'], ['neutral'], ['surprise'], ['fear', 'anger'], ['anger'], ['anger', 'fear'], ['anger', 'fear'], ['anger','sadness']]\"},\n",
       " {'emotions': \"[['anger', 'disgust'], ['neutral'], ['anger', 'disgust'], ['anger'], ['anger','surprise'], ['anger','sadness'], ['surprise', 'anger'], ['anger'], ['anger'], ['joy'], ['joy'], ['anger', 'joy']]\"},\n",
       " {'emotions': \"[['neutral']]\"}]"
      ]
     },
     "execution_count": 164,
     "metadata": {},
     "output_type": "execute_result"
    }
   ],
   "source": [
    "outputs_processed"
   ]
  },
  {
   "cell_type": "code",
   "execution_count": 165,
   "metadata": {},
   "outputs": [],
   "source": [
    "grounds = test_df.emotion_c.tolist()"
   ]
  },
  {
   "cell_type": "code",
   "execution_count": 166,
   "metadata": {},
   "outputs": [
    {
     "data": {
      "text/plain": [
       "[\"[['surprise', 'joy'], ['joy'], ['surprise', 'joy'], ['joy'], ['joy'], ['joy'], ['surprise'], ['joy'], ['joy'], ['neutral'], ['neutral']]\",\n",
       " \"[['neutral'], ['neutral'], ['anger', 'disgust'], ['anger', 'disgust'], ['neutral'], ['sadness'], ['sadness']]\",\n",
       " \"[['anger', 'sadness'], ['anger', 'sadness'], ['anger', 'sadness'], ['fear', 'surprise'], ['surprise'], ['joy'], ['anger', 'surprise'], ['joy'], ['joy'], ['joy'], ['anger'], ['anger'], ['surprise', 'joy'], ['fear', 'sadness'], ['fear', 'sadness'], ['fear', 'surprise']]\",\n",
       " \"[['anger', 'disgust'], ['anger', 'disgust'], ['anger', 'disgust'], ['fear', 'sadness'], ['fear', 'sadness', 'surprise'], ['sadness'], ['sadness'], ['fear', 'sadness'], ['sadness', 'surprise'], ['sadness', 'surprise'], ['joy'], ['anger'], ['anger'], ['anger'], ['anger', 'disgust'], ['joy'], ['joy'], ['surprise', 'joy'], ['surprise', 'joy'], ['anger', 'surprise'], ['anger', 'surprise']]\",\n",
       " \"[['neutral'], ['joy'], ['joy']]\",\n",
       " \"[['neutral'], ['fear'], ['neutral'], ['anger', 'fear', 'sadness'], ['joy'], ['sadness'], ['fear', 'surprise'], ['anger', 'fear', 'sadness'], ['joy'], ['neutral'], ['fear'], ['joy'], ['neutral'], ['joy'], ['joy'], ['neutral'], ['joy'], ['anger'], ['anger'], ['surprise', 'joy']]\",\n",
       " \"[['anger', 'sadness'], ['anger'], ['sadness'], ['surprise'], ['anger'], ['neutral'], ['joy'], ['joy'], ['joy'], ['anger', 'surprise'], ['anger', 'surprise'], ['anger', 'surprise'], ['joy'], ['joy'], ['joy']]\",\n",
       " \"[['neutral'], ['fear'], ['anger'], ['neutral'], ['fear'], ['anger'], ['anger', 'surprise'], ['anger', 'surprise'], ['anger'], ['anger', 'disgust'], ['anger', 'surprise'], ['anger'], ['anger', 'surprise'], ['anger'], ['anger', 'surprise'], ['neutral']]\",\n",
       " \"[['joy'], ['joy'], ['joy'], ['joy'], ['surprise', 'joy'], ['surprise', 'joy'], ['sadness'], ['sadness'], ['fear', 'surprise'], ['neutral'], ['surprise'], ['fear', 'surprise']]\",\n",
       " \"[['anger'], ['fear', 'surprise'], ['fear'], ['joy'], ['joy'], ['anger'], ['anger'], ['anger'], ['anger', 'disgust'], ['joy'], ['joy']]\",\n",
       " \"[['neutral'], ['anger'], ['anger'], ['anger'], ['neutral'], ['neutral'], ['neutral'], ['fear'], ['fear'], ['neutral'], ['neutral'], ['sadness'], ['sadness'], ['sadness']]\",\n",
       " \"[['joy'], ['joy'], ['joy'], ['joy']]\",\n",
       " \"[['neutral'], ['surprise'], ['anger'], ['anger'], ['anger'], ['anger', 'sadness', 'surprise'], ['surprise'], ['neutral'], ['anger'], ['anger'], ['anger'], ['anger'], ['anger']]\",\n",
       " \"[['surprise'], ['joy'], ['joy'], ['sadness'], ['sadness'], ['surprise'], ['surprise'], ['surprise', 'joy'], ['surprise', 'joy']]\",\n",
       " \"[['neutral'], ['sadness'], ['sadness'], ['neutral'], ['sadness'], ['anger', 'sadness'], ['anger'], ['anger'], ['anger', 'sadness'], ['anger', 'sadness'], ['anger'], ['anger', 'disgust'], ['anger', 'disgust'], ['anger', 'disgust'], ['anger'], ['anger', 'disgust'], ['anger', 'disgust', 'sadness'], ['anger', 'disgust', 'sadness'], ['anger', 'sadness'], ['anger', 'sadness'], ['anger', 'sadness'], ['anger', 'sadness'], ['joy']]\",\n",
       " \"[['sadness', 'surprise'], ['sadness', 'surprise'], ['joy'], ['joy'], ['joy'], ['joy'], ['joy'], ['joy'], ['surprise', 'joy'], ['joy'], ['fear', 'surprise', 'joy'], ['fear', 'surprise', 'joy'], ['fear', 'joy'], ['surprise', 'joy'], ['joy'], ['joy'], ['joy'], ['joy'], ['sadness', 'joy'], ['sadness', 'joy'], ['joy'], ['joy'], ['joy']]\",\n",
       " \"[['neutral'], ['fear', 'surprise'], ['neutral'], ['joy'], ['joy'], ['neutral'], ['joy'], ['fear', 'surprise'], ['fear', 'surprise'], ['fear', 'surprise'], ['fear'], ['disgust'], ['disgust']]\",\n",
       " \"[['neutral'], ['surprise'], ['neutral'], ['anger'], ['anger'], ['sadness'], ['fear'], ['surprise'], ['anger'], ['sadness'], ['joy'], ['joy']]\",\n",
       " \"[['surprise'], ['joy'], ['neutral'], ['joy'], ['fear'], ['fear'], ['joy'], ['joy'], ['joy'], ['joy'], ['joy'], ['joy'], ['anger']]\",\n",
       " \"[['neutral'], ['fear'], ['neutral'], ['fear', 'surprise'], ['fear'], ['fear'], ['anger', 'fear'], ['joy'], ['anger'], ['anger'], ['fear', 'surprise'], ['fear'], ['disgust'], ['fear']]\",\n",
       " \"[['neutral'], ['anger'], ['joy'], ['joy'], ['surprise', 'joy'], ['fear', 'surprise'], ['joy'], ['joy'], ['joy'], ['disgust']]\",\n",
       " \"[['neutral'], ['joy'], ['sadness', 'surprise'], ['neutral'], ['surprise'], ['neutral'], ['anger'], ['neutral'], ['surprise', 'joy'], ['surprise'], ['surprise']]\",\n",
       " \"[['neutral'], ['neutral'], ['surprise'], ['fear', 'surprise'], ['fear'], ['surprise'], ['joy'], ['joy'], ['joy'], ['surprise'], ['surprise']]\",\n",
       " \"[['neutral'], ['anger'], ['neutral'], ['anger'], ['fear', 'surprise'], ['fear', 'surprise'], ['fear'], ['neutral'], ['neutral'], ['anger']]\",\n",
       " \"[['fear', 'surprise'], ['anger', 'fear', 'surprise'], ['anger'], ['neutral'], ['neutral'], ['neutral'], ['neutral'], ['anger'], ['anger', 'fear'], ['fear', 'surprise'], ['anger'], ['anger'], ['fear']]\",\n",
       " \"[['anger'], ['sadness'], ['fear', 'surprise'], ['fear'], ['fear'], ['fear'], ['fear'], ['fear'], ['fear', 'surprise'], ['fear', 'surprise'], ['neutral'], ['neutral'], ['fear', 'surprise']]\",\n",
       " \"[['neutral'], ['neutral'], ['neutral'], ['joy'], ['joy'], ['joy'], ['joy'], ['joy'], ['joy'], ['joy'], ['sadness', 'surprise'], ['sadness'], ['surprise']]\",\n",
       " \"[['neutral'], ['neutral'], ['surprise'], ['fear', 'surprise'], ['fear', 'surprise'], ['fear', 'surprise'], ['fear', 'surprise'], ['fear', 'surprise'], ['joy'], ['joy'], ['fear'], ['fear'], ['fear'], ['fear'], ['neutral'], ['neutral'], ['neutral']]\",\n",
       " \"[['fear', 'surprise'], ['fear', 'surprise'], ['anger', 'surprise'], ['fear', 'surprise'], ['anger', 'fear', 'joy'], ['anger', 'fear', 'joy']]\",\n",
       " \"[['anger', 'fear', 'surprise'], ['anger', 'fear', 'surprise'], ['anger', 'fear'], ['anger', 'fear']]\",\n",
       " \"[['anger', 'joy'], ['anger', 'fear', 'sadness', 'joy'], ['sadness', 'joy'], ['sadness', 'joy'], ['anger', 'disgust'], ['sadness', 'joy']]\",\n",
       " \"[['fear'], ['fear', 'surprise'], ['fear', 'surprise'], ['fear', 'sadness'], ['fear', 'sadness'], ['surprise'], ['surprise']]\",\n",
       " \"[['surprise'], ['surprise', 'joy'], ['surprise', 'joy'], ['surprise', 'joy'], ['surprise', 'joy'], ['joy'], ['fear', 'surprise'], ['anger', 'fear', 'surprise'], ['anger', 'fear']]\",\n",
       " \"[['anger', 'fear', 'sadness'], ['fear', 'surprise'], ['fear', 'sadness'], ['sadness', 'surprise'], ['anger', 'sadness', 'surprise'], ['fear', 'sadness'], ['anger'], ['joy'], ['surprise', 'joy'], ['surprise', 'joy']]\",\n",
       " \"[['surprise'], ['surprise', 'joy'], ['fear', 'surprise'], ['anger', 'surprise'], ['anger', 'fear', 'sadness'], ['anger', 'disgust', 'surprise'], ['anger', 'joy'], ['anger', 'fear', 'surprise'], ['sadness', 'joy'], ['fear', 'sadness']]\",\n",
       " \"[['anger', 'surprise'], ['surprise', 'joy'], ['surprise', 'joy'], ['anger', 'sadness'], ['anger'], ['anger'], ['fear', 'surprise'], ['joy'], ['joy']]\",\n",
       " \"[['surprise', 'joy'], ['fear', 'sadness', 'surprise'], ['surprise', 'joy'], ['surprise'], ['surprise'], ['surprise'], ['surprise'], ['surprise'], ['fear', 'sadness'], ['sadness'], ['sadness'], ['fear', 'sadness'], ['sadness', 'surprise', 'joy'], ['surprise'], ['sadness', 'surprise'], ['sadness'], ['sadness', 'surprise']]\",\n",
       " \"[['fear', 'surprise'], ['anger', 'fear', 'surprise'], ['surprise'], ['anger', 'surprise'], ['anger', 'surprise']]\",\n",
       " \"[['anger', 'sadness', 'surprise']]\",\n",
       " \"[['fear'], ['anger']]\",\n",
       " \"[['anger', 'surprise'], ['anger', 'disgust'], ['anger', 'disgust'], ['surprise'], ['surprise'], ['anger']]\",\n",
       " \"[['anger', 'fear', 'surprise'], ['fear', 'sadness', 'surprise'], ['anger', 'fear'], ['joy'], ['joy']]\",\n",
       " \"[['anger', 'fear', 'surprise'], ['fear', 'surprise']]\",\n",
       " \"[['anger'], ['joy'], ['anger'], ['anger', 'disgust'], ['anger', 'surprise'], ['anger'], ['anger', 'fear', 'surprise'], ['joy']]\",\n",
       " \"[['joy'], ['anger'], ['disgust', 'surprise'], ['anger'], ['surprise'], ['anger'], ['surprise', 'joy']]\",\n",
       " \"[['fear'], ['fear', 'surprise'], ['fear', 'surprise'], ['fear', 'sadness'], ['fear', 'sadness'], ['fear', 'sadness'], ['fear', 'sadness'], ['fear', 'surprise'], ['fear', 'surprise'], ['surprise'], ['surprise', 'joy'], ['joy'], ['fear', 'surprise']]\",\n",
       " \"[['surprise', 'joy'], ['joy'], ['fear', 'sadness'], ['surprise', 'joy'], ['anger'], ['anger', 'surprise'], ['anger'], ['joy'], ['fear', 'sadness'], ['anger', 'joy'], ['anger', 'joy']]\",\n",
       " \"[['anger', 'surprise'], ['anger', 'surprise'], ['anger', 'joy'], ['anger']]\",\n",
       " \"[['fear', 'sadness'], ['fear', 'sadness']]\",\n",
       " \"[['fear', 'sadness'], ['fear'], ['anger'], ['sadness'], ['joy'], ['surprise'], ['neutral'], ['surprise', 'joy'], ['surprise', 'joy'], ['joy']]\",\n",
       " \"[['joy'], ['joy'], ['joy']]\",\n",
       " \"[['anger'], ['anger', 'sadness'], ['sadness'], ['joy'], ['sadness', 'surprise'], ['anger'], ['anger'], ['joy']]\",\n",
       " \"[['sadness', 'surprise'], ['joy'], ['joy'], ['joy'], ['joy'], ['disgust', 'joy'], ['anger', 'disgust', 'joy'], ['anger'], ['anger'], ['joy'], ['joy']]\",\n",
       " \"[['anger', 'disgust', 'joy'], ['disgust', 'surprise', 'joy'], ['sadness', 'joy']]\",\n",
       " \"[['surprise'], ['fear', 'sadness'], ['joy'], ['joy'], ['joy'], ['anger', 'sadness'], ['sadness']]\",\n",
       " \"[['anger', 'fear'], ['sadness', 'surprise'], ['fear'], ['anger', 'sadness', 'surprise', 'joy'], ['joy'], ['fear'], ['fear'], ['anger', 'joy']]\",\n",
       " \"[['fear'], ['surprise', 'joy'], ['fear', 'sadness'], ['anger'], ['joy'], ['anger', 'fear', 'sadness'], ['anger', 'joy']]\",\n",
       " \"[['joy'], ['joy'], ['joy'], ['joy']]\",\n",
       " \"[['sadness', 'surprise'], ['sadness', 'joy'], ['joy'], ['joy'], ['joy'], ['anger']]\",\n",
       " \"[['joy'], ['anger', 'surprise'], ['joy'], ['joy'], ['anger'], ['joy']]\",\n",
       " \"[['sadness'], ['sadness'], ['sadness'], ['sadness']]\",\n",
       " \"[['sadness', 'surprise'], ['anger', 'sadness'], ['fear'], ['sadness']]\",\n",
       " \"[['sadness'], ['fear', 'sadness'], ['anger', 'sadness'], ['fear', 'sadness'], ['sadness'], ['sadness'], ['sadness']]\",\n",
       " \"[['sadness'], ['surprise', 'joy'], ['joy'], ['joy'], ['anger', 'joy'], ['anger', 'joy'], ['sadness', 'surprise']]\",\n",
       " \"[['anger'], ['anger'], ['anger', 'surprise'], ['anger', 'surprise'], ['surprise'], ['anger', 'surprise'], ['anger']]\",\n",
       " \"[['surprise', 'joy'], ['joy'], ['anger'], ['anger', 'disgust', 'joy'], ['sadness'], ['anger'], ['anger', 'joy'], ['joy']]\",\n",
       " \"[['anger'], ['fear', 'sadness'], ['anger']]\",\n",
       " \"[['anger', 'joy'], ['joy'], ['anger'], ['fear', 'sadness'], ['sadness'], ['sadness', 'surprise'], ['sadness'], ['sadness'], ['sadness']]\",\n",
       " \"[['surprise'], ['anger'], ['sadness'], ['anger', 'sadness']]\",\n",
       " \"[['joy'], ['anger', 'joy'], ['joy'], ['joy'], ['joy'], ['joy']]\",\n",
       " \"[['anger', 'joy'], ['anger', 'disgust', 'sadness']]\",\n",
       " \"[['sadness'], ['fear', 'sadness'], ['sadness'], ['neutral'], ['sadness'], ['sadness'], ['sadness'], ['disgust', 'sadness']]\",\n",
       " \"[['disgust', 'sadness'], ['disgust', 'sadness'], ['sadness'], ['sadness'], ['sadness', 'joy']]\",\n",
       " \"[['anger', 'fear'], ['anger', 'fear'], ['surprise'], ['surprise', 'joy'], ['surprise', 'joy'], ['fear', 'surprise']]\",\n",
       " \"[['fear', 'surprise'], ['neutral']]\",\n",
       " \"[['joy'], ['joy']]\",\n",
       " \"[['neutral'], ['surprise'], ['anger', 'fear'], ['fear'], ['surprise'], ['neutral'], ['surprise', 'joy']]\",\n",
       " \"[['joy'], ['anger', 'surprise'], ['neutral'], ['surprise', 'joy'], ['neutral'], ['anger', 'fear']]\",\n",
       " \"[['joy'], ['anger', 'surprise']]\",\n",
       " \"[['anger'], ['fear', 'surprise'], ['sadness'], ['sadness'], ['joy'], ['joy'], ['surprise', 'joy'], ['joy']]\",\n",
       " \"[['disgust'], ['neutral'], ['neutral'], ['neutral'], ['disgust'], ['sadness'], ['anger', 'sadness'], ['anger']]\",\n",
       " \"[['surprise'], ['surprise'], ['anger'], ['surprise'], ['neutral'], ['joy'], ['surprise'], ['sadness', 'surprise'], ['anger'], ['anger'], ['anger', 'sadness'], ['sadness', 'surprise']]\",\n",
       " \"[['sadness'], ['sadness'], ['anger'], ['anger', 'surprise'], ['neutral'], ['surprise'], ['anger', 'disgust'], ['surprise', 'joy'], ['joy'], ['joy']]\",\n",
       " \"[['anger'], ['anger', 'sadness'], ['anger'], ['anger', 'surprise'], ['anger', 'surprise'], ['anger'], ['anger'], ['sadness'], ['anger', 'surprise']]\",\n",
       " \"[['anger', 'disgust'], ['anger', 'disgust'], ['anger'], ['anger'], ['anger'], ['anger'], ['anger', 'disgust'], ['joy'], ['neutral'], ['anger', 'joy'], ['joy'], ['anger'], ['surprise'], ['anger'], ['anger']]\",\n",
       " \"[['neutral'], ['anger'], ['anger', 'disgust'], ['anger', 'disgust'], ['anger', 'disgust'], ['anger', 'disgust', 'sadness'], ['anger'], ['neutral'], ['joy'], ['anger', 'sadness', 'surprise'], ['surprise'], ['joy'], ['joy']]\",\n",
       " \"[['neutral'], ['fear'], ['surprise'], ['surprise'], ['joy'], ['joy'], ['neutral'], ['sadness', 'surprise'], ['sadness'], ['anger', 'sadness']]\",\n",
       " \"[['neutral'], ['surprise'], ['surprise'], ['neutral'], ['surprise'], ['fear', 'surprise'], ['joy'], ['sadness'], ['sadness'], ['anger'], ['neutral'], ['neutral'], ['joy'], ['surprise'], ['joy']]\",\n",
       " \"[['fear'], ['joy'], ['surprise', 'joy'], ['surprise', 'joy'], ['fear', 'surprise'], ['neutral'], ['anger'], ['anger'], ['joy'], ['anger', 'fear']]\",\n",
       " \"[['surprise']]\",\n",
       " \"[['surprise'], ['anger']]\",\n",
       " \"[['neutral'], ['neutral'], ['joy'], ['anger'], ['anger'], ['anger'], ['anger'], ['fear']]\",\n",
       " \"[['surprise'], ['surprise'], ['surprise'], ['surprise'], ['anger'], ['fear'], ['surprise'], ['surprise']]\",\n",
       " \"[['surprise'], ['joy'], ['joy']]\",\n",
       " \"[['neutral'], ['joy'], ['surprise', 'joy'], ['surprise', 'joy'], ['fear', 'surprise'], ['anger', 'surprise']]\",\n",
       " \"[['anger', 'surprise'], ['fear', 'surprise'], ['fear', 'sadness', 'surprise'], ['joy']]\",\n",
       " \"[['disgust', 'fear', 'sadness']]\",\n",
       " \"[['fear', 'sadness', 'surprise'], ['sadness'], ['anger', 'sadness', 'surprise'], ['sadness'], ['neutral'], ['surprise'], ['neutral'], ['anger'], ['neutral'], ['surprise']]\",\n",
       " \"[['fear'], ['disgust', 'surprise'], ['fear', 'surprise'], ['neutral'], ['surprise'], ['neutral'], ['sadness'], ['fear', 'sadness']]\",\n",
       " \"[['fear'], ['disgust', 'surprise'], ['surprise'], ['disgust', 'sadness'], ['sadness'], ['sadness'], ['sadness'], ['sadness', 'joy'], ['sadness', 'joy'], ['joy'], ['anger'], ['fear', 'surprise'], ['anger']]\",\n",
       " \"[['sadness', 'surprise'], ['fear', 'surprise'], ['fear', 'surprise']]\",\n",
       " \"[['surprise'], ['fear', 'surprise'], ['fear'], ['surprise'], ['surprise'], ['fear', 'surprise'], ['fear', 'surprise']]\",\n",
       " \"[['fear', 'surprise'], ['fear', 'surprise']]\",\n",
       " \"[['sadness', 'surprise'], ['fear', 'sadness', 'surprise'], ['surprise', 'joy'], ['sadness', 'surprise'], ['sadness'], ['sadness'], ['surprise'], ['neutral'], ['neutral'], ['neutral'], ['neutral'], ['fear'], ['fear', 'sadness']]\",\n",
       " \"[['neutral'], ['neutral'], ['sadness'], ['joy'], ['disgust', 'sadness'], ['anger', 'disgust'], ['joy'], ['joy']]\",\n",
       " \"[['sadness'], ['fear', 'sadness'], ['surprise'], ['fear', 'surprise'], ['joy'], ['joy']]\",\n",
       " \"[['sadness', 'joy'], ['joy'], ['sadness', 'surprise'], ['fear', 'surprise'], ['sadness']]\",\n",
       " \"[['sadness'], ['sadness', 'surprise'], ['anger'], ['fear', 'surprise'], ['fear'], ['fear'], ['fear'], ['fear', 'surprise']]\",\n",
       " \"[['fear', 'sadness'], ['fear', 'sadness'], ['fear', 'sadness'], ['fear', 'sadness', 'surprise'], ['anger', 'fear'], ['anger', 'fear'], ['anger', 'fear', 'sadness']]\",\n",
       " \"[['anger', 'sadness'], ['anger', 'surprise'], ['sadness'], ['fear', 'sadness']]\",\n",
       " \"[['anger', 'disgust'], ['anger'], ['fear', 'surprise'], ['anger'], ['anger'], ['surprise']]\",\n",
       " \"[['surprise']]\",\n",
       " \"[['anger', 'surprise'], ['anger', 'fear', 'surprise'], ['anger'], ['fear', 'surprise'], ['anger', 'fear'], ['anger', 'fear', 'surprise']]\",\n",
       " \"[['anger']]\",\n",
       " \"[['sadness'], ['sadness'], ['sadness']]\",\n",
       " \"[['sadness'], ['sadness'], ['sadness'], ['sadness'], ['sadness'], ['sadness', 'surprise'], ['sadness'], ['sadness'], ['sadness'], ['sadness'], ['sadness'], ['sadness'], ['sadness']]\",\n",
       " \"[['anger', 'sadness'], ['anger', 'sadness'], ['anger', 'sadness'], ['sadness'], ['sadness'], ['sadness'], ['sadness'], ['sadness'], ['sadness']]\",\n",
       " \"[['sadness'], ['sadness'], ['surprise'], ['sadness'], ['fear', 'sadness'], ['sadness'], ['anger', 'fear', 'sadness', 'surprise'], ['anger', 'fear', 'sadness'], ['sadness']]\",\n",
       " \"[['sadness'], ['fear', 'sadness', 'surprise'], ['fear', 'sadness', 'surprise'], ['anger', 'surprise'], ['sadness'], ['sadness'], ['sadness'], ['anger', 'sadness'], ['sadness', 'surprise'], ['sadness'], ['anger', 'sadness'], ['anger', 'sadness']]\",\n",
       " \"[['joy'], ['joy'], ['fear', 'joy'], ['neutral'], ['fear', 'surprise'], ['neutral'], ['fear'], ['fear'], ['fear', 'sadness'], ['fear', 'sadness'], ['fear', 'sadness', 'surprise'], ['surprise'], ['anger']]\",\n",
       " \"[['anger'], ['anger'], ['fear'], ['anger'], ['fear', 'surprise'], ['neutral'], ['fear', 'surprise'], ['neutral'], ['fear'], ['fear'], ['neutral'], ['anger', 'fear', 'sadness'], ['anger', 'fear', 'sadness'], ['neutral'], ['fear', 'sadness'], ['fear', 'sadness'], ['neutral']]\",\n",
       " \"[['fear', 'sadness'], ['fear', 'sadness'], ['fear', 'sadness'], ['sadness'], ['neutral'], ['sadness'], ['neutral'], ['fear', 'sadness'], ['fear', 'sadness'], ['fear', 'sadness'], ['fear', 'sadness'], ['neutral'], ['surprise'], ['neutral'], ['fear', 'sadness'], ['fear', 'sadness'], ['neutral'], ['fear'], ['neutral']]\",\n",
       " \"[['fear', 'surprise'], ['fear'], ['fear', 'sadness'], ['fear', 'sadness'], ['fear', 'sadness'], ['anger'], ['surprise'], ['sadness'], ['sadness', 'surprise'], ['sadness', 'surprise'], ['anger'], ['anger', 'surprise'], ['anger']]\",\n",
       " \"[['surprise'], ['sadness'], ['fear', 'sadness'], ['sadness'], ['sadness'], ['fear', 'sadness', 'surprise'], ['sadness', 'surprise'], ['fear', 'sadness'], ['anger', 'sadness'], ['surprise'], ['anger', 'sadness']]\",\n",
       " \"[['surprise', 'joy'], ['fear', 'sadness'], ['sadness', 'joy'], ['sadness', 'joy'], ['surprise'], ['fear'], ['fear', 'sadness'], ['fear', 'sadness'], ['fear', 'sadness'], ['fear', 'surprise'], ['fear'], ['fear'], ['joy'], ['joy']]\",\n",
       " \"[['anger', 'fear'], ['anger', 'fear'], ['anger'], ['anger'], ['surprise'], ['fear', 'sadness', 'surprise'], ['fear', 'sadness', 'surprise'], ['sadness'], ['sadness'], ['fear', 'surprise']]\",\n",
       " \"[['fear', 'surprise'], ['fear', 'surprise'], ['anger', 'sadness'], ['anger', 'sadness'], ['anger', 'sadness'], ['anger', 'sadness'], ['anger', 'sadness'], ['surprise'], ['fear', 'sadness', 'surprise'], ['fear', 'sadness', 'surprise'], ['anger', 'sadness', 'surprise'], ['anger', 'sadness'], ['anger', 'surprise']]\",\n",
       " \"[['anger', 'sadness'], ['anger', 'sadness'], ['anger', 'sadness'], ['anger', 'sadness'], ['anger', 'sadness'], ['anger', 'sadness'], ['anger', 'sadness'], ['anger'], ['surprise'], ['anger', 'fear'], ['anger', 'fear'], ['anger', 'fear']]\",\n",
       " \"[['anger'], ['anger'], ['anger'], ['anger'], ['anger'], ['anger'], ['anger', 'joy']]\",\n",
       " \"[['surprise'], ['sadness'], ['fear', 'sadness'], ['fear', 'sadness'], ['anger', 'fear', 'sadness'], ['anger', 'fear', 'sadness'], ['anger'], ['anger'], ['fear', 'sadness'], ['fear', 'sadness'], ['fear', 'surprise'], ['sadness']]\",\n",
       " \"[['fear', 'sadness'], ['surprise'], ['surprise', 'joy'], ['sadness'], ['sadness'], ['sadness'], ['surprise', 'joy']]\",\n",
       " \"[['sadness'], ['sadness'], ['joy'], ['joy'], ['sadness', 'surprise'], ['sadness', 'joy'], ['sadness', 'joy'], ['sadness', 'joy']]\",\n",
       " \"[['joy'], ['joy'], ['joy'], ['joy'], ['anger'], ['joy'], ['anger'], ['fear', 'sadness', 'joy'], ['fear', 'sadness', 'joy'], ['anger'], ['anger']]\",\n",
       " \"[['anger', 'sadness'], ['anger', 'sadness'], ['anger', 'sadness'], ['neutral'], ['surprise'], ['sadness'], ['fear', 'sadness', 'surprise'], ['sadness']]\",\n",
       " \"[['joy'], ['fear', 'sadness'], ['sadness', 'surprise'], ['fear', 'sadness'], ['fear', 'sadness'], ['joy'], ['anger', 'fear'], ['fear'], ['fear', 'sadness']]\",\n",
       " \"[['fear'], ['fear'], ['anger']]\",\n",
       " \"[['fear', 'surprise'], ['fear']]\",\n",
       " \"[['fear'], ['fear', 'surprise'], ['fear', 'surprise'], ['anger', 'surprise'], ['anger'], ['anger', 'surprise']]\",\n",
       " \"[['anger'], ['anger'], ['anger', 'fear'], ['surprise', 'joy'], ['fear', 'surprise'], ['anger'], ['anger', 'fear']]\",\n",
       " \"[['fear', 'surprise'], ['fear', 'surprise'], ['fear', 'sadness'], ['fear', 'sadness'], ['surprise'], ['anger']]\",\n",
       " \"[['anger'], ['anger'], ['anger'], ['anger'], ['anger'], ['fear', 'surprise']]\",\n",
       " \"[['anger'], ['anger', 'fear'], ['anger', 'fear', 'surprise'], ['anger'], ['surprise'], ['anger']]\",\n",
       " \"[['fear', 'sadness'], ['anger', 'surprise'], ['anger'], ['anger'], ['anger']]\",\n",
       " \"[['anger', 'fear'], ['anger', 'fear'], ['anger', 'fear'], ['anger', 'fear', 'surprise'], ['anger'], ['anger']]\",\n",
       " \"[['anger'], ['anger'], ['anger', 'sadness', 'surprise'], ['anger', 'surprise']]\",\n",
       " \"[['anger'], ['anger'], ['fear', 'sadness'], ['fear', 'sadness'], ['anger'], ['fear', 'sadness'], ['anger', 'sadness'], ['anger'], ['anger'], ['anger', 'joy'], ['anger', 'joy'], ['anger', 'joy']]\",\n",
       " \"[['fear', 'joy'], ['fear', 'joy'], ['anger'], ['anger'], ['anger', 'surprise'], ['anger', 'sadness'], ['anger', 'sadness'], ['anger', 'sadness'], ['anger']]\",\n",
       " \"[['anger'], ['anger'], ['anger'], ['anger'], ['anger'], ['anger']]\",\n",
       " \"[['anger', 'surprise'], ['anger', 'surprise'], ['fear', 'sadness'], ['surprise'], ['surprise', 'joy'], ['anger'], ['anger'], ['anger'], ['anger'], ['anger'], ['anger'], ['anger'], ['anger'], ['anger'], ['fear', 'sadness'], ['anger']]\",\n",
       " \"[['anger', 'surprise'], ['anger'], ['anger'], ['anger'], ['anger'], ['anger'], ['anger', 'surprise'], ['anger', 'surprise'], ['anger'], ['anger'], ['anger']]\",\n",
       " \"[['anger'], ['anger'], ['anger', 'surprise'], ['anger', 'surprise'], ['anger'], ['anger'], ['anger'], ['anger'], ['anger'], ['anger'], ['anger', 'surprise']]\",\n",
       " \"[['anger'], ['anger'], ['anger'], ['anger'], ['anger', 'surprise'], ['anger'], ['anger'], ['anger'], ['anger'], ['anger'], ['anger'], ['anger'], ['anger'], ['anger']]\",\n",
       " \"[['sadness', 'surprise'], ['anger'], ['anger'], ['anger'], ['anger'], ['anger'], ['anger', 'joy']]\",\n",
       " \"[['anger', 'sadness'], ['anger'], ['anger'], ['anger'], ['anger', 'sadness'], ['anger'], ['anger'], ['anger'], ['anger'], ['anger'], ['anger']]\",\n",
       " \"[['anger'], ['joy'], ['joy'], ['anger', 'surprise'], ['anger'], ['anger'], ['anger', 'surprise'], ['anger'], ['joy'], ['joy'], ['joy'], ['joy']]\",\n",
       " \"[['anger', 'joy']]\"]"
      ]
     },
     "execution_count": 166,
     "metadata": {},
     "output_type": "execute_result"
    }
   ],
   "source": [
    "grounds"
   ]
  },
  {
   "cell_type": "code",
   "execution_count": 167,
   "metadata": {},
   "outputs": [],
   "source": [
    "predictions = []\n",
    "bad_idx = []\n",
    "\n",
    "for i, obj in enumerate(outputs_processed):\n",
    "    try:\n",
    "        predictions.append(obj['emotions'])\n",
    "    except:\n",
    "        print(i)\n",
    "        bad_idx.append(i)"
   ]
  },
  {
   "cell_type": "code",
   "execution_count": 168,
   "metadata": {},
   "outputs": [],
   "source": [
    "grounds = [label for i, label in enumerate(grounds) if i not in bad_idx]"
   ]
  },
  {
   "cell_type": "code",
   "execution_count": 169,
   "metadata": {},
   "outputs": [
    {
     "data": {
      "text/plain": [
       "(156, 156)"
      ]
     },
     "execution_count": 169,
     "metadata": {},
     "output_type": "execute_result"
    }
   ],
   "source": [
    "len(grounds), len(predictions)"
   ]
  },
  {
   "cell_type": "code",
   "execution_count": 170,
   "metadata": {},
   "outputs": [],
   "source": [
    "grounds_l = [ast.literal_eval(item) for item in grounds]"
   ]
  },
  {
   "cell_type": "code",
   "execution_count": 171,
   "metadata": {},
   "outputs": [
    {
     "data": {
      "text/plain": [
       "[\"[['joy'], ['neutral'], ['joy'], ['neutral'], ['neutral'], ['joy'], ['fear', 'joy'], ['neutral'], ['joy'], ['joy']]\",\n",
       " \"[['joy'], ['anger','sadness'], ['anger', 'fear'], ['anger','surprise'], ['sadness', 'joy'], ['anger', 'fear'], ['anger','sadness'], ['anger', 'joy']]\",\n",
       " \"[['anger', 'fear', 'joy'], ['anger', 'fear'], ['anger', 'fear'], ['fear','surprise'], ['fear'], ['fear'], ['fear', 'joy'], ['fear', 'anger'], ['fear','sadness'], ['anger','surprise'], ['anger','sadness'], ['anger', 'joy'], ['anger','sadness'], ['neutral'], ['joy', 'anger']]\",\n",
       " \"[['anger', 'anger'], ['anger'], ['anger'], ['anger','sadness', 'joy'], ['anger','sadness'], ['anger'], ['anger'], ['anger'], ['anger'], ['anger', 'anger'], ['anger', 'anger'], ['anger', 'anger'], ['anger'], ['anger'], ['anger', 'anger'], ['anger', 'anger'], ['anger', 'anger'], ['anger'], ['anger', 'anger'], ['anger']]\",\n",
       " \"[['fear','sadness'], ['joy'], ['joy']]\",\n",
       " \"[['neutral'], ['anger', 'fear'], ['fear','surprise'], ['fear','sadness'], ['fear','surprise'], ['anger', 'joy'], ['fear', 'joy'], ['fear','surprise'], ['anger', 'joy'], ['anger','surprise'], ['fear','surprise'], ['anger', 'joy'], ['anger', 'joy'], ['anger', 'joy'], ['anger', 'joy'], ['anger', 'joy'], ['anger', 'joy'], ['anger','surprise'], ['anger', 'joy']]\",\n",
       " \"[['anger', 'fear'], ['anger', 'fear'], ['anger', 'fear'], ['anger', 'fear'], ['anger', 'disgust'], ['anger', 'disgust'], ['anger', 'disgust'], ['anger', 'fear'], ['anger', 'fear'], ['anger', 'disgust'], ['fear','surprise'], ['fear','surprise'], ['anger', 'fear'], ['anger', 'fear'], ['anger', 'joy']]\",\n",
       " \"[['neutral', 'joy'], ['fear'], ['anger'], ['sadness'], ['joy'], ['anger'], ['anger'], ['anger'], ['anger', 'disgust'], ['anger', 'disgust'], ['anger', 'disgust'], ['anger', 'disgust'], ['anger', 'disgust'], ['anger', 'disgust'], ['anger', 'disgust']]\",\n",
       " \"[['joy','surprise'], ['surprise'], ['joy','surprise'], ['surprise', 'joy'], ['joy','sadness', 'anger'], ['fear','surprise'], ['anger', 'fear','surprise'], ['anger', 'fear','surprise'], ['anger', 'fear'], ['anger', 'fear'], ['anger', 'fear','surprise']]\",\n",
       " \"[['joy'], ['anger','surprise'], ['joy','sadness'], ['joy'], ['neutral'], ['neutral'], ['anger', 'joy'], ['joy'], ['anger','surprise'], ['neutral', 'anger'], ['anger','sadness']]\",\n",
       " \"[['joy','surprise'], ['fear','sadness'], ['fear','surprise'], ['anger', 'fear'], ['fear','surprise'], ['fear', 'disgust'], ['fear', 'disgust'], ['fear','sadness'], ['anger', 'fear','sadness'], ['anger', 'fear','sadness'], ['anger','sadness', 'fear'], ['anger','sadness', 'fear'], ['fear','sadness','surprise'], ['fear','sadness','surprise'], ['anger', 'fear','sadness','surprise'], ['anger', 'fear','sadness','surprise']]\",\n",
       " \"[['joy'], ['joy'], ['anger', 'fear'], ['anger', 'fear']]\",\n",
       " \"[['neutral'], ['surprise', 'joy'], ['neutral'], ['anger'], ['sadness'], ['joy'], ['surprise'], ['neutral'], ['anger'], ['neutral'], ['anger'], ['joy'], ['neutral']]\",\n",
       " \"[['fear','surprise'], ['joy','surprise'], ['joy','surprise'], ['joy'], ['neutral'], ['anger','sadness'], ['anger','sadness'], ['sadness', 'joy'], ['surprise', 'joy'], ['sadness']]\",\n",
       " \"[['fear','surprise'], ['anger', 'fear'], ['anger', 'fear'], ['anger', 'fear'], ['anger', 'fear'], ['anger', 'fear'], ['anger', 'fear'], ['anger', 'fear'], ['anger', 'fear'], ['anger', 'fear'], ['anger', 'fear'], ['anger', 'fear'], ['anger', 'fear'], ['anger', 'fear'], ['anger', 'fear'], ['anger', 'fear'], ['anger', 'fear'], ['anger', 'fear'], ['anger', 'fear'], ['anger', 'fear'], ['anger', 'fear']]\",\n",
       " \"[['surprise', 'joy'], ['joy'], ['anger', 'joy'], ['joy','surprise'], ['joy','surprise'], ['joy','surprise'], ['neutral'], ['neutral'], ['surprise', 'joy'], ['anger', 'joy'], ['neutral'], ['fear','surprise'], ['neutral'], ['joy','surprise'], ['joy','surprise'], ['joy','surprise'], ['neutral'], ['joy','surprise'], ['anger', 'joy'], ['joy','surprise'], ['joy','surprise'], ['joy','surprise']]\",\n",
       " \"[['joy','sadness'], ['anger', 'fear'], ['anger', 'disgust'], ['anger', 'joy'], ['anger', 'fear'], ['anger','surprise'], ['anger', 'disgust'], ['fear','surprise'], ['anger', 'fear','surprise'], ['anger', 'fear','surprise'], ['anger', 'fear'], ['anger', 'disgust'], ['anger', 'fear'], ['anger', 'fear']]\",\n",
       " \"[['joy'], ['surprise', 'joy'], ['joy', 'anger'], ['anger'], ['anger'], ['anger'], ['anger', 'disgust'], ['sadness'], ['sadness'], ['anger'], ['anger', 'joy'], ['surprise'], ['anger', 'joy']]\",\n",
       " \"[['joy'], ['joy','surprise'], ['anger'], ['sadness'], ['surprise'], ['joy'], ['joy'], ['anger'], ['sadness'], ['surprise'], ['joy'], ['joy'], ['anger', 'fear'], ['anger']]\",\n",
       " \"[['neutral', 'joy'], ['fear', 'anger','surprise'], ['sadness', 'anger', 'fear'], ['sadness', 'anger'], ['sadness', 'anger'], ['sadness', 'anger', 'fear'], ['surprise', 'fear'], ['surprise', 'fear', 'anger'], ['anger', 'fear','surprise'], ['anger', 'fear','surprise'], ['anger', 'fear','surprise'], ['fear', 'anger'], ['fear', 'anger'], ['fear', 'anger','surprise']]\",\n",
       " \"[['sadness', 'anger'], ['anger','surprise'], ['anger','surprise'], ['sadness', 'anger'], ['sadness', 'anger'], ['fear', 'confusion'], ['sadness'], ['anger','surprise'], ['joy'], ['anger', 'fear']]\",\n",
       " \"[['joy','surprise'], ['surprise', 'joy'], ['fear'], ['fear','surprise'], ['fear'], ['neutral'], ['fear'], ['joy'], ['surprise'], ['anger','surprise'], ['anger','surprise'], ['anger','surprise']]\",\n",
       " \"[['joy'], ['joy'], ['joy','surprise'], ['fear'], ['joy'], ['joy','surprise'], ['joy','surprise'], ['joy','surprise'], ['joy','surprise'], ['fear'], ['fear','surprise']]\",\n",
       " \"[['surprise', 'joy'], ['fear'], ['sadness', 'joy'], ['fear'], ['surprise', 'joy'], ['joy', 'anger'], ['joy', 'fear'], ['neutral', 'joy'], ['neutral', 'joy'], ['fear']]\",\n",
       " \"[['surprise', 'fear'], ['anger', 'fear'], ['fear','surprise'], ['neutral'], ['neutral'], ['neutral'], ['neutral'], ['fear','surprise'], ['anger', 'fear'], ['surprise'], ['fear', 'anger'], ['fear','surprise']]\",\n",
       " \"[['anger'], ['fear'], ['concern'], ['fear','surprise'], ['sadness','surprise', 'fear'], ['sadness', 'fear'], ['fear'], ['fear'], ['anger'], ['neutral'], ['sadness'], ['sadness','shame'], ['anger']]\",\n",
       " \"[['sadness', 'joy'], ['neutral','surprise'], ['disgust', 'fear'], ['love', 'joy'], ['fear', 'anger'], ['anger', 'fear'], ['neutral', 'joy'], ['surprise', 'fear'], ['joy'], ['joy','surprise'], ['sadness', 'anger'], ['anger', 'fear'], ['anger', 'fear']]\",\n",
       " \"[['fear', 'joy'], ['joy'], ['fear','surprise'], ['sadness','surprise'], ['anger', 'fear'], ['surprise', 'fear'], ['surprise', 'fear'], ['sadness','surprise'], ['anger', 'fear'], ['fear','surprise'], ['sadness', 'fear'], ['surprise'], ['fear','surprise'], ['anger', 'fear'], ['fear'], ['fear'], ['fear'], ['fear'], ['fear']]\",\n",
       " \"[['anger'], ['fear'], ['fear', 'anger'], ['anger'], ['fear', 'anger'], ['anger','surprise']]\",\n",
       " \"[['anger'], ['anger', 'fear'], ['anger', 'disgust'], ['anger', 'fear']]\",\n",
       " \"[['joy'], ['anger'], ['anger'], ['anger'], ['anger', 'fear'], ['anger', 'fear','sadness']]\",\n",
       " \"[['surprise'], ['fear','surprise'], ['fear','sadness'], ['fear','sadness'], ['joy','sadness'], ['curiosity', 'fear'], ['curiosity', 'fear']]\",\n",
       " \"[['surprise'], ['joy'], ['joy','surprise'], ['joy','surprise'], ['anger'], ['neutral'], ['fear','surprise'], ['fear', 'anger'], ['anger','surprise']]\",\n",
       " \"[['sadness', 'fear'], ['fear', 'curiosity'], ['anger'], ['anger', 'fear'], ['anger', 'fear'], ['anger', 'fear'], ['anger', 'fear'], ['anger', 'disgust'], ['fear', 'anger'], ['anger', 'joy', 'disgust']]\",\n",
       " \"[['fear','surprise'], ['surprise'], ['fear'], ['joy'], ['anger', 'fear'], ['anger'], ['anger', 'fear'], ['anger'], ['fear','surprise'], ['sadness','surprise']]\",\n",
       " \"[['anger', 'disgust'], ['joy','surprise'], ['anger', 'fear'], ['anger', 'disgust'], ['anger', 'disgust'], ['anger', 'fear'], ['fear','surprise'], ['anger','sadness'], ['anger', 'joy']]\",\n",
       " \"[['joy'], ['fear','surprise'], ['gratitude'], ['curiosity'], ['curiosity'], ['anger', 'disgust'], ['anger', 'disgust'], ['fear','surprise'], ['fear', 'curiosity'], ['fear','surprise'], ['curiosity'], ['anger', 'disgust'], ['anger', 'disgust'], ['anger', 'disgust'], ['anger', 'disgust'], ['anger', 'disgust'], ['anger', 'disgust']]\",\n",
       " \"[['anger', 'fear'], ['fear', 'joy'], ['anger'], ['fear'], ['fear']]\",\n",
       " \"[['anger', 'fear','surprise']]\",\n",
       " \"[['anger','surprise'], ['anger', 'fear','surprise']]\",\n",
       " \"[['anger', 'disgust'], ['anger', 'fear','surprise'], ['anger', 'fear','surprise'], ['anger', 'fear','surprise'], ['fear','surprise','sadness'], ['anger', 'fear']]\",\n",
       " \"[['anger', 'fear'], ['neutral'], ['fear', 'joy'], ['neutral'], ['anger', 'anger']]\",\n",
       " \"[['anger','surprise'], ['surprise', 'fear']]\",\n",
       " \"[['anger'], ['joy','surprise'], ['anger'], ['anger','sadness'], ['anger'], ['anger','surprise'], ['anger'], ['anger']]\",\n",
       " \"[['joy', 'anger'], ['anger', 'anger'], ['surprise'], ['anger'], ['joy','surprise'], ['joy','surprise'], ['anger'], ['joy']]\",\n",
       " \"[['joy'], ['fear','sadness'], ['fear','surprise'], ['fear', 'anger','surprise'], ['anger', 'fear'], ['anger', 'fear'], ['anger','surprise'], ['neutral'], ['neutral','sadness'], ['sadness', 'joy'], ['fear','surprise'], ['joy','surprise'], ['fear','sadness','surprise'], ['fear','sadness']]\",\n",
       " \"[['sadness', 'anger'], ['anger', 'joy'], ['anger', 'joy'], ['anger'], ['anger', 'fear'], ['fear', 'anger'], ['fear'], ['fear'], ['anger','surprise'], ['anger', 'joy']]\",\n",
       " \"[['sadness','surprise'], ['fear', 'anger'], ['surprise', 'fear'], ['anger','sadness']]\",\n",
       " \"[['anger', 'fear'], ['surprise', 'fear']]\",\n",
       " \"[['fear','surprise'], ['anger', 'fear'], ['fear', 'anger'], ['fear', 'anger'], ['surprise'], ['fear','surprise'], ['fear','surprise'], ['fear','surprise'], ['fear','surprise'], ['fear','surprise', 'anger']]\",\n",
       " \"[['anger'], ['neutral'], ['joy']]\",\n",
       " \"[['anger'], ['disgust'], ['fear','sadness'], ['sadness', 'anger'], ['fear','surprise'], ['anger', 'fear'], ['anger', 'disgust'], ['anger', 'disgust']]\",\n",
       " \"[['surprise'], ['joy','surprise'], ['joy','surprise'], ['joy','surprise'], ['neutral','surprise'], ['fear', 'anger'], ['anger', 'fear'], ['anger', 'fear','sadness'], ['anger', 'disgust', 'fear'], ['joy','surprise'], ['fear','surprise']]\",\n",
       " \"[['fear','sadness'], ['anger'], ['joy']]\",\n",
       " \"[['surprise', 'joy'], ['fear','sadness','surprise'], ['joy','surprise'], ['joy','surprise'], ['joy','sadness'], ['sadness', 'fear'], ['joy','sadness']]\",\n",
       " \"[['fear','surprise'], ['joy','surprise'], ['surprise'], ['anger','sadness'], ['fear','surprise'], ['sadness', 'joy'], ['surprise','sadness'], ['anger','surprise'], ['sadness']]\",\n",
       " \"[['sadness', 'joy'], ['surprise', 'joy'], ['joy'], ['anger'], ['anger'], ['anger', 'joy'], ['neutral'], ['anger', 'joy']]\",\n",
       " \"[['sadness','sadness'], ['joy'], ['joy'], ['joy', 'joy']]\",\n",
       " \"[['anger','surprise'], ['joy','surprise'], ['joy','surprise'], ['anger', 'joy'], ['anger','sadness'], ['anger','sadness'], ['anger','sadness']]\",\n",
       " \"[['joy','surprise'], ['anger','surprise'], ['joy','surprise'], ['joy','surprise'], ['anger','sadness'], ['anger','surprise'], ['sadness','surprise']]\",\n",
       " \"[['joy'], ['joy','sadness'], ['joy','sadness'], ['sadness', 'fear']]\",\n",
       " \"[['sadness'], ['anger'], ['fear','sadness'], ['sadness', 'joy']]\",\n",
       " \"[['joy','sadness'], ['anger'], ['sadness'], ['sadness', 'anger'], ['fear', 'joy'], ['joy','sadness'], ['joy'], ['joy'], ['joy']]\",\n",
       " \"[['sadness','surprise'], ['joy'], ['joy'], ['joy'], ['joy'], ['joy'], ['anger','sadness']]\",\n",
       " \"[['anger', 'fear'], ['surprise', 'fear'], ['surprise', 'joy'], ['sadness','surprise'], ['sadness','surprise'], ['anger','surprise'], ['anger','surprise']]\",\n",
       " \"[['surprise'], ['joy'], ['joy','surprise'], ['anger','surprise'], ['sadness', 'anger'], ['anger','surprise'], ['anger'], ['anger', 'fear'], ['anger']]\",\n",
       " \"[['anger'], ['fear','surprise'], ['fear']]\",\n",
       " \"[['joy', 'neutral'], ['joy'], ['anger'], ['fear','sadness'], ['sadness'], ['surprise', 'joy'], ['fear'], ['joy','sadness'], ['joy','sadness']]\",\n",
       " \"[['joy','sadness'], ['anger','sadness'], ['neutral', 'anger','sadness'], ['fear','sadness']]\",\n",
       " \"[['joy','surprise'], ['joy','sadness'], ['joy'], ['anger', 'joy'], ['anger', 'joy','surprise']]\",\n",
       " \"[['joy','surprise'], ['neutral', 'fear']]\",\n",
       " \"[['joy', 'neutral'], ['fear'], ['neutral'], ['neutral'], ['anger', 'disgust'], ['fear','sadness'], ['fear','sadness']]\",\n",
       " \"[['disgust', 'anger'], ['disgust', 'anger','sadness'], ['sadness', 'joy'], ['sadness', 'joy'], ['fear','sadness']]\",\n",
       " \"[['fear','surprise'], ['anger', 'fear'], ['joy','surprise'], ['surprise'], ['joy','surprise'], ['fear','sadness']]\",\n",
       " \"[['surprise', 'joy'], ['anger', 'fear']]\",\n",
       " \"[['joy'], ['anger', 'fear']]\",\n",
       " \"[['anger', 'disgust'], ['anger','sadness'], ['anger', 'fear'], ['neutral'], ['neutral'], ['neutral'], ['neutral'], ['neutral']]\",\n",
       " \"[['sadness'], ['fear'], ['fear','surprise'], ['surprise'], ['surprise', 'joy'], ['sadness'], ['sadness', 'fear']]\",\n",
       " \"[['anger'], ['anger', 'fear']]\",\n",
       " \"[['anger'], ['surprise'], ['anger'], ['anger'], ['fear'], ['anger'], ['anger'], ['anger']]\",\n",
       " \"[['anger','sadness'], ['fear','sadness'], ['fear','sadness'], ['fear','sadness'], ['neutral'], ['neutral'], ['sadness','surprise'], ['fear','sadness'], ['anger','sadness']]\",\n",
       " \"[['joy'], ['anger','surprise'], ['surprise'], ['anger'], ['anger','surprise'], ['anger','surprise'], ['anger','surprise'], ['anger','surprise'], ['anger','sadness'], ['anger','sadness'], ['anger', 'fear'], ['anger','surprise']]\",\n",
       " \"[['sadness'], ['sadness', 'anger'], ['joy','surprise'], ['fear','sadness'], ['fear'], ['neutral'], ['anger'], ['anger'], ['neutral'], ['surprise']]\",\n",
       " \"[['anger','surprise'], ['anger', 'fear'], ['fear','surprise', 'joy'], ['anger','sadness', 'fear'], ['anger', 'fear'], ['anger', 'fear'], ['anger', 'fear'], ['anger','sadness'], ['anger', 'disgust']]\",\n",
       " \"[['anger','surprise'], ['anger', 'fear'], ['anger'], ['joy'], ['joy'], ['joy'], ['joy'], ['anger','surprise'], ['anger'], ['anger', 'disgust'], ['anger', 'fear','surprise'], ['anger', 'fear','surprise'], ['anger', 'disgust'], ['anger', 'disgust'], ['anger', 'disgust']]\",\n",
       " \"[['neutral'], ['anger'], ['anger'], ['anger', 'disgust'], ['anger','sadness'], ['neutral'], ['neutral'], ['neutral'], ['anger'], ['fear'], ['anger'], ['anger', 'fear'], ['neutral']]\",\n",
       " \"[['sadness', 'joy'], ['fear','surprise'], ['fear','surprise'], ['anger','surprise'], ['fear','surprise'], ['fear','surprise'], ['anger', 'fear'], ['fear','sadness'], ['fear','surprise']]\",\n",
       " \"[['anger'], ['surprise'], ['surprise'], ['anger'], ['joy'], ['joy'], ['neutral'], ['anger'], ['anger'], ['anger'], ['surprise'], ['anger'], ['anger'], ['anger'], ['anger', 'joy'], ['surprise']]\",\n",
       " \"[['anger', 'fear'], ['anger', 'disgust'], ['neutral'], ['neutral'], ['joy','surprise'], ['neutral'], ['fear','surprise'], ['fear','surprise'], ['joy','surprise'], ['joy','surprise']]\",\n",
       " \"[['joy','surprise']]\",\n",
       " \"[['surprise', 'joy'], ['anger', 'fear']]\",\n",
       " \"[['anger', 'joy'], ['neutral'], ['sadness'], ['anger'], ['fear','surprise'], ['anger','sadness'], ['anger','sadness'], ['anger', 'joy'], ['fear','surprise']]\",\n",
       " \"[['joy'], ['surprise'], ['anger','surprise'], ['anger', 'disgust'], ['anger'], ['surprise', 'joy'], ['neutral', 'joy'], ['fear','sadness']]\",\n",
       " \"[['neutral'], ['fear'], ['fear', 'neutral']]\",\n",
       " \"[['fear'], ['joy','surprise'], ['joy','surprise'], ['joy','surprise'], ['fear','surprise'], ['neutral']]\",\n",
       " \"[['anger'], ['anger', 'fear'], ['sadness', 'anger'], ['sadness', 'joy']]\",\n",
       " \"[['sadness']]\",\n",
       " \"[['fear','surprise'], ['neutral', 'fear'], ['fear', 'neutral'], ['neutral', 'fear'], ['fear','surprise'], ['neutral', 'fear'], ['neutral', 'fear'], ['anger'], ['fear','surprise'], ['fear']]\",\n",
       " \"[['fear','surprise'], ['anger','surprise'], ['fear','surprise'], ['fear','surprise', 'joy'], ['fear','surprise'], ['fear','sadness','surprise'], ['fear','sadness','surprise'], ['fear','sadness','surprise'], ['fear','sadness','surprise']]\",\n",
       " \"[['joy','surprise'], ['anger', 'disgust'], ['curiosity'], ['joy', 'optimism'], ['anger','sadness'], ['joy'], ['joy'], ['joy'], ['joy'], ['joy'], ['anger','surprise'], ['neutral'], ['anger', 'disgust']]\",\n",
       " \"[['joy'], ['surprise', 'fear', 'anger'], ['surprise', 'joy']]\",\n",
       " \"[['surprise', 'curiosity'], ['surprise', 'fear'], ['surprise'], ['neutral'], ['curiosity'], ['fear', 'disgust'], ['anger', 'fear']]\",\n",
       " \"[['neutral'], ['surprise', 'disgust']]\",\n",
       " \"[['anger', 'fear'], ['fear','sadness','surprise'], ['sadness','surprise'], ['surprise', 'anger'], ['fear','surprise'], ['fear','sadness'], ['fear','sadness','surprise'], ['fear','surprise'], ['fear', 'anger','surprise'], ['anger', 'fear','surprise'], ['anger', 'fear']]\",\n",
       " \"[['fear','surprise'], ['fear', 'joy'], ['fear','surprise'], ['fear', 'disgust'], ['fear', 'anger','surprise'], ['fear','sadness'], ['fear','sadness'], ['fear','sadness']]\",\n",
       " \"[['fear'], ['fear','sadness'], ['fear', 'anger'], ['surprise', 'fear'], ['surprise', 'anger'], ['anger','surprise']]\",\n",
       " \"[['fear','surprise'], ['fear', 'joy'], ['anger','sadness'], ['fear','sadness','surprise'], ['fear','sadness']]\",\n",
       " \"[['sadness'], ['anger','surprise'], ['anger'], ['fear','surprise'], ['anger','surprise'], ['anger', 'fear'], ['anger', 'fear','sadness'], ['fear','sadness']]\",\n",
       " \"[['fear','sadness'], ['anger', 'fear','sadness'], ['anger', 'fear', 'disgust'], ['fear', 'anger', 'disgust'], ['anger', 'disgust'], ['anger', 'disgust'], ['anger','sadness']]\",\n",
       " \"[['sadness', 'anger'], ['anger', 'disgust'], ['anger','sadness'], ['sadness', 'fear'], ['fear','sadness']]\",\n",
       " \"[['anger', 'joy'], ['sadness', 'fear'], ['fear','sadness'], ['anger', 'fear'], ['anger', 'joy'], ['anger','surprise']]\",\n",
       " \"[['joy','surprise']]\",\n",
       " \"[['anger', 'fear'], ['anger', 'fear'], ['anger', 'fear','surprise'], ['fear','surprise'], ['anger', 'fear'], ['anger', 'fear']]\",\n",
       " \"[['anger']]\",\n",
       " \"[['sadness', 'neutral'], ['neutral'], ['sadness', 'joy','surprise']]\",\n",
       " \"[['sadness', 'fear'], ['fear','sadness'], ['anger','sadness'], ['anger', 'fear'], ['fear','sadness'], ['anger', 'fear'], ['fear','sadness'], ['anger', 'fear'], ['anger', 'fear'], ['anger', 'fear'], ['anger', 'fear'], ['fear','sadness'], ['anger', 'fear']]\",\n",
       " \"[['anger','sadness'], ['sadness', 'fear'], ['sadness', 'fear'], ['sadness', 'fear'], ['sadness', 'fear'], ['sadness', 'fear', 'joy'], ['sadness', 'fear', 'joy'], ['sadness', 'fear', 'joy'], ['sadness', 'fear', 'joy']]\",\n",
       " \"[['sadness', 'fear'], ['neutral'], ['fear'], ['fear','sadness'], ['fear', 'anger','surprise'], ['fear','sadness'], ['anger', 'fear','surprise'], ['sadness', 'fear'], ['fear','sadness']]\",\n",
       " \"[['sadness', 'fear'], ['sadness', 'fear'], ['anger', 'fear','sadness'], ['anger','sadness'], ['anger', 'fear','sadness'], ['anger', 'fear','sadness'], ['anger','sadness', 'fear'], ['anger','sadness', 'fear'], ['anger','sadness'], ['anger', 'fear','sadness'], ['anger', 'fear','sadness']]\",\n",
       " \"[['joy'], ['sadness'], ['sadness', 'fear'], ['anger', 'fear'], ['anger'], ['fear','surprise'], ['anger', 'fear'], ['anger', 'fear'], ['anger','surprise'], ['anger'], ['anger'], ['fear','surprise'], ['fear','surprise']]\",\n",
       " \"[['anger','sadness'], ['sadness', 'fear'], ['anger', 'fear'], ['anger','sadness'], ['sadness'], ['sadness'], ['sadness'], ['fear','sadness'], ['sadness', 'fear'], ['sadness', 'fear'], ['anger','sadness'], ['anger','sadness'], ['anger','sadness'], ['anger','sadness'], ['anger','sadness'], ['sadness', 'fear'], ['sadness', 'fear'], ['anger','sadness']]\",\n",
       " \"[['anger', 'fear'], ['fear','sadness'], ['fear','sadness'], ['surprise'], ['fear'], ['sadness'], ['surprise'], ['anger', 'fear'], ['fear','sadness'], ['fear','sadness'], ['fear','sadness'], ['anger', 'fear'], ['fear','surprise'], ['fear','surprise'], ['sadness'], ['fear','sadness'], ['fear','sadness'], ['fear','sadness']]\",\n",
       " \"[['surprise', 'joy'], ['sadness', 'joy'], ['joy', 'anger'], ['joy', 'fear'], ['joy', 'fear'], ['fear','sadness'], ['fear','sadness'], ['fear','sadness'], ['anger','sadness'], ['sadness'], ['sadness'], ['anger','sadness'], ['fear','sadness']]\",\n",
       " \"[['anger', 'fear'], ['fear','sadness'], ['anger', 'fear','sadness'], ['anger','sadness'], ['anger', 'fear'], ['anger','sadness'], ['fear','sadness'], ['fear','sadness'], ['sadness','surprise'], ['fear','sadness'], ['fear','sadness']]\",\n",
       " \"[['surprise'], ['anger','sadness'], ['fear','sadness'], ['fear','sadness'], ['fear','sadness'], ['anger', 'fear'], ['anger','sadness'], ['anger','sadness'], ['fear','sadness'], ['surprise'], ['sadness', 'joy'], ['sadness', 'joy'], ['surprise'], ['joy','sadness']]\",\n",
       " \"[['anger','sadness'], ['sadness', 'fear'], ['anger'], ['anger', 'fear'], ['anger', 'fear'], ['anger','sadness'], ['anger', 'fear'], ['anger','sadness'], ['anger','sadness'], ['anger','surprise']]\",\n",
       " \"[['anger','surprise'], ['anger', 'curiosity'], ['sadness', 'fear'], ['anger','sadness'], ['anger', 'fear'], ['anger','surprise'], ['anger', 'fear'], ['anger','surprise'], ['anger','surprise'], ['anger', 'fear'], ['anger', 'curiosity'], ['anger','surprise']]\",\n",
       " \"[['anger', 'fear'], ['anger', 'fear'], ['anger', 'fear'], ['anger', 'fear'], ['anger', 'fear'], ['anger', 'fear'], ['anger', 'fear'], ['anger', 'fear'], ['anger', 'fear'], ['anger', 'fear'], ['anger','surprise'], ['anger', 'fear']]\",\n",
       " \"[['anger', 'fear'], ['anger', 'fear'], ['anger', 'fear'], ['anger', 'fear'], ['anger', 'fear'], ['anger', 'fear']]\",\n",
       " \"[['surprise', 'joy'], ['anger'], ['fear','surprise'], ['fear','sadness'], ['anger'], ['anger'], ['fear','surprise'], ['fear'], ['fear', 'anger'], ['anger'], ['fear','sadness']]\",\n",
       " \"[['joy','sadness'], ['sadness'], ['sadness', 'curiosity'], ['anger','sadness'], ['sadness', 'joy'], ['sadness', 'joy'], ['sadness', 'joy']]\",\n",
       " \"[['sadness', 'joy', 'fear'], ['fear','sadness', 'joy'], ['sadness'], ['sadness'], ['sadness','surprise'], ['sadness','surprise'], ['sadness','surprise'], ['anger','sadness'], ['sadness', 'joy']]\",\n",
       " \"[['anger', 'disgust'], ['anger', 'disgust', 'fear'], ['joy','sadness'], ['anger','sadness'], ['anger','sadness'], ['sadness'], ['sadness'], ['sadness'], ['sadness'], ['anger']]\",\n",
       " \"[['joy'], ['fear','sadness'], ['anger'], ['fear','sadness'], ['fear','surprise'], ['fear','sadness'], ['fear', 'joy'], ['neutral']]\",\n",
       " \"[['joy'], ['fear', 'anger'], ['surprise', 'fear'], ['fear','surprise'], ['fear','sadness'], ['fear','sadness'], ['fear','sadness'], ['fear','sadness'], ['fear','surprise']]\",\n",
       " \"[['neutral'], ['anger', 'joy'], ['anger', 'fear']]\",\n",
       " \"[['fear','surprise'], ['joy','surprise']]\",\n",
       " \"[['anger', 'fear'], ['sadness','surprise'], ['sadness','surprise'], ['fear','sadness'], ['anger', 'fear'], ['fear','sadness']]\",\n",
       " \"[['anger', 'fear'], ['anger', 'fear'], ['fear','surprise'], ['fear', 'joy'], ['anger'], ['anger', 'fear','surprise']]\",\n",
       " \"[['fear','surprise'], ['joy','surprise'], ['anger'], ['anger','sadness'], ['fear'], ['anger']]\",\n",
       " \"[['surprise'], ['anger'], ['anger', 'disgust'], ['anger', 'disgust'], ['anger', 'fear'], ['anger']]\",\n",
       " \"[['anger'], ['surprise'], ['fear'], ['anger', 'fear'], ['fear','surprise'], ['fear', 'joy']]\",\n",
       " \"[['fear'], ['anger','surprise'], ['anger', 'fear'], ['anger'], ['anger','surprise']]\",\n",
       " \"[['fear','sadness'], ['fear','sadness'], ['fear','surprise'], ['fear','surprise'], ['fear', 'anger'], ['anger']]\",\n",
       " \"[['anger', 'disgust'], ['anger', 'fear'], ['surprise'], ['fear','surprise']]\",\n",
       " \"[['neutral'], ['anger'], ['fear','surprise'], ['fear','surprise'], ['sadness','surprise'], ['fear','surprise'], ['fear','surprise'], ['anger'], ['anger'], ['anger','surprise'], ['anger','surprise'], ['anger','surprise'], ['anger','surprise']]\",\n",
       " \"[['joy','surprise'], ['joy','surprise'], ['neutral','surprise'], ['neutral', 'curiosity'], ['neutral', 'curiosity'], ['fear','surprise'], ['anger'], ['anger', 'fear'], ['neutral', 'joy']]\",\n",
       " \"[['fear'], ['anger'], ['anger', 'disgust'], ['anger','sadness'], ['anger', 'joy'], ['anger', 'disgust']]\",\n",
       " \"[['anger'], ['surprise'], ['fear','surprise'], ['anger', 'fear'], ['surprise', 'joy'], ['sadness'], ['anger', 'disgust', 'fear'], ['anger', 'disgust', 'fear','surprise'], ['anger', 'fear'], ['anger', 'disgust', 'fear','surprise'], ['anger', 'disgust', 'fear'], ['anger', 'disgust', 'fear'], ['anger','surprise'], ['anger','surprise'], ['anger', 'joy'], ['anger', 'joy']]\",\n",
       " \"[['anger', 'fear'], ['anger'], ['anger', 'fear','surprise'], ['anger', 'fear'], ['joy'], ['fear','surprise'], ['fear','surprise'], ['fear', 'joy'], ['fear', 'joy'], ['fear','surprise', 'joy']]\",\n",
       " \"[['joy'], ['neutral'], ['fear','surprise'], ['curiosity'], ['fear'], ['joy'], ['joy','surprise'], ['anger', 'fear'], ['anger'], ['anger','surprise']]\",\n",
       " \"[['fear','sadness'], ['surprise'], ['surprise', 'fear'], ['surprise', 'joy'], ['fear'], ['fear'], ['fear','surprise'], ['anger', 'fear'], ['anger','sadness'], ['anger'], ['anger','sadness'], ['anger','sadness'], ['sadness', 'joy'], ['surprise', 'joy'], ['joy','sadness']]\",\n",
       " \"[['anger', 'fear'], ['anger'], ['anger'], ['anger'], ['anger'], ['anger'], ['anger'], ['anger']]\",\n",
       " \"[['anger'], ['neutral', 'fear'], ['surprise'], ['neutral'], ['neutral'], ['surprise'], ['fear', 'anger'], ['anger'], ['anger', 'fear'], ['anger', 'fear'], ['anger','sadness']]\",\n",
       " \"[['anger', 'disgust'], ['neutral'], ['anger', 'disgust'], ['anger'], ['anger','surprise'], ['anger','sadness'], ['surprise', 'anger'], ['anger'], ['anger'], ['joy'], ['joy'], ['anger', 'joy']]\",\n",
       " \"[['neutral']]\"]"
      ]
     },
     "execution_count": 171,
     "metadata": {},
     "output_type": "execute_result"
    }
   ],
   "source": [
    "predictions"
   ]
  },
  {
   "cell_type": "code",
   "execution_count": 172,
   "metadata": {},
   "outputs": [],
   "source": [
    "predictions_l = [ast.literal_eval(item) for item in predictions]"
   ]
  },
  {
   "cell_type": "code",
   "execution_count": 174,
   "metadata": {},
   "outputs": [
    {
     "name": "stdout",
     "output_type": "stream",
     "text": [
      "0 11 10\n",
      "1 7 8\n",
      "2 16 15\n",
      "3 21 20\n",
      "5 20 19\n",
      "7 16 15\n",
      "8 12 11\n",
      "10 14 16\n",
      "13 9 10\n",
      "14 23 21\n",
      "15 23 22\n",
      "16 13 14\n",
      "17 12 13\n",
      "18 13 14\n",
      "21 11 12\n",
      "24 13 12\n",
      "27 17 19\n",
      "44 7 8\n",
      "45 13 14\n",
      "46 11 10\n",
      "55 8 9\n",
      "56 7 8\n",
      "58 6 7\n",
      "59 6 7\n",
      "62 7 9\n",
      "65 8 9\n",
      "69 6 5\n",
      "71 8 7\n",
      "76 7 8\n",
      "77 6 7\n",
      "80 8 9\n",
      "86 10 9\n",
      "87 15 16\n",
      "91 8 9\n",
      "98 8 9\n",
      "103 13 11\n",
      "109 4 5\n",
      "118 12 11\n",
      "120 17 18\n",
      "121 19 18\n",
      "126 13 12\n",
      "128 7 6\n",
      "129 12 11\n",
      "131 8 9\n",
      "132 11 10\n",
      "138 7 6\n",
      "145 12 13\n",
      "149 11 10\n",
      "150 11 10\n",
      "151 14 15\n",
      "152 7 8\n"
     ]
    }
   ],
   "source": [
    "bad_idx = []\n",
    "\n",
    "for idx, (i,j) in enumerate(zip(grounds_l, predictions_l)):\n",
    "    if len(i) != len(j):\n",
    "        print(idx, len(i), len(j))\n",
    "        bad_idx.append(idx)"
   ]
  },
  {
   "cell_type": "code",
   "execution_count": 177,
   "metadata": {},
   "outputs": [],
   "source": [
    "for idx, (i,j) in enumerate(zip(grounds_l, predictions_l)):\n",
    "    if len(i) > len(j):\n",
    "        grounds_l[idx] = grounds_l[idx][:len(j)]\n",
    "    elif len(j) > len(i):\n",
    "        predictions_l[idx] = predictions_l[idx][:len(i)]\n",
    "    "
   ]
  },
  {
   "cell_type": "code",
   "execution_count": 178,
   "metadata": {},
   "outputs": [],
   "source": [
    "bad_idx = []\n",
    "\n",
    "for idx, (i,j) in enumerate(zip(grounds_l, predictions_l)):\n",
    "    if len(i) != len(j):\n",
    "        print(idx, len(i), len(j))\n",
    "        bad_idx.append(idx)"
   ]
  },
  {
   "cell_type": "code",
   "execution_count": 186,
   "metadata": {},
   "outputs": [],
   "source": [
    "grounds = [label for i, label in enumerate(grounds_l) if i not in bad_idx]\n",
    "predictions = [label for i, label in enumerate(predictions_l) if i not in bad_idx]"
   ]
  },
  {
   "cell_type": "code",
   "execution_count": 187,
   "metadata": {},
   "outputs": [
    {
     "data": {
      "text/plain": [
       "(156, 156)"
      ]
     },
     "execution_count": 187,
     "metadata": {},
     "output_type": "execute_result"
    }
   ],
   "source": [
    "len(grounds), len(predictions)"
   ]
  },
  {
   "cell_type": "code",
   "execution_count": 188,
   "metadata": {},
   "outputs": [],
   "source": [
    "grounds = [item for sublist in grounds for item in sublist]\n",
    "predictions = [item for sublist in predictions for item in sublist]"
   ]
  },
  {
   "cell_type": "code",
   "execution_count": 189,
   "metadata": {},
   "outputs": [],
   "source": [
    "from sklearn.metrics import classification_report\n",
    "from sklearn.preprocessing import MultiLabelBinarizer"
   ]
  },
  {
   "cell_type": "code",
   "execution_count": 190,
   "metadata": {},
   "outputs": [],
   "source": [
    "mlb = MultiLabelBinarizer()"
   ]
  },
  {
   "cell_type": "code",
   "execution_count": 191,
   "metadata": {},
   "outputs": [
    {
     "name": "stderr",
     "output_type": "stream",
     "text": [
      "/Utilisateurs/umushtaq/.conda/envs/triton_env/lib/python3.10/site-packages/sklearn/preprocessing/_label.py:909: UserWarning: unknown class(es) ['concern', 'confusion', 'curiosity', 'gratitude', 'love', 'optimism', 'shame'] will be ignored\n",
      "  warnings.warn(\n"
     ]
    }
   ],
   "source": [
    "y_true_mhot = mlb.fit_transform(grounds)\n",
    "y_pred_mhot = mlb.transform(predictions)"
   ]
  },
  {
   "cell_type": "code",
   "execution_count": 192,
   "metadata": {},
   "outputs": [
    {
     "data": {
      "text/plain": [
       "((1301, 7), (1301, 7))"
      ]
     },
     "execution_count": 192,
     "metadata": {},
     "output_type": "execute_result"
    }
   ],
   "source": [
    "y_true_mhot.shape, y_pred_mhot.shape"
   ]
  },
  {
   "cell_type": "code",
   "execution_count": 193,
   "metadata": {},
   "outputs": [
    {
     "name": "stdout",
     "output_type": "stream",
     "text": [
      "              precision    recall  f1-score   support\n",
      "\n",
      "       anger      0.482     0.666     0.559       443\n",
      "     disgust      0.082     0.122     0.098        49\n",
      "        fear      0.309     0.573     0.402       293\n",
      "         joy      0.440     0.419     0.430       291\n",
      "     neutral      0.217     0.189     0.202       106\n",
      "     sadness      0.477     0.435     0.455       338\n",
      "    surprise      0.390     0.407     0.398       349\n",
      "\n",
      "   micro avg      0.397     0.482     0.435      1869\n",
      "   macro avg      0.343     0.402     0.364      1869\n",
      "weighted avg      0.405     0.482     0.433      1869\n",
      " samples avg      0.400     0.491     0.417      1869\n",
      "\n"
     ]
    },
    {
     "name": "stderr",
     "output_type": "stream",
     "text": [
      "/Utilisateurs/umushtaq/.conda/envs/triton_env/lib/python3.10/site-packages/sklearn/metrics/_classification.py:1565: UndefinedMetricWarning: Precision is ill-defined and being set to 0.0 in samples with no predicted labels. Use `zero_division` parameter to control this behavior.\n",
      "  _warn_prf(average, modifier, f\"{metric.capitalize()} is\", len(result))\n"
     ]
    }
   ],
   "source": [
    "print(classification_report(y_true_mhot, y_pred_mhot, target_names=mlb.classes_, digits=3))"
   ]
  }
 ],
 "metadata": {
  "kernelspec": {
   "display_name": "Python (triton_env2)",
   "language": "python",
   "name": "triton_env"
  },
  "language_info": {
   "codemirror_mode": {
    "name": "ipython",
    "version": 3
   },
   "file_extension": ".py",
   "mimetype": "text/x-python",
   "name": "python",
   "nbconvert_exporter": "python",
   "pygments_lexer": "ipython3",
   "version": "3.10.16"
  }
 },
 "nbformat": 4,
 "nbformat_minor": 2
}
