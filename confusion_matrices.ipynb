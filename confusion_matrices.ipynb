{
 "cells": [
  {
   "cell_type": "code",
   "execution_count": 1,
   "metadata": {},
   "outputs": [],
   "source": [
    "import json\n",
    "import pickle\n",
    "import numpy as np\n",
    "import seaborn as sns\n",
    "\n",
    "import matplotlib.pyplot as plt\n",
    "from json_repair import repair_json\n",
    "\n",
    "from itertools import chain\n",
    "from collections import Counter\n",
    "from sklearn.metrics import confusion_matrix\n",
    "from sklearn.metrics import classification_report\n",
    "from sklearn.preprocessing import MultiLabelBinarizer"
   ]
  },
  {
   "cell_type": "markdown",
   "metadata": {},
   "source": [
    "## Utterance Level Confusion Matrix Multi-label"
   ]
  },
  {
   "cell_type": "code",
   "execution_count": 2,
   "metadata": {},
   "outputs": [],
   "source": [
    "# Load the pickled list\n",
    "with open(\"/Utilisateurs/umushtaq/emotion_analysis_comics/comics_ZSL/results/comics35_zs_llama-3-8b-Instruct-bnb-4bit/results.pickle\", 'rb') as f:\n",
    "    \n",
    "    results = pickle.load(f)"
   ]
  },
  {
   "cell_type": "code",
   "execution_count": 3,
   "metadata": {},
   "outputs": [],
   "source": [
    "grounds = results['grounds']\n",
    "predictions = results['predictions']"
   ]
  },
  {
   "cell_type": "code",
   "execution_count": 4,
   "metadata": {},
   "outputs": [],
   "source": [
    "predictions = [x.split(\"\\nOutput:assistant\\n\\n\")[1] for x in predictions]"
   ]
  },
  {
   "cell_type": "code",
   "execution_count": 5,
   "metadata": {},
   "outputs": [
    {
     "name": "stdout",
     "output_type": "stream",
     "text": [
      "597\n",
      "651\n",
      "1174\n",
      "1179\n",
      "1232\n",
      "1244\n",
      "4149\n",
      "4216\n",
      "4249\n",
      "4840\n",
      "6739\n",
      "6762\n",
      "6845\n",
      "6847\n",
      "6865\n",
      "6900\n",
      "6985\n",
      "7067\n"
     ]
    }
   ],
   "source": [
    "bad_idx = []\n",
    "processed_preds = []\n",
    "\n",
    "for i,x in enumerate(predictions):\n",
    "    try:\n",
    "        y = repair_json(x)\n",
    "        processed_preds.append(json.loads(y)[\"list_emotion_classes\"])\n",
    "    except:\n",
    "        print(i)\n",
    "        bad_idx.append(i)"
   ]
  },
  {
   "cell_type": "code",
   "execution_count": 6,
   "metadata": {},
   "outputs": [],
   "source": [
    "grounds = [item for i, item in enumerate(grounds) if i not in bad_idx]"
   ]
  },
  {
   "cell_type": "code",
   "execution_count": 7,
   "metadata": {},
   "outputs": [
    {
     "data": {
      "text/plain": [
       "(7111, 7111)"
      ]
     },
     "execution_count": 7,
     "metadata": {},
     "output_type": "execute_result"
    }
   ],
   "source": [
    "len(grounds), len(processed_preds)"
   ]
  },
  {
   "cell_type": "code",
   "execution_count": 8,
   "metadata": {},
   "outputs": [],
   "source": [
    "for idx, (i,j) in enumerate(zip(grounds, processed_preds)):\n",
    "    \n",
    "    if len(i) < len(j):\n",
    "\n",
    "        processed_preds[idx] = processed_preds[idx][:len(i)]"
   ]
  },
  {
   "cell_type": "code",
   "execution_count": 9,
   "metadata": {},
   "outputs": [
    {
     "name": "stdout",
     "output_type": "stream",
     "text": [
      "119 3 2\n",
      "146 2 1\n",
      "157 2 1\n",
      "207 2 1\n",
      "218 2 1\n",
      "232 3 2\n",
      "304 3 2\n",
      "330 3 1\n",
      "332 3 1\n",
      "334 3 2\n",
      "339 3 2\n",
      "347 3 2\n",
      "353 3 2\n",
      "354 3 2\n",
      "360 3 2\n",
      "376 2 1\n",
      "410 3 2\n",
      "440 3 2\n",
      "446 3 2\n",
      "476 3 2\n",
      "479 3 2\n",
      "565 3 2\n",
      "568 3 2\n",
      "570 3 2\n",
      "589 2 1\n",
      "593 2 1\n",
      "608 2 1\n",
      "611 3 2\n",
      "652 3 2\n",
      "662 2 1\n",
      "668 3 2\n",
      "672 3 2\n",
      "679 2 1\n",
      "742 2 1\n",
      "792 2 1\n",
      "843 2 1\n",
      "854 2 1\n",
      "952 3 2\n",
      "980 2 1\n",
      "1008 2 1\n",
      "1054 3 2\n",
      "1058 3 2\n",
      "1092 3 2\n",
      "1093 3 2\n",
      "1105 2 1\n",
      "1126 2 1\n",
      "1135 3 2\n",
      "1161 3 2\n",
      "1172 3 2\n",
      "1173 3 2\n",
      "1199 3 2\n",
      "1200 3 2\n",
      "1221 2 1\n",
      "1228 3 2\n",
      "1229 3 2\n",
      "1238 3 2\n",
      "1256 2 1\n",
      "1261 3 2\n",
      "1290 3 2\n",
      "1298 3 2\n",
      "1300 2 1\n",
      "1305 2 1\n",
      "1314 2 1\n",
      "1319 3 2\n",
      "1328 3 2\n",
      "1329 2 1\n",
      "1396 3 2\n",
      "1398 3 2\n",
      "1419 3 2\n",
      "1475 3 2\n",
      "1643 3 2\n",
      "1693 3 2\n",
      "1694 3 2\n",
      "1695 2 1\n",
      "1702 2 1\n",
      "1801 3 2\n",
      "1825 2 1\n",
      "1907 2 1\n",
      "1927 2 1\n",
      "1931 2 1\n",
      "1958 2 1\n",
      "1964 2 1\n",
      "1972 2 1\n",
      "1994 2 1\n",
      "2010 3 2\n",
      "2012 3 2\n",
      "2013 2 1\n",
      "2019 3 2\n",
      "2024 3 2\n",
      "2025 3 2\n",
      "2036 2 1\n",
      "2080 3 2\n",
      "2097 3 2\n",
      "2098 3 2\n",
      "2198 3 2\n",
      "2211 4 2\n",
      "2221 3 2\n",
      "2228 2 1\n",
      "2271 3 2\n",
      "2363 2 1\n",
      "2423 2 1\n",
      "2446 2 1\n",
      "2447 2 1\n",
      "2503 2 1\n",
      "2516 2 1\n",
      "2649 3 2\n",
      "2654 2 1\n",
      "2665 3 2\n",
      "2666 3 2\n",
      "2667 3 2\n",
      "2695 3 2\n",
      "2777 3 2\n",
      "2778 3 2\n",
      "2779 3 2\n",
      "2805 3 2\n",
      "2834 2 1\n",
      "2864 3 2\n",
      "2888 3 2\n",
      "2893 3 1\n",
      "2896 3 2\n",
      "2903 3 2\n",
      "2905 3 1\n",
      "2948 3 2\n",
      "2965 3 1\n",
      "2970 3 2\n",
      "2981 2 1\n",
      "2996 3 2\n",
      "2998 3 2\n",
      "2999 3 2\n",
      "3003 3 2\n",
      "3006 3 2\n",
      "3010 3 1\n",
      "3021 2 1\n",
      "3034 3 2\n",
      "3035 4 2\n",
      "3047 3 2\n",
      "3062 3 2\n",
      "3063 3 2\n",
      "3065 3 2\n",
      "3073 3 2\n",
      "3085 3 2\n",
      "3086 3 2\n",
      "3087 3 2\n",
      "3093 2 1\n",
      "3109 3 2\n",
      "3120 3 2\n",
      "3123 3 2\n",
      "3140 3 1\n",
      "3141 3 2\n",
      "3171 3 2\n",
      "3276 2 1\n",
      "3294 2 1\n",
      "3344 3 2\n",
      "3371 3 2\n",
      "3373 3 2\n",
      "3382 3 2\n",
      "3383 3 1\n",
      "3384 3 2\n",
      "3389 3 2\n",
      "3395 3 2\n",
      "3396 2 1\n",
      "3397 3 2\n",
      "3398 3 2\n",
      "3408 3 2\n",
      "3410 3 2\n",
      "3420 3 2\n",
      "3424 3 2\n",
      "3426 3 2\n",
      "3429 3 2\n",
      "3430 3 2\n",
      "3434 3 2\n",
      "3435 3 2\n",
      "3437 3 2\n",
      "3438 3 2\n",
      "3441 3 2\n",
      "3455 3 2\n",
      "3473 3 2\n",
      "3480 3 2\n",
      "3492 2 1\n",
      "3507 3 2\n",
      "3543 3 2\n",
      "3553 3 1\n",
      "3555 3 2\n",
      "3563 3 2\n",
      "3576 2 1\n",
      "3579 2 1\n",
      "3605 2 1\n",
      "3634 3 2\n",
      "3635 3 2\n",
      "3636 3 2\n",
      "3670 3 2\n",
      "3679 2 1\n",
      "3744 2 1\n",
      "3761 3 2\n",
      "3797 3 2\n",
      "3799 3 2\n",
      "3801 3 2\n",
      "3884 2 1\n",
      "3886 2 1\n",
      "3900 3 2\n",
      "3905 3 2\n",
      "3906 3 2\n",
      "3911 3 2\n",
      "3912 2 1\n",
      "3917 3 2\n",
      "3928 3 2\n",
      "3931 3 2\n",
      "3942 3 2\n",
      "3943 2 1\n",
      "3944 3 2\n",
      "3947 3 2\n",
      "3952 2 1\n",
      "3980 3 2\n",
      "3982 3 2\n",
      "3994 3 2\n",
      "4003 3 2\n",
      "4006 4 2\n",
      "4007 3 2\n",
      "4008 3 2\n",
      "4019 3 2\n",
      "4024 2 1\n",
      "4029 2 1\n",
      "4047 2 1\n",
      "4048 2 1\n",
      "4063 3 2\n",
      "4064 3 2\n",
      "4084 2 1\n",
      "4103 3 2\n",
      "4108 3 2\n",
      "4151 2 1\n",
      "4260 3 2\n",
      "4271 2 1\n",
      "4281 3 2\n",
      "4285 3 2\n",
      "4339 3 2\n",
      "4340 3 2\n",
      "4355 3 2\n",
      "4356 3 2\n",
      "4359 3 2\n",
      "4361 2 1\n",
      "4362 3 2\n",
      "4370 3 2\n",
      "4388 3 2\n",
      "4407 3 1\n",
      "4414 2 1\n",
      "4415 3 2\n",
      "4416 3 2\n",
      "4419 3 2\n",
      "4420 3 2\n",
      "4449 2 1\n",
      "4456 2 1\n",
      "4618 2 1\n",
      "4637 3 2\n",
      "4669 3 2\n",
      "4686 3 2\n",
      "4994 2 1\n",
      "5016 2 1\n",
      "5059 3 2\n",
      "5276 3 2\n",
      "5284 3 2\n",
      "5287 3 1\n",
      "5294 3 2\n",
      "5306 3 2\n",
      "5307 3 2\n",
      "5319 3 2\n",
      "5322 3 2\n",
      "5323 3 2\n",
      "5324 3 2\n",
      "5325 3 2\n",
      "5326 3 2\n",
      "5329 3 2\n",
      "5384 2 1\n",
      "5469 3 2\n",
      "5524 3 2\n",
      "5693 2 1\n",
      "5719 2 1\n",
      "5765 2 1\n",
      "5885 2 1\n",
      "6059 2 1\n",
      "6069 2 1\n",
      "6234 2 1\n",
      "6278 2 1\n",
      "6314 3 2\n",
      "6316 3 2\n",
      "6370 3 2\n",
      "6396 2 1\n",
      "6411 3 2\n",
      "6412 3 2\n",
      "6413 3 2\n",
      "6414 3 2\n",
      "6415 2 1\n",
      "6418 4 2\n",
      "6420 2 1\n",
      "6437 3 2\n",
      "6439 3 2\n",
      "6443 3 2\n",
      "6454 3 2\n",
      "6456 3 2\n",
      "6468 2 1\n",
      "6469 3 2\n",
      "6486 3 2\n",
      "6490 3 2\n",
      "6499 3 2\n",
      "6500 3 2\n",
      "6504 3 2\n",
      "6512 3 2\n",
      "6528 2 1\n",
      "6531 2 1\n",
      "6703 2 1\n",
      "6734 2 1\n",
      "6735 2 1\n",
      "6744 2 1\n",
      "6834 2 1\n",
      "6838 2 1\n",
      "6842 3 2\n",
      "6843 3 2\n",
      "6856 3 2\n",
      "6872 3 2\n",
      "6873 4 2\n",
      "6936 2 1\n",
      "6949 2 1\n",
      "6990 3 2\n",
      "6995 3 2\n",
      "6996 3 2\n",
      "6997 3 2\n",
      "6998 3 2\n",
      "6999 3 2\n",
      "7035 3 2\n",
      "7051 2 1\n",
      "7090 2 1\n",
      "7103 3 2\n",
      "7104 3 2\n",
      "7110 3 2\n"
     ]
    }
   ],
   "source": [
    "bad_idx = []\n",
    "\n",
    "for idx, (i,j) in enumerate(zip(grounds, processed_preds)):\n",
    "    if len(i) != len(j):\n",
    "        print(idx, len(i), len(j))\n",
    "        bad_idx.append(idx)"
   ]
  },
  {
   "cell_type": "code",
   "execution_count": 10,
   "metadata": {},
   "outputs": [],
   "source": [
    "grounds = [item for i, item in enumerate(grounds) if i not in bad_idx]\n",
    "processed_preds = [item for i, item in enumerate(processed_preds) if i not in bad_idx]"
   ]
  },
  {
   "cell_type": "code",
   "execution_count": 11,
   "metadata": {},
   "outputs": [],
   "source": [
    "mlb = MultiLabelBinarizer()"
   ]
  },
  {
   "cell_type": "code",
   "execution_count": 12,
   "metadata": {},
   "outputs": [
    {
     "name": "stderr",
     "output_type": "stream",
     "text": [
      "/Utilisateurs/umushtaq/.conda/envs/triton_env/lib/python3.10/site-packages/sklearn/preprocessing/_label.py:909: UserWarning: unknown class(es) ['anticipation', 'apologetic', 'apology', 'compassion', 'concern', 'conviction', 'curiosity', 'desperation', 'determination', 'frustration', 'gratitude', 'guilt', 'helpfulness', 'hope', 'love', 'pleading', 'relief', 'suspicion', 'trust', 'urgency', 'warmth'] will be ignored\n",
      "  warnings.warn(\n"
     ]
    }
   ],
   "source": [
    "y_true_mhot = mlb.fit_transform(grounds)\n",
    "y_pred_mhot = mlb.transform(processed_preds)"
   ]
  },
  {
   "cell_type": "code",
   "execution_count": 13,
   "metadata": {},
   "outputs": [
    {
     "name": "stdout",
     "output_type": "stream",
     "text": [
      "              precision    recall  f1-score   support\n",
      "\n",
      "       anger      0.401     0.850     0.545      2157\n",
      "     disgust      0.206     0.507     0.293       282\n",
      "        fear      0.490     0.327     0.392      1502\n",
      "         joy      0.622     0.278     0.384      1622\n",
      "     neutral      0.109     0.037     0.055       437\n",
      "     sadness      0.641     0.245     0.354      1634\n",
      "    surprise      0.563     0.492     0.525      1632\n",
      "\n",
      "   micro avg      0.450     0.446     0.448      9266\n",
      "   macro avg      0.433     0.391     0.364      9266\n",
      "weighted avg      0.505     0.446     0.424      9266\n",
      " samples avg      0.423     0.421     0.422      9266\n",
      "\n"
     ]
    },
    {
     "name": "stderr",
     "output_type": "stream",
     "text": [
      "/Utilisateurs/umushtaq/.conda/envs/triton_env/lib/python3.10/site-packages/sklearn/metrics/_classification.py:1565: UndefinedMetricWarning: Precision is ill-defined and being set to 0.0 in samples with no predicted labels. Use `zero_division` parameter to control this behavior.\n",
      "  _warn_prf(average, modifier, f\"{metric.capitalize()} is\", len(result))\n"
     ]
    }
   ],
   "source": [
    "print(classification_report(y_true_mhot, y_pred_mhot, target_names=mlb.classes_, digits=3))"
   ]
  },
  {
   "cell_type": "code",
   "execution_count": 14,
   "metadata": {},
   "outputs": [],
   "source": [
    "cm_g = [item for sublist in grounds for item in sublist]\n",
    "cm_p = [item for sublist in processed_preds for item in sublist]"
   ]
  },
  {
   "cell_type": "code",
   "execution_count": 17,
   "metadata": {},
   "outputs": [
    {
     "data": {
      "image/png": "[encoded data removed]",
      "text/plain": [
       "<Figure size 800x600 with 2 Axes>"
      ]
     },
     "metadata": {},
     "output_type": "display_data"
    }
   ],
   "source": [
    "all_labels = [\"anger\", \"disgust\", \"fear\", \"sadness\", \"surprise\", \"joy\", \"neutral\"]\n",
    "\n",
    "cm = confusion_matrix(cm_g, cm_p, labels=all_labels)\n",
    "\n",
    "#cm = confusion_matrix(grounds, processed_preds, labels=all_labels)\n",
    "\n",
    "# Plot confusion matrix\n",
    "plt.figure(figsize=(8, 6))\n",
    "sns.heatmap(cm, annot=True, fmt='d', cmap='Blues', xticklabels=all_labels, yticklabels=all_labels)\n",
    "plt.xlabel(\"Predicted Labels\")\n",
    "plt.ylabel(\"True Labels\")\n",
    "plt.title(\"Multi-Label Confusion Matrix\")\n",
    "plt.xticks(rotation=45, ha=\"right\")\n",
    "plt.yticks(rotation=0)\n",
    "plt.show()"
   ]
  },
  {
   "cell_type": "markdown",
   "metadata": {},
   "source": [
    "## Page level confusion matrix"
   ]
  },
  {
   "cell_type": "code",
   "execution_count": 18,
   "metadata": {},
   "outputs": [],
   "source": [
    "# Load the pickled list\n",
    "with open(\"/Utilisateurs/umushtaq/emotion_analysis_comics/comics_FT/saved_models/comics35_pg_llama-3-8b-Instruct-bnb-4bit/comics35_results_3.pickle\", 'rb') as f:\n",
    "    \n",
    "    results = pickle.load(f)"
   ]
  },
  {
   "cell_type": "code",
   "execution_count": 19,
   "metadata": {},
   "outputs": [],
   "source": [
    "grounds = results['grounds']\n",
    "predictions = results['predictions']"
   ]
  },
  {
   "cell_type": "code",
   "execution_count": 20,
   "metadata": {},
   "outputs": [],
   "source": [
    "grounds = [json.loads(x)[\"page_utterance_emotions\"] for x in grounds]\n",
    "predictions = [json.loads(x)[\"page_utterance_emotions\"] for x in predictions]"
   ]
  },
  {
   "cell_type": "code",
   "execution_count": 21,
   "metadata": {},
   "outputs": [
    {
     "name": "stdout",
     "output_type": "stream",
     "text": [
      "5 20 19\n",
      "6 15 14\n",
      "14 23 21\n",
      "36 17 16\n",
      "84 15 14\n",
      "103 13 12\n",
      "121 19 20\n"
     ]
    }
   ],
   "source": [
    "bad_idx = []\n",
    "\n",
    "for idx, (i,j) in enumerate(zip(grounds, predictions)):\n",
    "    if len(i) != len(j):\n",
    "        print(idx, len(i), len(j))\n",
    "        bad_idx.append(idx)"
   ]
  },
  {
   "cell_type": "code",
   "execution_count": 22,
   "metadata": {},
   "outputs": [],
   "source": [
    "grounds = [item for i, item in enumerate(grounds) if i not in bad_idx]\n",
    "predictions = [item for i, item in enumerate(predictions) if i not in bad_idx]"
   ]
  },
  {
   "cell_type": "code",
   "execution_count": 23,
   "metadata": {},
   "outputs": [
    {
     "data": {
      "text/plain": [
       "(149, 149)"
      ]
     },
     "execution_count": 23,
     "metadata": {},
     "output_type": "execute_result"
    }
   ],
   "source": [
    "len(grounds), len(predictions)"
   ]
  },
  {
   "cell_type": "code",
   "execution_count": 26,
   "metadata": {},
   "outputs": [],
   "source": [
    "grounds = [item for sublist in grounds for item in sublist]\n",
    "predictions = [item for sublist in predictions for item in sublist]"
   ]
  },
  {
   "cell_type": "code",
   "execution_count": 27,
   "metadata": {},
   "outputs": [],
   "source": [
    "mlb = MultiLabelBinarizer()"
   ]
  },
  {
   "cell_type": "code",
   "execution_count": 28,
   "metadata": {},
   "outputs": [],
   "source": [
    "y_true_mhot = mlb.fit_transform(grounds)\n",
    "y_pred_mhot = mlb.transform(predictions)"
   ]
  },
  {
   "cell_type": "code",
   "execution_count": 40,
   "metadata": {},
   "outputs": [
    {
     "data": {
      "text/plain": [
       "((1204, 7), (1204, 7))"
      ]
     },
     "execution_count": 40,
     "metadata": {},
     "output_type": "execute_result"
    }
   ],
   "source": [
    "y_true_mhot.shape, y_pred_mhot.shape"
   ]
  },
  {
   "cell_type": "code",
   "execution_count": 41,
   "metadata": {},
   "outputs": [
    {
     "name": "stdout",
     "output_type": "stream",
     "text": [
      "              precision    recall  f1-score   support\n",
      "\n",
      "       anger      0.607     0.553     0.579       416\n",
      "     disgust      0.206     0.171     0.187        41\n",
      "        fear      0.485     0.421     0.451       278\n",
      "         joy      0.598     0.543     0.569       276\n",
      "     neutral      0.644     0.422     0.510        90\n",
      "     sadness      0.527     0.645     0.580       301\n",
      "    surprise      0.627     0.576     0.600       330\n",
      "\n",
      "   micro avg      0.566     0.535     0.550      1732\n",
      "   macro avg      0.528     0.476     0.497      1732\n",
      "weighted avg      0.568     0.535     0.548      1732\n",
      " samples avg      0.594     0.559     0.549      1732\n",
      "\n"
     ]
    }
   ],
   "source": [
    "print(classification_report(y_true_mhot, y_pred_mhot, target_names=mlb.classes_, digits=3))"
   ]
  },
  {
   "cell_type": "code",
   "execution_count": 43,
   "metadata": {},
   "outputs": [
    {
     "data": {
      "text/plain": [
       "(1204, 1204)"
      ]
     },
     "execution_count": 43,
     "metadata": {},
     "output_type": "execute_result"
    }
   ],
   "source": [
    "len(grounds), len(predictions)"
   ]
  },
  {
   "cell_type": "code",
   "execution_count": 44,
   "metadata": {},
   "outputs": [],
   "source": [
    "grounds_e = []\n",
    "preds_e = []\n",
    "\n",
    "for grd, prd in zip(grounds, predictions):\n",
    "    if len(grd) == len(prd):\n",
    "        grounds_e.append(grd)\n",
    "        preds_e.append(prd)"
   ]
  },
  {
   "cell_type": "code",
   "execution_count": 45,
   "metadata": {},
   "outputs": [
    {
     "data": {
      "text/plain": [
       "(718, 718)"
      ]
     },
     "execution_count": 45,
     "metadata": {},
     "output_type": "execute_result"
    }
   ],
   "source": [
    "len(grounds_e), len(preds_e)"
   ]
  },
  {
   "cell_type": "code",
   "execution_count": 46,
   "metadata": {},
   "outputs": [],
   "source": [
    "cm_g_pg = [item for sublist in grounds_e for item in sublist]\n",
    "cm_p_pg = [item for sublist in preds_e for item in sublist]"
   ]
  },
  {
   "cell_type": "code",
   "execution_count": 47,
   "metadata": {},
   "outputs": [
    {
     "data": {
      "text/plain": [
       "(897, 897)"
      ]
     },
     "execution_count": 47,
     "metadata": {},
     "output_type": "execute_result"
    }
   ],
   "source": [
    "len(cm_g_pg), len(cm_p_pg)"
   ]
  },
  {
   "cell_type": "code",
   "execution_count": 48,
   "metadata": {},
   "outputs": [
    {
     "data": {
      "image/png": "[encoded data removed]",
      "text/plain": [
       "<Figure size 800x600 with 2 Axes>"
      ]
     },
     "metadata": {},
     "output_type": "display_data"
    }
   ],
   "source": [
    "all_labels = [\"anger\", \"disgust\", \"fear\", \"sadness\", \"surprise\", \"joy\", \"neutral\"]\n",
    "\n",
    "cm = confusion_matrix(cm_g_pg, cm_p_pg, labels=all_labels)\n",
    "\n",
    "#cm = confusion_matrix(grounds, processed_preds, labels=all_labels)\n",
    "\n",
    "# Plot confusion matrix\n",
    "plt.figure(figsize=(8, 6))\n",
    "sns.heatmap(cm, annot=True, fmt='d', cmap='Blues', xticklabels=all_labels, yticklabels=all_labels)\n",
    "plt.xlabel(\"Predicted Labels\")\n",
    "plt.ylabel(\"True Labels\")\n",
    "plt.title(\"Multi-Label Confusion Matrix\")\n",
    "plt.xticks(rotation=45, ha=\"right\")\n",
    "plt.yticks(rotation=0)\n",
    "plt.show()"
   ]
  },
  {
   "cell_type": "code",
   "execution_count": null,
   "metadata": {},
   "outputs": [],
   "source": []
  }
 ],
 "metadata": {
  "kernelspec": {
   "display_name": "Python (triton_env)",
   "language": "python",
   "name": "ft_llama"
  }
 },
 "nbformat": 4,
 "nbformat_minor": 2
}
