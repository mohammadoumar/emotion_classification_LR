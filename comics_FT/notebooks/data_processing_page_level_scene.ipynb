{
 "cells": [
  {
   "cell_type": "markdown",
   "id": "b20aa00d-c84a-4970-bc99-ffd9f8ed9776",
   "metadata": {},
   "source": [
    "# Data Pre-Processing"
   ]
  },
  {
   "cell_type": "code",
   "execution_count": 97,
   "id": "640868d0-4cf7-4fb0-bfb3-3ed663372d48",
   "metadata": {},
   "outputs": [],
   "source": [
    "import json\n",
    "import pandas as pd\n",
    "\n",
    "from pathlib import Path"
   ]
  },
  {
   "cell_type": "code",
   "execution_count": 98,
   "id": "7f0c44be-8571-45e5-a85e-808d4990a707",
   "metadata": {},
   "outputs": [],
   "source": [
    "df = pd.read_csv(\"/Utilisateurs/umushtaq/emotion_analysis_comics/dataset_files/comics_dataset_pg.csv\", index_col=0)"
   ]
  },
  {
   "cell_type": "code",
   "execution_count": 99,
   "id": "3c83ab60",
   "metadata": {},
   "outputs": [],
   "source": [
    "with open(\"/Utilisateurs/umushtaq/emotion_analysis_comics/comics_ZSL/scripts/scene_discriptions_vision.json\", \"r\") as f:\n",
    "    data = json.load(f)"
   ]
  },
  {
   "cell_type": "code",
   "execution_count": 100,
   "id": "0b71bb47",
   "metadata": {},
   "outputs": [],
   "source": [
    "new_column = data"
   ]
  },
  {
   "cell_type": "code",
   "execution_count": 101,
   "id": "7991c20a",
   "metadata": {},
   "outputs": [],
   "source": [
    "df['scene_description'] = new_column"
   ]
  },
  {
   "cell_type": "code",
   "execution_count": 102,
   "id": "92a17d33",
   "metadata": {},
   "outputs": [
    {
     "data": {
      "text/html": [
       "<div>\n",
       "<style scoped>\n",
       "    .dataframe tbody tr th:only-of-type {\n",
       "        vertical-align: middle;\n",
       "    }\n",
       "\n",
       "    .dataframe tbody tr th {\n",
       "        vertical-align: top;\n",
       "    }\n",
       "\n",
       "    .dataframe thead th {\n",
       "        text-align: right;\n",
       "    }\n",
       "</style>\n",
       "<table border=\"1\" class=\"dataframe\">\n",
       "  <thead>\n",
       "    <tr style=\"text-align: right;\">\n",
       "      <th></th>\n",
       "      <th>file_name</th>\n",
       "      <th>page_nr</th>\n",
       "      <th>split</th>\n",
       "      <th>utterance</th>\n",
       "      <th>emotion_c</th>\n",
       "      <th>scene_description</th>\n",
       "    </tr>\n",
       "  </thead>\n",
       "  <tbody>\n",
       "    <tr>\n",
       "      <th>0</th>\n",
       "      <td>QC copy - 1499 - 58 ECC Co_mics 50 _The Jurass...</td>\n",
       "      <td>1</td>\n",
       "      <td>TRAIN</td>\n",
       "      <td>[\"THIS VILE THING ATTACKED THE SMALL BEASTS OF...</td>\n",
       "      <td>[['anger'], ['anger'], ['fear'], ['fear'], ['f...</td>\n",
       "      <td>The comic page depicts a dramatic confrontatio...</td>\n",
       "    </tr>\n",
       "    <tr>\n",
       "      <th>1</th>\n",
       "      <td>QC copy - 1499 - 58 ECC Co_mics 50 _The Jurass...</td>\n",
       "      <td>2</td>\n",
       "      <td>TRAIN</td>\n",
       "      <td>[\"NO--  #GKKK\\u2026#\", \"#CHOMP!\", \"BY THE SKIN...</td>\n",
       "      <td>[['fear'], ['anger'], ['surprise'], ['anger'],...</td>\n",
       "      <td>The comic page depicts a tense and intense sce...</td>\n",
       "    </tr>\n",
       "    <tr>\n",
       "      <th>2</th>\n",
       "      <td>QC copy - 1499 - 58 ECC Co_mics 50 _The Jurass...</td>\n",
       "      <td>3</td>\n",
       "      <td>TRAIN</td>\n",
       "      <td>[\"COME ON, BEAST!\", \"SHOW YOURSELF!\", \"WHY DO ...</td>\n",
       "      <td>[['joy'], ['joy'], ['anger'], ['anger']]</td>\n",
       "      <td>The image depicts a comic book page featuring ...</td>\n",
       "    </tr>\n",
       "    <tr>\n",
       "      <th>3</th>\n",
       "      <td>QC copy - 1499 - 58 ECC Co_mics 50 _The Jurass...</td>\n",
       "      <td>4</td>\n",
       "      <td>TRAIN</td>\n",
       "      <td>[\"#AARGH! \"]</td>\n",
       "      <td>[['fear', 'surprise']]</td>\n",
       "      <td>The comic page depicts a dynamic scene with tw...</td>\n",
       "    </tr>\n",
       "    <tr>\n",
       "      <th>4</th>\n",
       "      <td>QC copy - 1499 - 58 ECC Co_mics 50 _The Jurass...</td>\n",
       "      <td>5</td>\n",
       "      <td>TRAIN</td>\n",
       "      <td>[\"I, THE GREEN TORCH, HAVE BEEN TASKED WITH PR...</td>\n",
       "      <td>[['anger'], ['anger'], ['fear'], ['fear', 'sur...</td>\n",
       "      <td>This comic page depicts a dramatic confrontati...</td>\n",
       "    </tr>\n",
       "    <tr>\n",
       "      <th>...</th>\n",
       "      <td>...</td>\n",
       "      <td>...</td>\n",
       "      <td>...</td>\n",
       "      <td>...</td>\n",
       "      <td>...</td>\n",
       "      <td>...</td>\n",
       "    </tr>\n",
       "    <tr>\n",
       "      <th>869</th>\n",
       "      <td>QC copy - 2200 - Stillwater 13.xlsx</td>\n",
       "      <td>16</td>\n",
       "      <td>TEST</td>\n",
       "      <td>[\"WE WERE IN GALEN'S OFFICE. YOU WERE ABOUT TO...</td>\n",
       "      <td>[['anger'], ['anger'], ['anger'], ['anger'], [...</td>\n",
       "      <td>The comic page presents a dramatic scene with ...</td>\n",
       "    </tr>\n",
       "    <tr>\n",
       "      <th>870</th>\n",
       "      <td>QC copy - 2200 - Stillwater 13.xlsx</td>\n",
       "      <td>17</td>\n",
       "      <td>TEST</td>\n",
       "      <td>[\"SO WHAT ARE WE GOING TO DO?\", \"THE WAY I SEE...</td>\n",
       "      <td>[['sadness', 'surprise'], ['anger'], ['anger']...</td>\n",
       "      <td>The comic page depicts a tense scene where a g...</td>\n",
       "    </tr>\n",
       "    <tr>\n",
       "      <th>871</th>\n",
       "      <td>QC copy - 2200 - Stillwater 13.xlsx</td>\n",
       "      <td>18</td>\n",
       "      <td>TEST</td>\n",
       "      <td>[\"KIDDIE COUNCIL'S BEEN GOING A LONG TIME... \"...</td>\n",
       "      <td>[['anger', 'sadness'], ['anger'], ['anger'], [...</td>\n",
       "      <td>The comic page presents a narrative that unfol...</td>\n",
       "    </tr>\n",
       "    <tr>\n",
       "      <th>872</th>\n",
       "      <td>QC copy - 2200 - Stillwater 13.xlsx</td>\n",
       "      <td>19</td>\n",
       "      <td>TEST</td>\n",
       "      <td>[\"IT'S BEEN\\u2026 PEACEFUL. ASIDE FROM SHIT LI...</td>\n",
       "      <td>[['anger'], ['joy'], ['joy'], ['anger', 'surpr...</td>\n",
       "      <td>The comic page depicts a tense scene where a f...</td>\n",
       "    </tr>\n",
       "    <tr>\n",
       "      <th>873</th>\n",
       "      <td>QC copy - 2200 - Stillwater 13.xlsx</td>\n",
       "      <td>20</td>\n",
       "      <td>TEST</td>\n",
       "      <td>[\"\\\" AND PAY OUR NEIGHBOURS A VISIT. \\\"\"]</td>\n",
       "      <td>[['anger', 'joy']]</td>\n",
       "      <td>The image depicts a comic book page featuring ...</td>\n",
       "    </tr>\n",
       "  </tbody>\n",
       "</table>\n",
       "<p>874 rows × 6 columns</p>\n",
       "</div>"
      ],
      "text/plain": [
       "                                             file_name  page_nr  split  \\\n",
       "0    QC copy - 1499 - 58 ECC Co_mics 50 _The Jurass...        1  TRAIN   \n",
       "1    QC copy - 1499 - 58 ECC Co_mics 50 _The Jurass...        2  TRAIN   \n",
       "2    QC copy - 1499 - 58 ECC Co_mics 50 _The Jurass...        3  TRAIN   \n",
       "3    QC copy - 1499 - 58 ECC Co_mics 50 _The Jurass...        4  TRAIN   \n",
       "4    QC copy - 1499 - 58 ECC Co_mics 50 _The Jurass...        5  TRAIN   \n",
       "..                                                 ...      ...    ...   \n",
       "869                QC copy - 2200 - Stillwater 13.xlsx       16   TEST   \n",
       "870                QC copy - 2200 - Stillwater 13.xlsx       17   TEST   \n",
       "871                QC copy - 2200 - Stillwater 13.xlsx       18   TEST   \n",
       "872                QC copy - 2200 - Stillwater 13.xlsx       19   TEST   \n",
       "873                QC copy - 2200 - Stillwater 13.xlsx       20   TEST   \n",
       "\n",
       "                                             utterance  \\\n",
       "0    [\"THIS VILE THING ATTACKED THE SMALL BEASTS OF...   \n",
       "1    [\"NO--  #GKKK\\u2026#\", \"#CHOMP!\", \"BY THE SKIN...   \n",
       "2    [\"COME ON, BEAST!\", \"SHOW YOURSELF!\", \"WHY DO ...   \n",
       "3                                         [\"#AARGH! \"]   \n",
       "4    [\"I, THE GREEN TORCH, HAVE BEEN TASKED WITH PR...   \n",
       "..                                                 ...   \n",
       "869  [\"WE WERE IN GALEN'S OFFICE. YOU WERE ABOUT TO...   \n",
       "870  [\"SO WHAT ARE WE GOING TO DO?\", \"THE WAY I SEE...   \n",
       "871  [\"KIDDIE COUNCIL'S BEEN GOING A LONG TIME... \"...   \n",
       "872  [\"IT'S BEEN\\u2026 PEACEFUL. ASIDE FROM SHIT LI...   \n",
       "873          [\"\\\" AND PAY OUR NEIGHBOURS A VISIT. \\\"\"]   \n",
       "\n",
       "                                             emotion_c  \\\n",
       "0    [['anger'], ['anger'], ['fear'], ['fear'], ['f...   \n",
       "1    [['fear'], ['anger'], ['surprise'], ['anger'],...   \n",
       "2             [['joy'], ['joy'], ['anger'], ['anger']]   \n",
       "3                               [['fear', 'surprise']]   \n",
       "4    [['anger'], ['anger'], ['fear'], ['fear', 'sur...   \n",
       "..                                                 ...   \n",
       "869  [['anger'], ['anger'], ['anger'], ['anger'], [...   \n",
       "870  [['sadness', 'surprise'], ['anger'], ['anger']...   \n",
       "871  [['anger', 'sadness'], ['anger'], ['anger'], [...   \n",
       "872  [['anger'], ['joy'], ['joy'], ['anger', 'surpr...   \n",
       "873                                 [['anger', 'joy']]   \n",
       "\n",
       "                                     scene_description  \n",
       "0    The comic page depicts a dramatic confrontatio...  \n",
       "1    The comic page depicts a tense and intense sce...  \n",
       "2    The image depicts a comic book page featuring ...  \n",
       "3    The comic page depicts a dynamic scene with tw...  \n",
       "4    This comic page depicts a dramatic confrontati...  \n",
       "..                                                 ...  \n",
       "869  The comic page presents a dramatic scene with ...  \n",
       "870  The comic page depicts a tense scene where a g...  \n",
       "871  The comic page presents a narrative that unfol...  \n",
       "872  The comic page depicts a tense scene where a f...  \n",
       "873  The image depicts a comic book page featuring ...  \n",
       "\n",
       "[874 rows x 6 columns]"
      ]
     },
     "execution_count": 102,
     "metadata": {},
     "output_type": "execute_result"
    }
   ],
   "source": [
    "df"
   ]
  },
  {
   "cell_type": "code",
   "execution_count": 115,
   "id": "0e9052a8",
   "metadata": {},
   "outputs": [],
   "source": [
    "df['utterance'] = df['utterance'].apply(json.loads)"
   ]
  },
  {
   "cell_type": "markdown",
   "id": "f6f2fa22-35d5-41aa-abf1-5a9987ee0b08",
   "metadata": {},
   "source": [
    "### Prepare prompts"
   ]
  },
  {
   "cell_type": "code",
   "execution_count": 116,
   "id": "3fd57164",
   "metadata": {},
   "outputs": [],
   "source": [
    "# Formatting Fx\n",
    "# Build questoin\n",
    "# Build answer"
   ]
  },
  {
   "cell_type": "code",
   "execution_count": 117,
   "id": "608f81e7",
   "metadata": {},
   "outputs": [],
   "source": [
    "def formatting_fct(instruction=\"\", input=\"\", output=\"\"):\n",
    "    \n",
    "    prompt_d ={\n",
    "            \n",
    "        \"instruction\": f\"\"\"{instruction}\"\"\",\n",
    "        \"input\": f\"\"\"{input}\"\"\",\n",
    "        \"output\": f\"\"\"{output}\"\"\"\n",
    "            \n",
    "        }\n",
    "    \n",
    "    return prompt_d"
   ]
  },
  {
   "cell_type": "code",
   "execution_count": 118,
   "id": "12ccbb5c-ac0c-4b96-800c-3cbc9b5c8c95",
   "metadata": {},
   "outputs": [],
   "source": [
    "# def build_instruction():\n",
    "#     emotion_classes = [\"anger\", \"disgust\", \"fear\", \"sadness\", \"surprise\", \"joy\", \"neutral\"]\n",
    "#     formatted_classes = \", \".join([f'\"{emotion}\"' for emotion in emotion_classes])\n",
    "    \n",
    "#     instruction = f\"\"\"### Emotion Analysis Expert Role\n",
    "\n",
    "# You are an advanced emotion analysis expert specializing in comic book dialogue interpretation. Your task is to analyze utterances and identify their emotional content.\n",
    "\n",
    "# INPUT:\n",
    "# - You will receive a list of utterances from a page in a comic book\n",
    "# - The utterance may express one or multiple emotions\n",
    "\n",
    "# TASK:\n",
    "# 1. Carefully analyze the emotional context and tone of each utterance in the page\n",
    "# 2. Identify applicable emotions from the following classes:\n",
    "#    {formatted_classes}\n",
    "# 3. For each utterance in a comic page, identify all emotions present and return an array of emotion arrays in order.\n",
    "\n",
    "# RULES:\n",
    "# 1. Use ONLY the labels listed above\n",
    "# 2. Output must be a JSON with single key \"page_utterance_emotions\"\n",
    "# 3. Value must be an array where:\n",
    "#    - Each element is an array of emotions for one utterance\n",
    "#    - Order matches the input utterances order\n",
    "#    - Multiple emotions are allowed per utterance\n",
    "# 4. No explanations, only JSON output\n",
    "\n",
    "# IMPORTANT:\n",
    "# - Each array element corresponds to one utterance\n",
    "# - One utterance can have multiple emotions\n",
    "# - Maintain exact spelling and case of emotion labels\n",
    "# - Keep emotions in arrays even for single emotions\n",
    "\n",
    "# \"\"\"\n",
    "#     return instruction"
   ]
  },
  {
   "cell_type": "code",
   "execution_count": 119,
   "id": "3617cfbf",
   "metadata": {},
   "outputs": [],
   "source": [
    "def build_instruction():\n",
    "    emotion_classes = [\"anger\", \"disgust\", \"fear\", \"sadness\", \"surprise\", \"joy\", \"neutral\"]\n",
    "    formatted_classes = \", \".join([f'\"{emotion}\"' for emotion in emotion_classes])\n",
    "    \n",
    "    instruction = f\"\"\"### Emotion Analysis Expert Role\n",
    "\n",
    "You are an advanced emotion analysis expert specializing in comic book dialogue interpretation. Your task is to analyze utterances and identify their emotional content.\n",
    "\n",
    "INPUT:\n",
    "- You will receive a list of utterances from a page in a comic book\n",
    "- The utterance may express one or multiple emotions\n",
    "\n",
    "TASK:\n",
    "1. Carefully analyze the emotional context and tone of each utterance in the page\n",
    "2. Identify applicable emotions from the following classes:\n",
    "   {formatted_classes}\n",
    "3. For each utterance in a comic page, identify all emotions present and return an array of emotion arrays in order.\n",
    "\n",
    "RULES:\n",
    "1. Use ONLY the labels listed above\n",
    "2. Output MUST BE a one-line compact JSON with single key \"page_utterance_emotions\"\n",
    "3. Respond ONLY with the JSON object. No additional text before or after.\n",
    "4. Value must be an array where:\n",
    "   - Each element is an array of emotions for one utterance\n",
    "   - Order matches the input utterances order\n",
    "   - Multiple emotions are allowed per utterance\n",
    "5. No explanations, only JSON output\n",
    "\n",
    "IMPORTANT:\n",
    "- Respond with a ONE-LINE JSON\n",
    "- Each array element corresponds to one utterance\n",
    "- One utterance can have multiple emotions\n",
    "- Maintain exact spelling and case of emotion labels\n",
    "- Keep emotions in arrays even for single emotions\n",
    "\n",
    "\"\"\"\n",
    "    return instruction"
   ]
  },
  {
   "cell_type": "code",
   "execution_count": 120,
   "id": "44e9dbd9",
   "metadata": {},
   "outputs": [],
   "source": [
    "# def build_tagged_text(utterances):\n",
    "\n",
    "#     concatenated_utterances = '\\n'.join(f\"{i + 1}. {line}\" for i, line in enumerate(utterances))\n",
    "    \n",
    "#     question = f\"\"\"Now analyze these utterances in a page:\\n{concatenated_utterances}\"\"\"\n",
    "\n",
    "#     return question"
   ]
  },
  {
   "cell_type": "code",
   "execution_count": 121,
   "id": "c49dd172",
   "metadata": {},
   "outputs": [],
   "source": [
    "def build_tagged_text(scene_description, utterances):\n",
    "    # Format the utterances with numbering\n",
    "    utterance_list = '\\n'.join(f'{i+1}: {line}' for i, line in enumerate(utterances))\n",
    "    \n",
    "    # Create the question with both scene description and utterances\n",
    "    question = f\"\"\"Scene Description: {scene_description}\n",
    "\n",
    "Utterances:\n",
    "{utterance_list}\"\"\"\n",
    "\n",
    "    return question"
   ]
  },
  {
   "cell_type": "code",
   "execution_count": 122,
   "id": "539b6d76",
   "metadata": {},
   "outputs": [],
   "source": [
    "def build_answer(utterance_emotions):\n",
    "                \n",
    "\n",
    "    return json.dumps({\"emotions\": utterance_emotions})"
   ]
  },
  {
   "cell_type": "markdown",
   "id": "fdd67b57",
   "metadata": {},
   "source": [
    "### Build Data Files"
   ]
  },
  {
   "cell_type": "code",
   "execution_count": 123,
   "id": "85fd7584",
   "metadata": {},
   "outputs": [],
   "source": [
    "df_train = df[df.split == 'TRAIN'].reset_index()\n",
    "\n",
    "data_file_train = []\n",
    "\n",
    "for index, _ in df_train.iterrows():\n",
    "    \n",
    "    i = index\n",
    "\n",
    "    instruction = build_instruction()\n",
    "    question = build_tagged_text(df_train.iloc[i].scene_description, df_train.iloc[i].utterance)\n",
    "    answer = build_answer(df_train.iloc[i].emotion_c)\n",
    "    \n",
    "    data_file_train.append( formatting_fct(instruction, question, answer) )"
   ]
  },
  {
   "cell_type": "code",
   "execution_count": 124,
   "id": "181fe00c",
   "metadata": {},
   "outputs": [
    {
     "data": {
      "text/plain": [
       "718"
      ]
     },
     "execution_count": 124,
     "metadata": {},
     "output_type": "execute_result"
    }
   ],
   "source": [
    "len(data_file_train)"
   ]
  },
  {
   "cell_type": "code",
   "execution_count": 125,
   "id": "47f46aa1-f3f0-4fc1-8902-b19947e9edd7",
   "metadata": {},
   "outputs": [
    {
     "name": "stdout",
     "output_type": "stream",
     "text": [
      "### Emotion Analysis Expert Role\n",
      "\n",
      "You are an advanced emotion analysis expert specializing in comic book dialogue interpretation. Your task is to analyze utterances and identify their emotional content.\n",
      "\n",
      "INPUT:\n",
      "- You will receive a list of utterances from a page in a comic book\n",
      "- The utterance may express one or multiple emotions\n",
      "\n",
      "TASK:\n",
      "1. Carefully analyze the emotional context and tone of each utterance in the page\n",
      "2. Identify applicable emotions from the following classes:\n",
      "   \"anger\", \"disgust\", \"fear\", \"sadness\", \"surprise\", \"joy\", \"neutral\"\n",
      "3. For each utterance in a comic page, identify all emotions present and return an array of emotion arrays in order.\n",
      "\n",
      "RULES:\n",
      "1. Use ONLY the labels listed above\n",
      "2. Output MUST BE a one-line compact JSON with single key \"page_utterance_emotions\"\n",
      "3. Respond ONLY with the JSON object. No additional text before or after.\n",
      "4. Value must be an array where:\n",
      "   - Each element is an array of emotions for one utterance\n",
      "   - Order matches the input utterances order\n",
      "   - Multiple emotions are allowed per utterance\n",
      "5. No explanations, only JSON output\n",
      "\n",
      "IMPORTANT:\n",
      "- Respond with a ONE-LINE JSON\n",
      "- Each array element corresponds to one utterance\n",
      "- One utterance can have multiple emotions\n",
      "- Maintain exact spelling and case of emotion labels\n",
      "- Keep emotions in arrays even for single emotions\n",
      "\n",
      "\n"
     ]
    }
   ],
   "source": [
    "print(data_file_train[0]['instruction'])"
   ]
  },
  {
   "cell_type": "code",
   "execution_count": 126,
   "id": "973189e0-9cf9-48a3-8ecb-c74f86aaa355",
   "metadata": {},
   "outputs": [
    {
     "name": "stdout",
     "output_type": "stream",
     "text": [
      "Scene Description: The comic page depicts a dramatic confrontation between two characters, with the villainous figure, Matilda, at the center. Her facial expression is twisted in a snarl, showcasing a mix of anger and menace, while her body language is tense and aggressive, with her arms raised and fists clenched. Her micro-expressions reveal a deep-seated hatred and resentment towards the protagonist.\n",
      "\n",
      "In contrast, the protagonist's expression is one of determination and fear, with their eyes wide and mouth open in a scream. Their body language is defensive, with their arms raised to protect themselves from Matilda's attack. Their micro-expressions convey a sense of desperation and urgency.\n",
      "\n",
      "The emotional atmosphere of the scene is tense and foreboding, with the dark colors and dramatic lighting contributing to a sense of foreboding. The narrative text provides context to the emotional state, highlighting the protagonist's fear and determination to protect themselves from Matilda's attack.\n",
      "\n",
      "The contrast between the two characters' emotional states is stark, with Matilda's anger and aggression pitted against the protagonist's fear and desperation. The visual elements of the page, including the facial expressions, body language, and micro-expressions, work together to convey the emotional intensity of the scene.\n",
      "\n",
      "Overall, the page effectively captures the emotional intensity of the confrontation between the two characters, with the visual and narrative elements working together to create a sense of tension and drama.\n",
      "\n",
      "Utterances:\n",
      "1: THIS VILE THING ATTACKED THE SMALL BEASTS OF MY SHORES… \n",
      "2: … IT PUNCHED MY BEAUTIFUL MATILDA… AND NOW IT BEGS FOR LIFE.\n",
      "3: MY MASTER!\n",
      "4: PLEASE!\n",
      "5: BUT I HAVE NOT CHASED THIS MONSTER ALL THIS WAY TO LET IT GROVEL!\n",
      "6: HEAL MEEE!\n",
      "7: I HAVE COME TO CONQ--!\n",
      "8: WHAT--\n",
      "9: --IS THAT?!\n",
      "10: NO! NO!\n"
     ]
    }
   ],
   "source": [
    "print(data_file_train[0]['input'])"
   ]
  },
  {
   "cell_type": "code",
   "execution_count": 127,
   "id": "8f133831-3c86-471c-b5d8-bbaa66eb525a",
   "metadata": {},
   "outputs": [
    {
     "name": "stdout",
     "output_type": "stream",
     "text": [
      "{\"emotions\": \"[['anger'], ['anger'], ['fear'], ['fear'], ['fear', 'sadness'], ['sadness'], ['anger'], ['surprise'], ['surprise'], ['fear', 'surprise']]\"}\n"
     ]
    }
   ],
   "source": [
    "print(data_file_train[0]['output'])"
   ]
  },
  {
   "cell_type": "code",
   "execution_count": 134,
   "id": "91becc82",
   "metadata": {},
   "outputs": [],
   "source": [
    "df_test = df[df.split == 'TEST'].reset_index()\n",
    "\n",
    "data_file_test = []\n",
    "\n",
    "for index, _ in df_test.iterrows():\n",
    "    \n",
    "    i = index\n",
    "\n",
    "    instruction = build_instruction()\n",
    "    question = build_tagged_text(df_test.iloc[i].scene_description, df_test.iloc[i].utterance)\n",
    "    answer = build_answer(df_test.iloc[i].emotion_c)\n",
    "    \n",
    "    data_file_test.append( formatting_fct(instruction, question, answer) )"
   ]
  },
  {
   "cell_type": "code",
   "execution_count": 135,
   "id": "96669b4f-b279-48ba-8b9b-d04f91d49c67",
   "metadata": {},
   "outputs": [
    {
     "data": {
      "text/plain": [
       "156"
      ]
     },
     "execution_count": 135,
     "metadata": {},
     "output_type": "execute_result"
    }
   ],
   "source": [
    "len(df_test)"
   ]
  },
  {
   "cell_type": "code",
   "execution_count": 140,
   "id": "6e2c531d-d86d-4289-8f3d-d00fd56d0051",
   "metadata": {},
   "outputs": [
    {
     "name": "stdout",
     "output_type": "stream",
     "text": [
      "Scene Description: The comic page presents a tense scene between a police officer and a young man, with the officer's stern expression contrasting with the young man's nervous demeanor.\n",
      "\n",
      "**Facial Expressions and Body Language**\n",
      "\n",
      "* The police officer's face is stern, with a furrowed brow and pursed lips, conveying a sense of authority and warning.\n",
      "* The young man's face is nervous, with a wide-eyed expression and a slight sweat on his forehead, indicating anxiety and fear.\n",
      "\n",
      "**Emotional Atmosphere**\n",
      "\n",
      "* The scene is tense and serious, with the police officer's stern expression setting the tone.\n",
      "* The young man's nervousness is palpable, as he is clearly intimidated by the officer's presence.\n",
      "\n",
      "**Emotional Subtext and Contrast**\n",
      "\n",
      "* The contrast between the officer's stern expression and the young man's nervousness creates an emotional tension between the two characters.\n",
      "* The officer's words, \"Call me 'Lady Cop', zero tolerance, okay?\" suggest a strict and no-nonsense approach, which adds to the tension.\n",
      "\n",
      "**Narrative Context**\n",
      "\n",
      "* The scene appears to be a confrontation between the police officer and the young man, possibly related to a traffic violation or another issue.\n",
      "* The officer's stern expression and the young man's nervousness suggest a power imbalance, with the officer holding the upper hand.\n",
      "\n",
      "**Typography and Text Analysis**\n",
      "\n",
      "* The text is presented in a clear and easy-to-read font, with the officer's dialogue in a larger size to emphasize her authority.\n",
      "* The use of quotation marks around the officer's dialogue adds a sense of formality and seriousness to the scene.\n",
      "\n",
      "**Conclusion**\n",
      "\n",
      "The comic page effectively conveys a tense and serious scene between a police officer and a young man, with the officer's stern expression and the young man's nervousness creating an emotional tension between the two characters.\n",
      "\n",
      "Utterances:\n",
      "1: DON'T TOUCH ME, GOOD LOOKS, AND DON'T EVER…\n",
      "2: ...EVER…\n",
      "3: … CALL ME \" LADY COP. \" ZERO TOLERANCE. OKAY?\n",
      "4: BUT OF COURSE, MA'AM. MY DEEP APOLOGIES.\n",
      "5: BUT… AM I SO WRONG ABOUT THE LAW HERE? I DON'T KNOW THAT I AM.\n",
      "6: YOU DON'T NEED A DRIVER'S LICENSE TO OFF-ROAD IN THE VALLEY.\n",
      "7: YOU DO NEED A DRIVER'S LICENSE AND A PERMIT TO DRIVE THIS… THING ON A PAVED STREET IN THE MIDDLE OF TOWN.\n",
      "8: THAT'S A TWO-HUNDRED - DOLLAR TICKET.\n",
      "9: CAN DRIVE IT THERE? CAN'T DRIVE IT HERE?\n",
      "10: WHAT'RE WE SUPPOSED TO DO, CARRY IT?!\n",
      "11: HEY! KRUNCH COULD PUT IT ON HIS HEAD AND WALK IT OVER, BALANCE IT. HE'S GOT NOTHING UP THERE TO DAMAGE.\n",
      "12: I COULD FIND SOMETHING OF YOURS TO DAMAGE!\n",
      "13: LOOK, IT'S TOO HOT TO FIGHT.\n",
      "14: AND FRANKLY, I'D RATHER HAVE YOU GUYS KNOCKING EACH OTHER AROUND OUT IN THE SAND THAN HERE IN THE TOWN.\n",
      "15: I GET A LITTLE TIRED OF BEING CALLED OUT OF THEA.C. EVERY TIME A DINGBAT DOES SOMETHING STUPID. WHICH IS OFTEN.\n",
      "16: I'LL ESCORT YOU TO THE VALLEY. COME BACK IN A BIT TO PICK YOU UP.\n",
      "17: YOU GOT MY CELL. CALL ME WHEN YOU'RE READY.\n",
      "18: YOU FOLLOW THE RULES, YOU STAY SAFE, WE FORGET ABOUT THE TICKET. OKAY?\n",
      "19: AH, LADY COP! YOU'RE THE BEST!\n",
      "20: GOOD LOOKS, WHAT THE HELL IS WRONG WITH YOU?!\n",
      "21: WHAT'D I JUST SAY ABOUT THAT? ARE YOU EVEN LISTENING?!\n"
     ]
    }
   ],
   "source": [
    "print(data_file_test[3]['input'])"
   ]
  },
  {
   "cell_type": "code",
   "execution_count": 141,
   "id": "95c7ad95",
   "metadata": {},
   "outputs": [
    {
     "name": "stdout",
     "output_type": "stream",
     "text": [
      "{\"emotions\": \"[['anger', 'disgust'], ['anger', 'disgust'], ['anger', 'disgust'], ['fear', 'sadness'], ['fear', 'sadness', 'surprise'], ['sadness'], ['sadness'], ['fear', 'sadness'], ['sadness', 'surprise'], ['sadness', 'surprise'], ['joy'], ['anger'], ['anger'], ['anger'], ['anger', 'disgust'], ['joy'], ['joy'], ['surprise', 'joy'], ['surprise', 'joy'], ['anger', 'surprise'], ['anger', 'surprise']]\"}\n"
     ]
    }
   ],
   "source": [
    "print(data_file_test[3]['output'])"
   ]
  },
  {
   "cell_type": "markdown",
   "id": "8bb35781",
   "metadata": {},
   "source": [
    "### Create and save JSON files"
   ]
  },
  {
   "cell_type": "code",
   "execution_count": 142,
   "id": "01306b8c",
   "metadata": {},
   "outputs": [],
   "source": [
    "file_path = Path(\"/Utilisateurs/umushtaq/emotion_analysis_comics/comics_FT/datasets\") / \"comics35_utterance_pg_scene_train.json\"\n",
    "\n",
    "with open(file_path, 'w') as file:\n",
    "    \n",
    "    json.dump(data_file_train, file)"
   ]
  },
  {
   "cell_type": "code",
   "execution_count": 143,
   "id": "9b6f5885",
   "metadata": {},
   "outputs": [],
   "source": [
    "file_path = Path(\"/Utilisateurs/umushtaq/emotion_analysis_comics/comics_FT/datasets\") / \"comics35_utterance_pg_scene_test.json\"\n",
    "\n",
    "with open(file_path, 'w') as file:\n",
    "    \n",
    "    json.dump(data_file_test, file)"
   ]
  },
  {
   "cell_type": "code",
   "execution_count": null,
   "id": "b6a1d9bf",
   "metadata": {},
   "outputs": [],
   "source": []
  }
 ],
 "metadata": {
  "kernelspec": {
   "display_name": "Python (triton_env2)",
   "language": "python",
   "name": "triton_env"
  }
 },
 "nbformat": 4,
 "nbformat_minor": 5
}
