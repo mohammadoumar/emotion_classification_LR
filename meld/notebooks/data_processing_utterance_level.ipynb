{
 "cells": [
  {
   "cell_type": "markdown",
   "id": "b20aa00d-c84a-4970-bc99-ffd9f8ed9776",
   "metadata": {},
   "source": [
    "# Dataset prepration for Emory NLP"
   ]
  },
  {
   "cell_type": "code",
   "execution_count": 1,
   "id": "640868d0-4cf7-4fb0-bfb3-3ed663372d48",
   "metadata": {},
   "outputs": [],
   "source": [
    "import os\n",
    "import glob\n",
    "import json\n",
    "import random\n",
    "from pathlib import Path\n",
    "import pandas as pd # type: ignore"
   ]
  },
  {
   "cell_type": "markdown",
   "id": "24a0bc00",
   "metadata": {},
   "source": [
    "### Read data files"
   ]
  },
  {
   "cell_type": "code",
   "execution_count": 2,
   "id": "7f0c44be-8571-45e5-a85e-808d4990a707",
   "metadata": {},
   "outputs": [],
   "source": [
    "df_train = pd.read_csv(\"/Utilisateurs/umushtaq/emotion_analysis_comics/meld/data_files/train_sent_emo.csv\")\n",
    "df_test = pd.read_csv(\"/Utilisateurs/umushtaq/emotion_analysis_comics/meld/data_files/test_sent_emo.csv\")\n",
    "df_dev = pd.read_csv(\"/Utilisateurs/umushtaq/emotion_analysis_comics/meld/data_files/dev_sent_emo.csv\")"
   ]
  },
  {
   "cell_type": "code",
   "execution_count": 3,
   "id": "dcf9f155-8e66-4a51-ae38-d0dd5f58006b",
   "metadata": {},
   "outputs": [
    {
     "data": {
      "text/html": [
       "<div>\n",
       "<style scoped>\n",
       "    .dataframe tbody tr th:only-of-type {\n",
       "        vertical-align: middle;\n",
       "    }\n",
       "\n",
       "    .dataframe tbody tr th {\n",
       "        vertical-align: top;\n",
       "    }\n",
       "\n",
       "    .dataframe thead th {\n",
       "        text-align: right;\n",
       "    }\n",
       "</style>\n",
       "<table border=\"1\" class=\"dataframe\">\n",
       "  <thead>\n",
       "    <tr style=\"text-align: right;\">\n",
       "      <th></th>\n",
       "      <th>Sr No.</th>\n",
       "      <th>Utterance</th>\n",
       "      <th>Speaker</th>\n",
       "      <th>Emotion</th>\n",
       "      <th>Sentiment</th>\n",
       "      <th>Dialogue_ID</th>\n",
       "      <th>Utterance_ID</th>\n",
       "      <th>Season</th>\n",
       "      <th>Episode</th>\n",
       "      <th>StartTime</th>\n",
       "      <th>EndTime</th>\n",
       "    </tr>\n",
       "  </thead>\n",
       "  <tbody>\n",
       "    <tr>\n",
       "      <th>0</th>\n",
       "      <td>1</td>\n",
       "      <td>Oh my God, he’s lost it. He’s totally lost it.</td>\n",
       "      <td>Phoebe</td>\n",
       "      <td>sadness</td>\n",
       "      <td>negative</td>\n",
       "      <td>0</td>\n",
       "      <td>0</td>\n",
       "      <td>4</td>\n",
       "      <td>7</td>\n",
       "      <td>00:20:57,256</td>\n",
       "      <td>00:21:00,049</td>\n",
       "    </tr>\n",
       "    <tr>\n",
       "      <th>1</th>\n",
       "      <td>2</td>\n",
       "      <td>What?</td>\n",
       "      <td>Monica</td>\n",
       "      <td>surprise</td>\n",
       "      <td>negative</td>\n",
       "      <td>0</td>\n",
       "      <td>1</td>\n",
       "      <td>4</td>\n",
       "      <td>7</td>\n",
       "      <td>00:21:01,927</td>\n",
       "      <td>00:21:03,261</td>\n",
       "    </tr>\n",
       "    <tr>\n",
       "      <th>2</th>\n",
       "      <td>3</td>\n",
       "      <td>Or! Or, we could go to the bank, close our acc...</td>\n",
       "      <td>Ross</td>\n",
       "      <td>neutral</td>\n",
       "      <td>neutral</td>\n",
       "      <td>1</td>\n",
       "      <td>0</td>\n",
       "      <td>4</td>\n",
       "      <td>4</td>\n",
       "      <td>00:12:24,660</td>\n",
       "      <td>00:12:30,915</td>\n",
       "    </tr>\n",
       "    <tr>\n",
       "      <th>3</th>\n",
       "      <td>4</td>\n",
       "      <td>You’re a genius!</td>\n",
       "      <td>Chandler</td>\n",
       "      <td>joy</td>\n",
       "      <td>positive</td>\n",
       "      <td>1</td>\n",
       "      <td>1</td>\n",
       "      <td>4</td>\n",
       "      <td>4</td>\n",
       "      <td>00:12:32,334</td>\n",
       "      <td>00:12:33,960</td>\n",
       "    </tr>\n",
       "    <tr>\n",
       "      <th>4</th>\n",
       "      <td>5</td>\n",
       "      <td>Aww, man, now we won’t be bank buddies!</td>\n",
       "      <td>Joey</td>\n",
       "      <td>sadness</td>\n",
       "      <td>negative</td>\n",
       "      <td>1</td>\n",
       "      <td>2</td>\n",
       "      <td>4</td>\n",
       "      <td>4</td>\n",
       "      <td>00:12:34,211</td>\n",
       "      <td>00:12:37,505</td>\n",
       "    </tr>\n",
       "    <tr>\n",
       "      <th>...</th>\n",
       "      <td>...</td>\n",
       "      <td>...</td>\n",
       "      <td>...</td>\n",
       "      <td>...</td>\n",
       "      <td>...</td>\n",
       "      <td>...</td>\n",
       "      <td>...</td>\n",
       "      <td>...</td>\n",
       "      <td>...</td>\n",
       "      <td>...</td>\n",
       "      <td>...</td>\n",
       "    </tr>\n",
       "    <tr>\n",
       "      <th>1104</th>\n",
       "      <td>1174</td>\n",
       "      <td>No.</td>\n",
       "      <td>Monica</td>\n",
       "      <td>sadness</td>\n",
       "      <td>negative</td>\n",
       "      <td>113</td>\n",
       "      <td>9</td>\n",
       "      <td>6</td>\n",
       "      <td>2</td>\n",
       "      <td>00:19:28,792</td>\n",
       "      <td>00:19:29,876</td>\n",
       "    </tr>\n",
       "    <tr>\n",
       "      <th>1105</th>\n",
       "      <td>1175</td>\n",
       "      <td>What? Oh my God! I’m gonna miss you so much!</td>\n",
       "      <td>Rachel</td>\n",
       "      <td>sadness</td>\n",
       "      <td>negative</td>\n",
       "      <td>113</td>\n",
       "      <td>10</td>\n",
       "      <td>6</td>\n",
       "      <td>2</td>\n",
       "      <td>00:19:33,213</td>\n",
       "      <td>00:19:35,965</td>\n",
       "    </tr>\n",
       "    <tr>\n",
       "      <th>1106</th>\n",
       "      <td>1176</td>\n",
       "      <td>I’m gonna miss you!</td>\n",
       "      <td>Monica</td>\n",
       "      <td>sadness</td>\n",
       "      <td>negative</td>\n",
       "      <td>113</td>\n",
       "      <td>11</td>\n",
       "      <td>6</td>\n",
       "      <td>2</td>\n",
       "      <td>00:19:36,175</td>\n",
       "      <td>00:19:37,967</td>\n",
       "    </tr>\n",
       "    <tr>\n",
       "      <th>1107</th>\n",
       "      <td>1177</td>\n",
       "      <td>I mean it’s the end of an era!</td>\n",
       "      <td>Rachel</td>\n",
       "      <td>sadness</td>\n",
       "      <td>negative</td>\n",
       "      <td>113</td>\n",
       "      <td>12</td>\n",
       "      <td>6</td>\n",
       "      <td>2</td>\n",
       "      <td>00:19:39,094</td>\n",
       "      <td>00:19:40,928</td>\n",
       "    </tr>\n",
       "    <tr>\n",
       "      <th>1108</th>\n",
       "      <td>1178</td>\n",
       "      <td>I know!</td>\n",
       "      <td>Monica</td>\n",
       "      <td>sadness</td>\n",
       "      <td>negative</td>\n",
       "      <td>113</td>\n",
       "      <td>13</td>\n",
       "      <td>6</td>\n",
       "      <td>2</td>\n",
       "      <td>00:19:41,138</td>\n",
       "      <td>00:19:42,638</td>\n",
       "    </tr>\n",
       "  </tbody>\n",
       "</table>\n",
       "<p>1109 rows × 11 columns</p>\n",
       "</div>"
      ],
      "text/plain": [
       "      Sr No.                                          Utterance   Speaker  \\\n",
       "0          1     Oh my God, he’s lost it. He’s totally lost it.    Phoebe   \n",
       "1          2                                              What?    Monica   \n",
       "2          3  Or! Or, we could go to the bank, close our acc...      Ross   \n",
       "3          4                                   You’re a genius!  Chandler   \n",
       "4          5            Aww, man, now we won’t be bank buddies!      Joey   \n",
       "...      ...                                                ...       ...   \n",
       "1104    1174                                                No.    Monica   \n",
       "1105    1175       What? Oh my God! I’m gonna miss you so much!    Rachel   \n",
       "1106    1176                                I’m gonna miss you!    Monica   \n",
       "1107    1177                     I mean it’s the end of an era!    Rachel   \n",
       "1108    1178                                            I know!    Monica   \n",
       "\n",
       "       Emotion Sentiment  Dialogue_ID  Utterance_ID  Season  Episode  \\\n",
       "0      sadness  negative            0             0       4        7   \n",
       "1     surprise  negative            0             1       4        7   \n",
       "2      neutral   neutral            1             0       4        4   \n",
       "3          joy  positive            1             1       4        4   \n",
       "4      sadness  negative            1             2       4        4   \n",
       "...        ...       ...          ...           ...     ...      ...   \n",
       "1104   sadness  negative          113             9       6        2   \n",
       "1105   sadness  negative          113            10       6        2   \n",
       "1106   sadness  negative          113            11       6        2   \n",
       "1107   sadness  negative          113            12       6        2   \n",
       "1108   sadness  negative          113            13       6        2   \n",
       "\n",
       "         StartTime       EndTime  \n",
       "0     00:20:57,256  00:21:00,049  \n",
       "1     00:21:01,927  00:21:03,261  \n",
       "2     00:12:24,660  00:12:30,915  \n",
       "3     00:12:32,334  00:12:33,960  \n",
       "4     00:12:34,211  00:12:37,505  \n",
       "...            ...           ...  \n",
       "1104  00:19:28,792  00:19:29,876  \n",
       "1105  00:19:33,213  00:19:35,965  \n",
       "1106  00:19:36,175  00:19:37,967  \n",
       "1107  00:19:39,094  00:19:40,928  \n",
       "1108  00:19:41,138  00:19:42,638  \n",
       "\n",
       "[1109 rows x 11 columns]"
      ]
     },
     "execution_count": 3,
     "metadata": {},
     "output_type": "execute_result"
    }
   ],
   "source": [
    "df_dev"
   ]
  },
  {
   "cell_type": "code",
   "execution_count": 4,
   "id": "e3d0ad38-7fc1-494b-b194-26dda0dfc415",
   "metadata": {},
   "outputs": [
    {
     "data": {
      "text/plain": [
       "Emotion\n",
       "neutral     470\n",
       "joy         163\n",
       "anger       153\n",
       "surprise    150\n",
       "sadness     111\n",
       "fear         40\n",
       "disgust      22\n",
       "Name: count, dtype: int64"
      ]
     },
     "execution_count": 4,
     "metadata": {},
     "output_type": "execute_result"
    }
   ],
   "source": [
    "df_dev.Emotion.value_counts()"
   ]
  },
  {
   "cell_type": "markdown",
   "id": "78587a7c",
   "metadata": {},
   "source": [
    "### Paths"
   ]
  },
  {
   "cell_type": "code",
   "execution_count": 5,
   "id": "e8f654b2-a65e-4d91-8dc3-88980aaac27f",
   "metadata": {},
   "outputs": [],
   "source": [
    "current_dir = Path.cwd()\n",
    "dataset_dir = current_dir / \"emotion_analysis_comics\" / \"meld\" / \"datasets\""
   ]
  },
  {
   "cell_type": "code",
   "execution_count": 6,
   "id": "123f56a4",
   "metadata": {},
   "outputs": [
    {
     "data": {
      "text/plain": [
       "PosixPath('/Utilisateurs/umushtaq/emotion_analysis_comics/meld/datasets')"
      ]
     },
     "execution_count": 6,
     "metadata": {},
     "output_type": "execute_result"
    }
   ],
   "source": [
    "dataset_dir"
   ]
  },
  {
   "cell_type": "markdown",
   "id": "f6f2fa22-35d5-41aa-abf1-5a9987ee0b08",
   "metadata": {},
   "source": [
    "### Prepare prompts"
   ]
  },
  {
   "cell_type": "code",
   "execution_count": 8,
   "id": "3fd57164",
   "metadata": {},
   "outputs": [],
   "source": [
    "# Formatting Fx\n",
    "# Build questoin\n",
    "# Build answer"
   ]
  },
  {
   "cell_type": "raw",
   "id": "dd845ef4",
   "metadata": {
    "vscode": {
     "languageId": "raw"
    }
   },
   "source": [
    "neutral     470\n",
    "joy         163\n",
    "anger       153\n",
    "surprise    150\n",
    "sadness     111\n",
    "fear         40\n",
    "disgust      22"
   ]
  },
  {
   "cell_type": "code",
   "execution_count": 9,
   "id": "608f81e7",
   "metadata": {},
   "outputs": [],
   "source": [
    "def formatting_fct(instruction=\"\", input=\"\", output=\"\"):\n",
    "    \n",
    "    prompt_d ={\n",
    "            \n",
    "        \"instruction\": f\"\"\"{instruction}\"\"\",\n",
    "        \"input\": f\"\"\"{input}\"\"\",\n",
    "        \"output\": f\"\"\"{output}\"\"\"\n",
    "            \n",
    "        }\n",
    "    \n",
    "    return prompt_d"
   ]
  },
  {
   "cell_type": "code",
   "execution_count": 10,
   "id": "b107f77e",
   "metadata": {},
   "outputs": [],
   "source": [
    "def build_instruction():\n",
    "\n",
    "    #results = json.dumps([\"emotion_class (str)\"] * nr_utterances)\n",
    "\n",
    "    instruction = f\"\"\"### You are an expert in Emotion Analysis. You are given an utterance from a tv show enclosed by <UT></UT> tags. Your task is to classify each utterance as one the following emotion classes: \"anger\", \"surprise\", \"sadness\", \"fear\", \"disgust\", \"joy\" or \"neutral\". You must return an emotion class in following JSON format: {{\"emotion_class\": [\"emotion_class (str)\"]}} where \"emotion_classes (str)\" is replaced by one of the following abbreviated emotion class labels: \"anger\", \"surprise\", \"sadness\", \"fear\", \"disgust\", \"joy\" or \"neutral\". \n",
    "\"\"\"    \n",
    "    return instruction"
   ]
  },
  {
   "cell_type": "code",
   "execution_count": 11,
   "id": "44e9dbd9",
   "metadata": {},
   "outputs": [],
   "source": [
    "def build_tagged_text(utterance):\n",
    "\n",
    "    # tagged_utterances_l = []\n",
    "\n",
    "    # for idx, utterance in enumerate(utterances_l):\n",
    "        \n",
    "    #     start_tag = \"<UT\" + str(idx+1) + \">\"\n",
    "    #     end_tag = \"</UT\" + str(idx+1) + \">\"\n",
    "    #     tagged_utterance = start_tag + utterance + end_tag\n",
    "    #     tagged_utterances_l.append(tagged_utterance)\n",
    "        \n",
    "    # tagged_title_text = ''.join(tagged_utterances_l)\n",
    "    \n",
    "    tagged_utterance = \"<UT>\" + utterance + \"</UT>\"\n",
    "    question = f\"\"\"### Here is the utterance from a tv show: {tagged_utterance}\"\"\"\n",
    "\n",
    "    return question"
   ]
  },
  {
   "cell_type": "code",
   "execution_count": 12,
   "id": "b268e896",
   "metadata": {},
   "outputs": [],
   "source": [
    "# utterance_emotions_l = []\n",
    "#     emotion_class_labels = [\"Anger\", \"Disgust\", \"Fear\", \"Sadness\", \"Surprise\", \"Joy\"]\n",
    "\n",
    "#     if utterance_emotions == 'Neutral':\n",
    "        \n",
    "#         utterance_emotions_l.append([utterance_emotions])\n",
    "    \n",
    "#     else:\n",
    "#         utterance_emotions = utterance_emotions.split(\"-\")\n",
    "       \n",
    "#         #emotion_annotation_l = []\n",
    "\n",
    "#         for idx, emotion_annotation in enumerate(utterance_emotions):\n",
    "\n",
    "#             if '0' not in emotion_annotation:\n",
    "         \n",
    "#                 #emotion_annotation_l.append(emotion_class_labels[idx])\n",
    "#                 utterance_emotions_l.append(emotion_annotation[:-1])\n",
    "            \n",
    "#         #title_emotions_l.append(emotion_annotation_l)"
   ]
  },
  {
   "cell_type": "code",
   "execution_count": 13,
   "id": "539b6d76",
   "metadata": {},
   "outputs": [],
   "source": [
    "def build_answer(utterance_emotion):    \n",
    "                \n",
    "\n",
    "    return json.dumps({\"emotion_class\": [utterance_emotion]})"
   ]
  },
  {
   "cell_type": "markdown",
   "id": "fdd67b57",
   "metadata": {},
   "source": [
    "### Build Data Files"
   ]
  },
  {
   "cell_type": "code",
   "execution_count": 14,
   "id": "85fd7584",
   "metadata": {},
   "outputs": [],
   "source": [
    "#df_train = df[df.split == 'TRAIN'].reset_index()\n",
    "\n",
    "data_file_train = []\n",
    "\n",
    "for index, _ in df_train.iterrows():\n",
    "    \n",
    "    i = index\n",
    "\n",
    "    instruction = build_instruction()\n",
    "    question = build_tagged_text(df_train.iloc[i].Utterance)\n",
    "    answer = build_answer(df_train.iloc[i].Emotion)\n",
    "    \n",
    "    data_file_train.append( formatting_fct(instruction, question, answer) )"
   ]
  },
  {
   "cell_type": "code",
   "execution_count": 15,
   "id": "181fe00c",
   "metadata": {},
   "outputs": [
    {
     "data": {
      "text/plain": [
       "9989"
      ]
     },
     "execution_count": 15,
     "metadata": {},
     "output_type": "execute_result"
    }
   ],
   "source": [
    "len(data_file_train)"
   ]
  },
  {
   "cell_type": "code",
   "execution_count": 16,
   "id": "f7a42377",
   "metadata": {},
   "outputs": [
    {
     "name": "stdout",
     "output_type": "stream",
     "text": [
      "{'instruction': '### You are an expert in Emotion Analysis. You are given an utterance from a tv show enclosed by <UT></UT> tags. Your task is to classify each utterance as one the following emotion classes: \"anger\", \"surprise\", \"sadness\", \"fear\", \"disgust\", \"joy\" or \"neutral\". You must return an emotion class in following JSON format: {\"emotion_class\": [\"emotion_class (str)\"]} where \"emotion_classes (str)\" is replaced by one of the following abbreviated emotion class labels: \"anger\", \"surprise\", \"sadness\", \"fear\", \"disgust\", \"joy\" or \"neutral\". \\n', 'input': '### Here is the utterance from a tv show: <UT>also I was the point person on my company’s transition from the KL-5 to GR-6 system.</UT>', 'output': '{\"emotion_class\": [\"neutral\"]}'}\n",
      "{'instruction': '### You are an expert in Emotion Analysis. You are given an utterance from a tv show enclosed by <UT></UT> tags. Your task is to classify each utterance as one the following emotion classes: \"anger\", \"surprise\", \"sadness\", \"fear\", \"disgust\", \"joy\" or \"neutral\". You must return an emotion class in following JSON format: {\"emotion_class\": [\"emotion_class (str)\"]} where \"emotion_classes (str)\" is replaced by one of the following abbreviated emotion class labels: \"anger\", \"surprise\", \"sadness\", \"fear\", \"disgust\", \"joy\" or \"neutral\". \\n', 'input': '### Here is the utterance from a tv show: <UT>You must’ve had your hands full.</UT>', 'output': '{\"emotion_class\": [\"neutral\"]}'}\n",
      "{'instruction': '### You are an expert in Emotion Analysis. You are given an utterance from a tv show enclosed by <UT></UT> tags. Your task is to classify each utterance as one the following emotion classes: \"anger\", \"surprise\", \"sadness\", \"fear\", \"disgust\", \"joy\" or \"neutral\". You must return an emotion class in following JSON format: {\"emotion_class\": [\"emotion_class (str)\"]} where \"emotion_classes (str)\" is replaced by one of the following abbreviated emotion class labels: \"anger\", \"surprise\", \"sadness\", \"fear\", \"disgust\", \"joy\" or \"neutral\". \\n', 'input': '### Here is the utterance from a tv show: <UT>That I did. That I did.</UT>', 'output': '{\"emotion_class\": [\"neutral\"]}'}\n",
      "{'instruction': '### You are an expert in Emotion Analysis. You are given an utterance from a tv show enclosed by <UT></UT> tags. Your task is to classify each utterance as one the following emotion classes: \"anger\", \"surprise\", \"sadness\", \"fear\", \"disgust\", \"joy\" or \"neutral\". You must return an emotion class in following JSON format: {\"emotion_class\": [\"emotion_class (str)\"]} where \"emotion_classes (str)\" is replaced by one of the following abbreviated emotion class labels: \"anger\", \"surprise\", \"sadness\", \"fear\", \"disgust\", \"joy\" or \"neutral\". \\n', 'input': '### Here is the utterance from a tv show: <UT>So let’s talk a little bit about your duties.</UT>', 'output': '{\"emotion_class\": [\"neutral\"]}'}\n",
      "{'instruction': '### You are an expert in Emotion Analysis. You are given an utterance from a tv show enclosed by <UT></UT> tags. Your task is to classify each utterance as one the following emotion classes: \"anger\", \"surprise\", \"sadness\", \"fear\", \"disgust\", \"joy\" or \"neutral\". You must return an emotion class in following JSON format: {\"emotion_class\": [\"emotion_class (str)\"]} where \"emotion_classes (str)\" is replaced by one of the following abbreviated emotion class labels: \"anger\", \"surprise\", \"sadness\", \"fear\", \"disgust\", \"joy\" or \"neutral\". \\n', 'input': '### Here is the utterance from a tv show: <UT>My duties?  All right.</UT>', 'output': '{\"emotion_class\": [\"surprise\"]}'}\n"
     ]
    }
   ],
   "source": [
    "for i in range(5):\n",
    "    print(data_file_train[i])"
   ]
  },
  {
   "cell_type": "code",
   "execution_count": 17,
   "id": "91becc82",
   "metadata": {},
   "outputs": [],
   "source": [
    "#df_test = df[df.split == 'TEST'].reset_index()\n",
    "\n",
    "data_file_test = []\n",
    "\n",
    "for index, _ in df_test.iterrows():\n",
    "    \n",
    "    i = index\n",
    "\n",
    "    instruction = build_instruction()\n",
    "    question = build_tagged_text(df_test.iloc[i].Utterance)\n",
    "    answer = build_answer(df_test.iloc[i].Emotion)\n",
    "    \n",
    "    data_file_test.append( formatting_fct(instruction, question, answer) )"
   ]
  },
  {
   "cell_type": "code",
   "execution_count": 18,
   "id": "96669b4f-b279-48ba-8b9b-d04f91d49c67",
   "metadata": {},
   "outputs": [
    {
     "data": {
      "text/plain": [
       "2610"
      ]
     },
     "execution_count": 18,
     "metadata": {},
     "output_type": "execute_result"
    }
   ],
   "source": [
    "len(data_file_test)"
   ]
  },
  {
   "cell_type": "code",
   "execution_count": 19,
   "id": "6e2c531d-d86d-4289-8f3d-d00fd56d0051",
   "metadata": {},
   "outputs": [
    {
     "name": "stdout",
     "output_type": "stream",
     "text": [
      "{'instruction': '### You are an expert in Emotion Analysis. You are given an utterance from a tv show enclosed by <UT></UT> tags. Your task is to classify each utterance as one the following emotion classes: \"anger\", \"surprise\", \"sadness\", \"fear\", \"disgust\", \"joy\" or \"neutral\". You must return an emotion class in following JSON format: {\"emotion_class\": [\"emotion_class (str)\"]} where \"emotion_classes (str)\" is replaced by one of the following abbreviated emotion class labels: \"anger\", \"surprise\", \"sadness\", \"fear\", \"disgust\", \"joy\" or \"neutral\". \\n', 'input': '### Here is the utterance from a tv show: <UT>Why do all you’re coffee mugs have numbers on the bottom?</UT>', 'output': '{\"emotion_class\": [\"surprise\"]}'}\n",
      "{'instruction': '### You are an expert in Emotion Analysis. You are given an utterance from a tv show enclosed by <UT></UT> tags. Your task is to classify each utterance as one the following emotion classes: \"anger\", \"surprise\", \"sadness\", \"fear\", \"disgust\", \"joy\" or \"neutral\". You must return an emotion class in following JSON format: {\"emotion_class\": [\"emotion_class (str)\"]} where \"emotion_classes (str)\" is replaced by one of the following abbreviated emotion class labels: \"anger\", \"surprise\", \"sadness\", \"fear\", \"disgust\", \"joy\" or \"neutral\". \\n', 'input': '### Here is the utterance from a tv show: <UT>Oh. That’s so Monica can keep track. That way if one on them is missing, she can be like, ‘Where’s number 27?!’</UT>', 'output': '{\"emotion_class\": [\"anger\"]}'}\n",
      "{'instruction': '### You are an expert in Emotion Analysis. You are given an utterance from a tv show enclosed by <UT></UT> tags. Your task is to classify each utterance as one the following emotion classes: \"anger\", \"surprise\", \"sadness\", \"fear\", \"disgust\", \"joy\" or \"neutral\". You must return an emotion class in following JSON format: {\"emotion_class\": [\"emotion_class (str)\"]} where \"emotion_classes (str)\" is replaced by one of the following abbreviated emotion class labels: \"anger\", \"surprise\", \"sadness\", \"fear\", \"disgust\", \"joy\" or \"neutral\". \\n', 'input': \"### Here is the utterance from a tv show: <UT>Y'know what?</UT>\", 'output': '{\"emotion_class\": [\"neutral\"]}'}\n",
      "{'instruction': '### You are an expert in Emotion Analysis. You are given an utterance from a tv show enclosed by <UT></UT> tags. Your task is to classify each utterance as one the following emotion classes: \"anger\", \"surprise\", \"sadness\", \"fear\", \"disgust\", \"joy\" or \"neutral\". You must return an emotion class in following JSON format: {\"emotion_class\": [\"emotion_class (str)\"]} where \"emotion_classes (str)\" is replaced by one of the following abbreviated emotion class labels: \"anger\", \"surprise\", \"sadness\", \"fear\", \"disgust\", \"joy\" or \"neutral\". \\n', 'input': '### Here is the utterance from a tv show: <UT>Come on, Lydia, you can do it.</UT>', 'output': '{\"emotion_class\": [\"neutral\"]}'}\n",
      "{'instruction': '### You are an expert in Emotion Analysis. You are given an utterance from a tv show enclosed by <UT></UT> tags. Your task is to classify each utterance as one the following emotion classes: \"anger\", \"surprise\", \"sadness\", \"fear\", \"disgust\", \"joy\" or \"neutral\". You must return an emotion class in following JSON format: {\"emotion_class\": [\"emotion_class (str)\"]} where \"emotion_classes (str)\" is replaced by one of the following abbreviated emotion class labels: \"anger\", \"surprise\", \"sadness\", \"fear\", \"disgust\", \"joy\" or \"neutral\". \\n', 'input': '### Here is the utterance from a tv show: <UT>Push!</UT>', 'output': '{\"emotion_class\": [\"joy\"]}'}\n"
     ]
    }
   ],
   "source": [
    "for i in range(5):\n",
    "    print(data_file_test[i])"
   ]
  },
  {
   "cell_type": "code",
   "execution_count": 20,
   "id": "039c7960",
   "metadata": {},
   "outputs": [],
   "source": [
    "#df_test = df[df.split == 'TEST'].reset_index()\n",
    "\n",
    "data_file_dev = []\n",
    "\n",
    "for index, _ in df_dev.iterrows():\n",
    "    \n",
    "    i = index\n",
    "\n",
    "    instruction = build_instruction()\n",
    "    question = build_tagged_text(df_dev.iloc[i].Utterance)\n",
    "    answer = build_answer(df_dev.iloc[i].Emotion)\n",
    "    \n",
    "    data_file_dev.append( formatting_fct(instruction, question, answer) )"
   ]
  },
  {
   "cell_type": "code",
   "execution_count": 21,
   "id": "e1687423",
   "metadata": {},
   "outputs": [
    {
     "data": {
      "text/plain": [
       "1109"
      ]
     },
     "execution_count": 21,
     "metadata": {},
     "output_type": "execute_result"
    }
   ],
   "source": [
    "len(data_file_dev)"
   ]
  },
  {
   "cell_type": "code",
   "execution_count": 22,
   "id": "ccca0eb4",
   "metadata": {},
   "outputs": [
    {
     "name": "stdout",
     "output_type": "stream",
     "text": [
      "{'instruction': '### You are an expert in Emotion Analysis. You are given an utterance from a tv show enclosed by <UT></UT> tags. Your task is to classify each utterance as one the following emotion classes: \"anger\", \"surprise\", \"sadness\", \"fear\", \"disgust\", \"joy\" or \"neutral\". You must return an emotion class in following JSON format: {\"emotion_class\": [\"emotion_class (str)\"]} where \"emotion_classes (str)\" is replaced by one of the following abbreviated emotion class labels: \"anger\", \"surprise\", \"sadness\", \"fear\", \"disgust\", \"joy\" or \"neutral\". \\n', 'input': '### Here is the utterance from a tv show: <UT>Oh my God, he’s lost it. He’s totally lost it.</UT>', 'output': '{\"emotion_class\": [\"sadness\"]}'}\n",
      "{'instruction': '### You are an expert in Emotion Analysis. You are given an utterance from a tv show enclosed by <UT></UT> tags. Your task is to classify each utterance as one the following emotion classes: \"anger\", \"surprise\", \"sadness\", \"fear\", \"disgust\", \"joy\" or \"neutral\". You must return an emotion class in following JSON format: {\"emotion_class\": [\"emotion_class (str)\"]} where \"emotion_classes (str)\" is replaced by one of the following abbreviated emotion class labels: \"anger\", \"surprise\", \"sadness\", \"fear\", \"disgust\", \"joy\" or \"neutral\". \\n', 'input': '### Here is the utterance from a tv show: <UT>What?</UT>', 'output': '{\"emotion_class\": [\"surprise\"]}'}\n",
      "{'instruction': '### You are an expert in Emotion Analysis. You are given an utterance from a tv show enclosed by <UT></UT> tags. Your task is to classify each utterance as one the following emotion classes: \"anger\", \"surprise\", \"sadness\", \"fear\", \"disgust\", \"joy\" or \"neutral\". You must return an emotion class in following JSON format: {\"emotion_class\": [\"emotion_class (str)\"]} where \"emotion_classes (str)\" is replaced by one of the following abbreviated emotion class labels: \"anger\", \"surprise\", \"sadness\", \"fear\", \"disgust\", \"joy\" or \"neutral\". \\n', 'input': '### Here is the utterance from a tv show: <UT>Or! Or, we could go to the bank, close our accounts and cut them off at the source.</UT>', 'output': '{\"emotion_class\": [\"neutral\"]}'}\n",
      "{'instruction': '### You are an expert in Emotion Analysis. You are given an utterance from a tv show enclosed by <UT></UT> tags. Your task is to classify each utterance as one the following emotion classes: \"anger\", \"surprise\", \"sadness\", \"fear\", \"disgust\", \"joy\" or \"neutral\". You must return an emotion class in following JSON format: {\"emotion_class\": [\"emotion_class (str)\"]} where \"emotion_classes (str)\" is replaced by one of the following abbreviated emotion class labels: \"anger\", \"surprise\", \"sadness\", \"fear\", \"disgust\", \"joy\" or \"neutral\". \\n', 'input': '### Here is the utterance from a tv show: <UT>You’re a genius!</UT>', 'output': '{\"emotion_class\": [\"joy\"]}'}\n",
      "{'instruction': '### You are an expert in Emotion Analysis. You are given an utterance from a tv show enclosed by <UT></UT> tags. Your task is to classify each utterance as one the following emotion classes: \"anger\", \"surprise\", \"sadness\", \"fear\", \"disgust\", \"joy\" or \"neutral\". You must return an emotion class in following JSON format: {\"emotion_class\": [\"emotion_class (str)\"]} where \"emotion_classes (str)\" is replaced by one of the following abbreviated emotion class labels: \"anger\", \"surprise\", \"sadness\", \"fear\", \"disgust\", \"joy\" or \"neutral\". \\n', 'input': '### Here is the utterance from a tv show: <UT>Aww, man, now we won’t be bank buddies!</UT>', 'output': '{\"emotion_class\": [\"sadness\"]}'}\n"
     ]
    }
   ],
   "source": [
    "for i in range(5):\n",
    "    print(data_file_dev[i])"
   ]
  },
  {
   "cell_type": "markdown",
   "id": "8bb35781",
   "metadata": {},
   "source": [
    "### Create and save JSON files"
   ]
  },
  {
   "cell_type": "code",
   "execution_count": 23,
   "id": "95f32abe",
   "metadata": {},
   "outputs": [],
   "source": [
    "dataset_dir.mkdir(parents=True, exist_ok=True)"
   ]
  },
  {
   "cell_type": "code",
   "execution_count": 24,
   "id": "01306b8c",
   "metadata": {},
   "outputs": [],
   "source": [
    "file_path = Path(dataset_dir) / \"meld_utterance_train.json\"\n",
    "\n",
    "with open(file_path, 'w') as file:\n",
    "    \n",
    "    json.dump(data_file_train, file)"
   ]
  },
  {
   "cell_type": "code",
   "execution_count": 25,
   "id": "9b6f5885",
   "metadata": {},
   "outputs": [],
   "source": [
    "file_path = Path(dataset_dir) / \"meld_utterance_test.json\"\n",
    "\n",
    "with open(file_path, 'w') as file:\n",
    "    \n",
    "    json.dump(data_file_test, file)"
   ]
  },
  {
   "cell_type": "code",
   "execution_count": 26,
   "id": "21f7e522",
   "metadata": {},
   "outputs": [],
   "source": [
    "file_path = Path(dataset_dir) / \"meld_utterance_dev.json\"\n",
    "\n",
    "with open(file_path, 'w') as file:\n",
    "    \n",
    "    json.dump(data_file_dev, file)"
   ]
  },
  {
   "cell_type": "code",
   "execution_count": null,
   "id": "6b48dab0",
   "metadata": {},
   "outputs": [],
   "source": []
  }
 ],
 "metadata": {
  "kernelspec": {
   "display_name": "Python 3 (ipykernel)",
   "language": "python",
   "name": "python3"
  },
  "language_info": {
   "codemirror_mode": {
    "name": "ipython",
    "version": 3
   },
   "file_extension": ".py",
   "mimetype": "text/x-python",
   "name": "python",
   "nbconvert_exporter": "python",
   "pygments_lexer": "ipython3",
   "version": "3.11.9"
  }
 },
 "nbformat": 4,
 "nbformat_minor": 5
}
